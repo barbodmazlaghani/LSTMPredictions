{
  "cells": [
    {
      "cell_type": "code",
      "execution_count": 1,
      "metadata": {
        "id": "6AFXakzVdtXB",
        "colab": {
          "base_uri": "https://localhost:8080/"
        },
        "outputId": "c895252b-c893-4091-b27b-8e6b173621c2"
      },
      "outputs": [
        {
          "output_type": "stream",
          "name": "stdout",
          "text": [
            "Mounted at /content/gdrive\n",
            "unzip:  cannot find or open DataAugumentation.zip, DataAugumentation.zip.zip or DataAugumentation.zip.ZIP.\n",
            "unzip:  cannot find or open data_aug_3_slices_with_repeated_cluster_5.zip, data_aug_3_slices_with_repeated_cluster_5.zip.zip or data_aug_3_slices_with_repeated_cluster_5.zip.ZIP.\n",
            "rm: cannot remove 'DataAugumentation.zip': No such file or directory\n",
            "rm: cannot remove 'data_aug_3_slices_with_repeated_cluster_5.zip': No such file or directory\n"
          ]
        }
      ],
      "source": [
        "from google.colab import drive\n",
        "drive.mount('/content/gdrive')\n",
        "\n",
        "\n",
        "# !cp \"/content/gdrive/My Drive/DataAugumentation.zip\" .\n",
        "#ADDED NEW SOURCE\n",
        "!cp \"/content/gdrive/My Drive/data_aug(3_slices_with_repeated)_acceleration_full_data_20000.zip\" .\n",
        "!unzip -qq DataAugumentation.zip\n",
        "!unzip -qq data_aug_3_slices_with_repeated_cluster_5.zip\n",
        "!rm DataAugumentation.zip\n",
        "!rm data_aug_3_slices_with_repeated_cluster_5.zip\n",
        "data_path = 'DataAugumentation'"
      ]
    },
    {
      "cell_type": "code",
      "execution_count": 3,
      "metadata": {
        "id": "7wEzhX_xIQ2i"
      },
      "outputs": [],
      "source": [
        "!unzip -qq '/content/data_aug(3_slices_with_repeated)_acceleration_full_data_20000.zip'"
      ]
    },
    {
      "cell_type": "code",
      "execution_count": 4,
      "metadata": {
        "colab": {
          "base_uri": "https://localhost:8080/"
        },
        "id": "_da74MVGeyeM",
        "outputId": "20901420-f495-4369-b00e-6242ed69f0c5"
      },
      "outputs": [
        {
          "output_type": "execute_result",
          "data": {
            "text/plain": [
              "['scaler_y.pkl']"
            ]
          },
          "metadata": {},
          "execution_count": 4
        }
      ],
      "source": [
        "import os\n",
        "import numpy as np\n",
        "import pandas as pd\n",
        "import matplotlib.pyplot as plt\n",
        "from tensorflow.keras.models import Sequential\n",
        "from tensorflow.keras.layers import LSTM, Dense, Dropout, Bidirectional\n",
        "from tensorflow.keras.optimizers import Adam\n",
        "from sklearn.preprocessing import MinMaxScaler\n",
        "from tensorflow.keras.preprocessing.sequence import pad_sequences\n",
        "from sklearn.metrics import mean_squared_error\n",
        "import joblib\n",
        "\n",
        "SEQUENCE_LENGTH = 600\n",
        "BATCH_SIZE = 64\n",
        "EPOCHS = 50\n",
        "LEARNING_RATE = 1e-4\n",
        "PLOT_SAVE_DIR = 'predicted_vs_actual_plots'\n",
        "\n",
        "\n",
        "def process_file(file_path):\n",
        "    df = pd.read_csv(file_path)\n",
        "\n",
        "    df['Time'] = df['Time'] - df['Time'].iloc[0]\n",
        "\n",
        "    df['Momentary fuel consumption'] = df['Trip fuel consumption'].diff().fillna(0)\n",
        "    df['Acceleration'] = df['Speed'].diff().fillna(0)\n",
        "\n",
        "    # features = df[['Engine speed', 'Throttle position', 'Accelerator pedal position', 'Speed']]\n",
        "    features = df[['Engine speed', 'Speed', 'slope', 'Acceleration']]\n",
        "    target = df['Momentary fuel consumption']\n",
        "\n",
        "    features = features.iloc[:SEQUENCE_LENGTH]\n",
        "    target = target.iloc[:SEQUENCE_LENGTH]\n",
        "    # min_value = df[['Engine speed', 'Speed', 'slope', 'Acceleration','Momentary fuel consumption']].min()\n",
        "    # max_value = df[['Engine speed', 'Speed', 'slope', 'Acceleration','Momentary fuel consumption']].max()\n",
        "    # print(min_value,'minn\\n\\n')\n",
        "    # print(max_value , 'maxx\\n\\n')\n",
        "    return features.values, target.values\n",
        "\n",
        "\n",
        "\n",
        "def pad_and_normalize(data, scaler, sequence_length=SEQUENCE_LENGTH):\n",
        "    padded_data = pad_sequences(data, maxlen=sequence_length, dtype='float32', padding='post', truncating='post')\n",
        "    # normalized_data = scaler.transform(padded_data.reshape(-1, padded_data.shape[-1])).reshape(padded_data.shape)\n",
        "    return normalized_data\n",
        "\n",
        "\n",
        "scaler_X = MinMaxScaler()\n",
        "scaler_y = MinMaxScaler()\n",
        "\n",
        "X_original = []\n",
        "y_original = []\n",
        "X_augmented = []\n",
        "y_augmented = []\n",
        "\n",
        "base_folder_path = '/content/'\n",
        "\n",
        "# CHANGED TO 6 FOR NEW DATA\n",
        "for i in range(6):\n",
        "  if i == 5 :\n",
        "    folder_path = os.path.join(base_folder_path, f'data_aug(3_slices_with_repeated)_cluster_{i}')\n",
        "    for filename in os.listdir(folder_path):\n",
        "        if filename.endswith('.csv'):\n",
        "            file_path = os.path.join(folder_path, filename)\n",
        "            features, target = process_file(file_path)\n",
        "\n",
        "            slices = filename.split('_')\n",
        "            is_original_trip = slices[2] == slices[6] and slices[6] == slices[10]\n",
        "\n",
        "            if is_original_trip:\n",
        "                X_original.append(features)\n",
        "                y_original.append(target)\n",
        "            else:\n",
        "                X_augmented.append(features)\n",
        "                y_augmented.append(target)\n",
        "\n",
        "# # Pad and convert lists to numpy arrays\n",
        "# # X_original = pad_sequences(X_original, maxlen=SEQUENCE_LENGTH, dtype='float32', padding='post', truncating='post')\n",
        "# # y_original = pad_sequences(y_original, maxlen=SEQUENCE_LENGTH, dtype='float32', padding='post', truncating='post')\n",
        "# X_augmented = pad_sequences(X_augmented, maxlen=SEQUENCE_LENGTH, dtype='float32', padding='post', truncating='post')\n",
        "# y_augmented = pad_sequences(y_augmented, maxlen=SEQUENCE_LENGTH, dtype='float32', padding='post', truncating='post')\n",
        "\n",
        "# num_test = int(0.05 * len(X_augmented))\n",
        "# X_test = X_augmented[:num_test]\n",
        "# y_test = y_augmented[:num_test]\n",
        "# X_train = X_augmented[num_test:]\n",
        "# y_train = y_augmented[num_test:]\n",
        "# Pad and convert lists to numpy arrays\n",
        "X_original = pad_sequences(X_original, maxlen=SEQUENCE_LENGTH, dtype='float32', padding='post', truncating='post')\n",
        "y_original = pad_sequences(y_original, maxlen=SEQUENCE_LENGTH, dtype='float32', padding='post', truncating='post')\n",
        "X_augmented = pad_sequences(X_augmented, maxlen=SEQUENCE_LENGTH, dtype='float32', padding='post', truncating='post')\n",
        "y_augmented = pad_sequences(y_augmented, maxlen=SEQUENCE_LENGTH, dtype='float32', padding='post', truncating='post')\n",
        "\n",
        "num_test = int(0.2 * len(X_original))\n",
        "X_test = X_original[:num_test]\n",
        "y_test = y_original[:num_test]\n",
        "X_train = np.concatenate([X_original[num_test:], X_augmented])\n",
        "y_train = np.concatenate([y_original[num_test:], y_augmented])\n",
        "\n",
        "scaler_X.fit(X_train.reshape(-1, X_train.shape[-1]))\n",
        "scaler_y.fit(y_train.reshape(-1, 1))\n",
        "\n",
        "joblib.dump(scaler_X, 'scaler_X.pkl')\n",
        "joblib.dump(scaler_y, 'scaler_y.pkl')"
      ]
    },
    {
      "cell_type": "code",
      "source": [
        "scaler_X.data_max_\n"
      ],
      "metadata": {
        "colab": {
          "base_uri": "https://localhost:8080/"
        },
        "id": "bB-tlRgrlguy",
        "outputId": "9777330d-29ea-4d10-9b19-836a60b41388"
      },
      "execution_count": 5,
      "outputs": [
        {
          "output_type": "execute_result",
          "data": {
            "text/plain": [
              "array([4.8560000e+03, 1.2500000e+02, 4.2990656e+00, 9.4000000e+01],\n",
              "      dtype=float32)"
            ]
          },
          "metadata": {},
          "execution_count": 5
        }
      ]
    },
    {
      "cell_type": "code",
      "source": [
        "scaler_X.data_min_"
      ],
      "metadata": {
        "colab": {
          "base_uri": "https://localhost:8080/"
        },
        "id": "NCTWD627aqnh",
        "outputId": "de6caf69-c2e5-4da2-de98-0571d2d0a801"
      },
      "execution_count": 6,
      "outputs": [
        {
          "output_type": "execute_result",
          "data": {
            "text/plain": [
              "array([  0.       ,   0.       ,  -5.8295965, -97.       ], dtype=float32)"
            ]
          },
          "metadata": {},
          "execution_count": 6
        }
      ]
    },
    {
      "cell_type": "code",
      "source": [
        "scaler_y.data_max_\n"
      ],
      "metadata": {
        "colab": {
          "base_uri": "https://localhost:8080/"
        },
        "id": "VpiRRKrOa3uB",
        "outputId": "6014bd50-65b6-4721-c5bc-38cabf17f73b"
      },
      "execution_count": 7,
      "outputs": [
        {
          "output_type": "execute_result",
          "data": {
            "text/plain": [
              "array([11882.25], dtype=float32)"
            ]
          },
          "metadata": {},
          "execution_count": 7
        }
      ]
    },
    {
      "cell_type": "code",
      "source": [
        "scaler_y.data_min_"
      ],
      "metadata": {
        "colab": {
          "base_uri": "https://localhost:8080/"
        },
        "id": "JIPemdPva5YD",
        "outputId": "65896ed7-fb60-42b0-ce7a-e04743b376d4"
      },
      "execution_count": 8,
      "outputs": [
        {
          "output_type": "execute_result",
          "data": {
            "text/plain": [
              "array([-1576.812], dtype=float32)"
            ]
          },
          "metadata": {},
          "execution_count": 8
        }
      ]
    },
    {
      "cell_type": "code",
      "source": [
        "print(X_augmented.shape)"
      ],
      "metadata": {
        "colab": {
          "base_uri": "https://localhost:8080/"
        },
        "id": "LvnIAhxqrqpF",
        "outputId": "edd358b6-b385-465b-9424-446eb8879652"
      },
      "execution_count": 9,
      "outputs": [
        {
          "output_type": "stream",
          "name": "stdout",
          "text": [
            "(20985, 600, 4)\n"
          ]
        }
      ]
    },
    {
      "cell_type": "code",
      "source": [
        "X_original"
      ],
      "metadata": {
        "colab": {
          "base_uri": "https://localhost:8080/"
        },
        "id": "bQqMBsmqa_up",
        "outputId": "d5db120c-08ae-4211-f6a0-c945e688747a"
      },
      "execution_count": 10,
      "outputs": [
        {
          "output_type": "execute_result",
          "data": {
            "text/plain": [
              "array([[[ 2.3510000e+03,  7.4000000e+01, -1.0218978e+00,  0.0000000e+00],\n",
              "        [ 2.3562500e+03,  7.4000000e+01, -1.0218978e+00,  0.0000000e+00],\n",
              "        [ 2.3582500e+03,  7.4000000e+01, -1.0218978e+00,  0.0000000e+00],\n",
              "        ...,\n",
              "        [ 2.3252500e+03,  9.8000000e+01, -1.1786371e+00,  1.0000000e+00],\n",
              "        [ 2.3482500e+03,  9.7000000e+01, -1.1786371e+00, -1.0000000e+00],\n",
              "        [ 2.3037500e+03,  9.7000000e+01, -1.1786371e+00,  0.0000000e+00]],\n",
              "\n",
              "       [[ 3.4060000e+03,  1.0800000e+02, -4.2492917e-01,  0.0000000e+00],\n",
              "        [ 3.4085000e+03,  1.0800000e+02, -4.2492917e-01,  0.0000000e+00],\n",
              "        [ 3.4205000e+03,  1.0900000e+02, -4.2492917e-01,  1.0000000e+00],\n",
              "        ...,\n",
              "        [ 1.7527500e+03,  7.4000000e+01,  6.1387354e-01,  2.0000000e+00],\n",
              "        [ 1.7810000e+03,  7.4000000e+01,  6.1387354e-01,  0.0000000e+00],\n",
              "        [ 1.7852500e+03,  7.5000000e+01,  6.1387354e-01,  1.0000000e+00]],\n",
              "\n",
              "       [[ 2.6627500e+03,  8.4000000e+01, -2.9965752e-01,  0.0000000e+00],\n",
              "        [ 2.6160000e+03,  8.3000000e+01, -2.9965752e-01, -1.0000000e+00],\n",
              "        [ 2.5877500e+03,  8.2000000e+01, -2.9965752e-01, -1.0000000e+00],\n",
              "        ...,\n",
              "        [ 2.4432500e+03,  7.7000000e+01,  9.9322802e-01, -1.0000000e+00],\n",
              "        [ 2.4325000e+03,  7.7000000e+01,  9.9322802e-01,  0.0000000e+00],\n",
              "        [ 2.4615000e+03,  7.8000000e+01,  9.9322802e-01,  1.0000000e+00]],\n",
              "\n",
              "       ...,\n",
              "\n",
              "       [[ 2.1660000e+03,  6.8000000e+01,  1.1563600e+00,  0.0000000e+00],\n",
              "        [ 2.1712500e+03,  6.9000000e+01,  1.1563600e+00,  1.0000000e+00],\n",
              "        [ 2.2095000e+03,  7.0000000e+01,  1.1563600e+00,  1.0000000e+00],\n",
              "        ...,\n",
              "        [ 2.1220000e+03,  9.1000000e+01, -1.1433238e+00, -1.0000000e+00],\n",
              "        [ 2.1585000e+03,  9.1000000e+01, -1.1433238e+00,  0.0000000e+00],\n",
              "        [ 2.1802500e+03,  9.2000000e+01, -1.1433238e+00,  1.0000000e+00]],\n",
              "\n",
              "       [[ 2.3027500e+03,  9.7000000e+01, -1.2186379e+00,  0.0000000e+00],\n",
              "        [ 2.2890000e+03,  9.6000000e+01, -1.2186379e+00, -1.0000000e+00],\n",
              "        [ 2.3092500e+03,  9.7000000e+01, -1.2186379e+00,  1.0000000e+00],\n",
              "        ...,\n",
              "        [ 2.0557500e+03,  4.4000000e+01, -1.2269939e+00,  5.0000000e+00],\n",
              "        [ 2.1917500e+03,  4.9000000e+01, -1.2269939e+00,  5.0000000e+00],\n",
              "        [ 2.1990000e+03,  4.9000000e+01, -1.2269939e+00,  0.0000000e+00]],\n",
              "\n",
              "       [[ 2.5310000e+03,  8.0000000e+01, -6.4220184e-01,  0.0000000e+00],\n",
              "        [ 2.5445000e+03,  8.0000000e+01, -6.4220184e-01,  0.0000000e+00],\n",
              "        [ 2.5485000e+03,  8.1000000e+01, -6.4220184e-01,  1.0000000e+00],\n",
              "        ...,\n",
              "        [ 2.0415000e+03,  8.6000000e+01, -1.2336160e+00,  0.0000000e+00],\n",
              "        [ 2.0232500e+03,  8.5000000e+01, -1.2336160e+00, -1.0000000e+00],\n",
              "        [ 2.0260000e+03,  8.5000000e+01, -1.2336160e+00,  0.0000000e+00]]],\n",
              "      dtype=float32)"
            ]
          },
          "metadata": {},
          "execution_count": 10
        }
      ]
    },
    {
      "cell_type": "code",
      "source": [
        "X_augmented"
      ],
      "metadata": {
        "colab": {
          "base_uri": "https://localhost:8080/"
        },
        "id": "6XcFMRyDbCuJ",
        "outputId": "d04bfab0-ecdb-459a-ad5f-633b5a813ccc"
      },
      "execution_count": 11,
      "outputs": [
        {
          "output_type": "execute_result",
          "data": {
            "text/plain": [
              "array([[[ 2.3510000e+03,  7.4000000e+01, -1.0218978e+00,  0.0000000e+00],\n",
              "        [ 2.3562500e+03,  7.4000000e+01, -1.0218978e+00,  0.0000000e+00],\n",
              "        [ 2.3582500e+03,  7.4000000e+01, -1.0218978e+00,  0.0000000e+00],\n",
              "        ...,\n",
              "        [ 2.0722500e+03,  8.7000000e+01, -6.1302680e-01,  0.0000000e+00],\n",
              "        [ 2.0765000e+03,  8.7000000e+01, -1.1433238e+00,  0.0000000e+00],\n",
              "        [ 2.0995000e+03,  8.8000000e+01, -1.1433238e+00,  1.0000000e+00]],\n",
              "\n",
              "       [[ 1.8650000e+03,  4.1000000e+01, -1.2152778e+00,  0.0000000e+00],\n",
              "        [ 1.8917500e+03,  4.2000000e+01, -1.2152778e+00,  1.0000000e+00],\n",
              "        [ 1.8460000e+03,  4.1000000e+01, -1.2152778e+00, -1.0000000e+00],\n",
              "        ...,\n",
              "        [ 0.0000000e+00,  0.0000000e+00,  0.0000000e+00,  0.0000000e+00],\n",
              "        [ 0.0000000e+00,  0.0000000e+00,  0.0000000e+00,  0.0000000e+00],\n",
              "        [ 0.0000000e+00,  0.0000000e+00,  0.0000000e+00,  0.0000000e+00]],\n",
              "\n",
              "       [[ 8.7700000e+02,  0.0000000e+00, -2.4154589e+00,  0.0000000e+00],\n",
              "        [ 9.0275000e+02,  0.0000000e+00, -2.4154589e+00,  0.0000000e+00],\n",
              "        [ 8.8925000e+02,  0.0000000e+00, -2.4154589e+00,  0.0000000e+00],\n",
              "        ...,\n",
              "        [ 0.0000000e+00,  0.0000000e+00,  0.0000000e+00,  0.0000000e+00],\n",
              "        [ 0.0000000e+00,  0.0000000e+00,  0.0000000e+00,  0.0000000e+00],\n",
              "        [ 0.0000000e+00,  0.0000000e+00,  0.0000000e+00,  0.0000000e+00]],\n",
              "\n",
              "       ...,\n",
              "\n",
              "       [[ 1.8650000e+03,  4.1000000e+01, -1.2152778e+00,  0.0000000e+00],\n",
              "        [ 1.8917500e+03,  4.2000000e+01, -1.2152778e+00,  1.0000000e+00],\n",
              "        [ 1.8460000e+03,  4.1000000e+01, -1.2152778e+00, -1.0000000e+00],\n",
              "        ...,\n",
              "        [ 1.9297500e+03,  8.1000000e+01,  9.9322802e-01,  0.0000000e+00],\n",
              "        [ 1.9242500e+03,  8.1000000e+01,  9.9322802e-01,  0.0000000e+00],\n",
              "        [ 1.9070000e+03,  8.0000000e+01,  9.9322802e-01, -1.0000000e+00]],\n",
              "\n",
              "       [[ 2.0055000e+03,  2.8000000e+01,  0.0000000e+00,  0.0000000e+00],\n",
              "        [ 1.7890000e+03,  2.5000000e+01,  0.0000000e+00, -3.0000000e+00],\n",
              "        [ 1.7047500e+03,  2.3000000e+01,  0.0000000e+00, -2.0000000e+00],\n",
              "        ...,\n",
              "        [ 7.9125000e+02,  0.0000000e+00, -5.0847459e-01,  0.0000000e+00],\n",
              "        [ 8.8450000e+02,  0.0000000e+00, -5.0847459e-01,  0.0000000e+00],\n",
              "        [ 8.8025000e+02,  0.0000000e+00, -5.0847459e-01,  0.0000000e+00]],\n",
              "\n",
              "       [[ 8.4050000e+02,  1.2000000e+01,  1.7182131e+00,  0.0000000e+00],\n",
              "        [ 7.3925000e+02,  1.5000000e+01,  1.7182131e+00,  3.0000000e+00],\n",
              "        [ 1.0745000e+03,  1.7000000e+01,  1.7182131e+00,  2.0000000e+00],\n",
              "        ...,\n",
              "        [ 3.5140000e+03,  7.8000000e+01, -1.8009479e+00, -1.0000000e+00],\n",
              "        [ 3.4640000e+03,  7.7000000e+01, -1.8009479e+00, -1.0000000e+00],\n",
              "        [ 3.3825000e+03,  7.5000000e+01, -1.8009479e+00, -2.0000000e+00]]],\n",
              "      dtype=float32)"
            ]
          },
          "metadata": {},
          "execution_count": 11
        }
      ]
    },
    {
      "cell_type": "code",
      "source": [
        "def pad_and_normalize(data, scaler, sequence_length=SEQUENCE_LENGTH):\n",
        "    padded_data = pad_sequences(data, maxlen=sequence_length, dtype='float32', padding='post', truncating='post')\n",
        "    # normalized_data = scaler.transform(padded_data.reshape(-1, padded_data.shape[-1])).reshape(padded_data.shape)\n",
        "    return padded_data"
      ],
      "metadata": {
        "id": "MIb6gl7Rbd0Q"
      },
      "execution_count": 12,
      "outputs": []
    },
    {
      "cell_type": "code",
      "execution_count": 13,
      "metadata": {
        "colab": {
          "base_uri": "https://localhost:8080/"
        },
        "id": "KIG0lqanf0UG",
        "outputId": "59ac12f2-ac1a-4cdc-ea1f-e99b7815ce8e"
      },
      "outputs": [
        {
          "output_type": "stream",
          "name": "stdout",
          "text": [
            "X_train_normalized shape: (21009, 600, 4)\n",
            "y_train_normalized shape: (21009, 600)\n",
            "X_test_normalized shape: (5, 600, 4)\n",
            "y_test_normalized shape: (5, 600)\n"
          ]
        }
      ],
      "source": [
        "X_train_normalized = pad_and_normalize(X_train, scaler_X)\n",
        "y_train_normalized = y_train\n",
        "X_test_normalized = pad_and_normalize(X_test, scaler_X)\n",
        "y_test_normalized = y_test\n",
        "\n",
        "print('X_train_normalized shape:', X_train_normalized.shape)\n",
        "print('y_train_normalized shape:', y_train_normalized.shape)\n",
        "print('X_test_normalized shape:', X_test_normalized.shape)\n",
        "print('y_test_normalized shape:', y_test_normalized.shape)\n"
      ]
    },
    {
      "cell_type": "markdown",
      "source": [
        "#Manual normalized"
      ],
      "metadata": {
        "id": "vnISbdP3gKZV"
      }
    },
    {
      "cell_type": "code",
      "source": [
        "min_val_x = [0,0,-10,-150]\n",
        "max_val_x = [8000,150,10,150]\n",
        "\n",
        "min_val_y = [-2000]\n",
        "max_val_y = [20000]\n",
        "\n",
        "for i in range(X_train_normalized.shape[-1]):\n",
        "  X_train_normalized[:,:,i] = (X_train_normalized[:,:,i] - min_val_x[i])/(max_val_x[i]-min_val_x[i])\n",
        "\n",
        "for i in range(X_test_normalized.shape[-1]):\n",
        "  X_test_normalized[:,:,i] = (X_test_normalized[:,:,i] - min_val_x[i])/(max_val_x[i]-min_val_x[i])\n",
        "\n",
        "y_train_normalized = (y_train-(-2000))/(20000 - (-2000))\n",
        "y_test_normalized = (y_test-(-2000))/(20000 - (-2000))\n"
      ],
      "metadata": {
        "id": "BvaF7O0jcPKo"
      },
      "execution_count": 14,
      "outputs": []
    },
    {
      "cell_type": "code",
      "source": [
        "X_train_normalized"
      ],
      "metadata": {
        "colab": {
          "base_uri": "https://localhost:8080/"
        },
        "id": "6EcsafeSbX6x",
        "outputId": "4ee8a7ed-4672-47ff-d54c-584da6b5e7f0"
      },
      "execution_count": 15,
      "outputs": [
        {
          "output_type": "execute_result",
          "data": {
            "text/plain": [
              "array([[[0.34809375, 0.41333333, 0.48086125, 0.5       ],\n",
              "        [0.3811875 , 0.44666666, 0.48086125, 0.51666665],\n",
              "        [0.40821874, 0.48      , 0.48086125, 0.51666665],\n",
              "        ...,\n",
              "        [0.2606875 , 0.43333334, 0.53072196, 0.5       ],\n",
              "        [0.25884375, 0.44      , 0.53072196, 0.50333333],\n",
              "        [0.25721875, 0.43333334, 0.53072196, 0.49666667]],\n",
              "\n",
              "       [[0.1874375 , 0.        , 0.703125  , 0.5       ],\n",
              "        [0.3055625 , 0.01333333, 0.703125  , 0.50666666],\n",
              "        [0.32496876, 0.02      , 0.703125  , 0.50333333],\n",
              "        ...,\n",
              "        [0.33846876, 0.4       , 0.4920509 , 0.5       ],\n",
              "        [0.334625  , 0.39333335, 0.4920509 , 0.49666667],\n",
              "        [0.334875  , 0.39333335, 0.4920509 , 0.5       ]],\n",
              "\n",
              "       [[0.32746875, 0.55333334, 0.5228484 , 0.5       ],\n",
              "        [0.32678124, 0.55333334, 0.5228484 , 0.5       ],\n",
              "        [0.33071876, 0.56      , 0.5228484 , 0.50333333],\n",
              "        ...,\n",
              "        [0.09403125, 0.        , 0.5485437 , 0.5       ],\n",
              "        [0.09465625, 0.        , 0.5485437 , 0.5       ],\n",
              "        [0.26353124, 0.        , 0.5485437 , 0.5       ]],\n",
              "\n",
              "       ...,\n",
              "\n",
              "       [[0.233125  , 0.27333334, 0.4392361 , 0.5       ],\n",
              "        [0.23646875, 0.28      , 0.4392361 , 0.50333333],\n",
              "        [0.23075   , 0.27333334, 0.4392361 , 0.49666667],\n",
              "        ...,\n",
              "        [0.24121875, 0.54      , 0.5496614 , 0.5       ],\n",
              "        [0.24053125, 0.54      , 0.5496614 , 0.5       ],\n",
              "        [0.238375  , 0.53333336, 0.5496614 , 0.49666667]],\n",
              "\n",
              "       [[0.2506875 , 0.18666667, 0.5       , 0.5       ],\n",
              "        [0.223625  , 0.16666667, 0.5       , 0.49      ],\n",
              "        [0.21309374, 0.15333334, 0.5       , 0.49333334],\n",
              "        ...,\n",
              "        [0.09890625, 0.        , 0.4745763 , 0.5       ],\n",
              "        [0.1105625 , 0.        , 0.4745763 , 0.5       ],\n",
              "        [0.11003125, 0.        , 0.4745763 , 0.5       ]],\n",
              "\n",
              "       [[0.1050625 , 0.08      , 0.5859107 , 0.5       ],\n",
              "        [0.09240625, 0.1       , 0.5859107 , 0.51      ],\n",
              "        [0.1343125 , 0.11333334, 0.5859107 , 0.50666666],\n",
              "        ...,\n",
              "        [0.43925   , 0.52      , 0.40995258, 0.49666667],\n",
              "        [0.433     , 0.5133333 , 0.40995258, 0.49666667],\n",
              "        [0.4228125 , 0.5       , 0.40995258, 0.49333334]]], dtype=float32)"
            ]
          },
          "metadata": {},
          "execution_count": 15
        }
      ]
    },
    {
      "cell_type": "code",
      "execution_count": 16,
      "metadata": {
        "colab": {
          "base_uri": "https://localhost:8080/"
        },
        "id": "H4x4L2ush3E5",
        "outputId": "69eb89a7-9cbe-42fe-8412-13176be8c7b5"
      },
      "outputs": [
        {
          "output_type": "stream",
          "name": "stderr",
          "text": [
            "/usr/local/lib/python3.10/dist-packages/keras/src/layers/rnn/rnn.py:204: UserWarning: Do not pass an `input_shape`/`input_dim` argument to a layer. When using Sequential models, prefer using an `Input(shape)` object as the first layer in the model instead.\n",
            "  super().__init__(**kwargs)\n"
          ]
        },
        {
          "output_type": "stream",
          "name": "stdout",
          "text": [
            "Epoch 1/200\n",
            "\u001b[1m263/263\u001b[0m \u001b[32m━━━━━━━━━━━━━━━━━━━━\u001b[0m\u001b[37m\u001b[0m \u001b[1m32s\u001b[0m 95ms/step - loss: 0.0257 - val_loss: 0.0043\n",
            "Epoch 2/200\n",
            "\u001b[1m263/263\u001b[0m \u001b[32m━━━━━━━━━━━━━━━━━━━━\u001b[0m\u001b[37m\u001b[0m \u001b[1m37s\u001b[0m 90ms/step - loss: 0.0063 - val_loss: 0.0034\n",
            "Epoch 3/200\n",
            "\u001b[1m263/263\u001b[0m \u001b[32m━━━━━━━━━━━━━━━━━━━━\u001b[0m\u001b[37m\u001b[0m \u001b[1m24s\u001b[0m 90ms/step - loss: 0.0057 - val_loss: 0.0033\n",
            "Epoch 4/200\n",
            "\u001b[1m263/263\u001b[0m \u001b[32m━━━━━━━━━━━━━━━━━━━━\u001b[0m\u001b[37m\u001b[0m \u001b[1m41s\u001b[0m 90ms/step - loss: 0.0053 - val_loss: 0.0033\n",
            "Epoch 5/200\n",
            "\u001b[1m263/263\u001b[0m \u001b[32m━━━━━━━━━━━━━━━━━━━━\u001b[0m\u001b[37m\u001b[0m \u001b[1m41s\u001b[0m 91ms/step - loss: 0.0051 - val_loss: 0.0032\n",
            "Epoch 6/200\n",
            "\u001b[1m263/263\u001b[0m \u001b[32m━━━━━━━━━━━━━━━━━━━━\u001b[0m\u001b[37m\u001b[0m \u001b[1m41s\u001b[0m 92ms/step - loss: 0.0049 - val_loss: 0.0032\n",
            "Epoch 7/200\n",
            "\u001b[1m263/263\u001b[0m \u001b[32m━━━━━━━━━━━━━━━━━━━━\u001b[0m\u001b[37m\u001b[0m \u001b[1m41s\u001b[0m 92ms/step - loss: 0.0047 - val_loss: 0.0032\n",
            "Epoch 8/200\n",
            "\u001b[1m263/263\u001b[0m \u001b[32m━━━━━━━━━━━━━━━━━━━━\u001b[0m\u001b[37m\u001b[0m \u001b[1m24s\u001b[0m 90ms/step - loss: 0.0045 - val_loss: 0.0032\n",
            "Epoch 9/200\n",
            "\u001b[1m263/263\u001b[0m \u001b[32m━━━━━━━━━━━━━━━━━━━━\u001b[0m\u001b[37m\u001b[0m \u001b[1m24s\u001b[0m 92ms/step - loss: 0.0043 - val_loss: 0.0031\n",
            "Epoch 10/200\n",
            "\u001b[1m263/263\u001b[0m \u001b[32m━━━━━━━━━━━━━━━━━━━━\u001b[0m\u001b[37m\u001b[0m \u001b[1m41s\u001b[0m 92ms/step - loss: 0.0041 - val_loss: 0.0031\n",
            "Epoch 11/200\n",
            "\u001b[1m263/263\u001b[0m \u001b[32m━━━━━━━━━━━━━━━━━━━━\u001b[0m\u001b[37m\u001b[0m \u001b[1m24s\u001b[0m 89ms/step - loss: 0.0040 - val_loss: 0.0031\n",
            "Epoch 12/200\n",
            "\u001b[1m263/263\u001b[0m \u001b[32m━━━━━━━━━━━━━━━━━━━━\u001b[0m\u001b[37m\u001b[0m \u001b[1m41s\u001b[0m 90ms/step - loss: 0.0039 - val_loss: 0.0031\n",
            "Epoch 13/200\n",
            "\u001b[1m263/263\u001b[0m \u001b[32m━━━━━━━━━━━━━━━━━━━━\u001b[0m\u001b[37m\u001b[0m \u001b[1m41s\u001b[0m 90ms/step - loss: 0.0038 - val_loss: 0.0030\n",
            "Epoch 14/200\n",
            "\u001b[1m263/263\u001b[0m \u001b[32m━━━━━━━━━━━━━━━━━━━━\u001b[0m\u001b[37m\u001b[0m \u001b[1m41s\u001b[0m 91ms/step - loss: 0.0037 - val_loss: 0.0030\n",
            "Epoch 15/200\n",
            "\u001b[1m263/263\u001b[0m \u001b[32m━━━━━━━━━━━━━━━━━━━━\u001b[0m\u001b[37m\u001b[0m \u001b[1m41s\u001b[0m 91ms/step - loss: 0.0036 - val_loss: 0.0030\n",
            "Epoch 16/200\n",
            "\u001b[1m263/263\u001b[0m \u001b[32m━━━━━━━━━━━━━━━━━━━━\u001b[0m\u001b[37m\u001b[0m \u001b[1m41s\u001b[0m 92ms/step - loss: 0.0036 - val_loss: 0.0030\n",
            "Epoch 17/200\n",
            "\u001b[1m263/263\u001b[0m \u001b[32m━━━━━━━━━━━━━━━━━━━━\u001b[0m\u001b[37m\u001b[0m \u001b[1m41s\u001b[0m 90ms/step - loss: 0.0035 - val_loss: 0.0030\n",
            "Epoch 18/200\n",
            "\u001b[1m263/263\u001b[0m \u001b[32m━━━━━━━━━━━━━━━━━━━━\u001b[0m\u001b[37m\u001b[0m \u001b[1m41s\u001b[0m 89ms/step - loss: 0.0034 - val_loss: 0.0030\n",
            "Epoch 19/200\n",
            "\u001b[1m263/263\u001b[0m \u001b[32m━━━━━━━━━━━━━━━━━━━━\u001b[0m\u001b[37m\u001b[0m \u001b[1m41s\u001b[0m 91ms/step - loss: 0.0034 - val_loss: 0.0030\n",
            "Epoch 20/200\n",
            "\u001b[1m263/263\u001b[0m \u001b[32m━━━━━━━━━━━━━━━━━━━━\u001b[0m\u001b[37m\u001b[0m \u001b[1m24s\u001b[0m 90ms/step - loss: 0.0034 - val_loss: 0.0029\n",
            "Epoch 21/200\n",
            "\u001b[1m263/263\u001b[0m \u001b[32m━━━━━━━━━━━━━━━━━━━━\u001b[0m\u001b[37m\u001b[0m \u001b[1m24s\u001b[0m 92ms/step - loss: 0.0033 - val_loss: 0.0029\n",
            "Epoch 22/200\n",
            "\u001b[1m263/263\u001b[0m \u001b[32m━━━━━━━━━━━━━━━━━━━━\u001b[0m\u001b[37m\u001b[0m \u001b[1m41s\u001b[0m 91ms/step - loss: 0.0032 - val_loss: 0.0029\n",
            "Epoch 23/200\n",
            "\u001b[1m263/263\u001b[0m \u001b[32m━━━━━━━━━━━━━━━━━━━━\u001b[0m\u001b[37m\u001b[0m \u001b[1m41s\u001b[0m 89ms/step - loss: 0.0032 - val_loss: 0.0029\n",
            "Epoch 24/200\n",
            "\u001b[1m263/263\u001b[0m \u001b[32m━━━━━━━━━━━━━━━━━━━━\u001b[0m\u001b[37m\u001b[0m \u001b[1m41s\u001b[0m 89ms/step - loss: 0.0032 - val_loss: 0.0029\n",
            "Epoch 25/200\n",
            "\u001b[1m263/263\u001b[0m \u001b[32m━━━━━━━━━━━━━━━━━━━━\u001b[0m\u001b[37m\u001b[0m \u001b[1m41s\u001b[0m 89ms/step - loss: 0.0032 - val_loss: 0.0029\n",
            "Epoch 26/200\n",
            "\u001b[1m263/263\u001b[0m \u001b[32m━━━━━━━━━━━━━━━━━━━━\u001b[0m\u001b[37m\u001b[0m \u001b[1m41s\u001b[0m 89ms/step - loss: 0.0031 - val_loss: 0.0028\n",
            "Epoch 27/200\n",
            "\u001b[1m263/263\u001b[0m \u001b[32m━━━━━━━━━━━━━━━━━━━━\u001b[0m\u001b[37m\u001b[0m \u001b[1m41s\u001b[0m 89ms/step - loss: 0.0031 - val_loss: 0.0028\n",
            "Epoch 28/200\n",
            "\u001b[1m263/263\u001b[0m \u001b[32m━━━━━━━━━━━━━━━━━━━━\u001b[0m\u001b[37m\u001b[0m \u001b[1m24s\u001b[0m 91ms/step - loss: 0.0031 - val_loss: 0.0028\n",
            "Epoch 29/200\n",
            "\u001b[1m263/263\u001b[0m \u001b[32m━━━━━━━━━━━━━━━━━━━━\u001b[0m\u001b[37m\u001b[0m \u001b[1m24s\u001b[0m 91ms/step - loss: 0.0031 - val_loss: 0.0028\n",
            "Epoch 30/200\n",
            "\u001b[1m263/263\u001b[0m \u001b[32m━━━━━━━━━━━━━━━━━━━━\u001b[0m\u001b[37m\u001b[0m \u001b[1m41s\u001b[0m 89ms/step - loss: 0.0030 - val_loss: 0.0028\n",
            "Epoch 31/200\n",
            "\u001b[1m263/263\u001b[0m \u001b[32m━━━━━━━━━━━━━━━━━━━━\u001b[0m\u001b[37m\u001b[0m \u001b[1m41s\u001b[0m 90ms/step - loss: 0.0030 - val_loss: 0.0028\n",
            "Epoch 32/200\n",
            "\u001b[1m263/263\u001b[0m \u001b[32m━━━━━━━━━━━━━━━━━━━━\u001b[0m\u001b[37m\u001b[0m \u001b[1m24s\u001b[0m 90ms/step - loss: 0.0030 - val_loss: 0.0028\n",
            "Epoch 33/200\n",
            "\u001b[1m263/263\u001b[0m \u001b[32m━━━━━━━━━━━━━━━━━━━━\u001b[0m\u001b[37m\u001b[0m \u001b[1m41s\u001b[0m 91ms/step - loss: 0.0030 - val_loss: 0.0027\n",
            "Epoch 34/200\n",
            "\u001b[1m263/263\u001b[0m \u001b[32m━━━━━━━━━━━━━━━━━━━━\u001b[0m\u001b[37m\u001b[0m \u001b[1m41s\u001b[0m 92ms/step - loss: 0.0029 - val_loss: 0.0027\n",
            "Epoch 35/200\n",
            "\u001b[1m263/263\u001b[0m \u001b[32m━━━━━━━━━━━━━━━━━━━━\u001b[0m\u001b[37m\u001b[0m \u001b[1m41s\u001b[0m 92ms/step - loss: 0.0029 - val_loss: 0.0027\n",
            "Epoch 36/200\n",
            "\u001b[1m263/263\u001b[0m \u001b[32m━━━━━━━━━━━━━━━━━━━━\u001b[0m\u001b[37m\u001b[0m \u001b[1m41s\u001b[0m 90ms/step - loss: 0.0029 - val_loss: 0.0027\n",
            "Epoch 37/200\n",
            "\u001b[1m263/263\u001b[0m \u001b[32m━━━━━━━━━━━━━━━━━━━━\u001b[0m\u001b[37m\u001b[0m \u001b[1m24s\u001b[0m 90ms/step - loss: 0.0029 - val_loss: 0.0027\n",
            "Epoch 38/200\n",
            "\u001b[1m263/263\u001b[0m \u001b[32m━━━━━━━━━━━━━━━━━━━━\u001b[0m\u001b[37m\u001b[0m \u001b[1m41s\u001b[0m 90ms/step - loss: 0.0028 - val_loss: 0.0027\n",
            "Epoch 39/200\n",
            "\u001b[1m263/263\u001b[0m \u001b[32m━━━━━━━━━━━━━━━━━━━━\u001b[0m\u001b[37m\u001b[0m \u001b[1m41s\u001b[0m 91ms/step - loss: 0.0028 - val_loss: 0.0027\n",
            "Epoch 40/200\n",
            "\u001b[1m263/263\u001b[0m \u001b[32m━━━━━━━━━━━━━━━━━━━━\u001b[0m\u001b[37m\u001b[0m \u001b[1m41s\u001b[0m 91ms/step - loss: 0.0028 - val_loss: 0.0026\n",
            "Epoch 41/200\n",
            "\u001b[1m263/263\u001b[0m \u001b[32m━━━━━━━━━━━━━━━━━━━━\u001b[0m\u001b[37m\u001b[0m \u001b[1m41s\u001b[0m 92ms/step - loss: 0.0028 - val_loss: 0.0026\n",
            "Epoch 42/200\n",
            "\u001b[1m263/263\u001b[0m \u001b[32m━━━━━━━━━━━━━━━━━━━━\u001b[0m\u001b[37m\u001b[0m \u001b[1m41s\u001b[0m 91ms/step - loss: 0.0028 - val_loss: 0.0026\n",
            "Epoch 43/200\n",
            "\u001b[1m263/263\u001b[0m \u001b[32m━━━━━━━━━━━━━━━━━━━━\u001b[0m\u001b[37m\u001b[0m \u001b[1m41s\u001b[0m 90ms/step - loss: 0.0028 - val_loss: 0.0026\n",
            "Epoch 44/200\n",
            "\u001b[1m263/263\u001b[0m \u001b[32m━━━━━━━━━━━━━━━━━━━━\u001b[0m\u001b[37m\u001b[0m \u001b[1m41s\u001b[0m 89ms/step - loss: 0.0028 - val_loss: 0.0026\n",
            "Epoch 45/200\n",
            "\u001b[1m263/263\u001b[0m \u001b[32m━━━━━━━━━━━━━━━━━━━━\u001b[0m\u001b[37m\u001b[0m \u001b[1m41s\u001b[0m 89ms/step - loss: 0.0027 - val_loss: 0.0026\n",
            "Epoch 46/200\n",
            "\u001b[1m263/263\u001b[0m \u001b[32m━━━━━━━━━━━━━━━━━━━━\u001b[0m\u001b[37m\u001b[0m \u001b[1m41s\u001b[0m 89ms/step - loss: 0.0027 - val_loss: 0.0026\n",
            "Epoch 47/200\n",
            "\u001b[1m263/263\u001b[0m \u001b[32m━━━━━━━━━━━━━━━━━━━━\u001b[0m\u001b[37m\u001b[0m \u001b[1m41s\u001b[0m 90ms/step - loss: 0.0027 - val_loss: 0.0026\n",
            "Epoch 48/200\n",
            "\u001b[1m263/263\u001b[0m \u001b[32m━━━━━━━━━━━━━━━━━━━━\u001b[0m\u001b[37m\u001b[0m \u001b[1m41s\u001b[0m 89ms/step - loss: 0.0027 - val_loss: 0.0025\n",
            "Epoch 49/200\n",
            "\u001b[1m263/263\u001b[0m \u001b[32m━━━━━━━━━━━━━━━━━━━━\u001b[0m\u001b[37m\u001b[0m \u001b[1m41s\u001b[0m 89ms/step - loss: 0.0027 - val_loss: 0.0025\n",
            "Epoch 50/200\n",
            "\u001b[1m263/263\u001b[0m \u001b[32m━━━━━━━━━━━━━━━━━━━━\u001b[0m\u001b[37m\u001b[0m \u001b[1m41s\u001b[0m 90ms/step - loss: 0.0027 - val_loss: 0.0025\n",
            "Epoch 51/200\n",
            "\u001b[1m263/263\u001b[0m \u001b[32m━━━━━━━━━━━━━━━━━━━━\u001b[0m\u001b[37m\u001b[0m \u001b[1m41s\u001b[0m 91ms/step - loss: 0.0027 - val_loss: 0.0025\n",
            "Epoch 52/200\n",
            "\u001b[1m263/263\u001b[0m \u001b[32m━━━━━━━━━━━━━━━━━━━━\u001b[0m\u001b[37m\u001b[0m \u001b[1m41s\u001b[0m 89ms/step - loss: 0.0026 - val_loss: 0.0025\n",
            "Epoch 53/200\n",
            "\u001b[1m263/263\u001b[0m \u001b[32m━━━━━━━━━━━━━━━━━━━━\u001b[0m\u001b[37m\u001b[0m \u001b[1m41s\u001b[0m 90ms/step - loss: 0.0026 - val_loss: 0.0025\n",
            "Epoch 54/200\n",
            "\u001b[1m263/263\u001b[0m \u001b[32m━━━━━━━━━━━━━━━━━━━━\u001b[0m\u001b[37m\u001b[0m \u001b[1m41s\u001b[0m 89ms/step - loss: 0.0026 - val_loss: 0.0025\n",
            "Epoch 55/200\n",
            "\u001b[1m263/263\u001b[0m \u001b[32m━━━━━━━━━━━━━━━━━━━━\u001b[0m\u001b[37m\u001b[0m \u001b[1m41s\u001b[0m 89ms/step - loss: 0.0026 - val_loss: 0.0025\n",
            "Epoch 56/200\n",
            "\u001b[1m263/263\u001b[0m \u001b[32m━━━━━━━━━━━━━━━━━━━━\u001b[0m\u001b[37m\u001b[0m \u001b[1m24s\u001b[0m 91ms/step - loss: 0.0026 - val_loss: 0.0025\n",
            "Epoch 57/200\n",
            "\u001b[1m263/263\u001b[0m \u001b[32m━━━━━━━━━━━━━━━━━━━━\u001b[0m\u001b[37m\u001b[0m \u001b[1m41s\u001b[0m 92ms/step - loss: 0.0026 - val_loss: 0.0025\n",
            "Epoch 58/200\n",
            "\u001b[1m263/263\u001b[0m \u001b[32m━━━━━━━━━━━━━━━━━━━━\u001b[0m\u001b[37m\u001b[0m \u001b[1m23s\u001b[0m 89ms/step - loss: 0.0026 - val_loss: 0.0024\n",
            "Epoch 59/200\n",
            "\u001b[1m263/263\u001b[0m \u001b[32m━━━━━━━━━━━━━━━━━━━━\u001b[0m\u001b[37m\u001b[0m \u001b[1m41s\u001b[0m 89ms/step - loss: 0.0026 - val_loss: 0.0024\n",
            "Epoch 60/200\n",
            "\u001b[1m263/263\u001b[0m \u001b[32m━━━━━━━━━━━━━━━━━━━━\u001b[0m\u001b[37m\u001b[0m \u001b[1m41s\u001b[0m 89ms/step - loss: 0.0026 - val_loss: 0.0024\n",
            "Epoch 61/200\n",
            "\u001b[1m263/263\u001b[0m \u001b[32m━━━━━━━━━━━━━━━━━━━━\u001b[0m\u001b[37m\u001b[0m \u001b[1m24s\u001b[0m 91ms/step - loss: 0.0026 - val_loss: 0.0024\n",
            "Epoch 62/200\n",
            "\u001b[1m263/263\u001b[0m \u001b[32m━━━━━━━━━━━━━━━━━━━━\u001b[0m\u001b[37m\u001b[0m \u001b[1m41s\u001b[0m 90ms/step - loss: 0.0026 - val_loss: 0.0024\n",
            "Epoch 63/200\n",
            "\u001b[1m263/263\u001b[0m \u001b[32m━━━━━━━━━━━━━━━━━━━━\u001b[0m\u001b[37m\u001b[0m \u001b[1m41s\u001b[0m 92ms/step - loss: 0.0025 - val_loss: 0.0024\n",
            "Epoch 64/200\n",
            "\u001b[1m263/263\u001b[0m \u001b[32m━━━━━━━━━━━━━━━━━━━━\u001b[0m\u001b[37m\u001b[0m \u001b[1m41s\u001b[0m 91ms/step - loss: 0.0025 - val_loss: 0.0024\n",
            "Epoch 65/200\n",
            "\u001b[1m263/263\u001b[0m \u001b[32m━━━━━━━━━━━━━━━━━━━━\u001b[0m\u001b[37m\u001b[0m \u001b[1m41s\u001b[0m 90ms/step - loss: 0.0025 - val_loss: 0.0024\n",
            "Epoch 66/200\n",
            "\u001b[1m263/263\u001b[0m \u001b[32m━━━━━━━━━━━━━━━━━━━━\u001b[0m\u001b[37m\u001b[0m \u001b[1m41s\u001b[0m 90ms/step - loss: 0.0025 - val_loss: 0.0024\n",
            "Epoch 67/200\n",
            "\u001b[1m263/263\u001b[0m \u001b[32m━━━━━━━━━━━━━━━━━━━━\u001b[0m\u001b[37m\u001b[0m \u001b[1m41s\u001b[0m 89ms/step - loss: 0.0025 - val_loss: 0.0024\n",
            "Epoch 68/200\n",
            "\u001b[1m263/263\u001b[0m \u001b[32m━━━━━━━━━━━━━━━━━━━━\u001b[0m\u001b[37m\u001b[0m \u001b[1m24s\u001b[0m 91ms/step - loss: 0.0025 - val_loss: 0.0024\n",
            "Epoch 69/200\n",
            "\u001b[1m263/263\u001b[0m \u001b[32m━━━━━━━━━━━━━━━━━━━━\u001b[0m\u001b[37m\u001b[0m \u001b[1m24s\u001b[0m 91ms/step - loss: 0.0025 - val_loss: 0.0024\n",
            "Epoch 70/200\n",
            "\u001b[1m263/263\u001b[0m \u001b[32m━━━━━━━━━━━━━━━━━━━━\u001b[0m\u001b[37m\u001b[0m \u001b[1m24s\u001b[0m 90ms/step - loss: 0.0025 - val_loss: 0.0023\n",
            "Epoch 71/200\n",
            "\u001b[1m263/263\u001b[0m \u001b[32m━━━━━━━━━━━━━━━━━━━━\u001b[0m\u001b[37m\u001b[0m \u001b[1m24s\u001b[0m 92ms/step - loss: 0.0024 - val_loss: 0.0023\n",
            "Epoch 72/200\n",
            "\u001b[1m263/263\u001b[0m \u001b[32m━━━━━━━━━━━━━━━━━━━━\u001b[0m\u001b[37m\u001b[0m \u001b[1m23s\u001b[0m 89ms/step - loss: 0.0025 - val_loss: 0.0023\n",
            "Epoch 73/200\n",
            "\u001b[1m263/263\u001b[0m \u001b[32m━━━━━━━━━━━━━━━━━━━━\u001b[0m\u001b[37m\u001b[0m \u001b[1m41s\u001b[0m 89ms/step - loss: 0.0024 - val_loss: 0.0023\n",
            "Epoch 74/200\n",
            "\u001b[1m263/263\u001b[0m \u001b[32m━━━━━━━━━━━━━━━━━━━━\u001b[0m\u001b[37m\u001b[0m \u001b[1m41s\u001b[0m 89ms/step - loss: 0.0024 - val_loss: 0.0023\n",
            "\u001b[1m263/263\u001b[0m \u001b[32m━━━━━━━━━━━━━━━━━━━━\u001b[0m\u001b[37m\u001b[0m \u001b[1m24s\u001b[0m 91ms/step - loss: 0.0024 - val_loss: 0.0023\n",
            "Epoch 76/200\n",
            "\u001b[1m263/263\u001b[0m \u001b[32m━━━━━━━━━━━━━━━━━━━━\u001b[0m\u001b[37m\u001b[0m \u001b[1m41s\u001b[0m 90ms/step - loss: 0.0024 - val_loss: 0.0023\n",
            "Epoch 77/200\n",
            "\u001b[1m263/263\u001b[0m \u001b[32m━━━━━━━━━━━━━━━━━━━━\u001b[0m\u001b[37m\u001b[0m \u001b[1m24s\u001b[0m 89ms/step - loss: 0.0024 - val_loss: 0.0023\n",
            "Epoch 78/200\n",
            "\u001b[1m263/263\u001b[0m \u001b[32m━━━━━━━━━━━━━━━━━━━━\u001b[0m\u001b[37m\u001b[0m \u001b[1m24s\u001b[0m 91ms/step - loss: 0.0024 - val_loss: 0.0023\n",
            "Epoch 79/200\n",
            "\u001b[1m263/263\u001b[0m \u001b[32m━━━━━━━━━━━━━━━━━━━━\u001b[0m\u001b[37m\u001b[0m \u001b[1m41s\u001b[0m 92ms/step - loss: 0.0024 - val_loss: 0.0023\n",
            "Epoch 80/200\n",
            "\u001b[1m263/263\u001b[0m \u001b[32m━━━━━━━━━━━━━━━━━━━━\u001b[0m\u001b[37m\u001b[0m \u001b[1m41s\u001b[0m 92ms/step - loss: 0.0024 - val_loss: 0.0023\n",
            "Epoch 81/200\n",
            "\u001b[1m263/263\u001b[0m \u001b[32m━━━━━━━━━━━━━━━━━━━━\u001b[0m\u001b[37m\u001b[0m \u001b[1m24s\u001b[0m 90ms/step - loss: 0.0024 - val_loss: 0.0023\n",
            "Epoch 82/200\n",
            "\u001b[1m263/263\u001b[0m \u001b[32m━━━━━━━━━━━━━━━━━━━━\u001b[0m\u001b[37m\u001b[0m \u001b[1m41s\u001b[0m 89ms/step - loss: 0.0024 - val_loss: 0.0023\n",
            "Epoch 83/200\n",
            "\u001b[1m263/263\u001b[0m \u001b[32m━━━━━━━━━━━━━━━━━━━━\u001b[0m\u001b[37m\u001b[0m \u001b[1m41s\u001b[0m 89ms/step - loss: 0.0024 - val_loss: 0.0022\n",
            "Epoch 84/200\n",
            "\u001b[1m263/263\u001b[0m \u001b[32m━━━━━━━━━━━━━━━━━━━━\u001b[0m\u001b[37m\u001b[0m \u001b[1m24s\u001b[0m 91ms/step - loss: 0.0024 - val_loss: 0.0022\n",
            "Epoch 85/200\n",
            "\u001b[1m263/263\u001b[0m \u001b[32m━━━━━━━━━━━━━━━━━━━━\u001b[0m\u001b[37m\u001b[0m \u001b[1m41s\u001b[0m 91ms/step - loss: 0.0024 - val_loss: 0.0022\n",
            "Epoch 86/200\n",
            "\u001b[1m263/263\u001b[0m \u001b[32m━━━━━━━━━━━━━━━━━━━━\u001b[0m\u001b[37m\u001b[0m \u001b[1m41s\u001b[0m 92ms/step - loss: 0.0023 - val_loss: 0.0022\n",
            "Epoch 87/200\n",
            "\u001b[1m263/263\u001b[0m \u001b[32m━━━━━━━━━━━━━━━━━━━━\u001b[0m\u001b[37m\u001b[0m \u001b[1m41s\u001b[0m 92ms/step - loss: 0.0023 - val_loss: 0.0022\n",
            "Epoch 88/200\n",
            "\u001b[1m263/263\u001b[0m \u001b[32m━━━━━━━━━━━━━━━━━━━━\u001b[0m\u001b[37m\u001b[0m \u001b[1m41s\u001b[0m 91ms/step - loss: 0.0023 - val_loss: 0.0022\n",
            "Epoch 89/200\n",
            "\u001b[1m263/263\u001b[0m \u001b[32m━━━━━━━━━━━━━━━━━━━━\u001b[0m\u001b[37m\u001b[0m \u001b[1m24s\u001b[0m 91ms/step - loss: 0.0023 - val_loss: 0.0022\n",
            "Epoch 90/200\n",
            "\u001b[1m263/263\u001b[0m \u001b[32m━━━━━━━━━━━━━━━━━━━━\u001b[0m\u001b[37m\u001b[0m \u001b[1m41s\u001b[0m 91ms/step - loss: 0.0023 - val_loss: 0.0022\n",
            "Epoch 91/200\n",
            "\u001b[1m263/263\u001b[0m \u001b[32m━━━━━━━━━━━━━━━━━━━━\u001b[0m\u001b[37m\u001b[0m \u001b[1m41s\u001b[0m 92ms/step - loss: 0.0023 - val_loss: 0.0022\n",
            "Epoch 92/200\n",
            "\u001b[1m263/263\u001b[0m \u001b[32m━━━━━━━━━━━━━━━━━━━━\u001b[0m\u001b[37m\u001b[0m \u001b[1m41s\u001b[0m 93ms/step - loss: 0.0023 - val_loss: 0.0022\n",
            "Epoch 93/200\n",
            "\u001b[1m263/263\u001b[0m \u001b[32m━━━━━━━━━━━━━━━━━━━━\u001b[0m\u001b[37m\u001b[0m \u001b[1m41s\u001b[0m 92ms/step - loss: 0.0023 - val_loss: 0.0022\n",
            "Epoch 94/200\n",
            "\u001b[1m263/263\u001b[0m \u001b[32m━━━━━━━━━━━━━━━━━━━━\u001b[0m\u001b[37m\u001b[0m \u001b[1m41s\u001b[0m 91ms/step - loss: 0.0023 - val_loss: 0.0022\n",
            "Epoch 95/200\n",
            "\u001b[1m263/263\u001b[0m \u001b[32m━━━━━━━━━━━━━━━━━━━━\u001b[0m\u001b[37m\u001b[0m \u001b[1m41s\u001b[0m 91ms/step - loss: 0.0023 - val_loss: 0.0022\n",
            "Epoch 96/200\n",
            "\u001b[1m263/263\u001b[0m \u001b[32m━━━━━━━━━━━━━━━━━━━━\u001b[0m\u001b[37m\u001b[0m \u001b[1m41s\u001b[0m 90ms/step - loss: 0.0023 - val_loss: 0.0022\n",
            "Epoch 97/200\n",
            "\u001b[1m263/263\u001b[0m \u001b[32m━━━━━━━━━━━━━━━━━━━━\u001b[0m\u001b[37m\u001b[0m \u001b[1m24s\u001b[0m 93ms/step - loss: 0.0023 - val_loss: 0.0022\n",
            "Epoch 98/200\n",
            "\u001b[1m263/263\u001b[0m \u001b[32m━━━━━━━━━━━━━━━━━━━━\u001b[0m\u001b[37m\u001b[0m \u001b[1m41s\u001b[0m 92ms/step - loss: 0.0022 - val_loss: 0.0021\n",
            "Epoch 99/200\n",
            "\u001b[1m263/263\u001b[0m \u001b[32m━━━━━━━━━━━━━━━━━━━━\u001b[0m\u001b[37m\u001b[0m \u001b[1m41s\u001b[0m 93ms/step - loss: 0.0023 - val_loss: 0.0021\n",
            "Epoch 100/200\n",
            "\u001b[1m263/263\u001b[0m \u001b[32m━━━━━━━━━━━━━━━━━━━━\u001b[0m\u001b[37m\u001b[0m \u001b[1m23s\u001b[0m 89ms/step - loss: 0.0023 - val_loss: 0.0021\n",
            "Epoch 101/200\n",
            "\u001b[1m263/263\u001b[0m \u001b[32m━━━━━━━━━━━━━━━━━━━━\u001b[0m\u001b[37m\u001b[0m \u001b[1m41s\u001b[0m 89ms/step - loss: 0.0022 - val_loss: 0.0021\n",
            "Epoch 102/200\n",
            "\u001b[1m263/263\u001b[0m \u001b[32m━━━━━━━━━━━━━━━━━━━━\u001b[0m\u001b[37m\u001b[0m \u001b[1m41s\u001b[0m 90ms/step - loss: 0.0022 - val_loss: 0.0021\n",
            "Epoch 103/200\n",
            "\u001b[1m263/263\u001b[0m \u001b[32m━━━━━━━━━━━━━━━━━━━━\u001b[0m\u001b[37m\u001b[0m \u001b[1m24s\u001b[0m 91ms/step - loss: 0.0022 - val_loss: 0.0021\n",
            "Epoch 104/200\n",
            "\u001b[1m263/263\u001b[0m \u001b[32m━━━━━━━━━━━━━━━━━━━━\u001b[0m\u001b[37m\u001b[0m \u001b[1m24s\u001b[0m 91ms/step - loss: 0.0022 - val_loss: 0.0021\n",
            "Epoch 105/200\n",
            "\u001b[1m263/263\u001b[0m \u001b[32m━━━━━━━━━━━━━━━━━━━━\u001b[0m\u001b[37m\u001b[0m \u001b[1m41s\u001b[0m 90ms/step - loss: 0.0022 - val_loss: 0.0021\n",
            "Epoch 106/200\n",
            "\u001b[1m263/263\u001b[0m \u001b[32m━━━━━━━━━━━━━━━━━━━━\u001b[0m\u001b[37m\u001b[0m \u001b[1m24s\u001b[0m 92ms/step - loss: 0.0022 - val_loss: 0.0021\n",
            "Epoch 107/200\n",
            "\u001b[1m263/263\u001b[0m \u001b[32m━━━━━━━━━━━━━━━━━━━━\u001b[0m\u001b[37m\u001b[0m \u001b[1m41s\u001b[0m 93ms/step - loss: 0.0022 - val_loss: 0.0021\n",
            "Epoch 108/200\n",
            "\u001b[1m263/263\u001b[0m \u001b[32m━━━━━━━━━━━━━━━━━━━━\u001b[0m\u001b[37m\u001b[0m \u001b[1m41s\u001b[0m 93ms/step - loss: 0.0022 - val_loss: 0.0021\n",
            "Epoch 109/200\n",
            "\u001b[1m263/263\u001b[0m \u001b[32m━━━━━━━━━━━━━━━━━━━━\u001b[0m\u001b[37m\u001b[0m \u001b[1m41s\u001b[0m 94ms/step - loss: 0.0022 - val_loss: 0.0021\n",
            "Epoch 110/200\n",
            "\u001b[1m263/263\u001b[0m \u001b[32m━━━━━━━━━━━━━━━━━━━━\u001b[0m\u001b[37m\u001b[0m \u001b[1m40s\u001b[0m 92ms/step - loss: 0.0022 - val_loss: 0.0020\n",
            "Epoch 111/200\n",
            "\u001b[1m263/263\u001b[0m \u001b[32m━━━━━━━━━━━━━━━━━━━━\u001b[0m\u001b[37m\u001b[0m \u001b[1m41s\u001b[0m 92ms/step - loss: 0.0022 - val_loss: 0.0020\n",
            "Epoch 112/200\n",
            "\u001b[1m263/263\u001b[0m \u001b[32m━━━━━━━━━━━━━━━━━━━━\u001b[0m\u001b[37m\u001b[0m \u001b[1m24s\u001b[0m 92ms/step - loss: 0.0021 - val_loss: 0.0020\n",
            "Epoch 113/200\n",
            "\u001b[1m263/263\u001b[0m \u001b[32m━━━━━━━━━━━━━━━━━━━━\u001b[0m\u001b[37m\u001b[0m \u001b[1m25s\u001b[0m 94ms/step - loss: 0.0021 - val_loss: 0.0020\n",
            "Epoch 114/200\n",
            "\u001b[1m263/263\u001b[0m \u001b[32m━━━━━━━━━━━━━━━━━━━━\u001b[0m\u001b[37m\u001b[0m \u001b[1m41s\u001b[0m 92ms/step - loss: 0.0021 - val_loss: 0.0020\n",
            "Epoch 115/200\n",
            "\u001b[1m263/263\u001b[0m \u001b[32m━━━━━━━━━━━━━━━━━━━━\u001b[0m\u001b[37m\u001b[0m \u001b[1m40s\u001b[0m 90ms/step - loss: 0.0021 - val_loss: 0.0020\n",
            "Epoch 116/200\n",
            "\u001b[1m263/263\u001b[0m \u001b[32m━━━━━━━━━━━━━━━━━━━━\u001b[0m\u001b[37m\u001b[0m \u001b[1m24s\u001b[0m 92ms/step - loss: 0.0021 - val_loss: 0.0020\n",
            "Epoch 117/200\n",
            "\u001b[1m263/263\u001b[0m \u001b[32m━━━━━━━━━━━━━━━━━━━━\u001b[0m\u001b[37m\u001b[0m \u001b[1m24s\u001b[0m 93ms/step - loss: 0.0021 - val_loss: 0.0020\n",
            "Epoch 118/200\n",
            "\u001b[1m263/263\u001b[0m \u001b[32m━━━━━━━━━━━━━━━━━━━━\u001b[0m\u001b[37m\u001b[0m \u001b[1m41s\u001b[0m 91ms/step - loss: 0.0021 - val_loss: 0.0020\n",
            "Epoch 119/200\n",
            "\u001b[1m263/263\u001b[0m \u001b[32m━━━━━━━━━━━━━━━━━━━━\u001b[0m\u001b[37m\u001b[0m \u001b[1m41s\u001b[0m 91ms/step - loss: 0.0021 - val_loss: 0.0020\n",
            "Epoch 120/200\n",
            "\u001b[1m263/263\u001b[0m \u001b[32m━━━━━━━━━━━━━━━━━━━━\u001b[0m\u001b[37m\u001b[0m \u001b[1m41s\u001b[0m 91ms/step - loss: 0.0021 - val_loss: 0.0020\n",
            "Epoch 121/200\n",
            "\u001b[1m263/263\u001b[0m \u001b[32m━━━━━━━━━━━━━━━━━━━━\u001b[0m\u001b[37m\u001b[0m \u001b[1m41s\u001b[0m 90ms/step - loss: 0.0021 - val_loss: 0.0020\n",
            "Epoch 122/200\n",
            "\u001b[1m263/263\u001b[0m \u001b[32m━━━━━━━━━━━━━━━━━━━━\u001b[0m\u001b[37m\u001b[0m \u001b[1m41s\u001b[0m 90ms/step - loss: 0.0021 - val_loss: 0.0020\n",
            "Epoch 123/200\n",
            "\u001b[1m263/263\u001b[0m \u001b[32m━━━━━━━━━━━━━━━━━━━━\u001b[0m\u001b[37m\u001b[0m \u001b[1m41s\u001b[0m 90ms/step - loss: 0.0021 - val_loss: 0.0019\n",
            "Epoch 124/200\n",
            "\u001b[1m263/263\u001b[0m \u001b[32m━━━━━━━━━━━━━━━━━━━━\u001b[0m\u001b[37m\u001b[0m \u001b[1m41s\u001b[0m 90ms/step - loss: 0.0021 - val_loss: 0.0019\n",
            "Epoch 125/200\n",
            "\u001b[1m263/263\u001b[0m \u001b[32m━━━━━━━━━━━━━━━━━━━━\u001b[0m\u001b[37m\u001b[0m \u001b[1m41s\u001b[0m 89ms/step - loss: 0.0020 - val_loss: 0.0019\n",
            "Epoch 126/200\n",
            "\u001b[1m263/263\u001b[0m \u001b[32m━━━━━━━━━━━━━━━━━━━━\u001b[0m\u001b[37m\u001b[0m \u001b[1m41s\u001b[0m 89ms/step - loss: 0.0020 - val_loss: 0.0019\n",
            "Epoch 127/200\n",
            "\u001b[1m263/263\u001b[0m \u001b[32m━━━━━━━━━━━━━━━━━━━━\u001b[0m\u001b[37m\u001b[0m \u001b[1m41s\u001b[0m 90ms/step - loss: 0.0020 - val_loss: 0.0019\n",
            "Epoch 128/200\n",
            "\u001b[1m263/263\u001b[0m \u001b[32m━━━━━━━━━━━━━━━━━━━━\u001b[0m\u001b[37m\u001b[0m \u001b[1m41s\u001b[0m 90ms/step - loss: 0.0020 - val_loss: 0.0019\n",
            "Epoch 129/200\n",
            "\u001b[1m263/263\u001b[0m \u001b[32m━━━━━━━━━━━━━━━━━━━━\u001b[0m\u001b[37m\u001b[0m \u001b[1m24s\u001b[0m 92ms/step - loss: 0.0020 - val_loss: 0.0019\n",
            "Epoch 130/200\n",
            "\u001b[1m263/263\u001b[0m \u001b[32m━━━━━━━━━━━━━━━━━━━━\u001b[0m\u001b[37m\u001b[0m \u001b[1m41s\u001b[0m 93ms/step - loss: 0.0020 - val_loss: 0.0019\n",
            "Epoch 131/200\n",
            "\u001b[1m263/263\u001b[0m \u001b[32m━━━━━━━━━━━━━━━━━━━━\u001b[0m\u001b[37m\u001b[0m \u001b[1m41s\u001b[0m 94ms/step - loss: 0.0020 - val_loss: 0.0019\n",
            "Epoch 132/200\n",
            "\u001b[1m263/263\u001b[0m \u001b[32m━━━━━━━━━━━━━━━━━━━━\u001b[0m\u001b[37m\u001b[0m \u001b[1m40s\u001b[0m 92ms/step - loss: 0.0020 - val_loss: 0.0019\n",
            "Epoch 133/200\n",
            "\u001b[1m263/263\u001b[0m \u001b[32m━━━━━━━━━━━━━━━━━━━━\u001b[0m\u001b[37m\u001b[0m \u001b[1m24s\u001b[0m 91ms/step - loss: 0.0020 - val_loss: 0.0019\n",
            "Epoch 134/200\n",
            "\u001b[1m263/263\u001b[0m \u001b[32m━━━━━━━━━━━━━━━━━━━━\u001b[0m\u001b[37m\u001b[0m \u001b[1m24s\u001b[0m 93ms/step - loss: 0.0020 - val_loss: 0.0019\n",
            "Epoch 135/200\n",
            "\u001b[1m263/263\u001b[0m \u001b[32m━━━━━━━━━━━━━━━━━━━━\u001b[0m\u001b[37m\u001b[0m \u001b[1m24s\u001b[0m 91ms/step - loss: 0.0020 - val_loss: 0.0019\n",
            "Epoch 136/200\n",
            "\u001b[1m263/263\u001b[0m \u001b[32m━━━━━━━━━━━━━━━━━━━━\u001b[0m\u001b[37m\u001b[0m \u001b[1m41s\u001b[0m 90ms/step - loss: 0.0020 - val_loss: 0.0019\n",
            "Epoch 137/200\n",
            "\u001b[1m263/263\u001b[0m \u001b[32m━━━━━━━━━━━━━━━━━━━━\u001b[0m\u001b[37m\u001b[0m \u001b[1m24s\u001b[0m 92ms/step - loss: 0.0020 - val_loss: 0.0019\n",
            "Epoch 138/200\n",
            "\u001b[1m263/263\u001b[0m \u001b[32m━━━━━━━━━━━━━━━━━━━━\u001b[0m\u001b[37m\u001b[0m \u001b[1m41s\u001b[0m 93ms/step - loss: 0.0020 - val_loss: 0.0019\n",
            "Epoch 139/200\n",
            "\u001b[1m263/263\u001b[0m \u001b[32m━━━━━━━━━━━━━━━━━━━━\u001b[0m\u001b[37m\u001b[0m \u001b[1m40s\u001b[0m 92ms/step - loss: 0.0020 - val_loss: 0.0019\n",
            "Epoch 140/200\n",
            "\u001b[1m263/263\u001b[0m \u001b[32m━━━━━━━━━━━━━━━━━━━━\u001b[0m\u001b[37m\u001b[0m \u001b[1m41s\u001b[0m 91ms/step - loss: 0.0020 - val_loss: 0.0019\n",
            "Epoch 141/200\n",
            "\u001b[1m263/263\u001b[0m \u001b[32m━━━━━━━━━━━━━━━━━━━━\u001b[0m\u001b[37m\u001b[0m \u001b[1m41s\u001b[0m 91ms/step - loss: 0.0020 - val_loss: 0.0019\n",
            "Epoch 142/200\n",
            "\u001b[1m263/263\u001b[0m \u001b[32m━━━━━━━━━━━━━━━━━━━━\u001b[0m\u001b[37m\u001b[0m \u001b[1m41s\u001b[0m 92ms/step - loss: 0.0020 - val_loss: 0.0018\n",
            "Epoch 143/200\n",
            "\u001b[1m263/263\u001b[0m \u001b[32m━━━━━━━━━━━━━━━━━━━━\u001b[0m\u001b[37m\u001b[0m \u001b[1m24s\u001b[0m 92ms/step - loss: 0.0019 - val_loss: 0.0018\n",
            "Epoch 144/200\n",
            "\u001b[1m263/263\u001b[0m \u001b[32m━━━━━━━━━━━━━━━━━━━━\u001b[0m\u001b[37m\u001b[0m \u001b[1m42s\u001b[0m 95ms/step - loss: 0.0020 - val_loss: 0.0018\n",
            "Epoch 145/200\n",
            "\u001b[1m263/263\u001b[0m \u001b[32m━━━━━━━━━━━━━━━━━━━━\u001b[0m\u001b[37m\u001b[0m \u001b[1m41s\u001b[0m 93ms/step - loss: 0.0020 - val_loss: 0.0018\n",
            "Epoch 146/200\n",
            "\u001b[1m263/263\u001b[0m \u001b[32m━━━━━━━━━━━━━━━━━━━━\u001b[0m\u001b[37m\u001b[0m \u001b[1m41s\u001b[0m 92ms/step - loss: 0.0019 - val_loss: 0.0018\n",
            "Epoch 147/200\n",
            "\u001b[1m263/263\u001b[0m \u001b[32m━━━━━━━━━━━━━━━━━━━━\u001b[0m\u001b[37m\u001b[0m \u001b[1m41s\u001b[0m 92ms/step - loss: 0.0019 - val_loss: 0.0018\n",
            "Epoch 148/200\n",
            "\u001b[1m263/263\u001b[0m \u001b[32m━━━━━━━━━━━━━━━━━━━━\u001b[0m\u001b[37m\u001b[0m \u001b[1m41s\u001b[0m 90ms/step - loss: 0.0019 - val_loss: 0.0018\n",
            "Epoch 149/200\n",
            "\u001b[1m263/263\u001b[0m \u001b[32m━━━━━━━━━━━━━━━━━━━━\u001b[0m\u001b[37m\u001b[0m \u001b[1m41s\u001b[0m 90ms/step - loss: 0.0019 - val_loss: 0.0018\n",
            "Epoch 150/200\n",
            "\u001b[1m263/263\u001b[0m \u001b[32m━━━━━━━━━━━━━━━━━━━━\u001b[0m\u001b[37m\u001b[0m \u001b[1m41s\u001b[0m 90ms/step - loss: 0.0019 - val_loss: 0.0018\n",
            "Epoch 151/200\n",
            "\u001b[1m263/263\u001b[0m \u001b[32m━━━━━━━━━━━━━━━━━━━━\u001b[0m\u001b[37m\u001b[0m \u001b[1m41s\u001b[0m 90ms/step - loss: 0.0019 - val_loss: 0.0018\n",
            "Epoch 152/200\n",
            "\u001b[1m263/263\u001b[0m \u001b[32m━━━━━━━━━━━━━━━━━━━━\u001b[0m\u001b[37m\u001b[0m \u001b[1m41s\u001b[0m 89ms/step - loss: 0.0019 - val_loss: 0.0018\n",
            "Epoch 153/200\n",
            "\u001b[1m263/263\u001b[0m \u001b[32m━━━━━━━━━━━━━━━━━━━━\u001b[0m\u001b[37m\u001b[0m \u001b[1m24s\u001b[0m 92ms/step - loss: 0.0019 - val_loss: 0.0018\n",
            "Epoch 154/200\n",
            "\u001b[1m263/263\u001b[0m \u001b[32m━━━━━━━━━━━━━━━━━━━━\u001b[0m\u001b[37m\u001b[0m \u001b[1m41s\u001b[0m 92ms/step - loss: 0.0019 - val_loss: 0.0018\n",
            "Epoch 155/200\n",
            "\u001b[1m263/263\u001b[0m \u001b[32m━━━━━━━━━━━━━━━━━━━━\u001b[0m\u001b[37m\u001b[0m \u001b[1m41s\u001b[0m 93ms/step - loss: 0.0019 - val_loss: 0.0018\n",
            "Epoch 156/200\n",
            "\u001b[1m263/263\u001b[0m \u001b[32m━━━━━━━━━━━━━━━━━━━━\u001b[0m\u001b[37m\u001b[0m \u001b[1m41s\u001b[0m 92ms/step - loss: 0.0019 - val_loss: 0.0018\n",
            "Epoch 157/200\n",
            "\u001b[1m263/263\u001b[0m \u001b[32m━━━━━━━━━━━━━━━━━━━━\u001b[0m\u001b[37m\u001b[0m \u001b[1m41s\u001b[0m 91ms/step - loss: 0.0019 - val_loss: 0.0018\n",
            "Epoch 158/200\n",
            "\u001b[1m263/263\u001b[0m \u001b[32m━━━━━━━━━━━━━━━━━━━━\u001b[0m\u001b[37m\u001b[0m \u001b[1m41s\u001b[0m 90ms/step - loss: 0.0019 - val_loss: 0.0018\n",
            "Epoch 159/200\n",
            "\u001b[1m263/263\u001b[0m \u001b[32m━━━━━━━━━━━━━━━━━━━━\u001b[0m\u001b[37m\u001b[0m \u001b[1m24s\u001b[0m 91ms/step - loss: 0.0019 - val_loss: 0.0018\n",
            "Epoch 160/200\n",
            "\u001b[1m263/263\u001b[0m \u001b[32m━━━━━━━━━━━━━━━━━━━━\u001b[0m\u001b[37m\u001b[0m \u001b[1m41s\u001b[0m 91ms/step - loss: 0.0019 - val_loss: 0.0018\n",
            "Epoch 161/200\n",
            "\u001b[1m263/263\u001b[0m \u001b[32m━━━━━━━━━━━━━━━━━━━━\u001b[0m\u001b[37m\u001b[0m \u001b[1m41s\u001b[0m 93ms/step - loss: 0.0019 - val_loss: 0.0018\n",
            "Epoch 162/200\n",
            "\u001b[1m263/263\u001b[0m \u001b[32m━━━━━━━━━━━━━━━━━━━━\u001b[0m\u001b[37m\u001b[0m \u001b[1m24s\u001b[0m 89ms/step - loss: 0.0019 - val_loss: 0.0018\n",
            "Epoch 163/200\n",
            "\u001b[1m263/263\u001b[0m \u001b[32m━━━━━━━━━━━━━━━━━━━━\u001b[0m\u001b[37m\u001b[0m \u001b[1m41s\u001b[0m 90ms/step - loss: 0.0019 - val_loss: 0.0018\n",
            "Epoch 164/200\n",
            "\u001b[1m263/263\u001b[0m \u001b[32m━━━━━━━━━━━━━━━━━━━━\u001b[0m\u001b[37m\u001b[0m \u001b[1m41s\u001b[0m 90ms/step - loss: 0.0019 - val_loss: 0.0018\n",
            "Epoch 165/200\n",
            "\u001b[1m263/263\u001b[0m \u001b[32m━━━━━━━━━━━━━━━━━━━━\u001b[0m\u001b[37m\u001b[0m \u001b[1m41s\u001b[0m 90ms/step - loss: 0.0019 - val_loss: 0.0018\n",
            "Epoch 166/200\n",
            "\u001b[1m263/263\u001b[0m \u001b[32m━━━━━━━━━━━━━━━━━━━━\u001b[0m\u001b[37m\u001b[0m \u001b[1m41s\u001b[0m 90ms/step - loss: 0.0019 - val_loss: 0.0018\n",
            "Epoch 167/200\n",
            "\u001b[1m263/263\u001b[0m \u001b[32m━━━━━━━━━━━━━━━━━━━━\u001b[0m\u001b[37m\u001b[0m \u001b[1m41s\u001b[0m 90ms/step - loss: 0.0019 - val_loss: 0.0018\n",
            "Epoch 168/200\n",
            "\u001b[1m263/263\u001b[0m \u001b[32m━━━━━━━━━━━━━━━━━━━━\u001b[0m\u001b[37m\u001b[0m \u001b[1m41s\u001b[0m 90ms/step - loss: 0.0019 - val_loss: 0.0017\n",
            "Epoch 169/200\n",
            "\u001b[1m263/263\u001b[0m \u001b[32m━━━━━━━━━━━━━━━━━━━━\u001b[0m\u001b[37m\u001b[0m \u001b[1m41s\u001b[0m 90ms/step - loss: 0.0019 - val_loss: 0.0017\n",
            "Epoch 170/200\n",
            "\u001b[1m263/263\u001b[0m \u001b[32m━━━━━━━━━━━━━━━━━━━━\u001b[0m\u001b[37m\u001b[0m \u001b[1m24s\u001b[0m 91ms/step - loss: 0.0018 - val_loss: 0.0017\n",
            "Epoch 171/200\n",
            "\u001b[1m263/263\u001b[0m \u001b[32m━━━━━━━━━━━━━━━━━━━━\u001b[0m\u001b[37m\u001b[0m \u001b[1m42s\u001b[0m 93ms/step - loss: 0.0019 - val_loss: 0.0017\n",
            "Epoch 172/200\n",
            "\u001b[1m263/263\u001b[0m \u001b[32m━━━━━━━━━━━━━━━━━━━━\u001b[0m\u001b[37m\u001b[0m \u001b[1m24s\u001b[0m 89ms/step - loss: 0.0018 - val_loss: 0.0017\n",
            "Epoch 173/200\n",
            "\u001b[1m263/263\u001b[0m \u001b[32m━━━━━━━━━━━━━━━━━━━━\u001b[0m\u001b[37m\u001b[0m \u001b[1m41s\u001b[0m 89ms/step - loss: 0.0018 - val_loss: 0.0017\n",
            "Epoch 174/200\n",
            "\u001b[1m263/263\u001b[0m \u001b[32m━━━━━━━━━━━━━━━━━━━━\u001b[0m\u001b[37m\u001b[0m \u001b[1m24s\u001b[0m 92ms/step - loss: 0.0018 - val_loss: 0.0017\n",
            "Epoch 175/200\n",
            "\u001b[1m263/263\u001b[0m \u001b[32m━━━━━━━━━━━━━━━━━━━━\u001b[0m\u001b[37m\u001b[0m \u001b[1m24s\u001b[0m 92ms/step - loss: 0.0018 - val_loss: 0.0017\n",
            "Epoch 176/200\n",
            "\u001b[1m263/263\u001b[0m \u001b[32m━━━━━━━━━━━━━━━━━━━━\u001b[0m\u001b[37m\u001b[0m \u001b[1m24s\u001b[0m 91ms/step - loss: 0.0018 - val_loss: 0.0017\n",
            "Epoch 177/200\n",
            "\u001b[1m263/263\u001b[0m \u001b[32m━━━━━━━━━━━━━━━━━━━━\u001b[0m\u001b[37m\u001b[0m \u001b[1m41s\u001b[0m 92ms/step - loss: 0.0018 - val_loss: 0.0017\n",
            "Epoch 178/200\n",
            "\u001b[1m263/263\u001b[0m \u001b[32m━━━━━━━━━━━━━━━━━━━━\u001b[0m\u001b[37m\u001b[0m \u001b[1m41s\u001b[0m 92ms/step - loss: 0.0018 - val_loss: 0.0017\n",
            "Epoch 179/200\n",
            "\u001b[1m263/263\u001b[0m \u001b[32m━━━━━━━━━━━━━━━━━━━━\u001b[0m\u001b[37m\u001b[0m \u001b[1m41s\u001b[0m 93ms/step - loss: 0.0018 - val_loss: 0.0017\n",
            "Epoch 180/200\n",
            "\u001b[1m263/263\u001b[0m \u001b[32m━━━━━━━━━━━━━━━━━━━━\u001b[0m\u001b[37m\u001b[0m \u001b[1m24s\u001b[0m 91ms/step - loss: 0.0018 - val_loss: 0.0017\n",
            "Epoch 181/200\n",
            "\u001b[1m263/263\u001b[0m \u001b[32m━━━━━━━━━━━━━━━━━━━━\u001b[0m\u001b[37m\u001b[0m \u001b[1m41s\u001b[0m 89ms/step - loss: 0.0018 - val_loss: 0.0017\n",
            "Epoch 182/200\n",
            "\u001b[1m263/263\u001b[0m \u001b[32m━━━━━━━━━━━━━━━━━━━━\u001b[0m\u001b[37m\u001b[0m \u001b[1m41s\u001b[0m 89ms/step - loss: 0.0018 - val_loss: 0.0017\n",
            "Epoch 183/200\n",
            "\u001b[1m263/263\u001b[0m \u001b[32m━━━━━━━━━━━━━━━━━━━━\u001b[0m\u001b[37m\u001b[0m \u001b[1m41s\u001b[0m 90ms/step - loss: 0.0018 - val_loss: 0.0017\n",
            "Epoch 184/200\n",
            "\u001b[1m263/263\u001b[0m \u001b[32m━━━━━━━━━━━━━━━━━━━━\u001b[0m\u001b[37m\u001b[0m \u001b[1m41s\u001b[0m 90ms/step - loss: 0.0018 - val_loss: 0.0017\n",
            "Epoch 185/200\n",
            "\u001b[1m263/263\u001b[0m \u001b[32m━━━━━━━━━━━━━━━━━━━━\u001b[0m\u001b[37m\u001b[0m \u001b[1m24s\u001b[0m 92ms/step - loss: 0.0018 - val_loss: 0.0017\n",
            "Epoch 186/200\n",
            "\u001b[1m263/263\u001b[0m \u001b[32m━━━━━━━━━━━━━━━━━━━━\u001b[0m\u001b[37m\u001b[0m \u001b[1m41s\u001b[0m 93ms/step - loss: 0.0018 - val_loss: 0.0017\n",
            "Epoch 187/200\n",
            "\u001b[1m263/263\u001b[0m \u001b[32m━━━━━━━━━━━━━━━━━━━━\u001b[0m\u001b[37m\u001b[0m \u001b[1m41s\u001b[0m 93ms/step - loss: 0.0018 - val_loss: 0.0017\n",
            "Epoch 188/200\n",
            "\u001b[1m263/263\u001b[0m \u001b[32m━━━━━━━━━━━━━━━━━━━━\u001b[0m\u001b[37m\u001b[0m \u001b[1m24s\u001b[0m 90ms/step - loss: 0.0018 - val_loss: 0.0017\n",
            "Epoch 189/200\n",
            "\u001b[1m263/263\u001b[0m \u001b[32m━━━━━━━━━━━━━━━━━━━━\u001b[0m\u001b[37m\u001b[0m \u001b[1m41s\u001b[0m 90ms/step - loss: 0.0018 - val_loss: 0.0017\n",
            "Epoch 190/200\n",
            "\u001b[1m263/263\u001b[0m \u001b[32m━━━━━━━━━━━━━━━━━━━━\u001b[0m\u001b[37m\u001b[0m \u001b[1m24s\u001b[0m 92ms/step - loss: 0.0018 - val_loss: 0.0017\n",
            "Epoch 191/200\n",
            "\u001b[1m263/263\u001b[0m \u001b[32m━━━━━━━━━━━━━━━━━━━━\u001b[0m\u001b[37m\u001b[0m \u001b[1m41s\u001b[0m 93ms/step - loss: 0.0018 - val_loss: 0.0017\n",
            "Epoch 192/200\n",
            "\u001b[1m263/263\u001b[0m \u001b[32m━━━━━━━━━━━━━━━━━━━━\u001b[0m\u001b[37m\u001b[0m \u001b[1m41s\u001b[0m 92ms/step - loss: 0.0018 - val_loss: 0.0017\n",
            "Epoch 193/200\n",
            "\u001b[1m263/263\u001b[0m \u001b[32m━━━━━━━━━━━━━━━━━━━━\u001b[0m\u001b[37m\u001b[0m \u001b[1m41s\u001b[0m 91ms/step - loss: 0.0018 - val_loss: 0.0017\n",
            "Epoch 194/200\n",
            "\u001b[1m263/263\u001b[0m \u001b[32m━━━━━━━━━━━━━━━━━━━━\u001b[0m\u001b[37m\u001b[0m \u001b[1m41s\u001b[0m 91ms/step - loss: 0.0018 - val_loss: 0.0017\n",
            "Epoch 195/200\n",
            "\u001b[1m263/263\u001b[0m \u001b[32m━━━━━━━━━━━━━━━━━━━━\u001b[0m\u001b[37m\u001b[0m \u001b[1m41s\u001b[0m 90ms/step - loss: 0.0018 - val_loss: 0.0017\n"
          ]
        },
        {
          "output_type": "execute_result",
          "data": {
            "text/plain": [
              "<keras.src.callbacks.history.History at 0x7e390c2351e0>"
            ]
          },
          "metadata": {},
          "execution_count": 16
        }
      ],
      "source": [
        "import keras\n",
        "EPOCHS = 200\n",
        "LEARNING_RATE = 5e-6\n",
        "\n",
        "model = Sequential([\n",
        "    Bidirectional(LSTM(64, return_sequences=True, input_shape=(SEQUENCE_LENGTH, X_train_normalized.shape[-1]))),\n",
        "    Dropout(0.2),\n",
        "    Bidirectional(LSTM(64, return_sequences=True)),\n",
        "    Dropout(0.2),\n",
        "    Dense(1)\n",
        "])\n",
        "callback = keras.callbacks.EarlyStopping(monitor='val_loss', patience=1)\n",
        "model.compile(optimizer=Adam(learning_rate=LEARNING_RATE), loss='mean_squared_error')\n",
        "\n",
        "model.fit(X_train_normalized, y_train_normalized, epochs=EPOCHS, batch_size=BATCH_SIZE, validation_split=0.2,callbacks=[callback])\n"
      ]
    },
    {
      "cell_type": "code",
      "execution_count": 17,
      "metadata": {
        "colab": {
          "base_uri": "https://localhost:8080/"
        },
        "id": "jFsHBQY6t9z9",
        "outputId": "497eea4a-4425-4e9b-9e02-c73e10c32ef1"
      },
      "outputs": [
        {
          "output_type": "stream",
          "name": "stderr",
          "text": [
            "WARNING:absl:You are saving your model as an HDF5 file via `model.save()` or `keras.saving.save_model(model)`. This file format is considered legacy. We recommend using instead the native Keras format, e.g. `model.save('my_model.keras')` or `keras.saving.save_model(model, 'my_model.keras')`. \n"
          ]
        }
      ],
      "source": [
        "model.save('modelBLSTM_new_majid_added.h5')"
      ]
    },
    {
      "cell_type": "code",
      "source": [
        "from google.colab import drive\n",
        "drive.mount('/content/drive')"
      ],
      "metadata": {
        "id": "aNRrpf-HvXPd"
      },
      "execution_count": null,
      "outputs": []
    },
    {
      "cell_type": "code",
      "execution_count": null,
      "metadata": {
        "colab": {
          "base_uri": "https://localhost:8080/"
        },
        "id": "ja80AJY5uGE2",
        "outputId": "fb82d7ae-0987-4926-e575-655ea61c88cc"
      },
      "outputs": [
        {
          "output_type": "stream",
          "name": "stderr",
          "text": [
            "WARNING:absl:You are saving your model as an HDF5 file via `model.save()` or `keras.saving.save_model(model)`. This file format is considered legacy. We recommend using instead the native Keras format, e.g. `model.save('my_model.keras')` or `keras.saving.save_model(model, 'my_model.keras')`. \n"
          ]
        }
      ],
      "source": [
        "model.save('/content/drive/My Drive/model.h5')"
      ]
    },
    {
      "cell_type": "code",
      "source": [
        "model_path = '/content/modelBLSTM_new_majid_added (2).h5'\n",
        "\n",
        "# Load model and predict\n",
        "model = tf.keras.models.load_model(model_path)"
      ],
      "metadata": {
        "id": "nGppx7cPZtT2"
      },
      "execution_count": null,
      "outputs": []
    },
    {
      "cell_type": "code",
      "execution_count": 18,
      "metadata": {
        "colab": {
          "base_uri": "https://localhost:8080/"
        },
        "id": "3tububWduTQ_",
        "outputId": "0f38a08d-f21f-4fba-9239-85abe60f3487"
      },
      "outputs": [
        {
          "output_type": "stream",
          "name": "stdout",
          "text": [
            "\u001b[1m1/1\u001b[0m \u001b[32m━━━━━━━━━━━━━━━━━━━━\u001b[0m\u001b[37m\u001b[0m \u001b[1m0s\u001b[0m 131ms/step - loss: 0.0012\n",
            "Test Loss: 0.0011925138533115387\n",
            "\u001b[1m1/1\u001b[0m \u001b[32m━━━━━━━━━━━━━━━━━━━━\u001b[0m\u001b[37m\u001b[0m \u001b[1m0s\u001b[0m 306ms/step\n"
          ]
        }
      ],
      "source": [
        "test_loss = model.evaluate(X_test_normalized, y_test_normalized)\n",
        "print(f\"Test Loss: {test_loss}\")\n",
        "\n",
        "y_pred_normalized = model.predict(X_test_normalized)\n",
        "\n",
        "y_test_inv = scaler_y.inverse_transform(y_test_normalized.reshape(-1, SEQUENCE_LENGTH))\n",
        "y_pred_inv = scaler_y.inverse_transform(y_pred_normalized.reshape(-1, SEQUENCE_LENGTH))\n"
      ]
    },
    {
      "cell_type": "code",
      "execution_count": 19,
      "metadata": {
        "colab": {
          "base_uri": "https://localhost:8080/"
        },
        "id": "92x8n4gYzyBC",
        "outputId": "eb58ef1d-a6eb-4459-d334-12a0c0e57a42"
      },
      "outputs": [
        {
          "output_type": "stream",
          "name": "stdout",
          "text": [
            "Mean Squared Error: 216019.578125\n"
          ]
        }
      ],
      "source": [
        "mse = mean_squared_error(y_test_inv, y_pred_inv)\n",
        "print(f\"Mean Squared Error: {mse}\")"
      ]
    },
    {
      "cell_type": "code",
      "execution_count": 20,
      "metadata": {
        "id": "-2e5qPNjz2bv"
      },
      "outputs": [],
      "source": [
        "import os\n",
        "import numpy as np\n",
        "import matplotlib.pyplot as plt\n",
        "\n",
        "if not os.path.exists(PLOT_SAVE_DIR):\n",
        "    os.makedirs(PLOT_SAVE_DIR)\n",
        "\n",
        "for i in range(len(X_test)):\n",
        "    # Convert momentary to cumulative\n",
        "    cumulative_actuals = np.cumsum(y_test_inv[i], axis=0)  # assuming y_test_inv is already the inverse transformed data\n",
        "    cumulative_predictions = np.cumsum(y_pred_inv[i], axis=0)  # assuming y_pred_inv is already the inverse transformed predictions\n",
        "\n",
        "    plt.figure(figsize=(12, 6))\n",
        "    plt.plot(cumulative_actuals, label='Actual Trip Fuel Consumption')\n",
        "    plt.plot(cumulative_predictions, label='Predicted Trip Fuel Consumption')\n",
        "    plt.title(f'Trip {i + 1}: Actual vs Predicted Fuel Consumption')\n",
        "    plt.xlabel('Time Steps')\n",
        "    plt.ylabel('Trip Fuel Consumption (uL)')\n",
        "    plt.legend()\n",
        "\n",
        "    plot_filename = os.path.join(PLOT_SAVE_DIR, f'trip_{i + 1}_actual_vs_predicted.png')\n",
        "    plt.savefig(plot_filename)\n",
        "    plt.close()  # Close the plot to save memory\n",
        "\n"
      ]
    },
    {
      "cell_type": "code",
      "execution_count": 21,
      "metadata": {
        "colab": {
          "base_uri": "https://localhost:8080/"
        },
        "id": "sHA95E7f6iZu",
        "outputId": "9d811cb0-7942-4b5a-8970-5717bafd2ea1"
      },
      "outputs": [
        {
          "output_type": "stream",
          "name": "stdout",
          "text": [
            "  adding: predicted_vs_actual_plots/ (stored 0%)\n",
            "  adding: predicted_vs_actual_plots/trip_1_actual_vs_predicted.png (deflated 9%)\n",
            "  adding: predicted_vs_actual_plots/trip_2_actual_vs_predicted.png (deflated 9%)\n",
            "  adding: predicted_vs_actual_plots/trip_4_actual_vs_predicted.png (deflated 9%)\n",
            "  adding: predicted_vs_actual_plots/trip_5_actual_vs_predicted.png (deflated 9%)\n",
            "  adding: predicted_vs_actual_plots/trip_3_actual_vs_predicted.png (deflated 9%)\n"
          ]
        }
      ],
      "source": [
        "!zip -r data.zip predicted_vs_actual_plots"
      ]
    }
  ],
  "metadata": {
    "accelerator": "GPU",
    "colab": {
      "gpuType": "T4",
      "provenance": []
    },
    "kernelspec": {
      "display_name": "Python 3",
      "name": "python3"
    },
    "language_info": {
      "name": "python"
    }
  },
  "nbformat": 4,
  "nbformat_minor": 0
}
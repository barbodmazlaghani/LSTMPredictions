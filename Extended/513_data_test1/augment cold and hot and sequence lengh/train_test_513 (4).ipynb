{
  "cells": [
    {
      "cell_type": "code",
      "execution_count": 2,
      "metadata": {
        "colab": {
          "base_uri": "https://localhost:8080/"
        },
        "id": "X_RQgrvEbkfv",
        "outputId": "d9911854-5aa1-408a-c0e2-6ff97c87c3b0"
      },
      "outputs": [
        {
          "output_type": "stream",
          "name": "stdout",
          "text": [
            "Mounted at /content/gdrive\n"
          ]
        }
      ],
      "source": [
        "from google.colab import drive\n",
        "drive.mount('/content/gdrive')\n"
      ]
    },
    {
      "cell_type": "code",
      "execution_count": 1,
      "metadata": {
        "id": "3PDshfYSS1BB"
      },
      "outputs": [],
      "source": [
        "import os\n",
        "import numpy as np\n",
        "import pandas as pd\n",
        "import torch\n",
        "from multiprocessing import Pool\n",
        "from sklearn.preprocessing import MinMaxScaler\n",
        "import os\n",
        "import numpy as np\n",
        "import pandas as pd\n",
        "import torch\n",
        "import torch.nn as nn\n",
        "import torch.optim as optim\n",
        "from sklearn.preprocessing import MinMaxScaler\n",
        "from torch.utils.data import DataLoader, TensorDataset\n",
        "import joblib\n",
        "import os\n",
        "import numpy as np\n",
        "import pandas as pd\n",
        "import torch\n",
        "from multiprocessing import Pool\n",
        "from sklearn.preprocessing import MinMaxScaler\n",
        "import os\n",
        "import numpy as np\n",
        "import pandas as pd\n",
        "import torch\n",
        "import torch.nn as nn\n",
        "import torch.optim as optim\n",
        "from sklearn.preprocessing import MinMaxScaler\n",
        "from torch.utils.data import DataLoader, TensorDataset\n",
        "import joblib\n",
        "\n",
        "SEQUENCE_LENGTH = 200\n",
        "BATCH_SIZE = 64\n",
        "EPOCHS = 250\n",
        "LEARNING_RATE = 1e-5\n",
        "DEVICE = torch.device('cuda' if torch.cuda.is_available() else 'cpu')"
      ]
    },
    {
      "cell_type": "code",
      "execution_count": null,
      "metadata": {
        "id": "tGAb_Ct9Wx-L"
      },
      "outputs": [],
      "source": [
        "!unzip -qq '/content/gdrive/MyDrive/data_aug_new.zip'"
      ]
    },
    {
      "cell_type": "markdown",
      "metadata": {
        "id": "T2VsgPt5JVSs"
      },
      "source": [
        "#Load file"
      ]
    },
    {
      "cell_type": "code",
      "execution_count": 53,
      "metadata": {
        "id": "UrcojkYyE8mT"
      },
      "outputs": [],
      "source": [
        "data = np.load('/content/gdrive/MyDrive/513_600_2slices_shift.npz')\n"
      ]
    },
    {
      "cell_type": "code",
      "execution_count": null,
      "metadata": {
        "id": "80JpuFUAQrEW"
      },
      "outputs": [],
      "source": [
        "data = np.load('/content/gdrive/MyDrive/513_600_3slices_shift.npz')\n"
      ]
    },
    {
      "cell_type": "code",
      "execution_count": null,
      "metadata": {
        "id": "9KqRZA4CfrT-"
      },
      "outputs": [],
      "source": [
        "data = np.load('/content/gdrive/MyDrive/513_600_2slices_shift_rate.npz')\n"
      ]
    },
    {
      "cell_type": "markdown",
      "metadata": {
        "id": "__1KRiMDGL8B"
      },
      "source": []
    },
    {
      "cell_type": "code",
      "execution_count": null,
      "metadata": {
        "id": "NU0xH4605meq"
      },
      "outputs": [],
      "source": [
        "data = np.load('/content/gdrive/MyDrive/513_600_3slices_shift_rate.npz')\n"
      ]
    },
    {
      "cell_type": "code",
      "source": [
        "data = np.load('/content/gdrive/MyDrive/513_600_3slices_shift_rate.npz')\n"
      ],
      "metadata": {
        "id": "8McR-xKQI0go"
      },
      "execution_count": null,
      "outputs": []
    },
    {
      "cell_type": "code",
      "source": [
        "data = np.load('/content/gdrive/MyDrive/513_600_3slices_rate_farda.npz')\n"
      ],
      "metadata": {
        "id": "RP1TAG-uJAST"
      },
      "execution_count": null,
      "outputs": []
    },
    {
      "cell_type": "code",
      "source": [
        "data = np.load('/content/gdrive/MyDrive/513_600_3slices_cons_shift_farda.npz')\n"
      ],
      "metadata": {
        "id": "OD6jYBXQLNrx"
      },
      "execution_count": null,
      "outputs": []
    },
    {
      "cell_type": "code",
      "source": [
        "data = np.load('/content/gdrive/MyDrive/513_600_3slices_rate_farda+trip115.npz')\n"
      ],
      "metadata": {
        "id": "ERBQiYfQSRME"
      },
      "execution_count": null,
      "outputs": []
    },
    {
      "cell_type": "code",
      "source": [
        "data = np.load('/content/gdrive/MyDrive/513_200_3slices_rate_farda+trip115.npz')\n"
      ],
      "metadata": {
        "id": "2f8rat2iVcvq"
      },
      "execution_count": null,
      "outputs": []
    },
    {
      "cell_type": "code",
      "source": [
        "data = np.load('/content/gdrive/MyDrive/513_200_3slices_rate_farda.npz')\n"
      ],
      "metadata": {
        "id": "-i4drjH3uswD"
      },
      "execution_count": null,
      "outputs": []
    },
    {
      "cell_type": "code",
      "source": [
        "data = np.load('/content/gdrive/MyDrive/513_200_3slices_rate_farda_newacc.npz')\n"
      ],
      "metadata": {
        "id": "MtgZtOcYzLid"
      },
      "execution_count": null,
      "outputs": []
    },
    {
      "cell_type": "code",
      "source": [
        "data = np.load('/content/gdrive/MyDrive/hadad_200_2slices_cons.npz')\n"
      ],
      "metadata": {
        "id": "8kFs3nkHI9p_"
      },
      "execution_count": 23,
      "outputs": []
    },
    {
      "cell_type": "code",
      "source": [
        "data = np.load('/content/gdrive/MyDrive/hadad_200_2slices_cons_hot.npz')\n"
      ],
      "metadata": {
        "id": "u6R4FcnyRjnG"
      },
      "execution_count": 3,
      "outputs": []
    },
    {
      "cell_type": "code",
      "source": [
        "\n",
        "data = np.load('/content/gdrive/MyDrive/513_600_2slices_cons_cold_hot.npz')\n"
      ],
      "metadata": {
        "id": "ZIZz_GHebG4X"
      },
      "execution_count": 65,
      "outputs": []
    },
    {
      "cell_type": "code",
      "source": [
        "data = np.load('/content/gdrive/MyDrive/513_60_2slices_cons_cold_hot.npz')"
      ],
      "metadata": {
        "id": "QXkNQEYIhMgJ"
      },
      "execution_count": 77,
      "outputs": []
    },
    {
      "cell_type": "code",
      "source": [
        "data = np.load('/content/gdrive/MyDrive/513_10_2slices_cons_cold_hot.npz')"
      ],
      "metadata": {
        "id": "HPcwL6yInSJU"
      },
      "execution_count": 3,
      "outputs": []
    },
    {
      "cell_type": "code",
      "execution_count": 4,
      "metadata": {
        "id": "MCYDVO9rdUBw"
      },
      "outputs": [],
      "source": [
        "\n",
        "\n",
        "\n",
        "X_original = data['X_original']\n",
        "y_original = data['y_original']\n",
        "X_augmented = data['X_augmented']\n",
        "y_augmented = data['y_augmented']\n",
        "\n",
        "\n",
        "# X_original1 = data1['X_original']\n",
        "# y_original1 = data1['y_original']\n",
        "# X_augmented1 = data1['X_augmented']\n",
        "# y_augmented1 = data1['y_augmented']\n",
        "\n",
        "\n",
        "# Convert data to PyTorch tensors\n",
        "try:\n",
        "    X_original = torch.tensor(np.array(X_original), dtype=torch.float32).to(DEVICE)\n",
        "    y_original = torch.tensor(np.array(y_original), dtype=torch.float32).to(DEVICE)\n",
        "    X_augmented = torch.tensor(np.array(X_augmented), dtype=torch.float32).to(DEVICE)\n",
        "    y_augmented = torch.tensor(np.array(y_augmented), dtype=torch.float32).to(DEVICE)\n",
        "except Exception as e:\n",
        "    print(f\"Error during tensor conversion: {e}\")\n",
        "    print(f\"Shapes: X_original - {np.array(X_original).shape}, y_original - {np.array(y_original).shape}\")\n",
        "    print(f\"Shapes: X_augmented - {np.array(X_augmented).shape}, y_augmented - {np.array(y_augmented).shape}\")\n",
        "    raise\n",
        "\n",
        "\n",
        "# # Convert data to PyTorch tensors\n",
        "# try:\n",
        "#     X_original1 = torch.tensor(np.array(X_original1), dtype=torch.float32).to(DEVICE)\n",
        "#     y_original1 = torch.tensor(np.array(y_original1), dtype=torch.float32).to(DEVICE)\n",
        "#     X_augmented1 = torch.tensor(np.array(X_augmented1), dtype=torch.float32).to(DEVICE)\n",
        "#     y_augmented1 = torch.tensor(np.array(y_augmented1), dtype=torch.float32).to(DEVICE)\n",
        "# except Exception as e:\n",
        "#     print(f\"Error during tensor conversion: {e}\")\n",
        "#     print(f\"Shapes: X_original1 - {np.array(X_original1).shape}, y_original1 - {np.array(y_original1).shape}\")\n",
        "#     print(f\"Shapes: X_augmented1 - {np.array(X_augmented1).shape}, y_augmented1 - {np.array(y_augmented1).shape}\")\n",
        "#     raise\n",
        "\n",
        "\n",
        "X_train = torch.cat([X_original, X_augmented])\n",
        "y_train = torch.cat([y_original, y_augmented])\n",
        "\n",
        "\n",
        "# X_train1 = torch.cat([X_original1, X_augmented1])\n",
        "# y_train1 = torch.cat([y_original1, y_augmented1])"
      ]
    },
    {
      "cell_type": "code",
      "execution_count": 57,
      "metadata": {
        "id": "-DJcR1fPDJz-",
        "colab": {
          "base_uri": "https://localhost:8080/"
        },
        "outputId": "98d56b9a-ca82-4667-aa96-97e50aa1a0e1"
      },
      "outputs": [
        {
          "output_type": "stream",
          "name": "stdout",
          "text": [
            "tensor([[ 0.0000,  0.0000,  0.0000,  0.0000,  0.0000],\n",
            "        [ 0.0000,  0.0000,  0.0000,  0.0000,  0.0000],\n",
            "        [ 0.0000,  0.0000,  0.0000,  0.0000,  0.0000],\n",
            "        ...,\n",
            "        [-1.0000,  2.0000,  4.0000,  1.0000,  3.3704],\n",
            "        [ 2.0000,  6.0000,  6.0000,  1.0000,  3.3704],\n",
            "        [ 6.0000,  0.0000, 12.0000,  1.0000,  3.3704]], device='cuda:0')\n"
          ]
        }
      ],
      "source": [
        "selected_columns = X_train[:,:, [0, 1, 5, 7, 9]]\n",
        "X_train = X_train[:,:, [0, 1, 5, 7, 9]]\n",
        "\n",
        "\n",
        "print(selected_columns[0])"
      ]
    },
    {
      "cell_type": "code",
      "source": [
        "X_train = X_train[:,:, [0, 1,5, 9, 10,11]]\n"
      ],
      "metadata": {
        "id": "TEZAWe1DE0Rm"
      },
      "execution_count": null,
      "outputs": []
    },
    {
      "cell_type": "markdown",
      "metadata": {
        "id": "k7M2r7PuQASF"
      },
      "source": [
        "# **without two acc**"
      ]
    },
    {
      "cell_type": "code",
      "execution_count": null,
      "metadata": {
        "colab": {
          "base_uri": "https://localhost:8080/"
        },
        "id": "fE7Na8plQB_b",
        "outputId": "cbabccae-f9c8-400a-919b-f5e60a6c3c36"
      },
      "outputs": [
        {
          "name": "stdout",
          "output_type": "stream",
          "text": [
            "tensor([[ 0.0000, -1.0000, 37.0000,  2.0000, -1.2100],\n",
            "        [-1.0000,  0.0000, 36.0000,  2.0000, -1.2100],\n",
            "        [ 0.0000,  0.0000, 36.0000,  2.0000, -1.2100],\n",
            "        ...,\n",
            "        [-1.0000, -1.0000, 27.0000,  2.0000, -0.1749],\n",
            "        [-1.0000, -2.0000, 26.0000,  2.0000, -0.1749],\n",
            "        [-2.0000, -1.0000, 24.0000,  2.0000, -0.1749]], device='cuda:0')\n"
          ]
        }
      ],
      "source": [
        "selected_columns = X_train[:,:, [0, 1, 5, 7, 9]]\n",
        "X_train = X_train[:,:, [0, 5, 7, 9]]\n",
        "\n",
        "print(selected_columns[0])"
      ]
    },
    {
      "cell_type": "markdown",
      "metadata": {
        "id": "6pADzYzqQCz7"
      },
      "source": [
        "# **a**"
      ]
    },
    {
      "cell_type": "code",
      "execution_count": 5,
      "metadata": {
        "colab": {
          "base_uri": "https://localhost:8080/"
        },
        "id": "wrf-xPp4Dl2m",
        "outputId": "87179b7a-1423-4a67-cc04-189688595752"
      },
      "outputs": [
        {
          "output_type": "stream",
          "name": "stdout",
          "text": [
            "Min values: tensor([-121.0000, -121.0000,    0.0000,    0.0000, -224.3478],\n",
            "       device='cuda:0')\n",
            "Max values: tensor([119., 119., 184.,   5., 240.], device='cuda:0')\n"
          ]
        }
      ],
      "source": [
        "# Compute the minimum and maximum across dimensions (0, 1)\n",
        "min_x = torch.min(X_train, dim=0)[0]  # Min across the first dimension\n",
        "min_x = torch.min(min_x, dim=0)[0].to(DEVICE)  # Min across the second dimension\n",
        "\n",
        "max_x = torch.max(X_train, dim=0)[0]  # Max across the first dimension\n",
        "max_x = torch.max(max_x, dim=0)[0].to(DEVICE)  # Max across the second dimension\n",
        "\n",
        "print(\"Min values:\", min_x)\n",
        "print(\"Max values:\", max_x)\n"
      ]
    },
    {
      "cell_type": "code",
      "execution_count": 6,
      "metadata": {
        "colab": {
          "base_uri": "https://localhost:8080/"
        },
        "id": "YwIv-XB9QehO",
        "outputId": "642735a3-7244-4e37-a024-3e52d9c4920f"
      },
      "outputs": [
        {
          "output_type": "stream",
          "name": "stdout",
          "text": [
            "Min values: tensor([-9324744.], device='cuda:0')\n",
            "Max values: tensor([29378.], device='cuda:0')\n"
          ]
        }
      ],
      "source": [
        "# Compute the minimum and maximum across dimensions (0, 1)\n",
        "min_x = torch.min(y_train, dim=0)[0]  # Min across the first dimension\n",
        "min_x = torch.min(min_x, dim=0)[0].to(DEVICE)  # Min across the second dimension\n",
        "\n",
        "max_x = torch.max(y_train, dim=0)[0]  # Max across the first dimension\n",
        "max_x = torch.max(max_x, dim=0)[0].to(DEVICE)  # Max across the second dimension\n",
        "\n",
        "print(\"Min values:\", min_x)\n",
        "print(\"Max values:\", max_x)\n"
      ]
    },
    {
      "cell_type": "code",
      "execution_count": null,
      "metadata": {
        "colab": {
          "base_uri": "https://localhost:8080/"
        },
        "id": "2DzowlYwSQyT",
        "outputId": "9c2da069-374d-49ae-d982-418cd37d4e02"
      },
      "outputs": [
        {
          "output_type": "stream",
          "name": "stdout",
          "text": [
            "Original shape: torch.Size([125322, 200, 5])\n"
          ]
        }
      ],
      "source": [
        "print(\"Original shape:\", X_train.shape)\n"
      ]
    },
    {
      "cell_type": "code",
      "execution_count": 7,
      "metadata": {
        "colab": {
          "base_uri": "https://localhost:8080/"
        },
        "id": "nfOZi2agRSnD",
        "outputId": "8a6e3d49-fca9-44c0-ea58-f22b37602ce4"
      },
      "outputs": [
        {
          "output_type": "stream",
          "name": "stdout",
          "text": [
            "Original x shape: torch.Size([693174, 10, 5])\n",
            "Original y shape: torch.Size([693174, 10, 1])\n"
          ]
        }
      ],
      "source": [
        "# Create a mask for rows in y where all values are >= 0\n",
        "mask = (y_train >= 0).all(dim=(1, 2))  # True for sequences with no negative values in y\n",
        "\n",
        "# Apply the mask to x\n",
        "X_train = X_train[mask]\n",
        "y_train = y_train[mask]  # Optionally filter y as well for consistency\n",
        "\n",
        "print(\"Original x shape:\", X_train.shape)\n",
        "# print(\"Filtered x shape:\", x_train_filtered.shape)\n",
        "print(\"Original y shape:\", y_train.shape)\n",
        "# print(\"Filtered y shape:\", y_train_filtered.shape)\n"
      ]
    },
    {
      "cell_type": "code",
      "execution_count": null,
      "metadata": {
        "colab": {
          "base_uri": "https://localhost:8080/",
          "height": 396
        },
        "id": "66smKKDQRCa1",
        "outputId": "611a5222-bde4-40d8-9f8f-61ca9375a40e"
      },
      "outputs": [
        {
          "output_type": "display_data",
          "data": {
            "text/plain": [
              "<Figure size 600x400 with 1 Axes>"
            ],
            "image/png": "[encoded data removed]"
          },
          "metadata": {}
        }
      ],
      "source": [
        "import torch\n",
        "import numpy as np\n",
        "import matplotlib.pyplot as plt\n",
        "import seaborn as sns\n",
        "\n",
        "\n",
        "# Save processed data for later use\n",
        "for i in range(y_train.shape[2]):  # Iterate over columns (third dimension)\n",
        "    col_data = y_train[:, :, i].flatten().cpu().numpy()  # Flatten, move to CPU, convert to numpy\n",
        "    np.save(f\"column_{i}.npy\", col_data)  # Save each column to a .npy file\n",
        "\n",
        "# Create separate plots for each column\n",
        "for i in range(y_train.shape[2]):\n",
        "    # Load column data\n",
        "    col_data = np.load(f\"column_{i}.npy\")\n",
        "\n",
        "    # Plot violin plot for the column\n",
        "    plt.figure(figsize=(6, 4))  # Create a new figure for each plot\n",
        "    sns.violinplot(data=col_data)\n",
        "    plt.title(f\"Violin Plot for Column {i}\")\n",
        "    plt.xlabel(f\"Column {i}\")\n",
        "    plt.ylabel(\"Values\")\n",
        "\n",
        "    # Save or show the plot\n",
        "    plt.savefig(f\"violin_plot_column_{i}.png\")  # Save plot to file\n",
        "    plt.show()  # Show the plot\n"
      ]
    },
    {
      "cell_type": "code",
      "execution_count": null,
      "metadata": {
        "colab": {
          "base_uri": "https://localhost:8080/"
        },
        "id": "FK0RUHw7f_6a",
        "outputId": "2da4f32d-90a1-40b6-9549-1519d6a24917"
      },
      "outputs": [
        {
          "data": {
            "text/plain": [
              "(tensor([1.3182], device='cuda:0'), tensor([1.9448], device='cuda:0'))"
            ]
          },
          "execution_count": 99,
          "metadata": {},
          "output_type": "execute_result"
        }
      ],
      "source": [
        "mean_x = torch.mean(y_train, dim=(0, 1)).to(DEVICE)\n",
        "std_x = torch.std(y_train, dim=(0, 1)).to(DEVICE)\n",
        "mean_x , std_x"
      ]
    },
    {
      "cell_type": "code",
      "execution_count": null,
      "metadata": {
        "colab": {
          "base_uri": "https://localhost:8080/",
          "height": 1000
        },
        "id": "JnWdpstFHsq9",
        "outputId": "09e7edf7-73fa-4a11-8a71-845b6159e43f"
      },
      "outputs": [
        {
          "data": {
            "image/png": "[encoded data removed]",
            "text/plain": [
              "<Figure size 600x400 with 1 Axes>"
            ]
          },
          "metadata": {},
          "output_type": "display_data"
        },
        {
          "data": {
            "image/png": "[encoded data removed]",
            "text/plain": [
              "<Figure size 600x400 with 1 Axes>"
            ]
          },
          "metadata": {},
          "output_type": "display_data"
        },
        {
          "data": {
            "image/png": "[encoded data removed]",
            "text/plain": [
              "<Figure size 600x400 with 1 Axes>"
            ]
          },
          "metadata": {},
          "output_type": "display_data"
        },
        {
          "data": {
            "image/png": "[encoded data removed]",
            "text/plain": [
              "<Figure size 600x400 with 1 Axes>"
            ]
          },
          "metadata": {},
          "output_type": "display_data"
        },
        {
          "data": {
            "image/png": "[encoded data removed]",
            "text/plain": [
              "<Figure size 600x400 with 1 Axes>"
            ]
          },
          "metadata": {},
          "output_type": "display_data"
        }
      ],
      "source": [
        "import torch\n",
        "import numpy as np\n",
        "import matplotlib.pyplot as plt\n",
        "import seaborn as sns\n",
        "\n",
        "\n",
        "# Save processed data for later use\n",
        "for i in range(selected_columns.shape[2]):  # Iterate over columns (third dimension)\n",
        "    col_data = selected_columns[:, :, i].flatten().cpu().numpy()  # Flatten, move to CPU, convert to numpy\n",
        "    np.save(f\"column_{i}.npy\", col_data)  # Save each column to a .npy file\n",
        "\n",
        "# Create separate plots for each column\n",
        "for i in range(selected_columns.shape[2]):\n",
        "    # Load column data\n",
        "    col_data = np.load(f\"column_{i}.npy\")\n",
        "\n",
        "    # Plot violin plot for the column\n",
        "    plt.figure(figsize=(6, 4))  # Create a new figure for each plot\n",
        "    sns.violinplot(data=col_data)\n",
        "    plt.title(f\"Violin Plot for Column {i}\")\n",
        "    plt.xlabel(f\"Column {i}\")\n",
        "    plt.ylabel(\"Values\")\n",
        "\n",
        "    # Save or show the plot\n",
        "    plt.savefig(f\"violin_plot_column_{i}.png\")  # Save plot to file\n",
        "    plt.show()  # Show the plot\n"
      ]
    },
    {
      "cell_type": "code",
      "execution_count": null,
      "metadata": {
        "id": "9egpbQy6dEtA"
      },
      "outputs": [],
      "source": [
        "# # this cell for delete coolant temp from data\n",
        "# X_train = X_train[:, :, :-1]  # Slicing to exclude the last column\n",
        "# X_train1 = X_train1[:, :, :-1]  # Slicing to exclude the last column\n"
      ]
    },
    {
      "cell_type": "code",
      "execution_count": null,
      "metadata": {
        "colab": {
          "base_uri": "https://localhost:8080/",
          "height": 141
        },
        "id": "k2Lf8ZRETunZ",
        "outputId": "299bb0a8-9866-418d-ac38-d170479c0eee"
      },
      "outputs": [
        {
          "ename": "TypeError",
          "evalue": "'torch.Size' object is not callable",
          "output_type": "error",
          "traceback": [
            "\u001b[0;31m---------------------------------------------------------------------------\u001b[0m",
            "\u001b[0;31mTypeError\u001b[0m                                 Traceback (most recent call last)",
            "\u001b[0;32m<ipython-input-47-0f4d6b0aeb46>\u001b[0m in \u001b[0;36m<cell line: 1>\u001b[0;34m()\u001b[0m\n\u001b[0;32m----> 1\u001b[0;31m \u001b[0mX_train\u001b[0m\u001b[0;34m.\u001b[0m\u001b[0mshape\u001b[0m\u001b[0;34m(\u001b[0m\u001b[0;34m)\u001b[0m\u001b[0;34m\u001b[0m\u001b[0;34m\u001b[0m\u001b[0m\n\u001b[0m",
            "\u001b[0;31mTypeError\u001b[0m: 'torch.Size' object is not callable"
          ]
        }
      ],
      "source": [
        "X_train.shape()"
      ]
    },
    {
      "cell_type": "code",
      "execution_count": null,
      "metadata": {
        "colab": {
          "base_uri": "https://localhost:8080/"
        },
        "id": "crMYN8qDTDQ8",
        "outputId": "24983b3f-42c2-437f-ffa0-66fe54c1ae31"
      },
      "outputs": [
        {
          "data": {
            "text/plain": [
              "23254"
            ]
          },
          "execution_count": 65,
          "metadata": {},
          "output_type": "execute_result"
        }
      ],
      "source": [
        "X_train.shape[0]"
      ]
    },
    {
      "cell_type": "code",
      "execution_count": null,
      "metadata": {
        "colab": {
          "base_uri": "https://localhost:8080/"
        },
        "id": "a5t58s8DT6iE",
        "outputId": "d4d6fe90-a2bc-409a-a003-7e3aec7c781d"
      },
      "outputs": [
        {
          "data": {
            "text/plain": [
              "tensor([[5.2632e-01, 5.2632e-01, 3.5313e-10, 1.2800e-03, 5.2632e-01],\n",
              "        [5.2632e-01, 5.2632e-01, 3.4688e-10, 1.2800e-03, 5.2632e-01],\n",
              "        [5.2632e-01, 5.2632e-01, 3.4062e-10, 1.2800e-03, 5.2632e-01],\n",
              "        ...,\n",
              "        [5.2632e-01, 5.2632e-01, 3.5000e-10, 1.6000e-03, 5.2631e-01],\n",
              "        [5.2632e-01, 5.2632e-01, 3.5313e-10, 1.6000e-03, 5.2631e-01],\n",
              "        [5.2632e-01, 5.2632e-01, 3.5313e-10, 1.6000e-03, 5.2631e-01]],\n",
              "       device='cuda:0')"
            ]
          },
          "execution_count": 55,
          "metadata": {},
          "output_type": "execute_result"
        }
      ],
      "source": [
        "X_train[55000]"
      ]
    },
    {
      "cell_type": "markdown",
      "metadata": {
        "id": "cTt1HLi24WQo"
      },
      "source": [
        "# **Normalize**"
      ]
    },
    {
      "cell_type": "code",
      "execution_count": 8,
      "metadata": {
        "id": "YSaA3VdOes7k"
      },
      "outputs": [],
      "source": [
        "\n",
        "# Convert the min and max values to tensors\n",
        "min_val_x = torch.tensor([-10,-10, 0,0, -10], dtype=torch.float32).to(DEVICE)\n",
        "max_val_x = torch.tensor([10,10,200, 5, 10], dtype=torch.float32).to(DEVICE)\n",
        "\n",
        "\n",
        "\n",
        "\n",
        "#for without two acc\n",
        "# min_val_x = torch.tensor([-10, 0,0, -10], dtype=torch.float32).to(DEVICE)\n",
        "# max_val_x = torch.tensor([10, 200, 5, 10], dtype=torch.float32).to(DEVICE)\n",
        "\n",
        "\n",
        "min_val_y = torch.tensor([0], dtype=torch.float32).to(DEVICE)\n",
        "max_val_y = torch.tensor([30000], dtype=torch.float32).to(DEVICE)\n",
        "\n",
        "# Custom normalization function for X\n",
        "def custom_normalize_X(data, min_vals, max_vals):\n",
        "    feature_count = 5\n",
        "    for i in range(feature_count):\n",
        "        data[:, :, i] = (data[:, :, i] - min_vals[i]) / (max_vals[i] - min_vals[i])\n",
        "    return data\n",
        "\n",
        "# Custom normalization function for y\n",
        "def custom_normalize_y(data, min_val, max_val):\n",
        "    return (data - min_val) / (max_val - min_val)\n",
        "\n",
        "# Normalize X_train and X_test\n",
        "X_train_normalized = custom_normalize_X(X_train, min_val_x, max_val_x)\n",
        "# X_test_normalized = custom_normalize_X(X_test, min_val_x, max_val_x)\n",
        "\n",
        "# Normalize y_train and y_test\n",
        "y_train_normalized = custom_normalize_y(y_train, min_val_y, max_val_y)\n",
        "# y_test_normalized = custom_normalize_y(y_test, min_val_y, max_val_y)\n",
        "\n",
        "\n",
        "# # Normalize X_train and X_test\n",
        "# X_train_normalized1 = custom_normalize_X(X_train1, min_val_x, max_val_x)\n",
        "# # X_test_normalized = custom_normalize_X(X_test, min_val_x, max_val_x)\n",
        "\n",
        "# # Normalize y_train and y_test\n",
        "# y_train_normalized1 = custom_normalize_y(y_train1, min_val_y, max_val_y)\n",
        "# y_test_normalized = custom_normalize_y(y_test, min_val_y, max_val_y)\n"
      ]
    },
    {
      "cell_type": "code",
      "source": [],
      "metadata": {
        "id": "m6jkaXaaUc0o"
      },
      "execution_count": null,
      "outputs": []
    },
    {
      "cell_type": "code",
      "execution_count": 13,
      "metadata": {
        "colab": {
          "base_uri": "https://localhost:8080/"
        },
        "outputId": "a695bcef-c30d-47ed-dd8e-287fe77560cc",
        "id": "PL81lVVfUc3v"
      },
      "outputs": [
        {
          "output_type": "stream",
          "name": "stdout",
          "text": [
            "Min values: tensor([ -5.5500,  -5.5500,   0.0000,   0.0000, -10.7174], device='cuda:0')\n",
            "Max values: tensor([ 6.4500,  6.4500,  0.9200,  1.0000, 12.5000], device='cuda:0')\n",
            "Min values: tensor([0.], device='cuda:0')\n",
            "Max values: tensor([0.9793], device='cuda:0')\n"
          ]
        }
      ],
      "source": [
        "# Compute the minimum and maximum across dimensions (0, 1)\n",
        "min_x = torch.min(X_train_normalized, dim=0)[0]  # Min across the first dimension\n",
        "min_x = torch.min(min_x, dim=0)[0].to(DEVICE)  # Min across the second dimension\n",
        "\n",
        "max_x = torch.max(X_train_normalized, dim=0)[0]  # Max across the first dimension\n",
        "max_x = torch.max(max_x, dim=0)[0].to(DEVICE)  # Max across the second dimension\n",
        "\n",
        "print(\"Min values:\", min_x)\n",
        "print(\"Max values:\", max_x)\n",
        "\n",
        "\n",
        "# Compute the minimum and maximum across dimensions (0, 1)\n",
        "min_x = torch.min(y_train_normalized, dim=0)[0]  # Min across the first dimension\n",
        "min_x = torch.min(min_x, dim=0)[0].to(DEVICE)  # Min across the second dimension\n",
        "\n",
        "max_x = torch.max(y_train_normalized, dim=0)[0]  # Max across the first dimension\n",
        "max_x = torch.max(max_x, dim=0)[0].to(DEVICE)  # Max across the second dimension\n",
        "\n",
        "print(\"Min values:\", min_x)\n",
        "print(\"Max values:\", max_x)\n",
        "\n"
      ]
    },
    {
      "cell_type": "code",
      "execution_count": null,
      "metadata": {
        "colab": {
          "base_uri": "https://localhost:8080/"
        },
        "outputId": "98ba43d8-afd1-481e-8720-3bf2ad45e5ae",
        "id": "TpAnZU9cUc3v"
      },
      "outputs": [
        {
          "output_type": "stream",
          "name": "stdout",
          "text": [
            "Min values: tensor([-484960.7188], device='cuda:0')\n",
            "Max values: tensor([10434.9688], device='cuda:0')\n"
          ]
        }
      ],
      "source": []
    },
    {
      "cell_type": "markdown",
      "metadata": {
        "id": "iDXO7F157Fn4"
      },
      "source": [
        "# **Normla for rate**"
      ]
    },
    {
      "cell_type": "code",
      "execution_count": null,
      "metadata": {
        "id": "0VJmRMlC7Hbj"
      },
      "outputs": [],
      "source": [
        "min_val_x = torch.tensor([-10,-10, 0,0, -10], dtype=torch.float32).to(DEVICE)\n",
        "max_val_x = torch.tensor([10,10,200, 5, 10], dtype=torch.float32).to(DEVICE)\n",
        "\n",
        "\n",
        "# min_val_y = torch.tensor([0], dtype=torch.float32).to(DEVICE)\n",
        "# max_val_y = torch.tensor([10], dtype=torch.float32).to(DEVICE)\n",
        "\n",
        "#for without two acc\n",
        "# min_val_x = torch.tensor([-10, 0,0, -10], dtype=torch.float32).to(DEVICE)\n",
        "# max_val_x = torch.tensor([10, 200, 5, 10], dtype=torch.float32).to(DEVICE)\n",
        "# Custom normalization function for X\n",
        "def custom_normalize_X(data, min_vals, max_vals):\n",
        "    feature_count = 5\n",
        "    for i in range(feature_count):\n",
        "        data[:, :, i] = (data[:, :, i] - min_vals[i]) / (max_vals[i] - min_vals[i])\n",
        "    return data\n",
        "\n",
        "# def custom_normalize_y(data, min_val, max_val):\n",
        "#     return (data - min_val) / (max_val - min_val)\n",
        "\n",
        "\n",
        "X_train_normalized = custom_normalize_X(X_train, min_val_x, max_val_x)\n",
        "\n",
        "y_train_normalized = y_train\n",
        "# y_train_normalized = custom_normalize_y(y_train, min_val_y, max_val_y)"
      ]
    },
    {
      "cell_type": "markdown",
      "source": [
        "normalize rate new 9 acc"
      ],
      "metadata": {
        "id": "iKJkinnW482N"
      }
    },
    {
      "cell_type": "code",
      "source": [
        "min_val_x = torch.tensor([-10,-10,-10,-10,-10,-10,-10,-10,-10, 0,   0 , -10], dtype=torch.float32).to(DEVICE)\n",
        "max_val_x = torch.tensor([ 10, 10, 10, 10, 10, 10, 10, 10, 10, 200, 5 , 10], dtype=torch.float32).to(DEVICE)\n",
        "\n",
        "\n",
        "# min_val_y = torch.tensor([0], dtype=torch.float32).to(DEVICE)\n",
        "# max_val_y = torch.tensor([10], dtype=torch.float32).to(DEVICE)\n",
        "\n",
        "#for without two acc\n",
        "# min_val_x = torch.tensor([-10, 0,0, -10], dtype=torch.float32).to(DEVICE)\n",
        "# max_val_x = torch.tensor([10, 200, 5, 10], dtype=torch.float32).to(DEVICE)\n",
        "# Custom normalization function for X\n",
        "def custom_normalize_X(data, min_vals, max_vals):\n",
        "    feature_count = 12\n",
        "    for i in range(feature_count):\n",
        "        data[:, :, i] = (data[:, :, i] - min_vals[i]) / (max_vals[i] - min_vals[i])\n",
        "    return data\n",
        "\n",
        "# def custom_normalize_y(data, min_val, max_val):\n",
        "#     return (data - min_val) / (max_val - min_val)\n",
        "\n",
        "\n",
        "X_train_normalized = custom_normalize_X(X_train, min_val_x, max_val_x)\n",
        "\n",
        "y_train_normalized = y_train\n",
        "# y_train_normalized = custom_normalize_y(y_train, min_val_y, max_val_y)"
      ],
      "metadata": {
        "id": "3THdH-qP48r6"
      },
      "execution_count": null,
      "outputs": []
    },
    {
      "cell_type": "code",
      "source": [
        "min_val_x = torch.tensor([-10,-10,-10, 0,   0 , -10], dtype=torch.float32).to(DEVICE)\n",
        "max_val_x = torch.tensor([ 10, 10, 10, 200, 5 , 10], dtype=torch.float32).to(DEVICE)\n",
        "\n",
        "\n",
        "# min_val_y = torch.tensor([0], dtype=torch.float32).to(DEVICE)\n",
        "# max_val_y = torch.tensor([10], dtype=torch.float32).to(DEVICE)\n",
        "\n",
        "#for without two acc\n",
        "# min_val_x = torch.tensor([-10, 0,0, -10], dtype=torch.float32).to(DEVICE)\n",
        "# max_val_x = torch.tensor([10, 200, 5, 10], dtype=torch.float32).to(DEVICE)\n",
        "# Custom normalization function for X\n",
        "def custom_normalize_X(data, min_vals, max_vals):\n",
        "    feature_count = 6\n",
        "    for i in range(feature_count):\n",
        "        data[:, :, i] = (data[:, :, i] - min_vals[i]) / (max_vals[i] - min_vals[i])\n",
        "    return data\n",
        "\n",
        "# def custom_normalize_y(data, min_val, max_val):\n",
        "#     return (data - min_val) / (max_val - min_val)\n",
        "\n",
        "\n",
        "X_train_normalized = custom_normalize_X(X_train, min_val_x, max_val_x)\n",
        "\n",
        "y_train_normalized = y_train\n",
        "# y_train_normalized = custom_normalize_y(y_train, min_val_y, max_val_y)"
      ],
      "metadata": {
        "id": "RGk7YTwTFYsB"
      },
      "execution_count": null,
      "outputs": []
    },
    {
      "cell_type": "code",
      "source": [
        "# Compute the minimum and maximum across dimensions (0, 1)\n",
        "min_x = torch.min(X_train_normalized, dim=0)[0]  # Min across the first dimension\n",
        "min_x = torch.min(min_x, dim=0)[0].to(DEVICE)  # Min across the second dimension\n",
        "\n",
        "max_x = torch.max(X_train_normalized, dim=0)[0]  # Max across the first dimension\n",
        "max_x = torch.max(max_x, dim=0)[0].to(DEVICE)  # Max across the second dimension\n",
        "\n",
        "print(\"Min values:\", min_x)\n",
        "print(\"Max values:\", max_x)\n"
      ],
      "metadata": {
        "colab": {
          "base_uri": "https://localhost:8080/"
        },
        "id": "fFPJpA_HW7fU",
        "outputId": "4a787db6-4a0f-4cd6-9d1d-0aff30c45d48"
      },
      "execution_count": null,
      "outputs": [
        {
          "output_type": "stream",
          "name": "stdout",
          "text": [
            "Min values: tensor([-5.3000, -5.3000, -5.3000,  0.0000,  0.0000,  0.1875], device='cuda:0')\n",
            "Max values: tensor([6.3000, 6.3000, 6.3000, 0.7250, 1.0000, 1.5455], device='cuda:0')\n"
          ]
        }
      ]
    },
    {
      "cell_type": "code",
      "execution_count": null,
      "metadata": {
        "colab": {
          "base_uri": "https://localhost:8080/"
        },
        "id": "pRdMwCh7UjBa",
        "outputId": "f4927025-b8a5-4c3a-d365-6c21b0fa335b"
      },
      "outputs": [
        {
          "output_type": "execute_result",
          "data": {
            "text/plain": [
              "torch.Size([1728, 600, 5])"
            ]
          },
          "metadata": {},
          "execution_count": 12
        }
      ],
      "source": [
        "X_train_normalized.shape"
      ]
    },
    {
      "cell_type": "code",
      "execution_count": null,
      "metadata": {
        "colab": {
          "base_uri": "https://localhost:8080/"
        },
        "id": "PQUxG9UeUleC",
        "outputId": "01f77d7a-397a-48fe-c048-b69748583d51"
      },
      "outputs": [
        {
          "data": {
            "text/plain": [
              "torch.Size([55850, 600, 1])"
            ]
          },
          "execution_count": 102,
          "metadata": {},
          "output_type": "execute_result"
        }
      ],
      "source": [
        "y_train_normalized1.shape"
      ]
    },
    {
      "cell_type": "markdown",
      "metadata": {
        "id": "rGvLDIFEo3yV"
      },
      "source": [
        "# **Standard**"
      ]
    },
    {
      "cell_type": "code",
      "execution_count": null,
      "metadata": {
        "id": "G_j7q5t85DUH"
      },
      "outputs": [],
      "source": [
        "# Compute the mean and standard deviation for X and y from the training set\n",
        "mean_x = torch.mean(X_train, dim=(0, 1)).to(DEVICE)\n",
        "std_x = torch.std(X_train, dim=(0, 1)).to(DEVICE)\n",
        "\n",
        "mean_y = torch.mean(y_train).to(DEVICE)\n",
        "std_y = torch.std(y_train).to(DEVICE)\n",
        "\n",
        "# Custom standardization function for X\n",
        "def custom_standardize_X(data, mean_vals, std_vals):\n",
        "    for i in range(data.shape[-1]):\n",
        "        data[:, :, i] = (data[:, :, i] - mean_vals[i]) / std_vals[i]\n",
        "    return data\n",
        "\n",
        "# Custom standardization function for y\n",
        "def custom_standardize_y(data, mean_val, std_val):\n",
        "    return (data - mean_val) / std_val\n",
        "\n",
        "# Standardize X_train and y_train\n",
        "X_train_normalized = custom_standardize_X(X_train, mean_x, std_x)\n",
        "y_train_normalized = custom_standardize_y(y_train, mean_y, std_y)\n",
        "\n",
        "# # Standardize X_test and y_test using the same mean and std as training data\n",
        "# X_test_standardized = custom_standardize_X(X_test, mean_x, std_x)\n",
        "# y_test_standardized = custom_standardize_y(y_test, mean_y, std_y)\n",
        "\n",
        "\n",
        "X_train_normalized1 = custom_standardize_X(X_train1, mean_x, std_x)\n",
        "y_train_normalized1 = custom_standardize_y(y_train1, mean_y, std_y)\n",
        "\n",
        "\n",
        "import json\n",
        "\n",
        "# Convert tensors to lists to make them serializable\n",
        "mean_x_list = mean_x.cpu().tolist()\n",
        "std_x_list = std_x.cpu().tolist()\n",
        "mean_y_list = mean_y.cpu().tolist()\n",
        "std_y_list = std_y.cpu().tolist()\n",
        "\n",
        "# Save the mean and std values in a JSON file\n",
        "normalization_params = {\n",
        "    'mean_x': mean_x_list,\n",
        "    'std_x': std_x_list,\n",
        "    'mean_y': mean_y_list,\n",
        "    'std_y': std_y_list\n",
        "}\n",
        "\n",
        "# Write the normalization parameters to a JSON file\n",
        "with open('normalization_params.json', 'w') as f:\n",
        "    json.dump(normalization_params, f)\n"
      ]
    },
    {
      "cell_type": "markdown",
      "metadata": {
        "id": "WZ1tv5iCo54o"
      },
      "source": [
        "# **model**"
      ]
    },
    {
      "cell_type": "code",
      "execution_count": 9,
      "metadata": {
        "id": "MwYKbOq_Zcr7"
      },
      "outputs": [],
      "source": [
        "import torch.nn as nn\n",
        "import torch\n",
        "\n",
        "class FuelConsumptionModel(nn.Module):\n",
        "    def __init__(self, input_size):\n",
        "        super(FuelConsumptionModel, self).__init__()\n",
        "        # LSTM layers\n",
        "        self.lstm1 = nn.LSTM(input_size, 32, batch_first=True, bidirectional=True)\n",
        "        self.lstm2 = nn.LSTM(64, 32, batch_first=True, bidirectional=True)\n",
        "\n",
        "        # Layer Normalization after each LSTM\n",
        "        self.layer_norm1 = nn.LayerNorm(64)\n",
        "        self.layer_norm2 = nn.LayerNorm(64)\n",
        "\n",
        "        # Dropout layers\n",
        "        self.dropout1 = nn.Dropout(0.2)\n",
        "        self.dropout2 = nn.Dropout(0.2)\n",
        "\n",
        "        # Dense output layer\n",
        "        self.dense = nn.Linear(64, 1)\n",
        "\n",
        "    def forward(self, x):\n",
        "        # LSTM 1 + Layer Normalization + Dropout\n",
        "        x, _ = self.lstm1(x)\n",
        "        x = self.layer_norm1(x)  # Apply layer normalization after LSTM1\n",
        "        x = self.dropout1(x)\n",
        "\n",
        "        # LSTM 2 + Layer Normalization + Dropout\n",
        "        x, _ = self.lstm2(x)\n",
        "        x = self.layer_norm2(x)  # Apply layer normalization after LSTM2\n",
        "        x = self.dropout2(x)\n",
        "\n",
        "        # Dense layer for final output\n",
        "        x = self.dense(x)\n",
        "\n",
        "        return x\n"
      ]
    },
    {
      "cell_type": "markdown",
      "source": [
        "# **Attention model**"
      ],
      "metadata": {
        "id": "FprUMuyUnSJ5"
      }
    },
    {
      "cell_type": "code",
      "source": [
        "import torch\n",
        "import torch.nn as nn\n",
        "\n",
        "class AttentionLayer(nn.Module):\n",
        "    def __init__(self, input_dim):\n",
        "        super(AttentionLayer, self).__init__()\n",
        "        self.attention = nn.Linear(input_dim, 1)\n",
        "\n",
        "    def forward(self, x):\n",
        "        # Compute attention scores\n",
        "        attn_scores = self.attention(x)  # Shape: (batch_size, seq_len, 1)\n",
        "        attn_scores = torch.softmax(attn_scores, dim=1)  # Normalize scores across the sequence\n",
        "        # Weighted sum of input based on attention scores\n",
        "        weighted_output = torch.sum(attn_scores * x, dim=1)  # Shape: (batch_size, input_dim)\n",
        "        return weighted_output, attn_scores  # Return both output and attention weights for analysis\n",
        "\n",
        "class FuelConsumptionModel(nn.Module):\n",
        "    def __init__(self, input_size):\n",
        "        super(FuelConsumptionModel, self).__init__()\n",
        "        # LSTM layers\n",
        "        self.lstm1 = nn.LSTM(input_size, 32, batch_first=True, bidirectional=True)\n",
        "        self.lstm2 = nn.LSTM(64, 32, batch_first=True, bidirectional=True)\n",
        "\n",
        "        # Layer Normalization after each LSTM\n",
        "        self.layer_norm1 = nn.LayerNorm(64)\n",
        "        self.layer_norm2 = nn.LayerNorm(64)\n",
        "\n",
        "        # Dropout layers\n",
        "        self.dropout1 = nn.Dropout(0.2)\n",
        "        self.dropout2 = nn.Dropout(0.2)\n",
        "\n",
        "        # Attention mechanism\n",
        "        self.attention = AttentionLayer(64)\n",
        "\n",
        "        # Dense output layer\n",
        "        self.dense = nn.Linear(64, 1)\n",
        "\n",
        "    def forward(self, x):\n",
        "        # LSTM 1 + Layer Normalization + Dropout\n",
        "        x, _ = self.lstm1(x)\n",
        "        x = self.layer_norm1(x)  # Apply layer normalization after LSTM1\n",
        "        x = self.dropout1(x)\n",
        "\n",
        "        # LSTM 2 + Layer Normalization + Dropout\n",
        "        x, _ = self.lstm2(x)\n",
        "        x = self.layer_norm2(x)  # Apply layer normalization after LSTM2\n",
        "        x = self.dropout2(x)\n",
        "\n",
        "        # Apply attention mechanism\n",
        "        attn_output, attn_weights = self.attention(x)\n",
        "\n",
        "        # Dense layer for final output\n",
        "        output = self.dense(attn_output)\n",
        "\n",
        "        return output, attn_weights\n"
      ],
      "metadata": {
        "id": "fQTkMZDOnRf4"
      },
      "execution_count": null,
      "outputs": []
    },
    {
      "cell_type": "code",
      "execution_count": null,
      "metadata": {
        "colab": {
          "base_uri": "https://localhost:8080/"
        },
        "id": "g6TiBUVyUx_z",
        "outputId": "6f50c095-373a-43ef-c595-8ef81beb6062"
      },
      "outputs": [
        {
          "output_type": "execute_result",
          "data": {
            "text/plain": [
              "torch.Size([8000, 600, 5])"
            ]
          },
          "metadata": {},
          "execution_count": 63
        }
      ],
      "source": [
        "X_train_split.shape"
      ]
    },
    {
      "cell_type": "code",
      "execution_count": null,
      "metadata": {
        "colab": {
          "base_uri": "https://localhost:8080/"
        },
        "id": "keE2KWC8U06S",
        "outputId": "0d93bf58-f540-4abe-96db-c6c60d6c6dcf"
      },
      "outputs": [
        {
          "data": {
            "text/plain": [
              "torch.Size([44616, 600, 1])"
            ]
          },
          "execution_count": 71,
          "metadata": {},
          "output_type": "execute_result"
        }
      ],
      "source": [
        "y_train_split.shape"
      ]
    },
    {
      "cell_type": "code",
      "execution_count": null,
      "metadata": {
        "id": "csLAJyD43kt8"
      },
      "outputs": [],
      "source": []
    },
    {
      "cell_type": "markdown",
      "metadata": {
        "id": "o9D0YvUOqw2D"
      },
      "source": [
        "# **train**"
      ]
    },
    {
      "cell_type": "code",
      "execution_count": 14,
      "metadata": {
        "colab": {
          "base_uri": "https://localhost:8080/"
        },
        "id": "NrURTgcFgyYL",
        "outputId": "100227df-71fc-491b-bccd-b4e2e2985442"
      },
      "outputs": [
        {
          "output_type": "stream",
          "name": "stdout",
          "text": [
            "X_train_normalized shape: torch.Size([693174, 10, 5])\n",
            "y_train_normalized shape: torch.Size([693174, 10, 1])\n",
            "Train size: 554539, Validation size: 138635\n"
          ]
        }
      ],
      "source": [
        "# Check if X_train_normalized and y_train_normalized have the same number of samples\n",
        "print(f\"X_train_normalized shape: {X_train_normalized.shape}\")\n",
        "print(f\"y_train_normalized shape: {y_train_normalized.shape}\")\n",
        "\n",
        "# Ensure they have the same length in the first dimension\n",
        "if len(X_train_normalized) != len(y_train_normalized):\n",
        "    raise ValueError(f\"Mismatch in number of samples: {len(X_train_normalized)} in X vs {len(y_train_normalized)} in y\")\n",
        "\n",
        "# Calculate train size\n",
        "train_size = int(0.8 * len(X_train_normalized))\n",
        "\n",
        "# Split the data while preserving the order\n",
        "X_train_split = X_train_normalized[:train_size]\n",
        "y_train_split = y_train_normalized[:train_size]\n",
        "\n",
        "X_val_split = X_train_normalized[train_size:]\n",
        "y_val_split = y_train_normalized[train_size:]\n",
        "\n",
        "\n",
        "# X_train_split = X_train_normalized\n",
        "# y_train_split = y_train_normalized\n",
        "\n",
        "# X_val_split = X_train_normalized\n",
        "# y_val_split = y_train_normalized\n",
        "\n",
        "print(f\"Train size: {train_size}, Validation size: {len(X_val_split)}\")\n"
      ]
    },
    {
      "cell_type": "code",
      "execution_count": null,
      "metadata": {
        "colab": {
          "base_uri": "https://localhost:8080/"
        },
        "id": "_z0wpMf9gK-h",
        "outputId": "e0eebd61-decd-4eab-f5bd-5d658e8e595f"
      },
      "outputs": [
        {
          "output_type": "stream",
          "name": "stdout",
          "text": [
            "Epoch [1/250] ---- Training Loss: 0.0257 ---- Validation Loss: 0.011041 ------0.0001\n",
            "Epoch [2/250] ---- Training Loss: 0.0114 ---- Validation Loss: 0.009817 ------0.0001\n",
            "Epoch [3/250] ---- Training Loss: 0.0105 ---- Validation Loss: 0.009527 ------0.0001\n",
            "Epoch [4/250] ---- Training Loss: 0.0102 ---- Validation Loss: 0.009398 ------0.0001\n",
            "Epoch [5/250] ---- Training Loss: 0.0100 ---- Validation Loss: 0.009364 ------0.0001\n",
            "Epoch [6/250] ---- Training Loss: 0.0099 ---- Validation Loss: 0.009341 ------0.0001\n",
            "Epoch [7/250] ---- Training Loss: 0.0098 ---- Validation Loss: 0.009285 ------0.0001\n",
            "Epoch [8/250] ---- Training Loss: 0.0098 ---- Validation Loss: 0.009195 ------0.0001\n",
            "Epoch [9/250] ---- Training Loss: 0.0098 ---- Validation Loss: 0.009420 ------0.0001\n",
            "Epoch [10/250] ---- Training Loss: 0.0097 ---- Validation Loss: 0.009399 ------0.0001\n",
            "Epoch [11/250] ---- Training Loss: 0.0097 ---- Validation Loss: 0.009100 ------0.0001\n",
            "Epoch [12/250] ---- Training Loss: 0.0097 ---- Validation Loss: 0.009077 ------0.0001\n",
            "Epoch [13/250] ---- Training Loss: 0.0096 ---- Validation Loss: 0.009103 ------0.0001\n",
            "Epoch [14/250] ---- Training Loss: 0.0096 ---- Validation Loss: 0.009085 ------0.0001\n",
            "Epoch [15/250] ---- Training Loss: 0.0096 ---- Validation Loss: 0.009271 ------0.0001\n",
            "Epoch [16/250] ---- Training Loss: 0.0096 ---- Validation Loss: 0.009039 ------0.0001\n",
            "Epoch [17/250] ---- Training Loss: 0.0096 ---- Validation Loss: 0.009028 ------0.0001\n",
            "Epoch [18/250] ---- Training Loss: 0.0096 ---- Validation Loss: 0.009007 ------0.0001\n",
            "Epoch [19/250] ---- Training Loss: 0.0095 ---- Validation Loss: 0.009027 ------0.0001\n",
            "Epoch [20/250] ---- Training Loss: 0.0095 ---- Validation Loss: 0.009019 ------0.0001\n",
            "Epoch [21/250] ---- Training Loss: 0.0095 ---- Validation Loss: 0.009006 ------0.0001\n",
            "Epoch [22/250] ---- Training Loss: 0.0095 ---- Validation Loss: 0.009016 ------0.0001\n",
            "Epoch [23/250] ---- Training Loss: 0.0095 ---- Validation Loss: 0.009067 ------0.0001\n",
            "Epoch [24/250] ---- Training Loss: 0.0095 ---- Validation Loss: 0.009025 ------0.0001\n",
            "Epoch [25/250] ---- Training Loss: 0.0095 ---- Validation Loss: 0.009064 ------0.0001\n",
            "Epoch [26/250] ---- Training Loss: 0.0095 ---- Validation Loss: 0.008990 ------0.0001\n",
            "Epoch [27/250] ---- Training Loss: 0.0095 ---- Validation Loss: 0.008963 ------0.0001\n",
            "Epoch [28/250] ---- Training Loss: 0.0095 ---- Validation Loss: 0.008964 ------0.0001\n",
            "Epoch [29/250] ---- Training Loss: 0.0095 ---- Validation Loss: 0.008965 ------0.0001\n",
            "Epoch [30/250] ---- Training Loss: 0.0094 ---- Validation Loss: 0.008951 ------0.0001\n",
            "Epoch [31/250] ---- Training Loss: 0.0094 ---- Validation Loss: 0.008937 ------0.0001\n",
            "Epoch [32/250] ---- Training Loss: 0.0094 ---- Validation Loss: 0.009018 ------0.0001\n",
            "Epoch [33/250] ---- Training Loss: 0.0094 ---- Validation Loss: 0.008961 ------0.0001\n",
            "Epoch [34/250] ---- Training Loss: 0.0094 ---- Validation Loss: 0.009022 ------0.0001\n",
            "Epoch [35/250] ---- Training Loss: 0.0094 ---- Validation Loss: 0.008949 ------0.0001\n",
            "Epoch [36/250] ---- Training Loss: 0.0094 ---- Validation Loss: 0.008921 ------0.0001\n",
            "Epoch [37/250] ---- Training Loss: 0.0094 ---- Validation Loss: 0.008914 ------0.0001\n",
            "Epoch [38/250] ---- Training Loss: 0.0094 ---- Validation Loss: 0.008863 ------0.0001\n",
            "Epoch [39/250] ---- Training Loss: 0.0094 ---- Validation Loss: 0.008891 ------0.0001\n",
            "Epoch [40/250] ---- Training Loss: 0.0094 ---- Validation Loss: 0.008881 ------0.0001\n",
            "Epoch [41/250] ---- Training Loss: 0.0094 ---- Validation Loss: 0.008940 ------0.0001\n",
            "Epoch [42/250] ---- Training Loss: 0.0094 ---- Validation Loss: 0.009063 ------0.0001\n",
            "Epoch [43/250] ---- Training Loss: 0.0094 ---- Validation Loss: 0.008899 ------0.0001\n",
            "Epoch [44/250] ---- Training Loss: 0.0094 ---- Validation Loss: 0.008893 ------0.0001\n",
            "Epoch [45/250] ---- Training Loss: 0.0094 ---- Validation Loss: 0.008891 ------0.0001\n",
            "Epoch [46/250] ---- Training Loss: 0.0094 ---- Validation Loss: 0.009015 ------0.0001\n",
            "Epoch [47/250] ---- Training Loss: 0.0094 ---- Validation Loss: 0.008892 ------0.0001\n",
            "Epoch [48/250] ---- Training Loss: 0.0094 ---- Validation Loss: 0.009094 ------0.0001\n",
            "Epoch [49/250] ---- Training Loss: 0.0094 ---- Validation Loss: 0.008901 ------0.0001\n",
            "Epoch [50/250] ---- Training Loss: 0.0094 ---- Validation Loss: 0.008834 ------0.0001\n",
            "Epoch [51/250] ---- Training Loss: 0.0093 ---- Validation Loss: 0.008822 ------5e-05\n",
            "Epoch [52/250] ---- Training Loss: 0.0093 ---- Validation Loss: 0.008824 ------5e-05\n",
            "Epoch [53/250] ---- Training Loss: 0.0093 ---- Validation Loss: 0.008876 ------5e-05\n",
            "Epoch [54/250] ---- Training Loss: 0.0093 ---- Validation Loss: 0.008861 ------5e-05\n",
            "Epoch [55/250] ---- Training Loss: 0.0093 ---- Validation Loss: 0.008839 ------5e-05\n",
            "Epoch [56/250] ---- Training Loss: 0.0093 ---- Validation Loss: 0.008833 ------5e-05\n",
            "Epoch [57/250] ---- Training Loss: 0.0093 ---- Validation Loss: 0.008839 ------5e-05\n",
            "Epoch [58/250] ---- Training Loss: 0.0093 ---- Validation Loss: 0.008853 ------5e-05\n",
            "Epoch [59/250] ---- Training Loss: 0.0093 ---- Validation Loss: 0.008897 ------5e-05\n",
            "Epoch [60/250] ---- Training Loss: 0.0093 ---- Validation Loss: 0.008809 ------5e-05\n",
            "Epoch [61/250] ---- Training Loss: 0.0093 ---- Validation Loss: 0.008807 ------5e-05\n",
            "Epoch [62/250] ---- Training Loss: 0.0093 ---- Validation Loss: 0.008969 ------5e-05\n",
            "Epoch [63/250] ---- Training Loss: 0.0093 ---- Validation Loss: 0.008811 ------5e-05\n",
            "Epoch [64/250] ---- Training Loss: 0.0093 ---- Validation Loss: 0.008809 ------5e-05\n",
            "Epoch [65/250] ---- Training Loss: 0.0093 ---- Validation Loss: 0.008794 ------5e-05\n",
            "Epoch [66/250] ---- Training Loss: 0.0093 ---- Validation Loss: 0.008805 ------5e-05\n",
            "Epoch [67/250] ---- Training Loss: 0.0093 ---- Validation Loss: 0.008983 ------5e-05\n",
            "Epoch [68/250] ---- Training Loss: 0.0093 ---- Validation Loss: 0.008805 ------5e-05\n",
            "Epoch [69/250] ---- Training Loss: 0.0093 ---- Validation Loss: 0.008842 ------5e-05\n",
            "Epoch [70/250] ---- Training Loss: 0.0093 ---- Validation Loss: 0.008825 ------5e-05\n",
            "Epoch [71/250] ---- Training Loss: 0.0093 ---- Validation Loss: 0.008839 ------5e-05\n",
            "Epoch [72/250] ---- Training Loss: 0.0093 ---- Validation Loss: 0.008836 ------5e-05\n",
            "Epoch [73/250] ---- Training Loss: 0.0093 ---- Validation Loss: 0.008888 ------5e-05\n",
            "Epoch [74/250] ---- Training Loss: 0.0093 ---- Validation Loss: 0.008804 ------5e-05\n",
            "Epoch [75/250] ---- Training Loss: 0.0093 ---- Validation Loss: 0.008833 ------5e-05\n",
            "Epoch [76/250] ---- Training Loss: 0.0093 ---- Validation Loss: 0.008786 ------5e-05\n",
            "Epoch [77/250] ---- Training Loss: 0.0093 ---- Validation Loss: 0.008816 ------5e-05\n",
            "Epoch [78/250] ---- Training Loss: 0.0093 ---- Validation Loss: 0.008782 ------5e-05\n",
            "Epoch [79/250] ---- Training Loss: 0.0093 ---- Validation Loss: 0.008816 ------5e-05\n"
          ]
        }
      ],
      "source": [
        "import torch\n",
        "import torch.nn as nn\n",
        "import torch.optim as optim\n",
        "from torch.optim.lr_scheduler import StepLR  # Importing StepLR for learning rate decay\n",
        "from torch.optim.lr_scheduler import ReduceLROnPlateau\n",
        "# Assuming `FuelConsumptionModel`, `X_train_normalized`, `train_loader`, `val_loader`, `DEVICE`, and `EPOCHS` are defined\n",
        "\n",
        "# Choose a single loss function to use for all experiments\n",
        "criterion = nn.L1Loss()  # You can change this to your preferred loss function\n",
        "\n",
        "EPOCHS = 250\n",
        "# Define weight decay values and initial learning rates for decay schedules\n",
        "weight_decay_values = 1e-5\n",
        "initial_learning_rates = [1e-4]  # Two starting learning rates\n",
        "\n",
        "# Initialize variables to track the best parameters\n",
        "best_weight_decay = None\n",
        "best_initial_lr = None\n",
        "best_model_weights = None\n",
        "best_val_loss = float('inf')\n",
        "\n",
        "ini_batches = [64]\n",
        "# Loop over all combinations of initial learning rates and weight decay values\n",
        "\n",
        "BATCH_SIZE = 64\n",
        "# Create DataLoader for training and validation sets\n",
        "train_loader = DataLoader(TensorDataset(X_train_split, y_train_split), batch_size=BATCH_SIZE, shuffle=True)\n",
        "val_loader = DataLoader(TensorDataset(X_val_split, y_val_split), batch_size=BATCH_SIZE, shuffle=False)\n",
        "\n",
        "for init_lr in initial_learning_rates:\n",
        "    # Initialize model, criterion, and optimizer for each combination\n",
        "    model = FuelConsumptionModel(input_size=X_train_split.shape[-1]).to(DEVICE)\n",
        "    optimizer = optim.Adam(model.parameters(), lr=init_lr, weight_decay=weight_decay_values)\n",
        "    # scheduler = ReduceLROnPlateau(optimizer, mode='min', factor=0.5, patience=5, verbose=True)\n",
        "    scheduler = StepLR(optimizer, step_size=50, gamma=0.5)  # Decay LR by 0.5 every 50 epochs\n",
        "\n",
        "    # Early stopping parameters\n",
        "    patience = 12  # Number of epochs to wait before stopping if no improvement\n",
        "    best_loss = float('inf')  # Initialize best loss to infinity\n",
        "    epochs_without_improvement = 0  # Counter for epochs without improvement\n",
        "\n",
        "    # Training loop with early stopping\n",
        "    model.train()\n",
        "    for epoch in range(EPOCHS):\n",
        "        running_loss = 0.0\n",
        "        model.train()  # Ensure model is in training mode\n",
        "\n",
        "        # Training phase\n",
        "        for inputs, targets in train_loader:\n",
        "            inputs, targets = inputs.to(DEVICE), targets.to(DEVICE)  # Ensure data is on the correct device\n",
        "            optimizer.zero_grad()\n",
        "            outputs = model(inputs)\n",
        "            loss = criterion(outputs, targets)\n",
        "            loss.backward()\n",
        "            optimizer.step()\n",
        "            running_loss += loss.item()\n",
        "\n",
        "        # Calculate average loss for the epoch\n",
        "        avg_training_loss = running_loss / len(train_loader)\n",
        "\n",
        "        # Validation phase\n",
        "        model.eval()  # Switch to evaluation mode\n",
        "        val_running_loss = 0.0\n",
        "        with torch.no_grad():\n",
        "            for inputs, targets in val_loader:  # Assume you have a validation DataLoader `val_loader`\n",
        "                inputs, targets = inputs.to(DEVICE), targets.to(DEVICE)  # Ensure data is on the correct device\n",
        "                # print(inputs.shape)\n",
        "                # print(targets.shape)\n",
        "                outputs = model(inputs)\n",
        "                # print(outputs.shape)\n",
        "                val_loss = criterion(outputs, targets)\n",
        "                val_running_loss += val_loss.item()\n",
        "\n",
        "        avg_val_loss = val_running_loss / len(val_loader)\n",
        "\n",
        "        current_lr = optimizer.param_groups[0]['lr']\n",
        "        print(f\"Epoch [{epoch+1}/{EPOCHS}] ---- Training Loss: {avg_training_loss:.4f} ---- Validation Loss: {avg_val_loss:.6f} ------{current_lr}\")\n",
        "\n",
        "        # print(f\"Epoch [{epoch+1}/{EPOCHS}] ---- Training Loss: {avg_training_loss:.4f} ---- Validation Loss: {avg_val_loss:.4f}    Init LR: {init_lr:.0e}  WD: {wd:.0e}\")\n",
        "\n",
        "        # Adjust the learning rate\n",
        "        # scheduler.step(avg_val_loss)\n",
        "        scheduler.step()\n",
        "\n",
        "        # Early stopping check\n",
        "        if avg_val_loss < best_loss:\n",
        "            best_loss = avg_val_loss\n",
        "            epochs_without_improvement = 0\n",
        "        else:\n",
        "            epochs_without_improvement += 1\n",
        "            if epochs_without_improvement >= patience:\n",
        "                print(f\"Early stopping at epoch {epoch+1}\")\n",
        "                break\n",
        "\n",
        "        # Save the model for the current combination\n",
        "        model_filename = f'best_fuel_consumption_model.pth'\n",
        "        torch.save(model.state_dict(), model_filename)\n",
        "\n",
        "\n",
        "\n",
        "print(f\"Saved model: {model_filename}\")"
      ]
    },
    {
      "cell_type": "markdown",
      "metadata": {
        "id": "7o2xWWKvmT67"
      },
      "source": []
    },
    {
      "cell_type": "markdown",
      "source": [
        "# **Physics loss**"
      ],
      "metadata": {
        "id": "WHl4zatyNHKP"
      }
    },
    {
      "cell_type": "code",
      "source": [
        "# Define the physics-based loss\n",
        "def physics_loss(predictions, inputs):\n",
        "    \"\"\"\n",
        "    Calculate the physics-based loss.\n",
        "    Args:\n",
        "        predictions (torch.Tensor): Model predictions (e.g., fuel consumption).\n",
        "        inputs (torch.Tensor): Input features (e.g., speed, acceleration).\n",
        "    Returns:\n",
        "        torch.Tensor: Physics-based loss value.\n",
        "    \"\"\"\n",
        "    # Example: Physics rule for fuel consumption (modify based on your physical equations)\n",
        "    # Assuming inputs[:, 0] = speed, inputs[:, 1] = acceleration\n",
        "    speed = inputs[:, 0]\n",
        "    acceleration = inputs[:, 1]\n",
        "\n",
        "    # Physics-based expectation for fuel consumption\n",
        "    k1, k2 = 0.1, 0.05  # Example coefficients (tune based on domain knowledge)\n",
        "    physics_expectation = k1 * speed**2 + k2 * acceleration\n",
        "\n",
        "    # Physics-based loss: Mean Squared Error between model predictions and physics expectations\n",
        "    loss = nn.MSELoss()(predictions.squeeze(), physics_expectation)\n",
        "    return loss\n",
        "\n",
        "# Update the training loop\n",
        "alpha = 1.0  # Weight for data loss\n",
        "beta = 0.5   # Weight for physics-based loss\n",
        "\n",
        "for epoch in range(EPOCHS):\n",
        "    running_loss = 0.0\n",
        "    model.train()  # Ensure model is in training mode\n",
        "\n",
        "    # Training phase\n",
        "    for inputs, targets in train_loader:\n",
        "        inputs, targets = inputs.to(DEVICE), targets.to(DEVICE)  # Ensure data is on the correct device\n",
        "        optimizer.zero_grad()\n",
        "\n",
        "        outputs = model(inputs)  # Forward pass\n",
        "\n",
        "        # Calculate losses\n",
        "        data_loss = criterion(outputs, targets)  # Data-driven loss\n",
        "        phys_loss = physics_loss(outputs, inputs)  # Physics-based loss\n",
        "\n",
        "        # Total loss: Weighted combination of data loss and physics loss\n",
        "        total_loss = alpha * data_loss + beta * phys_loss\n",
        "\n",
        "        # Backward pass and optimization\n",
        "        total_loss.backward()\n",
        "        optimizer.step()\n",
        "\n",
        "        running_loss += total_loss.item()\n",
        "\n",
        "    avg_training_loss = running_loss / len(train_loader)\n",
        "\n",
        "    # Validation phase\n",
        "    model.eval()\n",
        "    val_running_loss = 0.0\n",
        "    with torch.no_grad():\n",
        "        for inputs, targets in val_loader:\n",
        "            inputs, targets = inputs.to(DEVICE), targets.to(DEVICE)\n",
        "            outputs = model(inputs)\n",
        "            val_loss = criterion(outputs, targets)  # Data-driven loss only\n",
        "            val_running_loss += val_loss.item()\n",
        "\n",
        "    avg_val_loss = val_running_loss / len(val_loader)\n",
        "\n",
        "    # Print losses\n",
        "    print(f\"Epoch [{epoch+1}/{EPOCHS}] ---- Training Loss: {avg_training_loss:.4f} ---- Validation Loss: {avg_val_loss:.4f}\")\n"
      ],
      "metadata": {
        "id": "sWQxOqMXNIen"
      },
      "execution_count": null,
      "outputs": []
    },
    {
      "cell_type": "markdown",
      "source": [
        "# **Train model with attention**"
      ],
      "metadata": {
        "id": "uVsTxiOtnxip"
      }
    },
    {
      "cell_type": "code",
      "source": [
        "import torch\n",
        "import torch.nn as nn\n",
        "import torch.optim as optim\n",
        "from torch.optim.lr_scheduler import StepLR  # Importing StepLR for learning rate decay\n",
        "from torch.optim.lr_scheduler import ReduceLROnPlateau\n",
        "# Assuming `FuelConsumptionModel`, `X_train_normalized`, `train_loader`, `val_loader`, `DEVICE`, and `EPOCHS` are defined\n",
        "\n",
        "# Choose a single loss function to use for all experiments\n",
        "criterion = nn.L1Loss()  # You can change this to your preferred loss function\n",
        "\n",
        "EPOCHS = 250\n",
        "# Define weight decay values and initial learning rates for decay schedules\n",
        "weight_decay_values = 1e-5\n",
        "initial_learning_rates = [1e-4]  # Two starting learning rates\n",
        "\n",
        "# Initialize variables to track the best parameters\n",
        "best_weight_decay = None\n",
        "best_initial_lr = None\n",
        "best_model_weights = None\n",
        "best_val_loss = float('inf')\n",
        "\n",
        "ini_batches = [64]\n",
        "# Loop over all combinations of initial learning rates and weight decay values\n",
        "\n",
        "BATCH_SIZE = 64\n",
        "# Create DataLoader for training and validation sets\n",
        "train_loader = DataLoader(TensorDataset(X_train_split, y_train_split), batch_size=BATCH_SIZE, shuffle=True)\n",
        "val_loader = DataLoader(TensorDataset(X_val_split, y_val_split), batch_size=BATCH_SIZE, shuffle=False)\n",
        "\n",
        "for init_lr in initial_learning_rates:\n",
        "    # Initialize model, criterion, and optimizer for each combination\n",
        "    model = FuelConsumptionModel(input_size=X_train_split.shape[-1]).to(DEVICE)\n",
        "    optimizer = optim.Adam(model.parameters(), lr=init_lr, weight_decay=weight_decay_values)\n",
        "    # scheduler = ReduceLROnPlateau(optimizer, mode='min', factor=0.5, patience=5, verbose=True)\n",
        "    scheduler = StepLR(optimizer, step_size=50, gamma=0.5)  # Decay LR by 0.5 every 50 epochs\n",
        "\n",
        "    # Early stopping parameters\n",
        "    patience = 12  # Number of epochs to wait before stopping if no improvement\n",
        "    best_loss = float('inf')  # Initialize best loss to infinity\n",
        "    epochs_without_improvement = 0  # Counter for epochs without improvement\n",
        "\n",
        "    # Training loop with early stopping\n",
        "    model.train()\n",
        "    for epoch in range(EPOCHS):\n",
        "        running_loss = 0.0\n",
        "        model.train()  # Ensure model is in training mode\n",
        "\n",
        "        # Training phase\n",
        "        for inputs, targets in train_loader:\n",
        "            inputs, targets = inputs.to(DEVICE), targets.to(DEVICE)  # Ensure data is on the correct device\n",
        "            optimizer.zero_grad()\n",
        "            outputs , attw = model(inputs)\n",
        "            loss = criterion(outputs, targets)\n",
        "            loss.backward()\n",
        "            optimizer.step()\n",
        "            running_loss += loss.item()\n",
        "\n",
        "        # Calculate average loss for the epoch\n",
        "        avg_training_loss = running_loss / len(train_loader)\n",
        "\n",
        "        # Validation phase\n",
        "        model.eval()  # Switch to evaluation mode\n",
        "        val_running_loss = 0.0\n",
        "        with torch.no_grad():\n",
        "            for inputs, targets in val_loader:  # Assume you have a validation DataLoader `val_loader`\n",
        "                inputs, targets = inputs.to(DEVICE), targets.to(DEVICE)  # Ensure data is on the correct device\n",
        "                # print(inputs.shape)\n",
        "                # print(targets.shape)\n",
        "                outputs , attw = model(inputs)\n",
        "                # print(outputs.shape)\n",
        "                val_loss = criterion(outputs, targets)\n",
        "                val_running_loss += val_loss.item()\n",
        "\n",
        "        avg_val_loss = val_running_loss / len(val_loader)\n",
        "\n",
        "        current_lr = optimizer.param_groups[0]['lr']\n",
        "        print(f\"Epoch [{epoch+1}/{EPOCHS}] ---- Training Loss: {avg_training_loss:.4f} ---- Validation Loss: {avg_val_loss:.6f} ------{current_lr}\")\n",
        "\n",
        "        # print(f\"Epoch [{epoch+1}/{EPOCHS}] ---- Training Loss: {avg_training_loss:.4f} ---- Validation Loss: {avg_val_loss:.4f}    Init LR: {init_lr:.0e}  WD: {wd:.0e}\")\n",
        "\n",
        "        # Adjust the learning rate\n",
        "        # scheduler.step(avg_val_loss)\n",
        "        scheduler.step()\n",
        "\n",
        "        # Early stopping check\n",
        "        if avg_val_loss < best_loss:\n",
        "            best_loss = avg_val_loss\n",
        "            epochs_without_improvement = 0\n",
        "        else:\n",
        "            epochs_without_improvement += 1\n",
        "            if epochs_without_improvement >= patience:\n",
        "                print(f\"Early stopping at epoch {epoch+1}\")\n",
        "                # break\n",
        "\n",
        "        # Save the model for the current combination\n",
        "        model_filename = f'best_fuel_consumption_model.pth'\n",
        "        torch.save(model.state_dict(), model_filename)\n",
        "\n",
        "\n",
        "print(f\"Saved model: {model_filename}\")"
      ],
      "metadata": {
        "id": "0DtVE70KnxWx"
      },
      "execution_count": null,
      "outputs": []
    },
    {
      "cell_type": "markdown",
      "metadata": {
        "id": "U1P_IJRN1eql"
      },
      "source": [
        "# **fine tuning model**"
      ]
    },
    {
      "cell_type": "code",
      "execution_count": null,
      "metadata": {
        "id": "1nSQ1RKLHOt_"
      },
      "outputs": [],
      "source": [
        "data = np.load('/content/gdrive/MyDrive/fine_tune600.npz')\n",
        "data1 = np.load('/content/gdrive/MyDrive/fine_tune600.npz')"
      ]
    },
    {
      "cell_type": "code",
      "execution_count": null,
      "metadata": {
        "id": "FGJYzvG3HOt_"
      },
      "outputs": [],
      "source": [
        "\n",
        "\n",
        "\n",
        "X_original = data['X_original']\n",
        "y_original = data['y_original']\n",
        "X_augmented = data['X_augmented']\n",
        "y_augmented = data['y_augmented']\n",
        "\n",
        "\n",
        "X_original1 = data1['X_original']\n",
        "y_original1 = data1['y_original']\n",
        "X_augmented1 = data1['X_augmented']\n",
        "y_augmented1 = data1['y_augmented']\n",
        "\n",
        "\n",
        "# Convert data to PyTorch tensors\n",
        "try:\n",
        "    X_original = torch.tensor(np.array(X_original), dtype=torch.float32).to(DEVICE)\n",
        "    y_original = torch.tensor(np.array(y_original), dtype=torch.float32).to(DEVICE)\n",
        "    X_augmented = torch.tensor(np.array(X_augmented), dtype=torch.float32).to(DEVICE)\n",
        "    y_augmented = torch.tensor(np.array(y_augmented), dtype=torch.float32).to(DEVICE)\n",
        "except Exception as e:\n",
        "    print(f\"Error during tensor conversion: {e}\")\n",
        "    print(f\"Shapes: X_original - {np.array(X_original).shape}, y_original - {np.array(y_original).shape}\")\n",
        "    print(f\"Shapes: X_augmented - {np.array(X_augmented).shape}, y_augmented - {np.array(y_augmented).shape}\")\n",
        "    raise\n",
        "\n",
        "\n",
        "# Convert data to PyTorch tensors\n",
        "try:\n",
        "    X_original1 = torch.tensor(np.array(X_original1), dtype=torch.float32).to(DEVICE)\n",
        "    y_original1 = torch.tensor(np.array(y_original1), dtype=torch.float32).to(DEVICE)\n",
        "    X_augmented1 = torch.tensor(np.array(X_augmented1), dtype=torch.float32).to(DEVICE)\n",
        "    y_augmented1 = torch.tensor(np.array(y_augmented1), dtype=torch.float32).to(DEVICE)\n",
        "except Exception as e:\n",
        "    print(f\"Error during tensor conversion: {e}\")\n",
        "    print(f\"Shapes: X_original1 - {np.array(X_original1).shape}, y_original1 - {np.array(y_original1).shape}\")\n",
        "    print(f\"Shapes: X_augmented1 - {np.array(X_augmented1).shape}, y_augmented1 - {np.array(y_augmented1).shape}\")\n",
        "    raise\n",
        "\n",
        "\n",
        "X_train = torch.cat([X_original, X_augmented])\n",
        "y_train = torch.cat([y_original, y_augmented])\n",
        "\n",
        "X_train1 = torch.cat([X_original1, X_augmented1])\n",
        "y_train1 = torch.cat([y_original1, y_augmented1])"
      ]
    },
    {
      "cell_type": "code",
      "execution_count": null,
      "metadata": {
        "id": "_OtUM9LhH6BR"
      },
      "outputs": [],
      "source": [
        "# this cell for delete coolant temp from data\n",
        "X_train = X_train[:, :, :-1]  # Slicing to exclude the last column\n",
        "X_train1 = X_train1[:, :, :-1]  # Slicing to exclude the last column\n"
      ]
    },
    {
      "cell_type": "code",
      "execution_count": null,
      "metadata": {
        "id": "K30XCIyEJ0lQ"
      },
      "outputs": [],
      "source": [
        "X_train = torch.nan_to_num(X_train, nan=0.0)"
      ]
    },
    {
      "cell_type": "code",
      "execution_count": null,
      "metadata": {
        "id": "obfO6lqvHOt_"
      },
      "outputs": [],
      "source": [
        "\n",
        "# Convert the min and max values to tensors\n",
        "min_val_x = torch.tensor([0, 0, -10, -10,0], dtype=torch.float32).to(DEVICE)\n",
        "max_val_x = torch.tensor([6, 150, 10, 10,130], dtype=torch.float32).to(DEVICE)\n",
        "\n",
        "#for without coolant\n",
        "min_val_x = torch.tensor([0, 0, -10, -10], dtype=torch.float32).to(DEVICE)\n",
        "max_val_x = torch.tensor([6, 150, 10, 10], dtype=torch.float32).to(DEVICE)\n",
        "\n",
        "\n",
        "min_val_y = torch.tensor([0], dtype=torch.float32).to(DEVICE)\n",
        "max_val_y = torch.tensor([10000], dtype=torch.float32).to(DEVICE)\n",
        "\n",
        "# Custom normalization function for X\n",
        "def custom_normalize_X(data, min_vals, max_vals):\n",
        "    for i in range(data.shape[-1]):\n",
        "        data[:, :, i] = (data[:, :, i] - min_vals[i]) / (max_vals[i] - min_vals[i])\n",
        "    return data\n",
        "\n",
        "# Custom normalization function for y\n",
        "def custom_normalize_y(data, min_val, max_val):\n",
        "    return (data - min_val) / (max_val - min_val)\n",
        "\n",
        "# Normalize X_train and X_test\n",
        "X_train_normalized = custom_normalize_X(X_train, min_val_x, max_val_x)\n",
        "# X_test_normalized = custom_normalize_X(X_test, min_val_x, max_val_x)\n",
        "\n",
        "# Normalize y_train and y_test\n",
        "y_train_normalized = custom_normalize_y(y_train, min_val_y, max_val_y)\n",
        "# y_test_normalized = custom_normalize_y(y_test, min_val_y, max_val_y)\n",
        "\n",
        "\n",
        "# Normalize X_train and X_test\n",
        "X_train_normalized1 = custom_normalize_X(X_train1, min_val_x, max_val_x)\n",
        "# X_test_normalized = custom_normalize_X(X_test, min_val_x, max_val_x)\n",
        "\n",
        "# Normalize y_train and y_test\n",
        "y_train_normalized1 = custom_normalize_y(y_train1, min_val_y, max_val_y)\n",
        "# y_test_normalized = custom_normalize_y(y_test, min_val_y, max_val_y)\n"
      ]
    },
    {
      "cell_type": "code",
      "execution_count": null,
      "metadata": {
        "colab": {
          "base_uri": "https://localhost:8080/"
        },
        "id": "1SIX2BFyIqyn",
        "outputId": "1b918554-b2f4-4ac7-9b82-a35072cec78f"
      },
      "outputs": [
        {
          "data": {
            "text/plain": [
              "tensor([[[0.8333, 0.6067, 0.5355, 0.5000],\n",
              "         [0.8333, 0.6133, 0.5355, 0.5500],\n",
              "         [0.8333, 0.6200, 0.5355, 0.5500],\n",
              "         ...,\n",
              "         [0.8333, 0.7200, 0.5846, 0.3000],\n",
              "         [0.8333, 0.7000, 0.5846, 0.3500],\n",
              "         [0.8333, 0.6733, 0.5846, 0.3000]],\n",
              "\n",
              "        [[0.8333, 0.8733, 0.5363, 0.5000],\n",
              "         [0.8333, 0.8800, 0.5363, 0.5500],\n",
              "         [0.8333, 0.8867, 0.5363, 0.5500],\n",
              "         ...,\n",
              "         [0.1667, 0.0533, 0.5648, 0.5500],\n",
              "         [0.1667, 0.0533, 0.5648, 0.5000],\n",
              "         [0.1667, 0.0533, 0.5000, 0.5000]],\n",
              "\n",
              "        [[0.8333, 0.7800, 0.4805, 0.5000],\n",
              "         [0.8333, 0.7867, 0.4805, 0.5500],\n",
              "         [0.8333, 0.7933, 0.4805, 0.5500],\n",
              "         ...,\n",
              "         [0.8333, 0.7200, 0.5904, 0.5000],\n",
              "         [0.8333, 0.7133, 0.5904, 0.4500],\n",
              "         [0.8333, 0.7133, 0.5904, 0.5000]],\n",
              "\n",
              "        ...,\n",
              "\n",
              "        [[0.8333, 0.6733, 0.5455, 0.4500],\n",
              "         [0.8333, 0.6733, 0.5455, 0.5000],\n",
              "         [0.8333, 0.6733, 0.5455, 0.5000],\n",
              "         ...,\n",
              "         [0.6667, 0.4000, 0.6727, 0.6500],\n",
              "         [0.6667, 0.4133, 0.6727, 0.6000],\n",
              "         [0.6667, 0.4267, 0.5000, 0.6000]],\n",
              "\n",
              "        [[0.6667, 0.4467, 0.6496, 0.6500],\n",
              "         [0.6667, 0.4667, 0.6496, 0.6500],\n",
              "         [0.6667, 0.4800, 0.6496, 0.6000],\n",
              "         ...,\n",
              "         [0.6667, 0.7933, 0.5417, 0.4000],\n",
              "         [0.6667, 0.7800, 0.5417, 0.4000],\n",
              "         [0.6667, 0.7800, 0.5000, 0.5000]],\n",
              "\n",
              "        [[0.6667, 0.7667, 0.4890, 0.4000],\n",
              "         [0.6667, 0.7467, 0.4890, 0.3500],\n",
              "         [0.6667, 0.7200, 0.4890, 0.3000],\n",
              "         ...,\n",
              "         [0.6667, 0.8867, 0.4464, 0.6000],\n",
              "         [0.6667, 0.9067, 0.4464, 0.6500],\n",
              "         [0.6667, 0.9267, 0.3698, 0.6500]]], device='cuda:0')"
            ]
          },
          "execution_count": 35,
          "metadata": {},
          "output_type": "execute_result"
        }
      ],
      "source": [
        "X_train_normalized"
      ]
    },
    {
      "cell_type": "code",
      "execution_count": null,
      "metadata": {
        "id": "vMglnLKkKiXL"
      },
      "outputs": [],
      "source": []
    },
    {
      "cell_type": "code",
      "execution_count": null,
      "metadata": {
        "colab": {
          "base_uri": "https://localhost:8080/"
        },
        "id": "Jt8BDh0YJWVQ",
        "outputId": "05150e73-f4e2-474f-86dc-1306657b1967"
      },
      "outputs": [
        {
          "name": "stdout",
          "output_type": "stream",
          "text": [
            "The tensor does not contain any NaN values.\n"
          ]
        }
      ],
      "source": [
        "has_nan = torch.isnan(X_train).any()\n",
        "\n",
        "if has_nan:\n",
        "    print(\"The tensor contains NaN values.\")\n",
        "else:\n",
        "    print(\"The tensor does not contain any NaN values.\")"
      ]
    },
    {
      "cell_type": "code",
      "execution_count": 11,
      "metadata": {
        "colab": {
          "base_uri": "https://localhost:8080/"
        },
        "id": "DfGjH8V9H0Up",
        "outputId": "410d8851-d3a2-4298-8797-b732c5f92374"
      },
      "outputs": [
        {
          "output_type": "stream",
          "name": "stderr",
          "text": [
            "<ipython-input-11-f23652e4983c>:40: FutureWarning: You are using `torch.load` with `weights_only=False` (the current default value), which uses the default pickle module implicitly. It is possible to construct malicious pickle data which will execute arbitrary code during unpickling (See https://github.com/pytorch/pytorch/blob/main/SECURITY.md#untrusted-models for more details). In a future release, the default value for `weights_only` will be flipped to `True`. This limits the functions that could be executed during unpickling. Arbitrary objects will no longer be allowed to be loaded via this mode unless they are explicitly allowlisted by the user via `torch.serialization.add_safe_globals`. We recommend you start setting `weights_only=True` for any use case where you don't have full control of the loaded file. Please open an issue on GitHub for any issues related to this experimental feature.\n",
            "  model.load_state_dict(torch.load(model_path, map_location=DEVICE))\n"
          ]
        }
      ],
      "source": [
        "import torch\n",
        "import torch.nn as nn\n",
        "\n",
        "class FuelConsumptionModel(nn.Module):\n",
        "    def __init__(self, input_size):\n",
        "        super(FuelConsumptionModel, self).__init__()\n",
        "        # LSTM layers\n",
        "        self.lstm1 = nn.LSTM(input_size, 32, batch_first=True, bidirectional=True)\n",
        "        self.lstm2 = nn.LSTM(64, 32, batch_first=True, bidirectional=True)\n",
        "\n",
        "        # Layer Normalization after each LSTM\n",
        "        self.layer_norm1 = nn.LayerNorm(64)\n",
        "        self.layer_norm2 = nn.LayerNorm(64)\n",
        "\n",
        "        # Dropout layers\n",
        "        self.dropout1 = nn.Dropout(0.2)\n",
        "        self.dropout2 = nn.Dropout(0.2)\n",
        "\n",
        "        # Dense output layer\n",
        "        self.dense = nn.Linear(64, 1)\n",
        "\n",
        "    def forward(self, x):\n",
        "        # LSTM 1 + Layer Normalization + Dropout\n",
        "        x, _ = self.lstm1(x)\n",
        "        x = self.layer_norm1(x)\n",
        "        x = self.dropout1(x)\n",
        "\n",
        "        # LSTM 2 + Layer Normalization + Dropout\n",
        "        x, _ = self.lstm2(x)\n",
        "        x = self.layer_norm2(x)\n",
        "        x = self.dropout2(x)\n",
        "\n",
        "        # Dense layer for final output\n",
        "        x = self.dense(x)\n",
        "        return x\n",
        "\n",
        "# Function to load the pre-trained model and freeze the first layer\n",
        "def load_and_freeze_model(model_path, input_size):\n",
        "    model = FuelConsumptionModel(input_size=input_size)\n",
        "    model.load_state_dict(torch.load(model_path, map_location=DEVICE))\n",
        "    model.to(DEVICE)\n",
        "\n",
        "    # # Freeze the first LSTM layer\n",
        "    # for param in model.lstm1.parameters():\n",
        "    #     param.requires_grad = False\n",
        "\n",
        "\n",
        "    model.eval()\n",
        "    return model\n",
        "\n",
        "# Example usage\n",
        "model_path = '/content/10.pth'  # Replace with the actual path\n",
        "input_size = 5  # Update this according to your input size\n",
        "\n",
        "# Load the model with the first layer frozen\n",
        "model = load_and_freeze_model(model_path, input_size)\n",
        "\n",
        "# Now, the model is ready for fine-tuning on new data.\n",
        "# Only the parameters of the layers after lstm1 will be updated during training.\n"
      ]
    },
    {
      "cell_type": "code",
      "execution_count": null,
      "metadata": {
        "colab": {
          "base_uri": "https://localhost:8080/"
        },
        "id": "N90XLI9v1hxd",
        "outputId": "868168ed-e8c5-41b3-bb8c-94905332723e"
      },
      "outputs": [
        {
          "name": "stderr",
          "output_type": "stream",
          "text": [
            "<ipython-input-105-397ac4701523>:40: FutureWarning: You are using `torch.load` with `weights_only=False` (the current default value), which uses the default pickle module implicitly. It is possible to construct malicious pickle data which will execute arbitrary code during unpickling (See https://github.com/pytorch/pytorch/blob/main/SECURITY.md#untrusted-models for more details). In a future release, the default value for `weights_only` will be flipped to `True`. This limits the functions that could be executed during unpickling. Arbitrary objects will no longer be allowed to be loaded via this mode unless they are explicitly allowlisted by the user via `torch.serialization.add_safe_globals`. We recommend you start setting `weights_only=True` for any use case where you don't have full control of the loaded file. Please open an issue on GitHub for any issues related to this experimental feature.\n",
            "  model.load_state_dict(torch.load(model_path, map_location=DEVICE))\n"
          ]
        }
      ],
      "source": [
        "import torch\n",
        "import torch.nn as nn\n",
        "\n",
        "class FuelConsumptionModel(nn.Module):\n",
        "    def __init__(self, input_size):\n",
        "        super(FuelConsumptionModel, self).__init__()\n",
        "        # LSTM layers\n",
        "        self.lstm1 = nn.LSTM(input_size, 32, batch_first=True, bidirectional=True)\n",
        "        self.lstm2 = nn.LSTM(64, 32, batch_first=True, bidirectional=True)\n",
        "\n",
        "        # Layer Normalization after each LSTM\n",
        "        self.layer_norm1 = nn.LayerNorm(64)\n",
        "        self.layer_norm2 = nn.LayerNorm(64)\n",
        "\n",
        "        # Dropout layers\n",
        "        self.dropout1 = nn.Dropout(0.2)\n",
        "        self.dropout2 = nn.Dropout(0.2)\n",
        "\n",
        "        # Dense output layer\n",
        "        self.dense = nn.Linear(64, 1)\n",
        "\n",
        "    def forward(self, x):\n",
        "        # LSTM 1 + Layer Normalization + Dropout\n",
        "        x, _ = self.lstm1(x)\n",
        "        x = self.layer_norm1(x)\n",
        "        x = self.dropout1(x)\n",
        "\n",
        "        # LSTM 2 + Layer Normalization + Dropout\n",
        "        x, _ = self.lstm2(x)\n",
        "        x = self.layer_norm2(x)\n",
        "        x = self.dropout2(x)\n",
        "\n",
        "        # Dense layer for final output\n",
        "        x = self.dense(x)\n",
        "        return x\n",
        "\n",
        "# Function to load the pre-trained model and freeze all except the dense layer\n",
        "def load_and_freeze_model(model_path, input_size):\n",
        "    model = FuelConsumptionModel(input_size=input_size)\n",
        "    model.load_state_dict(torch.load(model_path, map_location=DEVICE))\n",
        "    model.to(DEVICE)\n",
        "\n",
        "    # Freeze all parameters except the dense (linear) layer\n",
        "    # for name, param in model.named_parameters():\n",
        "    #     if 'dense' not in name:\n",
        "    #         param.requires_grad = False\n",
        "\n",
        "    model.eval()\n",
        "    return model\n",
        "\n",
        "# Example usage\n",
        "model_path = '/content/sample_data/normal_old_without.pth'  # Replace with the actual path\n",
        "input_size = 4  # Update this according to your input size\n",
        "\n",
        "# Load the model with only the dense layer unfrozen\n",
        "model = load_and_freeze_model(model_path, input_size)\n",
        "\n",
        "# Now, only the dense layer parameters will be updated during fine-tuning.\n"
      ]
    },
    {
      "cell_type": "code",
      "execution_count": null,
      "metadata": {
        "colab": {
          "base_uri": "https://localhost:8080/"
        },
        "id": "t-CT_KKMIcDg",
        "outputId": "e933632a-e6cf-4239-a1fc-2ad66153b0a8"
      },
      "outputs": [
        {
          "name": "stdout",
          "output_type": "stream",
          "text": [
            "X_train_normalized shape: torch.Size([20718, 600, 4])\n",
            "y_train_normalized shape: torch.Size([20718, 600, 1])\n",
            "Train size: 16574, Validation size: 4144\n"
          ]
        }
      ],
      "source": [
        "# Check if X_train_normalized and y_train_normalized have the same number of samples\n",
        "print(f\"X_train_normalized shape: {X_train_normalized.shape}\")\n",
        "print(f\"y_train_normalized shape: {y_train_normalized.shape}\")\n",
        "\n",
        "# Ensure they have the same length in the first dimension\n",
        "if len(X_train_normalized) != len(y_train_normalized):\n",
        "    raise ValueError(f\"Mismatch in number of samples: {len(X_train_normalized)} in X vs {len(y_train_normalized)} in y\")\n",
        "\n",
        "# Calculate train size\n",
        "train_size = int(0.8 * len(X_train_normalized))\n",
        "\n",
        "# Split the data while preserving the order\n",
        "X_train_split = X_train_normalized[:train_size]\n",
        "y_train_split = y_train_normalized[:train_size]\n",
        "\n",
        "X_val_split = X_train_normalized[train_size:]\n",
        "y_val_split = y_train_normalized[train_size:]\n",
        "\n",
        "\n",
        "# X_train_split = X_train_normalized\n",
        "# y_train_split = y_train_normalized\n",
        "\n",
        "# X_val_split = X_train_normalized1\n",
        "# y_val_split = y_train_normalized1\n",
        "\n",
        "print(f\"Train size: {train_size}, Validation size: {len(X_val_split)}\")\n"
      ]
    },
    {
      "cell_type": "code",
      "execution_count": null,
      "metadata": {
        "colab": {
          "base_uri": "https://localhost:8080/"
        },
        "id": "5CwEy-LmI5mQ",
        "outputId": "2fd60469-d202-41a6-be6b-edbc1aefe7e6"
      },
      "outputs": [
        {
          "data": {
            "text/plain": [
              "FuelConsumptionModel(\n",
              "  (lstm1): LSTM(4, 32, batch_first=True, bidirectional=True)\n",
              "  (lstm2): LSTM(64, 32, batch_first=True, bidirectional=True)\n",
              "  (layer_norm1): LayerNorm((64,), eps=1e-05, elementwise_affine=True)\n",
              "  (layer_norm2): LayerNorm((64,), eps=1e-05, elementwise_affine=True)\n",
              "  (dropout1): Dropout(p=0.2, inplace=False)\n",
              "  (dropout2): Dropout(p=0.2, inplace=False)\n",
              "  (dense): Linear(in_features=64, out_features=1, bias=True)\n",
              ")"
            ]
          },
          "execution_count": 24,
          "metadata": {},
          "output_type": "execute_result"
        }
      ],
      "source": [
        "model"
      ]
    },
    {
      "cell_type": "code",
      "execution_count": 16,
      "metadata": {
        "colab": {
          "base_uri": "https://localhost:8080/"
        },
        "id": "mYccHvJmIMgY",
        "outputId": "c8ae32f8-bed8-4a72-f1aa-7eb6167d42fb"
      },
      "outputs": [
        {
          "output_type": "stream",
          "name": "stderr",
          "text": [
            "<ipython-input-11-f23652e4983c>:40: FutureWarning: You are using `torch.load` with `weights_only=False` (the current default value), which uses the default pickle module implicitly. It is possible to construct malicious pickle data which will execute arbitrary code during unpickling (See https://github.com/pytorch/pytorch/blob/main/SECURITY.md#untrusted-models for more details). In a future release, the default value for `weights_only` will be flipped to `True`. This limits the functions that could be executed during unpickling. Arbitrary objects will no longer be allowed to be loaded via this mode unless they are explicitly allowlisted by the user via `torch.serialization.add_safe_globals`. We recommend you start setting `weights_only=True` for any use case where you don't have full control of the loaded file. Please open an issue on GitHub for any issues related to this experimental feature.\n",
            "  model.load_state_dict(torch.load(model_path, map_location=DEVICE))\n"
          ]
        },
        {
          "output_type": "stream",
          "name": "stdout",
          "text": [
            "Epoch [1/250] ---- Training Loss: 0.0093 ---- Validation Loss: 0.008844 ------0.0001\n",
            "Epoch [2/250] ---- Training Loss: 0.0093 ---- Validation Loss: 0.009196 ------0.0001\n",
            "Epoch [3/250] ---- Training Loss: 0.0093 ---- Validation Loss: 0.008855 ------0.0001\n",
            "Epoch [4/250] ---- Training Loss: 0.0093 ---- Validation Loss: 0.008893 ------0.0001\n",
            "Epoch [5/250] ---- Training Loss: 0.0093 ---- Validation Loss: 0.008911 ------0.0001\n",
            "Epoch [6/250] ---- Training Loss: 0.0093 ---- Validation Loss: 0.008979 ------0.0001\n",
            "Epoch [7/250] ---- Training Loss: 0.0093 ---- Validation Loss: 0.008869 ------0.0001\n",
            "Epoch [8/250] ---- Training Loss: 0.0093 ---- Validation Loss: 0.008859 ------0.0001\n",
            "Epoch [9/250] ---- Training Loss: 0.0093 ---- Validation Loss: 0.008828 ------0.0001\n",
            "Epoch [10/250] ---- Training Loss: 0.0093 ---- Validation Loss: 0.008819 ------0.0001\n",
            "Epoch [11/250] ---- Training Loss: 0.0093 ---- Validation Loss: 0.008864 ------0.0001\n",
            "Epoch [12/250] ---- Training Loss: 0.0093 ---- Validation Loss: 0.008860 ------0.0001\n",
            "Epoch [13/250] ---- Training Loss: 0.0093 ---- Validation Loss: 0.008812 ------0.0001\n",
            "Epoch [14/250] ---- Training Loss: 0.0093 ---- Validation Loss: 0.008874 ------0.0001\n",
            "Epoch [15/250] ---- Training Loss: 0.0093 ---- Validation Loss: 0.008822 ------0.0001\n",
            "Epoch [16/250] ---- Training Loss: 0.0093 ---- Validation Loss: 0.008783 ------0.0001\n",
            "Epoch [17/250] ---- Training Loss: 0.0093 ---- Validation Loss: 0.008798 ------0.0001\n",
            "Epoch [18/250] ---- Training Loss: 0.0093 ---- Validation Loss: 0.008807 ------0.0001\n",
            "Epoch [19/250] ---- Training Loss: 0.0093 ---- Validation Loss: 0.009043 ------0.0001\n",
            "Epoch [20/250] ---- Training Loss: 0.0093 ---- Validation Loss: 0.008871 ------0.0001\n",
            "Epoch [21/250] ---- Training Loss: 0.0093 ---- Validation Loss: 0.008941 ------0.0001\n",
            "Epoch [22/250] ---- Training Loss: 0.0093 ---- Validation Loss: 0.008789 ------0.0001\n",
            "Epoch [23/250] ---- Training Loss: 0.0093 ---- Validation Loss: 0.008828 ------0.0001\n",
            "Epoch [24/250] ---- Training Loss: 0.0093 ---- Validation Loss: 0.008867 ------0.0001\n",
            "Epoch [25/250] ---- Training Loss: 0.0093 ---- Validation Loss: 0.008822 ------0.0001\n",
            "Epoch [26/250] ---- Training Loss: 0.0093 ---- Validation Loss: 0.008914 ------0.0001\n",
            "Early stopping at epoch 26\n",
            "Saved model: best_fuel_consumption_model.pth\n"
          ]
        }
      ],
      "source": [
        "import torch\n",
        "import torch.nn as nn\n",
        "import torch.optim as optim\n",
        "from torch.optim.lr_scheduler import StepLR  # Importing StepLR for learning rate decay\n",
        "from torch.optim.lr_scheduler import ReduceLROnPlateau\n",
        "# Assuming `FuelConsumptionModel`, `X_train_normalized`, `train_loader`, `val_loader`, `DEVICE`, and `EPOCHS` are defined\n",
        "\n",
        "# Choose a single loss function to use for all experiments\n",
        "criterion = nn.L1Loss()  # You can change this to your preferred loss function\n",
        "\n",
        "EPOCHS = 250\n",
        "# Define weight decay values and initial learning rates for decay schedules\n",
        "weight_decay_values = 1e-5\n",
        "initial_learning_rates = [1e-4]  # Two starting learning rates\n",
        "\n",
        "# Initialize variables to track the best parameters\n",
        "best_weight_decay = None\n",
        "best_initial_lr = None\n",
        "best_model_weights = None\n",
        "best_val_loss = float('inf')\n",
        "\n",
        "ini_batches = [64]\n",
        "# Loop over all combinations of initial learning rates and weight decay values\n",
        "\n",
        "BATCH_SIZE = 64\n",
        "# Create DataLoader for training and validation sets\n",
        "train_loader = DataLoader(TensorDataset(X_train_split, y_train_split), batch_size=BATCH_SIZE, shuffle=True)\n",
        "val_loader = DataLoader(TensorDataset(X_val_split, y_val_split), batch_size=BATCH_SIZE, shuffle=False)\n",
        "\n",
        "for init_lr in initial_learning_rates:\n",
        "    # Initialize model, criterion, and optimizer for each combination\n",
        "    model = load_and_freeze_model(model_path, input_size)\n",
        "\n",
        "    optimizer = optim.Adam(model.parameters(), lr=init_lr, weight_decay=weight_decay_values)\n",
        "    # scheduler = ReduceLROnPlateau(optimizer, mode='min', factor=0.5, patience=2, verbose=True)\n",
        "    scheduler = StepLR(optimizer, step_size=50, gamma=0.5)  # Decay LR by 0.5 every 50 epochs\n",
        "\n",
        "    # Early stopping parameters\n",
        "    patience = 10  # Number of epochs to wait before stopping if no improvement\n",
        "    best_loss = float('inf')  # Initialize best loss to infinity\n",
        "    epochs_without_improvement = 0  # Counter for epochs without improvement\n",
        "\n",
        "    # Training loop with early stopping\n",
        "    model.train()\n",
        "    for epoch in range(EPOCHS):\n",
        "        running_loss = 0.0\n",
        "        model.train()  # Ensure model is in training mode\n",
        "\n",
        "        # Training phase\n",
        "        for inputs, targets in train_loader:\n",
        "            inputs, targets = inputs.to(DEVICE), targets.to(DEVICE)  # Ensure data is on the correct device\n",
        "            optimizer.zero_grad()\n",
        "            outputs = model(inputs)\n",
        "\n",
        "            loss = criterion(outputs, targets)\n",
        "            loss.backward()\n",
        "            optimizer.step()\n",
        "            running_loss += loss.item()\n",
        "\n",
        "        # Calculate average loss for the epoch\n",
        "        avg_training_loss = running_loss / len(train_loader)\n",
        "\n",
        "        # Validation phase\n",
        "        model.eval()  # Switch to evaluation mode\n",
        "        val_running_loss = 0.0\n",
        "        with torch.no_grad():\n",
        "            for inputs, targets in val_loader:  # Assume you have a validation DataLoader `val_loader`\n",
        "                inputs, targets = inputs.to(DEVICE), targets.to(DEVICE)  # Ensure data is on the correct device\n",
        "                outputs = model(inputs)\n",
        "                val_loss = criterion(outputs, targets)\n",
        "                val_running_loss += val_loss.item()\n",
        "\n",
        "        avg_val_loss = val_running_loss / len(val_loader)\n",
        "\n",
        "        current_lr = optimizer.param_groups[0]['lr']\n",
        "        print(f\"Epoch [{epoch+1}/{EPOCHS}] ---- Training Loss: {avg_training_loss:.4f} ---- Validation Loss: {avg_val_loss:.6f} ------{current_lr}\")\n",
        "\n",
        "        # print(f\"Epoch [{epoch+1}/{EPOCHS}] ---- Training Loss: {avg_training_loss:.4f} ---- Validation Loss: {avg_val_loss:.4f}    Init LR: {init_lr:.0e}  WD: {wd:.0e}\")\n",
        "\n",
        "        # Adjust the learning rate\n",
        "        # scheduler.step(avg_val_loss)\n",
        "        scheduler.step()\n",
        "\n",
        "        # Early stopping check\n",
        "        if avg_val_loss < best_loss:\n",
        "            best_loss = avg_val_loss\n",
        "            epochs_without_improvement = 0\n",
        "        else:\n",
        "            epochs_without_improvement += 1\n",
        "            if epochs_without_improvement >= patience:\n",
        "                print(f\"Early stopping at epoch {epoch+1}\")\n",
        "                break\n",
        "\n",
        "        # Save the model for the current combination\n",
        "        model_filename = f'best_fuel_consumption_model.pth'\n",
        "        torch.save(model.state_dict(), model_filename)\n",
        "\n",
        "\n",
        "print(f\"Saved model: {model_filename}\")"
      ]
    },
    {
      "cell_type": "markdown",
      "metadata": {
        "id": "PT91Xk2ibldP"
      },
      "source": [
        "#Test with all saved model\n"
      ]
    },
    {
      "cell_type": "code",
      "execution_count": null,
      "metadata": {
        "colab": {
          "base_uri": "https://localhost:8080/"
        },
        "id": "rZR4FCk0i2IB",
        "outputId": "37406908-2518-48c8-bca7-e7d2770293ed"
      },
      "outputs": [
        {
          "output_type": "stream",
          "name": "stdout",
          "text": [
            "Saved trip 2 to test/trip_2.csv\n",
            "Saved trip 3 to test/trip_3.csv\n",
            "Saved trip 4 to test/trip_4.csv\n"
          ]
        }
      ],
      "source": [
        "import pandas as pd\n",
        "import os\n",
        "\n",
        "# Load the Excel file\n",
        "excel_file = \"/content/Car_Dena_TC+5_26 s 513 ir 10_Data_12_07_2024, 08_23_00_to_12_08_2024, 08_23_00.xlsx\"  # Replace with the path to your Excel file\n",
        "output_folder = \"test\"  # Replace with the path where you want to save CSV files\n",
        "\n",
        "# Create the output folder if it doesn't exist\n",
        "os.makedirs(output_folder, exist_ok=True)\n",
        "\n",
        "# Read the Excel file into a DataFrame\n",
        "df = pd.read_excel(excel_file)\n",
        "\n",
        "# List of specific trip IDs to filter\n",
        "specific_trips = [2,3 , 4 , 6]\n",
        "\n",
        "# Filter the DataFrame for the specific trips\n",
        "filtered_df = df[df['trip'].isin(specific_trips)]\n",
        "\n",
        "# Group by the \"trip\" column (replace 'trip' with the actual column name for grouping)\n",
        "for trip_id, trip_data in filtered_df.groupby('trip'):\n",
        "    # Create a filename for the trip\n",
        "    csv_file = os.path.join(output_folder, f\"trip_{trip_id}.csv\")\n",
        "\n",
        "    # Save the trip data to a CSV file\n",
        "    trip_data.to_csv(csv_file, index=False)\n",
        "\n",
        "    print(f\"Saved trip {trip_id} to {csv_file}\")\n"
      ]
    },
    {
      "cell_type": "code",
      "execution_count": null,
      "metadata": {
        "colab": {
          "base_uri": "https://localhost:8080/"
        },
        "id": "0SKUr0wzlkae",
        "outputId": "4c6989cd-c45c-4f02-b728-61de19aa12b8"
      },
      "outputs": [
        {
          "output_type": "stream",
          "name": "stderr",
          "text": [
            "Processing files: 100%|██████████| 12/12 [00:24<00:00,  2.03s/it]"
          ]
        },
        {
          "output_type": "stream",
          "name": "stdout",
          "text": [
            "Updated files saved successfully.\n"
          ]
        },
        {
          "output_type": "stream",
          "name": "stderr",
          "text": [
            "\n"
          ]
        }
      ],
      "source": [
        "import pandas as pd\n",
        "import requests\n",
        "import time\n",
        "import os\n",
        "from tqdm import tqdm  # Import tqdm for the file-level progress bar\n",
        "\n",
        "# Path to the folder containing CSV files\n",
        "folder_path = \"/content/\"  # Update to your folder path\n",
        "\n",
        "# Initialize last received altitude\n",
        "last_received_altitude = None\n",
        "\n",
        "# Function to get altitude\n",
        "def get_altitude(lat, lon, retries=10):\n",
        "    global last_received_altitude  # Use the last received altitude as fallback\n",
        "    url = f\"https://api.open-elevation.com/api/v1/lookup?locations={lat},{lon}\"\n",
        "    url = f'https://www.elevation-api.eu/v1/elevation?pts=[[{lat},{lon}]]'\n",
        "    for attempt in range(retries):\n",
        "        try:\n",
        "            response = requests.get(url, timeout=10)\n",
        "            if response.status_code == 200:\n",
        "                elevation_data = response.json()\n",
        "                if 'elevations' in elevation_data and elevation_data['elevations']:\n",
        "                    altitude = elevation_data['elevations'][0]  # Extracting the first elevation value\n",
        "                    last_received_altitude = altitude  # Update last successful altitude\n",
        "                    return altitude\n",
        "            elif response.status_code == 504:\n",
        "                return last_received_altitude  # Use last received altitude on 504 error\n",
        "        except requests.exceptions.RequestException:\n",
        "            time.sleep(2)  # Wait for 2 seconds before retrying\n",
        "    return last_received_altitude  # Use last received altitude if all retries fail\n",
        "\n",
        "# Helper function to get altitude for a block of 100 rows\n",
        "def get_altitude_for_block(df, start_index):\n",
        "    for i in range(start_index, min(start_index + 100, len(df))):\n",
        "        lat = df.at[i, 'latitude']\n",
        "        lon = df.at[i, 'longitude']\n",
        "\n",
        "        # Skip rows with missing or invalid latitude/longitude\n",
        "        if pd.isna(lat) or pd.isna(lon) or lat == 0 or lon == 0:\n",
        "            continue\n",
        "\n",
        "        altitude = get_altitude(lat, lon)\n",
        "        if altitude is not None:\n",
        "            return altitude\n",
        "    return None\n",
        "\n",
        "# Process each CSV file in the specified folder\n",
        "for filename in tqdm(os.listdir(folder_path), desc=\"Processing files\"):\n",
        "    if filename.endswith('.csv'):\n",
        "        file_path = os.path.join(folder_path, filename)\n",
        "        data_df = pd.read_csv(file_path)\n",
        "\n",
        "        # Check if 'latitude' and 'longitude' columns exist in the dataframe\n",
        "        if 'latitude' not in data_df.columns or 'longitude' not in data_df.columns:\n",
        "            continue  # Skip this file if columns are missing\n",
        "\n",
        "        # Initialize the 'correct_altitude' column with None values\n",
        "        data_df['correct_altitude'] = None\n",
        "\n",
        "        # Process rows in blocks of 100\n",
        "        for i in range(0, len(data_df), 100):\n",
        "            altitude = get_altitude_for_block(data_df, i)\n",
        "\n",
        "            # Adjust the end of the range to ensure it's within bounds and handle small blocks\n",
        "            block_end = min(i + 99, len(data_df) - 1)\n",
        "\n",
        "            # If the altitude is None and the block size is 1 (e.g., last row), skip setting altitude\n",
        "            if altitude is None and (block_end == i):\n",
        "                continue\n",
        "\n",
        "            # Set the altitude for the current block\n",
        "            data_df.loc[i:block_end, 'correct_altitude'] = altitude\n",
        "\n",
        "        # Save the updated dataframe to a new CSV file, retaining the same name\n",
        "        output_file_path = os.path.join(folder_path, filename)  # Save to the same file\n",
        "        data_df.to_csv(output_file_path, index=False)\n",
        "\n",
        "print(\"Updated files saved successfully.\")\n"
      ]
    },
    {
      "cell_type": "code",
      "execution_count": null,
      "metadata": {
        "colab": {
          "base_uri": "https://localhost:8080/"
        },
        "id": "0Q24PbfDll_P",
        "outputId": "050bf365-6b09-4cf1-e7a8-263be407921a"
      },
      "outputs": [
        {
          "output_type": "stream",
          "name": "stderr",
          "text": [
            "Processing files:   0%|          | 0/12 [00:00<?, ?it/s]<ipython-input-3-a40f92fd31f8>:17: FutureWarning: Series.fillna with 'method' is deprecated and will raise in a future version. Use obj.ffill() or obj.bfill() instead.\n",
            "  data_df['correct_altitude'] = data_df['correct_altitude'].fillna(method='bfill')\n",
            "<ipython-input-3-a40f92fd31f8>:17: FutureWarning: Series.fillna with 'method' is deprecated and will raise in a future version. Use obj.ffill() or obj.bfill() instead.\n",
            "  data_df['correct_altitude'] = data_df['correct_altitude'].fillna(method='bfill')\n",
            "<ipython-input-3-a40f92fd31f8>:17: FutureWarning: Series.fillna with 'method' is deprecated and will raise in a future version. Use obj.ffill() or obj.bfill() instead.\n",
            "  data_df['correct_altitude'] = data_df['correct_altitude'].fillna(method='bfill')\n",
            "Processing files:  33%|███▎      | 4/12 [00:00<00:00, 36.41it/s]<ipython-input-3-a40f92fd31f8>:17: FutureWarning: Series.fillna with 'method' is deprecated and will raise in a future version. Use obj.ffill() or obj.bfill() instead.\n",
            "  data_df['correct_altitude'] = data_df['correct_altitude'].fillna(method='bfill')\n",
            "<ipython-input-3-a40f92fd31f8>:17: FutureWarning: Series.fillna with 'method' is deprecated and will raise in a future version. Use obj.ffill() or obj.bfill() instead.\n",
            "  data_df['correct_altitude'] = data_df['correct_altitude'].fillna(method='bfill')\n",
            "<ipython-input-3-a40f92fd31f8>:17: FutureWarning: Series.fillna with 'method' is deprecated and will raise in a future version. Use obj.ffill() or obj.bfill() instead.\n",
            "  data_df['correct_altitude'] = data_df['correct_altitude'].fillna(method='bfill')\n"
          ]
        },
        {
          "output_type": "stream",
          "name": "stdout",
          "text": [
            "output_file_6.csv\n",
            "Processing file: output_file_6.csv\n",
            "output_file_44.csv\n",
            "Processing file: output_file_44.csv\n",
            "output_file_27.csv\n",
            "Processing file: output_file_27.csv\n",
            "output_file_35.csv\n",
            "Processing file: output_file_35.csv\n",
            "output_file_11.csv\n",
            "Processing file: output_file_11.csv\n",
            "output_file_56.csv\n",
            "Processing file: output_file_56.csv\n",
            "output_file_53.csv\n",
            "Processing file: output_file_53.csv\n"
          ]
        },
        {
          "output_type": "stream",
          "name": "stderr",
          "text": [
            "<ipython-input-3-a40f92fd31f8>:17: FutureWarning: Series.fillna with 'method' is deprecated and will raise in a future version. Use obj.ffill() or obj.bfill() instead.\n",
            "  data_df['correct_altitude'] = data_df['correct_altitude'].fillna(method='bfill')\n",
            "Processing files:  67%|██████▋   | 8/12 [00:00<00:00, 32.63it/s]<ipython-input-3-a40f92fd31f8>:17: FutureWarning: Series.fillna with 'method' is deprecated and will raise in a future version. Use obj.ffill() or obj.bfill() instead.\n",
            "  data_df['correct_altitude'] = data_df['correct_altitude'].fillna(method='bfill')\n",
            "<ipython-input-3-a40f92fd31f8>:17: FutureWarning: Series.fillna with 'method' is deprecated and will raise in a future version. Use obj.ffill() or obj.bfill() instead.\n",
            "  data_df['correct_altitude'] = data_df['correct_altitude'].fillna(method='bfill')\n",
            "<ipython-input-3-a40f92fd31f8>:17: FutureWarning: Series.fillna with 'method' is deprecated and will raise in a future version. Use obj.ffill() or obj.bfill() instead.\n",
            "  data_df['correct_altitude'] = data_df['correct_altitude'].fillna(method='bfill')\n",
            "Processing files: 100%|██████████| 12/12 [00:00<00:00, 36.12it/s]"
          ]
        },
        {
          "output_type": "stream",
          "name": "stdout",
          "text": [
            "output_file_48.csv\n",
            "Processing file: output_file_48.csv\n",
            "output_file_21.csv\n",
            "Processing file: output_file_21.csv\n",
            "output_file_17.csv\n",
            "Processing file: output_file_17.csv\n",
            "All files processed successfully.\n"
          ]
        },
        {
          "output_type": "stream",
          "name": "stderr",
          "text": [
            "\n"
          ]
        }
      ],
      "source": [
        "import pandas as pd\n",
        "import os\n",
        "from tqdm import tqdm  # Import tqdm for the file-level progress bar\n",
        "# Path to the folder containing CSV files\n",
        "folder_path = \"/content\"\n",
        "\n",
        "# Process each CSV file in the specified folder\n",
        "for filename in tqdm(os.listdir(folder_path), desc=\"Processing files\"):\n",
        "    if filename.endswith('.csv'):\n",
        "        print(filename)\n",
        "        file_path = os.path.join(folder_path, filename)\n",
        "        print(f\"Processing file: {filename}\")\n",
        "\n",
        "        # Read the CSV file\n",
        "        data_df = pd.read_csv(file_path)\n",
        "        # data_df = data_df.sort_values(by='time')\n",
        "        data_df['correct_altitude'] = data_df['correct_altitude'].fillna(method='bfill')\n",
        "\n",
        "        # Sort the DataFrame by 'time' and 'trip'\n",
        "\n",
        "\n",
        "        # Initialize the 'slope' column with 0.0\n",
        "        data_df['slope'] = 0.0\n",
        "\n",
        "        # Group by 'trip' and calculate slope for each group\n",
        "        for trip, group in data_df.groupby('trip'):\n",
        "            # Check if the group has at least 100 rows\n",
        "            num_rows = len(group)\n",
        "            for i in range(0, num_rows - 100, 100):\n",
        "                start_altitude = group.iloc[i]['correct_altitude']\n",
        "                end_altitude = group.iloc[i + 100]['correct_altitude']\n",
        "                start_mileage = group.iloc[i]['Cumulative_mileage']\n",
        "                end_mileage = group.iloc[i + 100]['Cumulative_mileage']\n",
        "\n",
        "                if end_mileage - start_mileage != 0:\n",
        "                    slope = (end_altitude - start_altitude) / (end_mileage - start_mileage) / 10\n",
        "                    data_df.loc[group.index[i:i + 99], 'slope'] = slope\n",
        "\n",
        "            # Calculate slope for remaining rows if less than 100 remain\n",
        "            if num_rows % 100 != 0:\n",
        "                last_block_start = num_rows - (num_rows % 100)\n",
        "                if last_block_start > 0:\n",
        "                    start_altitude = group.iloc[last_block_start - 1]['correct_altitude']\n",
        "                    end_altitude = group.iloc[num_rows - 1]['correct_altitude']\n",
        "                    start_mileage = group.iloc[last_block_start - 1]['Cumulative_mileage']\n",
        "                    end_mileage = group.iloc[num_rows - 1]['Cumulative_mileage']\n",
        "\n",
        "                    if end_mileage - start_mileage != 0:\n",
        "                        slope = (end_altitude - start_altitude) / (end_mileage - start_mileage) / 10\n",
        "                        data_df.loc[group.index[last_block_start - 1:num_rows - 1], 'slope'] = slope\n",
        "\n",
        "        # Define output file path\n",
        "        # output_file_path = os.path.join(folder_path, f\"{filename[:-4]}_slope_added.csv\")\n",
        "        output_file_path = os.path.join(folder_path, filename)\n",
        "\n",
        "        # Save the updated DataFrame to a new CSV file\n",
        "        data_df.to_csv(output_file_path, index=False)\n",
        "\n",
        "print(\"All files processed successfully.\")\n"
      ]
    },
    {
      "cell_type": "code",
      "execution_count": 27,
      "metadata": {
        "colab": {
          "base_uri": "https://localhost:8080/"
        },
        "id": "RSX_AJCXOYNu",
        "outputId": "27e47ea6-1556-40ea-c96f-e2b1a13d7f20"
      },
      "outputs": [
        {
          "output_type": "stream",
          "name": "stderr",
          "text": [
            "<ipython-input-27-8703677a7b7e>:26: FutureWarning: You are using `torch.load` with `weights_only=False` (the current default value), which uses the default pickle module implicitly. It is possible to construct malicious pickle data which will execute arbitrary code during unpickling (See https://github.com/pytorch/pytorch/blob/main/SECURITY.md#untrusted-models for more details). In a future release, the default value for `weights_only` will be flipped to `True`. This limits the functions that could be executed during unpickling. Arbitrary objects will no longer be allowed to be loaded via this mode unless they are explicitly allowlisted by the user via `torch.serialization.add_safe_globals`. We recommend you start setting `weights_only=True` for any use case where you don't have full control of the loaded file. Please open an issue on GitHub for any issues related to this experimental feature.\n",
            "  model.load_state_dict(torch.load(model_path, map_location=DEVICE))\n"
          ]
        },
        {
          "output_type": "stream",
          "name": "stdout",
          "text": [
            "CSV saved as: predicted_vs_actual_plots/10/Real_NEDC_testroom.csv\n"
          ]
        },
        {
          "output_type": "stream",
          "name": "stderr",
          "text": [
            "<ipython-input-27-8703677a7b7e>:26: FutureWarning: You are using `torch.load` with `weights_only=False` (the current default value), which uses the default pickle module implicitly. It is possible to construct malicious pickle data which will execute arbitrary code during unpickling (See https://github.com/pytorch/pytorch/blob/main/SECURITY.md#untrusted-models for more details). In a future release, the default value for `weights_only` will be flipped to `True`. This limits the functions that could be executed during unpickling. Arbitrary objects will no longer be allowed to be loaded via this mode unless they are explicitly allowlisted by the user via `torch.serialization.add_safe_globals`. We recommend you start setting `weights_only=True` for any use case where you don't have full control of the loaded file. Please open an issue on GitHub for any issues related to this experimental feature.\n",
            "  model.load_state_dict(torch.load(model_path, map_location=DEVICE))\n"
          ]
        },
        {
          "output_type": "stream",
          "name": "stdout",
          "text": [
            "CSV saved as: predicted_vs_actual_plots/10/trip_49.csv\n"
          ]
        },
        {
          "output_type": "stream",
          "name": "stderr",
          "text": [
            "<ipython-input-27-8703677a7b7e>:26: FutureWarning: You are using `torch.load` with `weights_only=False` (the current default value), which uses the default pickle module implicitly. It is possible to construct malicious pickle data which will execute arbitrary code during unpickling (See https://github.com/pytorch/pytorch/blob/main/SECURITY.md#untrusted-models for more details). In a future release, the default value for `weights_only` will be flipped to `True`. This limits the functions that could be executed during unpickling. Arbitrary objects will no longer be allowed to be loaded via this mode unless they are explicitly allowlisted by the user via `torch.serialization.add_safe_globals`. We recommend you start setting `weights_only=True` for any use case where you don't have full control of the loaded file. Please open an issue on GitHub for any issues related to this experimental feature.\n",
            "  model.load_state_dict(torch.load(model_path, map_location=DEVICE))\n"
          ]
        },
        {
          "output_type": "stream",
          "name": "stdout",
          "text": [
            "CSV saved as: predicted_vs_actual_plots/10/trip_6.csv\n"
          ]
        },
        {
          "output_type": "stream",
          "name": "stderr",
          "text": [
            "<ipython-input-27-8703677a7b7e>:26: FutureWarning: You are using `torch.load` with `weights_only=False` (the current default value), which uses the default pickle module implicitly. It is possible to construct malicious pickle data which will execute arbitrary code during unpickling (See https://github.com/pytorch/pytorch/blob/main/SECURITY.md#untrusted-models for more details). In a future release, the default value for `weights_only` will be flipped to `True`. This limits the functions that could be executed during unpickling. Arbitrary objects will no longer be allowed to be loaded via this mode unless they are explicitly allowlisted by the user via `torch.serialization.add_safe_globals`. We recommend you start setting `weights_only=True` for any use case where you don't have full control of the loaded file. Please open an issue on GitHub for any issues related to this experimental feature.\n",
            "  model.load_state_dict(torch.load(model_path, map_location=DEVICE))\n"
          ]
        },
        {
          "output_type": "stream",
          "name": "stdout",
          "text": [
            "CSV saved as: predicted_vs_actual_plots/10/trip_115.csv\n"
          ]
        },
        {
          "output_type": "stream",
          "name": "stderr",
          "text": [
            "<ipython-input-27-8703677a7b7e>:26: FutureWarning: You are using `torch.load` with `weights_only=False` (the current default value), which uses the default pickle module implicitly. It is possible to construct malicious pickle data which will execute arbitrary code during unpickling (See https://github.com/pytorch/pytorch/blob/main/SECURITY.md#untrusted-models for more details). In a future release, the default value for `weights_only` will be flipped to `True`. This limits the functions that could be executed during unpickling. Arbitrary objects will no longer be allowed to be loaded via this mode unless they are explicitly allowlisted by the user via `torch.serialization.add_safe_globals`. We recommend you start setting `weights_only=True` for any use case where you don't have full control of the loaded file. Please open an issue on GitHub for any issues related to this experimental feature.\n",
            "  model.load_state_dict(torch.load(model_path, map_location=DEVICE))\n"
          ]
        },
        {
          "output_type": "stream",
          "name": "stdout",
          "text": [
            "CSV saved as: predicted_vs_actual_plots/10/trip_3 (1).csv\n"
          ]
        },
        {
          "output_type": "stream",
          "name": "stderr",
          "text": [
            "<ipython-input-27-8703677a7b7e>:26: FutureWarning: You are using `torch.load` with `weights_only=False` (the current default value), which uses the default pickle module implicitly. It is possible to construct malicious pickle data which will execute arbitrary code during unpickling (See https://github.com/pytorch/pytorch/blob/main/SECURITY.md#untrusted-models for more details). In a future release, the default value for `weights_only` will be flipped to `True`. This limits the functions that could be executed during unpickling. Arbitrary objects will no longer be allowed to be loaded via this mode unless they are explicitly allowlisted by the user via `torch.serialization.add_safe_globals`. We recommend you start setting `weights_only=True` for any use case where you don't have full control of the loaded file. Please open an issue on GitHub for any issues related to this experimental feature.\n",
            "  model.load_state_dict(torch.load(model_path, map_location=DEVICE))\n"
          ]
        },
        {
          "output_type": "stream",
          "name": "stdout",
          "text": [
            "CSV saved as: predicted_vs_actual_plots/10/trip_46.csv\n"
          ]
        },
        {
          "output_type": "stream",
          "name": "stderr",
          "text": [
            "<ipython-input-27-8703677a7b7e>:26: FutureWarning: You are using `torch.load` with `weights_only=False` (the current default value), which uses the default pickle module implicitly. It is possible to construct malicious pickle data which will execute arbitrary code during unpickling (See https://github.com/pytorch/pytorch/blob/main/SECURITY.md#untrusted-models for more details). In a future release, the default value for `weights_only` will be flipped to `True`. This limits the functions that could be executed during unpickling. Arbitrary objects will no longer be allowed to be loaded via this mode unless they are explicitly allowlisted by the user via `torch.serialization.add_safe_globals`. We recommend you start setting `weights_only=True` for any use case where you don't have full control of the loaded file. Please open an issue on GitHub for any issues related to this experimental feature.\n",
            "  model.load_state_dict(torch.load(model_path, map_location=DEVICE))\n"
          ]
        },
        {
          "output_type": "stream",
          "name": "stdout",
          "text": [
            "CSV saved as: predicted_vs_actual_plots/10/trip_112.csv\n"
          ]
        },
        {
          "output_type": "stream",
          "name": "stderr",
          "text": [
            "<ipython-input-27-8703677a7b7e>:26: FutureWarning: You are using `torch.load` with `weights_only=False` (the current default value), which uses the default pickle module implicitly. It is possible to construct malicious pickle data which will execute arbitrary code during unpickling (See https://github.com/pytorch/pytorch/blob/main/SECURITY.md#untrusted-models for more details). In a future release, the default value for `weights_only` will be flipped to `True`. This limits the functions that could be executed during unpickling. Arbitrary objects will no longer be allowed to be loaded via this mode unless they are explicitly allowlisted by the user via `torch.serialization.add_safe_globals`. We recommend you start setting `weights_only=True` for any use case where you don't have full control of the loaded file. Please open an issue on GitHub for any issues related to this experimental feature.\n",
            "  model.load_state_dict(torch.load(model_path, map_location=DEVICE))\n"
          ]
        },
        {
          "output_type": "stream",
          "name": "stdout",
          "text": [
            "CSV saved as: predicted_vs_actual_plots/10/trip_4 (1).csv\n"
          ]
        },
        {
          "output_type": "stream",
          "name": "stderr",
          "text": [
            "<ipython-input-27-8703677a7b7e>:26: FutureWarning: You are using `torch.load` with `weights_only=False` (the current default value), which uses the default pickle module implicitly. It is possible to construct malicious pickle data which will execute arbitrary code during unpickling (See https://github.com/pytorch/pytorch/blob/main/SECURITY.md#untrusted-models for more details). In a future release, the default value for `weights_only` will be flipped to `True`. This limits the functions that could be executed during unpickling. Arbitrary objects will no longer be allowed to be loaded via this mode unless they are explicitly allowlisted by the user via `torch.serialization.add_safe_globals`. We recommend you start setting `weights_only=True` for any use case where you don't have full control of the loaded file. Please open an issue on GitHub for any issues related to this experimental feature.\n",
            "  model.load_state_dict(torch.load(model_path, map_location=DEVICE))\n"
          ]
        },
        {
          "output_type": "stream",
          "name": "stdout",
          "text": [
            "CSV saved as: predicted_vs_actual_plots/10/trip_50.csv\n"
          ]
        },
        {
          "output_type": "stream",
          "name": "stderr",
          "text": [
            "<ipython-input-27-8703677a7b7e>:26: FutureWarning: You are using `torch.load` with `weights_only=False` (the current default value), which uses the default pickle module implicitly. It is possible to construct malicious pickle data which will execute arbitrary code during unpickling (See https://github.com/pytorch/pytorch/blob/main/SECURITY.md#untrusted-models for more details). In a future release, the default value for `weights_only` will be flipped to `True`. This limits the functions that could be executed during unpickling. Arbitrary objects will no longer be allowed to be loaded via this mode unless they are explicitly allowlisted by the user via `torch.serialization.add_safe_globals`. We recommend you start setting `weights_only=True` for any use case where you don't have full control of the loaded file. Please open an issue on GitHub for any issues related to this experimental feature.\n",
            "  model.load_state_dict(torch.load(model_path, map_location=DEVICE))\n",
            "<ipython-input-27-8703677a7b7e>:109: RuntimeWarning: divide by zero encountered in scalar divide\n",
            "  trip_fuel_consp100    = (((df1['Trip_fuel_consumption'].iloc[-1] - df1['Trip_fuel_consumption'].iloc[0]) / 10000) / mileagee)\n",
            "<ipython-input-27-8703677a7b7e>:144: RuntimeWarning: divide by zero encountered in scalar divide\n",
            "  trip_fuel_cons_predicted_p100 = (trip_fuel_consp100_p[-1] /10000) / mileagee\n",
            "<ipython-input-27-8703677a7b7e>:171: RuntimeWarning: invalid value encountered in scalar subtract\n",
            "  f\"Error(%) : {((abs(trip_fuel_consp100 -trip_fuel_cons_predicted_p100 ))/trip_fuel_consp100)*100:.2f}\"\n"
          ]
        },
        {
          "output_type": "stream",
          "name": "stdout",
          "text": [
            "CSV saved as: predicted_vs_actual_plots/10/trip_47.csv\n"
          ]
        },
        {
          "output_type": "stream",
          "name": "stderr",
          "text": [
            "<ipython-input-27-8703677a7b7e>:26: FutureWarning: You are using `torch.load` with `weights_only=False` (the current default value), which uses the default pickle module implicitly. It is possible to construct malicious pickle data which will execute arbitrary code during unpickling (See https://github.com/pytorch/pytorch/blob/main/SECURITY.md#untrusted-models for more details). In a future release, the default value for `weights_only` will be flipped to `True`. This limits the functions that could be executed during unpickling. Arbitrary objects will no longer be allowed to be loaded via this mode unless they are explicitly allowlisted by the user via `torch.serialization.add_safe_globals`. We recommend you start setting `weights_only=True` for any use case where you don't have full control of the loaded file. Please open an issue on GitHub for any issues related to this experimental feature.\n",
            "  model.load_state_dict(torch.load(model_path, map_location=DEVICE))\n"
          ]
        },
        {
          "output_type": "stream",
          "name": "stdout",
          "text": [
            "CSV saved as: predicted_vs_actual_plots/10/trip_48.csv\n"
          ]
        }
      ],
      "source": [
        "import os\n",
        "from sklearn.metrics import mean_absolute_error, mean_squared_error\n",
        "\n",
        "import numpy as np\n",
        "import pandas as pd\n",
        "import matplotlib.pyplot as plt\n",
        "import torch\n",
        "from torch import nn\n",
        "import torch.nn as nn\n",
        "import torch\n",
        "\n",
        "# Constants\n",
        "SEQUENCE_LENGTH = 10  # Updated sequence length\n",
        "PLOT_SAVE_DIR = 'predicted_vs_actual_plots'  # Base directory to save plots and CSVs\n",
        "DEVICE = torch.device('cuda' if torch.cuda.is_available() else 'cpu')\n",
        "\n",
        "# Ensure the base save directory exists\n",
        "os.makedirs(PLOT_SAVE_DIR, exist_ok=True)\n",
        "\n",
        "# Define the PyTorch model structure (same as the one used for training)\n",
        "\n",
        "\n",
        "# Load the trained model\n",
        "def load_trained_model(model_path, input_size):\n",
        "    model = FuelConsumptionModel(input_size=input_size)\n",
        "    model.load_state_dict(torch.load(model_path, map_location=DEVICE))\n",
        "    model.to(DEVICE)\n",
        "    model.eval()\n",
        "    return model\n",
        "\n",
        "# Process the file and prepare segments\n",
        "\n",
        "\n",
        "def process_file(file_path):\n",
        "    df = pd.read_csv(file_path)\n",
        "    if not df.empty :\n",
        "      df.rename(columns={\n",
        "          'Engine_speed': 'Engine speed',\n",
        "          'time': 'Time',\n",
        "          'Vehicle_Speed': 'Speed',\n",
        "          'Trip_fuel_consumption': 'Trip fuel consumption',\n",
        "          'Throttle_position': 'Throttle position',\n",
        "          'Accelerator_pedal_position': 'Accelerator pedal position',\n",
        "          'Cumulative_mileage': 'Cumulative mileage',\n",
        "          'Coolant_temp': 'Coolant_temperature'\n",
        "      }, inplace=True)\n",
        "      df['Time'] = df['Time'] - df['Time'].iloc[0]\n",
        "      df['Momentary fuel consumption1'] = df['Trip fuel consumption'].diff().fillna(0)\n",
        "      df['Momentary fuel consumption2'] = df['Trip fuel consumption'].diff().shift(-1).fillna(0)\n",
        "      df['Acceleration1'] = df['Speed'].diff().fillna(0)\n",
        "      df['Acceleration2'] = df['Speed'].diff().shift(-1).fillna(0)\n",
        "      df['Current_gear_shift_position_(Current_gear)'] = df['Current_gear_shift_position_(Current_gear)'].replace({13: 0, 14: 1})\n",
        "      # features = df[['Adjusted_gear_position', 'Speed', 'slope', 'Acceleration', 'Coolant_temperature']]\n",
        "\n",
        "\n",
        "      # df = df.iloc[200:]\n",
        "      # df = df.iloc[:-5]\n",
        "\n",
        "      # features = df[['Acceleration1','Acceleration2','Throttle position','Accelerator pedal position','Coolant_temperature','Speed','Engine speed', 'Current_gear_shift_position_(Current_gear)','correct_altitude',  'slope']]\n",
        "      features = df[['Acceleration1','Acceleration2','Speed', 'Current_gear_shift_position_(Current_gear)','slope']]\n",
        "\n",
        "      # features = df[['Acceleration1','Speed', 'Current_gear_shift_position_(Current_gear)','slope']]\n",
        "\n",
        "\n",
        "\n",
        "\n",
        "      target = df['Momentary fuel consumption2']\n",
        "\n",
        "\n",
        "\n",
        "    return features, target\n",
        "\n",
        "\n",
        "# Pad and normalize the data\n",
        "def pad_and_normalize(data, sequence_length=SEQUENCE_LENGTH):\n",
        "    padded_data = np.zeros((len(data), sequence_length, data[0].shape[1]))\n",
        "    for i, seq in enumerate(data):\n",
        "        length = min(len(seq), sequence_length)\n",
        "        padded_data[i, :length] = seq[:length]\n",
        "\n",
        "    # Normalization (same as in your script)\n",
        "\n",
        "    min_val_x = [-10,-10, 0,0, -10]\n",
        "    max_val_x = [10,10,200, 5, 10]\n",
        "\n",
        "\n",
        "\n",
        "    # min_val_x = [-10, 0,0, -10]\n",
        "    # max_val_x = [10,200, 5, 10]\n",
        "\n",
        "\n",
        "    for i in range(padded_data.shape[-1]):\n",
        "        padded_data[:, :, i] = (padded_data[:, :, i] - min_val_x[i]) / (max_val_x[i] - min_val_x[i])\n",
        "\n",
        "    return torch.tensor(padded_data, dtype=torch.float32).to(DEVICE)\n",
        "\n",
        "\n",
        "\n",
        "\n",
        "# Predict and plot the results\n",
        "def plot_predicted_vs_real(input_file, model, model_name):\n",
        "\n",
        "    df1 = pd.read_csv(input_file)\n",
        "\n",
        "    timee                 = (df1['time'].iloc[-1] - df1['time'].iloc[0]) / 60000\n",
        "    mileagee              = (df1['Cumulative_mileage'].iloc[-1] - df1['Cumulative_mileage'].iloc[0])\n",
        "    # mileagee = 11.01\n",
        "\n",
        "    trip_fuel_consp100    = (((df1['Trip_fuel_consumption'].iloc[-1] - df1['Trip_fuel_consumption'].iloc[0]) / 10000) / mileagee)\n",
        "\n",
        "    features, actual_values  = process_file(input_file)\n",
        "    rate = actual_values\n",
        "    num_segments = len(features) // SEQUENCE_LENGTH\n",
        "    predictions = []\n",
        "\n",
        "    for i in range(num_segments):\n",
        "        segment = features.iloc[i * SEQUENCE_LENGTH:(i + 1) * SEQUENCE_LENGTH]\n",
        "        segment_normalized = pad_and_normalize([segment.values])\n",
        "        with torch.no_grad():\n",
        "            segment_predictions = model(segment_normalized).cpu().numpy()\n",
        "        predictions.extend(segment_predictions.flatten() * 30000 )\n",
        "\n",
        "    # Handle any remaining data\n",
        "    remainder = len(features) % SEQUENCE_LENGTH\n",
        "    if remainder != 0:\n",
        "        last_segment = features.iloc[-remainder:]\n",
        "        last_segment_normalized = pad_and_normalize([last_segment.values], sequence_length=remainder)\n",
        "        with torch.no_grad():\n",
        "            last_segment_predictions = model(last_segment_normalized).cpu().numpy()\n",
        "        predictions.extend(last_segment_predictions.flatten() * 30000 )\n",
        "\n",
        "    predictions = np.array(predictions)\n",
        "    actual_valuess = actual_values.values[:len(predictions)]  # Ensure lengths match\n",
        "\n",
        "    mae = mean_absolute_error(actual_valuess, predictions)\n",
        "    mse = mean_squared_error(actual_valuess, predictions)\n",
        "\n",
        "    # Handling MAPE: Exclude zero actual values\n",
        "    non_zero_actual = actual_valuess != 0\n",
        "    mape = np.mean(np.abs((actual_valuess[non_zero_actual] - predictions[non_zero_actual]) / actual_valuess[non_zero_actual])) * 100\n",
        "\n",
        "\n",
        "    trip_fuel_consp100_p = np.cumsum(predictions[:len(actual_values)], axis=0)\n",
        "    trip_fuel_cons_predicted_p100 = (trip_fuel_consp100_p[-1] /10000) / mileagee\n",
        "\n",
        "    # Calculate error metrics\n",
        "    # mae = mean_absolute_error(actual_valuess, predictions)\n",
        "    # mse = mean_squared_error(actual_valuess, predictions)\n",
        "\n",
        "    # Handling MAPE: Ignore zero actual values to avoid NaN issues\n",
        "    # non_zero_actual = actual_valuess != 0\n",
        "    # mape = np.mean(np.abs((actual_valuess[non_zero_actual] - predictions[non_zero_actual]) / actual_valuess[non_zero_actual])) * 100\n",
        "\n",
        "    # print(f'MAE: {mae:.4f}---------------{input_file}')\n",
        "    # print(f'MSE: {mse:.4f}')\n",
        "    # print(f'MAPE: {mape:.4f}% ---------------------')\n",
        "\n",
        "\n",
        "    plt.figure(figsize=(10, 6))\n",
        "    plt.plot(np.cumsum(actual_values.values[:len(predictions)], axis=0), label='Real', color='blue')\n",
        "    plt.plot(np.cumsum(predictions[:len(actual_values)], axis=0), label='Predicted', color='red')\n",
        "    plt.xlabel('Index')\n",
        "    plt.ylabel('Fuel Consumption')\n",
        "    plt.title(f'Predicted vs Real Fuel Consumption ({model_name})')\n",
        "    plt.legend()\n",
        "    text = (\n",
        "          f\"time(M) : {timee:.0f} \\n\"\n",
        "          f\"mileage(KM) : {mileagee:.1f} \\n\"\n",
        "          f\"Real fuel cons: {trip_fuel_consp100:.2f} \\n\"\n",
        "          f\"Pred fuel cons: {trip_fuel_cons_predicted_p100:.2f} \\n\"\n",
        "          f\"Error(%) : {((abs(trip_fuel_consp100 -trip_fuel_cons_predicted_p100 ))/trip_fuel_consp100)*100:.2f}\"\n",
        "      )\n",
        "    plt.text(\n",
        "        0.95, 0.05,  # x and y position in figure coordinates\n",
        "        text,  # Multi-line text\n",
        "        fontsize=10,\n",
        "        color='gray',\n",
        "        horizontalalignment='right',\n",
        "        verticalalignment='bottom',\n",
        "        transform=plt.gca().transAxes  # Use axes coordinates\n",
        "    )\n",
        "    # Create model-specific directory\n",
        "    model_save_dir = os.path.join(PLOT_SAVE_DIR, model_name)\n",
        "    os.makedirs(model_save_dir, exist_ok=True)\n",
        "\n",
        "    # Save plot using model name in the designated directory\n",
        "    plot_filename = os.path.join(model_save_dir, f'{os.path.splitext(os.path.basename(input_file))[0]}_all.png')\n",
        "    plt.savefig(plot_filename)\n",
        "    plt.close()\n",
        "\n",
        "\n",
        "\n",
        "\n",
        "    results_df = pd.DataFrame({\n",
        "        'Speed': features[\"Speed\"].iloc[:len(predictions)],\n",
        "        'Actual': np.cumsum(actual_values.values[:len(predictions)], axis=0),\n",
        "        'Predicted_sum': np.cumsum(predictions[:len(actual_values)], axis=0),\n",
        "        'Predicted': predictions[:len(actual_values)] ,\n",
        "        'rate' : rate,\n",
        "        'MAE': mae,  # Add MAE as a constant column\n",
        "        'MSE': mse,  # Add MSE as a constant column\n",
        "        'MAPE': mape  # Add MAPE as a constant column\n",
        "\n",
        "    })\n",
        "\n",
        "    csv_filename = os.path.join(model_save_dir, f'{os.path.splitext(os.path.basename(input_file))[0]}.csv')\n",
        "    results_df.to_csv(csv_filename, index=False)\n",
        "    print(f\"CSV saved as: {csv_filename}\")\n",
        "\n",
        "\n",
        "\n",
        "# Directory containing all saved models and CSV files\n",
        "csv_dir = '/content'  # Directory containing CSV files\n",
        "model_dir = '/content'  # Directory containing model files\n",
        "\n",
        "# List all model files in the directory\n",
        "model_files = [f for f in os.listdir(model_dir) if f.endswith('.pth')]\n",
        "\n",
        "# List all CSV files in the directory\n",
        "csv_files = [f for f in os.listdir(csv_dir) if f.endswith('.csv')]\n",
        "\n",
        "# Load and test each model on each CSV file\n",
        "input_size = 5  # Number of features in the input data\n",
        "# input_size = 4  # Number of features in the input data\n",
        "\n",
        "\n",
        "for csv_file in csv_files:\n",
        "    csv_file_path = os.path.join(csv_dir, csv_file)\n",
        "    # print(f\"0Processing CSV file: {csv_file}\")\n",
        "\n",
        "    for model_file in model_files:\n",
        "        model_path = os.path.join(model_dir, model_file)\n",
        "        model_name = os.path.splitext(model_file)[0]  # Get the base name of the model file\n",
        "        # print(f\"Testing model: {model_name} on {csv_file}\")\n",
        "\n",
        "        model = load_trained_model(model_path, input_size)\n",
        "        plot_predicted_vs_real(csv_file_path, model, model_name)\n",
        "\n",
        "\n"
      ]
    },
    {
      "cell_type": "markdown",
      "metadata": {
        "id": "CzLT4cfVOXL0"
      },
      "source": [
        "# **Raate**"
      ]
    },
    {
      "cell_type": "code",
      "execution_count": null,
      "metadata": {
        "colab": {
          "base_uri": "https://localhost:8080/"
        },
        "id": "9vfRAe8DYqq9",
        "outputId": "d374a96d-345f-4243-c3d7-6fee306b2626"
      },
      "outputs": [
        {
          "output_type": "stream",
          "name": "stderr",
          "text": [
            "<ipython-input-5-214b7dca2b01>:26: FutureWarning: You are using `torch.load` with `weights_only=False` (the current default value), which uses the default pickle module implicitly. It is possible to construct malicious pickle data which will execute arbitrary code during unpickling (See https://github.com/pytorch/pytorch/blob/main/SECURITY.md#untrusted-models for more details). In a future release, the default value for `weights_only` will be flipped to `True`. This limits the functions that could be executed during unpickling. Arbitrary objects will no longer be allowed to be loaded via this mode unless they are explicitly allowlisted by the user via `torch.serialization.add_safe_globals`. We recommend you start setting `weights_only=True` for any use case where you don't have full control of the loaded file. Please open an issue on GitHub for any issues related to this experimental feature.\n",
            "  model.load_state_dict(torch.load(model_path, map_location=DEVICE))\n"
          ]
        },
        {
          "output_type": "stream",
          "name": "stdout",
          "text": [
            "19.716533333333334\n",
            "CSV saved as: predicted_vs_actual_plots/513_model_2slices_rate/Real_NEDC_testroom.csv\n"
          ]
        }
      ],
      "source": [
        "import os\n",
        "from sklearn.metrics import mean_absolute_error, mean_squared_error\n",
        "\n",
        "import numpy as np\n",
        "import pandas as pd\n",
        "import matplotlib.pyplot as plt\n",
        "import torch\n",
        "from torch import nn\n",
        "import torch.nn as nn\n",
        "import torch\n",
        "\n",
        "# Constants\n",
        "SEQUENCE_LENGTH = 600  # Updated sequence length\n",
        "PLOT_SAVE_DIR = 'predicted_vs_actual_plots'  # Base directory to save plots and CSVs\n",
        "DEVICE = torch.device('cuda' if torch.cuda.is_available() else 'cpu')\n",
        "\n",
        "# Ensure the base save directory exists\n",
        "os.makedirs(PLOT_SAVE_DIR, exist_ok=True)\n",
        "\n",
        "# Define the PyTorch model structure (same as the one used for training)\n",
        "\n",
        "\n",
        "# Load the trained model\n",
        "def load_trained_model(model_path, input_size):\n",
        "    model = FuelConsumptionModel(input_size=input_size)\n",
        "    model.load_state_dict(torch.load(model_path, map_location=DEVICE))\n",
        "    model.to(DEVICE)\n",
        "    model.eval()\n",
        "    return model\n",
        "\n",
        "# Process the file and prepare segments\n",
        "\n",
        "\n",
        "def process_file(file_path):\n",
        "    df = pd.read_csv(file_path)\n",
        "    if not df.empty :\n",
        "      df.rename(columns={\n",
        "          'Engine_speed': 'Engine speed',\n",
        "          'time': 'Time',\n",
        "          'Vehicle_Speed': 'Speed',\n",
        "          'Trip_fuel_consumption': 'Trip fuel consumption',\n",
        "          'Throttle_position': 'Throttle position',\n",
        "          'Accelerator_pedal_position': 'Accelerator pedal position',\n",
        "          'Cumulative_mileage': 'Cumulative mileage',\n",
        "          'Coolant_temp': 'Coolant_temperature'\n",
        "      }, inplace=True)\n",
        "      df['Time'] = df['Time'] - df['Time'].iloc[0]\n",
        "      df['Momentary fuel consumption1'] = df['Trip fuel consumption'].diff().fillna(0)\n",
        "      df['Momentary fuel consumption2'] = df['Trip fuel consumption'].diff().shift(-1).fillna(0)\n",
        "      df['Acceleration1'] = df['Speed'].diff().fillna(0)\n",
        "      df['Acceleration2'] = df['Speed'].diff().shift(-1).fillna(0)\n",
        "      df['Current_gear_shift_position_(Current_gear)'] = df['Current_gear_shift_position_(Current_gear)'].replace({13: 0, 14: 1})\n",
        "      # features = df[['Adjusted_gear_position', 'Speed', 'slope', 'Acceleration', 'Coolant_temperature']]\n",
        "\n",
        "\n",
        "      # df = df.iloc[:-5]\n",
        "\n",
        "\n",
        "      # features = df[['Acceleration1','Acceleration2','Throttle position','Accelerator pedal position','Coolant_temperature','Speed','Engine speed', 'Current_gear_shift_position_(Current_gear)','correct_altitude',  'slope']]\n",
        "      features = df[['Acceleration1','Acceleration2','Speed', 'Current_gear_shift_position_(Current_gear)','slope']]\n",
        "\n",
        "      # features = df[['Acceleration1','Speed', 'Current_gear_shift_position_(Current_gear)','slope']]\n",
        "\n",
        "\n",
        "\n",
        "      target = df['Momentary fuel consumption2']\n",
        "\n",
        "      if df['Average_fuel_consumption_rate'].isnull().any():\n",
        "            # If the column has null values, delete the file\n",
        "\n",
        "            return features, target , None\n",
        "\n",
        "      target2 = df['Average_fuel_consumption_rate']\n",
        "\n",
        "\n",
        "    return features, target , target2\n",
        "\n",
        "\n",
        "# Pad and normalize the data\n",
        "def pad_and_normalize(data, sequence_length=SEQUENCE_LENGTH):\n",
        "    padded_data = np.zeros((len(data), sequence_length, data[0].shape[1]))\n",
        "    for i, seq in enumerate(data):\n",
        "        length = min(len(seq), sequence_length)\n",
        "        padded_data[i, :length] = seq[:length]\n",
        "\n",
        "    # Normalization (same as in your script)\n",
        "\n",
        "    min_val_x = [-10,-10, 0,0, -10]\n",
        "    max_val_x = [10,10,200, 5, 10]\n",
        "\n",
        "    # min_val_x = [-10, 0,0, -10]\n",
        "    # max_val_x = [10,200, 5, 10]\n",
        "\n",
        "    for i in range(padded_data.shape[-1]):\n",
        "        padded_data[:, :, i] = (padded_data[:, :, i] - min_val_x[i]) / (max_val_x[i] - min_val_x[i])\n",
        "\n",
        "    return torch.tensor(padded_data, dtype=torch.float32).to(DEVICE)\n",
        "\n",
        "\n",
        "\n",
        "\n",
        "# Predict and plot the results\n",
        "def plot_predicted_vs_real(input_file, model, model_name):\n",
        "\n",
        "    features, actual_values , rate  = process_file(input_file)\n",
        "    num_segments = len(features) // SEQUENCE_LENGTH\n",
        "    predictions = []\n",
        "\n",
        "    df1 = pd.read_csv(input_file)\n",
        "\n",
        "    timee                 = (df1['time'].iloc[-1] - df1['time'].iloc[0]) / 60000\n",
        "    print(timee)\n",
        "    mileagee              = (df1['Cumulative_mileage'].iloc[-1] - df1['Cumulative_mileage'].iloc[0])\n",
        "    # mileagee = 11.01\n",
        "    if rate is not None:\n",
        "      total_cumsum = df1['Average_fuel_consumption_rate'].cumsum().iloc[-1]\n",
        "      trip_fuel_consp100    = ((total_cumsum / 10) / mileagee)\n",
        "    else :\n",
        "      trip_fuel_consp100    = (((df1['Trip_fuel_consumption'].iloc[-1] - df1['Trip_fuel_consumption'].iloc[0]) / 10000) / mileagee)\n",
        "\n",
        "\n",
        "\n",
        "    for i in range(num_segments):\n",
        "        segment = features.iloc[i * SEQUENCE_LENGTH:(i + 1) * SEQUENCE_LENGTH]\n",
        "        segment_normalized = pad_and_normalize([segment.values])\n",
        "        with torch.no_grad():\n",
        "            segment_predictions = model(segment_normalized).cpu().numpy()\n",
        "        predictions.extend(segment_predictions.flatten() * 1 )\n",
        "\n",
        "    # Handle any remaining data\n",
        "    remainder = len(features) % SEQUENCE_LENGTH\n",
        "    if remainder != 0:\n",
        "        last_segment = features.iloc[-remainder:]\n",
        "        last_segment_normalized = pad_and_normalize([last_segment.values], sequence_length=remainder)\n",
        "        with torch.no_grad():\n",
        "            last_segment_predictions = model(last_segment_normalized).cpu().numpy()\n",
        "        predictions.extend(last_segment_predictions.flatten() * 1 )\n",
        "\n",
        "    predictions = np.array(predictions)\n",
        "    actual_valuess = actual_values.values[:len(predictions)]  # Ensure lengths match\n",
        "\n",
        "    # Calculate error metrics\n",
        "    # mae = mean_absolute_error(actual_valuess, predictions)\n",
        "    # mse = mean_squared_error(actual_valuess, predictions)\n",
        "\n",
        "    # Handling MAPE: Ignore zero actual values to avoid NaN issues\n",
        "    # non_zero_actual = actual_valuess != 0\n",
        "    # mape = np.mean(np.abs((actual_valuess[non_zero_actual] - predictions[non_zero_actual]) / actual_valuess[non_zero_actual])) * 100\n",
        "\n",
        "    # print(f'MAE: {mae:.4f}---------------{input_file}')\n",
        "    # print(f'MSE: {mse:.4f}')\n",
        "    # print(f'MAPE: {mape:.4f}% ---------------------')\n",
        "\n",
        "\n",
        "\n",
        "    if rate is not None:\n",
        "      trip_fuel_consp100_p = np.cumsum(predictions[:len(actual_values)], axis=0)\n",
        "      trip_fuel_cons_predicted_p100 = (trip_fuel_consp100_p[-1] /10) / mileagee\n",
        "\n",
        "      plt.figure(figsize=(10, 6))\n",
        "      plt.plot(np.cumsum(rate.values[:len(predictions)], axis=0), label='Real', color='blue')\n",
        "      plt.plot(np.cumsum(predictions[:len(rate)], axis=0), label='Predicted', color='red')\n",
        "      plt.xlabel('Index')\n",
        "      plt.ylabel('Fuel Consumption')\n",
        "      plt.title(f'Predicted vs Real Fuel Consumption ({model_name})')\n",
        "      plt.legend()\n",
        "      text = (\n",
        "          f\"time(M) : {timee:.0f} \\n\"\n",
        "          f\"mileage(KM) : {mileagee:.1f} \\n\"\n",
        "          f\"Real fuel cons: {trip_fuel_consp100:.2f} \\n\"\n",
        "          f\"Pred fuel cons: {trip_fuel_cons_predicted_p100:.2f} \\n\"\n",
        "          f\"Error(%) : {((abs(trip_fuel_consp100 -trip_fuel_cons_predicted_p100 ))/trip_fuel_consp100)*100:.2f}\"\n",
        "      )\n",
        "      plt.text(\n",
        "          0.95, 0.05,  # x and y position in figure coordinates\n",
        "          text,  # Multi-line text\n",
        "          fontsize=10,\n",
        "          color='gray',\n",
        "          horizontalalignment='right',\n",
        "          verticalalignment='bottom',\n",
        "          transform=plt.gca().transAxes  # Use axes coordinates\n",
        "      )\n",
        "      # Create model-specific directory\n",
        "      model_save_dir = os.path.join(PLOT_SAVE_DIR, model_name)\n",
        "      os.makedirs(model_save_dir, exist_ok=True)\n",
        "\n",
        "      # Save plot using model name in the designated directory\n",
        "      plot_filename = os.path.join(model_save_dir, f'{os.path.splitext(os.path.basename(input_file))[0]}_all.png')\n",
        "      plt.savefig(plot_filename)\n",
        "      plt.close()\n",
        "\n",
        "    else:\n",
        "      trip_fuel_consp100_p = np.cumsum(predictions[:len(actual_values)], axis=0)\n",
        "      trip_fuel_cons_predicted_p100 = (trip_fuel_consp100_p[-1] /10) / mileagee\n",
        "\n",
        "      plt.figure(figsize=(10, 6))\n",
        "      plt.plot(np.cumsum(actual_values.values[:len(predictions)], axis=0), label='Real', color='blue')\n",
        "      plt.plot(np.cumsum(predictions[:len(actual_values)]*1000, axis=0), label='Predicted', color='red')\n",
        "      plt.xlabel('Index')\n",
        "      plt.ylabel('Fuel Consumption')\n",
        "      plt.title(f'Predicted vs Real Fuel Consumption ({model_name})')\n",
        "      plt.legend()\n",
        "\n",
        "      text = (\n",
        "          f\"time(M) : {timee:.0f} \\n\"\n",
        "          f\"mileage(KM) : {mileagee:.1f} \\n\"\n",
        "          f\"Real fuel cons: {trip_fuel_consp100:.2f} \\n\"\n",
        "          f\"Pred fuel cons: {trip_fuel_cons_predicted_p100:.2f} \\n\"\n",
        "          f\"Error(%) : {((abs(trip_fuel_consp100 -trip_fuel_cons_predicted_p100 ))/trip_fuel_consp100)*100:.2f}\"\n",
        "      )\n",
        "      plt.text(\n",
        "          0.95, 0.05,  # x and y position in figure coordinates\n",
        "          text,  # Multi-line text\n",
        "          fontsize=10,\n",
        "          color='gray',\n",
        "          horizontalalignment='right',\n",
        "          verticalalignment='bottom',\n",
        "          transform=plt.gca().transAxes  # Use axes coordinates\n",
        "      )\n",
        "\n",
        "      # Create model-specific directory\n",
        "      model_save_dir = os.path.join(PLOT_SAVE_DIR, model_name)\n",
        "      os.makedirs(model_save_dir, exist_ok=True)\n",
        "\n",
        "      # Save plot using model name in the designated directory\n",
        "      plot_filename = os.path.join(model_save_dir, f'{os.path.splitext(os.path.basename(input_file))[0]}_all.png')\n",
        "      plt.savefig(plot_filename)\n",
        "      plt.close()\n",
        "\n",
        "    if rate is not None:\n",
        "      # Save predictions and actual values to CSV using model name in the designated directory\n",
        "      results_df = pd.DataFrame({\n",
        "          'Speed': features[\"Speed\"].iloc[:len(predictions)],\n",
        "          'Actual': np.cumsum(actual_values.values[:len(predictions)], axis=0),\n",
        "          'Predicted_sum': np.cumsum(predictions[:len(actual_values)], axis=0),\n",
        "          'Predicted': predictions[:len(actual_values)] ,\n",
        "          'rate' : rate[:len(actual_values)]\n",
        "          # 'MAE': mae,  # Add MAE to the dataframe\n",
        "          # 'MSE': mse,  # Add MSE to the dataframe\n",
        "\n",
        "      })\n",
        "    else :\n",
        "      results_df = pd.DataFrame({\n",
        "          'Speed': features[\"Speed\"].iloc[:len(predictions)],\n",
        "          'Actual': np.cumsum(actual_values.values[:len(predictions)], axis=0),\n",
        "          'Predicted_sum': np.cumsum(predictions[:len(actual_values)], axis=0),\n",
        "          'Predicted': predictions[:len(actual_values)] ,\n",
        "          'rate' : rate\n",
        "          # 'MAE': mae,  # Add MAE to the dataframe\n",
        "          # 'MSE': mse,  # Add MSE to the dataframe\n",
        "\n",
        "      })\n",
        "\n",
        "    csv_filename = os.path.join(model_save_dir, f'{os.path.splitext(os.path.basename(input_file))[0]}.csv')\n",
        "    results_df.to_csv(csv_filename, index=False)\n",
        "    print(f\"CSV saved as: {csv_filename}\")\n",
        "\n",
        "\n",
        "\n",
        "# Directory containing all saved models and CSV files\n",
        "csv_dir = '/content'  # Directory containing CSV files\n",
        "model_dir = '/content/'  # Directory containing model files\n",
        "\n",
        "# List all model files in the directory\n",
        "model_files = [f for f in os.listdir(model_dir) if f.endswith('.pth')]\n",
        "\n",
        "# List all CSV files in the directory\n",
        "csv_files = [f for f in os.listdir(csv_dir) if f.endswith('.csv')]\n",
        "\n",
        "# Load and test each model on each CSV file\n",
        "input_size = 5  # Number of features in the input data\n",
        "# input_size = 4  # Number of features in the input data\n",
        "\n",
        "\n",
        "for csv_file in csv_files:\n",
        "    csv_file_path = os.path.join(csv_dir, csv_file)\n",
        "    # print(f\"0Processing CSV file: {csv_file}\")\n",
        "\n",
        "    for model_file in model_files:\n",
        "        model_path = os.path.join(model_dir, model_file)\n",
        "        model_name = os.path.splitext(model_file)[0]  # Get the base name of the model file\n",
        "        # print(f\"Testing model: {model_name} on {csv_file}\")\n",
        "\n",
        "        model = load_trained_model(model_path, input_size)\n",
        "        plot_predicted_vs_real(csv_file_path, model, model_name)\n",
        "\n",
        "\n"
      ]
    },
    {
      "cell_type": "markdown",
      "source": [
        "rate new acc"
      ],
      "metadata": {
        "id": "aFHfAvpk6pGA"
      }
    },
    {
      "cell_type": "code",
      "source": [
        "import os\n",
        "from sklearn.metrics import mean_absolute_error, mean_squared_error\n",
        "\n",
        "import numpy as np\n",
        "import pandas as pd\n",
        "import matplotlib.pyplot as plt\n",
        "import torch\n",
        "from torch import nn\n",
        "import torch.nn as nn\n",
        "import torch\n",
        "\n",
        "# Constants\n",
        "SEQUENCE_LENGTH = 200  # Updated sequence length\n",
        "PLOT_SAVE_DIR = 'predicted_vs_actual_plots'  # Base directory to save plots and CSVs\n",
        "DEVICE = torch.device('cuda' if torch.cuda.is_available() else 'cpu')\n",
        "\n",
        "# Ensure the base save directory exists\n",
        "os.makedirs(PLOT_SAVE_DIR, exist_ok=True)\n",
        "\n",
        "# Define the PyTorch model structure (same as the one used for training)\n",
        "\n",
        "\n",
        "# Load the trained model\n",
        "def load_trained_model(model_path, input_size):\n",
        "    model = FuelConsumptionModel(input_size=input_size)\n",
        "    model.load_state_dict(torch.load(model_path, map_location=DEVICE))\n",
        "    model.to(DEVICE)\n",
        "    model.eval()\n",
        "    return model\n",
        "\n",
        "# Process the file and prepare segments\n",
        "\n",
        "\n",
        "def process_file(file_path):\n",
        "    df = pd.read_csv(file_path)\n",
        "    if not df.empty :\n",
        "      df.rename(columns={\n",
        "          'Engine_speed': 'Engine speed',\n",
        "          'time': 'Time',\n",
        "          'Vehicle_Speed': 'Speed',\n",
        "          'Trip_fuel_consumption': 'Trip fuel consumption',\n",
        "          'Throttle_position': 'Throttle position',\n",
        "          'Accelerator_pedal_position': 'Accelerator pedal position',\n",
        "          'Cumulative_mileage': 'Cumulative mileage',\n",
        "          'Coolant_temp': 'Coolant_temperature'\n",
        "      }, inplace=True)\n",
        "      df['Time'] = df['Time'] - df['Time'].iloc[0]\n",
        "      df['Momentary fuel consumption1'] = df['Trip fuel consumption'].diff().fillna(0)\n",
        "      df['Momentary fuel consumption2'] = df['Trip fuel consumption'].diff().shift(-1).fillna(0)\n",
        "      df['Acceleration1'] = df['Speed'].diff().fillna(0)\n",
        "      df['Acceleration2'] = df['Speed'].diff().shift(-1).fillna(0)\n",
        "      df['Current_gear_shift_position_(Current_gear)'] = df['Current_gear_shift_position_(Current_gear)'].replace({13: 0, 14: 1})\n",
        "      # features = df[['Adjusted_gear_position', 'Speed', 'slope', 'Acceleration', 'Coolant_temperature']]\n",
        "\n",
        "\n",
        "      # df = df.iloc[:-20]\n",
        "      df['acc1'] = df['Speed'].diff().fillna(0)\n",
        "\n",
        "      df['acc21'] = df['Speed'].diff().shift(-1).fillna(0)\n",
        "      df['acc22'] = df['Speed'].diff().shift(-2).fillna(0)\n",
        "      df['acc23'] = df['Speed'].diff().shift(-3).fillna(0)\n",
        "      df['acc24'] = df['Speed'].diff().shift(-4).fillna(0)\n",
        "\n",
        "\n",
        "      df['acc31'] = df['Speed'].diff().shift(1).fillna(0)\n",
        "      df['acc32'] = df['Speed'].diff().shift(2).fillna(0)\n",
        "      df['acc33'] = df['Speed'].diff().shift(3).fillna(0)\n",
        "      df['acc34'] = df['Speed'].diff().shift(4).fillna(0)\n",
        "\n",
        "      df = df.iloc[:-5]\n",
        "\n",
        "\n",
        "      features = df[['acc1','acc21','acc22','acc23','acc24','acc31','acc32','acc33','acc34','Speed', 'Current_gear_shift_position_(Current_gear)', 'slope']]\n",
        "\n",
        "\n",
        "      features = df[['acc1','acc21','acc31','Speed', 'Current_gear_shift_position_(Current_gear)', 'slope']]\n",
        "\n",
        "      # features = df[['Acceleration1','Acceleration2','Throttle position','Accelerator pedal position','Coolant_temperature','Speed','Engine speed', 'Current_gear_shift_position_(Current_gear)','correct_altitude',  'slope']]\n",
        "      # features = df[['Acceleration1','Speed', 'Current_gear_shift_position_(Current_gear)','slope']]\n",
        "\n",
        "\n",
        "\n",
        "      target = df['Momentary fuel consumption2']\n",
        "\n",
        "      if df['Average_fuel_consumption_rate'].isnull().any():\n",
        "            # If the column has null values, delete the file\n",
        "\n",
        "            return features, target , None\n",
        "\n",
        "      target2 = df['Average_fuel_consumption_rate']\n",
        "\n",
        "\n",
        "    return features, target , target2\n",
        "\n",
        "\n",
        "# Pad and normalize the data\n",
        "def pad_and_normalize(data, sequence_length=SEQUENCE_LENGTH):\n",
        "    padded_data = np.zeros((len(data), sequence_length, data[0].shape[1]))\n",
        "    for i, seq in enumerate(data):\n",
        "        length = min(len(seq), sequence_length)\n",
        "        padded_data[i, :length] = seq[:length]\n",
        "\n",
        "    # Normalization (same as in your script)\n",
        "\n",
        "    min_val_x = [-10,-10, 0,0, -10]\n",
        "    max_val_x = [10,10,200, 5, 10]\n",
        "\n",
        "    # min_val_x = [-10,-10,-10,-10,-10,-10,-10,-10,-10, 0,   0 , -10]\n",
        "    # max_val_x = [ 10, 10, 10, 10, 10, 10, 10, 10, 10, 200, 5 , 10]\n",
        "\n",
        "    # min_val_x = [-10,-10,-10, 0,   0 , -10]\n",
        "    # max_val_x = [ 10, 10, 10, 200, 5 , 10]\n",
        "    # min_val_x = [-10, 0,0, -10]\n",
        "    # max_val_x = [10,200, 5, 10]\n",
        "\n",
        "    for i in range(padded_data.shape[-1]):\n",
        "        padded_data[:, :, i] = (padded_data[:, :, i] - min_val_x[i]) / (max_val_x[i] - min_val_x[i])\n",
        "\n",
        "    return torch.tensor(padded_data, dtype=torch.float32).to(DEVICE)\n",
        "\n",
        "\n",
        "\n",
        "\n",
        "# Predict and plot the results\n",
        "def plot_predicted_vs_real(input_file, model, model_name):\n",
        "\n",
        "    features, actual_values , rate  = process_file(input_file)\n",
        "    num_segments = len(features) // SEQUENCE_LENGTH\n",
        "    predictions = []\n",
        "\n",
        "    df1 = pd.read_csv(input_file)\n",
        "\n",
        "    timee                 = (df1['time'].iloc[-1] - df1['time'].iloc[0]) / 60000\n",
        "    print(timee)\n",
        "    mileagee              = (df1['Cumulative_mileage'].iloc[-1] - df1['Cumulative_mileage'].iloc[0])\n",
        "\n",
        "    if rate is not None:\n",
        "      total_cumsum = df1['Average_fuel_consumption_rate'].cumsum().iloc[-1]\n",
        "      trip_fuel_consp100    = ((total_cumsum / 10) / mileagee)\n",
        "    else :\n",
        "      trip_fuel_consp100    = (((df1['Trip_fuel_consumption'].iloc[-1] - df1['Trip_fuel_consumption'].iloc[0]) / 10000) / mileagee)\n",
        "\n",
        "\n",
        "\n",
        "    for i in range(num_segments):\n",
        "        segment = features.iloc[i * SEQUENCE_LENGTH:(i + 1) * SEQUENCE_LENGTH]\n",
        "        segment_normalized = pad_and_normalize([segment.values])\n",
        "        with torch.no_grad():\n",
        "            segment_predictions = model(segment_normalized).cpu().numpy()\n",
        "        predictions.extend(segment_predictions.flatten() * 1 )\n",
        "\n",
        "    # Handle any remaining data\n",
        "    remainder = len(features) % SEQUENCE_LENGTH\n",
        "    if remainder != 0:\n",
        "        last_segment = features.iloc[-remainder:]\n",
        "        last_segment_normalized = pad_and_normalize([last_segment.values], sequence_length=remainder)\n",
        "        with torch.no_grad():\n",
        "            last_segment_predictions = model(last_segment_normalized).cpu().numpy()\n",
        "        predictions.extend(last_segment_predictions.flatten() * 1 )\n",
        "\n",
        "    predictions = np.array(predictions)\n",
        "    actual_valuess = actual_values.values[:len(predictions)]  # Ensure lengths match\n",
        "\n",
        "    # Calculate error metrics\n",
        "    # mae = mean_absolute_error(actual_valuess, predictions)\n",
        "    # mse = mean_squared_error(actual_valuess, predictions)\n",
        "\n",
        "    # Handling MAPE: Ignore zero actual values to avoid NaN issues\n",
        "    # non_zero_actual = actual_valuess != 0\n",
        "    # mape = np.mean(np.abs((actual_valuess[non_zero_actual] - predictions[non_zero_actual]) / actual_valuess[non_zero_actual])) * 100\n",
        "\n",
        "    # print(f'MAE: {mae:.4f}---------------{input_file}')\n",
        "    # print(f'MSE: {mse:.4f}')\n",
        "    # print(f'MAPE: {mape:.4f}% ---------------------')\n",
        "\n",
        "\n",
        "\n",
        "    if rate is not None:\n",
        "      trip_fuel_consp100_p = np.cumsum(predictions[:len(actual_values)], axis=0)\n",
        "      trip_fuel_cons_predicted_p100 = (trip_fuel_consp100_p[-1] /10) / mileagee\n",
        "\n",
        "      plt.figure(figsize=(10, 6))\n",
        "      plt.plot(np.cumsum(rate.values[:len(predictions)], axis=0), label='Real', color='blue')\n",
        "      plt.plot(np.cumsum(predictions[:len(rate)], axis=0), label='Predicted', color='red')\n",
        "      plt.xlabel('Index')\n",
        "      plt.ylabel('Fuel Consumption')\n",
        "      plt.title(f'Predicted vs Real Fuel Consumption ({model_name})')\n",
        "      plt.legend()\n",
        "      text = (\n",
        "          f\"time(M) : {timee:.0f} \\n\"\n",
        "          f\"mileage(KM) : {mileagee:.1f} \\n\"\n",
        "          f\"Real fuel cons: {trip_fuel_consp100:.2f} \\n\"\n",
        "          f\"Pred fuel cons: {trip_fuel_cons_predicted_p100:.2f} \\n\"\n",
        "          f\"Error(%) : {((abs(trip_fuel_consp100 -trip_fuel_cons_predicted_p100 ))/trip_fuel_consp100)*100:.2f}\"\n",
        "      )\n",
        "      plt.text(\n",
        "          0.95, 0.05,  # x and y position in figure coordinates\n",
        "          text,  # Multi-line text\n",
        "          fontsize=10,\n",
        "          color='gray',\n",
        "          horizontalalignment='right',\n",
        "          verticalalignment='bottom',\n",
        "          transform=plt.gca().transAxes  # Use axes coordinates\n",
        "      )\n",
        "      # Create model-specific directory\n",
        "      model_save_dir = os.path.join(PLOT_SAVE_DIR, model_name)\n",
        "      os.makedirs(model_save_dir, exist_ok=True)\n",
        "\n",
        "      # Save plot using model name in the designated directory\n",
        "      plot_filename = os.path.join(model_save_dir, f'{os.path.splitext(os.path.basename(input_file))[0]}_all.png')\n",
        "      plt.savefig(plot_filename)\n",
        "      plt.close()\n",
        "\n",
        "    else:\n",
        "      trip_fuel_consp100_p = np.cumsum(predictions[:len(actual_values)], axis=0)\n",
        "      trip_fuel_cons_predicted_p100 = (trip_fuel_consp100_p[-1] /10) / mileagee\n",
        "\n",
        "      plt.figure(figsize=(10, 6))\n",
        "      plt.plot(np.cumsum(actual_values.values[:len(predictions)], axis=0), label='Real', color='blue')\n",
        "      plt.plot(np.cumsum(predictions[:len(actual_values)]*1000, axis=0), label='Predicted', color='red')\n",
        "      plt.xlabel('Index')\n",
        "      plt.ylabel('Fuel Consumption')\n",
        "      plt.title(f'Predicted vs Real Fuel Consumption ({model_name})')\n",
        "      plt.legend()\n",
        "\n",
        "      text = (\n",
        "          f\"time(M) : {timee:.0f} \\n\"\n",
        "          f\"mileage(KM) : {mileagee:.1f} \\n\"\n",
        "          f\"Real fuel cons: {trip_fuel_consp100:.2f} \\n\"\n",
        "          f\"Pred fuel cons: {trip_fuel_cons_predicted_p100:.2f} \\n\"\n",
        "          f\"Error(%) : {((abs(trip_fuel_consp100 -trip_fuel_cons_predicted_p100 ))/trip_fuel_consp100)*100:.2f}\"\n",
        "      )\n",
        "      plt.text(\n",
        "          0.95, 0.05,  # x and y position in figure coordinates\n",
        "          text,  # Multi-line text\n",
        "          fontsize=10,\n",
        "          color='gray',\n",
        "          horizontalalignment='right',\n",
        "          verticalalignment='bottom',\n",
        "          transform=plt.gca().transAxes  # Use axes coordinates\n",
        "      )\n",
        "\n",
        "      # Create model-specific directory\n",
        "      model_save_dir = os.path.join(PLOT_SAVE_DIR, model_name)\n",
        "      os.makedirs(model_save_dir, exist_ok=True)\n",
        "\n",
        "      # Save plot using model name in the designated directory\n",
        "      plot_filename = os.path.join(model_save_dir, f'{os.path.splitext(os.path.basename(input_file))[0]}_all.png')\n",
        "      plt.savefig(plot_filename)\n",
        "      plt.close()\n",
        "\n",
        "    if rate is not None:\n",
        "      # Save predictions and actual values to CSV using model name in the designated directory\n",
        "      results_df = pd.DataFrame({\n",
        "          'Speed': features[\"Speed\"].iloc[:len(predictions)],\n",
        "          'Actual': np.cumsum(actual_values.values[:len(predictions)], axis=0),\n",
        "          'Predicted_sum': np.cumsum(predictions[:len(actual_values)], axis=0),\n",
        "          'Predicted': predictions[:len(actual_values)] ,\n",
        "          'rate' : rate[:len(actual_values)]\n",
        "          # 'MAE': mae,  # Add MAE to the dataframe\n",
        "          # 'MSE': mse,  # Add MSE to the dataframe\n",
        "\n",
        "      })\n",
        "    else :\n",
        "      results_df = pd.DataFrame({\n",
        "          'Speed': features[\"Speed\"].iloc[:len(predictions)],\n",
        "          'Actual': np.cumsum(actual_values.values[:len(predictions)], axis=0),\n",
        "          'Predicted_sum': np.cumsum(predictions[:len(actual_values)], axis=0),\n",
        "          'Predicted': predictions[:len(actual_values)] ,\n",
        "          'rate' : rate\n",
        "          # 'MAE': mae,  # Add MAE to the dataframe\n",
        "          # 'MSE': mse,  # Add MSE to the dataframe\n",
        "\n",
        "      })\n",
        "\n",
        "    csv_filename = os.path.join(model_save_dir, f'{os.path.splitext(os.path.basename(input_file))[0]}.csv')\n",
        "    results_df.to_csv(csv_filename, index=False)\n",
        "    print(f\"CSV saved as: {csv_filename}\")\n",
        "\n",
        "\n",
        "\n",
        "# Directory containing all saved models and CSV files\n",
        "csv_dir = '/content'  # Directory containing CSV files\n",
        "model_dir = '/content/'  # Directory containing model files\n",
        "\n",
        "# List all model files in the directory\n",
        "model_files = [f for f in os.listdir(model_dir) if f.endswith('.pth')]\n",
        "\n",
        "# List all CSV files in the directory\n",
        "csv_files = [f for f in os.listdir(csv_dir) if f.endswith('.csv')]\n",
        "\n",
        "# Load and test each model on each CSV file\n",
        "input_size = 5  # Number of features in the input data\n",
        "# input_size = 4  # Number of features in the input data\n",
        "\n",
        "\n",
        "for csv_file in csv_files:\n",
        "    csv_file_path = os.path.join(csv_dir, csv_file)\n",
        "    # print(f\"0Processing CSV file: {csv_file}\")\n",
        "\n",
        "    for model_file in model_files:\n",
        "        model_path = os.path.join(model_dir, model_file)\n",
        "        model_name = os.path.splitext(model_file)[0]  # Get the base name of the model file\n",
        "        # print(f\"Testing model: {model_name} on {csv_file}\")\n",
        "\n",
        "        model = load_trained_model(model_path, input_size)\n",
        "        plot_predicted_vs_real(csv_file_path, model, model_name)\n",
        "\n",
        "\n"
      ],
      "metadata": {
        "colab": {
          "base_uri": "https://localhost:8080/",
          "height": 411
        },
        "id": "iaT0H5ds6o8g",
        "outputId": "e15ad0a3-0d80-497b-f9a5-537a47b7a359"
      },
      "execution_count": null,
      "outputs": [
        {
          "output_type": "stream",
          "name": "stderr",
          "text": [
            "<ipython-input-4-4ddf0d849732>:26: FutureWarning: You are using `torch.load` with `weights_only=False` (the current default value), which uses the default pickle module implicitly. It is possible to construct malicious pickle data which will execute arbitrary code during unpickling (See https://github.com/pytorch/pytorch/blob/main/SECURITY.md#untrusted-models for more details). In a future release, the default value for `weights_only` will be flipped to `True`. This limits the functions that could be executed during unpickling. Arbitrary objects will no longer be allowed to be loaded via this mode unless they are explicitly allowlisted by the user via `torch.serialization.add_safe_globals`. We recommend you start setting `weights_only=True` for any use case where you don't have full control of the loaded file. Please open an issue on GitHub for any issues related to this experimental feature.\n",
            "  model.load_state_dict(torch.load(model_path, map_location=DEVICE))\n"
          ]
        },
        {
          "output_type": "error",
          "ename": "KeyError",
          "evalue": "\"['correct_altitude'] not in index\"",
          "traceback": [
            "\u001b[0;31m---------------------------------------------------------------------------\u001b[0m",
            "\u001b[0;31mKeyError\u001b[0m                                  Traceback (most recent call last)",
            "\u001b[0;32m<ipython-input-4-4ddf0d849732>\u001b[0m in \u001b[0;36m<cell line: 297>\u001b[0;34m()\u001b[0m\n\u001b[1;32m    305\u001b[0m \u001b[0;34m\u001b[0m\u001b[0m\n\u001b[1;32m    306\u001b[0m         \u001b[0mmodel\u001b[0m \u001b[0;34m=\u001b[0m \u001b[0mload_trained_model\u001b[0m\u001b[0;34m(\u001b[0m\u001b[0mmodel_path\u001b[0m\u001b[0;34m,\u001b[0m \u001b[0minput_size\u001b[0m\u001b[0;34m)\u001b[0m\u001b[0;34m\u001b[0m\u001b[0;34m\u001b[0m\u001b[0m\n\u001b[0;32m--> 307\u001b[0;31m         \u001b[0mplot_predicted_vs_real\u001b[0m\u001b[0;34m(\u001b[0m\u001b[0mcsv_file_path\u001b[0m\u001b[0;34m,\u001b[0m \u001b[0mmodel\u001b[0m\u001b[0;34m,\u001b[0m \u001b[0mmodel_name\u001b[0m\u001b[0;34m)\u001b[0m\u001b[0;34m\u001b[0m\u001b[0;34m\u001b[0m\u001b[0m\n\u001b[0m\u001b[1;32m    308\u001b[0m \u001b[0;34m\u001b[0m\u001b[0m\n\u001b[1;32m    309\u001b[0m \u001b[0;34m\u001b[0m\u001b[0m\n",
            "\u001b[0;32m<ipython-input-4-4ddf0d849732>\u001b[0m in \u001b[0;36mplot_predicted_vs_real\u001b[0;34m(input_file, model, model_name)\u001b[0m\n\u001b[1;32m    125\u001b[0m \u001b[0;32mdef\u001b[0m \u001b[0mplot_predicted_vs_real\u001b[0m\u001b[0;34m(\u001b[0m\u001b[0minput_file\u001b[0m\u001b[0;34m,\u001b[0m \u001b[0mmodel\u001b[0m\u001b[0;34m,\u001b[0m \u001b[0mmodel_name\u001b[0m\u001b[0;34m)\u001b[0m\u001b[0;34m:\u001b[0m\u001b[0;34m\u001b[0m\u001b[0;34m\u001b[0m\u001b[0m\n\u001b[1;32m    126\u001b[0m \u001b[0;34m\u001b[0m\u001b[0m\n\u001b[0;32m--> 127\u001b[0;31m     \u001b[0mfeatures\u001b[0m\u001b[0;34m,\u001b[0m \u001b[0mactual_values\u001b[0m \u001b[0;34m,\u001b[0m \u001b[0mrate\u001b[0m  \u001b[0;34m=\u001b[0m \u001b[0mprocess_file\u001b[0m\u001b[0;34m(\u001b[0m\u001b[0minput_file\u001b[0m\u001b[0;34m)\u001b[0m\u001b[0;34m\u001b[0m\u001b[0;34m\u001b[0m\u001b[0m\n\u001b[0m\u001b[1;32m    128\u001b[0m     \u001b[0mnum_segments\u001b[0m \u001b[0;34m=\u001b[0m \u001b[0mlen\u001b[0m\u001b[0;34m(\u001b[0m\u001b[0mfeatures\u001b[0m\u001b[0;34m)\u001b[0m \u001b[0;34m//\u001b[0m \u001b[0mSEQUENCE_LENGTH\u001b[0m\u001b[0;34m\u001b[0m\u001b[0;34m\u001b[0m\u001b[0m\n\u001b[1;32m    129\u001b[0m     \u001b[0mpredictions\u001b[0m \u001b[0;34m=\u001b[0m \u001b[0;34m[\u001b[0m\u001b[0;34m]\u001b[0m\u001b[0;34m\u001b[0m\u001b[0;34m\u001b[0m\u001b[0m\n",
            "\u001b[0;32m<ipython-input-4-4ddf0d849732>\u001b[0m in \u001b[0;36mprocess_file\u001b[0;34m(file_path)\u001b[0m\n\u001b[1;32m     76\u001b[0m       \u001b[0mfeatures\u001b[0m \u001b[0;34m=\u001b[0m \u001b[0mdf\u001b[0m\u001b[0;34m[\u001b[0m\u001b[0;34m[\u001b[0m\u001b[0;34m'acc1'\u001b[0m\u001b[0;34m,\u001b[0m\u001b[0;34m'acc21'\u001b[0m\u001b[0;34m,\u001b[0m\u001b[0;34m'acc31'\u001b[0m\u001b[0;34m,\u001b[0m\u001b[0;34m'Speed'\u001b[0m\u001b[0;34m,\u001b[0m \u001b[0;34m'Current_gear_shift_position_(Current_gear)'\u001b[0m\u001b[0;34m,\u001b[0m \u001b[0;34m'slope'\u001b[0m\u001b[0;34m]\u001b[0m\u001b[0;34m]\u001b[0m\u001b[0;34m\u001b[0m\u001b[0;34m\u001b[0m\u001b[0m\n\u001b[1;32m     77\u001b[0m \u001b[0;34m\u001b[0m\u001b[0m\n\u001b[0;32m---> 78\u001b[0;31m       \u001b[0mfeatures\u001b[0m \u001b[0;34m=\u001b[0m \u001b[0mdf\u001b[0m\u001b[0;34m[\u001b[0m\u001b[0;34m[\u001b[0m\u001b[0;34m'Acceleration1'\u001b[0m\u001b[0;34m,\u001b[0m\u001b[0;34m'Acceleration2'\u001b[0m\u001b[0;34m,\u001b[0m\u001b[0;34m'Throttle position'\u001b[0m\u001b[0;34m,\u001b[0m\u001b[0;34m'Accelerator pedal position'\u001b[0m\u001b[0;34m,\u001b[0m\u001b[0;34m'Coolant_temperature'\u001b[0m\u001b[0;34m,\u001b[0m\u001b[0;34m'Speed'\u001b[0m\u001b[0;34m,\u001b[0m\u001b[0;34m'Engine speed'\u001b[0m\u001b[0;34m,\u001b[0m \u001b[0;34m'Current_gear_shift_position_(Current_gear)'\u001b[0m\u001b[0;34m,\u001b[0m\u001b[0;34m'correct_altitude'\u001b[0m\u001b[0;34m,\u001b[0m  \u001b[0;34m'slope'\u001b[0m\u001b[0;34m]\u001b[0m\u001b[0;34m]\u001b[0m\u001b[0;34m\u001b[0m\u001b[0;34m\u001b[0m\u001b[0m\n\u001b[0m\u001b[1;32m     79\u001b[0m       \u001b[0;31m# features = df[['Acceleration1','Speed', 'Current_gear_shift_position_(Current_gear)','slope']]\u001b[0m\u001b[0;34m\u001b[0m\u001b[0;34m\u001b[0m\u001b[0m\n\u001b[1;32m     80\u001b[0m \u001b[0;34m\u001b[0m\u001b[0m\n",
            "\u001b[0;32m/usr/local/lib/python3.10/dist-packages/pandas/core/frame.py\u001b[0m in \u001b[0;36m__getitem__\u001b[0;34m(self, key)\u001b[0m\n\u001b[1;32m   4106\u001b[0m             \u001b[0;32mif\u001b[0m \u001b[0mis_iterator\u001b[0m\u001b[0;34m(\u001b[0m\u001b[0mkey\u001b[0m\u001b[0;34m)\u001b[0m\u001b[0;34m:\u001b[0m\u001b[0;34m\u001b[0m\u001b[0;34m\u001b[0m\u001b[0m\n\u001b[1;32m   4107\u001b[0m                 \u001b[0mkey\u001b[0m \u001b[0;34m=\u001b[0m \u001b[0mlist\u001b[0m\u001b[0;34m(\u001b[0m\u001b[0mkey\u001b[0m\u001b[0;34m)\u001b[0m\u001b[0;34m\u001b[0m\u001b[0;34m\u001b[0m\u001b[0m\n\u001b[0;32m-> 4108\u001b[0;31m             \u001b[0mindexer\u001b[0m \u001b[0;34m=\u001b[0m \u001b[0mself\u001b[0m\u001b[0;34m.\u001b[0m\u001b[0mcolumns\u001b[0m\u001b[0;34m.\u001b[0m\u001b[0m_get_indexer_strict\u001b[0m\u001b[0;34m(\u001b[0m\u001b[0mkey\u001b[0m\u001b[0;34m,\u001b[0m \u001b[0;34m\"columns\"\u001b[0m\u001b[0;34m)\u001b[0m\u001b[0;34m[\u001b[0m\u001b[0;36m1\u001b[0m\u001b[0;34m]\u001b[0m\u001b[0;34m\u001b[0m\u001b[0;34m\u001b[0m\u001b[0m\n\u001b[0m\u001b[1;32m   4109\u001b[0m \u001b[0;34m\u001b[0m\u001b[0m\n\u001b[1;32m   4110\u001b[0m         \u001b[0;31m# take() does not accept boolean indexers\u001b[0m\u001b[0;34m\u001b[0m\u001b[0;34m\u001b[0m\u001b[0m\n",
            "\u001b[0;32m/usr/local/lib/python3.10/dist-packages/pandas/core/indexes/base.py\u001b[0m in \u001b[0;36m_get_indexer_strict\u001b[0;34m(self, key, axis_name)\u001b[0m\n\u001b[1;32m   6198\u001b[0m             \u001b[0mkeyarr\u001b[0m\u001b[0;34m,\u001b[0m \u001b[0mindexer\u001b[0m\u001b[0;34m,\u001b[0m \u001b[0mnew_indexer\u001b[0m \u001b[0;34m=\u001b[0m \u001b[0mself\u001b[0m\u001b[0;34m.\u001b[0m\u001b[0m_reindex_non_unique\u001b[0m\u001b[0;34m(\u001b[0m\u001b[0mkeyarr\u001b[0m\u001b[0;34m)\u001b[0m\u001b[0;34m\u001b[0m\u001b[0;34m\u001b[0m\u001b[0m\n\u001b[1;32m   6199\u001b[0m \u001b[0;34m\u001b[0m\u001b[0m\n\u001b[0;32m-> 6200\u001b[0;31m         \u001b[0mself\u001b[0m\u001b[0;34m.\u001b[0m\u001b[0m_raise_if_missing\u001b[0m\u001b[0;34m(\u001b[0m\u001b[0mkeyarr\u001b[0m\u001b[0;34m,\u001b[0m \u001b[0mindexer\u001b[0m\u001b[0;34m,\u001b[0m \u001b[0maxis_name\u001b[0m\u001b[0;34m)\u001b[0m\u001b[0;34m\u001b[0m\u001b[0;34m\u001b[0m\u001b[0m\n\u001b[0m\u001b[1;32m   6201\u001b[0m \u001b[0;34m\u001b[0m\u001b[0m\n\u001b[1;32m   6202\u001b[0m         \u001b[0mkeyarr\u001b[0m \u001b[0;34m=\u001b[0m \u001b[0mself\u001b[0m\u001b[0;34m.\u001b[0m\u001b[0mtake\u001b[0m\u001b[0;34m(\u001b[0m\u001b[0mindexer\u001b[0m\u001b[0;34m)\u001b[0m\u001b[0;34m\u001b[0m\u001b[0;34m\u001b[0m\u001b[0m\n",
            "\u001b[0;32m/usr/local/lib/python3.10/dist-packages/pandas/core/indexes/base.py\u001b[0m in \u001b[0;36m_raise_if_missing\u001b[0;34m(self, key, indexer, axis_name)\u001b[0m\n\u001b[1;32m   6250\u001b[0m \u001b[0;34m\u001b[0m\u001b[0m\n\u001b[1;32m   6251\u001b[0m             \u001b[0mnot_found\u001b[0m \u001b[0;34m=\u001b[0m \u001b[0mlist\u001b[0m\u001b[0;34m(\u001b[0m\u001b[0mensure_index\u001b[0m\u001b[0;34m(\u001b[0m\u001b[0mkey\u001b[0m\u001b[0;34m)\u001b[0m\u001b[0;34m[\u001b[0m\u001b[0mmissing_mask\u001b[0m\u001b[0;34m.\u001b[0m\u001b[0mnonzero\u001b[0m\u001b[0;34m(\u001b[0m\u001b[0;34m)\u001b[0m\u001b[0;34m[\u001b[0m\u001b[0;36m0\u001b[0m\u001b[0;34m]\u001b[0m\u001b[0;34m]\u001b[0m\u001b[0;34m.\u001b[0m\u001b[0munique\u001b[0m\u001b[0;34m(\u001b[0m\u001b[0;34m)\u001b[0m\u001b[0;34m)\u001b[0m\u001b[0;34m\u001b[0m\u001b[0;34m\u001b[0m\u001b[0m\n\u001b[0;32m-> 6252\u001b[0;31m             \u001b[0;32mraise\u001b[0m \u001b[0mKeyError\u001b[0m\u001b[0;34m(\u001b[0m\u001b[0;34mf\"{not_found} not in index\"\u001b[0m\u001b[0;34m)\u001b[0m\u001b[0;34m\u001b[0m\u001b[0;34m\u001b[0m\u001b[0m\n\u001b[0m\u001b[1;32m   6253\u001b[0m \u001b[0;34m\u001b[0m\u001b[0m\n\u001b[1;32m   6254\u001b[0m     \u001b[0;34m@\u001b[0m\u001b[0moverload\u001b[0m\u001b[0;34m\u001b[0m\u001b[0;34m\u001b[0m\u001b[0m\n",
            "\u001b[0;31mKeyError\u001b[0m: \"['correct_altitude'] not in index\""
          ]
        }
      ]
    },
    {
      "cell_type": "code",
      "execution_count": 30,
      "metadata": {
        "colab": {
          "base_uri": "https://localhost:8080/"
        },
        "id": "bs3MzorIVZjb",
        "outputId": "97c8e1fe-0b00-43fa-f20a-2a7097f95132"
      },
      "outputs": [
        {
          "output_type": "stream",
          "name": "stdout",
          "text": [
            "  adding: predicted_vs_actual_plots/ (stored 0%)\n",
            "  adding: predicted_vs_actual_plots/.ipynb_checkpoints/ (stored 0%)\n",
            "  adding: predicted_vs_actual_plots/600/ (stored 0%)\n",
            "  adding: predicted_vs_actual_plots/600/Real_NEDC_testroom.csv (deflated 80%)\n",
            "  adding: predicted_vs_actual_plots/600/trip_49.csv (deflated 76%)\n",
            "  adding: predicted_vs_actual_plots/600/trip_4 (1)_all.png (deflated 10%)\n",
            "  adding: predicted_vs_actual_plots/600/trip_6_all.png (deflated 10%)\n",
            "  adding: predicted_vs_actual_plots/600/trip_50_all.png (deflated 9%)\n",
            "  adding: predicted_vs_actual_plots/600/trip_6.csv (deflated 79%)\n",
            "  adding: predicted_vs_actual_plots/600/trip_115.csv (deflated 81%)\n",
            "  adding: predicted_vs_actual_plots/600/trip_46_all.png (deflated 9%)\n",
            "  adding: predicted_vs_actual_plots/600/trip_49_all.png (deflated 9%)\n",
            "  adding: predicted_vs_actual_plots/600/trip_3 (1)_all.png (deflated 9%)\n",
            "  adding: predicted_vs_actual_plots/600/trip_3 (1).csv (deflated 80%)\n",
            "  adding: predicted_vs_actual_plots/600/trip_48_all.png (deflated 10%)\n",
            "  adding: predicted_vs_actual_plots/600/Real_NEDC_testroom_all.png (deflated 9%)\n",
            "  adding: predicted_vs_actual_plots/600/trip_46.csv (deflated 80%)\n",
            "  adding: predicted_vs_actual_plots/600/trip_112.csv (deflated 81%)\n",
            "  adding: predicted_vs_actual_plots/600/trip_4 (1).csv (deflated 80%)\n",
            "  adding: predicted_vs_actual_plots/600/trip_47_all.png (deflated 10%)\n",
            "  adding: predicted_vs_actual_plots/600/trip_50.csv (deflated 81%)\n",
            "  adding: predicted_vs_actual_plots/600/trip_112_all.png (deflated 9%)\n",
            "  adding: predicted_vs_actual_plots/600/trip_115_all.png (deflated 9%)\n",
            "  adding: predicted_vs_actual_plots/600/trip_47.csv (deflated 79%)\n",
            "  adding: predicted_vs_actual_plots/600/trip_48.csv (deflated 82%)\n",
            "  adding: predicted_vs_actual_plots/10.pth (deflated 8%)\n",
            "  adding: predicted_vs_actual_plots/60.pth (deflated 7%)\n",
            "  adding: predicted_vs_actual_plots/60/ (stored 0%)\n",
            "  adding: predicted_vs_actual_plots/60/Real_NEDC_testroom.csv (deflated 80%)\n",
            "  adding: predicted_vs_actual_plots/60/trip_49.csv (deflated 76%)\n",
            "  adding: predicted_vs_actual_plots/60/trip_4 (1)_all.png (deflated 10%)\n",
            "  adding: predicted_vs_actual_plots/60/trip_6_all.png (deflated 10%)\n",
            "  adding: predicted_vs_actual_plots/60/trip_50_all.png (deflated 9%)\n",
            "  adding: predicted_vs_actual_plots/60/trip_6.csv (deflated 79%)\n",
            "  adding: predicted_vs_actual_plots/60/trip_115.csv (deflated 81%)\n",
            "  adding: predicted_vs_actual_plots/60/trip_46_all.png (deflated 9%)\n",
            "  adding: predicted_vs_actual_plots/60/trip_49_all.png (deflated 9%)\n",
            "  adding: predicted_vs_actual_plots/60/trip_3 (1)_all.png (deflated 9%)\n",
            "  adding: predicted_vs_actual_plots/60/trip_3 (1).csv (deflated 80%)\n",
            "  adding: predicted_vs_actual_plots/60/trip_48_all.png (deflated 9%)\n",
            "  adding: predicted_vs_actual_plots/60/Real_NEDC_testroom_all.png (deflated 9%)\n",
            "  adding: predicted_vs_actual_plots/60/trip_46.csv (deflated 80%)\n",
            "  adding: predicted_vs_actual_plots/60/trip_112.csv (deflated 81%)\n",
            "  adding: predicted_vs_actual_plots/60/trip_4 (1).csv (deflated 81%)\n",
            "  adding: predicted_vs_actual_plots/60/trip_47_all.png (deflated 10%)\n",
            "  adding: predicted_vs_actual_plots/60/trip_50.csv (deflated 81%)\n",
            "  adding: predicted_vs_actual_plots/60/trip_112_all.png (deflated 10%)\n",
            "  adding: predicted_vs_actual_plots/60/trip_115_all.png (deflated 9%)\n",
            "  adding: predicted_vs_actual_plots/60/trip_47.csv (deflated 79%)\n",
            "  adding: predicted_vs_actual_plots/60/trip_48.csv (deflated 81%)\n",
            "  adding: predicted_vs_actual_plots/10/ (stored 0%)\n",
            "  adding: predicted_vs_actual_plots/10/Real_NEDC_testroom.csv (deflated 80%)\n",
            "  adding: predicted_vs_actual_plots/10/trip_49.csv (deflated 76%)\n",
            "  adding: predicted_vs_actual_plots/10/trip_4 (1)_all.png (deflated 10%)\n",
            "  adding: predicted_vs_actual_plots/10/trip_6_all.png (deflated 10%)\n",
            "  adding: predicted_vs_actual_plots/10/trip_50_all.png (deflated 9%)\n",
            "  adding: predicted_vs_actual_plots/10/trip_6.csv (deflated 79%)\n",
            "  adding: predicted_vs_actual_plots/10/trip_115.csv (deflated 81%)\n",
            "  adding: predicted_vs_actual_plots/10/trip_46_all.png (deflated 9%)\n",
            "  adding: predicted_vs_actual_plots/10/trip_49_all.png (deflated 9%)\n",
            "  adding: predicted_vs_actual_plots/10/trip_3 (1)_all.png (deflated 9%)\n",
            "  adding: predicted_vs_actual_plots/10/trip_3 (1).csv (deflated 80%)\n",
            "  adding: predicted_vs_actual_plots/10/trip_48_all.png (deflated 10%)\n",
            "  adding: predicted_vs_actual_plots/10/Real_NEDC_testroom_all.png (deflated 9%)\n",
            "  adding: predicted_vs_actual_plots/10/trip_46.csv (deflated 80%)\n",
            "  adding: predicted_vs_actual_plots/10/trip_112.csv (deflated 81%)\n",
            "  adding: predicted_vs_actual_plots/10/trip_4 (1).csv (deflated 81%)\n",
            "  adding: predicted_vs_actual_plots/10/trip_47_all.png (deflated 10%)\n",
            "  adding: predicted_vs_actual_plots/10/trip_50.csv (deflated 81%)\n",
            "  adding: predicted_vs_actual_plots/10/trip_112_all.png (deflated 9%)\n",
            "  adding: predicted_vs_actual_plots/10/trip_115_all.png (deflated 9%)\n",
            "  adding: predicted_vs_actual_plots/10/trip_47.csv (deflated 81%)\n",
            "  adding: predicted_vs_actual_plots/10/trip_48.csv (deflated 82%)\n",
            "  adding: predicted_vs_actual_plots/600.pth (deflated 8%)\n"
          ]
        }
      ],
      "source": [
        "!zip -r predicted_vs_actual_plots.zip predicted_vs_actual_plots"
      ]
    },
    {
      "cell_type": "code",
      "execution_count": null,
      "metadata": {
        "id": "Rtj56jZxoe-n"
      },
      "outputs": [],
      "source": []
    },
    {
      "cell_type": "markdown",
      "metadata": {
        "id": "2Di5BXgUofdY"
      },
      "source": [
        "# **`NEDC Trip cons`**"
      ]
    },
    {
      "cell_type": "code",
      "execution_count": 38,
      "metadata": {
        "colab": {
          "base_uri": "https://localhost:8080/"
        },
        "id": "wgfTW0Gnob9i",
        "outputId": "374efd97-5af1-4156-cb60-25bc67075e57"
      },
      "outputs": [
        {
          "output_type": "stream",
          "name": "stderr",
          "text": [
            "<ipython-input-38-7a7bdac41cb4>:26: FutureWarning: You are using `torch.load` with `weights_only=False` (the current default value), which uses the default pickle module implicitly. It is possible to construct malicious pickle data which will execute arbitrary code during unpickling (See https://github.com/pytorch/pytorch/blob/main/SECURITY.md#untrusted-models for more details). In a future release, the default value for `weights_only` will be flipped to `True`. This limits the functions that could be executed during unpickling. Arbitrary objects will no longer be allowed to be loaded via this mode unless they are explicitly allowlisted by the user via `torch.serialization.add_safe_globals`. We recommend you start setting `weights_only=True` for any use case where you don't have full control of the loaded file. Please open an issue on GitHub for any issues related to this experimental feature.\n",
            "  model.load_state_dict(torch.load(model_path, map_location=DEVICE))\n"
          ]
        },
        {
          "output_type": "stream",
          "name": "stdout",
          "text": [
            "CSV saved as: predicted_vs_actual_plots/best_fuel_consumption_model/DENA_TC_AT_ BARBOD_clean.csv\n"
          ]
        },
        {
          "output_type": "stream",
          "name": "stderr",
          "text": [
            "<ipython-input-38-7a7bdac41cb4>:26: FutureWarning: You are using `torch.load` with `weights_only=False` (the current default value), which uses the default pickle module implicitly. It is possible to construct malicious pickle data which will execute arbitrary code during unpickling (See https://github.com/pytorch/pytorch/blob/main/SECURITY.md#untrusted-models for more details). In a future release, the default value for `weights_only` will be flipped to `True`. This limits the functions that could be executed during unpickling. Arbitrary objects will no longer be allowed to be loaded via this mode unless they are explicitly allowlisted by the user via `torch.serialization.add_safe_globals`. We recommend you start setting `weights_only=True` for any use case where you don't have full control of the loaded file. Please open an issue on GitHub for any issues related to this experimental feature.\n",
            "  model.load_state_dict(torch.load(model_path, map_location=DEVICE))\n"
          ]
        },
        {
          "output_type": "stream",
          "name": "stdout",
          "text": [
            "An error occurred: 'time'\n"
          ]
        },
        {
          "output_type": "stream",
          "name": "stderr",
          "text": [
            "<ipython-input-38-7a7bdac41cb4>:26: FutureWarning: You are using `torch.load` with `weights_only=False` (the current default value), which uses the default pickle module implicitly. It is possible to construct malicious pickle data which will execute arbitrary code during unpickling (See https://github.com/pytorch/pytorch/blob/main/SECURITY.md#untrusted-models for more details). In a future release, the default value for `weights_only` will be flipped to `True`. This limits the functions that could be executed during unpickling. Arbitrary objects will no longer be allowed to be loaded via this mode unless they are explicitly allowlisted by the user via `torch.serialization.add_safe_globals`. We recommend you start setting `weights_only=True` for any use case where you don't have full control of the loaded file. Please open an issue on GitHub for any issues related to this experimental feature.\n",
            "  model.load_state_dict(torch.load(model_path, map_location=DEVICE))\n"
          ]
        },
        {
          "output_type": "stream",
          "name": "stdout",
          "text": [
            "An error occurred: 'time'\n",
            "An error occurred: 'time'\n",
            "An error occurred: 'time'\n"
          ]
        },
        {
          "output_type": "stream",
          "name": "stderr",
          "text": [
            "<ipython-input-38-7a7bdac41cb4>:26: FutureWarning: You are using `torch.load` with `weights_only=False` (the current default value), which uses the default pickle module implicitly. It is possible to construct malicious pickle data which will execute arbitrary code during unpickling (See https://github.com/pytorch/pytorch/blob/main/SECURITY.md#untrusted-models for more details). In a future release, the default value for `weights_only` will be flipped to `True`. This limits the functions that could be executed during unpickling. Arbitrary objects will no longer be allowed to be loaded via this mode unless they are explicitly allowlisted by the user via `torch.serialization.add_safe_globals`. We recommend you start setting `weights_only=True` for any use case where you don't have full control of the loaded file. Please open an issue on GitHub for any issues related to this experimental feature.\n",
            "  model.load_state_dict(torch.load(model_path, map_location=DEVICE))\n",
            "<ipython-input-38-7a7bdac41cb4>:26: FutureWarning: You are using `torch.load` with `weights_only=False` (the current default value), which uses the default pickle module implicitly. It is possible to construct malicious pickle data which will execute arbitrary code during unpickling (See https://github.com/pytorch/pytorch/blob/main/SECURITY.md#untrusted-models for more details). In a future release, the default value for `weights_only` will be flipped to `True`. This limits the functions that could be executed during unpickling. Arbitrary objects will no longer be allowed to be loaded via this mode unless they are explicitly allowlisted by the user via `torch.serialization.add_safe_globals`. We recommend you start setting `weights_only=True` for any use case where you don't have full control of the loaded file. Please open an issue on GitHub for any issues related to this experimental feature.\n",
            "  model.load_state_dict(torch.load(model_path, map_location=DEVICE))\n"
          ]
        }
      ],
      "source": [
        "import os\n",
        "from sklearn.metrics import mean_absolute_error, mean_squared_error\n",
        "\n",
        "import numpy as np\n",
        "import pandas as pd\n",
        "import matplotlib.pyplot as plt\n",
        "import torch\n",
        "from torch import nn\n",
        "import torch.nn as nn\n",
        "import torch\n",
        "\n",
        "# Constants\n",
        "SEQUENCE_LENGTH = 200  # Updated sequence length\n",
        "PLOT_SAVE_DIR = 'predicted_vs_actual_plots'  # Base directory to save plots and CSVs\n",
        "DEVICE = torch.device('cuda' if torch.cuda.is_available() else 'cpu')\n",
        "\n",
        "# Ensure the base save directory exists\n",
        "os.makedirs(PLOT_SAVE_DIR, exist_ok=True)\n",
        "\n",
        "# Define the PyTorch model structure (same as the one used for training)\n",
        "\n",
        "\n",
        "# Load the trained model\n",
        "def load_trained_model(model_path, input_size):\n",
        "    model = FuelConsumptionModel(input_size=input_size)\n",
        "    model.load_state_dict(torch.load(model_path, map_location=DEVICE))\n",
        "    model.to(DEVICE)\n",
        "    model.eval()\n",
        "    return model\n",
        "\n",
        "# Process the file and prepare segments\n",
        "\n",
        "\n",
        "def process_file(file_path):\n",
        "    df = pd.read_csv(file_path)\n",
        "    if not df.empty :\n",
        "      df.rename(columns={\n",
        "          'Time': 'time',\n",
        "          'Vehicle_Speed': 'Speed'\n",
        "      }, inplace=True)\n",
        "      df['slope'] = 0\n",
        "      df['time'] = df['time'] - df['time'].iloc[0]\n",
        "      df['Acceleration1'] = df['Speed'].diff().fillna(0)\n",
        "      df['Acceleration2'] = df['Speed'].diff().shift(-1).fillna(0)\n",
        "      df['Current_gear_shift_position_(Current_gear)'] = df['Current_gear_shift_position_(Current_gear)'].replace({13: 0, 14: 1})\n",
        "      # features = df[['Adjusted_gear_position', 'Speed', 'slope', 'Acceleration', 'Coolant_temperature']]\n",
        "\n",
        "\n",
        "      # df = df.iloc[200:]\n",
        "\n",
        "\n",
        "      # features = df[['Acceleration1','Acceleration2','Throttle position','Accelerator pedal position','Coolant_temperature','Speed','Engine speed', 'Current_gear_shift_position_(Current_gear)','correct_altitude',  'slope']]\n",
        "      features = df[['Acceleration1','Acceleration2','Speed', 'Current_gear_shift_position_(Current_gear)','slope']]\n",
        "\n",
        "      # features = df[['Acceleration1','Speed', 'Current_gear_shift_position_(Current_gear)','slope']]\n",
        "\n",
        "\n",
        "\n",
        "\n",
        "      # target = df['Momentary fuel consumption2']\n",
        "\n",
        "\n",
        "\n",
        "    return features, None ,df\n",
        "\n",
        "\n",
        "# Pad and normalize the data\n",
        "def pad_and_normalize(data, sequence_length=SEQUENCE_LENGTH):\n",
        "    padded_data = np.zeros((len(data), sequence_length, data[0].shape[1]))\n",
        "    for i, seq in enumerate(data):\n",
        "        length = min(len(seq), sequence_length)\n",
        "        padded_data[i, :length] = seq[:length]\n",
        "\n",
        "    # Normalization (same as in your script)\n",
        "\n",
        "    min_val_x = [-10,-10, 0,0, -10]\n",
        "    max_val_x = [10,10,150, 6, 10]\n",
        "\n",
        "\n",
        "\n",
        "    for i in range(padded_data.shape[-1]):\n",
        "        padded_data[:, :, i] = (padded_data[:, :, i] - min_val_x[i]) / (max_val_x[i] - min_val_x[i])\n",
        "\n",
        "    return torch.tensor(padded_data, dtype=torch.float32).to(DEVICE)\n",
        "\n",
        "\n",
        "\n",
        "\n",
        "# Predict and plot the results\n",
        "def plot_predicted_vs_real(input_file, model, model_name):\n",
        "  try :\n",
        "      features, actual_values ,df1  = process_file(input_file)\n",
        "\n",
        "\n",
        "      timee                 = (df1['time'].iloc[-1] - df1['time'].iloc[0]) / 60000\n",
        "      # mileagee              = (df1['Cumulative_mileage'].iloc[-1] - df1['Cumulative_mileage'].iloc[0])\n",
        "      # trip_fuel_consp100    = (((df1['Trip_fuel_consumption'].iloc[-1] - df1['Trip_fuel_consumption'].iloc[0]) / 10000) / mileagee)\n",
        "      mileagee  = 10.66\n",
        "\n",
        "      rate = actual_values\n",
        "      num_segments = len(features) // SEQUENCE_LENGTH\n",
        "      predictions = []\n",
        "\n",
        "      for i in range(num_segments):\n",
        "          segment = features.iloc[i * SEQUENCE_LENGTH:(i + 1) * SEQUENCE_LENGTH]\n",
        "          segment_normalized = pad_and_normalize([segment.values])\n",
        "          with torch.no_grad():\n",
        "              segment_predictions = model(segment_normalized).cpu().numpy()\n",
        "          predictions.extend(segment_predictions.flatten() * 10000 )\n",
        "          # predictions.extend(segment_predictions.flatten()  )\n",
        "\n",
        "\n",
        "      # Handle any remaining data\n",
        "      remainder = len(features) % SEQUENCE_LENGTH\n",
        "      if remainder != 0:\n",
        "          last_segment = features.iloc[-remainder:]\n",
        "          last_segment_normalized = pad_and_normalize([last_segment.values], sequence_length=remainder)\n",
        "          with torch.no_grad():\n",
        "              last_segment_predictions = model(last_segment_normalized).cpu().numpy()\n",
        "          predictions.extend(last_segment_predictions.flatten() * 10000 )\n",
        "          # predictions.extend(last_segment_predictions.flatten() )\n",
        "\n",
        "\n",
        "      predictions = np.array(predictions)\n",
        "      # actual_valuess = actual_values.values[:len(predictions)]  # Ensure lengths match\n",
        "\n",
        "      trip_fuel_consp100_p = np.cumsum(predictions[:len(predictions)], axis=0)\n",
        "      # trip_fuel_cons_predicted_p100 = (trip_fuel_consp100_p[-1] /10000) / 23.26\n",
        "      trip_fuel_cons_predicted_p100 = (trip_fuel_consp100_p[-1] /10000) / mileagee\n",
        "\n",
        "\n",
        "      # Calculate error metrics\n",
        "      # mae = mean_absolute_error(actual_valuess, predictions)\n",
        "      # mse = mean_squared_error(actual_valuess, predictions)\n",
        "\n",
        "      # Handling MAPE: Ignore zero actual values to avoid NaN issues\n",
        "      # non_zero_actual = actual_valuess != 0\n",
        "      # mape = np.mean(np.abs((actual_valuess[non_zero_actual] - predictions[non_zero_actual]) / actual_valuess[non_zero_actual])) * 100\n",
        "\n",
        "      # print(f'MAE: {mae:.4f}---------------{input_file}')\n",
        "      # print(f'MSE: {mse:.4f}')\n",
        "      # print(f'MAPE: {mape:.4f}% ---------------------')\n",
        "\n",
        "\n",
        "      plt.figure(figsize=(10, 6))\n",
        "      # plt.plot(np.cumsum(actual_values.values[:len(predictions)], axis=0), label='Real', color='blue')\n",
        "      plt.plot(np.cumsum(predictions[:len(predictions)], axis=0), label='Predicted', color='red')\n",
        "      plt.xlabel('Index')\n",
        "      plt.ylabel('Fuel Consumption')\n",
        "      plt.title(f'Predicted vs Real Fuel Consumption ({model_name})')\n",
        "      plt.legend()\n",
        "\n",
        "\n",
        "      text = (\n",
        "            f\"time(M) : {timee:.0f} \\n\"\n",
        "            f\"mileage(KM) : {mileagee} \\n\"\n",
        "            f\"Pred fuel cons: {trip_fuel_cons_predicted_p100:.2f} \\n\"\n",
        "        )\n",
        "\n",
        "      plt.text(\n",
        "          0.95, 0.05,  # x and y position in figure coordinates\n",
        "          text,  # Multi-line text\n",
        "          fontsize=10,\n",
        "          color='gray',\n",
        "          horizontalalignment='right',\n",
        "          verticalalignment='bottom',\n",
        "          transform=plt.gca().transAxes  # Use axes coordinates\n",
        "      )\n",
        "\n",
        "      # Create model-specific directory\n",
        "      model_save_dir = os.path.join(PLOT_SAVE_DIR, model_name)\n",
        "      os.makedirs(model_save_dir, exist_ok=True)\n",
        "\n",
        "      # Save plot using model name in the designated directory\n",
        "      plot_filename = os.path.join(model_save_dir, f'{os.path.splitext(os.path.basename(input_file))[0]}.png')\n",
        "      plt.savefig(plot_filename)\n",
        "      plt.close()\n",
        "\n",
        "\n",
        "\n",
        "\n",
        "      results_df = pd.DataFrame({\n",
        "          'Speed': features[\"Speed\"].iloc[:len(predictions)],\n",
        "          'gear' : features[\"Current_gear_shift_position_(Current_gear)\"].iloc[:len(predictions)],\n",
        "          'Predicted_sum': np.cumsum(predictions[:len(predictions)], axis=0),\n",
        "          'Predicted': predictions[:len(predictions)]\n",
        "\n",
        "      })\n",
        "\n",
        "      csv_filename = os.path.join(model_save_dir, f'{os.path.splitext(os.path.basename(input_file))[0]}.csv')\n",
        "      results_df.to_csv(csv_filename, index=False)\n",
        "      print(f\"CSV saved as: {csv_filename}\")\n",
        "  except Exception as e:\n",
        "      print(f\"An error occurred: {e}\")\n",
        "\n",
        "\n",
        "# Directory containing all saved models and CSV files\n",
        "csv_dir = '/content/sample_data'  # Directory containing CSV files\n",
        "model_dir = '/content'  # Directory containing model files\n",
        "\n",
        "# List all model files in the directory\n",
        "model_files = [f for f in os.listdir(model_dir) if f.endswith('.pth')]\n",
        "\n",
        "# List all CSV files in the directory\n",
        "csv_files = [f for f in os.listdir(csv_dir) if f.endswith('.csv')]\n",
        "\n",
        "# Load and test each model on each CSV file\n",
        "input_size = 5  # Number of features in the input data\n",
        "# input_size = 4  # Number of features in the input data\n",
        "\n",
        "\n",
        "for csv_file in csv_files:\n",
        "    csv_file_path = os.path.join(csv_dir, csv_file)\n",
        "    # print(f\"0Processing CSV file: {csv_file}\")\n",
        "\n",
        "    for model_file in model_files:\n",
        "        model_path = os.path.join(model_dir, model_file)\n",
        "        model_name = os.path.splitext(model_file)[0]  # Get the base name of the model file\n",
        "        # print(f\"Testing model: {model_name} on {csv_file}\")\n",
        "\n",
        "        model = load_trained_model(model_path, input_size)\n",
        "        plot_predicted_vs_real(csv_file_path, model, model_name)\n",
        "\n",
        "\n"
      ]
    },
    {
      "cell_type": "markdown",
      "source": [
        "Offline Data\n"
      ],
      "metadata": {
        "id": "zdYQ03nfGs9X"
      }
    },
    {
      "cell_type": "code",
      "source": [
        "import os\n",
        "from sklearn.metrics import mean_absolute_error, mean_squared_error\n",
        "\n",
        "import numpy as np\n",
        "import pandas as pd\n",
        "import matplotlib.pyplot as plt\n",
        "import torch\n",
        "from torch import nn\n",
        "import torch.nn as nn\n",
        "import torch\n",
        "\n",
        "# Constants\n",
        "SEQUENCE_LENGTH = 200  # Updated sequence length\n",
        "PLOT_SAVE_DIR = 'predicted_vs_actual_plots'  # Base directory to save plots and CSVs\n",
        "DEVICE = torch.device('cuda' if torch.cuda.is_available() else 'cpu')\n",
        "\n",
        "# Ensure the base save directory exists\n",
        "os.makedirs(PLOT_SAVE_DIR, exist_ok=True)\n",
        "\n",
        "# Define the PyTorch model structure (same as the one used for training)\n",
        "\n",
        "\n",
        "# Load the trained model\n",
        "def load_trained_model(model_path, input_size):\n",
        "    model = FuelConsumptionModel(input_size=input_size)\n",
        "    model.load_state_dict(torch.load(model_path, map_location=DEVICE))\n",
        "    model.to(DEVICE)\n",
        "    model.eval()\n",
        "    return model\n",
        "\n",
        "# Process the file and prepare segments\n",
        "\n",
        "\n",
        "def process_file(file_path):\n",
        "    df = pd.read_csv(file_path)\n",
        "    if not df.empty :\n",
        "      df.rename(columns={\n",
        "          'Engine_speed': 'Engine speed',\n",
        "          'time': 'Time',\n",
        "          'Vehicle_Speed': 'Speed'\n",
        "      }, inplace=True)\n",
        "\n",
        "      df['Time'] = df['Time'] - df['Time'].iloc[0]\n",
        "      df['Acceleration1'] = df['Speed'].diff().fillna(0)\n",
        "      df['Acceleration2'] = df['Speed'].diff().shift(-1).fillna(0)\n",
        "      df['Current_gear_shift_position_(Current_gear)'] = df['Current_gear_shift_position_(Current_gear)'].replace({13: 0, 14: 1})\n",
        "      # features = df[['Adjusted_gear_position', 'Speed', 'slope', 'Acceleration', 'Coolant_temperature']]\n",
        "\n",
        "\n",
        "      # df = df.iloc[:-20]\n",
        "\n",
        "\n",
        "      # features = df[['Acceleration1','Acceleration2','Throttle position','Accelerator pedal position','Coolant_temperature','Speed','Engine speed', 'Current_gear_shift_position_(Current_gear)','correct_altitude',  'slope']]\n",
        "      features = df[['Acceleration1','Acceleration2','Speed', 'Current_gear_shift_position_(Current_gear)','slope']]\n",
        "\n",
        "      # features = df[['Acceleration1','Speed', 'Current_gear_shift_position_(Current_gear)','slope']]\n",
        "\n",
        "\n",
        "\n",
        "\n",
        "      # target = df['Momentary fuel consumption2']\n",
        "\n",
        "\n",
        "\n",
        "    return features, None\n",
        "\n",
        "\n",
        "# Pad and normalize the data\n",
        "def pad_and_normalize(data, sequence_length=SEQUENCE_LENGTH):\n",
        "    padded_data = np.zeros((len(data), sequence_length, data[0].shape[1]))\n",
        "    for i, seq in enumerate(data):\n",
        "        length = min(len(seq), sequence_length)\n",
        "        padded_data[i, :length] = seq[:length]\n",
        "\n",
        "    # Normalization (same as in your script)\n",
        "\n",
        "    min_val_x = [-10,-10, 0,0, -10]\n",
        "    max_val_x = [10,10,200, 5, 10]\n",
        "\n",
        "    # min_val_x = [-10, 0,0, -10]\n",
        "    # max_val_x = [10,200, 5, 10]\n",
        "\n",
        "\n",
        "    for i in range(padded_data.shape[-1]):\n",
        "        padded_data[:, :, i] = (padded_data[:, :, i] - min_val_x[i]) / (max_val_x[i] - min_val_x[i])\n",
        "\n",
        "    return torch.tensor(padded_data, dtype=torch.float32).to(DEVICE)\n",
        "\n",
        "\n",
        "\n",
        "\n",
        "# Predict and plot the results\n",
        "def plot_predicted_vs_real(input_file, model, model_name):\n",
        "  try :\n",
        "      df1 = pd.read_csv(input_file)\n",
        "\n",
        "      timee                 = (df1['time'].iloc[-1] - df1['time'].iloc[0]) / 60000\n",
        "      mileagee              = (df1['Cumulative_mileage'].iloc[-1] - df1['Cumulative_mileage'].iloc[0])\n",
        "      # trip_fuel_consp100    = (((df1['Trip_fuel_consumption'].iloc[-1] - df1['Trip_fuel_consumption'].iloc[0]) / 10000) / mileagee)\n",
        "      # mileagee  = 11.175\n",
        "      features, actual_values  = process_file(input_file)\n",
        "      rate = actual_values\n",
        "      num_segments = len(features) // SEQUENCE_LENGTH\n",
        "      predictions = []\n",
        "\n",
        "      for i in range(num_segments):\n",
        "          segment = features.iloc[i * SEQUENCE_LENGTH:(i + 1) * SEQUENCE_LENGTH]\n",
        "          segment_normalized = pad_and_normalize([segment.values])\n",
        "          with torch.no_grad():\n",
        "              segment_predictions = model(segment_normalized).cpu().numpy()\n",
        "          # predictions.extend(segment_predictions.flatten() * 30000 )\n",
        "          predictions.extend(segment_predictions.flatten()  )\n",
        "\n",
        "\n",
        "      # Handle any remaining data\n",
        "      remainder = len(features) % SEQUENCE_LENGTH\n",
        "      if remainder != 0:\n",
        "          last_segment = features.iloc[-remainder:]\n",
        "          last_segment_normalized = pad_and_normalize([last_segment.values], sequence_length=remainder)\n",
        "          with torch.no_grad():\n",
        "              last_segment_predictions = model(last_segment_normalized).cpu().numpy()\n",
        "          # predictions.extend(last_segment_predictions.flatten() * 30000 )\n",
        "          predictions.extend(last_segment_predictions.flatten() )\n",
        "\n",
        "\n",
        "      predictions = np.array(predictions)\n",
        "      # actual_valuess = actual_values.values[:len(predictions)]  # Ensure lengths match\n",
        "\n",
        "      trip_fuel_consp100_p = np.cumsum(predictions[:len(predictions)], axis=0)\n",
        "      # trip_fuel_cons_predicted_p100 = (trip_fuel_consp100_p[-1] /10000) / 23.26\n",
        "      trip_fuel_cons_predicted_p100 = (trip_fuel_consp100_p[-1] /10) / mileagee\n",
        "\n",
        "\n",
        "      # Calculate error metrics\n",
        "      # mae = mean_absolute_error(actual_valuess, predictions)\n",
        "      # mse = mean_squared_error(actual_valuess, predictions)\n",
        "\n",
        "      # Handling MAPE: Ignore zero actual values to avoid NaN issues\n",
        "      # non_zero_actual = actual_valuess != 0\n",
        "      # mape = np.mean(np.abs((actual_valuess[non_zero_actual] - predictions[non_zero_actual]) / actual_valuess[non_zero_actual])) * 100\n",
        "\n",
        "      # print(f'MAE: {mae:.4f}---------------{input_file}')\n",
        "      # print(f'MSE: {mse:.4f}')\n",
        "      # print(f'MAPE: {mape:.4f}% ---------------------')\n",
        "\n",
        "\n",
        "      plt.figure(figsize=(10, 6))\n",
        "      # plt.plot(np.cumsum(actual_values.values[:len(predictions)], axis=0), label='Real', color='blue')\n",
        "      plt.plot(np.cumsum(predictions[:len(predictions)], axis=0), label='Predicted', color='red')\n",
        "      plt.xlabel('Index')\n",
        "      plt.ylabel('Fuel Consumption')\n",
        "      plt.title(f'Predicted vs Real Fuel Consumption ({model_name})')\n",
        "      plt.legend()\n",
        "\n",
        "\n",
        "      text = (\n",
        "            f\"time(M) : {timee:.0f} \\n\"\n",
        "            f\"mileage(KM) : {mileagee} \\n\"\n",
        "            f\"Pred fuel cons: {trip_fuel_cons_predicted_p100:.2f} \\n\"\n",
        "        )\n",
        "\n",
        "      plt.text(\n",
        "          0.95, 0.05,  # x and y position in figure coordinates\n",
        "          text,  # Multi-line text\n",
        "          fontsize=10,\n",
        "          color='gray',\n",
        "          horizontalalignment='right',\n",
        "          verticalalignment='bottom',\n",
        "          transform=plt.gca().transAxes  # Use axes coordinates\n",
        "      )\n",
        "\n",
        "      # Create model-specific directory\n",
        "      model_save_dir = os.path.join(PLOT_SAVE_DIR, model_name)\n",
        "      os.makedirs(model_save_dir, exist_ok=True)\n",
        "\n",
        "      # Save plot using model name in the designated directory\n",
        "      plot_filename = os.path.join(model_save_dir, f'{os.path.splitext(os.path.basename(input_file))[0]}_all.png')\n",
        "      plt.savefig(plot_filename)\n",
        "      plt.close()\n",
        "\n",
        "\n",
        "\n",
        "\n",
        "      results_df = pd.DataFrame({\n",
        "          'Speed': features[\"Speed\"].iloc[:len(predictions)],\n",
        "          'gear' : features[\"Current_gear_shift_position_(Current_gear)\"].iloc[:len(predictions)],\n",
        "          'Predicted_sum': np.cumsum(predictions[:len(predictions)], axis=0),\n",
        "          'Predicted': predictions[:len(predictions)]\n",
        "\n",
        "      })\n",
        "\n",
        "      csv_filename = os.path.join(model_save_dir, f'{os.path.splitext(os.path.basename(input_file))[0]}.csv')\n",
        "      results_df.to_csv(csv_filename, index=False)\n",
        "      print(f\"CSV saved as: {csv_filename}\")\n",
        "  except :\n",
        "      print('error')\n",
        "\n",
        "\n",
        "\n",
        "# Directory containing all saved models and CSV files\n",
        "csv_dir = '/content/'  # Directory containing CSV files\n",
        "model_dir = '/content/'  # Directory containing model files\n",
        "\n",
        "# List all model files in the directory\n",
        "model_files = [f for f in os.listdir(model_dir) if f.endswith('.pth')]\n",
        "\n",
        "# List all CSV files in the directory\n",
        "csv_files = [f for f in os.listdir(csv_dir) if f.endswith('.csv')]\n",
        "\n",
        "# Load and test each model on each CSV file\n",
        "input_size = 5  # Number of features in the input data\n",
        "# input_size = 4  # Number of features in the input data\n",
        "\n",
        "\n",
        "for csv_file in csv_files:\n",
        "    csv_file_path = os.path.join(csv_dir, csv_file)\n",
        "    # print(f\"0Processing CSV file: {csv_file}\")\n",
        "\n",
        "    for model_file in model_files:\n",
        "        model_path = os.path.join(model_dir, model_file)\n",
        "        model_name = os.path.splitext(model_file)[0]  # Get the base name of the model file\n",
        "        # print(f\"Testing model: {model_name} on {csv_file}\")\n",
        "\n",
        "        model = load_trained_model(model_path, input_size)\n",
        "        plot_predicted_vs_real(csv_file_path, model, model_name)\n",
        "\n",
        "\n"
      ],
      "metadata": {
        "colab": {
          "base_uri": "https://localhost:8080/"
        },
        "id": "M3pf-NvPGsdK",
        "outputId": "123fbc35-15e9-42f8-a1d7-954c15d2419e"
      },
      "execution_count": null,
      "outputs": [
        {
          "output_type": "stream",
          "name": "stderr",
          "text": [
            "<ipython-input-3-60d37f4d11c5>:26: FutureWarning: You are using `torch.load` with `weights_only=False` (the current default value), which uses the default pickle module implicitly. It is possible to construct malicious pickle data which will execute arbitrary code during unpickling (See https://github.com/pytorch/pytorch/blob/main/SECURITY.md#untrusted-models for more details). In a future release, the default value for `weights_only` will be flipped to `True`. This limits the functions that could be executed during unpickling. Arbitrary objects will no longer be allowed to be loaded via this mode unless they are explicitly allowlisted by the user via `torch.serialization.add_safe_globals`. We recommend you start setting `weights_only=True` for any use case where you don't have full control of the loaded file. Please open an issue on GitHub for any issues related to this experimental feature.\n",
            "  model.load_state_dict(torch.load(model_path, map_location=DEVICE))\n"
          ]
        },
        {
          "output_type": "stream",
          "name": "stdout",
          "text": [
            "CSV saved as: predicted_vs_actual_plots/513_model_2slices_tripcons/MyCar_LOG_2023-06-25_11-17-43_refined.csv\n"
          ]
        },
        {
          "output_type": "stream",
          "name": "stderr",
          "text": [
            "<ipython-input-3-60d37f4d11c5>:26: FutureWarning: You are using `torch.load` with `weights_only=False` (the current default value), which uses the default pickle module implicitly. It is possible to construct malicious pickle data which will execute arbitrary code during unpickling (See https://github.com/pytorch/pytorch/blob/main/SECURITY.md#untrusted-models for more details). In a future release, the default value for `weights_only` will be flipped to `True`. This limits the functions that could be executed during unpickling. Arbitrary objects will no longer be allowed to be loaded via this mode unless they are explicitly allowlisted by the user via `torch.serialization.add_safe_globals`. We recommend you start setting `weights_only=True` for any use case where you don't have full control of the loaded file. Please open an issue on GitHub for any issues related to this experimental feature.\n",
            "  model.load_state_dict(torch.load(model_path, map_location=DEVICE))\n"
          ]
        },
        {
          "output_type": "stream",
          "name": "stdout",
          "text": [
            "CSV saved as: predicted_vs_actual_plots/513_model_2slices_tripcons/MyCar_LOG_2023-06-27_14-34-39_refined.csv\n"
          ]
        }
      ]
    }
  ],
  "metadata": {
    "colab": {
      "collapsed_sections": [
        "k7M2r7PuQASF",
        "iDXO7F157Fn4",
        "rGvLDIFEo3yV",
        "FprUMuyUnSJ5",
        "WHl4zatyNHKP",
        "uVsTxiOtnxip",
        "U1P_IJRN1eql"
      ],
      "provenance": [],
      "gpuType": "T4"
    },
    "kernelspec": {
      "display_name": "Python 3",
      "name": "python3"
    },
    "language_info": {
      "name": "python"
    },
    "accelerator": "GPU"
  },
  "nbformat": 4,
  "nbformat_minor": 0
}
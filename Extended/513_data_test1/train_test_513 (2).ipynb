{
  "cells": [
    {
      "cell_type": "code",
      "execution_count": null,
      "metadata": {
        "colab": {
          "base_uri": "https://localhost:8080/",
          "height": 321
        },
        "id": "X_RQgrvEbkfv",
        "outputId": "655bcc8e-c018-4a00-a89e-8ed770e0729f"
      },
      "outputs": [
        {
          "output_type": "error",
          "ename": "MessageError",
          "evalue": "Error: credential propagation was unsuccessful",
          "traceback": [
            "\u001b[0;31m---------------------------------------------------------------------------\u001b[0m",
            "\u001b[0;31mMessageError\u001b[0m                              Traceback (most recent call last)",
            "\u001b[0;32m<ipython-input-1-4996ee3d8d09>\u001b[0m in \u001b[0;36m<cell line: 2>\u001b[0;34m()\u001b[0m\n\u001b[1;32m      1\u001b[0m \u001b[0;32mfrom\u001b[0m \u001b[0mgoogle\u001b[0m\u001b[0;34m.\u001b[0m\u001b[0mcolab\u001b[0m \u001b[0;32mimport\u001b[0m \u001b[0mdrive\u001b[0m\u001b[0;34m\u001b[0m\u001b[0;34m\u001b[0m\u001b[0m\n\u001b[0;32m----> 2\u001b[0;31m \u001b[0mdrive\u001b[0m\u001b[0;34m.\u001b[0m\u001b[0mmount\u001b[0m\u001b[0;34m(\u001b[0m\u001b[0;34m'/content/gdrive'\u001b[0m\u001b[0;34m)\u001b[0m\u001b[0;34m\u001b[0m\u001b[0;34m\u001b[0m\u001b[0m\n\u001b[0m",
            "\u001b[0;32m/usr/local/lib/python3.10/dist-packages/google/colab/drive.py\u001b[0m in \u001b[0;36mmount\u001b[0;34m(mountpoint, force_remount, timeout_ms, readonly)\u001b[0m\n\u001b[1;32m     98\u001b[0m \u001b[0;32mdef\u001b[0m \u001b[0mmount\u001b[0m\u001b[0;34m(\u001b[0m\u001b[0mmountpoint\u001b[0m\u001b[0;34m,\u001b[0m \u001b[0mforce_remount\u001b[0m\u001b[0;34m=\u001b[0m\u001b[0;32mFalse\u001b[0m\u001b[0;34m,\u001b[0m \u001b[0mtimeout_ms\u001b[0m\u001b[0;34m=\u001b[0m\u001b[0;36m120000\u001b[0m\u001b[0;34m,\u001b[0m \u001b[0mreadonly\u001b[0m\u001b[0;34m=\u001b[0m\u001b[0;32mFalse\u001b[0m\u001b[0;34m)\u001b[0m\u001b[0;34m:\u001b[0m\u001b[0;34m\u001b[0m\u001b[0;34m\u001b[0m\u001b[0m\n\u001b[1;32m     99\u001b[0m   \u001b[0;34m\"\"\"Mount your Google Drive at the specified mountpoint path.\"\"\"\u001b[0m\u001b[0;34m\u001b[0m\u001b[0;34m\u001b[0m\u001b[0m\n\u001b[0;32m--> 100\u001b[0;31m   return _mount(\n\u001b[0m\u001b[1;32m    101\u001b[0m       \u001b[0mmountpoint\u001b[0m\u001b[0;34m,\u001b[0m\u001b[0;34m\u001b[0m\u001b[0;34m\u001b[0m\u001b[0m\n\u001b[1;32m    102\u001b[0m       \u001b[0mforce_remount\u001b[0m\u001b[0;34m=\u001b[0m\u001b[0mforce_remount\u001b[0m\u001b[0;34m,\u001b[0m\u001b[0;34m\u001b[0m\u001b[0;34m\u001b[0m\u001b[0m\n",
            "\u001b[0;32m/usr/local/lib/python3.10/dist-packages/google/colab/drive.py\u001b[0m in \u001b[0;36m_mount\u001b[0;34m(mountpoint, force_remount, timeout_ms, ephemeral, readonly)\u001b[0m\n\u001b[1;32m    135\u001b[0m   )\n\u001b[1;32m    136\u001b[0m   \u001b[0;32mif\u001b[0m \u001b[0mephemeral\u001b[0m\u001b[0;34m:\u001b[0m\u001b[0;34m\u001b[0m\u001b[0;34m\u001b[0m\u001b[0m\n\u001b[0;32m--> 137\u001b[0;31m     _message.blocking_request(\n\u001b[0m\u001b[1;32m    138\u001b[0m         \u001b[0;34m'request_auth'\u001b[0m\u001b[0;34m,\u001b[0m\u001b[0;34m\u001b[0m\u001b[0;34m\u001b[0m\u001b[0m\n\u001b[1;32m    139\u001b[0m         \u001b[0mrequest\u001b[0m\u001b[0;34m=\u001b[0m\u001b[0;34m{\u001b[0m\u001b[0;34m'authType'\u001b[0m\u001b[0;34m:\u001b[0m \u001b[0;34m'dfs_ephemeral'\u001b[0m\u001b[0;34m}\u001b[0m\u001b[0;34m,\u001b[0m\u001b[0;34m\u001b[0m\u001b[0;34m\u001b[0m\u001b[0m\n",
            "\u001b[0;32m/usr/local/lib/python3.10/dist-packages/google/colab/_message.py\u001b[0m in \u001b[0;36mblocking_request\u001b[0;34m(request_type, request, timeout_sec, parent)\u001b[0m\n\u001b[1;32m    174\u001b[0m       \u001b[0mrequest_type\u001b[0m\u001b[0;34m,\u001b[0m \u001b[0mrequest\u001b[0m\u001b[0;34m,\u001b[0m \u001b[0mparent\u001b[0m\u001b[0;34m=\u001b[0m\u001b[0mparent\u001b[0m\u001b[0;34m,\u001b[0m \u001b[0mexpect_reply\u001b[0m\u001b[0;34m=\u001b[0m\u001b[0;32mTrue\u001b[0m\u001b[0;34m\u001b[0m\u001b[0;34m\u001b[0m\u001b[0m\n\u001b[1;32m    175\u001b[0m   )\n\u001b[0;32m--> 176\u001b[0;31m   \u001b[0;32mreturn\u001b[0m \u001b[0mread_reply_from_input\u001b[0m\u001b[0;34m(\u001b[0m\u001b[0mrequest_id\u001b[0m\u001b[0;34m,\u001b[0m \u001b[0mtimeout_sec\u001b[0m\u001b[0;34m)\u001b[0m\u001b[0;34m\u001b[0m\u001b[0;34m\u001b[0m\u001b[0m\n\u001b[0m",
            "\u001b[0;32m/usr/local/lib/python3.10/dist-packages/google/colab/_message.py\u001b[0m in \u001b[0;36mread_reply_from_input\u001b[0;34m(message_id, timeout_sec)\u001b[0m\n\u001b[1;32m    101\u001b[0m     ):\n\u001b[1;32m    102\u001b[0m       \u001b[0;32mif\u001b[0m \u001b[0;34m'error'\u001b[0m \u001b[0;32min\u001b[0m \u001b[0mreply\u001b[0m\u001b[0;34m:\u001b[0m\u001b[0;34m\u001b[0m\u001b[0;34m\u001b[0m\u001b[0m\n\u001b[0;32m--> 103\u001b[0;31m         \u001b[0;32mraise\u001b[0m \u001b[0mMessageError\u001b[0m\u001b[0;34m(\u001b[0m\u001b[0mreply\u001b[0m\u001b[0;34m[\u001b[0m\u001b[0;34m'error'\u001b[0m\u001b[0;34m]\u001b[0m\u001b[0;34m)\u001b[0m\u001b[0;34m\u001b[0m\u001b[0;34m\u001b[0m\u001b[0m\n\u001b[0m\u001b[1;32m    104\u001b[0m       \u001b[0;32mreturn\u001b[0m \u001b[0mreply\u001b[0m\u001b[0;34m.\u001b[0m\u001b[0mget\u001b[0m\u001b[0;34m(\u001b[0m\u001b[0;34m'data'\u001b[0m\u001b[0;34m,\u001b[0m \u001b[0;32mNone\u001b[0m\u001b[0;34m)\u001b[0m\u001b[0;34m\u001b[0m\u001b[0;34m\u001b[0m\u001b[0m\n\u001b[1;32m    105\u001b[0m \u001b[0;34m\u001b[0m\u001b[0m\n",
            "\u001b[0;31mMessageError\u001b[0m: Error: credential propagation was unsuccessful"
          ]
        }
      ],
      "source": [
        "from google.colab import drive\n",
        "drive.mount('/content/gdrive')\n"
      ]
    },
    {
      "cell_type": "code",
      "execution_count": 11,
      "metadata": {
        "id": "3PDshfYSS1BB"
      },
      "outputs": [],
      "source": [
        "import os\n",
        "import numpy as np\n",
        "import pandas as pd\n",
        "import torch\n",
        "from multiprocessing import Pool\n",
        "from sklearn.preprocessing import MinMaxScaler\n",
        "import os\n",
        "import numpy as np\n",
        "import pandas as pd\n",
        "import torch\n",
        "import torch.nn as nn\n",
        "import torch.optim as optim\n",
        "from sklearn.preprocessing import MinMaxScaler\n",
        "from torch.utils.data import DataLoader, TensorDataset\n",
        "import joblib\n",
        "import os\n",
        "import numpy as np\n",
        "import pandas as pd\n",
        "import torch\n",
        "from multiprocessing import Pool\n",
        "from sklearn.preprocessing import MinMaxScaler\n",
        "import os\n",
        "import numpy as np\n",
        "import pandas as pd\n",
        "import torch\n",
        "import torch.nn as nn\n",
        "import torch.optim as optim\n",
        "from sklearn.preprocessing import MinMaxScaler\n",
        "from torch.utils.data import DataLoader, TensorDataset\n",
        "import joblib\n",
        "\n",
        "SEQUENCE_LENGTH = 600\n",
        "BATCH_SIZE = 64\n",
        "EPOCHS = 250\n",
        "LEARNING_RATE = 1e-5\n",
        "DEVICE = torch.device('cuda' if torch.cuda.is_available() else 'cpu')"
      ]
    },
    {
      "cell_type": "code",
      "execution_count": null,
      "metadata": {
        "id": "tGAb_Ct9Wx-L"
      },
      "outputs": [],
      "source": [
        "!unzip -qq '/content/gdrive/MyDrive/data_aug_new.zip'"
      ]
    },
    {
      "cell_type": "markdown",
      "metadata": {
        "id": "T2VsgPt5JVSs"
      },
      "source": [
        "#Load file"
      ]
    },
    {
      "cell_type": "code",
      "execution_count": null,
      "metadata": {
        "id": "UrcojkYyE8mT"
      },
      "outputs": [],
      "source": [
        "data = np.load('/content/gdrive/MyDrive/513_600_2slices_shift.npz')\n"
      ]
    },
    {
      "cell_type": "code",
      "source": [
        "data = np.load('/content/gdrive/MyDrive/513_600_3slices_shift.npz')\n"
      ],
      "metadata": {
        "id": "80JpuFUAQrEW"
      },
      "execution_count": null,
      "outputs": []
    },
    {
      "cell_type": "code",
      "source": [
        "data = np.load('/content/gdrive/MyDrive/513_600_2slices_shift_rate.npz')\n"
      ],
      "metadata": {
        "id": "9KqRZA4CfrT-"
      },
      "execution_count": null,
      "outputs": []
    },
    {
      "cell_type": "markdown",
      "source": [],
      "metadata": {
        "id": "__1KRiMDGL8B"
      }
    },
    {
      "cell_type": "code",
      "source": [
        "data = np.load('/content/gdrive/MyDrive/513_600_3slices_shift_rate.npz')\n"
      ],
      "metadata": {
        "id": "NU0xH4605meq"
      },
      "execution_count": null,
      "outputs": []
    },
    {
      "cell_type": "code",
      "execution_count": null,
      "metadata": {
        "id": "MCYDVO9rdUBw"
      },
      "outputs": [],
      "source": [
        "\n",
        "\n",
        "\n",
        "X_original = data['X_original']\n",
        "y_original = data['y_original']\n",
        "X_augmented = data['X_augmented']\n",
        "y_augmented = data['y_augmented']\n",
        "\n",
        "\n",
        "# X_original1 = data1['X_original']\n",
        "# y_original1 = data1['y_original']\n",
        "# X_augmented1 = data1['X_augmented']\n",
        "# y_augmented1 = data1['y_augmented']\n",
        "\n",
        "\n",
        "# Convert data to PyTorch tensors\n",
        "try:\n",
        "    X_original = torch.tensor(np.array(X_original), dtype=torch.float32).to(DEVICE)\n",
        "    y_original = torch.tensor(np.array(y_original), dtype=torch.float32).to(DEVICE)\n",
        "    X_augmented = torch.tensor(np.array(X_augmented), dtype=torch.float32).to(DEVICE)\n",
        "    y_augmented = torch.tensor(np.array(y_augmented), dtype=torch.float32).to(DEVICE)\n",
        "except Exception as e:\n",
        "    print(f\"Error during tensor conversion: {e}\")\n",
        "    print(f\"Shapes: X_original - {np.array(X_original).shape}, y_original - {np.array(y_original).shape}\")\n",
        "    print(f\"Shapes: X_augmented - {np.array(X_augmented).shape}, y_augmented - {np.array(y_augmented).shape}\")\n",
        "    raise\n",
        "\n",
        "\n",
        "# # Convert data to PyTorch tensors\n",
        "# try:\n",
        "#     X_original1 = torch.tensor(np.array(X_original1), dtype=torch.float32).to(DEVICE)\n",
        "#     y_original1 = torch.tensor(np.array(y_original1), dtype=torch.float32).to(DEVICE)\n",
        "#     X_augmented1 = torch.tensor(np.array(X_augmented1), dtype=torch.float32).to(DEVICE)\n",
        "#     y_augmented1 = torch.tensor(np.array(y_augmented1), dtype=torch.float32).to(DEVICE)\n",
        "# except Exception as e:\n",
        "#     print(f\"Error during tensor conversion: {e}\")\n",
        "#     print(f\"Shapes: X_original1 - {np.array(X_original1).shape}, y_original1 - {np.array(y_original1).shape}\")\n",
        "#     print(f\"Shapes: X_augmented1 - {np.array(X_augmented1).shape}, y_augmented1 - {np.array(y_augmented1).shape}\")\n",
        "#     raise\n",
        "\n",
        "\n",
        "X_train = torch.cat([X_original, X_augmented])\n",
        "y_train = torch.cat([y_original, y_augmented])\n",
        "\n",
        "\n",
        "# X_train1 = torch.cat([X_original1, X_augmented1])\n",
        "# y_train1 = torch.cat([y_original1, y_augmented1])"
      ]
    },
    {
      "cell_type": "code",
      "source": [
        "selected_columns = X_train[:,:, [0, 1, 5, 7, 9]]\n",
        "X_train = X_train[:,:, [0, 1, 5, 7, 9]]\n",
        "\n",
        "print(selected_columns[0])"
      ],
      "metadata": {
        "colab": {
          "base_uri": "https://localhost:8080/"
        },
        "id": "-DJcR1fPDJz-",
        "outputId": "d327f8f4-a655-41a2-f942-6be86f1fbc48"
      },
      "execution_count": null,
      "outputs": [
        {
          "output_type": "stream",
          "name": "stdout",
          "text": [
            "tensor([[ 0.0000, -1.0000, 37.0000,  2.0000, -1.2100],\n",
            "        [-1.0000,  0.0000, 36.0000,  2.0000, -1.2100],\n",
            "        [ 0.0000,  0.0000, 36.0000,  2.0000, -1.2100],\n",
            "        ...,\n",
            "        [-1.0000, -1.0000, 27.0000,  2.0000, -0.1749],\n",
            "        [-1.0000, -2.0000, 26.0000,  2.0000, -0.1749],\n",
            "        [-2.0000, -1.0000, 24.0000,  2.0000, -0.1749]], device='cuda:0')\n"
          ]
        }
      ]
    },
    {
      "cell_type": "markdown",
      "source": [
        "# **without two acc**"
      ],
      "metadata": {
        "id": "k7M2r7PuQASF"
      }
    },
    {
      "cell_type": "code",
      "source": [
        "selected_columns = X_train[:,:, [0, 1, 5, 7, 9]]\n",
        "X_train = X_train[:,:, [0, 5, 7, 9]]\n",
        "\n",
        "print(selected_columns[0])"
      ],
      "metadata": {
        "colab": {
          "base_uri": "https://localhost:8080/"
        },
        "id": "fE7Na8plQB_b",
        "outputId": "cbabccae-f9c8-400a-919b-f5e60a6c3c36"
      },
      "execution_count": null,
      "outputs": [
        {
          "output_type": "stream",
          "name": "stdout",
          "text": [
            "tensor([[ 0.0000, -1.0000, 37.0000,  2.0000, -1.2100],\n",
            "        [-1.0000,  0.0000, 36.0000,  2.0000, -1.2100],\n",
            "        [ 0.0000,  0.0000, 36.0000,  2.0000, -1.2100],\n",
            "        ...,\n",
            "        [-1.0000, -1.0000, 27.0000,  2.0000, -0.1749],\n",
            "        [-1.0000, -2.0000, 26.0000,  2.0000, -0.1749],\n",
            "        [-2.0000, -1.0000, 24.0000,  2.0000, -0.1749]], device='cuda:0')\n"
          ]
        }
      ]
    },
    {
      "cell_type": "markdown",
      "source": [
        "# **a**"
      ],
      "metadata": {
        "id": "6pADzYzqQCz7"
      }
    },
    {
      "cell_type": "code",
      "source": [
        "# Compute the minimum and maximum across dimensions (0, 1)\n",
        "min_x = torch.min(X_train, dim=0)[0]  # Min across the first dimension\n",
        "min_x = torch.min(min_x, dim=0)[0].to(DEVICE)  # Min across the second dimension\n",
        "\n",
        "max_x = torch.max(X_train, dim=0)[0]  # Max across the first dimension\n",
        "max_x = torch.max(max_x, dim=0)[0].to(DEVICE)  # Max across the second dimension\n",
        "\n",
        "print(\"Min values:\", min_x)\n",
        "print(\"Max values:\", max_x)\n"
      ],
      "metadata": {
        "colab": {
          "base_uri": "https://localhost:8080/"
        },
        "id": "wrf-xPp4Dl2m",
        "outputId": "25b4139d-ff9c-4130-f7b1-3458d552c5dd"
      },
      "execution_count": null,
      "outputs": [
        {
          "output_type": "stream",
          "name": "stdout",
          "text": [
            "Min values: tensor([-119.0000,    0.0000,    0.0000, -224.3478], device='cuda:0')\n",
            "Max values: tensor([119., 184.,   5., 240.], device='cuda:0')\n"
          ]
        }
      ]
    },
    {
      "cell_type": "code",
      "source": [
        "# Compute the minimum and maximum across dimensions (0, 1)\n",
        "min_x = torch.min(y_train, dim=0)[0]  # Min across the first dimension\n",
        "min_x = torch.min(min_x, dim=0)[0].to(DEVICE)  # Min across the second dimension\n",
        "\n",
        "max_x = torch.max(y_train, dim=0)[0]  # Max across the first dimension\n",
        "max_x = torch.max(max_x, dim=0)[0].to(DEVICE)  # Max across the second dimension\n",
        "\n",
        "print(\"Min values:\", min_x)\n",
        "print(\"Max values:\", max_x)\n"
      ],
      "metadata": {
        "colab": {
          "base_uri": "https://localhost:8080/"
        },
        "id": "YwIv-XB9QehO",
        "outputId": "10f60ed6-f918-4c45-9ae6-1e91cc14e0e4"
      },
      "execution_count": null,
      "outputs": [
        {
          "output_type": "stream",
          "name": "stdout",
          "text": [
            "Min values: tensor([0.], device='cuda:0')\n",
            "Max values: tensor([20.7850], device='cuda:0')\n"
          ]
        }
      ]
    },
    {
      "cell_type": "code",
      "source": [
        "print(\"Original shape:\", X_train.shape)\n"
      ],
      "metadata": {
        "colab": {
          "base_uri": "https://localhost:8080/"
        },
        "id": "2DzowlYwSQyT",
        "outputId": "0ebdf469-08f4-4996-ab24-4c430d8989c5"
      },
      "execution_count": null,
      "outputs": [
        {
          "output_type": "stream",
          "name": "stdout",
          "text": [
            "Original shape: torch.Size([23274, 600, 4])\n"
          ]
        }
      ]
    },
    {
      "cell_type": "code",
      "source": [
        "# Create a mask for rows in y where all values are >= 0\n",
        "mask = (y_train >= 0).all(dim=(1, 2))  # True for sequences with no negative values in y\n",
        "\n",
        "# Apply the mask to x\n",
        "X_train = X_train[mask]\n",
        "y_train = y_train[mask]  # Optionally filter y as well for consistency\n",
        "\n",
        "print(\"Original x shape:\", X_train.shape)\n",
        "# print(\"Filtered x shape:\", x_train_filtered.shape)\n",
        "print(\"Original y shape:\", y_train.shape)\n",
        "# print(\"Filtered y shape:\", y_train_filtered.shape)\n"
      ],
      "metadata": {
        "colab": {
          "base_uri": "https://localhost:8080/"
        },
        "id": "nfOZi2agRSnD",
        "outputId": "d6befcdb-0be1-4e85-d651-5716f8514868"
      },
      "execution_count": null,
      "outputs": [
        {
          "output_type": "stream",
          "name": "stdout",
          "text": [
            "Original x shape: torch.Size([8270, 600, 4])\n",
            "Original y shape: torch.Size([8270, 600, 1])\n"
          ]
        }
      ]
    },
    {
      "cell_type": "code",
      "source": [
        "import torch\n",
        "import numpy as np\n",
        "import matplotlib.pyplot as plt\n",
        "import seaborn as sns\n",
        "\n",
        "\n",
        "# Save processed data for later use\n",
        "for i in range(y_train.shape[2]):  # Iterate over columns (third dimension)\n",
        "    col_data = y_train[:, :, i].flatten().cpu().numpy()  # Flatten, move to CPU, convert to numpy\n",
        "    np.save(f\"column_{i}.npy\", col_data)  # Save each column to a .npy file\n",
        "\n",
        "# Create separate plots for each column\n",
        "for i in range(y_train.shape[2]):\n",
        "    # Load column data\n",
        "    col_data = np.load(f\"column_{i}.npy\")\n",
        "\n",
        "    # Plot violin plot for the column\n",
        "    plt.figure(figsize=(6, 4))  # Create a new figure for each plot\n",
        "    sns.violinplot(data=col_data)\n",
        "    plt.title(f\"Violin Plot for Column {i}\")\n",
        "    plt.xlabel(f\"Column {i}\")\n",
        "    plt.ylabel(\"Values\")\n",
        "\n",
        "    # Save or show the plot\n",
        "    plt.savefig(f\"violin_plot_column_{i}.png\")  # Save plot to file\n",
        "    plt.show()  # Show the plot\n"
      ],
      "metadata": {
        "colab": {
          "base_uri": "https://localhost:8080/",
          "height": 396
        },
        "id": "66smKKDQRCa1",
        "outputId": "7aa35588-ea48-43a4-d955-a5a731310eb3"
      },
      "execution_count": null,
      "outputs": [
        {
          "output_type": "display_data",
          "data": {
            "text/plain": [
              "<Figure size 600x400 with 1 Axes>"
            ],
            "image/png": "[encoded data removed]"
          },
          "metadata": {}
        }
      ]
    },
    {
      "cell_type": "code",
      "source": [
        "mean_x = torch.mean(y_train, dim=(0, 1)).to(DEVICE)\n",
        "std_x = torch.std(y_train, dim=(0, 1)).to(DEVICE)\n",
        "mean_x , std_x"
      ],
      "metadata": {
        "colab": {
          "base_uri": "https://localhost:8080/"
        },
        "id": "FK0RUHw7f_6a",
        "outputId": "2da4f32d-90a1-40b6-9549-1519d6a24917"
      },
      "execution_count": null,
      "outputs": [
        {
          "output_type": "execute_result",
          "data": {
            "text/plain": [
              "(tensor([1.3182], device='cuda:0'), tensor([1.9448], device='cuda:0'))"
            ]
          },
          "metadata": {},
          "execution_count": 99
        }
      ]
    },
    {
      "cell_type": "code",
      "source": [
        "import torch\n",
        "import numpy as np\n",
        "import matplotlib.pyplot as plt\n",
        "import seaborn as sns\n",
        "\n",
        "\n",
        "# Save processed data for later use\n",
        "for i in range(selected_columns.shape[2]):  # Iterate over columns (third dimension)\n",
        "    col_data = selected_columns[:, :, i].flatten().cpu().numpy()  # Flatten, move to CPU, convert to numpy\n",
        "    np.save(f\"column_{i}.npy\", col_data)  # Save each column to a .npy file\n",
        "\n",
        "# Create separate plots for each column\n",
        "for i in range(selected_columns.shape[2]):\n",
        "    # Load column data\n",
        "    col_data = np.load(f\"column_{i}.npy\")\n",
        "\n",
        "    # Plot violin plot for the column\n",
        "    plt.figure(figsize=(6, 4))  # Create a new figure for each plot\n",
        "    sns.violinplot(data=col_data)\n",
        "    plt.title(f\"Violin Plot for Column {i}\")\n",
        "    plt.xlabel(f\"Column {i}\")\n",
        "    plt.ylabel(\"Values\")\n",
        "\n",
        "    # Save or show the plot\n",
        "    plt.savefig(f\"violin_plot_column_{i}.png\")  # Save plot to file\n",
        "    plt.show()  # Show the plot\n"
      ],
      "metadata": {
        "id": "JnWdpstFHsq9",
        "colab": {
          "base_uri": "https://localhost:8080/",
          "height": 1000
        },
        "outputId": "09e7edf7-73fa-4a11-8a71-845b6159e43f"
      },
      "execution_count": null,
      "outputs": [
        {
          "data": {
            "image/png": "[encoded data removed]",
            "text/plain": [
              "<Figure size 600x400 with 1 Axes>"
            ]
          },
          "metadata": {},
          "output_type": "display_data"
        },
        {
          "output_type": "display_data",
          "data": {
            "text/plain": [
              "<Figure size 600x400 with 1 Axes>"
            ],
            "image/png": "[encoded data removed]"
          },
          "metadata": {}
        },
        {
          "output_type": "display_data",
          "data": {
            "text/plain": [
              "<Figure size 600x400 with 1 Axes>"
            ],
            "image/png": "[encoded data removed]"
          },
          "metadata": {}
        },
        {
          "output_type": "display_data",
          "data": {
            "text/plain": [
              "<Figure size 600x400 with 1 Axes>"
            ],
            "image/png": "[encoded data removed]"
          },
          "metadata": {}
        },
        {
          "output_type": "display_data",
          "data": {
            "text/plain": [
              "<Figure size 600x400 with 1 Axes>"
            ],
            "image/png": "[encoded data removed]"
          },
          "metadata": {}
        }
      ]
    },
    {
      "cell_type": "code",
      "execution_count": null,
      "metadata": {
        "id": "9egpbQy6dEtA"
      },
      "outputs": [],
      "source": [
        "# # this cell for delete coolant temp from data\n",
        "# X_train = X_train[:, :, :-1]  # Slicing to exclude the last column\n",
        "# X_train1 = X_train1[:, :, :-1]  # Slicing to exclude the last column\n"
      ]
    },
    {
      "cell_type": "code",
      "source": [
        "X_train.shape()"
      ],
      "metadata": {
        "colab": {
          "base_uri": "https://localhost:8080/",
          "height": 141
        },
        "id": "k2Lf8ZRETunZ",
        "outputId": "299bb0a8-9866-418d-ac38-d170479c0eee"
      },
      "execution_count": null,
      "outputs": [
        {
          "output_type": "error",
          "ename": "TypeError",
          "evalue": "'torch.Size' object is not callable",
          "traceback": [
            "\u001b[0;31m---------------------------------------------------------------------------\u001b[0m",
            "\u001b[0;31mTypeError\u001b[0m                                 Traceback (most recent call last)",
            "\u001b[0;32m<ipython-input-47-0f4d6b0aeb46>\u001b[0m in \u001b[0;36m<cell line: 1>\u001b[0;34m()\u001b[0m\n\u001b[0;32m----> 1\u001b[0;31m \u001b[0mX_train\u001b[0m\u001b[0;34m.\u001b[0m\u001b[0mshape\u001b[0m\u001b[0;34m(\u001b[0m\u001b[0;34m)\u001b[0m\u001b[0;34m\u001b[0m\u001b[0;34m\u001b[0m\u001b[0m\n\u001b[0m",
            "\u001b[0;31mTypeError\u001b[0m: 'torch.Size' object is not callable"
          ]
        }
      ]
    },
    {
      "cell_type": "code",
      "source": [
        "X_train.shape[0]"
      ],
      "metadata": {
        "colab": {
          "base_uri": "https://localhost:8080/"
        },
        "id": "crMYN8qDTDQ8",
        "outputId": "24983b3f-42c2-437f-ffa0-66fe54c1ae31"
      },
      "execution_count": null,
      "outputs": [
        {
          "output_type": "execute_result",
          "data": {
            "text/plain": [
              "23254"
            ]
          },
          "metadata": {},
          "execution_count": 65
        }
      ]
    },
    {
      "cell_type": "code",
      "source": [
        "X_train[55000]"
      ],
      "metadata": {
        "colab": {
          "base_uri": "https://localhost:8080/"
        },
        "id": "a5t58s8DT6iE",
        "outputId": "d4d6fe90-a2bc-409a-a003-7e3aec7c781d"
      },
      "execution_count": null,
      "outputs": [
        {
          "output_type": "execute_result",
          "data": {
            "text/plain": [
              "tensor([[5.2632e-01, 5.2632e-01, 3.5313e-10, 1.2800e-03, 5.2632e-01],\n",
              "        [5.2632e-01, 5.2632e-01, 3.4688e-10, 1.2800e-03, 5.2632e-01],\n",
              "        [5.2632e-01, 5.2632e-01, 3.4062e-10, 1.2800e-03, 5.2632e-01],\n",
              "        ...,\n",
              "        [5.2632e-01, 5.2632e-01, 3.5000e-10, 1.6000e-03, 5.2631e-01],\n",
              "        [5.2632e-01, 5.2632e-01, 3.5313e-10, 1.6000e-03, 5.2631e-01],\n",
              "        [5.2632e-01, 5.2632e-01, 3.5313e-10, 1.6000e-03, 5.2631e-01]],\n",
              "       device='cuda:0')"
            ]
          },
          "metadata": {},
          "execution_count": 55
        }
      ]
    },
    {
      "cell_type": "markdown",
      "metadata": {
        "id": "cTt1HLi24WQo"
      },
      "source": [
        "# **Normalize**"
      ]
    },
    {
      "cell_type": "code",
      "execution_count": null,
      "metadata": {
        "id": "YSaA3VdOes7k"
      },
      "outputs": [],
      "source": [
        "\n",
        "# Convert the min and max values to tensors\n",
        "min_val_x = torch.tensor([-10,-10, 0,0, -10], dtype=torch.float32).to(DEVICE)\n",
        "max_val_x = torch.tensor([10,10,200, 5, 10], dtype=torch.float32).to(DEVICE)\n",
        "\n",
        "#for without two acc\n",
        "min_val_x = torch.tensor([-10, 0,0, -10], dtype=torch.float32).to(DEVICE)\n",
        "max_val_x = torch.tensor([10, 200, 5, 10], dtype=torch.float32).to(DEVICE)\n",
        "\n",
        "\n",
        "min_val_y = torch.tensor([0], dtype=torch.float32).to(DEVICE)\n",
        "max_val_y = torch.tensor([30000], dtype=torch.float32).to(DEVICE)\n",
        "\n",
        "# Custom normalization function for X\n",
        "def custom_normalize_X(data, min_vals, max_vals):\n",
        "    feature_count = 4\n",
        "    for i in range(feature_count):\n",
        "        data[:, :, i] = (data[:, :, i] - min_vals[i]) / (max_vals[i] - min_vals[i])\n",
        "    return data\n",
        "\n",
        "# Custom normalization function for y\n",
        "def custom_normalize_y(data, min_val, max_val):\n",
        "    return (data - min_val) / (max_val - min_val)\n",
        "\n",
        "# Normalize X_train and X_test\n",
        "X_train_normalized = custom_normalize_X(X_train, min_val_x, max_val_x)\n",
        "# X_test_normalized = custom_normalize_X(X_test, min_val_x, max_val_x)\n",
        "\n",
        "# Normalize y_train and y_test\n",
        "y_train_normalized = custom_normalize_y(y_train, min_val_y, max_val_y)\n",
        "# y_test_normalized = custom_normalize_y(y_test, min_val_y, max_val_y)\n",
        "\n",
        "\n",
        "# # Normalize X_train and X_test\n",
        "# X_train_normalized1 = custom_normalize_X(X_train1, min_val_x, max_val_x)\n",
        "# # X_test_normalized = custom_normalize_X(X_test, min_val_x, max_val_x)\n",
        "\n",
        "# # Normalize y_train and y_test\n",
        "# y_train_normalized1 = custom_normalize_y(y_train1, min_val_y, max_val_y)\n",
        "# y_test_normalized = custom_normalize_y(y_test, min_val_y, max_val_y)\n"
      ]
    },
    {
      "cell_type": "markdown",
      "source": [
        "# **Normla for rate**"
      ],
      "metadata": {
        "id": "iDXO7F157Fn4"
      }
    },
    {
      "cell_type": "code",
      "source": [
        "min_val_x = torch.tensor([-10,-10, 0,0, -10], dtype=torch.float32).to(DEVICE)\n",
        "max_val_x = torch.tensor([10,10,200, 5, 10], dtype=torch.float32).to(DEVICE)\n",
        "\n",
        "#for without two acc\n",
        "min_val_x = torch.tensor([-10, 0,0, -10], dtype=torch.float32).to(DEVICE)\n",
        "max_val_x = torch.tensor([10, 200, 5, 10], dtype=torch.float32).to(DEVICE)\n",
        "# Custom normalization function for X\n",
        "def custom_normalize_X(data, min_vals, max_vals):\n",
        "    feature_count = 4\n",
        "    for i in range(feature_count):\n",
        "        data[:, :, i] = (data[:, :, i] - min_vals[i]) / (max_vals[i] - min_vals[i])\n",
        "    return data\n",
        "\n",
        "X_train_normalized = custom_normalize_X(X_train, min_val_x, max_val_x)\n",
        "\n",
        "y_train_normalized = y_train"
      ],
      "metadata": {
        "id": "0VJmRMlC7Hbj"
      },
      "execution_count": null,
      "outputs": []
    },
    {
      "cell_type": "code",
      "source": [
        "X_train_normalized"
      ],
      "metadata": {
        "colab": {
          "base_uri": "https://localhost:8080/"
        },
        "id": "CPY8gxtF7fAK",
        "outputId": "6a850468-3b53-4fa1-d4a1-a8eea8c56f1f"
      },
      "execution_count": null,
      "outputs": [
        {
          "output_type": "execute_result",
          "data": {
            "text/plain": [
              "tensor([[[0.5000, 0.4500, 0.1850, 0.4000, 0.4395],\n",
              "         [0.4500, 0.5000, 0.1800, 0.4000, 0.4395],\n",
              "         [0.5000, 0.5000, 0.1800, 0.4000, 0.4395],\n",
              "         ...,\n",
              "         [0.4500, 0.4500, 0.1350, 0.4000, 0.4913],\n",
              "         [0.4500, 0.4000, 0.1300, 0.4000, 0.4913],\n",
              "         [0.4000, 0.4500, 0.1200, 0.4000, 0.4913]],\n",
              "\n",
              "        [[0.5000, 0.5000, 0.0000, 0.2000, 0.5000],\n",
              "         [0.5000, 0.5500, 0.0000, 0.2000, 0.5000],\n",
              "         [0.5500, 0.5000, 0.0050, 0.2000, 0.5000],\n",
              "         ...,\n",
              "         [0.5000, 0.4500, 0.1650, 0.4000, 0.5471],\n",
              "         [0.4500, 0.5000, 0.1600, 0.4000, 0.5471],\n",
              "         [0.5000, 0.4000, 0.1600, 0.4000, 0.5000]],\n",
              "\n",
              "        [[0.5000, 0.5000, 0.0000, 0.0000, 0.6015],\n",
              "         [0.5000, 0.5000, 0.0000, 0.0000, 0.6015],\n",
              "         [0.5000, 0.5000, 0.0000, 0.0000, 0.6015],\n",
              "         ...,\n",
              "         [0.5500, 0.5000, 0.3400, 0.8000, 0.4181],\n",
              "         [0.5000, 0.5500, 0.3400, 0.8000, 0.5000],\n",
              "         [0.5500, 0.6000, 0.3450, 0.8000, 0.4550]],\n",
              "\n",
              "        ...,\n",
              "\n",
              "        [[0.8500, 0.8000, 0.3650, 0.4000, 0.5629],\n",
              "         [0.8000, 0.4000, 0.3950, 0.4000, 0.5629],\n",
              "         [0.4000, 0.2500, 0.3850, 0.4000, 0.5629],\n",
              "         ...,\n",
              "         [0.5000, 0.5000, 0.0000, 0.0000, 0.5000],\n",
              "         [0.5000, 0.5000, 0.0000, 0.0000, 0.5000],\n",
              "         [0.5000, 0.5000, 0.0000, 0.0000, 0.5000]],\n",
              "\n",
              "        [[0.5000, 0.5000, 0.0000, 0.0000, 0.4792],\n",
              "         [0.5000, 0.5000, 0.0000, 0.0000, 0.4792],\n",
              "         [0.5000, 0.5500, 0.0000, 0.0000, 0.4792],\n",
              "         ...,\n",
              "         [0.6500, 0.4500, 0.0600, 0.2000, 0.4634],\n",
              "         [0.4500, 0.4000, 0.0550, 0.2000, 0.4634],\n",
              "         [0.4000, 0.3500, 0.0450, 0.2000, 0.5000]],\n",
              "\n",
              "        [[0.5000, 0.5000, 0.0000, 0.0000, 0.5000],\n",
              "         [0.5000, 0.5000, 0.0000, 0.0000, 0.5000],\n",
              "         [0.5000, 0.5000, 0.0000, 0.0000, 0.5000],\n",
              "         ...,\n",
              "         [0.5000, 0.5000, 0.0000, 0.0000, 0.5000],\n",
              "         [0.5000, 0.5000, 0.0000, 0.0000, 0.5000],\n",
              "         [0.5000, 0.5000, 0.0000, 0.0000, 0.5000]]], device='cuda:0')"
            ]
          },
          "metadata": {},
          "execution_count": 42
        }
      ]
    },
    {
      "cell_type": "code",
      "source": [],
      "metadata": {
        "id": "2Mb_iGyg7FbV"
      },
      "execution_count": null,
      "outputs": []
    },
    {
      "cell_type": "code",
      "source": [
        "X_train_normalized.shape"
      ],
      "metadata": {
        "colab": {
          "base_uri": "https://localhost:8080/"
        },
        "id": "pRdMwCh7UjBa",
        "outputId": "0a120d9d-fb9e-4065-a743-19322b408462"
      },
      "execution_count": null,
      "outputs": [
        {
          "output_type": "execute_result",
          "data": {
            "text/plain": [
              "torch.Size([8270, 600, 4])"
            ]
          },
          "metadata": {},
          "execution_count": 82
        }
      ]
    },
    {
      "cell_type": "code",
      "source": [
        "y_train_normalized1.shape"
      ],
      "metadata": {
        "colab": {
          "base_uri": "https://localhost:8080/"
        },
        "id": "PQUxG9UeUleC",
        "outputId": "01f77d7a-397a-48fe-c048-b69748583d51"
      },
      "execution_count": null,
      "outputs": [
        {
          "output_type": "execute_result",
          "data": {
            "text/plain": [
              "torch.Size([55850, 600, 1])"
            ]
          },
          "metadata": {},
          "execution_count": 102
        }
      ]
    },
    {
      "cell_type": "markdown",
      "metadata": {
        "id": "rGvLDIFEo3yV"
      },
      "source": [
        "# **Standard**"
      ]
    },
    {
      "cell_type": "code",
      "execution_count": null,
      "metadata": {
        "id": "G_j7q5t85DUH"
      },
      "outputs": [],
      "source": [
        "# Compute the mean and standard deviation for X and y from the training set\n",
        "mean_x = torch.mean(X_train, dim=(0, 1)).to(DEVICE)\n",
        "std_x = torch.std(X_train, dim=(0, 1)).to(DEVICE)\n",
        "\n",
        "mean_y = torch.mean(y_train).to(DEVICE)\n",
        "std_y = torch.std(y_train).to(DEVICE)\n",
        "\n",
        "# Custom standardization function for X\n",
        "def custom_standardize_X(data, mean_vals, std_vals):\n",
        "    for i in range(data.shape[-1]):\n",
        "        data[:, :, i] = (data[:, :, i] - mean_vals[i]) / std_vals[i]\n",
        "    return data\n",
        "\n",
        "# Custom standardization function for y\n",
        "def custom_standardize_y(data, mean_val, std_val):\n",
        "    return (data - mean_val) / std_val\n",
        "\n",
        "# Standardize X_train and y_train\n",
        "X_train_normalized = custom_standardize_X(X_train, mean_x, std_x)\n",
        "y_train_normalized = custom_standardize_y(y_train, mean_y, std_y)\n",
        "\n",
        "# # Standardize X_test and y_test using the same mean and std as training data\n",
        "# X_test_standardized = custom_standardize_X(X_test, mean_x, std_x)\n",
        "# y_test_standardized = custom_standardize_y(y_test, mean_y, std_y)\n",
        "\n",
        "\n",
        "X_train_normalized1 = custom_standardize_X(X_train1, mean_x, std_x)\n",
        "y_train_normalized1 = custom_standardize_y(y_train1, mean_y, std_y)\n",
        "\n",
        "\n",
        "import json\n",
        "\n",
        "# Convert tensors to lists to make them serializable\n",
        "mean_x_list = mean_x.cpu().tolist()\n",
        "std_x_list = std_x.cpu().tolist()\n",
        "mean_y_list = mean_y.cpu().tolist()\n",
        "std_y_list = std_y.cpu().tolist()\n",
        "\n",
        "# Save the mean and std values in a JSON file\n",
        "normalization_params = {\n",
        "    'mean_x': mean_x_list,\n",
        "    'std_x': std_x_list,\n",
        "    'mean_y': mean_y_list,\n",
        "    'std_y': std_y_list\n",
        "}\n",
        "\n",
        "# Write the normalization parameters to a JSON file\n",
        "with open('normalization_params.json', 'w') as f:\n",
        "    json.dump(normalization_params, f)\n"
      ]
    },
    {
      "cell_type": "markdown",
      "metadata": {
        "id": "WZ1tv5iCo54o"
      },
      "source": [
        "# **model**"
      ]
    },
    {
      "cell_type": "code",
      "execution_count": 12,
      "metadata": {
        "id": "MwYKbOq_Zcr7"
      },
      "outputs": [],
      "source": [
        "import torch.nn as nn\n",
        "import torch\n",
        "\n",
        "class FuelConsumptionModel(nn.Module):\n",
        "    def __init__(self, input_size):\n",
        "        super(FuelConsumptionModel, self).__init__()\n",
        "        # LSTM layers\n",
        "        self.lstm1 = nn.LSTM(input_size, 32, batch_first=True, bidirectional=True)\n",
        "        self.lstm2 = nn.LSTM(64, 32, batch_first=True, bidirectional=True)\n",
        "\n",
        "        # Layer Normalization after each LSTM\n",
        "        self.layer_norm1 = nn.LayerNorm(64)\n",
        "        self.layer_norm2 = nn.LayerNorm(64)\n",
        "\n",
        "        # Dropout layers\n",
        "        self.dropout1 = nn.Dropout(0.2)\n",
        "        self.dropout2 = nn.Dropout(0.2)\n",
        "\n",
        "        # Dense output layer\n",
        "        self.dense = nn.Linear(64, 1)\n",
        "\n",
        "    def forward(self, x):\n",
        "        # LSTM 1 + Layer Normalization + Dropout\n",
        "        x, _ = self.lstm1(x)\n",
        "        x = self.layer_norm1(x)  # Apply layer normalization after LSTM1\n",
        "        x = self.dropout1(x)\n",
        "\n",
        "        # LSTM 2 + Layer Normalization + Dropout\n",
        "        x, _ = self.lstm2(x)\n",
        "        x = self.layer_norm2(x)  # Apply layer normalization after LSTM2\n",
        "        x = self.dropout2(x)\n",
        "\n",
        "        # Dense layer for final output\n",
        "        x = self.dense(x)\n",
        "\n",
        "        return x\n"
      ]
    },
    {
      "cell_type": "code",
      "execution_count": null,
      "metadata": {
        "colab": {
          "base_uri": "https://localhost:8080/"
        },
        "id": "NrURTgcFgyYL",
        "outputId": "4f4ebae6-1cc4-4020-9a33-d10e64556eb5"
      },
      "outputs": [
        {
          "output_type": "stream",
          "name": "stdout",
          "text": [
            "X_train_normalized shape: torch.Size([8270, 600, 4])\n",
            "y_train_normalized shape: torch.Size([8270, 600, 1])\n",
            "Train size: 6616, Validation size: 1654\n"
          ]
        }
      ],
      "source": [
        "# Check if X_train_normalized and y_train_normalized have the same number of samples\n",
        "print(f\"X_train_normalized shape: {X_train_normalized.shape}\")\n",
        "print(f\"y_train_normalized shape: {y_train_normalized.shape}\")\n",
        "\n",
        "# Ensure they have the same length in the first dimension\n",
        "if len(X_train_normalized) != len(y_train_normalized):\n",
        "    raise ValueError(f\"Mismatch in number of samples: {len(X_train_normalized)} in X vs {len(y_train_normalized)} in y\")\n",
        "\n",
        "# Calculate train size\n",
        "train_size = int(0.8 * len(X_train_normalized))\n",
        "\n",
        "# Split the data while preserving the order\n",
        "X_train_split = X_train_normalized[:train_size]\n",
        "y_train_split = y_train_normalized[:train_size]\n",
        "\n",
        "X_val_split = X_train_normalized[train_size:]\n",
        "y_val_split = y_train_normalized[train_size:]\n",
        "\n",
        "\n",
        "# X_train_split = X_train_normalized\n",
        "# y_train_split = y_train_normalized\n",
        "\n",
        "# X_val_split = X_train_normalized1\n",
        "# y_val_split = y_train_normalized1\n",
        "\n",
        "print(f\"Train size: {train_size}, Validation size: {len(X_val_split)}\")\n"
      ]
    },
    {
      "cell_type": "code",
      "source": [
        "X_train_split.shape"
      ],
      "metadata": {
        "colab": {
          "base_uri": "https://localhost:8080/"
        },
        "id": "g6TiBUVyUx_z",
        "outputId": "da83d80a-77cb-443c-d3b3-328254a426c2"
      },
      "execution_count": null,
      "outputs": [
        {
          "output_type": "execute_result",
          "data": {
            "text/plain": [
              "torch.Size([18603, 600, 4])"
            ]
          },
          "metadata": {},
          "execution_count": 70
        }
      ]
    },
    {
      "cell_type": "code",
      "source": [
        "y_train_split.shape"
      ],
      "metadata": {
        "colab": {
          "base_uri": "https://localhost:8080/"
        },
        "id": "keE2KWC8U06S",
        "outputId": "0d93bf58-f540-4abe-96db-c6c60d6c6dcf"
      },
      "execution_count": null,
      "outputs": [
        {
          "output_type": "execute_result",
          "data": {
            "text/plain": [
              "torch.Size([44616, 600, 1])"
            ]
          },
          "metadata": {},
          "execution_count": 71
        }
      ]
    },
    {
      "cell_type": "code",
      "execution_count": null,
      "metadata": {
        "id": "csLAJyD43kt8"
      },
      "outputs": [],
      "source": []
    },
    {
      "cell_type": "markdown",
      "metadata": {
        "id": "o9D0YvUOqw2D"
      },
      "source": [
        "# **train with coolant**"
      ]
    },
    {
      "cell_type": "code",
      "execution_count": null,
      "metadata": {
        "colab": {
          "base_uri": "https://localhost:8080/"
        },
        "id": "_z0wpMf9gK-h",
        "outputId": "078f0baa-8a89-4554-b929-7cfbc74682f0"
      },
      "outputs": [
        {
          "output_type": "stream",
          "name": "stdout",
          "text": [
            "Epoch [1/250] ---- Training Loss: 1.0496 ---- Validation Loss: 0.865203 ------0.0001\n",
            "Epoch [2/250] ---- Training Loss: 0.8928 ---- Validation Loss: 0.785880 ------0.0001\n",
            "Epoch [3/250] ---- Training Loss: 0.8437 ---- Validation Loss: 0.759425 ------0.0001\n",
            "Epoch [4/250] ---- Training Loss: 0.8242 ---- Validation Loss: 0.766929 ------0.0001\n",
            "Epoch [5/250] ---- Training Loss: 0.8163 ---- Validation Loss: 0.757819 ------0.0001\n",
            "Epoch [6/250] ---- Training Loss: 0.8071 ---- Validation Loss: 0.753859 ------0.0001\n",
            "Epoch [7/250] ---- Training Loss: 0.8024 ---- Validation Loss: 0.754150 ------0.0001\n",
            "Epoch [8/250] ---- Training Loss: 0.8079 ---- Validation Loss: 0.761154 ------0.0001\n",
            "Epoch [9/250] ---- Training Loss: 0.7969 ---- Validation Loss: 0.754891 ------0.0001\n",
            "Epoch [10/250] ---- Training Loss: 0.7926 ---- Validation Loss: 0.754432 ------0.0001\n",
            "Epoch [11/250] ---- Training Loss: 0.7864 ---- Validation Loss: 0.751678 ------0.0001\n",
            "Epoch [12/250] ---- Training Loss: 0.7820 ---- Validation Loss: 0.751395 ------0.0001\n",
            "Epoch [13/250] ---- Training Loss: 0.7818 ---- Validation Loss: 0.746317 ------0.0001\n",
            "Epoch [14/250] ---- Training Loss: 0.7786 ---- Validation Loss: 0.746673 ------0.0001\n",
            "Epoch [15/250] ---- Training Loss: 0.7747 ---- Validation Loss: 0.741811 ------0.0001\n",
            "Epoch [16/250] ---- Training Loss: 0.7719 ---- Validation Loss: 0.744057 ------0.0001\n",
            "Epoch [17/250] ---- Training Loss: 0.7704 ---- Validation Loss: 0.742075 ------0.0001\n",
            "Epoch [18/250] ---- Training Loss: 0.7671 ---- Validation Loss: 0.741117 ------0.0001\n",
            "Epoch [19/250] ---- Training Loss: 0.7716 ---- Validation Loss: 0.741630 ------0.0001\n",
            "Epoch [20/250] ---- Training Loss: 0.7622 ---- Validation Loss: 0.738462 ------0.0001\n",
            "Epoch [21/250] ---- Training Loss: 0.7614 ---- Validation Loss: 0.742050 ------0.0001\n",
            "Epoch [22/250] ---- Training Loss: 0.7601 ---- Validation Loss: 0.747451 ------0.0001\n",
            "Epoch [23/250] ---- Training Loss: 0.7613 ---- Validation Loss: 0.753322 ------0.0001\n",
            "Epoch [24/250] ---- Training Loss: 0.7590 ---- Validation Loss: 0.734799 ------0.0001\n",
            "Epoch [25/250] ---- Training Loss: 0.7574 ---- Validation Loss: 0.724645 ------0.0001\n",
            "Epoch [26/250] ---- Training Loss: 0.7567 ---- Validation Loss: 0.733753 ------0.0001\n",
            "Epoch [27/250] ---- Training Loss: 0.7537 ---- Validation Loss: 0.734591 ------0.0001\n",
            "Epoch [28/250] ---- Training Loss: 0.7545 ---- Validation Loss: 0.749543 ------0.0001\n",
            "Epoch [29/250] ---- Training Loss: 0.7526 ---- Validation Loss: 0.739043 ------0.0001\n",
            "Epoch [30/250] ---- Training Loss: 0.7500 ---- Validation Loss: 0.764196 ------0.0001\n",
            "Epoch [31/250] ---- Training Loss: 0.7504 ---- Validation Loss: 0.756993 ------0.0001\n",
            "Epoch [32/250] ---- Training Loss: 0.7449 ---- Validation Loss: 0.714379 ------0.0001\n",
            "Epoch [33/250] ---- Training Loss: 0.7433 ---- Validation Loss: 0.700535 ------0.0001\n",
            "Epoch [34/250] ---- Training Loss: 0.7387 ---- Validation Loss: 0.699539 ------0.0001\n",
            "Epoch [35/250] ---- Training Loss: 0.7368 ---- Validation Loss: 0.708339 ------0.0001\n",
            "Epoch [36/250] ---- Training Loss: 0.7319 ---- Validation Loss: 0.730118 ------0.0001\n",
            "Epoch [37/250] ---- Training Loss: 0.7303 ---- Validation Loss: 0.710794 ------0.0001\n",
            "Epoch [38/250] ---- Training Loss: 0.7265 ---- Validation Loss: 0.738051 ------0.0001\n",
            "Epoch [39/250] ---- Training Loss: 0.7228 ---- Validation Loss: 0.680117 ------0.0001\n",
            "Epoch [40/250] ---- Training Loss: 0.7195 ---- Validation Loss: 0.678980 ------0.0001\n",
            "Epoch [41/250] ---- Training Loss: 0.7223 ---- Validation Loss: 0.686846 ------0.0001\n",
            "Epoch [42/250] ---- Training Loss: 0.7151 ---- Validation Loss: 0.674457 ------0.0001\n",
            "Epoch [43/250] ---- Training Loss: 0.7068 ---- Validation Loss: 0.704973 ------0.0001\n",
            "Epoch [44/250] ---- Training Loss: 0.7068 ---- Validation Loss: 0.738749 ------0.0001\n",
            "Epoch [45/250] ---- Training Loss: 0.7113 ---- Validation Loss: 0.678296 ------0.0001\n",
            "Epoch [46/250] ---- Training Loss: 0.7048 ---- Validation Loss: 0.667694 ------0.0001\n",
            "Epoch [47/250] ---- Training Loss: 0.7050 ---- Validation Loss: 0.677859 ------0.0001\n",
            "Epoch [48/250] ---- Training Loss: 0.6984 ---- Validation Loss: 0.702016 ------0.0001\n",
            "Epoch [49/250] ---- Training Loss: 0.6974 ---- Validation Loss: 0.673392 ------0.0001\n",
            "Epoch [50/250] ---- Training Loss: 0.6948 ---- Validation Loss: 0.671248 ------0.0001\n",
            "Epoch [51/250] ---- Training Loss: 0.6902 ---- Validation Loss: 0.685473 ------5e-05\n",
            "Epoch [52/250] ---- Training Loss: 0.6908 ---- Validation Loss: 0.723425 ------5e-05\n",
            "Epoch [53/250] ---- Training Loss: 0.6891 ---- Validation Loss: 0.675587 ------5e-05\n",
            "Epoch [54/250] ---- Training Loss: 0.6905 ---- Validation Loss: 0.735281 ------5e-05\n",
            "Epoch [55/250] ---- Training Loss: 0.6914 ---- Validation Loss: 0.667466 ------5e-05\n",
            "Epoch [56/250] ---- Training Loss: 0.6890 ---- Validation Loss: 0.720617 ------5e-05\n",
            "Epoch [57/250] ---- Training Loss: 0.6881 ---- Validation Loss: 0.665459 ------5e-05\n",
            "Epoch [58/250] ---- Training Loss: 0.6885 ---- Validation Loss: 0.667151 ------5e-05\n",
            "Epoch [59/250] ---- Training Loss: 0.6882 ---- Validation Loss: 0.668288 ------5e-05\n",
            "Epoch [60/250] ---- Training Loss: 0.6885 ---- Validation Loss: 0.728426 ------5e-05\n",
            "Epoch [61/250] ---- Training Loss: 0.6893 ---- Validation Loss: 0.670971 ------5e-05\n",
            "Epoch [62/250] ---- Training Loss: 0.6877 ---- Validation Loss: 0.685682 ------5e-05\n",
            "Epoch [63/250] ---- Training Loss: 0.6868 ---- Validation Loss: 0.667624 ------5e-05\n",
            "Epoch [64/250] ---- Training Loss: 0.6848 ---- Validation Loss: 0.667913 ------5e-05\n",
            "Epoch [65/250] ---- Training Loss: 0.6852 ---- Validation Loss: 0.686321 ------5e-05\n",
            "Epoch [66/250] ---- Training Loss: 0.6862 ---- Validation Loss: 0.669811 ------5e-05\n",
            "Epoch [67/250] ---- Training Loss: 0.6867 ---- Validation Loss: 0.664468 ------5e-05\n",
            "Epoch [68/250] ---- Training Loss: 0.6842 ---- Validation Loss: 0.660043 ------5e-05\n",
            "Epoch [69/250] ---- Training Loss: 0.6855 ---- Validation Loss: 0.683820 ------5e-05\n",
            "Epoch [70/250] ---- Training Loss: 0.6828 ---- Validation Loss: 0.671407 ------5e-05\n",
            "Epoch [71/250] ---- Training Loss: 0.6839 ---- Validation Loss: 0.673202 ------5e-05\n",
            "Epoch [72/250] ---- Training Loss: 0.6860 ---- Validation Loss: 0.706570 ------5e-05\n",
            "Epoch [73/250] ---- Training Loss: 0.6840 ---- Validation Loss: 0.660228 ------5e-05\n",
            "Epoch [74/250] ---- Training Loss: 0.6841 ---- Validation Loss: 0.694462 ------5e-05\n",
            "Epoch [75/250] ---- Training Loss: 0.6831 ---- Validation Loss: 0.668854 ------5e-05\n",
            "Epoch [76/250] ---- Training Loss: 0.6831 ---- Validation Loss: 0.698040 ------5e-05\n",
            "Epoch [77/250] ---- Training Loss: 0.6821 ---- Validation Loss: 0.704599 ------5e-05\n",
            "Epoch [78/250] ---- Training Loss: 0.6828 ---- Validation Loss: 0.682134 ------5e-05\n",
            "Epoch [79/250] ---- Training Loss: 0.6832 ---- Validation Loss: 0.714493 ------5e-05\n",
            "Epoch [80/250] ---- Training Loss: 0.6815 ---- Validation Loss: 0.681524 ------5e-05\n",
            "Early stopping at epoch 80\n",
            "Saved model: best_fuel_consumption_model.pth\n"
          ]
        }
      ],
      "source": [
        "import torch\n",
        "import torch.nn as nn\n",
        "import torch.optim as optim\n",
        "from torch.optim.lr_scheduler import StepLR  # Importing StepLR for learning rate decay\n",
        "from torch.optim.lr_scheduler import ReduceLROnPlateau\n",
        "# Assuming `FuelConsumptionModel`, `X_train_normalized`, `train_loader`, `val_loader`, `DEVICE`, and `EPOCHS` are defined\n",
        "\n",
        "# Choose a single loss function to use for all experiments\n",
        "criterion = nn.L1Loss()  # You can change this to your preferred loss function\n",
        "\n",
        "EPOCHS = 250\n",
        "# Define weight decay values and initial learning rates for decay schedules\n",
        "weight_decay_values = 1e-5\n",
        "initial_learning_rates = [1e-4]  # Two starting learning rates\n",
        "\n",
        "# Initialize variables to track the best parameters\n",
        "best_weight_decay = None\n",
        "best_initial_lr = None\n",
        "best_model_weights = None\n",
        "best_val_loss = float('inf')\n",
        "\n",
        "ini_batches = [64]\n",
        "# Loop over all combinations of initial learning rates and weight decay values\n",
        "\n",
        "BATCH_SIZE = 64\n",
        "# Create DataLoader for training and validation sets\n",
        "train_loader = DataLoader(TensorDataset(X_train_split, y_train_split), batch_size=BATCH_SIZE, shuffle=True)\n",
        "val_loader = DataLoader(TensorDataset(X_val_split, y_val_split), batch_size=BATCH_SIZE, shuffle=False)\n",
        "\n",
        "for init_lr in initial_learning_rates:\n",
        "    # Initialize model, criterion, and optimizer for each combination\n",
        "    model = FuelConsumptionModel(input_size=X_train_split.shape[-1]).to(DEVICE)\n",
        "    optimizer = optim.Adam(model.parameters(), lr=init_lr, weight_decay=weight_decay_values)\n",
        "    # scheduler = ReduceLROnPlateau(optimizer, mode='min', factor=0.5, patience=5, verbose=True)\n",
        "    scheduler = StepLR(optimizer, step_size=50, gamma=0.5)  # Decay LR by 0.5 every 50 epochs\n",
        "\n",
        "    # Early stopping parameters\n",
        "    patience = 12  # Number of epochs to wait before stopping if no improvement\n",
        "    best_loss = float('inf')  # Initialize best loss to infinity\n",
        "    epochs_without_improvement = 0  # Counter for epochs without improvement\n",
        "\n",
        "    # Training loop with early stopping\n",
        "    model.train()\n",
        "    for epoch in range(EPOCHS):\n",
        "        running_loss = 0.0\n",
        "        model.train()  # Ensure model is in training mode\n",
        "\n",
        "        # Training phase\n",
        "        for inputs, targets in train_loader:\n",
        "            inputs, targets = inputs.to(DEVICE), targets.to(DEVICE)  # Ensure data is on the correct device\n",
        "            optimizer.zero_grad()\n",
        "            outputs = model(inputs)\n",
        "            loss = criterion(outputs, targets)\n",
        "            loss.backward()\n",
        "            optimizer.step()\n",
        "            running_loss += loss.item()\n",
        "\n",
        "        # Calculate average loss for the epoch\n",
        "        avg_training_loss = running_loss / len(train_loader)\n",
        "\n",
        "        # Validation phase\n",
        "        model.eval()  # Switch to evaluation mode\n",
        "        val_running_loss = 0.0\n",
        "        with torch.no_grad():\n",
        "            for inputs, targets in val_loader:  # Assume you have a validation DataLoader `val_loader`\n",
        "                inputs, targets = inputs.to(DEVICE), targets.to(DEVICE)  # Ensure data is on the correct device\n",
        "                # print(inputs.shape)\n",
        "                # print(targets.shape)\n",
        "                outputs = model(inputs)\n",
        "                # print(outputs.shape)\n",
        "                val_loss = criterion(outputs, targets)\n",
        "                val_running_loss += val_loss.item()\n",
        "\n",
        "        avg_val_loss = val_running_loss / len(val_loader)\n",
        "\n",
        "        current_lr = optimizer.param_groups[0]['lr']\n",
        "        print(f\"Epoch [{epoch+1}/{EPOCHS}] ---- Training Loss: {avg_training_loss:.4f} ---- Validation Loss: {avg_val_loss:.6f} ------{current_lr}\")\n",
        "\n",
        "        # print(f\"Epoch [{epoch+1}/{EPOCHS}] ---- Training Loss: {avg_training_loss:.4f} ---- Validation Loss: {avg_val_loss:.4f}    Init LR: {init_lr:.0e}  WD: {wd:.0e}\")\n",
        "\n",
        "        # Adjust the learning rate\n",
        "        # scheduler.step(avg_val_loss)\n",
        "        scheduler.step()\n",
        "\n",
        "        # Early stopping check\n",
        "        if avg_val_loss < best_loss:\n",
        "            best_loss = avg_val_loss\n",
        "            epochs_without_improvement = 0\n",
        "        else:\n",
        "            epochs_without_improvement += 1\n",
        "            if epochs_without_improvement >= patience:\n",
        "                print(f\"Early stopping at epoch {epoch+1}\")\n",
        "                break\n",
        "\n",
        "        # Save the model for the current combination\n",
        "        model_filename = f'best_fuel_consumption_model.pth'\n",
        "        torch.save(model.state_dict(), model_filename)\n",
        "\n",
        "\n",
        "print(f\"Saved model: {model_filename}\")"
      ]
    },
    {
      "cell_type": "markdown",
      "metadata": {
        "id": "_AsqnD9lqzQj"
      },
      "source": [
        "# **train without coolant**"
      ]
    },
    {
      "cell_type": "markdown",
      "metadata": {
        "id": "7o2xWWKvmT67"
      },
      "source": []
    },
    {
      "cell_type": "markdown",
      "metadata": {
        "id": "U1P_IJRN1eql"
      },
      "source": [
        "# **fine tuning model**"
      ]
    },
    {
      "cell_type": "code",
      "execution_count": null,
      "metadata": {
        "id": "1nSQ1RKLHOt_"
      },
      "outputs": [],
      "source": [
        "data = np.load('/content/gdrive/MyDrive/fine_tune600.npz')\n",
        "data1 = np.load('/content/gdrive/MyDrive/fine_tune600.npz')"
      ]
    },
    {
      "cell_type": "code",
      "execution_count": null,
      "metadata": {
        "id": "FGJYzvG3HOt_"
      },
      "outputs": [],
      "source": [
        "\n",
        "\n",
        "\n",
        "X_original = data['X_original']\n",
        "y_original = data['y_original']\n",
        "X_augmented = data['X_augmented']\n",
        "y_augmented = data['y_augmented']\n",
        "\n",
        "\n",
        "X_original1 = data1['X_original']\n",
        "y_original1 = data1['y_original']\n",
        "X_augmented1 = data1['X_augmented']\n",
        "y_augmented1 = data1['y_augmented']\n",
        "\n",
        "\n",
        "# Convert data to PyTorch tensors\n",
        "try:\n",
        "    X_original = torch.tensor(np.array(X_original), dtype=torch.float32).to(DEVICE)\n",
        "    y_original = torch.tensor(np.array(y_original), dtype=torch.float32).to(DEVICE)\n",
        "    X_augmented = torch.tensor(np.array(X_augmented), dtype=torch.float32).to(DEVICE)\n",
        "    y_augmented = torch.tensor(np.array(y_augmented), dtype=torch.float32).to(DEVICE)\n",
        "except Exception as e:\n",
        "    print(f\"Error during tensor conversion: {e}\")\n",
        "    print(f\"Shapes: X_original - {np.array(X_original).shape}, y_original - {np.array(y_original).shape}\")\n",
        "    print(f\"Shapes: X_augmented - {np.array(X_augmented).shape}, y_augmented - {np.array(y_augmented).shape}\")\n",
        "    raise\n",
        "\n",
        "\n",
        "# Convert data to PyTorch tensors\n",
        "try:\n",
        "    X_original1 = torch.tensor(np.array(X_original1), dtype=torch.float32).to(DEVICE)\n",
        "    y_original1 = torch.tensor(np.array(y_original1), dtype=torch.float32).to(DEVICE)\n",
        "    X_augmented1 = torch.tensor(np.array(X_augmented1), dtype=torch.float32).to(DEVICE)\n",
        "    y_augmented1 = torch.tensor(np.array(y_augmented1), dtype=torch.float32).to(DEVICE)\n",
        "except Exception as e:\n",
        "    print(f\"Error during tensor conversion: {e}\")\n",
        "    print(f\"Shapes: X_original1 - {np.array(X_original1).shape}, y_original1 - {np.array(y_original1).shape}\")\n",
        "    print(f\"Shapes: X_augmented1 - {np.array(X_augmented1).shape}, y_augmented1 - {np.array(y_augmented1).shape}\")\n",
        "    raise\n",
        "\n",
        "\n",
        "X_train = torch.cat([X_original, X_augmented])\n",
        "y_train = torch.cat([y_original, y_augmented])\n",
        "\n",
        "X_train1 = torch.cat([X_original1, X_augmented1])\n",
        "y_train1 = torch.cat([y_original1, y_augmented1])"
      ]
    },
    {
      "cell_type": "code",
      "execution_count": null,
      "metadata": {
        "id": "_OtUM9LhH6BR"
      },
      "outputs": [],
      "source": [
        "# this cell for delete coolant temp from data\n",
        "X_train = X_train[:, :, :-1]  # Slicing to exclude the last column\n",
        "X_train1 = X_train1[:, :, :-1]  # Slicing to exclude the last column\n"
      ]
    },
    {
      "cell_type": "code",
      "execution_count": null,
      "metadata": {
        "id": "K30XCIyEJ0lQ"
      },
      "outputs": [],
      "source": [
        "X_train = torch.nan_to_num(X_train, nan=0.0)"
      ]
    },
    {
      "cell_type": "code",
      "execution_count": null,
      "metadata": {
        "id": "obfO6lqvHOt_"
      },
      "outputs": [],
      "source": [
        "\n",
        "# Convert the min and max values to tensors\n",
        "min_val_x = torch.tensor([0, 0, -10, -10,0], dtype=torch.float32).to(DEVICE)\n",
        "max_val_x = torch.tensor([6, 150, 10, 10,130], dtype=torch.float32).to(DEVICE)\n",
        "\n",
        "#for without coolant\n",
        "min_val_x = torch.tensor([0, 0, -10, -10], dtype=torch.float32).to(DEVICE)\n",
        "max_val_x = torch.tensor([6, 150, 10, 10], dtype=torch.float32).to(DEVICE)\n",
        "\n",
        "\n",
        "min_val_y = torch.tensor([0], dtype=torch.float32).to(DEVICE)\n",
        "max_val_y = torch.tensor([10000], dtype=torch.float32).to(DEVICE)\n",
        "\n",
        "# Custom normalization function for X\n",
        "def custom_normalize_X(data, min_vals, max_vals):\n",
        "    for i in range(data.shape[-1]):\n",
        "        data[:, :, i] = (data[:, :, i] - min_vals[i]) / (max_vals[i] - min_vals[i])\n",
        "    return data\n",
        "\n",
        "# Custom normalization function for y\n",
        "def custom_normalize_y(data, min_val, max_val):\n",
        "    return (data - min_val) / (max_val - min_val)\n",
        "\n",
        "# Normalize X_train and X_test\n",
        "X_train_normalized = custom_normalize_X(X_train, min_val_x, max_val_x)\n",
        "# X_test_normalized = custom_normalize_X(X_test, min_val_x, max_val_x)\n",
        "\n",
        "# Normalize y_train and y_test\n",
        "y_train_normalized = custom_normalize_y(y_train, min_val_y, max_val_y)\n",
        "# y_test_normalized = custom_normalize_y(y_test, min_val_y, max_val_y)\n",
        "\n",
        "\n",
        "# Normalize X_train and X_test\n",
        "X_train_normalized1 = custom_normalize_X(X_train1, min_val_x, max_val_x)\n",
        "# X_test_normalized = custom_normalize_X(X_test, min_val_x, max_val_x)\n",
        "\n",
        "# Normalize y_train and y_test\n",
        "y_train_normalized1 = custom_normalize_y(y_train1, min_val_y, max_val_y)\n",
        "# y_test_normalized = custom_normalize_y(y_test, min_val_y, max_val_y)\n"
      ]
    },
    {
      "cell_type": "code",
      "execution_count": null,
      "metadata": {
        "colab": {
          "base_uri": "https://localhost:8080/"
        },
        "id": "1SIX2BFyIqyn",
        "outputId": "1b918554-b2f4-4ac7-9b82-a35072cec78f"
      },
      "outputs": [
        {
          "data": {
            "text/plain": [
              "tensor([[[0.8333, 0.6067, 0.5355, 0.5000],\n",
              "         [0.8333, 0.6133, 0.5355, 0.5500],\n",
              "         [0.8333, 0.6200, 0.5355, 0.5500],\n",
              "         ...,\n",
              "         [0.8333, 0.7200, 0.5846, 0.3000],\n",
              "         [0.8333, 0.7000, 0.5846, 0.3500],\n",
              "         [0.8333, 0.6733, 0.5846, 0.3000]],\n",
              "\n",
              "        [[0.8333, 0.8733, 0.5363, 0.5000],\n",
              "         [0.8333, 0.8800, 0.5363, 0.5500],\n",
              "         [0.8333, 0.8867, 0.5363, 0.5500],\n",
              "         ...,\n",
              "         [0.1667, 0.0533, 0.5648, 0.5500],\n",
              "         [0.1667, 0.0533, 0.5648, 0.5000],\n",
              "         [0.1667, 0.0533, 0.5000, 0.5000]],\n",
              "\n",
              "        [[0.8333, 0.7800, 0.4805, 0.5000],\n",
              "         [0.8333, 0.7867, 0.4805, 0.5500],\n",
              "         [0.8333, 0.7933, 0.4805, 0.5500],\n",
              "         ...,\n",
              "         [0.8333, 0.7200, 0.5904, 0.5000],\n",
              "         [0.8333, 0.7133, 0.5904, 0.4500],\n",
              "         [0.8333, 0.7133, 0.5904, 0.5000]],\n",
              "\n",
              "        ...,\n",
              "\n",
              "        [[0.8333, 0.6733, 0.5455, 0.4500],\n",
              "         [0.8333, 0.6733, 0.5455, 0.5000],\n",
              "         [0.8333, 0.6733, 0.5455, 0.5000],\n",
              "         ...,\n",
              "         [0.6667, 0.4000, 0.6727, 0.6500],\n",
              "         [0.6667, 0.4133, 0.6727, 0.6000],\n",
              "         [0.6667, 0.4267, 0.5000, 0.6000]],\n",
              "\n",
              "        [[0.6667, 0.4467, 0.6496, 0.6500],\n",
              "         [0.6667, 0.4667, 0.6496, 0.6500],\n",
              "         [0.6667, 0.4800, 0.6496, 0.6000],\n",
              "         ...,\n",
              "         [0.6667, 0.7933, 0.5417, 0.4000],\n",
              "         [0.6667, 0.7800, 0.5417, 0.4000],\n",
              "         [0.6667, 0.7800, 0.5000, 0.5000]],\n",
              "\n",
              "        [[0.6667, 0.7667, 0.4890, 0.4000],\n",
              "         [0.6667, 0.7467, 0.4890, 0.3500],\n",
              "         [0.6667, 0.7200, 0.4890, 0.3000],\n",
              "         ...,\n",
              "         [0.6667, 0.8867, 0.4464, 0.6000],\n",
              "         [0.6667, 0.9067, 0.4464, 0.6500],\n",
              "         [0.6667, 0.9267, 0.3698, 0.6500]]], device='cuda:0')"
            ]
          },
          "execution_count": 35,
          "metadata": {},
          "output_type": "execute_result"
        }
      ],
      "source": [
        "X_train_normalized"
      ]
    },
    {
      "cell_type": "code",
      "execution_count": null,
      "metadata": {
        "id": "vMglnLKkKiXL"
      },
      "outputs": [],
      "source": []
    },
    {
      "cell_type": "code",
      "execution_count": null,
      "metadata": {
        "colab": {
          "base_uri": "https://localhost:8080/"
        },
        "id": "Jt8BDh0YJWVQ",
        "outputId": "05150e73-f4e2-474f-86dc-1306657b1967"
      },
      "outputs": [
        {
          "name": "stdout",
          "output_type": "stream",
          "text": [
            "The tensor does not contain any NaN values.\n"
          ]
        }
      ],
      "source": [
        "has_nan = torch.isnan(X_train).any()\n",
        "\n",
        "if has_nan:\n",
        "    print(\"The tensor contains NaN values.\")\n",
        "else:\n",
        "    print(\"The tensor does not contain any NaN values.\")"
      ]
    },
    {
      "cell_type": "code",
      "execution_count": null,
      "metadata": {
        "colab": {
          "base_uri": "https://localhost:8080/"
        },
        "id": "DfGjH8V9H0Up",
        "outputId": "d5c7f742-b9ff-40d2-91ef-078f32a6bd75"
      },
      "outputs": [
        {
          "name": "stderr",
          "output_type": "stream",
          "text": [
            "<ipython-input-114-d35190ccdb36>:40: FutureWarning: You are using `torch.load` with `weights_only=False` (the current default value), which uses the default pickle module implicitly. It is possible to construct malicious pickle data which will execute arbitrary code during unpickling (See https://github.com/pytorch/pytorch/blob/main/SECURITY.md#untrusted-models for more details). In a future release, the default value for `weights_only` will be flipped to `True`. This limits the functions that could be executed during unpickling. Arbitrary objects will no longer be allowed to be loaded via this mode unless they are explicitly allowlisted by the user via `torch.serialization.add_safe_globals`. We recommend you start setting `weights_only=True` for any use case where you don't have full control of the loaded file. Please open an issue on GitHub for any issues related to this experimental feature.\n",
            "  model.load_state_dict(torch.load(model_path, map_location=DEVICE))\n"
          ]
        }
      ],
      "source": [
        "import torch\n",
        "import torch.nn as nn\n",
        "\n",
        "class FuelConsumptionModel(nn.Module):\n",
        "    def __init__(self, input_size):\n",
        "        super(FuelConsumptionModel, self).__init__()\n",
        "        # LSTM layers\n",
        "        self.lstm1 = nn.LSTM(input_size, 32, batch_first=True, bidirectional=True)\n",
        "        self.lstm2 = nn.LSTM(64, 32, batch_first=True, bidirectional=True)\n",
        "\n",
        "        # Layer Normalization after each LSTM\n",
        "        self.layer_norm1 = nn.LayerNorm(64)\n",
        "        self.layer_norm2 = nn.LayerNorm(64)\n",
        "\n",
        "        # Dropout layers\n",
        "        self.dropout1 = nn.Dropout(0.2)\n",
        "        self.dropout2 = nn.Dropout(0.2)\n",
        "\n",
        "        # Dense output layer\n",
        "        self.dense = nn.Linear(64, 1)\n",
        "\n",
        "    def forward(self, x):\n",
        "        # LSTM 1 + Layer Normalization + Dropout\n",
        "        x, _ = self.lstm1(x)\n",
        "        x = self.layer_norm1(x)\n",
        "        x = self.dropout1(x)\n",
        "\n",
        "        # LSTM 2 + Layer Normalization + Dropout\n",
        "        x, _ = self.lstm2(x)\n",
        "        x = self.layer_norm2(x)\n",
        "        x = self.dropout2(x)\n",
        "\n",
        "        # Dense layer for final output\n",
        "        x = self.dense(x)\n",
        "        return x\n",
        "\n",
        "# Function to load the pre-trained model and freeze the first layer\n",
        "def load_and_freeze_model(model_path, input_size):\n",
        "    model = FuelConsumptionModel(input_size=input_size)\n",
        "    model.load_state_dict(torch.load(model_path, map_location=DEVICE))\n",
        "    model.to(DEVICE)\n",
        "\n",
        "    # Freeze the first LSTM layer\n",
        "    for param in model.lstm1.parameters():\n",
        "        param.requires_grad = False\n",
        "\n",
        "\n",
        "    model.eval()\n",
        "    return model\n",
        "\n",
        "# Example usage\n",
        "model_path = '/content/sample_data/normal_old_without.pth'  # Replace with the actual path\n",
        "input_size = 4  # Update this according to your input size\n",
        "\n",
        "# Load the model with the first layer frozen\n",
        "model = load_and_freeze_model(model_path, input_size)\n",
        "\n",
        "# Now, the model is ready for fine-tuning on new data.\n",
        "# Only the parameters of the layers after lstm1 will be updated during training.\n"
      ]
    },
    {
      "cell_type": "code",
      "execution_count": null,
      "metadata": {
        "colab": {
          "base_uri": "https://localhost:8080/"
        },
        "id": "N90XLI9v1hxd",
        "outputId": "868168ed-e8c5-41b3-bb8c-94905332723e"
      },
      "outputs": [
        {
          "name": "stderr",
          "output_type": "stream",
          "text": [
            "<ipython-input-105-397ac4701523>:40: FutureWarning: You are using `torch.load` with `weights_only=False` (the current default value), which uses the default pickle module implicitly. It is possible to construct malicious pickle data which will execute arbitrary code during unpickling (See https://github.com/pytorch/pytorch/blob/main/SECURITY.md#untrusted-models for more details). In a future release, the default value for `weights_only` will be flipped to `True`. This limits the functions that could be executed during unpickling. Arbitrary objects will no longer be allowed to be loaded via this mode unless they are explicitly allowlisted by the user via `torch.serialization.add_safe_globals`. We recommend you start setting `weights_only=True` for any use case where you don't have full control of the loaded file. Please open an issue on GitHub for any issues related to this experimental feature.\n",
            "  model.load_state_dict(torch.load(model_path, map_location=DEVICE))\n"
          ]
        }
      ],
      "source": [
        "import torch\n",
        "import torch.nn as nn\n",
        "\n",
        "class FuelConsumptionModel(nn.Module):\n",
        "    def __init__(self, input_size):\n",
        "        super(FuelConsumptionModel, self).__init__()\n",
        "        # LSTM layers\n",
        "        self.lstm1 = nn.LSTM(input_size, 32, batch_first=True, bidirectional=True)\n",
        "        self.lstm2 = nn.LSTM(64, 32, batch_first=True, bidirectional=True)\n",
        "\n",
        "        # Layer Normalization after each LSTM\n",
        "        self.layer_norm1 = nn.LayerNorm(64)\n",
        "        self.layer_norm2 = nn.LayerNorm(64)\n",
        "\n",
        "        # Dropout layers\n",
        "        self.dropout1 = nn.Dropout(0.2)\n",
        "        self.dropout2 = nn.Dropout(0.2)\n",
        "\n",
        "        # Dense output layer\n",
        "        self.dense = nn.Linear(64, 1)\n",
        "\n",
        "    def forward(self, x):\n",
        "        # LSTM 1 + Layer Normalization + Dropout\n",
        "        x, _ = self.lstm1(x)\n",
        "        x = self.layer_norm1(x)\n",
        "        x = self.dropout1(x)\n",
        "\n",
        "        # LSTM 2 + Layer Normalization + Dropout\n",
        "        x, _ = self.lstm2(x)\n",
        "        x = self.layer_norm2(x)\n",
        "        x = self.dropout2(x)\n",
        "\n",
        "        # Dense layer for final output\n",
        "        x = self.dense(x)\n",
        "        return x\n",
        "\n",
        "# Function to load the pre-trained model and freeze all except the dense layer\n",
        "def load_and_freeze_model(model_path, input_size):\n",
        "    model = FuelConsumptionModel(input_size=input_size)\n",
        "    model.load_state_dict(torch.load(model_path, map_location=DEVICE))\n",
        "    model.to(DEVICE)\n",
        "\n",
        "    # Freeze all parameters except the dense (linear) layer\n",
        "    # for name, param in model.named_parameters():\n",
        "    #     if 'dense' not in name:\n",
        "    #         param.requires_grad = False\n",
        "\n",
        "    model.eval()\n",
        "    return model\n",
        "\n",
        "# Example usage\n",
        "model_path = '/content/sample_data/normal_old_without.pth'  # Replace with the actual path\n",
        "input_size = 4  # Update this according to your input size\n",
        "\n",
        "# Load the model with only the dense layer unfrozen\n",
        "model = load_and_freeze_model(model_path, input_size)\n",
        "\n",
        "# Now, only the dense layer parameters will be updated during fine-tuning.\n"
      ]
    },
    {
      "cell_type": "code",
      "execution_count": null,
      "metadata": {
        "colab": {
          "base_uri": "https://localhost:8080/"
        },
        "id": "t-CT_KKMIcDg",
        "outputId": "e933632a-e6cf-4239-a1fc-2ad66153b0a8"
      },
      "outputs": [
        {
          "name": "stdout",
          "output_type": "stream",
          "text": [
            "X_train_normalized shape: torch.Size([20718, 600, 4])\n",
            "y_train_normalized shape: torch.Size([20718, 600, 1])\n",
            "Train size: 16574, Validation size: 4144\n"
          ]
        }
      ],
      "source": [
        "# Check if X_train_normalized and y_train_normalized have the same number of samples\n",
        "print(f\"X_train_normalized shape: {X_train_normalized.shape}\")\n",
        "print(f\"y_train_normalized shape: {y_train_normalized.shape}\")\n",
        "\n",
        "# Ensure they have the same length in the first dimension\n",
        "if len(X_train_normalized) != len(y_train_normalized):\n",
        "    raise ValueError(f\"Mismatch in number of samples: {len(X_train_normalized)} in X vs {len(y_train_normalized)} in y\")\n",
        "\n",
        "# Calculate train size\n",
        "train_size = int(0.8 * len(X_train_normalized))\n",
        "\n",
        "# Split the data while preserving the order\n",
        "X_train_split = X_train_normalized[:train_size]\n",
        "y_train_split = y_train_normalized[:train_size]\n",
        "\n",
        "X_val_split = X_train_normalized[train_size:]\n",
        "y_val_split = y_train_normalized[train_size:]\n",
        "\n",
        "\n",
        "# X_train_split = X_train_normalized\n",
        "# y_train_split = y_train_normalized\n",
        "\n",
        "# X_val_split = X_train_normalized1\n",
        "# y_val_split = y_train_normalized1\n",
        "\n",
        "print(f\"Train size: {train_size}, Validation size: {len(X_val_split)}\")\n"
      ]
    },
    {
      "cell_type": "code",
      "execution_count": null,
      "metadata": {
        "colab": {
          "base_uri": "https://localhost:8080/"
        },
        "id": "5CwEy-LmI5mQ",
        "outputId": "2fd60469-d202-41a6-be6b-edbc1aefe7e6"
      },
      "outputs": [
        {
          "data": {
            "text/plain": [
              "FuelConsumptionModel(\n",
              "  (lstm1): LSTM(4, 32, batch_first=True, bidirectional=True)\n",
              "  (lstm2): LSTM(64, 32, batch_first=True, bidirectional=True)\n",
              "  (layer_norm1): LayerNorm((64,), eps=1e-05, elementwise_affine=True)\n",
              "  (layer_norm2): LayerNorm((64,), eps=1e-05, elementwise_affine=True)\n",
              "  (dropout1): Dropout(p=0.2, inplace=False)\n",
              "  (dropout2): Dropout(p=0.2, inplace=False)\n",
              "  (dense): Linear(in_features=64, out_features=1, bias=True)\n",
              ")"
            ]
          },
          "execution_count": 24,
          "metadata": {},
          "output_type": "execute_result"
        }
      ],
      "source": [
        "model"
      ]
    },
    {
      "cell_type": "code",
      "execution_count": null,
      "metadata": {
        "colab": {
          "background_save": true,
          "base_uri": "https://localhost:8080/"
        },
        "id": "mYccHvJmIMgY",
        "outputId": "cb05d985-7473-419c-b375-8c4d57bde7a3"
      },
      "outputs": [
        {
          "name": "stderr",
          "output_type": "stream",
          "text": [
            "<ipython-input-114-d35190ccdb36>:40: FutureWarning: You are using `torch.load` with `weights_only=False` (the current default value), which uses the default pickle module implicitly. It is possible to construct malicious pickle data which will execute arbitrary code during unpickling (See https://github.com/pytorch/pytorch/blob/main/SECURITY.md#untrusted-models for more details). In a future release, the default value for `weights_only` will be flipped to `True`. This limits the functions that could be executed during unpickling. Arbitrary objects will no longer be allowed to be loaded via this mode unless they are explicitly allowlisted by the user via `torch.serialization.add_safe_globals`. We recommend you start setting `weights_only=True` for any use case where you don't have full control of the loaded file. Please open an issue on GitHub for any issues related to this experimental feature.\n",
            "  model.load_state_dict(torch.load(model_path, map_location=DEVICE))\n",
            "/usr/local/lib/python3.10/dist-packages/torch/optim/lr_scheduler.py:62: UserWarning: The verbose parameter is deprecated. Please use get_last_lr() to access the learning rate.\n",
            "  warnings.warn(\n"
          ]
        },
        {
          "name": "stdout",
          "output_type": "stream",
          "text": [
            "Epoch [1/250] ---- Training Loss: 0.0682 ---- Validation Loss: 0.052601 ------0.0001\n",
            "Epoch [2/250] ---- Training Loss: 0.0539 ---- Validation Loss: 0.047317 ------0.0001\n",
            "Epoch [3/250] ---- Training Loss: 0.0511 ---- Validation Loss: 0.045535 ------0.0001\n",
            "Epoch [4/250] ---- Training Loss: 0.0498 ---- Validation Loss: 0.044335 ------0.0001\n",
            "Epoch [5/250] ---- Training Loss: 0.0489 ---- Validation Loss: 0.043548 ------0.0001\n",
            "Epoch [6/250] ---- Training Loss: 0.0482 ---- Validation Loss: 0.042861 ------0.0001\n",
            "Epoch [7/250] ---- Training Loss: 0.0476 ---- Validation Loss: 0.042284 ------0.0001\n",
            "Epoch [8/250] ---- Training Loss: 0.0471 ---- Validation Loss: 0.041677 ------0.0001\n",
            "Epoch [9/250] ---- Training Loss: 0.0466 ---- Validation Loss: 0.041319 ------0.0001\n",
            "Epoch [10/250] ---- Training Loss: 0.0462 ---- Validation Loss: 0.040846 ------0.0001\n",
            "Epoch [11/250] ---- Training Loss: 0.0459 ---- Validation Loss: 0.040398 ------0.0001\n",
            "Epoch [12/250] ---- Training Loss: 0.0455 ---- Validation Loss: 0.040073 ------0.0001\n",
            "Epoch [13/250] ---- Training Loss: 0.0453 ---- Validation Loss: 0.039798 ------0.0001\n",
            "Epoch [14/250] ---- Training Loss: 0.0450 ---- Validation Loss: 0.039525 ------0.0001\n",
            "Epoch [15/250] ---- Training Loss: 0.0448 ---- Validation Loss: 0.039265 ------0.0001\n",
            "Epoch [16/250] ---- Training Loss: 0.0446 ---- Validation Loss: 0.039210 ------0.0001\n",
            "Epoch [17/250] ---- Training Loss: 0.0444 ---- Validation Loss: 0.038909 ------0.0001\n",
            "Epoch [18/250] ---- Training Loss: 0.0443 ---- Validation Loss: 0.038784 ------0.0001\n",
            "Epoch [19/250] ---- Training Loss: 0.0441 ---- Validation Loss: 0.038533 ------0.0001\n",
            "Epoch [20/250] ---- Training Loss: 0.0439 ---- Validation Loss: 0.038291 ------0.0001\n",
            "Epoch [21/250] ---- Training Loss: 0.0438 ---- Validation Loss: 0.038108 ------0.0001\n",
            "Epoch [22/250] ---- Training Loss: 0.0436 ---- Validation Loss: 0.037925 ------0.0001\n",
            "Epoch [23/250] ---- Training Loss: 0.0435 ---- Validation Loss: 0.037726 ------0.0001\n",
            "Epoch [24/250] ---- Training Loss: 0.0433 ---- Validation Loss: 0.037569 ------0.0001\n",
            "Epoch [25/250] ---- Training Loss: 0.0432 ---- Validation Loss: 0.037406 ------0.0001\n",
            "Epoch [26/250] ---- Training Loss: 0.0431 ---- Validation Loss: 0.037294 ------0.0001\n",
            "Epoch [27/250] ---- Training Loss: 0.0429 ---- Validation Loss: 0.037135 ------0.0001\n",
            "Epoch [28/250] ---- Training Loss: 0.0428 ---- Validation Loss: 0.036982 ------0.0001\n",
            "Epoch [29/250] ---- Training Loss: 0.0427 ---- Validation Loss: 0.036860 ------0.0001\n",
            "Epoch [30/250] ---- Training Loss: 0.0426 ---- Validation Loss: 0.036770 ------0.0001\n",
            "Epoch [31/250] ---- Training Loss: 0.0425 ---- Validation Loss: 0.036588 ------0.0001\n",
            "Epoch [32/250] ---- Training Loss: 0.0423 ---- Validation Loss: 0.036400 ------0.0001\n",
            "Epoch [33/250] ---- Training Loss: 0.0422 ---- Validation Loss: 0.036327 ------0.0001\n",
            "Epoch [34/250] ---- Training Loss: 0.0421 ---- Validation Loss: 0.036259 ------0.0001\n",
            "Epoch [35/250] ---- Training Loss: 0.0420 ---- Validation Loss: 0.036187 ------0.0001\n",
            "Epoch [36/250] ---- Training Loss: 0.0419 ---- Validation Loss: 0.036036 ------0.0001\n",
            "Epoch [37/250] ---- Training Loss: 0.0419 ---- Validation Loss: 0.035903 ------0.0001\n",
            "Epoch [38/250] ---- Training Loss: 0.0418 ---- Validation Loss: 0.035808 ------0.0001\n",
            "Epoch [39/250] ---- Training Loss: 0.0417 ---- Validation Loss: 0.035730 ------0.0001\n",
            "Epoch [40/250] ---- Training Loss: 0.0416 ---- Validation Loss: 0.035668 ------0.0001\n",
            "Epoch [41/250] ---- Training Loss: 0.0415 ---- Validation Loss: 0.035552 ------0.0001\n",
            "Epoch [42/250] ---- Training Loss: 0.0414 ---- Validation Loss: 0.035478 ------0.0001\n",
            "Epoch [43/250] ---- Training Loss: 0.0414 ---- Validation Loss: 0.035374 ------0.0001\n",
            "Epoch [44/250] ---- Training Loss: 0.0413 ---- Validation Loss: 0.035435 ------0.0001\n",
            "Epoch [45/250] ---- Training Loss: 0.0412 ---- Validation Loss: 0.035196 ------0.0001\n",
            "Epoch [46/250] ---- Training Loss: 0.0411 ---- Validation Loss: 0.035282 ------0.0001\n",
            "Epoch [47/250] ---- Training Loss: 0.0411 ---- Validation Loss: 0.035106 ------0.0001\n",
            "Epoch [48/250] ---- Training Loss: 0.0410 ---- Validation Loss: 0.035081 ------0.0001\n",
            "Epoch [49/250] ---- Training Loss: 0.0410 ---- Validation Loss: 0.034948 ------0.0001\n",
            "Epoch [50/250] ---- Training Loss: 0.0409 ---- Validation Loss: 0.034878 ------0.0001\n",
            "Epoch [51/250] ---- Training Loss: 0.0408 ---- Validation Loss: 0.034771 ------0.0001\n",
            "Epoch [52/250] ---- Training Loss: 0.0408 ---- Validation Loss: 0.034706 ------0.0001\n",
            "Epoch [53/250] ---- Training Loss: 0.0407 ---- Validation Loss: 0.034727 ------0.0001\n",
            "Epoch [54/250] ---- Training Loss: 0.0406 ---- Validation Loss: 0.034676 ------0.0001\n",
            "Epoch [55/250] ---- Training Loss: 0.0406 ---- Validation Loss: 0.034536 ------0.0001\n",
            "Epoch [56/250] ---- Training Loss: 0.0405 ---- Validation Loss: 0.034470 ------0.0001\n",
            "Epoch [57/250] ---- Training Loss: 0.0405 ---- Validation Loss: 0.034433 ------0.0001\n",
            "Epoch [58/250] ---- Training Loss: 0.0404 ---- Validation Loss: 0.034357 ------0.0001\n",
            "Epoch [59/250] ---- Training Loss: 0.0403 ---- Validation Loss: 0.034322 ------0.0001\n",
            "Epoch [60/250] ---- Training Loss: 0.0403 ---- Validation Loss: 0.034221 ------0.0001\n",
            "Epoch [61/250] ---- Training Loss: 0.0402 ---- Validation Loss: 0.034234 ------0.0001\n",
            "Epoch [62/250] ---- Training Loss: 0.0402 ---- Validation Loss: 0.034151 ------0.0001\n",
            "Epoch [63/250] ---- Training Loss: 0.0401 ---- Validation Loss: 0.034127 ------0.0001\n",
            "Epoch [64/250] ---- Training Loss: 0.0401 ---- Validation Loss: 0.034148 ------0.0001\n",
            "Epoch [65/250] ---- Training Loss: 0.0400 ---- Validation Loss: 0.034008 ------0.0001\n",
            "Epoch [66/250] ---- Training Loss: 0.0400 ---- Validation Loss: 0.033910 ------0.0001\n",
            "Epoch [67/250] ---- Training Loss: 0.0399 ---- Validation Loss: 0.033832 ------0.0001\n",
            "Epoch [68/250] ---- Training Loss: 0.0399 ---- Validation Loss: 0.033831 ------0.0001\n",
            "Epoch [69/250] ---- Training Loss: 0.0398 ---- Validation Loss: 0.033689 ------0.0001\n",
            "Epoch [70/250] ---- Training Loss: 0.0398 ---- Validation Loss: 0.033928 ------0.0001\n",
            "Epoch [71/250] ---- Training Loss: 0.0397 ---- Validation Loss: 0.033599 ------0.0001\n",
            "Epoch [72/250] ---- Training Loss: 0.0396 ---- Validation Loss: 0.033522 ------0.0001\n",
            "Epoch [73/250] ---- Training Loss: 0.0396 ---- Validation Loss: 0.033451 ------0.0001\n",
            "Epoch [74/250] ---- Training Loss: 0.0395 ---- Validation Loss: 0.033431 ------0.0001\n",
            "Epoch [75/250] ---- Training Loss: 0.0395 ---- Validation Loss: 0.033370 ------0.0001\n",
            "Epoch [76/250] ---- Training Loss: 0.0394 ---- Validation Loss: 0.033351 ------0.0001\n",
            "Epoch [77/250] ---- Training Loss: 0.0394 ---- Validation Loss: 0.033210 ------0.0001\n",
            "Epoch [78/250] ---- Training Loss: 0.0393 ---- Validation Loss: 0.033187 ------0.0001\n",
            "Epoch [79/250] ---- Training Loss: 0.0392 ---- Validation Loss: 0.033185 ------0.0001\n",
            "Epoch [80/250] ---- Training Loss: 0.0392 ---- Validation Loss: 0.033083 ------0.0001\n",
            "Epoch [81/250] ---- Training Loss: 0.0392 ---- Validation Loss: 0.033094 ------0.0001\n",
            "Epoch [82/250] ---- Training Loss: 0.0391 ---- Validation Loss: 0.033088 ------0.0001\n",
            "Epoch [83/250] ---- Training Loss: 0.0391 ---- Validation Loss: 0.032994 ------0.0001\n",
            "Epoch [84/250] ---- Training Loss: 0.0390 ---- Validation Loss: 0.032874 ------0.0001\n",
            "Epoch [85/250] ---- Training Loss: 0.0390 ---- Validation Loss: 0.032861 ------0.0001\n",
            "Epoch [86/250] ---- Training Loss: 0.0390 ---- Validation Loss: 0.032793 ------0.0001\n",
            "Epoch [87/250] ---- Training Loss: 0.0389 ---- Validation Loss: 0.032825 ------0.0001\n",
            "Epoch [88/250] ---- Training Loss: 0.0388 ---- Validation Loss: 0.032708 ------0.0001\n",
            "Epoch [89/250] ---- Training Loss: 0.0388 ---- Validation Loss: 0.032720 ------0.0001\n",
            "Epoch [90/250] ---- Training Loss: 0.0388 ---- Validation Loss: 0.032709 ------0.0001\n",
            "Epoch [91/250] ---- Training Loss: 0.0388 ---- Validation Loss: 0.032554 ------0.0001\n",
            "Epoch [92/250] ---- Training Loss: 0.0387 ---- Validation Loss: 0.032548 ------0.0001\n",
            "Epoch [93/250] ---- Training Loss: 0.0387 ---- Validation Loss: 0.032505 ------0.0001\n",
            "Epoch [94/250] ---- Training Loss: 0.0386 ---- Validation Loss: 0.032451 ------0.0001\n",
            "Epoch [95/250] ---- Training Loss: 0.0386 ---- Validation Loss: 0.032484 ------0.0001\n",
            "Epoch [96/250] ---- Training Loss: 0.0386 ---- Validation Loss: 0.032386 ------0.0001\n",
            "Epoch [97/250] ---- Training Loss: 0.0385 ---- Validation Loss: 0.032340 ------0.0001\n",
            "Epoch [98/250] ---- Training Loss: 0.0385 ---- Validation Loss: 0.032246 ------0.0001\n",
            "Epoch [99/250] ---- Training Loss: 0.0384 ---- Validation Loss: 0.032347 ------0.0001\n",
            "Epoch [100/250] ---- Training Loss: 0.0384 ---- Validation Loss: 0.032189 ------0.0001\n",
            "Epoch [101/250] ---- Training Loss: 0.0384 ---- Validation Loss: 0.032211 ------0.0001\n",
            "Epoch [102/250] ---- Training Loss: 0.0383 ---- Validation Loss: 0.032096 ------0.0001\n",
            "Epoch [103/250] ---- Training Loss: 0.0383 ---- Validation Loss: 0.032323 ------0.0001\n",
            "Epoch [104/250] ---- Training Loss: 0.0383 ---- Validation Loss: 0.032116 ------0.0001\n",
            "Epoch [105/250] ---- Training Loss: 0.0382 ---- Validation Loss: 0.032001 ------0.0001\n",
            "Epoch [106/250] ---- Training Loss: 0.0382 ---- Validation Loss: 0.031972 ------0.0001\n",
            "Epoch [107/250] ---- Training Loss: 0.0381 ---- Validation Loss: 0.031933 ------0.0001\n",
            "Epoch [108/250] ---- Training Loss: 0.0381 ---- Validation Loss: 0.031867 ------0.0001\n",
            "Epoch [109/250] ---- Training Loss: 0.0381 ---- Validation Loss: 0.031833 ------0.0001\n",
            "Epoch [110/250] ---- Training Loss: 0.0380 ---- Validation Loss: 0.031766 ------0.0001\n",
            "Epoch [111/250] ---- Training Loss: 0.0380 ---- Validation Loss: 0.031746 ------0.0001\n",
            "Epoch [112/250] ---- Training Loss: 0.0380 ---- Validation Loss: 0.031731 ------0.0001\n",
            "Epoch [113/250] ---- Training Loss: 0.0379 ---- Validation Loss: 0.031648 ------0.0001\n",
            "Epoch [114/250] ---- Training Loss: 0.0379 ---- Validation Loss: 0.031619 ------0.0001\n",
            "Epoch [115/250] ---- Training Loss: 0.0379 ---- Validation Loss: 0.031584 ------0.0001\n",
            "Epoch [116/250] ---- Training Loss: 0.0379 ---- Validation Loss: 0.031618 ------0.0001\n",
            "Epoch [117/250] ---- Training Loss: 0.0378 ---- Validation Loss: 0.031510 ------0.0001\n",
            "Epoch [118/250] ---- Training Loss: 0.0378 ---- Validation Loss: 0.031495 ------0.0001\n",
            "Epoch [119/250] ---- Training Loss: 0.0377 ---- Validation Loss: 0.031633 ------0.0001\n",
            "Epoch [120/250] ---- Training Loss: 0.0377 ---- Validation Loss: 0.031583 ------0.0001\n",
            "Epoch [121/250] ---- Training Loss: 0.0377 ---- Validation Loss: 0.031337 ------0.0001\n",
            "Epoch [122/250] ---- Training Loss: 0.0377 ---- Validation Loss: 0.031436 ------0.0001\n",
            "Epoch [123/250] ---- Training Loss: 0.0376 ---- Validation Loss: 0.031305 ------0.0001\n",
            "Epoch [124/250] ---- Training Loss: 0.0376 ---- Validation Loss: 0.031238 ------0.0001\n",
            "Epoch [125/250] ---- Training Loss: 0.0376 ---- Validation Loss: 0.031222 ------0.0001\n",
            "Epoch [126/250] ---- Training Loss: 0.0375 ---- Validation Loss: 0.031220 ------0.0001\n",
            "Epoch [127/250] ---- Training Loss: 0.0375 ---- Validation Loss: 0.031150 ------0.0001\n",
            "Epoch [128/250] ---- Training Loss: 0.0375 ---- Validation Loss: 0.031136 ------0.0001\n",
            "Epoch [129/250] ---- Training Loss: 0.0375 ---- Validation Loss: 0.031126 ------0.0001\n",
            "Epoch [130/250] ---- Training Loss: 0.0374 ---- Validation Loss: 0.031073 ------0.0001\n",
            "Epoch [131/250] ---- Training Loss: 0.0374 ---- Validation Loss: 0.031141 ------0.0001\n",
            "Epoch [132/250] ---- Training Loss: 0.0373 ---- Validation Loss: 0.030997 ------0.0001\n",
            "Epoch [133/250] ---- Training Loss: 0.0373 ---- Validation Loss: 0.030941 ------0.0001\n",
            "Epoch [134/250] ---- Training Loss: 0.0373 ---- Validation Loss: 0.030912 ------0.0001\n",
            "Epoch [135/250] ---- Training Loss: 0.0373 ---- Validation Loss: 0.030882 ------0.0001\n",
            "Epoch [136/250] ---- Training Loss: 0.0372 ---- Validation Loss: 0.030874 ------0.0001\n",
            "Epoch [137/250] ---- Training Loss: 0.0372 ---- Validation Loss: 0.030993 ------0.0001\n",
            "Epoch [138/250] ---- Training Loss: 0.0372 ---- Validation Loss: 0.030814 ------0.0001\n",
            "Epoch [139/250] ---- Training Loss: 0.0371 ---- Validation Loss: 0.030842 ------0.0001\n",
            "Epoch [140/250] ---- Training Loss: 0.0371 ---- Validation Loss: 0.030705 ------0.0001\n",
            "Epoch [141/250] ---- Training Loss: 0.0371 ---- Validation Loss: 0.030703 ------0.0001\n",
            "Epoch [142/250] ---- Training Loss: 0.0370 ---- Validation Loss: 0.030751 ------0.0001\n",
            "Epoch [143/250] ---- Training Loss: 0.0370 ---- Validation Loss: 0.030603 ------0.0001\n",
            "Epoch [144/250] ---- Training Loss: 0.0370 ---- Validation Loss: 0.030604 ------0.0001\n",
            "Epoch [145/250] ---- Training Loss: 0.0369 ---- Validation Loss: 0.030599 ------0.0001\n",
            "Epoch [146/250] ---- Training Loss: 0.0369 ---- Validation Loss: 0.030560 ------0.0001\n",
            "Epoch [147/250] ---- Training Loss: 0.0369 ---- Validation Loss: 0.030463 ------0.0001\n",
            "Epoch [148/250] ---- Training Loss: 0.0369 ---- Validation Loss: 0.030457 ------0.0001\n",
            "Epoch [149/250] ---- Training Loss: 0.0368 ---- Validation Loss: 0.030392 ------0.0001\n",
            "Epoch [150/250] ---- Training Loss: 0.0368 ---- Validation Loss: 0.030325 ------0.0001\n",
            "Epoch [151/250] ---- Training Loss: 0.0368 ---- Validation Loss: 0.030681 ------0.0001\n",
            "Epoch [152/250] ---- Training Loss: 0.0367 ---- Validation Loss: 0.030357 ------0.0001\n",
            "Epoch [153/250] ---- Training Loss: 0.0367 ---- Validation Loss: 0.030353 ------0.0001\n",
            "Epoch [154/250] ---- Training Loss: 0.0366 ---- Validation Loss: 0.030174 ------5e-05\n",
            "Epoch [155/250] ---- Training Loss: 0.0366 ---- Validation Loss: 0.030191 ------5e-05\n",
            "Epoch [156/250] ---- Training Loss: 0.0366 ---- Validation Loss: 0.030142 ------5e-05\n",
            "Epoch [157/250] ---- Training Loss: 0.0366 ---- Validation Loss: 0.030160 ------5e-05\n",
            "Epoch [158/250] ---- Training Loss: 0.0366 ---- Validation Loss: 0.030140 ------5e-05\n",
            "Epoch [159/250] ---- Training Loss: 0.0366 ---- Validation Loss: 0.030099 ------5e-05\n",
            "Epoch [160/250] ---- Training Loss: 0.0365 ---- Validation Loss: 0.030186 ------5e-05\n",
            "Epoch [161/250] ---- Training Loss: 0.0365 ---- Validation Loss: 0.030032 ------5e-05\n",
            "Epoch [162/250] ---- Training Loss: 0.0365 ---- Validation Loss: 0.030074 ------5e-05\n",
            "Epoch [163/250] ---- Training Loss: 0.0365 ---- Validation Loss: 0.030047 ------5e-05\n",
            "Epoch [164/250] ---- Training Loss: 0.0365 ---- Validation Loss: 0.030015 ------5e-05\n",
            "Epoch [165/250] ---- Training Loss: 0.0365 ---- Validation Loss: 0.030112 ------5e-05\n",
            "Epoch [166/250] ---- Training Loss: 0.0365 ---- Validation Loss: 0.030067 ------5e-05\n",
            "Epoch [167/250] ---- Training Loss: 0.0364 ---- Validation Loss: 0.029973 ------5e-05\n",
            "Epoch [168/250] ---- Training Loss: 0.0364 ---- Validation Loss: 0.030007 ------5e-05\n",
            "Epoch [169/250] ---- Training Loss: 0.0364 ---- Validation Loss: 0.029946 ------5e-05\n",
            "Epoch [170/250] ---- Training Loss: 0.0364 ---- Validation Loss: 0.029941 ------5e-05\n",
            "Epoch [171/250] ---- Training Loss: 0.0364 ---- Validation Loss: 0.029956 ------5e-05\n",
            "Epoch [172/250] ---- Training Loss: 0.0364 ---- Validation Loss: 0.030002 ------5e-05\n",
            "Epoch [173/250] ---- Training Loss: 0.0363 ---- Validation Loss: 0.029863 ------5e-05\n",
            "Epoch [174/250] ---- Training Loss: 0.0363 ---- Validation Loss: 0.029841 ------5e-05\n",
            "Epoch [175/250] ---- Training Loss: 0.0363 ---- Validation Loss: 0.029860 ------5e-05\n",
            "Epoch [176/250] ---- Training Loss: 0.0363 ---- Validation Loss: 0.030050 ------5e-05\n",
            "Epoch [177/250] ---- Training Loss: 0.0363 ---- Validation Loss: 0.029838 ------5e-05\n",
            "Epoch [178/250] ---- Training Loss: 0.0362 ---- Validation Loss: 0.029780 ------2.5e-05\n",
            "Epoch [179/250] ---- Training Loss: 0.0362 ---- Validation Loss: 0.029786 ------2.5e-05\n",
            "Epoch [180/250] ---- Training Loss: 0.0362 ---- Validation Loss: 0.029758 ------2.5e-05\n",
            "Epoch [181/250] ---- Training Loss: 0.0362 ---- Validation Loss: 0.029763 ------2.5e-05\n",
            "Epoch [182/250] ---- Training Loss: 0.0362 ---- Validation Loss: 0.029819 ------2.5e-05\n",
            "Epoch [183/250] ---- Training Loss: 0.0362 ---- Validation Loss: 0.029792 ------2.5e-05\n",
            "Epoch [184/250] ---- Training Loss: 0.0362 ---- Validation Loss: 0.029766 ------1.25e-05\n",
            "Epoch [185/250] ---- Training Loss: 0.0362 ---- Validation Loss: 0.029734 ------1.25e-05\n",
            "Epoch [186/250] ---- Training Loss: 0.0362 ---- Validation Loss: 0.029737 ------1.25e-05\n",
            "Epoch [187/250] ---- Training Loss: 0.0362 ---- Validation Loss: 0.029709 ------1.25e-05\n",
            "Epoch [188/250] ---- Training Loss: 0.0362 ---- Validation Loss: 0.029718 ------1.25e-05\n",
            "Epoch [189/250] ---- Training Loss: 0.0362 ---- Validation Loss: 0.029761 ------1.25e-05\n",
            "Epoch [190/250] ---- Training Loss: 0.0362 ---- Validation Loss: 0.029716 ------1.25e-05\n",
            "Epoch [191/250] ---- Training Loss: 0.0361 ---- Validation Loss: 0.029695 ------6.25e-06\n",
            "Epoch [192/250] ---- Training Loss: 0.0362 ---- Validation Loss: 0.029701 ------6.25e-06\n",
            "Epoch [193/250] ---- Training Loss: 0.0362 ---- Validation Loss: 0.029704 ------6.25e-06\n",
            "Epoch [194/250] ---- Training Loss: 0.0361 ---- Validation Loss: 0.029697 ------6.25e-06\n",
            "Epoch [195/250] ---- Training Loss: 0.0361 ---- Validation Loss: 0.029710 ------3.125e-06\n",
            "Epoch [196/250] ---- Training Loss: 0.0361 ---- Validation Loss: 0.029695 ------3.125e-06\n",
            "Epoch [197/250] ---- Training Loss: 0.0361 ---- Validation Loss: 0.029712 ------3.125e-06\n",
            "Epoch [198/250] ---- Training Loss: 0.0361 ---- Validation Loss: 0.029687 ------1.5625e-06\n",
            "Epoch [199/250] ---- Training Loss: 0.0361 ---- Validation Loss: 0.029698 ------1.5625e-06\n",
            "Epoch [200/250] ---- Training Loss: 0.0361 ---- Validation Loss: 0.029688 ------1.5625e-06\n",
            "Epoch [201/250] ---- Training Loss: 0.0361 ---- Validation Loss: 0.029687 ------1.5625e-06\n",
            "Epoch [202/250] ---- Training Loss: 0.0361 ---- Validation Loss: 0.029688 ------7.8125e-07\n",
            "Epoch [203/250] ---- Training Loss: 0.0361 ---- Validation Loss: 0.029688 ------7.8125e-07\n",
            "Epoch [204/250] ---- Training Loss: 0.0361 ---- Validation Loss: 0.029691 ------7.8125e-07\n",
            "Epoch [205/250] ---- Training Loss: 0.0361 ---- Validation Loss: 0.029690 ------3.90625e-07\n",
            "Epoch [206/250] ---- Training Loss: 0.0361 ---- Validation Loss: 0.029688 ------3.90625e-07\n",
            "Epoch [207/250] ---- Training Loss: 0.0361 ---- Validation Loss: 0.029686 ------3.90625e-07\n",
            "Epoch [208/250] ---- Training Loss: 0.0361 ---- Validation Loss: 0.029688 ------1.953125e-07\n",
            "Epoch [209/250] ---- Training Loss: 0.0361 ---- Validation Loss: 0.029682 ------1.953125e-07\n",
            "Epoch [210/250] ---- Training Loss: 0.0361 ---- Validation Loss: 0.029687 ------1.953125e-07\n",
            "Epoch [211/250] ---- Training Loss: 0.0361 ---- Validation Loss: 0.029685 ------1.953125e-07\n",
            "Epoch [212/250] ---- Training Loss: 0.0361 ---- Validation Loss: 0.029691 ------1.953125e-07\n",
            "Epoch [213/250] ---- Training Loss: 0.0361 ---- Validation Loss: 0.029686 ------9.765625e-08\n",
            "Epoch [214/250] ---- Training Loss: 0.0361 ---- Validation Loss: 0.029685 ------9.765625e-08\n",
            "Epoch [215/250] ---- Training Loss: 0.0361 ---- Validation Loss: 0.029685 ------9.765625e-08\n",
            "Epoch [216/250] ---- Training Loss: 0.0361 ---- Validation Loss: 0.029685 ------4.8828125e-08\n",
            "Epoch [217/250] ---- Training Loss: 0.0361 ---- Validation Loss: 0.029686 ------4.8828125e-08\n",
            "Epoch [218/250] ---- Training Loss: 0.0361 ---- Validation Loss: 0.029685 ------4.8828125e-08\n",
            "Epoch [219/250] ---- Training Loss: 0.0361 ---- Validation Loss: 0.029685 ------2.44140625e-08\n",
            "Early stopping at epoch 219\n",
            "Saved model: best_fuel_consumption_model.pth\n"
          ]
        }
      ],
      "source": [
        "import torch\n",
        "import torch.nn as nn\n",
        "import torch.optim as optim\n",
        "from torch.optim.lr_scheduler import StepLR  # Importing StepLR for learning rate decay\n",
        "from torch.optim.lr_scheduler import ReduceLROnPlateau\n",
        "# Assuming `FuelConsumptionModel`, `X_train_normalized`, `train_loader`, `val_loader`, `DEVICE`, and `EPOCHS` are defined\n",
        "\n",
        "# Choose a single loss function to use for all experiments\n",
        "criterion = nn.L1Loss()  # You can change this to your preferred loss function\n",
        "\n",
        "EPOCHS = 250\n",
        "# Define weight decay values and initial learning rates for decay schedules\n",
        "weight_decay_values = 1e-5\n",
        "initial_learning_rates = [1e-4]  # Two starting learning rates\n",
        "\n",
        "# Initialize variables to track the best parameters\n",
        "best_weight_decay = None\n",
        "best_initial_lr = None\n",
        "best_model_weights = None\n",
        "best_val_loss = float('inf')\n",
        "\n",
        "ini_batches = [64]\n",
        "# Loop over all combinations of initial learning rates and weight decay values\n",
        "\n",
        "BATCH_SIZE = 64\n",
        "# Create DataLoader for training and validation sets\n",
        "train_loader = DataLoader(TensorDataset(X_train_split, y_train_split), batch_size=BATCH_SIZE, shuffle=True)\n",
        "val_loader = DataLoader(TensorDataset(X_val_split, y_val_split), batch_size=BATCH_SIZE, shuffle=False)\n",
        "\n",
        "for init_lr in initial_learning_rates:\n",
        "    # Initialize model, criterion, and optimizer for each combination\n",
        "    model = load_and_freeze_model(model_path, input_size)\n",
        "\n",
        "    optimizer = optim.Adam(model.parameters(), lr=init_lr, weight_decay=weight_decay_values)\n",
        "    scheduler = ReduceLROnPlateau(optimizer, mode='min', factor=0.5, patience=2, verbose=True)\n",
        "    # scheduler = StepLR(optimizer, step_size=50, gamma=0.5)  # Decay LR by 0.5 every 50 epochs\n",
        "\n",
        "    # Early stopping parameters\n",
        "    patience = 10  # Number of epochs to wait before stopping if no improvement\n",
        "    best_loss = float('inf')  # Initialize best loss to infinity\n",
        "    epochs_without_improvement = 0  # Counter for epochs without improvement\n",
        "\n",
        "    # Training loop with early stopping\n",
        "    model.train()\n",
        "    for epoch in range(EPOCHS):\n",
        "        running_loss = 0.0\n",
        "        model.train()  # Ensure model is in training mode\n",
        "\n",
        "        # Training phase\n",
        "        for inputs, targets in train_loader:\n",
        "            inputs, targets = inputs.to(DEVICE), targets.to(DEVICE)  # Ensure data is on the correct device\n",
        "            optimizer.zero_grad()\n",
        "            outputs = model(inputs)\n",
        "\n",
        "            loss = criterion(outputs, targets)\n",
        "            loss.backward()\n",
        "            optimizer.step()\n",
        "            running_loss += loss.item()\n",
        "\n",
        "        # Calculate average loss for the epoch\n",
        "        avg_training_loss = running_loss / len(train_loader)\n",
        "\n",
        "        # Validation phase\n",
        "        model.eval()  # Switch to evaluation mode\n",
        "        val_running_loss = 0.0\n",
        "        with torch.no_grad():\n",
        "            for inputs, targets in val_loader:  # Assume you have a validation DataLoader `val_loader`\n",
        "                inputs, targets = inputs.to(DEVICE), targets.to(DEVICE)  # Ensure data is on the correct device\n",
        "                outputs = model(inputs)\n",
        "                val_loss = criterion(outputs, targets)\n",
        "                val_running_loss += val_loss.item()\n",
        "\n",
        "        avg_val_loss = val_running_loss / len(val_loader)\n",
        "\n",
        "        current_lr = optimizer.param_groups[0]['lr']\n",
        "        print(f\"Epoch [{epoch+1}/{EPOCHS}] ---- Training Loss: {avg_training_loss:.4f} ---- Validation Loss: {avg_val_loss:.6f} ------{current_lr}\")\n",
        "\n",
        "        # print(f\"Epoch [{epoch+1}/{EPOCHS}] ---- Training Loss: {avg_training_loss:.4f} ---- Validation Loss: {avg_val_loss:.4f}    Init LR: {init_lr:.0e}  WD: {wd:.0e}\")\n",
        "\n",
        "        # Adjust the learning rate\n",
        "        scheduler.step(avg_val_loss)\n",
        "        # scheduler.step()\n",
        "\n",
        "        # Early stopping check\n",
        "        if avg_val_loss < best_loss:\n",
        "            best_loss = avg_val_loss\n",
        "            epochs_without_improvement = 0\n",
        "        else:\n",
        "            epochs_without_improvement += 1\n",
        "            if epochs_without_improvement >= patience:\n",
        "                print(f\"Early stopping at epoch {epoch+1}\")\n",
        "                break\n",
        "\n",
        "        # Save the model for the current combination\n",
        "        model_filename = f'best_fuel_consumption_model.pth'\n",
        "        torch.save(model.state_dict(), model_filename)\n",
        "\n",
        "\n",
        "print(f\"Saved model: {model_filename}\")"
      ]
    },
    {
      "cell_type": "markdown",
      "metadata": {
        "id": "PT91Xk2ibldP"
      },
      "source": [
        "#Test with all saved model\n"
      ]
    },
    {
      "cell_type": "code",
      "source": [
        "import pandas as pd\n",
        "import os\n",
        "\n",
        "# Load the Excel file\n",
        "excel_file = \"/content/Car_Dena_TC+5_26 s 513 ir 10_Data_12_04_2024, 09_09_00_to_12_04_2024, 14_05_00.xlsx\"  # Replace with the path to your Excel file\n",
        "output_folder = \"test\"  # Replace with the path where you want to save CSV files\n",
        "\n",
        "# Create the output folder if it doesn't exist\n",
        "os.makedirs(output_folder, exist_ok=True)\n",
        "\n",
        "# Read the Excel file into a DataFrame\n",
        "df = pd.read_excel(excel_file)\n",
        "\n",
        "# List of specific trip IDs to filter\n",
        "specific_trips = [3 , 4 , 6]\n",
        "\n",
        "# Filter the DataFrame for the specific trips\n",
        "filtered_df = df[df['trip'].isin(specific_trips)]\n",
        "\n",
        "# Group by the \"trip\" column (replace 'trip' with the actual column name for grouping)\n",
        "for trip_id, trip_data in filtered_df.groupby('trip'):\n",
        "    # Create a filename for the trip\n",
        "    csv_file = os.path.join(output_folder, f\"trip_{trip_id}.csv\")\n",
        "\n",
        "    # Save the trip data to a CSV file\n",
        "    trip_data.to_csv(csv_file, index=False)\n",
        "\n",
        "    print(f\"Saved trip {trip_id} to {csv_file}\")\n"
      ],
      "metadata": {
        "colab": {
          "base_uri": "https://localhost:8080/"
        },
        "id": "rZR4FCk0i2IB",
        "outputId": "bf5b96eb-481a-4fdd-dee5-165a3a81d14c"
      },
      "execution_count": 7,
      "outputs": [
        {
          "output_type": "stream",
          "name": "stdout",
          "text": [
            "Saved trip 3 to test/trip_3.csv\n",
            "Saved trip 4 to test/trip_4.csv\n",
            "Saved trip 6 to test/trip_6.csv\n"
          ]
        }
      ]
    },
    {
      "cell_type": "code",
      "source": [
        "import pandas as pd\n",
        "import requests\n",
        "import time\n",
        "import os\n",
        "from tqdm import tqdm  # Import tqdm for the file-level progress bar\n",
        "\n",
        "# Path to the folder containing CSV files\n",
        "folder_path = \"test\"  # Update to your folder path\n",
        "\n",
        "# Initialize last received altitude\n",
        "last_received_altitude = None\n",
        "\n",
        "# Function to get altitude\n",
        "def get_altitude(lat, lon, retries=10):\n",
        "    global last_received_altitude  # Use the last received altitude as fallback\n",
        "    url = f\"https://api.open-elevation.com/api/v1/lookup?locations={lat},{lon}\"\n",
        "    url = f'https://www.elevation-api.eu/v1/elevation?pts=[[{lat},{lon}]]'\n",
        "    for attempt in range(retries):\n",
        "        try:\n",
        "            response = requests.get(url, timeout=10)\n",
        "            if response.status_code == 200:\n",
        "                elevation_data = response.json()\n",
        "                if 'elevations' in elevation_data and elevation_data['elevations']:\n",
        "                    altitude = elevation_data['elevations'][0]  # Extracting the first elevation value\n",
        "                    last_received_altitude = altitude  # Update last successful altitude\n",
        "                    return altitude\n",
        "            elif response.status_code == 504:\n",
        "                return last_received_altitude  # Use last received altitude on 504 error\n",
        "        except requests.exceptions.RequestException:\n",
        "            time.sleep(2)  # Wait for 2 seconds before retrying\n",
        "    return last_received_altitude  # Use last received altitude if all retries fail\n",
        "\n",
        "# Helper function to get altitude for a block of 100 rows\n",
        "def get_altitude_for_block(df, start_index):\n",
        "    for i in range(start_index, min(start_index + 100, len(df))):\n",
        "        lat = df.at[i, 'latitude']\n",
        "        lon = df.at[i, 'longitude']\n",
        "\n",
        "        # Skip rows with missing or invalid latitude/longitude\n",
        "        if pd.isna(lat) or pd.isna(lon) or lat == 0 or lon == 0:\n",
        "            continue\n",
        "\n",
        "        altitude = get_altitude(lat, lon)\n",
        "        if altitude is not None:\n",
        "            return altitude\n",
        "    return None\n",
        "\n",
        "# Process each CSV file in the specified folder\n",
        "for filename in tqdm(os.listdir(folder_path), desc=\"Processing files\"):\n",
        "    if filename.endswith('.csv'):\n",
        "        file_path = os.path.join(folder_path, filename)\n",
        "        data_df = pd.read_csv(file_path)\n",
        "\n",
        "        # Check if 'latitude' and 'longitude' columns exist in the dataframe\n",
        "        if 'latitude' not in data_df.columns or 'longitude' not in data_df.columns:\n",
        "            continue  # Skip this file if columns are missing\n",
        "\n",
        "        # Initialize the 'correct_altitude' column with None values\n",
        "        data_df['correct_altitude'] = None\n",
        "\n",
        "        # Process rows in blocks of 100\n",
        "        for i in range(0, len(data_df), 100):\n",
        "            altitude = get_altitude_for_block(data_df, i)\n",
        "\n",
        "            # Adjust the end of the range to ensure it's within bounds and handle small blocks\n",
        "            block_end = min(i + 99, len(data_df) - 1)\n",
        "\n",
        "            # If the altitude is None and the block size is 1 (e.g., last row), skip setting altitude\n",
        "            if altitude is None and (block_end == i):\n",
        "                continue\n",
        "\n",
        "            # Set the altitude for the current block\n",
        "            data_df.loc[i:block_end, 'correct_altitude'] = altitude\n",
        "\n",
        "        # Save the updated dataframe to a new CSV file, retaining the same name\n",
        "        output_file_path = os.path.join(folder_path, filename)  # Save to the same file\n",
        "        data_df.to_csv(output_file_path, index=False)\n",
        "\n",
        "print(\"Updated files saved successfully.\")\n"
      ],
      "metadata": {
        "colab": {
          "base_uri": "https://localhost:8080/"
        },
        "id": "0SKUr0wzlkae",
        "outputId": "362df05f-38c4-45d4-b08b-608d3924bc93"
      },
      "execution_count": 8,
      "outputs": [
        {
          "output_type": "stream",
          "name": "stderr",
          "text": [
            "Processing files: 100%|██████████| 4/4 [00:19<00:00,  4.78s/it]"
          ]
        },
        {
          "output_type": "stream",
          "name": "stdout",
          "text": [
            "Updated files saved successfully.\n"
          ]
        },
        {
          "output_type": "stream",
          "name": "stderr",
          "text": [
            "\n"
          ]
        }
      ]
    },
    {
      "cell_type": "code",
      "source": [
        "import pandas as pd\n",
        "import os\n",
        "from tqdm import tqdm  # Import tqdm for the file-level progress bar\n",
        "# Path to the folder containing CSV files\n",
        "folder_path = \"test\"\n",
        "\n",
        "# Process each CSV file in the specified folder\n",
        "for filename in tqdm(os.listdir(folder_path), desc=\"Processing files\"):\n",
        "    if filename.endswith('.csv'):\n",
        "        print(filename)\n",
        "        file_path = os.path.join(folder_path, filename)\n",
        "        print(f\"Processing file: {filename}\")\n",
        "\n",
        "        # Read the CSV file\n",
        "        data_df = pd.read_csv(file_path)\n",
        "        # data_df = data_df.sort_values(by='time')\n",
        "        data_df['correct_altitude'] = data_df['correct_altitude'].fillna(method='bfill')\n",
        "\n",
        "        # Sort the DataFrame by 'time' and 'trip'\n",
        "\n",
        "\n",
        "        # Initialize the 'slope' column with 0.0\n",
        "        data_df['slope'] = 0.0\n",
        "\n",
        "        # Group by 'trip' and calculate slope for each group\n",
        "        for trip, group in data_df.groupby('trip'):\n",
        "            # Check if the group has at least 100 rows\n",
        "            num_rows = len(group)\n",
        "            for i in range(0, num_rows - 100, 100):\n",
        "                start_altitude = group.iloc[i]['correct_altitude']\n",
        "                end_altitude = group.iloc[i + 100]['correct_altitude']\n",
        "                start_mileage = group.iloc[i]['Cumulative_mileage']\n",
        "                end_mileage = group.iloc[i + 100]['Cumulative_mileage']\n",
        "\n",
        "                if end_mileage - start_mileage != 0:\n",
        "                    slope = (end_altitude - start_altitude) / (end_mileage - start_mileage) / 10\n",
        "                    data_df.loc[group.index[i:i + 99], 'slope'] = slope\n",
        "\n",
        "            # Calculate slope for remaining rows if less than 100 remain\n",
        "            if num_rows % 100 != 0:\n",
        "                last_block_start = num_rows - (num_rows % 100)\n",
        "                if last_block_start > 0:\n",
        "                    start_altitude = group.iloc[last_block_start - 1]['correct_altitude']\n",
        "                    end_altitude = group.iloc[num_rows - 1]['correct_altitude']\n",
        "                    start_mileage = group.iloc[last_block_start - 1]['Cumulative_mileage']\n",
        "                    end_mileage = group.iloc[num_rows - 1]['Cumulative_mileage']\n",
        "\n",
        "                    if end_mileage - start_mileage != 0:\n",
        "                        slope = (end_altitude - start_altitude) / (end_mileage - start_mileage) / 10\n",
        "                        data_df.loc[group.index[last_block_start - 1:num_rows - 1], 'slope'] = slope\n",
        "\n",
        "        # Define output file path\n",
        "        # output_file_path = os.path.join(folder_path, f\"{filename[:-4]}_slope_added.csv\")\n",
        "        output_file_path = os.path.join(folder_path, filename)\n",
        "\n",
        "        # Save the updated DataFrame to a new CSV file\n",
        "        data_df.to_csv(output_file_path, index=False)\n",
        "\n",
        "print(\"All files processed successfully.\")\n"
      ],
      "metadata": {
        "colab": {
          "base_uri": "https://localhost:8080/"
        },
        "id": "0Q24PbfDll_P",
        "outputId": "a824eb8f-1a01-45e0-e748-84d590a3b802"
      },
      "execution_count": 9,
      "outputs": [
        {
          "output_type": "stream",
          "name": "stderr",
          "text": [
            "\rProcessing files:   0%|          | 0/4 [00:00<?, ?it/s]<ipython-input-9-89b2d57d6610>:17: FutureWarning: Series.fillna with 'method' is deprecated and will raise in a future version. Use obj.ffill() or obj.bfill() instead.\n",
            "  data_df['correct_altitude'] = data_df['correct_altitude'].fillna(method='bfill')\n",
            "<ipython-input-9-89b2d57d6610>:17: FutureWarning: Series.fillna with 'method' is deprecated and will raise in a future version. Use obj.ffill() or obj.bfill() instead.\n",
            "  data_df['correct_altitude'] = data_df['correct_altitude'].fillna(method='bfill')\n"
          ]
        },
        {
          "output_type": "stream",
          "name": "stdout",
          "text": [
            "trip_6.csv\n",
            "Processing file: trip_6.csv\n",
            "trip_3.csv\n",
            "Processing file: trip_3.csv\n"
          ]
        },
        {
          "output_type": "stream",
          "name": "stderr",
          "text": [
            "Processing files:  50%|█████     | 2/4 [00:00<00:00,  7.56it/s]<ipython-input-9-89b2d57d6610>:17: FutureWarning: Series.fillna with 'method' is deprecated and will raise in a future version. Use obj.ffill() or obj.bfill() instead.\n",
            "  data_df['correct_altitude'] = data_df['correct_altitude'].fillna(method='bfill')\n",
            "Processing files: 100%|██████████| 4/4 [00:00<00:00, 10.37it/s]"
          ]
        },
        {
          "output_type": "stream",
          "name": "stdout",
          "text": [
            "trip_4.csv\n",
            "Processing file: trip_4.csv\n",
            "All files processed successfully.\n"
          ]
        },
        {
          "output_type": "stream",
          "name": "stderr",
          "text": [
            "\n"
          ]
        }
      ]
    },
    {
      "cell_type": "code",
      "source": [
        "import os\n",
        "from sklearn.metrics import mean_absolute_error, mean_squared_error\n",
        "\n",
        "import numpy as np\n",
        "import pandas as pd\n",
        "import matplotlib.pyplot as plt\n",
        "import torch\n",
        "from torch import nn\n",
        "import torch.nn as nn\n",
        "import torch\n",
        "\n",
        "# Constants\n",
        "SEQUENCE_LENGTH = 600  # Updated sequence length\n",
        "PLOT_SAVE_DIR = 'predicted_vs_actual_plots'  # Base directory to save plots and CSVs\n",
        "DEVICE = torch.device('cuda' if torch.cuda.is_available() else 'cpu')\n",
        "\n",
        "# Ensure the base save directory exists\n",
        "os.makedirs(PLOT_SAVE_DIR, exist_ok=True)\n",
        "\n",
        "# Define the PyTorch model structure (same as the one used for training)\n",
        "\n",
        "\n",
        "# Load the trained model\n",
        "def load_trained_model(model_path, input_size):\n",
        "    model = FuelConsumptionModel(input_size=input_size)\n",
        "    model.load_state_dict(torch.load(model_path, map_location=DEVICE))\n",
        "    model.to(DEVICE)\n",
        "    model.eval()\n",
        "    return model\n",
        "\n",
        "# Process the file and prepare segments\n",
        "\n",
        "\n",
        "def process_file(file_path):\n",
        "    df = pd.read_csv(file_path)\n",
        "    if not df.empty :\n",
        "      df.rename(columns={\n",
        "          'Engine_speed': 'Engine speed',\n",
        "          'time': 'Time',\n",
        "          'Vehicle_Speed': 'Speed',\n",
        "          'Trip_fuel_consumption': 'Trip fuel consumption',\n",
        "          'Throttle_position': 'Throttle position',\n",
        "          'Accelerator_pedal_position': 'Accelerator pedal position',\n",
        "          'Cumulative_mileage': 'Cumulative mileage',\n",
        "          'Coolant_temp': 'Coolant_temperature'\n",
        "      }, inplace=True)\n",
        "      df['Time'] = df['Time'] - df['Time'].iloc[0]\n",
        "      df['Momentary fuel consumption1'] = df['Trip fuel consumption'].diff().fillna(0)\n",
        "      df['Momentary fuel consumption2'] = df['Trip fuel consumption'].diff().shift(-1).fillna(0)\n",
        "      df['Acceleration1'] = df['Speed'].diff().fillna(0)\n",
        "      df['Acceleration2'] = df['Speed'].diff().shift(-1).fillna(0)\n",
        "      df['Current_gear_shift_position_(Current_gear)'] = df['Current_gear_shift_position_(Current_gear)'].replace({13: 0, 14: 1})\n",
        "      # features = df[['Adjusted_gear_position', 'Speed', 'slope', 'Acceleration', 'Coolant_temperature']]\n",
        "\n",
        "\n",
        "      # df = df.iloc[:-20]\n",
        "\n",
        "\n",
        "      # features = df[['Acceleration1','Acceleration2','Throttle position','Accelerator pedal position','Coolant_temperature','Speed','Engine speed', 'Current_gear_shift_position_(Current_gear)','correct_altitude',  'slope']]\n",
        "      features = df[['Acceleration1','Acceleration2','Speed', 'Current_gear_shift_position_(Current_gear)','slope']]\n",
        "\n",
        "      # features = df[['Acceleration1','Speed', 'Current_gear_shift_position_(Current_gear)','slope']]\n",
        "\n",
        "\n",
        "\n",
        "\n",
        "      target = df['Momentary fuel consumption2']\n",
        "\n",
        "\n",
        "\n",
        "    return features, target\n",
        "\n",
        "\n",
        "# Pad and normalize the data\n",
        "def pad_and_normalize(data, sequence_length=SEQUENCE_LENGTH):\n",
        "    padded_data = np.zeros((len(data), sequence_length, data[0].shape[1]))\n",
        "    for i, seq in enumerate(data):\n",
        "        length = min(len(seq), sequence_length)\n",
        "        padded_data[i, :length] = seq[:length]\n",
        "\n",
        "    # Normalization (same as in your script)\n",
        "\n",
        "    min_val_x = [-10,-10, 0,0, -10]\n",
        "    max_val_x = [10,10,200, 5, 10]\n",
        "\n",
        "    # min_val_x = [-10, 0,0, -10]\n",
        "    # max_val_x = [10,200, 5, 10]\n",
        "\n",
        "\n",
        "    for i in range(padded_data.shape[-1]):\n",
        "        padded_data[:, :, i] = (padded_data[:, :, i] - min_val_x[i]) / (max_val_x[i] - min_val_x[i])\n",
        "\n",
        "    return torch.tensor(padded_data, dtype=torch.float32).to(DEVICE)\n",
        "\n",
        "\n",
        "\n",
        "\n",
        "# Predict and plot the results\n",
        "def plot_predicted_vs_real(input_file, model, model_name):\n",
        "\n",
        "    df1 = pd.read_csv(input_file)\n",
        "\n",
        "    timee                 = (df1['time'].iloc[-1] - df1['time'].iloc[0]) / 60000\n",
        "    mileagee              = (df1['Cumulative_mileage'].iloc[-1] - df1['Cumulative_mileage'].iloc[0])\n",
        "    trip_fuel_consp100    = (((df1['Trip_fuel_consumption'].iloc[-1] - df1['Trip_fuel_consumption'].iloc[0]) / 10000) / mileagee)\n",
        "\n",
        "    features, actual_values  = process_file(input_file)\n",
        "    rate = actual_values\n",
        "    num_segments = len(features) // SEQUENCE_LENGTH\n",
        "    predictions = []\n",
        "\n",
        "    for i in range(num_segments):\n",
        "        segment = features.iloc[i * SEQUENCE_LENGTH:(i + 1) * SEQUENCE_LENGTH]\n",
        "        segment_normalized = pad_and_normalize([segment.values])\n",
        "        with torch.no_grad():\n",
        "            segment_predictions = model(segment_normalized).cpu().numpy()\n",
        "        predictions.extend(segment_predictions.flatten() * 30000 )\n",
        "\n",
        "    # Handle any remaining data\n",
        "    remainder = len(features) % SEQUENCE_LENGTH\n",
        "    if remainder != 0:\n",
        "        last_segment = features.iloc[-remainder:]\n",
        "        last_segment_normalized = pad_and_normalize([last_segment.values], sequence_length=remainder)\n",
        "        with torch.no_grad():\n",
        "            last_segment_predictions = model(last_segment_normalized).cpu().numpy()\n",
        "        predictions.extend(last_segment_predictions.flatten() * 30000 )\n",
        "\n",
        "    predictions = np.array(predictions)\n",
        "    actual_valuess = actual_values.values[:len(predictions)]  # Ensure lengths match\n",
        "\n",
        "    trip_fuel_consp100_p = np.cumsum(predictions[:len(actual_values)], axis=0)\n",
        "    trip_fuel_cons_predicted_p100 = (trip_fuel_consp100_p[-1] /10000) / mileagee\n",
        "\n",
        "    # Calculate error metrics\n",
        "    # mae = mean_absolute_error(actual_valuess, predictions)\n",
        "    # mse = mean_squared_error(actual_valuess, predictions)\n",
        "\n",
        "    # Handling MAPE: Ignore zero actual values to avoid NaN issues\n",
        "    # non_zero_actual = actual_valuess != 0\n",
        "    # mape = np.mean(np.abs((actual_valuess[non_zero_actual] - predictions[non_zero_actual]) / actual_valuess[non_zero_actual])) * 100\n",
        "\n",
        "    # print(f'MAE: {mae:.4f}---------------{input_file}')\n",
        "    # print(f'MSE: {mse:.4f}')\n",
        "    # print(f'MAPE: {mape:.4f}% ---------------------')\n",
        "\n",
        "\n",
        "    plt.figure(figsize=(10, 6))\n",
        "    plt.plot(np.cumsum(actual_values.values[:len(predictions)], axis=0), label='Real', color='blue')\n",
        "    plt.plot(np.cumsum(predictions[:len(actual_values)], axis=0), label='Predicted', color='red')\n",
        "    plt.xlabel('Index')\n",
        "    plt.ylabel('Fuel Consumption')\n",
        "    plt.title(f'Predicted vs Real Fuel Consumption ({model_name})')\n",
        "    plt.legend()\n",
        "    text = (\n",
        "          f\"time(M) : {timee:.0f} \\n\"\n",
        "          f\"mileage(KM) : {mileagee:.1f} \\n\"\n",
        "          f\"Real fuel cons: {trip_fuel_consp100:.2f} \\n\"\n",
        "          f\"Pred fuel cons: {trip_fuel_cons_predicted_p100:.2f} \\n\"\n",
        "          f\"Error(%) : {((abs(trip_fuel_consp100 -trip_fuel_cons_predicted_p100 ))/trip_fuel_consp100)*100:.2f}\"\n",
        "      )\n",
        "    plt.text(\n",
        "        0.95, 0.05,  # x and y position in figure coordinates\n",
        "        text,  # Multi-line text\n",
        "        fontsize=10,\n",
        "        color='gray',\n",
        "        horizontalalignment='right',\n",
        "        verticalalignment='bottom',\n",
        "        transform=plt.gca().transAxes  # Use axes coordinates\n",
        "    )\n",
        "    # Create model-specific directory\n",
        "    model_save_dir = os.path.join(PLOT_SAVE_DIR, model_name)\n",
        "    os.makedirs(model_save_dir, exist_ok=True)\n",
        "\n",
        "    # Save plot using model name in the designated directory\n",
        "    plot_filename = os.path.join(model_save_dir, f'{os.path.splitext(os.path.basename(input_file))[0]}_all.png')\n",
        "    plt.savefig(plot_filename)\n",
        "    plt.close()\n",
        "\n",
        "\n",
        "\n",
        "\n",
        "    results_df = pd.DataFrame({\n",
        "        'Speed': features[\"Speed\"].iloc[:len(predictions)],\n",
        "        'Actual': np.cumsum(actual_values.values[:len(predictions)], axis=0),\n",
        "        'Predicted_sum': np.cumsum(predictions[:len(actual_values)], axis=0),\n",
        "        'Predicted': predictions[:len(actual_values)] ,\n",
        "        'rate' : rate\n",
        "        # 'MAE': mae,  # Add MAE to the dataframe\n",
        "        # 'MSE': mse,  # Add MSE to the dataframe\n",
        "\n",
        "    })\n",
        "\n",
        "    csv_filename = os.path.join(model_save_dir, f'{os.path.splitext(os.path.basename(input_file))[0]}.csv')\n",
        "    results_df.to_csv(csv_filename, index=False)\n",
        "    print(f\"CSV saved as: {csv_filename}\")\n",
        "\n",
        "\n",
        "\n",
        "# Directory containing all saved models and CSV files\n",
        "csv_dir = '/content'  # Directory containing CSV files\n",
        "model_dir = '/content/sample_data'  # Directory containing model files\n",
        "\n",
        "# List all model files in the directory\n",
        "model_files = [f for f in os.listdir(model_dir) if f.endswith('.pth')]\n",
        "\n",
        "# List all CSV files in the directory\n",
        "csv_files = [f for f in os.listdir(csv_dir) if f.endswith('.csv')]\n",
        "\n",
        "# Load and test each model on each CSV file\n",
        "input_size = 5  # Number of features in the input data\n",
        "# input_size = 4  # Number of features in the input data\n",
        "\n",
        "\n",
        "for csv_file in csv_files:\n",
        "    csv_file_path = os.path.join(csv_dir, csv_file)\n",
        "    # print(f\"0Processing CSV file: {csv_file}\")\n",
        "\n",
        "    for model_file in model_files:\n",
        "        model_path = os.path.join(model_dir, model_file)\n",
        "        model_name = os.path.splitext(model_file)[0]  # Get the base name of the model file\n",
        "        # print(f\"Testing model: {model_name} on {csv_file}\")\n",
        "\n",
        "        model = load_trained_model(model_path, input_size)\n",
        "        plot_predicted_vs_real(csv_file_path, model, model_name)\n",
        "\n",
        "\n"
      ],
      "metadata": {
        "colab": {
          "base_uri": "https://localhost:8080/"
        },
        "id": "RSX_AJCXOYNu",
        "outputId": "12925efb-6158-4f31-fbd5-f0df3d51f2a6"
      },
      "execution_count": 25,
      "outputs": [
        {
          "output_type": "stream",
          "name": "stderr",
          "text": [
            "<ipython-input-25-f86aaaec20f2>:26: FutureWarning: You are using `torch.load` with `weights_only=False` (the current default value), which uses the default pickle module implicitly. It is possible to construct malicious pickle data which will execute arbitrary code during unpickling (See https://github.com/pytorch/pytorch/blob/main/SECURITY.md#untrusted-models for more details). In a future release, the default value for `weights_only` will be flipped to `True`. This limits the functions that could be executed during unpickling. Arbitrary objects will no longer be allowed to be loaded via this mode unless they are explicitly allowlisted by the user via `torch.serialization.add_safe_globals`. We recommend you start setting `weights_only=True` for any use case where you don't have full control of the loaded file. Please open an issue on GitHub for any issues related to this experimental feature.\n",
            "  model.load_state_dict(torch.load(model_path, map_location=DEVICE))\n"
          ]
        },
        {
          "output_type": "stream",
          "name": "stdout",
          "text": [
            "CSV saved as: predicted_vs_actual_plots/513_model_2slices_tripcons/trip_4 (1).csv\n"
          ]
        },
        {
          "output_type": "stream",
          "name": "stderr",
          "text": [
            "<ipython-input-25-f86aaaec20f2>:26: FutureWarning: You are using `torch.load` with `weights_only=False` (the current default value), which uses the default pickle module implicitly. It is possible to construct malicious pickle data which will execute arbitrary code during unpickling (See https://github.com/pytorch/pytorch/blob/main/SECURITY.md#untrusted-models for more details). In a future release, the default value for `weights_only` will be flipped to `True`. This limits the functions that could be executed during unpickling. Arbitrary objects will no longer be allowed to be loaded via this mode unless they are explicitly allowlisted by the user via `torch.serialization.add_safe_globals`. We recommend you start setting `weights_only=True` for any use case where you don't have full control of the loaded file. Please open an issue on GitHub for any issues related to this experimental feature.\n",
            "  model.load_state_dict(torch.load(model_path, map_location=DEVICE))\n"
          ]
        },
        {
          "output_type": "stream",
          "name": "stdout",
          "text": [
            "CSV saved as: predicted_vs_actual_plots/513_model_3slices_tripcons/trip_4 (1).csv\n"
          ]
        },
        {
          "output_type": "stream",
          "name": "stderr",
          "text": [
            "<ipython-input-25-f86aaaec20f2>:26: FutureWarning: You are using `torch.load` with `weights_only=False` (the current default value), which uses the default pickle module implicitly. It is possible to construct malicious pickle data which will execute arbitrary code during unpickling (See https://github.com/pytorch/pytorch/blob/main/SECURITY.md#untrusted-models for more details). In a future release, the default value for `weights_only` will be flipped to `True`. This limits the functions that could be executed during unpickling. Arbitrary objects will no longer be allowed to be loaded via this mode unless they are explicitly allowlisted by the user via `torch.serialization.add_safe_globals`. We recommend you start setting `weights_only=True` for any use case where you don't have full control of the loaded file. Please open an issue on GitHub for any issues related to this experimental feature.\n",
            "  model.load_state_dict(torch.load(model_path, map_location=DEVICE))\n"
          ]
        },
        {
          "output_type": "stream",
          "name": "stdout",
          "text": [
            "CSV saved as: predicted_vs_actual_plots/513_model_2slices_tripcons/trip_6.csv\n"
          ]
        },
        {
          "output_type": "stream",
          "name": "stderr",
          "text": [
            "<ipython-input-25-f86aaaec20f2>:26: FutureWarning: You are using `torch.load` with `weights_only=False` (the current default value), which uses the default pickle module implicitly. It is possible to construct malicious pickle data which will execute arbitrary code during unpickling (See https://github.com/pytorch/pytorch/blob/main/SECURITY.md#untrusted-models for more details). In a future release, the default value for `weights_only` will be flipped to `True`. This limits the functions that could be executed during unpickling. Arbitrary objects will no longer be allowed to be loaded via this mode unless they are explicitly allowlisted by the user via `torch.serialization.add_safe_globals`. We recommend you start setting `weights_only=True` for any use case where you don't have full control of the loaded file. Please open an issue on GitHub for any issues related to this experimental feature.\n",
            "  model.load_state_dict(torch.load(model_path, map_location=DEVICE))\n"
          ]
        },
        {
          "output_type": "stream",
          "name": "stdout",
          "text": [
            "CSV saved as: predicted_vs_actual_plots/513_model_3slices_tripcons/trip_6.csv\n"
          ]
        },
        {
          "output_type": "stream",
          "name": "stderr",
          "text": [
            "<ipython-input-25-f86aaaec20f2>:26: FutureWarning: You are using `torch.load` with `weights_only=False` (the current default value), which uses the default pickle module implicitly. It is possible to construct malicious pickle data which will execute arbitrary code during unpickling (See https://github.com/pytorch/pytorch/blob/main/SECURITY.md#untrusted-models for more details). In a future release, the default value for `weights_only` will be flipped to `True`. This limits the functions that could be executed during unpickling. Arbitrary objects will no longer be allowed to be loaded via this mode unless they are explicitly allowlisted by the user via `torch.serialization.add_safe_globals`. We recommend you start setting `weights_only=True` for any use case where you don't have full control of the loaded file. Please open an issue on GitHub for any issues related to this experimental feature.\n",
            "  model.load_state_dict(torch.load(model_path, map_location=DEVICE))\n"
          ]
        },
        {
          "output_type": "stream",
          "name": "stdout",
          "text": [
            "CSV saved as: predicted_vs_actual_plots/513_model_2slices_tripcons/trip_3 (1).csv\n"
          ]
        },
        {
          "output_type": "stream",
          "name": "stderr",
          "text": [
            "<ipython-input-25-f86aaaec20f2>:26: FutureWarning: You are using `torch.load` with `weights_only=False` (the current default value), which uses the default pickle module implicitly. It is possible to construct malicious pickle data which will execute arbitrary code during unpickling (See https://github.com/pytorch/pytorch/blob/main/SECURITY.md#untrusted-models for more details). In a future release, the default value for `weights_only` will be flipped to `True`. This limits the functions that could be executed during unpickling. Arbitrary objects will no longer be allowed to be loaded via this mode unless they are explicitly allowlisted by the user via `torch.serialization.add_safe_globals`. We recommend you start setting `weights_only=True` for any use case where you don't have full control of the loaded file. Please open an issue on GitHub for any issues related to this experimental feature.\n",
            "  model.load_state_dict(torch.load(model_path, map_location=DEVICE))\n"
          ]
        },
        {
          "output_type": "stream",
          "name": "stdout",
          "text": [
            "CSV saved as: predicted_vs_actual_plots/513_model_3slices_tripcons/trip_3 (1).csv\n"
          ]
        }
      ]
    },
    {
      "cell_type": "markdown",
      "source": [
        "# **Raate**"
      ],
      "metadata": {
        "id": "CzLT4cfVOXL0"
      }
    },
    {
      "cell_type": "code",
      "execution_count": 24,
      "metadata": {
        "colab": {
          "base_uri": "https://localhost:8080/"
        },
        "id": "9vfRAe8DYqq9",
        "outputId": "a365247e-4a7b-40be-c763-9e2ea892e8a2"
      },
      "outputs": [
        {
          "output_type": "stream",
          "name": "stderr",
          "text": [
            "<ipython-input-24-3413ee86f471>:26: FutureWarning: You are using `torch.load` with `weights_only=False` (the current default value), which uses the default pickle module implicitly. It is possible to construct malicious pickle data which will execute arbitrary code during unpickling (See https://github.com/pytorch/pytorch/blob/main/SECURITY.md#untrusted-models for more details). In a future release, the default value for `weights_only` will be flipped to `True`. This limits the functions that could be executed during unpickling. Arbitrary objects will no longer be allowed to be loaded via this mode unless they are explicitly allowlisted by the user via `torch.serialization.add_safe_globals`. We recommend you start setting `weights_only=True` for any use case where you don't have full control of the loaded file. Please open an issue on GitHub for any issues related to this experimental feature.\n",
            "  model.load_state_dict(torch.load(model_path, map_location=DEVICE))\n"
          ]
        },
        {
          "output_type": "stream",
          "name": "stdout",
          "text": [
            "CSV saved as: predicted_vs_actual_plots/513_model_2slices_rate/trip_4 (1).csv\n"
          ]
        },
        {
          "output_type": "stream",
          "name": "stderr",
          "text": [
            "<ipython-input-24-3413ee86f471>:26: FutureWarning: You are using `torch.load` with `weights_only=False` (the current default value), which uses the default pickle module implicitly. It is possible to construct malicious pickle data which will execute arbitrary code during unpickling (See https://github.com/pytorch/pytorch/blob/main/SECURITY.md#untrusted-models for more details). In a future release, the default value for `weights_only` will be flipped to `True`. This limits the functions that could be executed during unpickling. Arbitrary objects will no longer be allowed to be loaded via this mode unless they are explicitly allowlisted by the user via `torch.serialization.add_safe_globals`. We recommend you start setting `weights_only=True` for any use case where you don't have full control of the loaded file. Please open an issue on GitHub for any issues related to this experimental feature.\n",
            "  model.load_state_dict(torch.load(model_path, map_location=DEVICE))\n"
          ]
        },
        {
          "output_type": "stream",
          "name": "stdout",
          "text": [
            "CSV saved as: predicted_vs_actual_plots/513_model_3slices_rate/trip_4 (1).csv\n"
          ]
        },
        {
          "output_type": "stream",
          "name": "stderr",
          "text": [
            "<ipython-input-24-3413ee86f471>:26: FutureWarning: You are using `torch.load` with `weights_only=False` (the current default value), which uses the default pickle module implicitly. It is possible to construct malicious pickle data which will execute arbitrary code during unpickling (See https://github.com/pytorch/pytorch/blob/main/SECURITY.md#untrusted-models for more details). In a future release, the default value for `weights_only` will be flipped to `True`. This limits the functions that could be executed during unpickling. Arbitrary objects will no longer be allowed to be loaded via this mode unless they are explicitly allowlisted by the user via `torch.serialization.add_safe_globals`. We recommend you start setting `weights_only=True` for any use case where you don't have full control of the loaded file. Please open an issue on GitHub for any issues related to this experimental feature.\n",
            "  model.load_state_dict(torch.load(model_path, map_location=DEVICE))\n"
          ]
        },
        {
          "output_type": "stream",
          "name": "stdout",
          "text": [
            "CSV saved as: predicted_vs_actual_plots/513_model_2slices_rate/trip_6.csv\n"
          ]
        },
        {
          "output_type": "stream",
          "name": "stderr",
          "text": [
            "<ipython-input-24-3413ee86f471>:26: FutureWarning: You are using `torch.load` with `weights_only=False` (the current default value), which uses the default pickle module implicitly. It is possible to construct malicious pickle data which will execute arbitrary code during unpickling (See https://github.com/pytorch/pytorch/blob/main/SECURITY.md#untrusted-models for more details). In a future release, the default value for `weights_only` will be flipped to `True`. This limits the functions that could be executed during unpickling. Arbitrary objects will no longer be allowed to be loaded via this mode unless they are explicitly allowlisted by the user via `torch.serialization.add_safe_globals`. We recommend you start setting `weights_only=True` for any use case where you don't have full control of the loaded file. Please open an issue on GitHub for any issues related to this experimental feature.\n",
            "  model.load_state_dict(torch.load(model_path, map_location=DEVICE))\n"
          ]
        },
        {
          "output_type": "stream",
          "name": "stdout",
          "text": [
            "CSV saved as: predicted_vs_actual_plots/513_model_3slices_rate/trip_6.csv\n"
          ]
        },
        {
          "output_type": "stream",
          "name": "stderr",
          "text": [
            "<ipython-input-24-3413ee86f471>:26: FutureWarning: You are using `torch.load` with `weights_only=False` (the current default value), which uses the default pickle module implicitly. It is possible to construct malicious pickle data which will execute arbitrary code during unpickling (See https://github.com/pytorch/pytorch/blob/main/SECURITY.md#untrusted-models for more details). In a future release, the default value for `weights_only` will be flipped to `True`. This limits the functions that could be executed during unpickling. Arbitrary objects will no longer be allowed to be loaded via this mode unless they are explicitly allowlisted by the user via `torch.serialization.add_safe_globals`. We recommend you start setting `weights_only=True` for any use case where you don't have full control of the loaded file. Please open an issue on GitHub for any issues related to this experimental feature.\n",
            "  model.load_state_dict(torch.load(model_path, map_location=DEVICE))\n"
          ]
        },
        {
          "output_type": "stream",
          "name": "stdout",
          "text": [
            "CSV saved as: predicted_vs_actual_plots/513_model_2slices_rate/trip_3 (1).csv\n"
          ]
        },
        {
          "output_type": "stream",
          "name": "stderr",
          "text": [
            "<ipython-input-24-3413ee86f471>:26: FutureWarning: You are using `torch.load` with `weights_only=False` (the current default value), which uses the default pickle module implicitly. It is possible to construct malicious pickle data which will execute arbitrary code during unpickling (See https://github.com/pytorch/pytorch/blob/main/SECURITY.md#untrusted-models for more details). In a future release, the default value for `weights_only` will be flipped to `True`. This limits the functions that could be executed during unpickling. Arbitrary objects will no longer be allowed to be loaded via this mode unless they are explicitly allowlisted by the user via `torch.serialization.add_safe_globals`. We recommend you start setting `weights_only=True` for any use case where you don't have full control of the loaded file. Please open an issue on GitHub for any issues related to this experimental feature.\n",
            "  model.load_state_dict(torch.load(model_path, map_location=DEVICE))\n"
          ]
        },
        {
          "output_type": "stream",
          "name": "stdout",
          "text": [
            "CSV saved as: predicted_vs_actual_plots/513_model_3slices_rate/trip_3 (1).csv\n"
          ]
        }
      ],
      "source": [
        "import os\n",
        "from sklearn.metrics import mean_absolute_error, mean_squared_error\n",
        "\n",
        "import numpy as np\n",
        "import pandas as pd\n",
        "import matplotlib.pyplot as plt\n",
        "import torch\n",
        "from torch import nn\n",
        "import torch.nn as nn\n",
        "import torch\n",
        "\n",
        "# Constants\n",
        "SEQUENCE_LENGTH = 600  # Updated sequence length\n",
        "PLOT_SAVE_DIR = 'predicted_vs_actual_plots'  # Base directory to save plots and CSVs\n",
        "DEVICE = torch.device('cuda' if torch.cuda.is_available() else 'cpu')\n",
        "\n",
        "# Ensure the base save directory exists\n",
        "os.makedirs(PLOT_SAVE_DIR, exist_ok=True)\n",
        "\n",
        "# Define the PyTorch model structure (same as the one used for training)\n",
        "\n",
        "\n",
        "# Load the trained model\n",
        "def load_trained_model(model_path, input_size):\n",
        "    model = FuelConsumptionModel(input_size=input_size)\n",
        "    model.load_state_dict(torch.load(model_path, map_location=DEVICE))\n",
        "    model.to(DEVICE)\n",
        "    model.eval()\n",
        "    return model\n",
        "\n",
        "# Process the file and prepare segments\n",
        "\n",
        "\n",
        "def process_file(file_path):\n",
        "    df = pd.read_csv(file_path)\n",
        "    if not df.empty :\n",
        "      df.rename(columns={\n",
        "          'Engine_speed': 'Engine speed',\n",
        "          'time': 'Time',\n",
        "          'Vehicle_Speed': 'Speed',\n",
        "          'Trip_fuel_consumption': 'Trip fuel consumption',\n",
        "          'Throttle_position': 'Throttle position',\n",
        "          'Accelerator_pedal_position': 'Accelerator pedal position',\n",
        "          'Cumulative_mileage': 'Cumulative mileage',\n",
        "          'Coolant_temp': 'Coolant_temperature'\n",
        "      }, inplace=True)\n",
        "      df['Time'] = df['Time'] - df['Time'].iloc[0]\n",
        "      df['Momentary fuel consumption1'] = df['Trip fuel consumption'].diff().fillna(0)\n",
        "      df['Momentary fuel consumption2'] = df['Trip fuel consumption'].diff().shift(-1).fillna(0)\n",
        "      df['Acceleration1'] = df['Speed'].diff().fillna(0)\n",
        "      df['Acceleration2'] = df['Speed'].diff().shift(-1).fillna(0)\n",
        "      df['Current_gear_shift_position_(Current_gear)'] = df['Current_gear_shift_position_(Current_gear)'].replace({13: 0, 14: 1})\n",
        "      # features = df[['Adjusted_gear_position', 'Speed', 'slope', 'Acceleration', 'Coolant_temperature']]\n",
        "\n",
        "\n",
        "      # df = df.iloc[:-20]\n",
        "\n",
        "\n",
        "      # features = df[['Acceleration1','Acceleration2','Throttle position','Accelerator pedal position','Coolant_temperature','Speed','Engine speed', 'Current_gear_shift_position_(Current_gear)','correct_altitude',  'slope']]\n",
        "      features = df[['Acceleration1','Acceleration2','Speed', 'Current_gear_shift_position_(Current_gear)','slope']]\n",
        "\n",
        "      # features = df[['Acceleration1','Speed', 'Current_gear_shift_position_(Current_gear)','slope']]\n",
        "\n",
        "\n",
        "\n",
        "      target = df['Momentary fuel consumption2']\n",
        "\n",
        "      if df['Average_fuel_consumption_rate'].isnull().any():\n",
        "            # If the column has null values, delete the file\n",
        "\n",
        "            return features, target , None\n",
        "\n",
        "      target2 = df['Average_fuel_consumption_rate']\n",
        "\n",
        "\n",
        "    return features, target , target2\n",
        "\n",
        "\n",
        "# Pad and normalize the data\n",
        "def pad_and_normalize(data, sequence_length=SEQUENCE_LENGTH):\n",
        "    padded_data = np.zeros((len(data), sequence_length, data[0].shape[1]))\n",
        "    for i, seq in enumerate(data):\n",
        "        length = min(len(seq), sequence_length)\n",
        "        padded_data[i, :length] = seq[:length]\n",
        "\n",
        "    # Normalization (same as in your script)\n",
        "\n",
        "    min_val_x = [-10,-10, 0,0, -10]\n",
        "    max_val_x = [10,10,200, 5, 10]\n",
        "\n",
        "    # min_val_x = [-10, 0,0, -10]\n",
        "    # max_val_x = [10,200, 5, 10]\n",
        "\n",
        "    for i in range(padded_data.shape[-1]):\n",
        "        padded_data[:, :, i] = (padded_data[:, :, i] - min_val_x[i]) / (max_val_x[i] - min_val_x[i])\n",
        "\n",
        "    return torch.tensor(padded_data, dtype=torch.float32).to(DEVICE)\n",
        "\n",
        "\n",
        "\n",
        "\n",
        "# Predict and plot the results\n",
        "def plot_predicted_vs_real(input_file, model, model_name):\n",
        "\n",
        "    features, actual_values , rate  = process_file(input_file)\n",
        "    num_segments = len(features) // SEQUENCE_LENGTH\n",
        "    predictions = []\n",
        "\n",
        "    df1 = pd.read_csv(input_file)\n",
        "\n",
        "    timee                 = (df1['time'].iloc[-1] - df1['time'].iloc[0]) / 60000\n",
        "    mileagee              = (df1['Cumulative_mileage'].iloc[-1] - df1['Cumulative_mileage'].iloc[0])\n",
        "\n",
        "    if rate is not None:\n",
        "      total_cumsum = df1['Average_fuel_consumption_rate'].cumsum().iloc[-1]\n",
        "      trip_fuel_consp100    = ((total_cumsum / 10) / mileagee)\n",
        "    else :\n",
        "      trip_fuel_consp100 = None\n",
        "\n",
        "\n",
        "\n",
        "    for i in range(num_segments):\n",
        "        segment = features.iloc[i * SEQUENCE_LENGTH:(i + 1) * SEQUENCE_LENGTH]\n",
        "        segment_normalized = pad_and_normalize([segment.values])\n",
        "        with torch.no_grad():\n",
        "            segment_predictions = model(segment_normalized).cpu().numpy()\n",
        "        predictions.extend(segment_predictions.flatten() )\n",
        "\n",
        "    # Handle any remaining data\n",
        "    remainder = len(features) % SEQUENCE_LENGTH\n",
        "    if remainder != 0:\n",
        "        last_segment = features.iloc[-remainder:]\n",
        "        last_segment_normalized = pad_and_normalize([last_segment.values], sequence_length=remainder)\n",
        "        with torch.no_grad():\n",
        "            last_segment_predictions = model(last_segment_normalized).cpu().numpy()\n",
        "        predictions.extend(last_segment_predictions.flatten() )\n",
        "\n",
        "    predictions = np.array(predictions)\n",
        "    actual_valuess = actual_values.values[:len(predictions)]  # Ensure lengths match\n",
        "\n",
        "    # Calculate error metrics\n",
        "    # mae = mean_absolute_error(actual_valuess, predictions)\n",
        "    # mse = mean_squared_error(actual_valuess, predictions)\n",
        "\n",
        "    # Handling MAPE: Ignore zero actual values to avoid NaN issues\n",
        "    # non_zero_actual = actual_valuess != 0\n",
        "    # mape = np.mean(np.abs((actual_valuess[non_zero_actual] - predictions[non_zero_actual]) / actual_valuess[non_zero_actual])) * 100\n",
        "\n",
        "    # print(f'MAE: {mae:.4f}---------------{input_file}')\n",
        "    # print(f'MSE: {mse:.4f}')\n",
        "    # print(f'MAPE: {mape:.4f}% ---------------------')\n",
        "\n",
        "\n",
        "\n",
        "    if rate is not None:\n",
        "      trip_fuel_consp100_p = np.cumsum(predictions[:len(actual_values)], axis=0)\n",
        "      trip_fuel_cons_predicted_p100 = (trip_fuel_consp100_p[-1] /10) / mileagee\n",
        "\n",
        "      plt.figure(figsize=(10, 6))\n",
        "      plt.plot(np.cumsum(rate.values[:len(predictions)], axis=0), label='Real', color='blue')\n",
        "      plt.plot(np.cumsum(predictions[:len(rate)], axis=0), label='Predicted', color='red')\n",
        "      plt.xlabel('Index')\n",
        "      plt.ylabel('Fuel Consumption')\n",
        "      plt.title(f'Predicted vs Real Fuel Consumption ({model_name})')\n",
        "      plt.legend()\n",
        "      text = (\n",
        "          f\"time(M) : {timee:.0f} \\n\"\n",
        "          f\"mileage(KM) : {mileagee:.1f} \\n\"\n",
        "          f\"Real fuel cons: {trip_fuel_consp100:.2f} \\n\"\n",
        "          f\"Pred fuel cons: {trip_fuel_cons_predicted_p100:.2f} \\n\"\n",
        "          f\"Error(%) : {((abs(trip_fuel_consp100 -trip_fuel_cons_predicted_p100 ))/trip_fuel_consp100)*100:.2f}\"\n",
        "      )\n",
        "      plt.text(\n",
        "          0.95, 0.05,  # x and y position in figure coordinates\n",
        "          text,  # Multi-line text\n",
        "          fontsize=10,\n",
        "          color='gray',\n",
        "          horizontalalignment='right',\n",
        "          verticalalignment='bottom',\n",
        "          transform=plt.gca().transAxes  # Use axes coordinates\n",
        "      )\n",
        "      # Create model-specific directory\n",
        "      model_save_dir = os.path.join(PLOT_SAVE_DIR, model_name)\n",
        "      os.makedirs(model_save_dir, exist_ok=True)\n",
        "\n",
        "      # Save plot using model name in the designated directory\n",
        "      plot_filename = os.path.join(model_save_dir, f'{os.path.splitext(os.path.basename(input_file))[0]}_all.png')\n",
        "      plt.savefig(plot_filename)\n",
        "      plt.close()\n",
        "\n",
        "    else:\n",
        "      trip_fuel_consp100_p = np.cumsum(predictions[:len(actual_values)], axis=0)\n",
        "      trip_fuel_cons_predicted_p100 = (trip_fuel_consp100_p[-1] /10) / mileagee\n",
        "\n",
        "      plt.figure(figsize=(10, 6))\n",
        "      plt.plot(np.cumsum(actual_values.values[:len(predictions)], axis=0), label='Real', color='blue')\n",
        "      plt.plot(np.cumsum(predictions[:len(actual_values)]*1000, axis=0), label='Predicted', color='red')\n",
        "      plt.xlabel('Index')\n",
        "      plt.ylabel('Fuel Consumption')\n",
        "      plt.title(f'Predicted vs Real Fuel Consumption ({model_name})')\n",
        "      plt.legend()\n",
        "\n",
        "      text = (\n",
        "          f\"time(M) : {timee:.0f} \\n\"\n",
        "          f\"mileage(KM) : {mileagee:.1f} \\n\"\n",
        "          f\"Real fuel cons: {trip_fuel_consp100:.2f} \\n\"\n",
        "          f\"Pred fuel cons: {trip_fuel_cons_predicted_p100:.2f} \\n\"\n",
        "          f\"Error(%) : {((abs(trip_fuel_consp100 -trip_fuel_cons_predicted_p100 ))/trip_fuel_consp100)*100:.2f}\"\n",
        "      )\n",
        "      plt.text(\n",
        "          0.95, 0.05,  # x and y position in figure coordinates\n",
        "          text,  # Multi-line text\n",
        "          fontsize=10,\n",
        "          color='gray',\n",
        "          horizontalalignment='right',\n",
        "          verticalalignment='bottom',\n",
        "          transform=plt.gca().transAxes  # Use axes coordinates\n",
        "      )\n",
        "\n",
        "      # Create model-specific directory\n",
        "      model_save_dir = os.path.join(PLOT_SAVE_DIR, model_name)\n",
        "      os.makedirs(model_save_dir, exist_ok=True)\n",
        "\n",
        "      # Save plot using model name in the designated directory\n",
        "      plot_filename = os.path.join(model_save_dir, f'{os.path.splitext(os.path.basename(input_file))[0]}_all.png')\n",
        "      plt.savefig(plot_filename)\n",
        "      plt.close()\n",
        "\n",
        "    if rate is not None:\n",
        "      # Save predictions and actual values to CSV using model name in the designated directory\n",
        "      results_df = pd.DataFrame({\n",
        "          'Speed': features[\"Speed\"].iloc[:len(predictions)],\n",
        "          'Actual': np.cumsum(actual_values.values[:len(predictions)], axis=0),\n",
        "          'Predicted_sum': np.cumsum(predictions[:len(actual_values)], axis=0),\n",
        "          'Predicted': predictions[:len(actual_values)] ,\n",
        "          'rate' : rate[:len(actual_values)]\n",
        "          # 'MAE': mae,  # Add MAE to the dataframe\n",
        "          # 'MSE': mse,  # Add MSE to the dataframe\n",
        "\n",
        "      })\n",
        "    else :\n",
        "      results_df = pd.DataFrame({\n",
        "          'Speed': features[\"Speed\"].iloc[:len(predictions)],\n",
        "          'Actual': np.cumsum(actual_values.values[:len(predictions)], axis=0),\n",
        "          'Predicted_sum': np.cumsum(predictions[:len(actual_values)], axis=0),\n",
        "          'Predicted': predictions[:len(actual_values)] ,\n",
        "          'rate' : rate\n",
        "          # 'MAE': mae,  # Add MAE to the dataframe\n",
        "          # 'MSE': mse,  # Add MSE to the dataframe\n",
        "\n",
        "      })\n",
        "\n",
        "    csv_filename = os.path.join(model_save_dir, f'{os.path.splitext(os.path.basename(input_file))[0]}.csv')\n",
        "    results_df.to_csv(csv_filename, index=False)\n",
        "    print(f\"CSV saved as: {csv_filename}\")\n",
        "\n",
        "\n",
        "\n",
        "# Directory containing all saved models and CSV files\n",
        "csv_dir = '/content'  # Directory containing CSV files\n",
        "model_dir = '/content/'  # Directory containing model files\n",
        "\n",
        "# List all model files in the directory\n",
        "model_files = [f for f in os.listdir(model_dir) if f.endswith('.pth')]\n",
        "\n",
        "# List all CSV files in the directory\n",
        "csv_files = [f for f in os.listdir(csv_dir) if f.endswith('.csv')]\n",
        "\n",
        "# Load and test each model on each CSV file\n",
        "input_size = 5  # Number of features in the input data\n",
        "# input_size = 4  # Number of features in the input data\n",
        "\n",
        "\n",
        "for csv_file in csv_files:\n",
        "    csv_file_path = os.path.join(csv_dir, csv_file)\n",
        "    # print(f\"0Processing CSV file: {csv_file}\")\n",
        "\n",
        "    for model_file in model_files:\n",
        "        model_path = os.path.join(model_dir, model_file)\n",
        "        model_name = os.path.splitext(model_file)[0]  # Get the base name of the model file\n",
        "        # print(f\"Testing model: {model_name} on {csv_file}\")\n",
        "\n",
        "        model = load_trained_model(model_path, input_size)\n",
        "        plot_predicted_vs_real(csv_file_path, model, model_name)\n",
        "\n",
        "\n"
      ]
    },
    {
      "cell_type": "code",
      "source": [
        "!zip -r predicted_vs_actual_plots.zip predicted_vs_actual_plots"
      ],
      "metadata": {
        "colab": {
          "base_uri": "https://localhost:8080/"
        },
        "id": "bs3MzorIVZjb",
        "outputId": "46c48c74-748f-48be-dd34-e3e602d7e049"
      },
      "execution_count": 27,
      "outputs": [
        {
          "output_type": "stream",
          "name": "stdout",
          "text": [
            "  adding: predicted_vs_actual_plots/ (stored 0%)\n",
            "  adding: predicted_vs_actual_plots/513_model_3slices_tripcons/ (stored 0%)\n",
            "  adding: predicted_vs_actual_plots/513_model_3slices_tripcons/trip_4 (1).csv (deflated 63%)\n",
            "  adding: predicted_vs_actual_plots/513_model_3slices_tripcons/NEDC.csv (deflated 56%)\n",
            "  adding: predicted_vs_actual_plots/513_model_3slices_tripcons/trip_6_all.png (deflated 10%)\n",
            "  adding: predicted_vs_actual_plots/513_model_3slices_tripcons/trip_6.csv (deflated 61%)\n",
            "  adding: predicted_vs_actual_plots/513_model_3slices_tripcons/NEDC_all.png (deflated 12%)\n",
            "  adding: predicted_vs_actual_plots/513_model_3slices_tripcons/trip_3 (1).csv (deflated 61%)\n",
            "  adding: predicted_vs_actual_plots/513_model_3slices_tripcons/trip_4 (1)_all.png (deflated 10%)\n",
            "  adding: predicted_vs_actual_plots/513_model_3slices_tripcons/trip_3 (1)_all.png (deflated 10%)\n",
            "  adding: predicted_vs_actual_plots/513_model_2slices_rate/ (stored 0%)\n",
            "  adding: predicted_vs_actual_plots/513_model_2slices_rate/trip_4 (1).csv (deflated 59%)\n",
            "  adding: predicted_vs_actual_plots/513_model_2slices_rate/trip_6_all.png (deflated 10%)\n",
            "  adding: predicted_vs_actual_plots/513_model_2slices_rate/trip_6.csv (deflated 57%)\n",
            "  adding: predicted_vs_actual_plots/513_model_2slices_rate/trip_3 (1).csv (deflated 59%)\n",
            "  adding: predicted_vs_actual_plots/513_model_2slices_rate/trip_4 (1)_all.png (deflated 10%)\n",
            "  adding: predicted_vs_actual_plots/513_model_2slices_rate/trip_3 (1)_all.png (deflated 9%)\n",
            "  adding: predicted_vs_actual_plots/513_model_2slices_tripcons/ (stored 0%)\n",
            "  adding: predicted_vs_actual_plots/513_model_2slices_tripcons/trip_4 (1).csv (deflated 60%)\n",
            "  adding: predicted_vs_actual_plots/513_model_2slices_tripcons/NEDC.csv (deflated 53%)\n",
            "  adding: predicted_vs_actual_plots/513_model_2slices_tripcons/trip_6_all.png (deflated 10%)\n",
            "  adding: predicted_vs_actual_plots/513_model_2slices_tripcons/trip_6.csv (deflated 59%)\n",
            "  adding: predicted_vs_actual_plots/513_model_2slices_tripcons/NEDC_all.png (deflated 11%)\n",
            "  adding: predicted_vs_actual_plots/513_model_2slices_tripcons/trip_3 (1).csv (deflated 59%)\n",
            "  adding: predicted_vs_actual_plots/513_model_2slices_tripcons/trip_4 (1)_all.png (deflated 9%)\n",
            "  adding: predicted_vs_actual_plots/513_model_2slices_tripcons/trip_3 (1)_all.png (deflated 10%)\n",
            "  adding: predicted_vs_actual_plots/513_model_3slices_rate/ (stored 0%)\n",
            "  adding: predicted_vs_actual_plots/513_model_3slices_rate/trip_4 (1).csv (deflated 59%)\n",
            "  adding: predicted_vs_actual_plots/513_model_3slices_rate/trip_6_all.png (deflated 11%)\n",
            "  adding: predicted_vs_actual_plots/513_model_3slices_rate/trip_6.csv (deflated 57%)\n",
            "  adding: predicted_vs_actual_plots/513_model_3slices_rate/trip_3 (1).csv (deflated 58%)\n",
            "  adding: predicted_vs_actual_plots/513_model_3slices_rate/trip_4 (1)_all.png (deflated 11%)\n",
            "  adding: predicted_vs_actual_plots/513_model_3slices_rate/trip_3 (1)_all.png (deflated 10%)\n"
          ]
        }
      ]
    },
    {
      "cell_type": "code",
      "execution_count": null,
      "metadata": {
        "id": "8_RbJrMiP7Ih"
      },
      "outputs": [],
      "source": [
        "from google.colab import drive\n",
        "drive.mount('/content/drive')"
      ]
    },
    {
      "cell_type": "code",
      "source": [],
      "metadata": {
        "id": "Rtj56jZxoe-n"
      },
      "execution_count": null,
      "outputs": []
    },
    {
      "cell_type": "markdown",
      "source": [
        "# **NEDC Trip cons**"
      ],
      "metadata": {
        "id": "2Di5BXgUofdY"
      }
    },
    {
      "cell_type": "code",
      "source": [
        "import os\n",
        "from sklearn.metrics import mean_absolute_error, mean_squared_error\n",
        "\n",
        "import numpy as np\n",
        "import pandas as pd\n",
        "import matplotlib.pyplot as plt\n",
        "import torch\n",
        "from torch import nn\n",
        "import torch.nn as nn\n",
        "import torch\n",
        "\n",
        "# Constants\n",
        "SEQUENCE_LENGTH = 600  # Updated sequence length\n",
        "PLOT_SAVE_DIR = 'predicted_vs_actual_plots'  # Base directory to save plots and CSVs\n",
        "DEVICE = torch.device('cuda' if torch.cuda.is_available() else 'cpu')\n",
        "\n",
        "# Ensure the base save directory exists\n",
        "os.makedirs(PLOT_SAVE_DIR, exist_ok=True)\n",
        "\n",
        "# Define the PyTorch model structure (same as the one used for training)\n",
        "\n",
        "\n",
        "# Load the trained model\n",
        "def load_trained_model(model_path, input_size):\n",
        "    model = FuelConsumptionModel(input_size=input_size)\n",
        "    model.load_state_dict(torch.load(model_path, map_location=DEVICE))\n",
        "    model.to(DEVICE)\n",
        "    model.eval()\n",
        "    return model\n",
        "\n",
        "# Process the file and prepare segments\n",
        "\n",
        "\n",
        "def process_file(file_path):\n",
        "    df = pd.read_csv(file_path)\n",
        "    if not df.empty :\n",
        "      df.rename(columns={\n",
        "          'Engine_speed': 'Engine speed',\n",
        "          'time': 'Time',\n",
        "          'Vehicle_Speed': 'Speed'\n",
        "      }, inplace=True)\n",
        "\n",
        "      df['Time'] = df['Time'] - df['Time'].iloc[0]\n",
        "      df['Acceleration1'] = df['Speed'].diff().fillna(0)\n",
        "      df['Acceleration2'] = df['Speed'].diff().shift(-1).fillna(0)\n",
        "      df['Current_gear_shift_position_(Current_gear)'] = df['Current_gear_shift_position_(Current_gear)'].replace({13: 0, 14: 1})\n",
        "      # features = df[['Adjusted_gear_position', 'Speed', 'slope', 'Acceleration', 'Coolant_temperature']]\n",
        "\n",
        "\n",
        "      # df = df.iloc[:-20]\n",
        "\n",
        "\n",
        "      # features = df[['Acceleration1','Acceleration2','Throttle position','Accelerator pedal position','Coolant_temperature','Speed','Engine speed', 'Current_gear_shift_position_(Current_gear)','correct_altitude',  'slope']]\n",
        "      features = df[['Acceleration1','Acceleration2','Speed', 'Current_gear_shift_position_(Current_gear)','slope']]\n",
        "\n",
        "      # features = df[['Acceleration1','Speed', 'Current_gear_shift_position_(Current_gear)','slope']]\n",
        "\n",
        "\n",
        "\n",
        "\n",
        "      # target = df['Momentary fuel consumption2']\n",
        "\n",
        "\n",
        "\n",
        "    return features, None\n",
        "\n",
        "\n",
        "# Pad and normalize the data\n",
        "def pad_and_normalize(data, sequence_length=SEQUENCE_LENGTH):\n",
        "    padded_data = np.zeros((len(data), sequence_length, data[0].shape[1]))\n",
        "    for i, seq in enumerate(data):\n",
        "        length = min(len(seq), sequence_length)\n",
        "        padded_data[i, :length] = seq[:length]\n",
        "\n",
        "    # Normalization (same as in your script)\n",
        "\n",
        "    min_val_x = [-10,-10, 0,0, -10]\n",
        "    max_val_x = [10,10,200, 5, 10]\n",
        "\n",
        "    # min_val_x = [-10, 0,0, -10]\n",
        "    # max_val_x = [10,200, 5, 10]\n",
        "\n",
        "\n",
        "    for i in range(padded_data.shape[-1]):\n",
        "        padded_data[:, :, i] = (padded_data[:, :, i] - min_val_x[i]) / (max_val_x[i] - min_val_x[i])\n",
        "\n",
        "    return torch.tensor(padded_data, dtype=torch.float32).to(DEVICE)\n",
        "\n",
        "\n",
        "\n",
        "\n",
        "# Predict and plot the results\n",
        "def plot_predicted_vs_real(input_file, model, model_name):\n",
        "\n",
        "    df1 = pd.read_csv(input_file)\n",
        "\n",
        "    # timee                 = (df1['time'].iloc[-1] - df1['time'].iloc[0]) / 60000\n",
        "    # mileagee              = (df1['Cumulative_mileage'].iloc[-1] - df1['Cumulative_mileage'].iloc[0])\n",
        "    # trip_fuel_consp100    = (((df1['Trip_fuel_consumption'].iloc[-1] - df1['Trip_fuel_consumption'].iloc[0]) / 10000) / mileagee)\n",
        "\n",
        "    features, actual_values  = process_file(input_file)\n",
        "    rate = actual_values\n",
        "    num_segments = len(features) // SEQUENCE_LENGTH\n",
        "    predictions = []\n",
        "\n",
        "    for i in range(num_segments):\n",
        "        segment = features.iloc[i * SEQUENCE_LENGTH:(i + 1) * SEQUENCE_LENGTH]\n",
        "        segment_normalized = pad_and_normalize([segment.values])\n",
        "        with torch.no_grad():\n",
        "            segment_predictions = model(segment_normalized).cpu().numpy()\n",
        "        predictions.extend(segment_predictions.flatten() * 30000 )\n",
        "\n",
        "    # Handle any remaining data\n",
        "    remainder = len(features) % SEQUENCE_LENGTH\n",
        "    if remainder != 0:\n",
        "        last_segment = features.iloc[-remainder:]\n",
        "        last_segment_normalized = pad_and_normalize([last_segment.values], sequence_length=remainder)\n",
        "        with torch.no_grad():\n",
        "            last_segment_predictions = model(last_segment_normalized).cpu().numpy()\n",
        "        predictions.extend(last_segment_predictions.flatten() * 30000 )\n",
        "\n",
        "    predictions = np.array(predictions)\n",
        "    # actual_valuess = actual_values.values[:len(predictions)]  # Ensure lengths match\n",
        "\n",
        "    # trip_fuel_consp100_p = np.cumsum(predictions[:len(actual_values)], axis=0)\n",
        "    # trip_fuel_cons_predicted_p100 = (trip_fuel_consp100_p[-1] /10000) / mileagee\n",
        "\n",
        "    # Calculate error metrics\n",
        "    # mae = mean_absolute_error(actual_valuess, predictions)\n",
        "    # mse = mean_squared_error(actual_valuess, predictions)\n",
        "\n",
        "    # Handling MAPE: Ignore zero actual values to avoid NaN issues\n",
        "    # non_zero_actual = actual_valuess != 0\n",
        "    # mape = np.mean(np.abs((actual_valuess[non_zero_actual] - predictions[non_zero_actual]) / actual_valuess[non_zero_actual])) * 100\n",
        "\n",
        "    # print(f'MAE: {mae:.4f}---------------{input_file}')\n",
        "    # print(f'MSE: {mse:.4f}')\n",
        "    # print(f'MAPE: {mape:.4f}% ---------------------')\n",
        "\n",
        "\n",
        "    plt.figure(figsize=(10, 6))\n",
        "    # plt.plot(np.cumsum(actual_values.values[:len(predictions)], axis=0), label='Real', color='blue')\n",
        "    plt.plot(np.cumsum(predictions[:len(predictions)], axis=0), label='Predicted', color='red')\n",
        "    plt.xlabel('Index')\n",
        "    plt.ylabel('Fuel Consumption')\n",
        "    plt.title(f'Predicted vs Real Fuel Consumption ({model_name})')\n",
        "    plt.legend()\n",
        "\n",
        "    # Create model-specific directory\n",
        "    model_save_dir = os.path.join(PLOT_SAVE_DIR, model_name)\n",
        "    os.makedirs(model_save_dir, exist_ok=True)\n",
        "\n",
        "    # Save plot using model name in the designated directory\n",
        "    plot_filename = os.path.join(model_save_dir, f'{os.path.splitext(os.path.basename(input_file))[0]}_all.png')\n",
        "    plt.savefig(plot_filename)\n",
        "    plt.close()\n",
        "\n",
        "\n",
        "\n",
        "\n",
        "    results_df = pd.DataFrame({\n",
        "        'Speed': features[\"Speed\"].iloc[:len(predictions)],\n",
        "        'gear' : features[\"Current_gear_shift_position_(Current_gear)\"].iloc[:len(predictions)],\n",
        "        'Predicted_sum': np.cumsum(predictions[:len(predictions)], axis=0),\n",
        "        'Predicted': predictions[:len(predictions)]\n",
        "\n",
        "    })\n",
        "\n",
        "    csv_filename = os.path.join(model_save_dir, f'{os.path.splitext(os.path.basename(input_file))[0]}.csv')\n",
        "    results_df.to_csv(csv_filename, index=False)\n",
        "    print(f\"CSV saved as: {csv_filename}\")\n",
        "\n",
        "\n",
        "\n",
        "# Directory containing all saved models and CSV files\n",
        "csv_dir = '/content'  # Directory containing CSV files\n",
        "model_dir = '/content/sample_data'  # Directory containing model files\n",
        "\n",
        "# List all model files in the directory\n",
        "model_files = [f for f in os.listdir(model_dir) if f.endswith('.pth')]\n",
        "\n",
        "# List all CSV files in the directory\n",
        "csv_files = [f for f in os.listdir(csv_dir) if f.endswith('.csv')]\n",
        "\n",
        "# Load and test each model on each CSV file\n",
        "input_size = 5  # Number of features in the input data\n",
        "# input_size = 4  # Number of features in the input data\n",
        "\n",
        "\n",
        "for csv_file in csv_files:\n",
        "    csv_file_path = os.path.join(csv_dir, csv_file)\n",
        "    # print(f\"0Processing CSV file: {csv_file}\")\n",
        "\n",
        "    for model_file in model_files:\n",
        "        model_path = os.path.join(model_dir, model_file)\n",
        "        model_name = os.path.splitext(model_file)[0]  # Get the base name of the model file\n",
        "        # print(f\"Testing model: {model_name} on {csv_file}\")\n",
        "\n",
        "        model = load_trained_model(model_path, input_size)\n",
        "        plot_predicted_vs_real(csv_file_path, model, model_name)\n",
        "\n",
        "\n"
      ],
      "metadata": {
        "colab": {
          "base_uri": "https://localhost:8080/"
        },
        "id": "wgfTW0Gnob9i",
        "outputId": "2fbbcbef-5ec3-4971-938f-d626bbb17886"
      },
      "execution_count": 26,
      "outputs": [
        {
          "output_type": "stream",
          "name": "stderr",
          "text": [
            "<ipython-input-26-4c6a255bc70a>:26: FutureWarning: You are using `torch.load` with `weights_only=False` (the current default value), which uses the default pickle module implicitly. It is possible to construct malicious pickle data which will execute arbitrary code during unpickling (See https://github.com/pytorch/pytorch/blob/main/SECURITY.md#untrusted-models for more details). In a future release, the default value for `weights_only` will be flipped to `True`. This limits the functions that could be executed during unpickling. Arbitrary objects will no longer be allowed to be loaded via this mode unless they are explicitly allowlisted by the user via `torch.serialization.add_safe_globals`. We recommend you start setting `weights_only=True` for any use case where you don't have full control of the loaded file. Please open an issue on GitHub for any issues related to this experimental feature.\n",
            "  model.load_state_dict(torch.load(model_path, map_location=DEVICE))\n"
          ]
        },
        {
          "output_type": "stream",
          "name": "stdout",
          "text": [
            "CSV saved as: predicted_vs_actual_plots/513_model_2slices_tripcons/NEDC.csv\n"
          ]
        },
        {
          "output_type": "stream",
          "name": "stderr",
          "text": [
            "<ipython-input-26-4c6a255bc70a>:26: FutureWarning: You are using `torch.load` with `weights_only=False` (the current default value), which uses the default pickle module implicitly. It is possible to construct malicious pickle data which will execute arbitrary code during unpickling (See https://github.com/pytorch/pytorch/blob/main/SECURITY.md#untrusted-models for more details). In a future release, the default value for `weights_only` will be flipped to `True`. This limits the functions that could be executed during unpickling. Arbitrary objects will no longer be allowed to be loaded via this mode unless they are explicitly allowlisted by the user via `torch.serialization.add_safe_globals`. We recommend you start setting `weights_only=True` for any use case where you don't have full control of the loaded file. Please open an issue on GitHub for any issues related to this experimental feature.\n",
            "  model.load_state_dict(torch.load(model_path, map_location=DEVICE))\n"
          ]
        },
        {
          "output_type": "stream",
          "name": "stdout",
          "text": [
            "CSV saved as: predicted_vs_actual_plots/513_model_3slices_tripcons/NEDC.csv\n"
          ]
        }
      ]
    }
  ],
  "metadata": {
    "colab": {
      "collapsed_sections": [
        "rGvLDIFEo3yV",
        "U1P_IJRN1eql",
        "xxD9Z6uTS15N",
        "CTcdtMsmri2O"
      ],
      "provenance": []
    },
    "kernelspec": {
      "display_name": "Python 3",
      "name": "python3"
    },
    "language_info": {
      "name": "python"
    }
  },
  "nbformat": 4,
  "nbformat_minor": 0
}
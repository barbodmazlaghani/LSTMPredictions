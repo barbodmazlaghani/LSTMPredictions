{
  "cells": [
    {
      "cell_type": "code",
      "execution_count": 1,
      "metadata": {
        "colab": {
          "base_uri": "https://localhost:8080/"
        },
        "id": "X_RQgrvEbkfv",
        "outputId": "07880de4-3837-44c1-e98c-d9e5e8c07409"
      },
      "outputs": [
        {
          "name": "stdout",
          "output_type": "stream",
          "text": [
            "Mounted at /content/gdrive\n"
          ]
        }
      ],
      "source": [
        "from google.colab import drive\n",
        "drive.mount('/content/gdrive')"
      ]
    },
    {
      "cell_type": "code",
      "execution_count": 2,
      "metadata": {
        "id": "3PDshfYSS1BB"
      },
      "outputs": [],
      "source": [
        "import os\n",
        "import numpy as np\n",
        "import pandas as pd\n",
        "import torch\n",
        "from multiprocessing import Pool\n",
        "from sklearn.preprocessing import MinMaxScaler\n",
        "import os\n",
        "import numpy as np\n",
        "import pandas as pd\n",
        "import torch\n",
        "import torch.nn as nn\n",
        "import torch.optim as optim\n",
        "from sklearn.preprocessing import MinMaxScaler\n",
        "from torch.utils.data import DataLoader, TensorDataset\n",
        "import joblib\n",
        "from tqdm import tqdm\n",
        "\n",
        "SEQUENCE_LENGTH = 200\n",
        "BATCH_SIZE = 64\n",
        "EPOCHS = 250\n",
        "LEARNING_RATE = 1e-5\n",
        "DEVICE = torch.device('cuda' if torch.cuda.is_available() else 'cpu')"
      ]
    },
    {
      "cell_type": "markdown",
      "metadata": {
        "id": "T2VsgPt5JVSs"
      },
      "source": [
        "#Load file"
      ]
    },
    {
      "cell_type": "code",
      "execution_count": 3,
      "metadata": {
        "id": "HzRBHKopJXR7"
      },
      "outputs": [],
      "source": [
        "# Loading from npz file\n",
        "data = np.load('/content/gdrive/MyDrive/data200_5S_200k.npz')\n",
        "\n",
        "X_original = data['X_original']\n",
        "y_original = data['y_original']\n",
        "X_augmented = data['X_augmented']\n",
        "y_augmented = data['y_augmented']\n"
      ]
    },
    {
      "cell_type": "code",
      "execution_count": 4,
      "metadata": {
        "id": "eTGExYs0enuV"
      },
      "outputs": [],
      "source": [
        "\n",
        "# Convert data to PyTorch tensors\n",
        "try:\n",
        "    X_original = torch.tensor(np.array(X_original), dtype=torch.float32).to(DEVICE)\n",
        "    y_original = torch.tensor(np.array(y_original), dtype=torch.float32).to(DEVICE)\n",
        "    X_augmented = torch.tensor(np.array(X_augmented), dtype=torch.float32).to(DEVICE)\n",
        "    y_augmented = torch.tensor(np.array(y_augmented), dtype=torch.float32).to(DEVICE)\n",
        "except Exception as e:\n",
        "    print(f\"Error during tensor conversion: {e}\")\n",
        "    print(f\"Shapes: X_original - {np.array(X_original).shape}, y_original - {np.array(y_original).shape}\")\n",
        "    print(f\"Shapes: X_augmented - {np.array(X_augmented).shape}, y_augmented - {np.array(y_augmented).shape}\")\n",
        "    raise\n"
      ]
    },
    {
      "cell_type": "code",
      "execution_count": 5,
      "metadata": {
        "id": "DN9TrizAeqPk"
      },
      "outputs": [],
      "source": [
        "\n",
        "# Split into training and test sets\n",
        "# num_test = int(0.2 * len(X_original))\n",
        "# X_test = X_original[:num_test]\n",
        "# y_test = y_original[:num_test]\n",
        "# X_train = torch.cat([X_original[num_test:], X_augmented])\n",
        "# y_train = torch.cat([y_original[num_test:], y_augmented])\n",
        "\n",
        "\n",
        "X_train = torch.cat([X_original, X_augmented])\n",
        "y_train = torch.cat([y_original, y_augmented])\n",
        "# X_train = X_original[num_test:]\n",
        "# y_train = y_original[num_test:]\n"
      ]
    },
    {
      "cell_type": "code",
      "execution_count": 6,
      "metadata": {
        "id": "YSaA3VdOes7k"
      },
      "outputs": [],
      "source": [
        "\n",
        "# Convert the min and max values to tensors\n",
        "min_val_x = torch.tensor([0, 0, -10, -10], dtype=torch.float32).to(DEVICE)\n",
        "max_val_x = torch.tensor([6, 150, 10, 10], dtype=torch.float32).to(DEVICE)\n",
        "\n",
        "min_val_y = torch.tensor([0], dtype=torch.float32).to(DEVICE)\n",
        "max_val_y = torch.tensor([20000], dtype=torch.float32).to(DEVICE)\n",
        "\n",
        "# Custom normalization function for X\n",
        "def custom_normalize_X(data, min_vals, max_vals):\n",
        "    for i in range(data.shape[-1]):\n",
        "        data[:, :, i] = (data[:, :, i] - min_vals[i]) / (max_vals[i] - min_vals[i])\n",
        "    return data\n",
        "\n",
        "# Custom normalization function for y\n",
        "def custom_normalize_y(data, min_val, max_val):\n",
        "    return (data - min_val) / (max_val - min_val)\n",
        "\n",
        "# Normalize X_train and X_test\n",
        "X_train_normalized = custom_normalize_X(X_train, min_val_x, max_val_x)\n",
        "# X_test_normalized = custom_normalize_X(X_test, min_val_x, max_val_x)\n",
        "\n",
        "# Normalize y_train and y_test\n",
        "y_train_normalized = custom_normalize_y(y_train, min_val_y, max_val_y)\n",
        "# y_test_normalized = custom_normalize_y(y_test, min_val_y, max_val_y)\n"
      ]
    },
    {
      "cell_type": "code",
      "execution_count": 7,
      "metadata": {
        "id": "MwYKbOq_Zcr7"
      },
      "outputs": [],
      "source": [
        "import torch.nn as nn\n",
        "import torch\n",
        "\n",
        "class FuelConsumptionModel(nn.Module):\n",
        "    def __init__(self, input_size):\n",
        "        super(FuelConsumptionModel, self).__init__()\n",
        "        # LSTM layers\n",
        "        self.lstm1 = nn.LSTM(input_size, 32, batch_first=True, bidirectional=True)\n",
        "        self.lstm2 = nn.LSTM(64, 32, batch_first=True, bidirectional=True)\n",
        "\n",
        "        # Layer Normalization after each LSTM\n",
        "        self.layer_norm1 = nn.LayerNorm(64)\n",
        "        self.layer_norm2 = nn.LayerNorm(64)\n",
        "\n",
        "        # Dropout layers\n",
        "        self.dropout1 = nn.Dropout(0.2)\n",
        "        self.dropout2 = nn.Dropout(0.2)\n",
        "\n",
        "        # Dense output layer\n",
        "        self.dense = nn.Linear(64, 1)\n",
        "\n",
        "    def forward(self, x):\n",
        "        # LSTM 1 + Layer Normalization + Dropout\n",
        "        x, _ = self.lstm1(x)\n",
        "        x = self.layer_norm1(x)  # Apply layer normalization after LSTM1\n",
        "        x = self.dropout1(x)\n",
        "\n",
        "        # LSTM 2 + Layer Normalization + Dropout\n",
        "        x, _ = self.lstm2(x)\n",
        "        x = self.layer_norm2(x)  # Apply layer normalization after LSTM2\n",
        "        x = self.dropout2(x)\n",
        "\n",
        "        # Dense layer for final output\n",
        "        x = self.dense(x)\n",
        "\n",
        "        return x\n"
      ]
    },
    {
      "cell_type": "code",
      "execution_count": 8,
      "metadata": {
        "id": "mRtldQG5e4-a"
      },
      "outputs": [],
      "source": [
        "\n",
        "# Instantiate the model, define the loss function and the optimizer\n",
        "model = FuelConsumptionModel(input_size=X_train_normalized.shape[-1]).to(DEVICE)\n",
        "criterion = nn.L1Loss()\n",
        "weight_decay = 1e-4  # L2 regularization factor\n",
        "optimizer = optim.Adam(model.parameters(), lr=LEARNING_RATE, weight_decay=weight_decay)"
      ]
    },
    {
      "cell_type": "code",
      "execution_count": 9,
      "metadata": {
        "id": "NrURTgcFgyYL"
      },
      "outputs": [],
      "source": [
        "# Assume 80% of the data is used for training and 20% for validation\n",
        "train_size = int(0.8 * len(X_train_normalized))\n",
        "val_size = len(X_train_normalized) - train_size\n",
        "\n",
        "# Split the data while preserving the order\n",
        "X_train_split = X_train_normalized[:train_size]\n",
        "y_train_split = y_train_normalized[:train_size]\n",
        "\n",
        "X_val_split = X_train_normalized[train_size:]\n",
        "y_val_split = y_train_normalized[train_size:]\n",
        "\n",
        "\n",
        "\n",
        "# BATCH_SIZE = 96\n",
        "# # Create DataLoader for training and validation sets\n",
        "# train_loader = DataLoader(TensorDataset(X_train_split, y_train_split), batch_size=BATCH_SIZE, shuffle=True)\n",
        "# val_loader = DataLoader(TensorDataset(X_val_split, y_val_split), batch_size=BATCH_SIZE, shuffle=False)\n",
        "\n",
        "\n"
      ]
    },
    {
      "cell_type": "code",
      "execution_count": null,
      "metadata": {
        "colab": {
          "base_uri": "https://localhost:8080/"
        },
        "id": "_z0wpMf9gK-h",
        "outputId": "3b8cb55a-ded0-420d-c2f3-5866cee3823d"
      },
      "outputs": [
        {
          "name": "stderr",
          "output_type": "stream",
          "text": [
            "/usr/local/lib/python3.10/dist-packages/torch/optim/lr_scheduler.py:60: UserWarning: The verbose parameter is deprecated. Please use get_last_lr() to access the learning rate.\n",
            "  warnings.warn(\n"
          ]
        },
        {
          "name": "stdout",
          "output_type": "stream",
          "text": [
            "Epoch [1/500] ---- Training Loss: 0.0394 ---- Validation Loss: 0.015734 ------0.0001\n",
            "Epoch [2/500] ---- Training Loss: 0.0139 ---- Validation Loss: 0.009893 ------0.0001\n",
            "Epoch [3/500] ---- Training Loss: 0.0105 ---- Validation Loss: 0.008983 ------0.0001\n",
            "Epoch [4/500] ---- Training Loss: 0.0096 ---- Validation Loss: 0.008811 ------0.0001\n"
          ]
        }
      ],
      "source": [
        "import torch\n",
        "import torch.nn as nn\n",
        "import torch.optim as optim\n",
        "from torch.optim.lr_scheduler import StepLR  # Importing StepLR for learning rate decay\n",
        "from torch.optim.lr_scheduler import ReduceLROnPlateau\n",
        "# Assuming `FuelConsumptionModel`, `X_train_normalized`, `train_loader`, `val_loader`, `DEVICE`, and `EPOCHS` are defined\n",
        "\n",
        "# Choose a single loss function to use for all experiments\n",
        "criterion = nn.L1Loss()  # You can change this to your preferred loss function\n",
        "\n",
        "EPOCHS = 500\n",
        "# Define weight decay values and initial learning rates for decay schedules\n",
        "weight_decay_values = 1e-5\n",
        "initial_learning_rates = [1e-4]  # Two starting learning rates\n",
        "\n",
        "# Initialize variables to track the best parameters\n",
        "best_weight_decay = None\n",
        "best_initial_lr = None\n",
        "best_model_weights = None\n",
        "best_val_loss = float('inf')\n",
        "\n",
        "ini_batches = [64]\n",
        "# Loop over all combinations of initial learning rates and weight decay values\n",
        "\n",
        "BATCH_SIZE = 64\n",
        "# Create DataLoader for training and validation sets\n",
        "train_loader = DataLoader(TensorDataset(X_train_split, y_train_split), batch_size=BATCH_SIZE, shuffle=True)\n",
        "val_loader = DataLoader(TensorDataset(X_val_split, y_val_split), batch_size=BATCH_SIZE, shuffle=False)\n",
        "\n",
        "for init_lr in initial_learning_rates:\n",
        "    # Initialize model, criterion, and optimizer for each combination\n",
        "    model = FuelConsumptionModel(input_size=X_train_normalized.shape[-1]).to(DEVICE)\n",
        "    optimizer = optim.Adam(model.parameters(), lr=init_lr, weight_decay=weight_decay_values)\n",
        "    scheduler = ReduceLROnPlateau(optimizer, mode='min', factor=0.5, patience=5, verbose=True)\n",
        "    # Early stopping parameters\n",
        "    patience = 20  # Number of epochs to wait before stopping if no improvement\n",
        "    best_loss = float('inf')  # Initialize best loss to infinity\n",
        "    epochs_without_improvement = 0  # Counter for epochs without improvement\n",
        "\n",
        "    # Training loop with early stopping\n",
        "    model.train()\n",
        "    for epoch in range(EPOCHS):\n",
        "        running_loss = 0.0\n",
        "        model.train()  # Ensure model is in training mode\n",
        "\n",
        "        # Training phase\n",
        "        for inputs, targets in train_loader:\n",
        "            inputs, targets = inputs.to(DEVICE), targets.to(DEVICE)  # Ensure data is on the correct device\n",
        "            optimizer.zero_grad()\n",
        "            outputs = model(inputs)\n",
        "            loss = criterion(outputs, targets)\n",
        "            loss.backward()\n",
        "            optimizer.step()\n",
        "            running_loss += loss.item()\n",
        "\n",
        "        # Calculate average loss for the epoch\n",
        "        avg_training_loss = running_loss / len(train_loader)\n",
        "\n",
        "        # Validation phase\n",
        "        model.eval()  # Switch to evaluation mode\n",
        "        val_running_loss = 0.0\n",
        "        with torch.no_grad():\n",
        "            for inputs, targets in val_loader:  # Assume you have a validation DataLoader `val_loader`\n",
        "                inputs, targets = inputs.to(DEVICE), targets.to(DEVICE)  # Ensure data is on the correct device\n",
        "                outputs = model(inputs)\n",
        "                val_loss = criterion(outputs, targets)\n",
        "                val_running_loss += val_loss.item()\n",
        "\n",
        "        avg_val_loss = val_running_loss / len(val_loader)\n",
        "\n",
        "        current_lr = optimizer.param_groups[0]['lr']\n",
        "        print(f\"Epoch [{epoch+1}/{EPOCHS}] ---- Training Loss: {avg_training_loss:.4f} ---- Validation Loss: {avg_val_loss:.6f} ------{current_lr}\")\n",
        "\n",
        "        # print(f\"Epoch [{epoch+1}/{EPOCHS}] ---- Training Loss: {avg_training_loss:.4f} ---- Validation Loss: {avg_val_loss:.4f}    Init LR: {init_lr:.0e}  WD: {wd:.0e}\")\n",
        "\n",
        "        # Adjust the learning rate\n",
        "        scheduler.step(avg_val_loss)\n",
        "\n",
        "        # Early stopping check\n",
        "        if avg_val_loss < best_loss:\n",
        "            best_loss = avg_val_loss\n",
        "            epochs_without_improvement = 0\n",
        "        else:\n",
        "            epochs_without_improvement += 1\n",
        "            if epochs_without_improvement >= patience:\n",
        "                print(f\"Early stopping at epoch {epoch+1}\")\n",
        "                break\n",
        "\n",
        "        # Save the model for the current combination\n",
        "        model_filename = f'best_fuel_consumption_1S_wd6_norm.pth'\n",
        "        torch.save(model.state_dict(), model_filename)\n",
        "\n",
        "\n",
        "print(f\"Saved model: {model_filename}\")"
      ]
    },
    {
      "cell_type": "markdown",
      "metadata": {
        "id": "PT91Xk2ibldP"
      },
      "source": [
        "#Test with all saved model\n"
      ]
    },
    {
      "cell_type": "code",
      "execution_count": null,
      "metadata": {
        "id": "S3U3lS9fYF3L"
      },
      "outputs": [],
      "source": [
        "import torch.nn as nn\n",
        "import torch\n",
        "\n",
        "class FuelConsumptionModel(nn.Module):\n",
        "    def __init__(self, input_size):\n",
        "        super(FuelConsumptionModel, self).__init__()\n",
        "        # LSTM layers\n",
        "        self.lstm1 = nn.LSTM(input_size, 32, batch_first=True, bidirectional=True)\n",
        "        self.lstm2 = nn.LSTM(64, 32, batch_first=True, bidirectional=True)\n",
        "\n",
        "        # Layer Normalization after each LSTM\n",
        "        self.layer_norm1 = nn.LayerNorm(64)\n",
        "        self.layer_norm2 = nn.LayerNorm(64)\n",
        "\n",
        "        # Dropout layers\n",
        "        self.dropout1 = nn.Dropout(0.2)\n",
        "        self.dropout2 = nn.Dropout(0.2)\n",
        "\n",
        "        # Dense output layer\n",
        "        self.dense = nn.Linear(64, 1)\n",
        "\n",
        "    def forward(self, x):\n",
        "        # LSTM 1 + Layer Normalization + Dropout\n",
        "        x, _ = self.lstm1(x)\n",
        "        x = self.layer_norm1(x)  # Apply layer normalization after LSTM1\n",
        "        x = self.dropout1(x)\n",
        "\n",
        "        # LSTM 2 + Layer Normalization + Dropout\n",
        "        x, _ = self.lstm2(x)\n",
        "        x = self.layer_norm2(x)  # Apply layer normalization after LSTM2\n",
        "        x = self.dropout2(x)\n",
        "\n",
        "        # Dense layer for final output\n",
        "        x = self.dense(x)\n",
        "\n",
        "        return x\n"
      ]
    },
    {
      "cell_type": "code",
      "execution_count": null,
      "metadata": {
        "colab": {
          "base_uri": "https://localhost:8080/"
        },
        "id": "9vfRAe8DYqq9",
        "outputId": "09c0b44e-c991-469e-cf61-8842a66bf34d"
      },
      "outputs": [
        {
          "name": "stderr",
          "output_type": "stream",
          "text": [
            "<ipython-input-16-913cda0dc380>:26: FutureWarning: You are using `torch.load` with `weights_only=False` (the current default value), which uses the default pickle module implicitly. It is possible to construct malicious pickle data which will execute arbitrary code during unpickling (See https://github.com/pytorch/pytorch/blob/main/SECURITY.md#untrusted-models for more details). In a future release, the default value for `weights_only` will be flipped to `True`. This limits the functions that could be executed during unpickling. Arbitrary objects will no longer be allowed to be loaded via this mode unless they are explicitly allowlisted by the user via `torch.serialization.add_safe_globals`. We recommend you start setting `weights_only=True` for any use case where you don't have full control of the loaded file. Please open an issue on GitHub for any issues related to this experimental feature.\n",
            "  model.load_state_dict(torch.load(model_path, map_location=DEVICE))\n",
            "<ipython-input-16-913cda0dc380>:93: RuntimeWarning: divide by zero encountered in divide\n",
            "  mape = np.mean(np.abs((actual_valuess - predictions) / actual_valuess)) * 100\n"
          ]
        },
        {
          "name": "stdout",
          "output_type": "stream",
          "text": [
            "MAE: 158.4469---------------/content/21sh_Sheet1_slope_added.csv\n",
            "MSE: 54680.8611\n",
            "MAPE: inf% ---------------------\n",
            "CSV saved as: predicted_vs_actual_plots/best_fuel_consumption_model_wd5/21sh_Sheet1_slope_added.csv\n",
            "MAE: 185.6303---------------/content/21sh_Sheet2_slope_added.csv\n",
            "MSE: 116990.5444\n",
            "MAPE: inf% ---------------------\n"
          ]
        },
        {
          "name": "stderr",
          "output_type": "stream",
          "text": [
            "<ipython-input-16-913cda0dc380>:26: FutureWarning: You are using `torch.load` with `weights_only=False` (the current default value), which uses the default pickle module implicitly. It is possible to construct malicious pickle data which will execute arbitrary code during unpickling (See https://github.com/pytorch/pytorch/blob/main/SECURITY.md#untrusted-models for more details). In a future release, the default value for `weights_only` will be flipped to `True`. This limits the functions that could be executed during unpickling. Arbitrary objects will no longer be allowed to be loaded via this mode unless they are explicitly allowlisted by the user via `torch.serialization.add_safe_globals`. We recommend you start setting `weights_only=True` for any use case where you don't have full control of the loaded file. Please open an issue on GitHub for any issues related to this experimental feature.\n",
            "  model.load_state_dict(torch.load(model_path, map_location=DEVICE))\n",
            "<ipython-input-16-913cda0dc380>:93: RuntimeWarning: divide by zero encountered in divide\n",
            "  mape = np.mean(np.abs((actual_valuess - predictions) / actual_valuess)) * 100\n"
          ]
        },
        {
          "name": "stdout",
          "output_type": "stream",
          "text": [
            "CSV saved as: predicted_vs_actual_plots/best_fuel_consumption_model_wd5/21sh_Sheet2_slope_added.csv\n"
          ]
        }
      ],
      "source": [
        "import os\n",
        "from sklearn.metrics import mean_absolute_error, mean_squared_error\n",
        "\n",
        "import numpy as np\n",
        "import pandas as pd\n",
        "import matplotlib.pyplot as plt\n",
        "import torch\n",
        "from torch import nn\n",
        "import torch.nn as nn\n",
        "import torch\n",
        "\n",
        "# Constants\n",
        "SEQUENCE_LENGTH = 200  # Updated sequence length\n",
        "PLOT_SAVE_DIR = 'predicted_vs_actual_plots'  # Base directory to save plots and CSVs\n",
        "DEVICE = torch.device('cuda' if torch.cuda.is_available() else 'cpu')\n",
        "\n",
        "# Ensure the base save directory exists\n",
        "os.makedirs(PLOT_SAVE_DIR, exist_ok=True)\n",
        "\n",
        "# Define the PyTorch model structure (same as the one used for training)\n",
        "\n",
        "\n",
        "# Load the trained model\n",
        "def load_trained_model(model_path, input_size):\n",
        "    model = FuelConsumptionModel(input_size=input_size)\n",
        "    model.load_state_dict(torch.load(model_path, map_location=DEVICE))\n",
        "    model.to(DEVICE)\n",
        "    model.eval()\n",
        "    return model\n",
        "\n",
        "# Process the file and prepare segments\n",
        "def process_file(file_path):\n",
        "    df = pd.read_csv(file_path)\n",
        "    # df = df.iloc[1567:]\n",
        "    # df = df.iloc[::2].reset_index(drop=True)\n",
        "\n",
        "    df['Time'] = df['time'] - df['time'].iloc[0]\n",
        "    df['Trip fuel consumption'] = df['Trip_fuel_consumption'] - df['Trip_fuel_consumption'].iloc[0]\n",
        "    df['Acceleration'] = df['Vehicle_Speed'].diff().fillna(0)\n",
        "    df['Momentary fuel consumption'] = df['Trip fuel consumption'].diff().fillna(0)\n",
        "\n",
        "    df['Adjusted_gear_position'] = df['Current_gear_shift_position_(Current_gear)'].replace({13: 0.2, 14: 1})\n",
        "\n",
        "    # Selecting features and target\n",
        "    features = df[['Adjusted_gear_position', 'Vehicle_Speed', 'slope', 'Acceleration']]\n",
        "    target = df['Momentary fuel consumption']\n",
        "    target = df['Momentary fuel consumption']\n",
        "    return features, target\n",
        "\n",
        "# Pad and normalize the data\n",
        "def pad_and_normalize(data, sequence_length=SEQUENCE_LENGTH):\n",
        "    padded_data = np.zeros((len(data), sequence_length, data[0].shape[1]))\n",
        "    for i, seq in enumerate(data):\n",
        "        length = min(len(seq), sequence_length)\n",
        "        padded_data[i, :length] = seq[:length]\n",
        "\n",
        "    # Normalization (same as in your script)\n",
        "    min_val_x = [0, 0, -10, -10]\n",
        "    max_val_x = [6, 150, 10, 10]\n",
        "    for i in range(padded_data.shape[-1]):\n",
        "        padded_data[:, :, i] = (padded_data[:, :, i] - min_val_x[i]) / (max_val_x[i] - min_val_x[i])\n",
        "\n",
        "    return torch.tensor(padded_data, dtype=torch.float32).to(DEVICE)\n",
        "\n",
        "# Predict and plot the results\n",
        "def plot_predicted_vs_real(input_file, model, model_name):\n",
        "    features, actual_values = process_file(input_file)\n",
        "    num_segments = len(features) // SEQUENCE_LENGTH\n",
        "    predictions = []\n",
        "\n",
        "    for i in range(num_segments):\n",
        "        segment = features.iloc[i * SEQUENCE_LENGTH:(i + 1) * SEQUENCE_LENGTH]\n",
        "        segment_normalized = pad_and_normalize([segment.values])\n",
        "        with torch.no_grad():\n",
        "            segment_predictions = model(segment_normalized).cpu().numpy()\n",
        "        predictions.extend(segment_predictions.flatten() * 10000)\n",
        "\n",
        "    # Handle any remaining data\n",
        "    remainder = len(features) % SEQUENCE_LENGTH\n",
        "    if remainder != 0:\n",
        "        last_segment = features.iloc[-remainder:]\n",
        "        last_segment_normalized = pad_and_normalize([last_segment.values], sequence_length=remainder)\n",
        "        with torch.no_grad():\n",
        "            last_segment_predictions = model(last_segment_normalized).cpu().numpy()\n",
        "        predictions.extend(last_segment_predictions.flatten() * 10000)\n",
        "\n",
        "    predictions = np.array(predictions)\n",
        "    actual_valuess = actual_values.values[:len(predictions)]  # Ensure lengths match\n",
        "\n",
        "    # Calculate error metrics\n",
        "    mae = mean_absolute_error(actual_valuess, predictions)\n",
        "    mse = mean_squared_error(actual_valuess, predictions)\n",
        "    mape = np.mean(np.abs((actual_valuess - predictions) / actual_valuess)) * 100\n",
        "\n",
        "    print(f'MAE: {mae:.4f}---------------{input_file}')\n",
        "    print(f'MSE: {mse:.4f}')\n",
        "    print(f'MAPE: {mape:.4f}% ---------------------')\n",
        "\n",
        "    plt.figure(figsize=(10, 6))\n",
        "    plt.plot(np.cumsum(actual_values.values[:len(predictions)], axis=0), label='Real', color='blue')\n",
        "    plt.plot(np.cumsum(predictions[:len(actual_values)], axis=0), label='Predicted', color='red')\n",
        "    plt.xlabel('Index')\n",
        "    plt.ylabel('Fuel Consumption')\n",
        "    plt.title(f'Predicted vs Real Fuel Consumption ({model_name})')\n",
        "    plt.legend()\n",
        "\n",
        "    # Create model-specific directory\n",
        "    model_save_dir = os.path.join(PLOT_SAVE_DIR, model_name)\n",
        "    os.makedirs(model_save_dir, exist_ok=True)\n",
        "\n",
        "    # Save plot using model name in the designated directory\n",
        "    plot_filename = os.path.join(model_save_dir, f'{os.path.splitext(os.path.basename(input_file))[0]}_all.png')\n",
        "    plt.savefig(plot_filename)\n",
        "    plt.close()\n",
        "\n",
        "    # print(f\"Plot saved as: {plot_filename}\")\n",
        "\n",
        "    # Save predictions and actual values to CSV using model name in the designated directory\n",
        "    results_df = pd.DataFrame({\n",
        "        'Speed': features[\"Vehicle_Speed\"].iloc[:len(predictions)],\n",
        "        'Actual': np.cumsum(actual_values.values[:len(predictions)], axis=0),\n",
        "        'Predicted': np.cumsum(predictions[:len(actual_values)], axis=0)\n",
        "    })\n",
        "\n",
        "    csv_filename = os.path.join(model_save_dir, f'{os.path.splitext(os.path.basename(input_file))[0]}.csv')\n",
        "    results_df.to_csv(csv_filename, index=False)\n",
        "    print(f\"CSV saved as: {csv_filename}\")\n",
        "# Directory containing all saved models and CSV files\n",
        "csv_dir = '/content/'  # Directory containing CSV files\n",
        "model_dir = '/content/sample_data'  # Directory containing model files\n",
        "\n",
        "# List all model files in the directory\n",
        "model_files = [f for f in os.listdir(model_dir) if f.endswith('.pth')]\n",
        "\n",
        "# List all CSV files in the directory\n",
        "csv_files = [f for f in os.listdir(csv_dir) if f.endswith('.csv')]\n",
        "\n",
        "# Load and test each model on each CSV file\n",
        "input_size = 4  # Number of features in the input data\n",
        "\n",
        "for csv_file in csv_files:\n",
        "    csv_file_path = os.path.join(csv_dir, csv_file)\n",
        "    # print(f\"Processing CSV file: {csv_file}\")\n",
        "\n",
        "    for model_file in model_files:\n",
        "        model_path = os.path.join(model_dir, model_file)\n",
        "        model_name = os.path.splitext(model_file)[0]  # Get the base name of the model file\n",
        "        # print(f\"Testing model: {model_name} on {csv_file}\")\n",
        "\n",
        "        model = load_trained_model(model_path, input_size)\n",
        "        plot_predicted_vs_real(csv_file_path, model, model_name)\n"
      ]
    },
    {
      "cell_type": "code",
      "execution_count": null,
      "metadata": {
        "colab": {
          "base_uri": "https://localhost:8080/"
        },
        "id": "ld0z9cg9-Fth",
        "outputId": "3e2dab0d-a7ed-4da9-8f27-3efc1301d36c"
      },
      "outputs": [
        {
          "name": "stdout",
          "output_type": "stream",
          "text": [
            "  adding: content/predicted_vs_actual_plots/ (stored 0%)\n",
            "  adding: content/predicted_vs_actual_plots/best_fuel_consumption_model_layernorm/ (stored 0%)\n",
            "  adding: content/predicted_vs_actual_plots/best_fuel_consumption_model_layernorm/21sh_Sheet2_slope_added_all.png (deflated 9%)\n",
            "  adding: content/predicted_vs_actual_plots/best_fuel_consumption_model_layernorm/21sh_Sheet1_slope_added.csv (deflated 60%)\n",
            "  adding: content/predicted_vs_actual_plots/best_fuel_consumption_model_layernorm/21sh_Sheet2_slope_added.csv (deflated 61%)\n",
            "  adding: content/predicted_vs_actual_plots/best_fuel_consumption_model_layernorm/21sh_Sheet1_slope_added_all.png (deflated 9%)\n",
            "  adding: content/predicted_vs_actual_plots/best_fuel_consumption_1S_wd5_norm/ (stored 0%)\n",
            "  adding: content/predicted_vs_actual_plots/best_fuel_consumption_1S_wd5_norm/21sh_Sheet2_slope_added_all.png (deflated 9%)\n",
            "  adding: content/predicted_vs_actual_plots/best_fuel_consumption_1S_wd5_norm/21sh_Sheet1_slope_added.csv (deflated 58%)\n",
            "  adding: content/predicted_vs_actual_plots/best_fuel_consumption_1S_wd5_norm/21sh_Sheet2_slope_added.csv (deflated 58%)\n",
            "  adding: content/predicted_vs_actual_plots/best_fuel_consumption_1S_wd5_norm/21sh_Sheet1_slope_added_all.png (deflated 9%)\n"
          ]
        }
      ],
      "source": [
        "!zip -r /content/predicted_vs_actual_plots.zip /content/predicted_vs_actual_plots"
      ]
    }
  ],
  "metadata": {
    "accelerator": "GPU",
    "colab": {
      "gpuType": "T4",
      "provenance": []
    },
    "kernelspec": {
      "display_name": "Python 3",
      "name": "python3"
    },
    "language_info": {
      "name": "python"
    }
  },
  "nbformat": 4,
  "nbformat_minor": 0
}

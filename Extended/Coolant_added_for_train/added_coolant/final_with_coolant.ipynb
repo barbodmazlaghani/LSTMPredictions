{
  "cells": [
    {
      "cell_type": "code",
      "execution_count": 7,
      "metadata": {
        "id": "X_RQgrvEbkfv",
        "colab": {
          "base_uri": "https://localhost:8080/"
        },
        "outputId": "e3df1a28-2cae-4d72-9d7a-4b4d200fcb5a"
      },
      "outputs": [
        {
          "output_type": "stream",
          "name": "stdout",
          "text": [
            "Drive already mounted at /content/gdrive; to attempt to forcibly remount, call drive.mount(\"/content/gdrive\", force_remount=True).\n"
          ]
        }
      ],
      "source": [
        "from google.colab import drive\n",
        "drive.mount('/content/gdrive')\n",
        "\n"
      ]
    },
    {
      "cell_type": "code",
      "execution_count": null,
      "metadata": {
        "colab": {
          "base_uri": "https://localhost:8080/"
        },
        "id": "JNpY9gUyA6hm",
        "outputId": "21f27ad2-acce-42f5-838b-3a3c3958ef9e"
      },
      "outputs": [
        {
          "name": "stdout",
          "output_type": "stream",
          "text": [
            "unzip:  cannot find or open DataAugumentation.zip, DataAugumentation.zip.zip or DataAugumentation.zip.ZIP.\n",
            "unzip:  cannot find or open data_aug_3_slices_with_repeated_cluster_5.zip, data_aug_3_slices_with_repeated_cluster_5.zip.zip or data_aug_3_slices_with_repeated_cluster_5.zip.ZIP.\n",
            "rm: cannot remove 'DataAugumentation.zip': No such file or directory\n",
            "rm: cannot remove 'data_aug_3_slices_with_repeated_cluster_5.zip': No such file or directory\n"
          ]
        }
      ],
      "source": [
        "\n",
        "# !cp \"/content/gdrive/My Drive/DataAugumentation.zip\" .\n",
        "#ADDED NEW SOURCE\n",
        "!cp \"/content/gdrive/MyDrive/data_aug(3_slices_with_repeated)_cluster_5_ehsan_0.5.zip\" .\n",
        "\n",
        "!unzip -qq DataAugumentation.zip\n",
        "!unzip -qq data_aug_3_slices_with_repeated_cluster_5.zip\n",
        "!rm DataAugumentation.zip\n",
        "!rm data_aug_3_slices_with_repeated_cluster_5.zip\n",
        "data_path = 'DataAugumentation'"
      ]
    },
    {
      "cell_type": "code",
      "execution_count": null,
      "metadata": {
        "id": "Bxq7nrGyD5cj"
      },
      "outputs": [],
      "source": [
        "!cp \"/content/gdrive/MyDrive/data_aug(3_slices_with_repeated)_cluster_5_ehsan_0.5_v2.rar\" ."
      ]
    },
    {
      "cell_type": "code",
      "execution_count": 4,
      "metadata": {
        "id": "A_lHwqpAJLCP"
      },
      "outputs": [],
      "source": [
        "!unzip -qq '/content/gdrive/MyDrive/data_aug(3_slices_with_repeated)_cluster_5_ehsan_0.5.zip'"
      ]
    },
    {
      "cell_type": "code",
      "execution_count": 3,
      "metadata": {
        "id": "5xBVXOonbnUe",
        "colab": {
          "base_uri": "https://localhost:8080/"
        },
        "outputId": "b279f3fd-af4b-415f-efdf-b97ec0d818a9"
      },
      "outputs": [
        {
          "output_type": "stream",
          "name": "stdout",
          "text": [
            "unzip:  cannot find or open /content/data_aug(3_slices_with_repeated)_cluster_5_ehsan_0.5.zip, /content/data_aug(3_slices_with_repeated)_cluster_5_ehsan_0.5.zip.zip or /content/data_aug(3_slices_with_repeated)_cluster_5_ehsan_0.5.zip.ZIP.\n"
          ]
        }
      ],
      "source": [
        "!unzip -qq '/content/data_aug(3_slices_with_repeated)_cluster_5_ehsan_0.5.zip'"
      ]
    },
    {
      "cell_type": "code",
      "execution_count": null,
      "metadata": {
        "id": "zxnnqpprEzzN"
      },
      "outputs": [],
      "source": [
        "!unrar x '/content/gdrive/MyDrive/data_aug(3_slices_with_repeated)_cluster_5_ehsan_0.5_v2.rar'"
      ]
    },
    {
      "cell_type": "code",
      "source": [
        "!rm -r '/content/data_aug(3_slices_with_repeated)_cluster_5'"
      ],
      "metadata": {
        "id": "ttDg8PUwyqiy"
      },
      "execution_count": null,
      "outputs": []
    },
    {
      "cell_type": "code",
      "source": [
        "\n",
        "Coolant_temperature"
      ],
      "metadata": {
        "id": "iBqDSubNyNhL"
      },
      "execution_count": null,
      "outputs": []
    },
    {
      "cell_type": "code",
      "execution_count": null,
      "metadata": {
        "id": "3PDshfYSS1BB"
      },
      "outputs": [],
      "source": [
        "import os\n",
        "import numpy as np\n",
        "import pandas as pd\n",
        "import torch\n",
        "from multiprocessing import Pool\n",
        "from sklearn.preprocessing import MinMaxScaler\n",
        "import os\n",
        "import numpy as np\n",
        "import pandas as pd\n",
        "import torch\n",
        "import torch.nn as nn\n",
        "import torch.optim as optim\n",
        "from sklearn.preprocessing import MinMaxScaler\n",
        "from torch.utils.data import DataLoader, TensorDataset\n",
        "import joblib"
      ]
    },
    {
      "cell_type": "code",
      "execution_count": 5,
      "metadata": {
        "id": "0xa3EJovIdBZ"
      },
      "outputs": [],
      "source": [
        "import os\n",
        "import numpy as np\n",
        "import pandas as pd\n",
        "import torch\n",
        "from multiprocessing import Pool\n",
        "from sklearn.preprocessing import MinMaxScaler\n",
        "import os\n",
        "import numpy as np\n",
        "import pandas as pd\n",
        "import torch\n",
        "import torch.nn as nn\n",
        "import torch.optim as optim\n",
        "from sklearn.preprocessing import MinMaxScaler\n",
        "from torch.utils.data import DataLoader, TensorDataset\n",
        "import joblib\n",
        "\n",
        "SEQUENCE_LENGTH = 600\n",
        "BATCH_SIZE = 64\n",
        "EPOCHS = 250\n",
        "LEARNING_RATE = 1e-5\n",
        "DEVICE = torch.device('cuda' if torch.cuda.is_available() else 'cpu')\n",
        "\n",
        "# Data processing function\n",
        "def process_file(file_path):\n",
        "    df = pd.read_csv(file_path)\n",
        "    if df.shape[0] >= 600:\n",
        "        df['Time'] = df['Time'] - df['Time'].iloc[0]\n",
        "        df['Momentary fuel consumption'] = df['Trip fuel consumption'].diff().fillna(0)\n",
        "        df['Acceleration'] = df['Speed'].diff().fillna(0)\n",
        "        df['Adjusted_gear_position'] = df['Current_gear_shift_position_(Current_gear)'].replace({13: 0.2, 14: 1})\n",
        "\n",
        "        features = df[['Adjusted_gear_position', 'Speed', 'slope', 'Acceleration','Coolant_temperature']]\n",
        "        target = df['Momentary fuel consumption']\n",
        "        return features.values, target.values\n",
        "    else:\n",
        "        return None, None\n",
        "\n",
        "# Function to slice data into chunks and append to lists\n",
        "def slice_and_append(features, target, sequence_length):\n",
        "    num_chunks = len(features) // sequence_length\n",
        "    X_list, y_list = [], []\n",
        "\n",
        "    for i in range(num_chunks):\n",
        "        start_idx = i * sequence_length\n",
        "        end_idx = start_idx + sequence_length\n",
        "        sliced_features = features[start_idx:end_idx]\n",
        "        sliced_target = target[start_idx:end_idx]\n",
        "        X_list.append(sliced_features)\n",
        "        y_list.append(sliced_target)\n",
        "\n",
        "    return X_list, y_list\n",
        "\n",
        "# Helper function to process multiple files\n",
        "def process_and_slice(file_path):\n",
        "    features, target = process_file(file_path)\n",
        "    if features is not None and target is not None:\n",
        "        return slice_and_append(features, target, SEQUENCE_LENGTH)\n",
        "    return [], []\n",
        "\n",
        "# Function to process a folder in parallel\n",
        "def process_folder_parallel(folder_path, num_workers=4):\n",
        "    all_X, all_y = [], []\n",
        "    file_paths = [os.path.join(folder_path, f) for f in os.listdir(folder_path) if f.endswith('.csv')]\n",
        "\n",
        "    with Pool(num_workers) as p:\n",
        "        results = p.map(process_and_slice, file_paths)\n",
        "\n",
        "    # Unpacking the processed slices\n",
        "    for X_list, y_list in results:\n",
        "        all_X.extend(X_list)\n",
        "        all_y.extend(y_list)\n",
        "\n",
        "    return all_X, all_y\n",
        "X_original = []\n",
        "y_original = []\n",
        "# Main processing logic\n",
        "def main(base_folder_path):\n",
        "\n",
        "    X_augmented = []\n",
        "    y_augmented = []\n",
        "\n",
        "    for i in range(7):\n",
        "        if i == 5 or i==6 :\n",
        "            folder_path = os.path.join(base_folder_path, f'data_aug(3_slices_with_repeated)_cluster_{i}')\n",
        "            X_aug, y_aug = process_folder_parallel(folder_path, num_workers=4)\n",
        "            X_augmented.extend(X_aug)\n",
        "            y_augmented.extend(y_aug)\n",
        "\n",
        "    return X_augmented, y_augmented\n",
        "\n",
        "# Example call to main\n",
        "base_folder_path = '/content/'\n",
        "X_augmented, y_augmented = main(base_folder_path)\n"
      ]
    },
    {
      "cell_type": "code",
      "execution_count": 6,
      "metadata": {
        "id": "btJOSO6edHGt"
      },
      "outputs": [],
      "source": [
        "\n",
        "# Function to pad or truncate sequences\n",
        "def pad_or_truncate(sequence, length):\n",
        "    if len(sequence) > length:\n",
        "        return sequence[:length]\n",
        "    elif len(sequence) < length:\n",
        "        return np.pad(sequence, ((0, length - len(sequence)), (0, 0)), mode='constant')\n",
        "    else:\n",
        "        return sequence\n",
        "\n"
      ]
    },
    {
      "cell_type": "code",
      "execution_count": 7,
      "metadata": {
        "id": "nOGD-6Ibekzm"
      },
      "outputs": [],
      "source": [
        "X_original = []\n",
        "y_original = []\n",
        "# Apply padding/truncating to ensure consistent sequence length\n",
        "X_original = [pad_or_truncate(x, SEQUENCE_LENGTH) for x in X_original]\n",
        "y_original = [pad_or_truncate(y.reshape(-1, 1), SEQUENCE_LENGTH) for y in y_original]\n",
        "X_augmented = [pad_or_truncate(x, SEQUENCE_LENGTH) for x in X_augmented]\n",
        "y_augmented = [pad_or_truncate(y.reshape(-1, 1), SEQUENCE_LENGTH) for y in y_augmented]\n"
      ]
    },
    {
      "cell_type": "code",
      "execution_count": 8,
      "metadata": {
        "colab": {
          "base_uri": "https://localhost:8080/"
        },
        "id": "FiXsLZnKJ7zm",
        "outputId": "d3a14eb2-7c16-4dfa-ac3a-708bf0ba8674"
      },
      "outputs": [
        {
          "output_type": "execute_result",
          "data": {
            "text/plain": [
              "(41575, 600, 5)"
            ]
          },
          "metadata": {},
          "execution_count": 8
        }
      ],
      "source": [
        "np.array(X_augmented).shape"
      ]
    },
    {
      "cell_type": "markdown",
      "metadata": {
        "id": "Je-wuXPMJSGA"
      },
      "source": [
        "#Save file"
      ]
    },
    {
      "cell_type": "code",
      "execution_count": 9,
      "metadata": {
        "id": "x1fvCNb5JQ9B"
      },
      "outputs": [],
      "source": [
        "import numpy as np\n",
        "\n",
        "# Convert lists to numpy arrays if they aren't already\n",
        "X_original = np.array(X_original)\n",
        "y_original = np.array(y_original)\n",
        "X_augmented = np.array(X_augmented)\n",
        "y_augmented = np.array(y_augmented)\n",
        "\n",
        "# Saving to npz file\n",
        "np.savez(f'data{SEQUENCE_LENGTH}_coolant.npz', X_original=X_original, y_original=y_original, X_augmented=X_augmented, y_augmented=y_augmented)\n"
      ]
    },
    {
      "cell_type": "markdown",
      "metadata": {
        "id": "T2VsgPt5JVSs"
      },
      "source": [
        "#Load file"
      ]
    },
    {
      "cell_type": "code",
      "execution_count": null,
      "metadata": {
        "id": "HzRBHKopJXR7"
      },
      "outputs": [],
      "source": [
        "# Loading from npz file\n",
        "data = np.load('data.npz')\n",
        "\n",
        "X_original = data['X_original']\n",
        "y_original = data['y_original']\n",
        "X_augmented = data['X_augmented']\n",
        "y_augmented = data['y_augmented']\n"
      ]
    },
    {
      "cell_type": "code",
      "execution_count": null,
      "metadata": {
        "colab": {
          "base_uri": "https://localhost:8080/"
        },
        "id": "yzKjRaONKW7i",
        "outputId": "8a9d8827-b0ed-4c14-ba89-fd85c524ca5a"
      },
      "outputs": [
        {
          "data": {
            "text/plain": [
              "array([[[ 0.        ,  0.        ,  0.        ,  0.        ],\n",
              "        [ 0.        ,  0.        ,  0.        ,  0.        ],\n",
              "        [ 0.        ,  0.        ,  0.        ,  0.        ],\n",
              "        ...,\n",
              "        [ 3.        , 48.        ,  0.25740026,  1.        ],\n",
              "        [ 3.        , 49.        , -0.70175439,  1.        ],\n",
              "        [ 3.        , 49.        , -0.70175439,  0.        ]],\n",
              "\n",
              "       [[ 2.        , 16.        ,  0.19083969,  0.        ],\n",
              "        [ 2.        , 16.        ,  0.19083969,  0.        ],\n",
              "        [ 2.        , 15.        ,  0.19083969, -1.        ],\n",
              "        ...,\n",
              "        [ 2.        , 13.        ,  0.        , -1.        ],\n",
              "        [ 2.        , 12.        ,  0.        , -1.        ],\n",
              "        [ 2.        , 11.        ,  0.        , -1.        ]],\n",
              "\n",
              "       [[ 4.        , 96.        ,  2.67206478,  0.        ],\n",
              "        [ 4.        , 95.        ,  2.67206478, -1.        ],\n",
              "        [ 4.        , 94.        ,  2.67206478, -1.        ],\n",
              "        ...,\n",
              "        [ 0.        ,  0.        ,  0.        ,  0.        ],\n",
              "        [ 0.        ,  0.        ,  0.        ,  0.        ],\n",
              "        [ 0.        ,  0.        ,  0.        ,  0.        ]],\n",
              "\n",
              "       ...,\n",
              "\n",
              "       [[ 4.        , 71.        , -3.06748466,  0.        ],\n",
              "        [ 4.        , 69.        , -3.06748466, -2.        ],\n",
              "        [ 4.        , 69.        , -3.06748466,  0.        ],\n",
              "        ...,\n",
              "        [ 0.        ,  0.        ,  0.        ,  0.        ],\n",
              "        [ 0.        ,  0.        ,  0.        ,  0.        ],\n",
              "        [ 0.        ,  0.        ,  0.        ,  0.        ]],\n",
              "\n",
              "       [[ 0.        ,  0.        ,  0.        ,  0.        ],\n",
              "        [ 0.        ,  0.        ,  0.        ,  0.        ],\n",
              "        [ 0.        ,  0.        ,  0.        ,  0.        ],\n",
              "        ...,\n",
              "        [ 5.        , 83.        ,  0.17346054,  0.        ],\n",
              "        [ 5.        , 82.        ,  0.17346054, -1.        ],\n",
              "        [ 5.        , 81.        ,  0.17346054, -1.        ]],\n",
              "\n",
              "       [[ 2.        , 36.        ,  0.17667845,  0.        ],\n",
              "        [ 2.        , 36.        ,  0.17667845,  0.        ],\n",
              "        [ 2.        , 37.        ,  0.17667845,  1.        ],\n",
              "        ...,\n",
              "        [ 0.        ,  0.        ,  0.        ,  0.        ],\n",
              "        [ 0.        ,  0.        ,  0.        ,  0.        ],\n",
              "        [ 0.        ,  0.        ,  0.        ,  0.        ]]])"
            ]
          },
          "execution_count": 18,
          "metadata": {},
          "output_type": "execute_result"
        }
      ],
      "source": [
        "dddd =np.load('/content/gdrive/MyDrive/data600.npz')\n",
        "dddd['X_augmented']"
      ]
    },
    {
      "cell_type": "code",
      "execution_count": 10,
      "metadata": {
        "id": "eTGExYs0enuV"
      },
      "outputs": [],
      "source": [
        "\n",
        "# Convert data to PyTorch tensors\n",
        "try:\n",
        "    X_original = torch.tensor(np.array(X_original), dtype=torch.float32).to(DEVICE)\n",
        "    y_original = torch.tensor(np.array(y_original), dtype=torch.float32).to(DEVICE)\n",
        "    X_augmented = torch.tensor(np.array(X_augmented), dtype=torch.float32).to(DEVICE)\n",
        "    y_augmented = torch.tensor(np.array(y_augmented), dtype=torch.float32).to(DEVICE)\n",
        "except Exception as e:\n",
        "    print(f\"Error during tensor conversion: {e}\")\n",
        "    print(f\"Shapes: X_original - {np.array(X_original).shape}, y_original - {np.array(y_original).shape}\")\n",
        "    print(f\"Shapes: X_augmented - {np.array(X_augmented).shape}, y_augmented - {np.array(y_augmented).shape}\")\n",
        "    raise\n"
      ]
    },
    {
      "cell_type": "code",
      "execution_count": 11,
      "metadata": {
        "id": "DN9TrizAeqPk"
      },
      "outputs": [],
      "source": [
        "\n",
        "# Split into training and test sets\n",
        "# num_test = int(0.2 * len(X_original))\n",
        "# X_test = X_original[:num_test]\n",
        "# y_test = y_original[:num_test]\n",
        "# X_train = torch.cat([X_original[num_test:], X_augmented])\n",
        "# y_train = torch.cat([y_original[num_test:], y_augmented])\n",
        "\n",
        "\n",
        "X_train = torch.cat([X_original, X_augmented])\n",
        "y_train = torch.cat([y_original, y_augmented])\n",
        "# X_train = X_original[num_test:]\n",
        "# y_train = y_original[num_test:]\n"
      ]
    },
    {
      "cell_type": "code",
      "execution_count": null,
      "metadata": {
        "colab": {
          "base_uri": "https://localhost:8080/"
        },
        "id": "ArXTXgme-ZnO",
        "outputId": "d14a8078-47e5-44d0-a703-bf785a5b6273"
      },
      "outputs": [
        {
          "data": {
            "text/plain": [
              "tensor([[[  0.2000,   0.0000,   0.0000,   0.0000],\n",
              "         [  0.2000,   0.0000,   0.0000,   0.0000],\n",
              "         [  0.2000,   0.0000,   0.0000,   0.0000],\n",
              "         ...,\n",
              "         [  3.0000,  36.0000,   1.9074,   0.0000],\n",
              "         [  3.0000,  36.0000,   1.9074,   0.0000],\n",
              "         [  3.0000,  36.0000,   1.9074,   0.0000]],\n",
              "\n",
              "        [[  5.0000,  69.0000,  -1.7202,   0.0000],\n",
              "         [  5.0000,  68.0000,  -1.7202,  -1.0000],\n",
              "         [  5.0000,  68.0000,  -1.7202,   0.0000],\n",
              "         ...,\n",
              "         [  0.2000,   0.0000,   0.0000,   0.0000],\n",
              "         [  0.2000,   0.0000,   0.0000,   0.0000],\n",
              "         [  0.2000,   0.0000,   0.0000,   0.0000]],\n",
              "\n",
              "        [[  0.2000,   0.0000,   0.0000,   0.0000],\n",
              "         [  0.2000,   0.0000,   0.0000,   0.0000],\n",
              "         [  0.2000,   0.0000,   0.0000,   0.0000],\n",
              "         ...,\n",
              "         [  5.0000,  75.0000,  -1.0610,  -1.0000],\n",
              "         [  5.0000,  72.0000,  -1.0610,  -3.0000],\n",
              "         [  5.0000,  70.0000,  -1.0610,  -2.0000]],\n",
              "\n",
              "        ...,\n",
              "\n",
              "        [[  5.0000, 106.0000,   1.9461,   0.0000],\n",
              "         [  5.0000, 106.0000,   1.9461,   0.0000],\n",
              "         [  5.0000, 106.0000,   1.9461,   0.0000],\n",
              "         ...,\n",
              "         [  4.0000,  61.0000,   0.3460,   1.0000],\n",
              "         [  4.0000,  61.0000,   0.3460,   0.0000],\n",
              "         [  4.0000,  62.0000,   0.3460,   1.0000]],\n",
              "\n",
              "        [[  0.2000,   0.0000,   0.0000,   0.0000],\n",
              "         [  0.2000,   0.0000,   0.0000,   0.0000],\n",
              "         [  0.2000,   0.0000,   0.0000,   0.0000],\n",
              "         ...,\n",
              "         [  1.0000,   7.0000,   0.0000,   0.0000],\n",
              "         [  1.0000,   7.0000,   0.0000,   0.0000],\n",
              "         [  1.0000,   7.0000,   0.0000,   0.0000]],\n",
              "\n",
              "        [[  4.0000,  92.0000,   1.2678,   0.0000],\n",
              "         [  4.0000,  91.0000,   1.2678,  -1.0000],\n",
              "         [  4.0000,  91.0000,   1.2678,   0.0000],\n",
              "         ...,\n",
              "         [  1.0000,   8.0000,   0.0000,   0.0000],\n",
              "         [  1.0000,   6.0000,   0.0000,  -2.0000],\n",
              "         [  0.2000,   1.0000,   0.0000,  -5.0000]]], device='cuda:0')"
            ]
          },
          "execution_count": 17,
          "metadata": {},
          "output_type": "execute_result"
        }
      ],
      "source": [
        "X_train"
      ]
    },
    {
      "cell_type": "code",
      "execution_count": 12,
      "metadata": {
        "id": "YSaA3VdOes7k"
      },
      "outputs": [],
      "source": [
        "\n",
        "# Convert the min and max values to tensors\n",
        "min_val_x = torch.tensor([0, 0, -10, -10,0], dtype=torch.float32).to(DEVICE)\n",
        "max_val_x = torch.tensor([6, 150, 10, 10,130], dtype=torch.float32).to(DEVICE)\n",
        "\n",
        "min_val_y = torch.tensor([0], dtype=torch.float32).to(DEVICE)\n",
        "max_val_y = torch.tensor([10000], dtype=torch.float32).to(DEVICE)\n",
        "\n",
        "# Custom normalization function for X\n",
        "def custom_normalize_X(data, min_vals, max_vals):\n",
        "    for i in range(data.shape[-1]):\n",
        "        data[:, :, i] = (data[:, :, i] - min_vals[i]) / (max_vals[i] - min_vals[i])\n",
        "    return data\n",
        "\n",
        "# Custom normalization function for y\n",
        "def custom_normalize_y(data, min_val, max_val):\n",
        "    return (data - min_val) / (max_val - min_val)\n",
        "\n",
        "# Normalize X_train and X_test\n",
        "X_train_normalized = custom_normalize_X(X_train, min_val_x, max_val_x)\n",
        "# X_test_normalized = custom_normalize_X(X_test, min_val_x, max_val_x)\n",
        "\n",
        "# Normalize y_train and y_test\n",
        "y_train_normalized = custom_normalize_y(y_train, min_val_y, max_val_y)\n",
        "# y_test_normalized = custom_normalize_y(y_test, min_val_y, max_val_y)\n"
      ]
    },
    {
      "cell_type": "code",
      "execution_count": 13,
      "metadata": {
        "colab": {
          "base_uri": "https://localhost:8080/"
        },
        "id": "eN4p04pb-jHV",
        "outputId": "cf422da1-e0f9-4035-a378-e1e5392f432c"
      },
      "outputs": [
        {
          "output_type": "execute_result",
          "data": {
            "text/plain": [
              "tensor([[[0.0333, 0.0000, 0.5000, 0.5000, 0.7308],\n",
              "         [0.0333, 0.0000, 0.5000, 0.5000, 0.7308],\n",
              "         [0.0333, 0.0000, 0.5000, 0.5000, 0.7385],\n",
              "         ...,\n",
              "         [0.5000, 0.2800, 0.5322, 0.5000, 0.8462],\n",
              "         [0.5000, 0.2800, 0.5322, 0.5000, 0.8462],\n",
              "         [0.5000, 0.2733, 0.5322, 0.4500, 0.8462]],\n",
              "\n",
              "        [[0.0333, 0.0000, 0.5000, 0.5000, 0.6846],\n",
              "         [0.0333, 0.0000, 0.5000, 0.5000, 0.6769],\n",
              "         [0.0333, 0.0000, 0.5000, 0.5000, 0.6846],\n",
              "         ...,\n",
              "         [0.8333, 0.5533, 0.5087, 0.5000, 0.6538],\n",
              "         [0.8333, 0.5467, 0.5087, 0.4500, 0.6462],\n",
              "         [0.8333, 0.5400, 0.5087, 0.4500, 0.6538]],\n",
              "\n",
              "        [[0.6667, 0.5733, 0.5649, 0.5000, 0.6538],\n",
              "         [0.6667, 0.5733, 0.5649, 0.5000, 0.6385],\n",
              "         [0.6667, 0.5800, 0.5649, 0.5500, 0.6385],\n",
              "         ...,\n",
              "         [0.5000, 0.2600, 0.5000, 0.5000, 0.6769],\n",
              "         [0.5000, 0.2600, 0.5000, 0.5000, 0.6769],\n",
              "         [0.5000, 0.2533, 0.5000, 0.4500, 0.6769]],\n",
              "\n",
              "        ...,\n",
              "\n",
              "        [[0.6667, 0.4867, 0.5276, 0.5000, 0.6538],\n",
              "         [0.6667, 0.4933, 0.5276, 0.5500, 0.6538],\n",
              "         [0.6667, 0.5000, 0.5276, 0.5500, 0.6538],\n",
              "         ...,\n",
              "         [0.6667, 0.5000, 0.5977, 0.5000, 0.6538],\n",
              "         [0.6667, 0.5067, 0.5977, 0.5500, 0.6538],\n",
              "         [0.6667, 0.5067, 0.5977, 0.5000, 0.6538]],\n",
              "\n",
              "        [[0.5000, 0.3400, 0.4917, 0.5000, 0.6231],\n",
              "         [0.5000, 0.3333, 0.4917, 0.4500, 0.6231],\n",
              "         [0.5000, 0.3333, 0.4917, 0.5000, 0.6231],\n",
              "         ...,\n",
              "         [0.6667, 0.5933, 0.4473, 0.5000, 0.6462],\n",
              "         [0.6667, 0.5867, 0.4473, 0.4500, 0.6462],\n",
              "         [0.6667, 0.5933, 0.4473, 0.5500, 0.6462]],\n",
              "\n",
              "        [[0.5000, 0.3000, 0.4535, 0.5000, 0.6692],\n",
              "         [0.5000, 0.3067, 0.4535, 0.5500, 0.6692],\n",
              "         [0.5000, 0.3133, 0.4535, 0.5500, 0.6692],\n",
              "         ...,\n",
              "         [0.5000, 0.3200, 0.5000, 0.4500, 0.6846],\n",
              "         [0.5000, 0.3133, 0.5000, 0.4500, 0.6846],\n",
              "         [0.5000, 0.3067, 0.5000, 0.4500, 0.6846]]], device='cuda:0')"
            ]
          },
          "metadata": {},
          "execution_count": 13
        }
      ],
      "source": [
        "X_train_normalized"
      ]
    },
    {
      "cell_type": "code",
      "execution_count": 14,
      "metadata": {
        "id": "MwYKbOq_Zcr7"
      },
      "outputs": [],
      "source": [
        "import torch.nn as nn\n",
        "import torch\n",
        "\n",
        "class FuelConsumptionModel(nn.Module):\n",
        "    def __init__(self, input_size):\n",
        "        super(FuelConsumptionModel, self).__init__()\n",
        "        # LSTM layers\n",
        "        self.lstm1 = nn.LSTM(input_size, 32, batch_first=True, bidirectional=True)\n",
        "        self.lstm2 = nn.LSTM(64, 32, batch_first=True, bidirectional=True)\n",
        "\n",
        "        # Layer Normalization after each LSTM\n",
        "        self.layer_norm1 = nn.LayerNorm(64)\n",
        "        self.layer_norm2 = nn.LayerNorm(64)\n",
        "\n",
        "        # Dropout layers\n",
        "        self.dropout1 = nn.Dropout(0.2)\n",
        "        self.dropout2 = nn.Dropout(0.2)\n",
        "\n",
        "        # Dense output layer\n",
        "        self.dense = nn.Linear(64, 1)\n",
        "\n",
        "    def forward(self, x):\n",
        "        # LSTM 1 + Layer Normalization + Dropout\n",
        "        x, _ = self.lstm1(x)\n",
        "        x = self.layer_norm1(x)  # Apply layer normalization after LSTM1\n",
        "        x = self.dropout1(x)\n",
        "\n",
        "        # LSTM 2 + Layer Normalization + Dropout\n",
        "        x, _ = self.lstm2(x)\n",
        "        x = self.layer_norm2(x)  # Apply layer normalization after LSTM2\n",
        "        x = self.dropout2(x)\n",
        "\n",
        "        # Dense layer for final output\n",
        "        x = self.dense(x)\n",
        "\n",
        "        return x\n"
      ]
    },
    {
      "cell_type": "code",
      "source": [
        "X_train_normalized.shape[-1]"
      ],
      "metadata": {
        "colab": {
          "base_uri": "https://localhost:8080/"
        },
        "id": "n336lgQd2IIg",
        "outputId": "a9fd1931-22cb-44a5-fe9d-f08e7f8c6e12"
      },
      "execution_count": 15,
      "outputs": [
        {
          "output_type": "execute_result",
          "data": {
            "text/plain": [
              "5"
            ]
          },
          "metadata": {},
          "execution_count": 15
        }
      ]
    },
    {
      "cell_type": "code",
      "execution_count": 16,
      "metadata": {
        "id": "mRtldQG5e4-a"
      },
      "outputs": [],
      "source": [
        "\n",
        "# Instantiate the model, define the loss function and the optimizer\n",
        "model = FuelConsumptionModel(input_size=X_train_normalized.shape[-1]).to(DEVICE)\n",
        "criterion = nn.L1Loss()\n",
        "weight_decay = 1e-6  # L2 regularization factor\n",
        "optimizer = optim.Adam(model.parameters(), lr=LEARNING_RATE, weight_decay=weight_decay)"
      ]
    },
    {
      "cell_type": "code",
      "execution_count": 17,
      "metadata": {
        "id": "NrURTgcFgyYL"
      },
      "outputs": [],
      "source": [
        "# Assume 80% of the data is used for training and 20% for validation\n",
        "train_size = int(0.8 * len(X_train_normalized))\n",
        "val_size = len(X_train_normalized) - train_size\n",
        "\n",
        "# Split the data while preserving the order\n",
        "X_train_split = X_train_normalized[:train_size]\n",
        "y_train_split = y_train_normalized[:train_size]\n",
        "\n",
        "X_val_split = X_train_normalized[train_size:]\n",
        "y_val_split = y_train_normalized[train_size:]\n",
        "\n",
        "\n",
        "\n",
        "# BATCH_SIZE = 96\n",
        "# # Create DataLoader for training and validation sets\n",
        "# train_loader = DataLoader(TensorDataset(X_train_split, y_train_split), batch_size=BATCH_SIZE, shuffle=True)\n",
        "# val_loader = DataLoader(TensorDataset(X_val_split, y_val_split), batch_size=BATCH_SIZE, shuffle=False)\n",
        "\n",
        "\n"
      ]
    },
    {
      "cell_type": "code",
      "execution_count": 18,
      "metadata": {
        "colab": {
          "base_uri": "https://localhost:8080/"
        },
        "id": "_z0wpMf9gK-h",
        "outputId": "a51df572-423e-4562-8713-10a549f4c3c4"
      },
      "outputs": [
        {
          "output_type": "stream",
          "name": "stderr",
          "text": [
            "/usr/local/lib/python3.10/dist-packages/torch/optim/lr_scheduler.py:60: UserWarning: The verbose parameter is deprecated. Please use get_last_lr() to access the learning rate.\n",
            "  warnings.warn(\n"
          ]
        },
        {
          "output_type": "stream",
          "name": "stdout",
          "text": [
            "Epoch [1/500] ---- Training Loss: 0.1364 ---- Validation Loss: 0.033087 ------0.0001\n",
            "Epoch [2/500] ---- Training Loss: 0.0371 ---- Validation Loss: 0.032196 ------0.0001\n",
            "Epoch [3/500] ---- Training Loss: 0.0314 ---- Validation Loss: 0.031255 ------0.0001\n",
            "Epoch [4/500] ---- Training Loss: 0.0296 ---- Validation Loss: 0.030301 ------0.0001\n",
            "Epoch [5/500] ---- Training Loss: 0.0281 ---- Validation Loss: 0.028667 ------0.0001\n",
            "Epoch [6/500] ---- Training Loss: 0.0261 ---- Validation Loss: 0.026079 ------0.0001\n",
            "Epoch [7/500] ---- Training Loss: 0.0239 ---- Validation Loss: 0.023507 ------0.0001\n",
            "Epoch [8/500] ---- Training Loss: 0.0221 ---- Validation Loss: 0.021454 ------0.0001\n",
            "Epoch [9/500] ---- Training Loss: 0.0206 ---- Validation Loss: 0.019951 ------0.0001\n",
            "Epoch [10/500] ---- Training Loss: 0.0195 ---- Validation Loss: 0.018953 ------0.0001\n",
            "Epoch [11/500] ---- Training Loss: 0.0188 ---- Validation Loss: 0.018609 ------0.0001\n",
            "Epoch [12/500] ---- Training Loss: 0.0183 ---- Validation Loss: 0.018012 ------0.0001\n",
            "Epoch [13/500] ---- Training Loss: 0.0179 ---- Validation Loss: 0.017985 ------0.0001\n",
            "Epoch [14/500] ---- Training Loss: 0.0176 ---- Validation Loss: 0.017582 ------0.0001\n",
            "Epoch [15/500] ---- Training Loss: 0.0173 ---- Validation Loss: 0.017330 ------0.0001\n",
            "Epoch [16/500] ---- Training Loss: 0.0171 ---- Validation Loss: 0.017486 ------0.0001\n",
            "Epoch [17/500] ---- Training Loss: 0.0169 ---- Validation Loss: 0.017001 ------0.0001\n",
            "Epoch [18/500] ---- Training Loss: 0.0167 ---- Validation Loss: 0.016927 ------0.0001\n",
            "Epoch [19/500] ---- Training Loss: 0.0165 ---- Validation Loss: 0.016844 ------0.0001\n",
            "Epoch [20/500] ---- Training Loss: 0.0164 ---- Validation Loss: 0.016828 ------0.0001\n",
            "Epoch [21/500] ---- Training Loss: 0.0162 ---- Validation Loss: 0.016706 ------0.0001\n",
            "Epoch [22/500] ---- Training Loss: 0.0161 ---- Validation Loss: 0.016492 ------0.0001\n",
            "Epoch [23/500] ---- Training Loss: 0.0160 ---- Validation Loss: 0.016652 ------0.0001\n",
            "Epoch [24/500] ---- Training Loss: 0.0159 ---- Validation Loss: 0.016311 ------0.0001\n",
            "Epoch [25/500] ---- Training Loss: 0.0158 ---- Validation Loss: 0.016178 ------0.0001\n",
            "Epoch [26/500] ---- Training Loss: 0.0157 ---- Validation Loss: 0.016177 ------0.0001\n",
            "Epoch [27/500] ---- Training Loss: 0.0156 ---- Validation Loss: 0.016396 ------0.0001\n",
            "Epoch [28/500] ---- Training Loss: 0.0155 ---- Validation Loss: 0.016054 ------0.0001\n",
            "Epoch [29/500] ---- Training Loss: 0.0154 ---- Validation Loss: 0.015906 ------0.0001\n",
            "Epoch [30/500] ---- Training Loss: 0.0153 ---- Validation Loss: 0.016129 ------0.0001\n",
            "Epoch [31/500] ---- Training Loss: 0.0153 ---- Validation Loss: 0.016110 ------0.0001\n",
            "Epoch [32/500] ---- Training Loss: 0.0152 ---- Validation Loss: 0.015781 ------0.0001\n",
            "Epoch [33/500] ---- Training Loss: 0.0151 ---- Validation Loss: 0.015795 ------0.0001\n",
            "Epoch [34/500] ---- Training Loss: 0.0151 ---- Validation Loss: 0.015825 ------0.0001\n",
            "Epoch [35/500] ---- Training Loss: 0.0150 ---- Validation Loss: 0.015911 ------0.0001\n",
            "Epoch [36/500] ---- Training Loss: 0.0149 ---- Validation Loss: 0.015727 ------0.0001\n",
            "Epoch [37/500] ---- Training Loss: 0.0149 ---- Validation Loss: 0.015556 ------0.0001\n",
            "Epoch [38/500] ---- Training Loss: 0.0148 ---- Validation Loss: 0.015547 ------0.0001\n",
            "Epoch [39/500] ---- Training Loss: 0.0148 ---- Validation Loss: 0.015614 ------0.0001\n",
            "Epoch [40/500] ---- Training Loss: 0.0147 ---- Validation Loss: 0.015462 ------0.0001\n",
            "Epoch [41/500] ---- Training Loss: 0.0147 ---- Validation Loss: 0.015614 ------0.0001\n",
            "Epoch [42/500] ---- Training Loss: 0.0146 ---- Validation Loss: 0.015485 ------0.0001\n",
            "Epoch [43/500] ---- Training Loss: 0.0146 ---- Validation Loss: 0.015541 ------0.0001\n",
            "Epoch [44/500] ---- Training Loss: 0.0146 ---- Validation Loss: 0.015301 ------0.0001\n",
            "Epoch [45/500] ---- Training Loss: 0.0145 ---- Validation Loss: 0.015346 ------0.0001\n",
            "Epoch [46/500] ---- Training Loss: 0.0145 ---- Validation Loss: 0.015333 ------0.0001\n",
            "Epoch [47/500] ---- Training Loss: 0.0144 ---- Validation Loss: 0.015276 ------0.0001\n",
            "Epoch [48/500] ---- Training Loss: 0.0144 ---- Validation Loss: 0.015183 ------0.0001\n",
            "Epoch [49/500] ---- Training Loss: 0.0143 ---- Validation Loss: 0.015194 ------0.0001\n",
            "Epoch [50/500] ---- Training Loss: 0.0143 ---- Validation Loss: 0.015050 ------0.0001\n",
            "Epoch [51/500] ---- Training Loss: 0.0143 ---- Validation Loss: 0.015257 ------0.0001\n",
            "Epoch [52/500] ---- Training Loss: 0.0142 ---- Validation Loss: 0.015007 ------0.0001\n",
            "Epoch [53/500] ---- Training Loss: 0.0142 ---- Validation Loss: 0.014979 ------0.0001\n",
            "Epoch [54/500] ---- Training Loss: 0.0141 ---- Validation Loss: 0.014886 ------0.0001\n",
            "Epoch [55/500] ---- Training Loss: 0.0141 ---- Validation Loss: 0.014865 ------0.0001\n",
            "Epoch [56/500] ---- Training Loss: 0.0141 ---- Validation Loss: 0.014961 ------0.0001\n",
            "Epoch [57/500] ---- Training Loss: 0.0140 ---- Validation Loss: 0.014886 ------0.0001\n",
            "Epoch [58/500] ---- Training Loss: 0.0140 ---- Validation Loss: 0.014742 ------0.0001\n",
            "Epoch [59/500] ---- Training Loss: 0.0140 ---- Validation Loss: 0.014736 ------0.0001\n",
            "Epoch [60/500] ---- Training Loss: 0.0139 ---- Validation Loss: 0.014778 ------0.0001\n",
            "Epoch [61/500] ---- Training Loss: 0.0139 ---- Validation Loss: 0.014869 ------0.0001\n",
            "Epoch [62/500] ---- Training Loss: 0.0138 ---- Validation Loss: 0.014739 ------0.0001\n",
            "Epoch [63/500] ---- Training Loss: 0.0138 ---- Validation Loss: 0.014662 ------0.0001\n",
            "Epoch [64/500] ---- Training Loss: 0.0138 ---- Validation Loss: 0.014753 ------0.0001\n",
            "Epoch [65/500] ---- Training Loss: 0.0137 ---- Validation Loss: 0.014707 ------0.0001\n",
            "Epoch [66/500] ---- Training Loss: 0.0137 ---- Validation Loss: 0.014577 ------0.0001\n",
            "Epoch [67/500] ---- Training Loss: 0.0137 ---- Validation Loss: 0.014587 ------0.0001\n",
            "Epoch [68/500] ---- Training Loss: 0.0136 ---- Validation Loss: 0.014500 ------0.0001\n",
            "Epoch [69/500] ---- Training Loss: 0.0136 ---- Validation Loss: 0.014412 ------0.0001\n",
            "Epoch [70/500] ---- Training Loss: 0.0136 ---- Validation Loss: 0.014458 ------0.0001\n",
            "Epoch [71/500] ---- Training Loss: 0.0135 ---- Validation Loss: 0.014385 ------0.0001\n",
            "Epoch [72/500] ---- Training Loss: 0.0134 ---- Validation Loss: 0.014403 ------0.0001\n",
            "Epoch [73/500] ---- Training Loss: 0.0134 ---- Validation Loss: 0.014382 ------0.0001\n",
            "Epoch [74/500] ---- Training Loss: 0.0133 ---- Validation Loss: 0.014273 ------0.0001\n",
            "Epoch [75/500] ---- Training Loss: 0.0133 ---- Validation Loss: 0.014236 ------0.0001\n",
            "Epoch [76/500] ---- Training Loss: 0.0133 ---- Validation Loss: 0.014187 ------0.0001\n",
            "Epoch [77/500] ---- Training Loss: 0.0132 ---- Validation Loss: 0.014168 ------0.0001\n",
            "Epoch [78/500] ---- Training Loss: 0.0132 ---- Validation Loss: 0.014172 ------0.0001\n",
            "Epoch [79/500] ---- Training Loss: 0.0131 ---- Validation Loss: 0.014187 ------0.0001\n",
            "Epoch [80/500] ---- Training Loss: 0.0131 ---- Validation Loss: 0.014051 ------0.0001\n",
            "Epoch [81/500] ---- Training Loss: 0.0131 ---- Validation Loss: 0.014070 ------0.0001\n",
            "Epoch [82/500] ---- Training Loss: 0.0130 ---- Validation Loss: 0.014091 ------0.0001\n",
            "Epoch [83/500] ---- Training Loss: 0.0130 ---- Validation Loss: 0.014007 ------0.0001\n",
            "Epoch [84/500] ---- Training Loss: 0.0130 ---- Validation Loss: 0.013937 ------0.0001\n",
            "Epoch [85/500] ---- Training Loss: 0.0129 ---- Validation Loss: 0.013917 ------0.0001\n",
            "Epoch [86/500] ---- Training Loss: 0.0129 ---- Validation Loss: 0.013838 ------0.0001\n",
            "Epoch [87/500] ---- Training Loss: 0.0129 ---- Validation Loss: 0.013845 ------0.0001\n",
            "Epoch [88/500] ---- Training Loss: 0.0128 ---- Validation Loss: 0.013812 ------0.0001\n",
            "Epoch [89/500] ---- Training Loss: 0.0128 ---- Validation Loss: 0.013800 ------0.0001\n",
            "Epoch [90/500] ---- Training Loss: 0.0128 ---- Validation Loss: 0.013875 ------0.0001\n",
            "Epoch [91/500] ---- Training Loss: 0.0128 ---- Validation Loss: 0.013754 ------0.0001\n",
            "Epoch [92/500] ---- Training Loss: 0.0127 ---- Validation Loss: 0.013698 ------0.0001\n",
            "Epoch [93/500] ---- Training Loss: 0.0127 ---- Validation Loss: 0.013698 ------0.0001\n",
            "Epoch [94/500] ---- Training Loss: 0.0127 ---- Validation Loss: 0.013701 ------0.0001\n",
            "Epoch [95/500] ---- Training Loss: 0.0127 ---- Validation Loss: 0.013654 ------0.0001\n",
            "Epoch [96/500] ---- Training Loss: 0.0126 ---- Validation Loss: 0.013618 ------0.0001\n",
            "Epoch [97/500] ---- Training Loss: 0.0126 ---- Validation Loss: 0.013562 ------0.0001\n",
            "Epoch [98/500] ---- Training Loss: 0.0126 ---- Validation Loss: 0.013566 ------0.0001\n",
            "Epoch [99/500] ---- Training Loss: 0.0126 ---- Validation Loss: 0.013590 ------0.0001\n",
            "Epoch [100/500] ---- Training Loss: 0.0126 ---- Validation Loss: 0.013543 ------0.0001\n",
            "Epoch [101/500] ---- Training Loss: 0.0126 ---- Validation Loss: 0.013501 ------0.0001\n",
            "Epoch [102/500] ---- Training Loss: 0.0125 ---- Validation Loss: 0.013499 ------0.0001\n",
            "Epoch [103/500] ---- Training Loss: 0.0125 ---- Validation Loss: 0.013465 ------0.0001\n",
            "Epoch [104/500] ---- Training Loss: 0.0125 ---- Validation Loss: 0.013480 ------0.0001\n",
            "Epoch [105/500] ---- Training Loss: 0.0125 ---- Validation Loss: 0.013478 ------0.0001\n",
            "Epoch [106/500] ---- Training Loss: 0.0125 ---- Validation Loss: 0.013430 ------0.0001\n",
            "Epoch [107/500] ---- Training Loss: 0.0124 ---- Validation Loss: 0.013388 ------0.0001\n",
            "Epoch [108/500] ---- Training Loss: 0.0124 ---- Validation Loss: 0.013370 ------0.0001\n",
            "Epoch [109/500] ---- Training Loss: 0.0124 ---- Validation Loss: 0.013360 ------0.0001\n",
            "Epoch [110/500] ---- Training Loss: 0.0124 ---- Validation Loss: 0.013323 ------0.0001\n",
            "Epoch [111/500] ---- Training Loss: 0.0124 ---- Validation Loss: 0.013411 ------0.0001\n",
            "Epoch [112/500] ---- Training Loss: 0.0124 ---- Validation Loss: 0.013273 ------0.0001\n",
            "Epoch [113/500] ---- Training Loss: 0.0123 ---- Validation Loss: 0.013307 ------0.0001\n",
            "Epoch [114/500] ---- Training Loss: 0.0123 ---- Validation Loss: 0.013268 ------0.0001\n",
            "Epoch [115/500] ---- Training Loss: 0.0123 ---- Validation Loss: 0.013271 ------0.0001\n",
            "Epoch [116/500] ---- Training Loss: 0.0123 ---- Validation Loss: 0.013263 ------0.0001\n",
            "Epoch [117/500] ---- Training Loss: 0.0123 ---- Validation Loss: 0.013272 ------0.0001\n",
            "Epoch [118/500] ---- Training Loss: 0.0123 ---- Validation Loss: 0.013181 ------0.0001\n",
            "Epoch [119/500] ---- Training Loss: 0.0123 ---- Validation Loss: 0.013197 ------0.0001\n",
            "Epoch [120/500] ---- Training Loss: 0.0122 ---- Validation Loss: 0.013247 ------0.0001\n",
            "Epoch [121/500] ---- Training Loss: 0.0122 ---- Validation Loss: 0.013155 ------0.0001\n",
            "Epoch [122/500] ---- Training Loss: 0.0122 ---- Validation Loss: 0.013158 ------0.0001\n",
            "Epoch [123/500] ---- Training Loss: 0.0122 ---- Validation Loss: 0.013116 ------0.0001\n",
            "Epoch [124/500] ---- Training Loss: 0.0122 ---- Validation Loss: 0.013303 ------0.0001\n",
            "Epoch [125/500] ---- Training Loss: 0.0122 ---- Validation Loss: 0.013114 ------0.0001\n",
            "Epoch [126/500] ---- Training Loss: 0.0122 ---- Validation Loss: 0.013091 ------0.0001\n",
            "Epoch [127/500] ---- Training Loss: 0.0121 ---- Validation Loss: 0.013054 ------0.0001\n",
            "Epoch [128/500] ---- Training Loss: 0.0122 ---- Validation Loss: 0.013119 ------0.0001\n",
            "Epoch [129/500] ---- Training Loss: 0.0122 ---- Validation Loss: 0.013138 ------0.0001\n",
            "Epoch [130/500] ---- Training Loss: 0.0121 ---- Validation Loss: 0.013020 ------0.0001\n",
            "Epoch [131/500] ---- Training Loss: 0.0121 ---- Validation Loss: 0.012997 ------0.0001\n",
            "Epoch [132/500] ---- Training Loss: 0.0121 ---- Validation Loss: 0.013025 ------0.0001\n",
            "Epoch [133/500] ---- Training Loss: 0.0121 ---- Validation Loss: 0.013012 ------0.0001\n",
            "Epoch [134/500] ---- Training Loss: 0.0120 ---- Validation Loss: 0.013012 ------0.0001\n",
            "Epoch [135/500] ---- Training Loss: 0.0120 ---- Validation Loss: 0.012950 ------0.0001\n",
            "Epoch [136/500] ---- Training Loss: 0.0120 ---- Validation Loss: 0.012939 ------0.0001\n",
            "Epoch [137/500] ---- Training Loss: 0.0120 ---- Validation Loss: 0.012927 ------0.0001\n",
            "Epoch [138/500] ---- Training Loss: 0.0120 ---- Validation Loss: 0.012920 ------0.0001\n",
            "Epoch [139/500] ---- Training Loss: 0.0120 ---- Validation Loss: 0.012922 ------0.0001\n",
            "Epoch [140/500] ---- Training Loss: 0.0120 ---- Validation Loss: 0.012907 ------0.0001\n",
            "Epoch [141/500] ---- Training Loss: 0.0120 ---- Validation Loss: 0.012875 ------0.0001\n",
            "Epoch [142/500] ---- Training Loss: 0.0120 ---- Validation Loss: 0.012897 ------0.0001\n",
            "Epoch [143/500] ---- Training Loss: 0.0119 ---- Validation Loss: 0.012854 ------0.0001\n",
            "Epoch [144/500] ---- Training Loss: 0.0121 ---- Validation Loss: 0.012970 ------0.0001\n",
            "Epoch [145/500] ---- Training Loss: 0.0120 ---- Validation Loss: 0.012936 ------0.0001\n",
            "Epoch [146/500] ---- Training Loss: 0.0120 ---- Validation Loss: 0.012898 ------0.0001\n",
            "Epoch [147/500] ---- Training Loss: 0.0120 ---- Validation Loss: 0.012911 ------0.0001\n",
            "Epoch [148/500] ---- Training Loss: 0.0119 ---- Validation Loss: 0.012894 ------0.0001\n",
            "Epoch [149/500] ---- Training Loss: 0.0119 ---- Validation Loss: 0.012892 ------0.0001\n",
            "Epoch [150/500] ---- Training Loss: 0.0119 ---- Validation Loss: 0.012856 ------5e-05\n",
            "Epoch [151/500] ---- Training Loss: 0.0119 ---- Validation Loss: 0.012806 ------5e-05\n",
            "Epoch [152/500] ---- Training Loss: 0.0119 ---- Validation Loss: 0.012819 ------5e-05\n",
            "Epoch [153/500] ---- Training Loss: 0.0119 ---- Validation Loss: 0.012825 ------5e-05\n",
            "Epoch [154/500] ---- Training Loss: 0.0119 ---- Validation Loss: 0.012811 ------5e-05\n",
            "Epoch [155/500] ---- Training Loss: 0.0119 ---- Validation Loss: 0.012791 ------5e-05\n",
            "Epoch [156/500] ---- Training Loss: 0.0119 ---- Validation Loss: 0.012796 ------5e-05\n",
            "Epoch [157/500] ---- Training Loss: 0.0118 ---- Validation Loss: 0.012768 ------5e-05\n",
            "Epoch [158/500] ---- Training Loss: 0.0118 ---- Validation Loss: 0.012782 ------5e-05\n",
            "Epoch [159/500] ---- Training Loss: 0.0118 ---- Validation Loss: 0.012750 ------5e-05\n",
            "Epoch [160/500] ---- Training Loss: 0.0118 ---- Validation Loss: 0.012769 ------5e-05\n",
            "Epoch [161/500] ---- Training Loss: 0.0118 ---- Validation Loss: 0.012744 ------5e-05\n",
            "Epoch [162/500] ---- Training Loss: 0.0118 ---- Validation Loss: 0.012741 ------5e-05\n",
            "Epoch [163/500] ---- Training Loss: 0.0118 ---- Validation Loss: 0.012735 ------5e-05\n",
            "Epoch [164/500] ---- Training Loss: 0.0118 ---- Validation Loss: 0.012717 ------5e-05\n",
            "Epoch [165/500] ---- Training Loss: 0.0118 ---- Validation Loss: 0.012759 ------5e-05\n",
            "Epoch [166/500] ---- Training Loss: 0.0118 ---- Validation Loss: 0.012713 ------5e-05\n",
            "Epoch [167/500] ---- Training Loss: 0.0118 ---- Validation Loss: 0.012712 ------5e-05\n",
            "Epoch [168/500] ---- Training Loss: 0.0118 ---- Validation Loss: 0.012685 ------5e-05\n",
            "Epoch [169/500] ---- Training Loss: 0.0118 ---- Validation Loss: 0.012682 ------5e-05\n",
            "Epoch [170/500] ---- Training Loss: 0.0118 ---- Validation Loss: 0.012702 ------5e-05\n",
            "Epoch [171/500] ---- Training Loss: 0.0118 ---- Validation Loss: 0.012686 ------5e-05\n",
            "Epoch [172/500] ---- Training Loss: 0.0118 ---- Validation Loss: 0.012686 ------5e-05\n",
            "Epoch [173/500] ---- Training Loss: 0.0117 ---- Validation Loss: 0.012700 ------5e-05\n",
            "Epoch [174/500] ---- Training Loss: 0.0117 ---- Validation Loss: 0.012678 ------5e-05\n",
            "Epoch [175/500] ---- Training Loss: 0.0117 ---- Validation Loss: 0.012641 ------5e-05\n",
            "Epoch [176/500] ---- Training Loss: 0.0117 ---- Validation Loss: 0.012660 ------5e-05\n",
            "Epoch [177/500] ---- Training Loss: 0.0117 ---- Validation Loss: 0.012637 ------5e-05\n",
            "Epoch [178/500] ---- Training Loss: 0.0117 ---- Validation Loss: 0.012634 ------5e-05\n",
            "Epoch [179/500] ---- Training Loss: 0.0117 ---- Validation Loss: 0.012643 ------5e-05\n",
            "Epoch [180/500] ---- Training Loss: 0.0117 ---- Validation Loss: 0.012625 ------5e-05\n",
            "Epoch [181/500] ---- Training Loss: 0.0117 ---- Validation Loss: 0.012643 ------5e-05\n",
            "Epoch [182/500] ---- Training Loss: 0.0117 ---- Validation Loss: 0.012607 ------5e-05\n",
            "Epoch [183/500] ---- Training Loss: 0.0117 ---- Validation Loss: 0.012640 ------5e-05\n",
            "Epoch [184/500] ---- Training Loss: 0.0117 ---- Validation Loss: 0.012600 ------5e-05\n",
            "Epoch [185/500] ---- Training Loss: 0.0117 ---- Validation Loss: 0.012585 ------5e-05\n",
            "Epoch [186/500] ---- Training Loss: 0.0117 ---- Validation Loss: 0.012577 ------5e-05\n",
            "Epoch [187/500] ---- Training Loss: 0.0117 ---- Validation Loss: 0.012572 ------5e-05\n",
            "Epoch [188/500] ---- Training Loss: 0.0117 ---- Validation Loss: 0.012569 ------5e-05\n",
            "Epoch [189/500] ---- Training Loss: 0.0117 ---- Validation Loss: 0.012634 ------5e-05\n",
            "Epoch [190/500] ---- Training Loss: 0.0117 ---- Validation Loss: 0.012575 ------5e-05\n",
            "Epoch [191/500] ---- Training Loss: 0.0116 ---- Validation Loss: 0.012572 ------5e-05\n",
            "Epoch [192/500] ---- Training Loss: 0.0116 ---- Validation Loss: 0.012564 ------5e-05\n",
            "Epoch [193/500] ---- Training Loss: 0.0116 ---- Validation Loss: 0.012549 ------5e-05\n",
            "Epoch [194/500] ---- Training Loss: 0.0116 ---- Validation Loss: 0.012525 ------5e-05\n",
            "Epoch [195/500] ---- Training Loss: 0.0116 ---- Validation Loss: 0.012528 ------5e-05\n",
            "Epoch [196/500] ---- Training Loss: 0.0116 ---- Validation Loss: 0.012560 ------5e-05\n",
            "Epoch [197/500] ---- Training Loss: 0.0116 ---- Validation Loss: 0.012559 ------5e-05\n",
            "Epoch [198/500] ---- Training Loss: 0.0116 ---- Validation Loss: 0.012564 ------5e-05\n",
            "Epoch [199/500] ---- Training Loss: 0.0116 ---- Validation Loss: 0.012535 ------5e-05\n",
            "Epoch [200/500] ---- Training Loss: 0.0116 ---- Validation Loss: 0.012554 ------5e-05\n",
            "Epoch [201/500] ---- Training Loss: 0.0116 ---- Validation Loss: 0.012501 ------2.5e-05\n",
            "Epoch [202/500] ---- Training Loss: 0.0116 ---- Validation Loss: 0.012496 ------2.5e-05\n",
            "Epoch [203/500] ---- Training Loss: 0.0116 ---- Validation Loss: 0.012489 ------2.5e-05\n",
            "Epoch [204/500] ---- Training Loss: 0.0116 ---- Validation Loss: 0.012512 ------2.5e-05\n",
            "Epoch [205/500] ---- Training Loss: 0.0116 ---- Validation Loss: 0.012483 ------2.5e-05\n",
            "Epoch [206/500] ---- Training Loss: 0.0116 ---- Validation Loss: 0.012492 ------2.5e-05\n",
            "Epoch [207/500] ---- Training Loss: 0.0116 ---- Validation Loss: 0.012499 ------2.5e-05\n",
            "Epoch [208/500] ---- Training Loss: 0.0116 ---- Validation Loss: 0.012486 ------2.5e-05\n",
            "Epoch [209/500] ---- Training Loss: 0.0116 ---- Validation Loss: 0.012488 ------2.5e-05\n",
            "Epoch [210/500] ---- Training Loss: 0.0116 ---- Validation Loss: 0.012487 ------2.5e-05\n",
            "Epoch [211/500] ---- Training Loss: 0.0116 ---- Validation Loss: 0.012483 ------2.5e-05\n",
            "Epoch [212/500] ---- Training Loss: 0.0116 ---- Validation Loss: 0.012472 ------1.25e-05\n",
            "Epoch [213/500] ---- Training Loss: 0.0116 ---- Validation Loss: 0.012463 ------1.25e-05\n",
            "Epoch [214/500] ---- Training Loss: 0.0116 ---- Validation Loss: 0.012471 ------1.25e-05\n",
            "Epoch [215/500] ---- Training Loss: 0.0116 ---- Validation Loss: 0.012480 ------1.25e-05\n",
            "Epoch [216/500] ---- Training Loss: 0.0116 ---- Validation Loss: 0.012462 ------1.25e-05\n",
            "Epoch [217/500] ---- Training Loss: 0.0116 ---- Validation Loss: 0.012474 ------1.25e-05\n",
            "Epoch [218/500] ---- Training Loss: 0.0116 ---- Validation Loss: 0.012469 ------1.25e-05\n",
            "Epoch [219/500] ---- Training Loss: 0.0116 ---- Validation Loss: 0.012462 ------1.25e-05\n",
            "Epoch [220/500] ---- Training Loss: 0.0115 ---- Validation Loss: 0.012464 ------6.25e-06\n",
            "Epoch [221/500] ---- Training Loss: 0.0115 ---- Validation Loss: 0.012453 ------6.25e-06\n",
            "Epoch [222/500] ---- Training Loss: 0.0115 ---- Validation Loss: 0.012460 ------6.25e-06\n",
            "Epoch [223/500] ---- Training Loss: 0.0115 ---- Validation Loss: 0.012457 ------6.25e-06\n",
            "Epoch [224/500] ---- Training Loss: 0.0115 ---- Validation Loss: 0.012451 ------6.25e-06\n",
            "Epoch [225/500] ---- Training Loss: 0.0115 ---- Validation Loss: 0.012454 ------6.25e-06\n",
            "Epoch [226/500] ---- Training Loss: 0.0115 ---- Validation Loss: 0.012459 ------6.25e-06\n",
            "Epoch [227/500] ---- Training Loss: 0.0115 ---- Validation Loss: 0.012456 ------6.25e-06\n",
            "Epoch [228/500] ---- Training Loss: 0.0115 ---- Validation Loss: 0.012454 ------6.25e-06\n",
            "Epoch [229/500] ---- Training Loss: 0.0115 ---- Validation Loss: 0.012455 ------6.25e-06\n",
            "Epoch [230/500] ---- Training Loss: 0.0115 ---- Validation Loss: 0.012446 ------6.25e-06\n",
            "Epoch [231/500] ---- Training Loss: 0.0115 ---- Validation Loss: 0.012456 ------6.25e-06\n",
            "Epoch [232/500] ---- Training Loss: 0.0115 ---- Validation Loss: 0.012456 ------6.25e-06\n",
            "Epoch [233/500] ---- Training Loss: 0.0115 ---- Validation Loss: 0.012452 ------6.25e-06\n",
            "Epoch [234/500] ---- Training Loss: 0.0115 ---- Validation Loss: 0.012451 ------6.25e-06\n",
            "Epoch [235/500] ---- Training Loss: 0.0115 ---- Validation Loss: 0.012448 ------6.25e-06\n",
            "Epoch [236/500] ---- Training Loss: 0.0115 ---- Validation Loss: 0.012448 ------6.25e-06\n",
            "Epoch [237/500] ---- Training Loss: 0.0115 ---- Validation Loss: 0.012441 ------3.125e-06\n",
            "Epoch [238/500] ---- Training Loss: 0.0115 ---- Validation Loss: 0.012448 ------3.125e-06\n",
            "Epoch [239/500] ---- Training Loss: 0.0115 ---- Validation Loss: 0.012447 ------3.125e-06\n",
            "Epoch [240/500] ---- Training Loss: 0.0115 ---- Validation Loss: 0.012446 ------3.125e-06\n",
            "Epoch [241/500] ---- Training Loss: 0.0115 ---- Validation Loss: 0.012454 ------3.125e-06\n",
            "Epoch [242/500] ---- Training Loss: 0.0115 ---- Validation Loss: 0.012442 ------3.125e-06\n",
            "Epoch [243/500] ---- Training Loss: 0.0115 ---- Validation Loss: 0.012443 ------3.125e-06\n",
            "Epoch [244/500] ---- Training Loss: 0.0115 ---- Validation Loss: 0.012445 ------1.5625e-06\n",
            "Epoch [245/500] ---- Training Loss: 0.0115 ---- Validation Loss: 0.012441 ------1.5625e-06\n",
            "Epoch [246/500] ---- Training Loss: 0.0115 ---- Validation Loss: 0.012444 ------1.5625e-06\n",
            "Epoch [247/500] ---- Training Loss: 0.0115 ---- Validation Loss: 0.012443 ------1.5625e-06\n",
            "Epoch [248/500] ---- Training Loss: 0.0115 ---- Validation Loss: 0.012443 ------1.5625e-06\n",
            "Epoch [249/500] ---- Training Loss: 0.0115 ---- Validation Loss: 0.012442 ------1.5625e-06\n",
            "Epoch [250/500] ---- Training Loss: 0.0115 ---- Validation Loss: 0.012440 ------7.8125e-07\n",
            "Epoch [251/500] ---- Training Loss: 0.0115 ---- Validation Loss: 0.012441 ------7.8125e-07\n",
            "Epoch [252/500] ---- Training Loss: 0.0115 ---- Validation Loss: 0.012440 ------7.8125e-07\n",
            "Epoch [253/500] ---- Training Loss: 0.0115 ---- Validation Loss: 0.012442 ------7.8125e-07\n",
            "Epoch [254/500] ---- Training Loss: 0.0115 ---- Validation Loss: 0.012441 ------7.8125e-07\n",
            "Epoch [255/500] ---- Training Loss: 0.0115 ---- Validation Loss: 0.012442 ------7.8125e-07\n",
            "Epoch [256/500] ---- Training Loss: 0.0115 ---- Validation Loss: 0.012442 ------3.90625e-07\n",
            "Epoch [257/500] ---- Training Loss: 0.0115 ---- Validation Loss: 0.012442 ------3.90625e-07\n",
            "Epoch [258/500] ---- Training Loss: 0.0115 ---- Validation Loss: 0.012440 ------3.90625e-07\n",
            "Epoch [259/500] ---- Training Loss: 0.0115 ---- Validation Loss: 0.012441 ------3.90625e-07\n",
            "Epoch [260/500] ---- Training Loss: 0.0115 ---- Validation Loss: 0.012443 ------3.90625e-07\n",
            "Epoch [261/500] ---- Training Loss: 0.0115 ---- Validation Loss: 0.012441 ------3.90625e-07\n",
            "Epoch [262/500] ---- Training Loss: 0.0115 ---- Validation Loss: 0.012441 ------1.953125e-07\n",
            "Epoch [263/500] ---- Training Loss: 0.0115 ---- Validation Loss: 0.012441 ------1.953125e-07\n",
            "Epoch [264/500] ---- Training Loss: 0.0115 ---- Validation Loss: 0.012442 ------1.953125e-07\n",
            "Epoch [265/500] ---- Training Loss: 0.0115 ---- Validation Loss: 0.012442 ------1.953125e-07\n",
            "Epoch [266/500] ---- Training Loss: 0.0115 ---- Validation Loss: 0.012441 ------1.953125e-07\n",
            "Epoch [267/500] ---- Training Loss: 0.0115 ---- Validation Loss: 0.012442 ------1.953125e-07\n",
            "Epoch [268/500] ---- Training Loss: 0.0115 ---- Validation Loss: 0.012441 ------9.765625e-08\n",
            "Epoch [269/500] ---- Training Loss: 0.0115 ---- Validation Loss: 0.012441 ------9.765625e-08\n",
            "Epoch [270/500] ---- Training Loss: 0.0115 ---- Validation Loss: 0.012441 ------9.765625e-08\n",
            "Epoch [271/500] ---- Training Loss: 0.0115 ---- Validation Loss: 0.012441 ------9.765625e-08\n",
            "Epoch [272/500] ---- Training Loss: 0.0115 ---- Validation Loss: 0.012441 ------9.765625e-08\n",
            "Early stopping at epoch 272\n",
            "Saved model: best_fuel_consumption_model.pth\n"
          ]
        }
      ],
      "source": [
        "import torch\n",
        "import torch.nn as nn\n",
        "import torch.optim as optim\n",
        "from torch.optim.lr_scheduler import StepLR  # Importing StepLR for learning rate decay\n",
        "from torch.optim.lr_scheduler import ReduceLROnPlateau\n",
        "# Assuming `FuelConsumptionModel`, `X_train_normalized`, `train_loader`, `val_loader`, `DEVICE`, and `EPOCHS` are defined\n",
        "\n",
        "# Choose a single loss function to use for all experiments\n",
        "criterion = nn.L1Loss()  # You can change this to your preferred loss function\n",
        "\n",
        "EPOCHS = 500\n",
        "# Define weight decay values and initial learning rates for decay schedules\n",
        "weight_decay_values = 1e-6\n",
        "initial_learning_rates = [1e-4]  # Two starting learning rates\n",
        "\n",
        "# Initialize variables to track the best parameters\n",
        "best_weight_decay = None\n",
        "best_initial_lr = None\n",
        "best_model_weights = None\n",
        "best_val_loss = float('inf')\n",
        "\n",
        "ini_batches = [64]\n",
        "# Loop over all combinations of initial learning rates and weight decay values\n",
        "\n",
        "BATCH_SIZE = 64\n",
        "# Create DataLoader for training and validation sets\n",
        "train_loader = DataLoader(TensorDataset(X_train_split, y_train_split), batch_size=BATCH_SIZE, shuffle=True)\n",
        "val_loader = DataLoader(TensorDataset(X_val_split, y_val_split), batch_size=BATCH_SIZE, shuffle=False)\n",
        "\n",
        "for init_lr in initial_learning_rates:\n",
        "    # Initialize model, criterion, and optimizer for each combination\n",
        "    model = FuelConsumptionModel(input_size=X_train_normalized.shape[-1]).to(DEVICE)\n",
        "    optimizer = optim.Adam(model.parameters(), lr=init_lr, weight_decay=weight_decay_values)\n",
        "    scheduler = ReduceLROnPlateau(optimizer, mode='min', factor=0.5, patience=5, verbose=True)\n",
        "    # Early stopping parameters\n",
        "    patience = 20  # Number of epochs to wait before stopping if no improvement\n",
        "    best_loss = float('inf')  # Initialize best loss to infinity\n",
        "    epochs_without_improvement = 0  # Counter for epochs without improvement\n",
        "\n",
        "    # Training loop with early stopping\n",
        "    model.train()\n",
        "    for epoch in range(EPOCHS):\n",
        "        running_loss = 0.0\n",
        "        model.train()  # Ensure model is in training mode\n",
        "\n",
        "        # Training phase\n",
        "        for inputs, targets in train_loader:\n",
        "            inputs, targets = inputs.to(DEVICE), targets.to(DEVICE)  # Ensure data is on the correct device\n",
        "            optimizer.zero_grad()\n",
        "            outputs = model(inputs)\n",
        "            loss = criterion(outputs, targets)\n",
        "            loss.backward()\n",
        "            optimizer.step()\n",
        "            running_loss += loss.item()\n",
        "\n",
        "        # Calculate average loss for the epoch\n",
        "        avg_training_loss = running_loss / len(train_loader)\n",
        "\n",
        "        # Validation phase\n",
        "        model.eval()  # Switch to evaluation mode\n",
        "        val_running_loss = 0.0\n",
        "        with torch.no_grad():\n",
        "            for inputs, targets in val_loader:  # Assume you have a validation DataLoader `val_loader`\n",
        "                inputs, targets = inputs.to(DEVICE), targets.to(DEVICE)  # Ensure data is on the correct device\n",
        "                outputs = model(inputs)\n",
        "                val_loss = criterion(outputs, targets)\n",
        "                val_running_loss += val_loss.item()\n",
        "\n",
        "        avg_val_loss = val_running_loss / len(val_loader)\n",
        "\n",
        "        current_lr = optimizer.param_groups[0]['lr']\n",
        "        print(f\"Epoch [{epoch+1}/{EPOCHS}] ---- Training Loss: {avg_training_loss:.4f} ---- Validation Loss: {avg_val_loss:.6f} ------{current_lr}\")\n",
        "\n",
        "        # print(f\"Epoch [{epoch+1}/{EPOCHS}] ---- Training Loss: {avg_training_loss:.4f} ---- Validation Loss: {avg_val_loss:.4f}    Init LR: {init_lr:.0e}  WD: {wd:.0e}\")\n",
        "\n",
        "        # Adjust the learning rate\n",
        "        scheduler.step(avg_val_loss)\n",
        "\n",
        "        # Early stopping check\n",
        "        if avg_val_loss < best_loss:\n",
        "            best_loss = avg_val_loss\n",
        "            epochs_without_improvement = 0\n",
        "        else:\n",
        "            epochs_without_improvement += 1\n",
        "            if epochs_without_improvement >= patience:\n",
        "                print(f\"Early stopping at epoch {epoch+1}\")\n",
        "                break\n",
        "\n",
        "        # Save the model for the current combination\n",
        "        model_filename = f'best_fuel_consumption_model.pth'\n",
        "        torch.save(model.state_dict(), model_filename)\n",
        "\n",
        "\n",
        "print(f\"Saved model: {model_filename}\")"
      ]
    },
    {
      "cell_type": "markdown",
      "metadata": {
        "id": "QgiHLL31mUEE"
      },
      "source": []
    },
    {
      "cell_type": "markdown",
      "metadata": {
        "id": "yg9vSugumUBg"
      },
      "source": []
    },
    {
      "cell_type": "markdown",
      "metadata": {
        "id": "7o2xWWKvmT67"
      },
      "source": []
    },
    {
      "cell_type": "markdown",
      "metadata": {
        "id": "X7RXfsU_mNR8"
      },
      "source": [
        "#test"
      ]
    },
    {
      "cell_type": "code",
      "execution_count": null,
      "metadata": {
        "id": "bL109hS0blFn"
      },
      "outputs": [],
      "source": []
    },
    {
      "cell_type": "code",
      "execution_count": null,
      "metadata": {
        "id": "KWKVbu6QblCQ"
      },
      "outputs": [],
      "source": []
    },
    {
      "cell_type": "markdown",
      "metadata": {
        "id": "PT91Xk2ibldP"
      },
      "source": [
        "#Test with all saved model\n"
      ]
    },
    {
      "cell_type": "code",
      "execution_count": null,
      "metadata": {
        "colab": {
          "base_uri": "https://localhost:8080/"
        },
        "id": "VdLwyQHFWwxA",
        "outputId": "d2d3521a-7cb7-4846-d2a6-2a4cf46ed543"
      },
      "outputs": [
        {
          "name": "stdout",
          "output_type": "stream",
          "text": [
            "Testing model: best_fuel_consumption_model_batch32_l200_without_acc\n",
            "Plot saved as: /content/NEDC_1000_slope_added_predicted_vs_real_best_fuel_consumption_model_batch32_l200_without_acc.png\n",
            "CSV saved as: /content/NEDC_1000_slope_added_predicted_vs_real_best_fuel_consumption_model_batch32_l200_without_acc.csv\n",
            "Testing model: best_fuel_consumption_model_batch45_l200_without_acc\n",
            "Plot saved as: /content/NEDC_1000_slope_added_predicted_vs_real_best_fuel_consumption_model_batch45_l200_without_acc.png\n",
            "CSV saved as: /content/NEDC_1000_slope_added_predicted_vs_real_best_fuel_consumption_model_batch45_l200_without_acc.csv\n"
          ]
        }
      ],
      "source": []
    },
    {
      "cell_type": "code",
      "execution_count": null,
      "metadata": {
        "colab": {
          "base_uri": "https://localhost:8080/"
        },
        "id": "amafpYP1Wy6n",
        "outputId": "2172b3a3-deab-4c66-abc7-1843c8481e91"
      },
      "outputs": [
        {
          "name": "stdout",
          "output_type": "stream",
          "text": [
            "Testing model: best_fuel_consumption_model\n"
          ]
        },
        {
          "name": "stderr",
          "output_type": "stream",
          "text": [
            "<ipython-input-38-142e525be52e>:36: FutureWarning: You are using `torch.load` with `weights_only=False` (the current default value), which uses the default pickle module implicitly. It is possible to construct malicious pickle data which will execute arbitrary code during unpickling (See https://github.com/pytorch/pytorch/blob/main/SECURITY.md#untrusted-models for more details). In a future release, the default value for `weights_only` will be flipped to `True`. This limits the functions that could be executed during unpickling. Arbitrary objects will no longer be allowed to be loaded via this mode unless they are explicitly allowlisted by the user via `torch.serialization.add_safe_globals`. We recommend you start setting `weights_only=True` for any use case where you don't have full control of the loaded file. Please open an issue on GitHub for any issues related to this experimental feature.\n",
            "  model.load_state_dict(torch.load(model_path, map_location=DEVICE))\n"
          ]
        },
        {
          "name": "stdout",
          "output_type": "stream",
          "text": [
            "Plot saved as: NEDC_1000_slope_added_with_gear_best_fuel_consumption_model.png\n",
            "CSV saved as: /content/NEDC_1000_slope_added_with_gear_ne.csv\n"
          ]
        }
      ],
      "source": [
        "import os\n",
        "import numpy as np\n",
        "import pandas as pd\n",
        "import matplotlib.pyplot as plt\n",
        "import torch\n",
        "from torch import nn\n",
        "from sklearn.metrics import mean_absolute_error, mean_squared_error\n",
        "# Constants\n",
        "SEQUENCE_LENGTH = 600  # Updated sequence length\n",
        "PLOT_SAVE_DIR = 'predicted_vs_actual_plots'\n",
        "DEVICE = torch.device('cuda' if torch.cuda.is_available() else 'cpu')\n",
        "\n",
        "# Define the PyTorch model structure (same as the one used for training)\n",
        "class FuelConsumptionModel(nn.Module):\n",
        "    def __init__(self, input_size):\n",
        "        super(FuelConsumptionModel, self).__init__()\n",
        "        self.lstm1 = nn.LSTM(input_size,64, batch_first=True, bidirectional=True)\n",
        "        self.dropout1 = nn.Dropout(0.2)\n",
        "        self.lstm2 = nn.LSTM(128, 64, batch_first=True, bidirectional=True)\n",
        "        self.dropout2 = nn.Dropout(0.2)\n",
        "\n",
        "        self.dense = nn.Linear(128, 1)\n",
        "\n",
        "    def forward(self, x):\n",
        "        x, _ = self.lstm1(x)\n",
        "        x = self.dropout1(x)\n",
        "        x, _ = self.lstm2(x)\n",
        "        x = self.dropout2(x)\n",
        "\n",
        "        x = self.dense(x)\n",
        "        return x\n",
        "\n",
        "# Load the trained model\n",
        "def load_trained_model(model_path, input_size):\n",
        "    model = FuelConsumptionModel(input_size=input_size)\n",
        "    model.load_state_dict(torch.load(model_path, map_location=DEVICE))\n",
        "    model.to(DEVICE)\n",
        "    model.eval()\n",
        "    return model\n",
        "\n",
        "# Process the file and prepare segments\n",
        "def process_file(file_path):\n",
        "    df = pd.read_csv(file_path)\n",
        "    df['Time'] = df['Time'] - df['Time'].iloc[0]\n",
        "    df['Trip fuel consumption'] = df['Trip fuel consumption'] - df['Trip fuel consumption'].iloc[0]\n",
        "    df['Acceleration'] = df['Speed'].diff().fillna(0)\n",
        "    features = df[['Engine speed', 'Speed', 'slope', 'Acceleration']]\n",
        "    df['Momentary fuel consumption'] = df['Trip fuel consumption'].diff().fillna(0)\n",
        "\n",
        "    df['Adjusted_gear_position'] = df['gear'].replace({13: 0, 14: 1})\n",
        "\n",
        "    # Selecting features and target\n",
        "    features = df[['Adjusted_gear_position', 'Speed', 'slope', 'Acceleration','Coolant_temperature']]\n",
        "    target = df['Momentary fuel consumption']\n",
        "    return features, target\n",
        "\n",
        "# Pad and normalize the data\n",
        "def pad_and_normalize(data, sequence_length=SEQUENCE_LENGTH):\n",
        "    padded_data = np.zeros((len(data), sequence_length, data[0].shape[1]))\n",
        "    for i, seq in enumerate(data):\n",
        "        length = min(len(seq), sequence_length)\n",
        "        padded_data[i, :length] = seq[:length]\n",
        "\n",
        "    # Normalization (same as in your script)\n",
        "    min_val_x = [0, 0, -10, -10]\n",
        "    max_val_x = [6, 150, 10, 10]\n",
        "    for i in range(padded_data.shape[-1]):\n",
        "        padded_data[:, :, i] = (padded_data[:, :, i] - min_val_x[i]) / (max_val_x[i] - min_val_x[i])\n",
        "\n",
        "    return torch.tensor(padded_data, dtype=torch.float32).to(DEVICE)\n",
        "\n",
        "# Predict and plot the results\n",
        "def plot_predicted_vs_real(input_file, model, model_name):\n",
        "    features, actual_values = process_file(input_file)\n",
        "    num_segments = len(features) // SEQUENCE_LENGTH\n",
        "    predictions = []\n",
        "\n",
        "    for i in range(num_segments):\n",
        "        segment = features.iloc[i * SEQUENCE_LENGTH:(i + 1) * SEQUENCE_LENGTH]\n",
        "        segment_normalized = pad_and_normalize([segment.values])\n",
        "        with torch.no_grad():\n",
        "            segment_predictions = model(segment_normalized).cpu().numpy()\n",
        "        predictions.extend(segment_predictions.flatten() * 20000)\n",
        "\n",
        "    # Handle any remaining data\n",
        "    remainder = len(features) % SEQUENCE_LENGTH\n",
        "    if remainder != 0:\n",
        "        last_segment = features.iloc[-remainder:]\n",
        "        last_segment_normalized = pad_and_normalize([last_segment.values], sequence_length=remainder)\n",
        "        with torch.no_grad():\n",
        "            last_segment_predictions = model(last_segment_normalized).cpu().numpy()\n",
        "        predictions.extend(last_segment_predictions.flatten() * 20000)\n",
        "\n",
        "    predictions = np.array(predictions)\n",
        "\n",
        "    plt.figure(figsize=(10, 6))\n",
        "    plt.plot(np.cumsum(actual_values.values[:len(predictions)], axis=0), label='Real', color='blue')\n",
        "    plt.plot(np.cumsum(predictions[:len(actual_values)], axis=0), label='Predicted', color='red')\n",
        "    plt.xlabel('Index')\n",
        "    plt.ylabel('Fuel Consumption')\n",
        "    plt.title(f'Predicted vs Real Fuel Consumption ({model_name})')\n",
        "    plt.legend()\n",
        "\n",
        "    # Save plot using model name\n",
        "    directory, filename = os.path.split(input_file)\n",
        "    plot_filename = os.path.join(f'{os.path.splitext(filename)[0]}_{model_name}.png')\n",
        "    plt.savefig(plot_filename)\n",
        "    plt.close()\n",
        "\n",
        "    print(f\"Plot saved as: {plot_filename}\")\n",
        "\n",
        "    # Save predictions and actual values to CSV using model name\n",
        "    results_df = pd.DataFrame({\n",
        "        'Speed': features[\"Speed\"].iloc[:len(predictions)],\n",
        "        'Actual': np.cumsum(actual_values.values[:len(predictions)], axis=0),\n",
        "        'Predicted': np.cumsum(predictions[:len(actual_values)], axis=0)\n",
        "    })\n",
        "\n",
        "    csv_filename = os.path.join(directory, f'{os.path.splitext(filename)[0]}_ne.csv')\n",
        "    results_df.to_csv(csv_filename, index=False)\n",
        "    print(f\"CSV saved as: {csv_filename}\")\n",
        "\n",
        "# Paths to input file and directory with models\n",
        "input_file_path = '/content/NEDC_1000_slope_added_with_gear.csv'\n",
        "model_dir = '/content/'  # Directory containing all saved models\n",
        "\n",
        "# List all model files in the directory\n",
        "model_files = [f for f in os.listdir(model_dir) if f.endswith('.pth')]\n",
        "\n",
        "# Load and test each model\n",
        "input_size = 4  # Number of features in the input data\n",
        "\n",
        "for model_file in model_files:\n",
        "    model_path = os.path.join(model_dir, model_file)\n",
        "    model_name = os.path.splitext(model_file)[0]  # Get the base name of the model file\n",
        "    print(f\"Testing model: {model_name}\")\n",
        "\n",
        "    model = load_trained_model(model_path, input_size)\n",
        "    plot_predicted_vs_real(input_file_path, model, model_name)\n"
      ]
    },
    {
      "cell_type": "code",
      "execution_count": null,
      "metadata": {
        "id": "S3U3lS9fYF3L"
      },
      "outputs": [],
      "source": [
        "import torch.nn as nn\n",
        "import torch\n",
        "\n",
        "class FuelConsumptionModel(nn.Module):\n",
        "    def __init__(self, input_size):\n",
        "        super(FuelConsumptionModel, self).__init__()\n",
        "        # LSTM layers\n",
        "        self.lstm1 = nn.LSTM(input_size, 32, batch_first=True, bidirectional=True)\n",
        "        self.lstm2 = nn.LSTM(64, 32, batch_first=True, bidirectional=True)\n",
        "\n",
        "        # Layer Normalization after each LSTM\n",
        "        self.layer_norm1 = nn.LayerNorm(64)\n",
        "        self.layer_norm2 = nn.LayerNorm(64)\n",
        "\n",
        "        # Dropout layers\n",
        "        self.dropout1 = nn.Dropout(0.2)\n",
        "        self.dropout2 = nn.Dropout(0.2)\n",
        "\n",
        "        # Dense output layer\n",
        "        self.dense = nn.Linear(64, 1)\n",
        "\n",
        "    def forward(self, x):\n",
        "        # LSTM 1 + Layer Normalization + Dropout\n",
        "        x, _ = self.lstm1(x)\n",
        "        x = self.layer_norm1(x)  # Apply layer normalization after LSTM1\n",
        "        x = self.dropout1(x)\n",
        "\n",
        "        # LSTM 2 + Layer Normalization + Dropout\n",
        "        x, _ = self.lstm2(x)\n",
        "        x = self.layer_norm2(x)  # Apply layer normalization after LSTM2\n",
        "        x = self.dropout2(x)\n",
        "\n",
        "        # Dense layer for final output\n",
        "        x = self.dense(x)\n",
        "\n",
        "        return x\n"
      ]
    },
    {
      "cell_type": "code",
      "execution_count": null,
      "metadata": {
        "id": "nUu4AHLWYPRs"
      },
      "outputs": [],
      "source": [
        "class FuelConsumptionModel(nn.Module):\n",
        "    def __init__(self, input_size):\n",
        "        super(FuelConsumptionModel, self).__init__()\n",
        "        self.lstm1 = nn.LSTM(input_size,32, batch_first=True, bidirectional=True)\n",
        "        self.dropout1 = nn.Dropout(0.2)\n",
        "        self.lstm2 = nn.LSTM(64, 32, batch_first=True, bidirectional=True)\n",
        "        self.dropout2 = nn.Dropout(0.2)\n",
        "\n",
        "        self.dense = nn.Linear(64, 1)\n",
        "\n",
        "    def forward(self, x):\n",
        "        x, _ = self.lstm1(x)\n",
        "        x = self.dropout1(x)\n",
        "        x, _ = self.lstm2(x)\n",
        "        x = self.dropout2(x)\n",
        "\n",
        "        x = self.dense(x)\n",
        "        return x"
      ]
    },
    {
      "cell_type": "code",
      "execution_count": 20,
      "metadata": {
        "colab": {
          "base_uri": "https://localhost:8080/"
        },
        "id": "9vfRAe8DYqq9",
        "outputId": "a7f51370-a57f-4661-e579-b6fc26c610d9"
      },
      "outputs": [
        {
          "output_type": "stream",
          "name": "stderr",
          "text": [
            "<ipython-input-20-cfd3cde940a7>:26: FutureWarning: You are using `torch.load` with `weights_only=False` (the current default value), which uses the default pickle module implicitly. It is possible to construct malicious pickle data which will execute arbitrary code during unpickling (See https://github.com/pytorch/pytorch/blob/main/SECURITY.md#untrusted-models for more details). In a future release, the default value for `weights_only` will be flipped to `True`. This limits the functions that could be executed during unpickling. Arbitrary objects will no longer be allowed to be loaded via this mode unless they are explicitly allowlisted by the user via `torch.serialization.add_safe_globals`. We recommend you start setting `weights_only=True` for any use case where you don't have full control of the loaded file. Please open an issue on GitHub for any issues related to this experimental feature.\n",
            "  model.load_state_dict(torch.load(model_path, map_location=DEVICE))\n",
            "<ipython-input-20-cfd3cde940a7>:92: RuntimeWarning: divide by zero encountered in divide\n",
            "  mape = np.mean(np.abs((actual_valuess - predictions) / actual_valuess)) * 100\n"
          ]
        },
        {
          "output_type": "stream",
          "name": "stdout",
          "text": [
            "MAE: 159.3249---------------/content/18sh_Sheet2_slope_added.csv\n",
            "MSE: 66583.6354\n",
            "MAPE: inf% ---------------------\n",
            "CSV saved as: predicted_vs_actual_plots/best_fuel_coolant/18sh_Sheet2_slope_added.csv\n",
            "MAE: 141.1152---------------/content/18sh_Sheet4_slope_added.csv\n",
            "MSE: 45563.2482\n",
            "MAPE: inf% ---------------------\n"
          ]
        },
        {
          "output_type": "stream",
          "name": "stderr",
          "text": [
            "<ipython-input-20-cfd3cde940a7>:26: FutureWarning: You are using `torch.load` with `weights_only=False` (the current default value), which uses the default pickle module implicitly. It is possible to construct malicious pickle data which will execute arbitrary code during unpickling (See https://github.com/pytorch/pytorch/blob/main/SECURITY.md#untrusted-models for more details). In a future release, the default value for `weights_only` will be flipped to `True`. This limits the functions that could be executed during unpickling. Arbitrary objects will no longer be allowed to be loaded via this mode unless they are explicitly allowlisted by the user via `torch.serialization.add_safe_globals`. We recommend you start setting `weights_only=True` for any use case where you don't have full control of the loaded file. Please open an issue on GitHub for any issues related to this experimental feature.\n",
            "  model.load_state_dict(torch.load(model_path, map_location=DEVICE))\n",
            "<ipython-input-20-cfd3cde940a7>:92: RuntimeWarning: divide by zero encountered in divide\n",
            "  mape = np.mean(np.abs((actual_valuess - predictions) / actual_valuess)) * 100\n"
          ]
        },
        {
          "output_type": "stream",
          "name": "stdout",
          "text": [
            "CSV saved as: predicted_vs_actual_plots/best_fuel_coolant/18sh_Sheet4_slope_added.csv\n",
            "MAE: 160.3207---------------/content/21sh_Sheet1_slope_added.csv\n",
            "MSE: 57911.2177\n",
            "MAPE: inf% ---------------------\n"
          ]
        },
        {
          "output_type": "stream",
          "name": "stderr",
          "text": [
            "<ipython-input-20-cfd3cde940a7>:26: FutureWarning: You are using `torch.load` with `weights_only=False` (the current default value), which uses the default pickle module implicitly. It is possible to construct malicious pickle data which will execute arbitrary code during unpickling (See https://github.com/pytorch/pytorch/blob/main/SECURITY.md#untrusted-models for more details). In a future release, the default value for `weights_only` will be flipped to `True`. This limits the functions that could be executed during unpickling. Arbitrary objects will no longer be allowed to be loaded via this mode unless they are explicitly allowlisted by the user via `torch.serialization.add_safe_globals`. We recommend you start setting `weights_only=True` for any use case where you don't have full control of the loaded file. Please open an issue on GitHub for any issues related to this experimental feature.\n",
            "  model.load_state_dict(torch.load(model_path, map_location=DEVICE))\n",
            "<ipython-input-20-cfd3cde940a7>:92: RuntimeWarning: divide by zero encountered in divide\n",
            "  mape = np.mean(np.abs((actual_valuess - predictions) / actual_valuess)) * 100\n"
          ]
        },
        {
          "output_type": "stream",
          "name": "stdout",
          "text": [
            "CSV saved as: predicted_vs_actual_plots/best_fuel_coolant/21sh_Sheet1_slope_added.csv\n",
            "MAE: 98.6096---------------/content/18sh_Sheet5_slope_added.csv\n",
            "MSE: 26341.3486\n",
            "MAPE: inf% ---------------------\n"
          ]
        },
        {
          "output_type": "stream",
          "name": "stderr",
          "text": [
            "<ipython-input-20-cfd3cde940a7>:26: FutureWarning: You are using `torch.load` with `weights_only=False` (the current default value), which uses the default pickle module implicitly. It is possible to construct malicious pickle data which will execute arbitrary code during unpickling (See https://github.com/pytorch/pytorch/blob/main/SECURITY.md#untrusted-models for more details). In a future release, the default value for `weights_only` will be flipped to `True`. This limits the functions that could be executed during unpickling. Arbitrary objects will no longer be allowed to be loaded via this mode unless they are explicitly allowlisted by the user via `torch.serialization.add_safe_globals`. We recommend you start setting `weights_only=True` for any use case where you don't have full control of the loaded file. Please open an issue on GitHub for any issues related to this experimental feature.\n",
            "  model.load_state_dict(torch.load(model_path, map_location=DEVICE))\n",
            "<ipython-input-20-cfd3cde940a7>:92: RuntimeWarning: divide by zero encountered in divide\n",
            "  mape = np.mean(np.abs((actual_valuess - predictions) / actual_valuess)) * 100\n"
          ]
        },
        {
          "output_type": "stream",
          "name": "stdout",
          "text": [
            "CSV saved as: predicted_vs_actual_plots/best_fuel_coolant/18sh_Sheet5_slope_added.csv\n",
            "MAE: 161.8394---------------/content/21sh_Sheet2_slope_added.csv\n",
            "MSE: 73935.7849\n",
            "MAPE: inf% ---------------------\n"
          ]
        },
        {
          "output_type": "stream",
          "name": "stderr",
          "text": [
            "<ipython-input-20-cfd3cde940a7>:26: FutureWarning: You are using `torch.load` with `weights_only=False` (the current default value), which uses the default pickle module implicitly. It is possible to construct malicious pickle data which will execute arbitrary code during unpickling (See https://github.com/pytorch/pytorch/blob/main/SECURITY.md#untrusted-models for more details). In a future release, the default value for `weights_only` will be flipped to `True`. This limits the functions that could be executed during unpickling. Arbitrary objects will no longer be allowed to be loaded via this mode unless they are explicitly allowlisted by the user via `torch.serialization.add_safe_globals`. We recommend you start setting `weights_only=True` for any use case where you don't have full control of the loaded file. Please open an issue on GitHub for any issues related to this experimental feature.\n",
            "  model.load_state_dict(torch.load(model_path, map_location=DEVICE))\n",
            "<ipython-input-20-cfd3cde940a7>:92: RuntimeWarning: divide by zero encountered in divide\n",
            "  mape = np.mean(np.abs((actual_valuess - predictions) / actual_valuess)) * 100\n"
          ]
        },
        {
          "output_type": "stream",
          "name": "stdout",
          "text": [
            "CSV saved as: predicted_vs_actual_plots/best_fuel_coolant/21sh_Sheet2_slope_added.csv\n",
            "MAE: 129.6246---------------/content/2_slope_added.csv\n",
            "MSE: 54163.2488\n",
            "MAPE: inf% ---------------------\n"
          ]
        },
        {
          "output_type": "stream",
          "name": "stderr",
          "text": [
            "<ipython-input-20-cfd3cde940a7>:26: FutureWarning: You are using `torch.load` with `weights_only=False` (the current default value), which uses the default pickle module implicitly. It is possible to construct malicious pickle data which will execute arbitrary code during unpickling (See https://github.com/pytorch/pytorch/blob/main/SECURITY.md#untrusted-models for more details). In a future release, the default value for `weights_only` will be flipped to `True`. This limits the functions that could be executed during unpickling. Arbitrary objects will no longer be allowed to be loaded via this mode unless they are explicitly allowlisted by the user via `torch.serialization.add_safe_globals`. We recommend you start setting `weights_only=True` for any use case where you don't have full control of the loaded file. Please open an issue on GitHub for any issues related to this experimental feature.\n",
            "  model.load_state_dict(torch.load(model_path, map_location=DEVICE))\n",
            "<ipython-input-20-cfd3cde940a7>:92: RuntimeWarning: divide by zero encountered in divide\n",
            "  mape = np.mean(np.abs((actual_valuess - predictions) / actual_valuess)) * 100\n"
          ]
        },
        {
          "output_type": "stream",
          "name": "stdout",
          "text": [
            "CSV saved as: predicted_vs_actual_plots/best_fuel_coolant/2_slope_added.csv\n",
            "MAE: 142.5124---------------/content/1-20.csv\n",
            "MSE: 47015.2694\n",
            "MAPE: inf% ---------------------\n"
          ]
        },
        {
          "output_type": "stream",
          "name": "stderr",
          "text": [
            "<ipython-input-20-cfd3cde940a7>:26: FutureWarning: You are using `torch.load` with `weights_only=False` (the current default value), which uses the default pickle module implicitly. It is possible to construct malicious pickle data which will execute arbitrary code during unpickling (See https://github.com/pytorch/pytorch/blob/main/SECURITY.md#untrusted-models for more details). In a future release, the default value for `weights_only` will be flipped to `True`. This limits the functions that could be executed during unpickling. Arbitrary objects will no longer be allowed to be loaded via this mode unless they are explicitly allowlisted by the user via `torch.serialization.add_safe_globals`. We recommend you start setting `weights_only=True` for any use case where you don't have full control of the loaded file. Please open an issue on GitHub for any issues related to this experimental feature.\n",
            "  model.load_state_dict(torch.load(model_path, map_location=DEVICE))\n",
            "<ipython-input-20-cfd3cde940a7>:92: RuntimeWarning: divide by zero encountered in divide\n",
            "  mape = np.mean(np.abs((actual_valuess - predictions) / actual_valuess)) * 100\n"
          ]
        },
        {
          "output_type": "stream",
          "name": "stdout",
          "text": [
            "CSV saved as: predicted_vs_actual_plots/best_fuel_coolant/1-20.csv\n",
            "MAE: 166.6612---------------/content/18sh_Sheet1_slope_added.csv\n",
            "MSE: 79202.7051\n",
            "MAPE: inf% ---------------------\n"
          ]
        },
        {
          "output_type": "stream",
          "name": "stderr",
          "text": [
            "<ipython-input-20-cfd3cde940a7>:26: FutureWarning: You are using `torch.load` with `weights_only=False` (the current default value), which uses the default pickle module implicitly. It is possible to construct malicious pickle data which will execute arbitrary code during unpickling (See https://github.com/pytorch/pytorch/blob/main/SECURITY.md#untrusted-models for more details). In a future release, the default value for `weights_only` will be flipped to `True`. This limits the functions that could be executed during unpickling. Arbitrary objects will no longer be allowed to be loaded via this mode unless they are explicitly allowlisted by the user via `torch.serialization.add_safe_globals`. We recommend you start setting `weights_only=True` for any use case where you don't have full control of the loaded file. Please open an issue on GitHub for any issues related to this experimental feature.\n",
            "  model.load_state_dict(torch.load(model_path, map_location=DEVICE))\n",
            "<ipython-input-20-cfd3cde940a7>:92: RuntimeWarning: divide by zero encountered in divide\n",
            "  mape = np.mean(np.abs((actual_valuess - predictions) / actual_valuess)) * 100\n"
          ]
        },
        {
          "output_type": "stream",
          "name": "stdout",
          "text": [
            "CSV saved as: predicted_vs_actual_plots/best_fuel_coolant/18sh_Sheet1_slope_added.csv\n",
            "MAE: 131.5458---------------/content/1_slope_added.csv\n",
            "MSE: 40684.7595\n",
            "MAPE: inf% ---------------------\n"
          ]
        },
        {
          "output_type": "stream",
          "name": "stderr",
          "text": [
            "<ipython-input-20-cfd3cde940a7>:26: FutureWarning: You are using `torch.load` with `weights_only=False` (the current default value), which uses the default pickle module implicitly. It is possible to construct malicious pickle data which will execute arbitrary code during unpickling (See https://github.com/pytorch/pytorch/blob/main/SECURITY.md#untrusted-models for more details). In a future release, the default value for `weights_only` will be flipped to `True`. This limits the functions that could be executed during unpickling. Arbitrary objects will no longer be allowed to be loaded via this mode unless they are explicitly allowlisted by the user via `torch.serialization.add_safe_globals`. We recommend you start setting `weights_only=True` for any use case where you don't have full control of the loaded file. Please open an issue on GitHub for any issues related to this experimental feature.\n",
            "  model.load_state_dict(torch.load(model_path, map_location=DEVICE))\n",
            "<ipython-input-20-cfd3cde940a7>:92: RuntimeWarning: divide by zero encountered in divide\n",
            "  mape = np.mean(np.abs((actual_valuess - predictions) / actual_valuess)) * 100\n"
          ]
        },
        {
          "output_type": "stream",
          "name": "stdout",
          "text": [
            "CSV saved as: predicted_vs_actual_plots/best_fuel_coolant/1_slope_added.csv\n",
            "MAE: 153.6129---------------/content/18sh_Sheet7_slope_added.csv\n",
            "MSE: 55421.0560\n",
            "MAPE: inf% ---------------------\n"
          ]
        },
        {
          "output_type": "stream",
          "name": "stderr",
          "text": [
            "<ipython-input-20-cfd3cde940a7>:26: FutureWarning: You are using `torch.load` with `weights_only=False` (the current default value), which uses the default pickle module implicitly. It is possible to construct malicious pickle data which will execute arbitrary code during unpickling (See https://github.com/pytorch/pytorch/blob/main/SECURITY.md#untrusted-models for more details). In a future release, the default value for `weights_only` will be flipped to `True`. This limits the functions that could be executed during unpickling. Arbitrary objects will no longer be allowed to be loaded via this mode unless they are explicitly allowlisted by the user via `torch.serialization.add_safe_globals`. We recommend you start setting `weights_only=True` for any use case where you don't have full control of the loaded file. Please open an issue on GitHub for any issues related to this experimental feature.\n",
            "  model.load_state_dict(torch.load(model_path, map_location=DEVICE))\n",
            "<ipython-input-20-cfd3cde940a7>:92: RuntimeWarning: divide by zero encountered in divide\n",
            "  mape = np.mean(np.abs((actual_valuess - predictions) / actual_valuess)) * 100\n"
          ]
        },
        {
          "output_type": "stream",
          "name": "stdout",
          "text": [
            "CSV saved as: predicted_vs_actual_plots/best_fuel_coolant/18sh_Sheet7_slope_added.csv\n",
            "MAE: 114.7262---------------/content/18sh_Sheet8_slope_added.csv\n",
            "MSE: 34123.1145\n",
            "MAPE: inf% ---------------------\n"
          ]
        },
        {
          "output_type": "stream",
          "name": "stderr",
          "text": [
            "<ipython-input-20-cfd3cde940a7>:26: FutureWarning: You are using `torch.load` with `weights_only=False` (the current default value), which uses the default pickle module implicitly. It is possible to construct malicious pickle data which will execute arbitrary code during unpickling (See https://github.com/pytorch/pytorch/blob/main/SECURITY.md#untrusted-models for more details). In a future release, the default value for `weights_only` will be flipped to `True`. This limits the functions that could be executed during unpickling. Arbitrary objects will no longer be allowed to be loaded via this mode unless they are explicitly allowlisted by the user via `torch.serialization.add_safe_globals`. We recommend you start setting `weights_only=True` for any use case where you don't have full control of the loaded file. Please open an issue on GitHub for any issues related to this experimental feature.\n",
            "  model.load_state_dict(torch.load(model_path, map_location=DEVICE))\n",
            "<ipython-input-20-cfd3cde940a7>:92: RuntimeWarning: divide by zero encountered in divide\n",
            "  mape = np.mean(np.abs((actual_valuess - predictions) / actual_valuess)) * 100\n"
          ]
        },
        {
          "output_type": "stream",
          "name": "stdout",
          "text": [
            "CSV saved as: predicted_vs_actual_plots/best_fuel_coolant/18sh_Sheet8_slope_added.csv\n"
          ]
        }
      ],
      "source": [
        "import os\n",
        "from sklearn.metrics import mean_absolute_error, mean_squared_error\n",
        "\n",
        "import numpy as np\n",
        "import pandas as pd\n",
        "import matplotlib.pyplot as plt\n",
        "import torch\n",
        "from torch import nn\n",
        "import torch.nn as nn\n",
        "import torch\n",
        "\n",
        "# Constants\n",
        "SEQUENCE_LENGTH = 600  # Updated sequence length\n",
        "PLOT_SAVE_DIR = 'predicted_vs_actual_plots'  # Base directory to save plots and CSVs\n",
        "DEVICE = torch.device('cuda' if torch.cuda.is_available() else 'cpu')\n",
        "\n",
        "# Ensure the base save directory exists\n",
        "os.makedirs(PLOT_SAVE_DIR, exist_ok=True)\n",
        "\n",
        "# Define the PyTorch model structure (same as the one used for training)\n",
        "\n",
        "\n",
        "# Load the trained model\n",
        "def load_trained_model(model_path, input_size):\n",
        "    model = FuelConsumptionModel(input_size=input_size)\n",
        "    model.load_state_dict(torch.load(model_path, map_location=DEVICE))\n",
        "    model.to(DEVICE)\n",
        "    model.eval()\n",
        "    return model\n",
        "\n",
        "# Process the file and prepare segments\n",
        "def process_file(file_path):\n",
        "    df = pd.read_csv(file_path)\n",
        "    # df = df.iloc[::2].reset_index(drop=True)\n",
        "    df['Time'] = df['time'] - df['time'].iloc[0]\n",
        "    df['Trip fuel consumption'] = df['Trip_fuel_consumption'] - df['Trip_fuel_consumption'].iloc[0]\n",
        "    df['Acceleration'] = df['Vehicle_Speed'].diff().fillna(0)\n",
        "    df['Momentary fuel consumption'] = df['Trip fuel consumption'].diff().fillna(0)\n",
        "\n",
        "    df['Adjusted_gear_position'] = df['Current_gear_shift_position_(Current_gear)'].replace({13: 0.2, 14: 1})\n",
        "\n",
        "    # Selecting features and target\n",
        "    features = df[['Adjusted_gear_position', 'Vehicle_Speed', 'slope', 'Acceleration','Coolant_temperature']]\n",
        "    target = df['Momentary fuel consumption']\n",
        "    target = df['Momentary fuel consumption']\n",
        "    return features, target\n",
        "\n",
        "# Pad and normalize the data\n",
        "def pad_and_normalize(data, sequence_length=SEQUENCE_LENGTH):\n",
        "    padded_data = np.zeros((len(data), sequence_length, data[0].shape[1]))\n",
        "    for i, seq in enumerate(data):\n",
        "        length = min(len(seq), sequence_length)\n",
        "        padded_data[i, :length] = seq[:length]\n",
        "\n",
        "    # Normalization (same as in your script)\n",
        "    min_val_x = [0, 0, -10, -10,0]\n",
        "    max_val_x = [6, 150, 10, 10,130]\n",
        "    for i in range(padded_data.shape[-1]):\n",
        "        padded_data[:, :, i] = (padded_data[:, :, i] - min_val_x[i]) / (max_val_x[i] - min_val_x[i])\n",
        "\n",
        "    return torch.tensor(padded_data, dtype=torch.float32).to(DEVICE)\n",
        "\n",
        "\n",
        "# Predict and plot the results\n",
        "def plot_predicted_vs_real(input_file, model, model_name):\n",
        "    features, actual_values = process_file(input_file)\n",
        "    num_segments = len(features) // SEQUENCE_LENGTH\n",
        "    predictions = []\n",
        "\n",
        "    for i in range(num_segments):\n",
        "        segment = features.iloc[i * SEQUENCE_LENGTH:(i + 1) * SEQUENCE_LENGTH]\n",
        "        segment_normalized = pad_and_normalize([segment.values])\n",
        "        with torch.no_grad():\n",
        "            segment_predictions = model(segment_normalized).cpu().numpy()\n",
        "        predictions.extend(segment_predictions.flatten() * 10000)\n",
        "\n",
        "    # Handle any remaining data\n",
        "    remainder = len(features) % SEQUENCE_LENGTH\n",
        "    if remainder != 0:\n",
        "        last_segment = features.iloc[-remainder:]\n",
        "        last_segment_normalized = pad_and_normalize([last_segment.values], sequence_length=remainder)\n",
        "        with torch.no_grad():\n",
        "            last_segment_predictions = model(last_segment_normalized).cpu().numpy()\n",
        "        predictions.extend(last_segment_predictions.flatten() * 10000)\n",
        "\n",
        "    predictions = np.array(predictions)\n",
        "    actual_valuess = actual_values.values[:len(predictions)]  # Ensure lengths match\n",
        "\n",
        "    # Calculate error metrics\n",
        "    mae = mean_absolute_error(actual_valuess, predictions)\n",
        "    mse = mean_squared_error(actual_valuess, predictions)\n",
        "    mape = np.mean(np.abs((actual_valuess - predictions) / actual_valuess)) * 100\n",
        "\n",
        "    print(f'MAE: {mae:.4f}---------------{input_file}')\n",
        "    print(f'MSE: {mse:.4f}')\n",
        "    print(f'MAPE: {mape:.4f}% ---------------------')\n",
        "\n",
        "    plt.figure(figsize=(10, 6))\n",
        "    plt.plot(np.cumsum(actual_values.values[:len(predictions)], axis=0), label='Real', color='blue')\n",
        "    plt.plot(np.cumsum(predictions[:len(actual_values)], axis=0), label='Predicted', color='red')\n",
        "    plt.xlabel('Index')\n",
        "    plt.ylabel('Fuel Consumption')\n",
        "    plt.title(f'Predicted vs Real Fuel Consumption ({model_name})')\n",
        "    plt.legend()\n",
        "\n",
        "    # Create model-specific directory\n",
        "    model_save_dir = os.path.join(PLOT_SAVE_DIR, model_name)\n",
        "    os.makedirs(model_save_dir, exist_ok=True)\n",
        "\n",
        "    # Save plot using model name in the designated directory\n",
        "    plot_filename = os.path.join(model_save_dir, f'{os.path.splitext(os.path.basename(input_file))[0]}_all.png')\n",
        "    plt.savefig(plot_filename)\n",
        "    plt.close()\n",
        "\n",
        "    # print(f\"Plot saved as: {plot_filename}\")\n",
        "\n",
        "    # Save predictions and actual values to CSV using model name in the designated directory\n",
        "    results_df = pd.DataFrame({\n",
        "        'Speed': features[\"Vehicle_Speed\"].iloc[:len(predictions)],\n",
        "        'Actual': np.cumsum(actual_values.values[:len(predictions)], axis=0),\n",
        "        'Predicted': np.cumsum(predictions[:len(actual_values)], axis=0)\n",
        "    })\n",
        "\n",
        "    csv_filename = os.path.join(model_save_dir, f'{os.path.splitext(os.path.basename(input_file))[0]}.csv')\n",
        "    results_df.to_csv(csv_filename, index=False)\n",
        "    print(f\"CSV saved as: {csv_filename}\")\n",
        "# Directory containing all saved models and CSV files\n",
        "csv_dir = '/content/'  # Directory containing CSV files\n",
        "model_dir = '/content/'  # Directory containing model files\n",
        "\n",
        "# List all model files in the directory\n",
        "model_files = [f for f in os.listdir(model_dir) if f.endswith('.pth')]\n",
        "\n",
        "# List all CSV files in the directory\n",
        "csv_files = [f for f in os.listdir(csv_dir) if f.endswith('.csv')]\n",
        "\n",
        "# Load and test each model on each CSV file\n",
        "input_size = 5  # Number of features in the input data\n",
        "\n",
        "for csv_file in csv_files:\n",
        "    csv_file_path = os.path.join(csv_dir, csv_file)\n",
        "    # print(f\"Processing CSV file: {csv_file}\")\n",
        "\n",
        "    for model_file in model_files:\n",
        "        model_path = os.path.join(model_dir, model_file)\n",
        "        model_name = os.path.splitext(model_file)[0]  # Get the base name of the model file\n",
        "        # print(f\"Testing model: {model_name} on {csv_file}\")\n",
        "\n",
        "        model = load_trained_model(model_path, input_size)\n",
        "        plot_predicted_vs_real(csv_file_path, model, model_name)\n"
      ]
    },
    {
      "cell_type": "code",
      "execution_count": 1,
      "metadata": {
        "id": "ypRXnIRHZK15"
      },
      "outputs": [],
      "source": [
        "!rm -r '/content/data_aug(3_slices_with_repeated)_cluster_5'"
      ]
    },
    {
      "cell_type": "code",
      "execution_count": 21,
      "metadata": {
        "colab": {
          "base_uri": "https://localhost:8080/"
        },
        "id": "ld0z9cg9-Fth",
        "outputId": "748f34a0-b623-4c35-db6a-d7dd1e0e69f4"
      },
      "outputs": [
        {
          "output_type": "stream",
          "name": "stdout",
          "text": [
            "  adding: predicted_vs_actual_plots/ (stored 0%)\n",
            "  adding: predicted_vs_actual_plots/best_fuel_coolant/ (stored 0%)\n",
            "  adding: predicted_vs_actual_plots/best_fuel_coolant/18sh_Sheet8_slope_added_all.png (deflated 9%)\n",
            "  adding: predicted_vs_actual_plots/best_fuel_coolant/18sh_Sheet2_slope_added.csv (deflated 59%)\n",
            "  adding: predicted_vs_actual_plots/best_fuel_coolant/18sh_Sheet4_slope_added_all.png (deflated 9%)\n",
            "  adding: predicted_vs_actual_plots/best_fuel_coolant/21sh_Sheet1_slope_added_all.png (deflated 9%)\n",
            "  adding: predicted_vs_actual_plots/best_fuel_coolant/21sh_Sheet2_slope_added_all.png (deflated 9%)\n",
            "  adding: predicted_vs_actual_plots/best_fuel_coolant/2_slope_added_all.png (deflated 9%)\n",
            "  adding: predicted_vs_actual_plots/best_fuel_coolant/18sh_Sheet4_slope_added.csv (deflated 60%)\n",
            "  adding: predicted_vs_actual_plots/best_fuel_coolant/18sh_Sheet2_slope_added_all.png (deflated 9%)\n",
            "  adding: predicted_vs_actual_plots/best_fuel_coolant/21sh_Sheet1_slope_added.csv (deflated 60%)\n",
            "  adding: predicted_vs_actual_plots/best_fuel_coolant/18sh_Sheet5_slope_added.csv (deflated 60%)\n",
            "  adding: predicted_vs_actual_plots/best_fuel_coolant/18sh_Sheet5_slope_added_all.png (deflated 9%)\n",
            "  adding: predicted_vs_actual_plots/best_fuel_coolant/21sh_Sheet2_slope_added.csv (deflated 61%)\n",
            "  adding: predicted_vs_actual_plots/best_fuel_coolant/2_slope_added.csv (deflated 60%)\n",
            "  adding: predicted_vs_actual_plots/best_fuel_coolant/1-20.csv (deflated 61%)\n",
            "  adding: predicted_vs_actual_plots/best_fuel_coolant/18sh_Sheet1_slope_added.csv (deflated 61%)\n",
            "  adding: predicted_vs_actual_plots/best_fuel_coolant/18sh_Sheet7_slope_added_all.png (deflated 9%)\n",
            "  adding: predicted_vs_actual_plots/best_fuel_coolant/18sh_Sheet1_slope_added_all.png (deflated 9%)\n",
            "  adding: predicted_vs_actual_plots/best_fuel_coolant/1_slope_added_all.png (deflated 9%)\n",
            "  adding: predicted_vs_actual_plots/best_fuel_coolant/1_slope_added.csv (deflated 59%)\n",
            "  adding: predicted_vs_actual_plots/best_fuel_coolant/1-20_all.png (deflated 9%)\n",
            "  adding: predicted_vs_actual_plots/best_fuel_coolant/18sh_Sheet7_slope_added.csv (deflated 59%)\n",
            "  adding: predicted_vs_actual_plots/best_fuel_coolant/18sh_Sheet8_slope_added.csv (deflated 61%)\n"
          ]
        }
      ],
      "source": [
        "!zip -r predicted_vs_actual_plots.zip predicted_vs_actual_plots"
      ]
    }
  ],
  "metadata": {
    "accelerator": "GPU",
    "colab": {
      "gpuType": "T4",
      "provenance": []
    },
    "kernelspec": {
      "display_name": "Python 3",
      "name": "python3"
    },
    "language_info": {
      "name": "python"
    }
  },
  "nbformat": 4,
  "nbformat_minor": 0
}
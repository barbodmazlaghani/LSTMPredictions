{
  "cells": [
    {
      "cell_type": "code",
      "execution_count": 7,
      "metadata": {
        "id": "X_RQgrvEbkfv",
        "colab": {
          "base_uri": "https://localhost:8080/"
        },
        "outputId": "e3df1a28-2cae-4d72-9d7a-4b4d200fcb5a"
      },
      "outputs": [
        {
          "output_type": "stream",
          "name": "stdout",
          "text": [
            "Drive already mounted at /content/gdrive; to attempt to forcibly remount, call drive.mount(\"/content/gdrive\", force_remount=True).\n"
          ]
        }
      ],
      "source": [
        "from google.colab import drive\n",
        "drive.mount('/content/gdrive')\n",
        "\n"
      ]
    },
    {
      "cell_type": "code",
      "execution_count": null,
      "metadata": {
        "colab": {
          "base_uri": "https://localhost:8080/"
        },
        "id": "JNpY9gUyA6hm",
        "outputId": "21f27ad2-acce-42f5-838b-3a3c3958ef9e"
      },
      "outputs": [
        {
          "name": "stdout",
          "output_type": "stream",
          "text": [
            "unzip:  cannot find or open DataAugumentation.zip, DataAugumentation.zip.zip or DataAugumentation.zip.ZIP.\n",
            "unzip:  cannot find or open data_aug_3_slices_with_repeated_cluster_5.zip, data_aug_3_slices_with_repeated_cluster_5.zip.zip or data_aug_3_slices_with_repeated_cluster_5.zip.ZIP.\n",
            "rm: cannot remove 'DataAugumentation.zip': No such file or directory\n",
            "rm: cannot remove 'data_aug_3_slices_with_repeated_cluster_5.zip': No such file or directory\n"
          ]
        }
      ],
      "source": [
        "\n",
        "# !cp \"/content/gdrive/My Drive/DataAugumentation.zip\" .\n",
        "#ADDED NEW SOURCE\n",
        "!cp \"/content/gdrive/MyDrive/data_aug(3_slices_with_repeated)_cluster_5_ehsan_0.5.zip\" .\n",
        "\n",
        "!unzip -qq DataAugumentation.zip\n",
        "!unzip -qq data_aug_3_slices_with_repeated_cluster_5.zip\n",
        "!rm DataAugumentation.zip\n",
        "!rm data_aug_3_slices_with_repeated_cluster_5.zip\n",
        "data_path = 'DataAugumentation'"
      ]
    },
    {
      "cell_type": "code",
      "execution_count": null,
      "metadata": {
        "id": "Bxq7nrGyD5cj"
      },
      "outputs": [],
      "source": [
        "!cp \"/content/gdrive/MyDrive/data_aug(3_slices_with_repeated)_cluster_5_ehsan_0.5_v2.rar\" ."
      ]
    },
    {
      "cell_type": "code",
      "execution_count": 4,
      "metadata": {
        "id": "A_lHwqpAJLCP"
      },
      "outputs": [],
      "source": [
        "!unzip -qq '/content/gdrive/MyDrive/data_aug(3_slices_with_repeated)_cluster_5_ehsan_0.5.zip'"
      ]
    },
    {
      "cell_type": "code",
      "execution_count": 3,
      "metadata": {
        "id": "5xBVXOonbnUe",
        "colab": {
          "base_uri": "https://localhost:8080/"
        },
        "outputId": "b279f3fd-af4b-415f-efdf-b97ec0d818a9"
      },
      "outputs": [
        {
          "output_type": "stream",
          "name": "stdout",
          "text": [
            "unzip:  cannot find or open /content/data_aug(3_slices_with_repeated)_cluster_5_ehsan_0.5.zip, /content/data_aug(3_slices_with_repeated)_cluster_5_ehsan_0.5.zip.zip or /content/data_aug(3_slices_with_repeated)_cluster_5_ehsan_0.5.zip.ZIP.\n"
          ]
        }
      ],
      "source": [
        "!unzip -qq '/content/data_aug(3_slices_with_repeated)_cluster_5_ehsan_0.5.zip'"
      ]
    },
    {
      "cell_type": "code",
      "execution_count": null,
      "metadata": {
        "id": "zxnnqpprEzzN"
      },
      "outputs": [],
      "source": [
        "!unrar x '/content/gdrive/MyDrive/data_aug(3_slices_with_repeated)_cluster_5_ehsan_0.5_v2.rar'"
      ]
    },
    {
      "cell_type": "code",
      "source": [
        "!rm -r '/content/data_aug(3_slices_with_repeated)_cluster_5'"
      ],
      "metadata": {
        "id": "ttDg8PUwyqiy"
      },
      "execution_count": null,
      "outputs": []
    },
    {
      "cell_type": "code",
      "source": [
        "\n",
        "Coolant_temperature"
      ],
      "metadata": {
        "id": "iBqDSubNyNhL"
      },
      "execution_count": null,
      "outputs": []
    },
    {
      "cell_type": "code",
      "execution_count": null,
      "metadata": {
        "id": "3PDshfYSS1BB"
      },
      "outputs": [],
      "source": [
        "import os\n",
        "import numpy as np\n",
        "import pandas as pd\n",
        "import torch\n",
        "from multiprocessing import Pool\n",
        "from sklearn.preprocessing import MinMaxScaler\n",
        "import os\n",
        "import numpy as np\n",
        "import pandas as pd\n",
        "import torch\n",
        "import torch.nn as nn\n",
        "import torch.optim as optim\n",
        "from sklearn.preprocessing import MinMaxScaler\n",
        "from torch.utils.data import DataLoader, TensorDataset\n",
        "import joblib"
      ]
    },
    {
      "cell_type": "code",
      "execution_count": 5,
      "metadata": {
        "id": "0xa3EJovIdBZ"
      },
      "outputs": [],
      "source": [
        "import os\n",
        "import numpy as np\n",
        "import pandas as pd\n",
        "import torch\n",
        "from multiprocessing import Pool\n",
        "from sklearn.preprocessing import MinMaxScaler\n",
        "import os\n",
        "import numpy as np\n",
        "import pandas as pd\n",
        "import torch\n",
        "import torch.nn as nn\n",
        "import torch.optim as optim\n",
        "from sklearn.preprocessing import MinMaxScaler\n",
        "from torch.utils.data import DataLoader, TensorDataset\n",
        "import joblib\n",
        "\n",
        "SEQUENCE_LENGTH = 600\n",
        "BATCH_SIZE = 64\n",
        "EPOCHS = 250\n",
        "LEARNING_RATE = 1e-5\n",
        "DEVICE = torch.device('cuda' if torch.cuda.is_available() else 'cpu')\n",
        "\n",
        "# Data processing function\n",
        "def process_file(file_path):\n",
        "    df = pd.read_csv(file_path)\n",
        "    if df.shape[0] >= 600:\n",
        "        df['Time'] = df['Time'] - df['Time'].iloc[0]\n",
        "        df['Momentary fuel consumption'] = df['Trip fuel consumption'].diff().fillna(0)\n",
        "        df['Acceleration'] = df['Speed'].diff().fillna(0)\n",
        "        df['Adjusted_gear_position'] = df['Current_gear_shift_position_(Current_gear)'].replace({13: 0.2, 14: 1})\n",
        "\n",
        "        features = df[['Adjusted_gear_position', 'Speed', 'slope', 'Acceleration','Coolant_temperature']]\n",
        "        target = df['Momentary fuel consumption']\n",
        "        return features.values, target.values\n",
        "    else:\n",
        "        return None, None\n",
        "\n",
        "# Function to slice data into chunks and append to lists\n",
        "def slice_and_append(features, target, sequence_length):\n",
        "    num_chunks = len(features) // sequence_length\n",
        "    X_list, y_list = [], []\n",
        "\n",
        "    for i in range(num_chunks):\n",
        "        start_idx = i * sequence_length\n",
        "        end_idx = start_idx + sequence_length\n",
        "        sliced_features = features[start_idx:end_idx]\n",
        "        sliced_target = target[start_idx:end_idx]\n",
        "        X_list.append(sliced_features)\n",
        "        y_list.append(sliced_target)\n",
        "\n",
        "    return X_list, y_list\n",
        "\n",
        "# Helper function to process multiple files\n",
        "def process_and_slice(file_path):\n",
        "    features, target = process_file(file_path)\n",
        "    if features is not None and target is not None:\n",
        "        return slice_and_append(features, target, SEQUENCE_LENGTH)\n",
        "    return [], []\n",
        "\n",
        "# Function to process a folder in parallel\n",
        "def process_folder_parallel(folder_path, num_workers=4):\n",
        "    all_X, all_y = [], []\n",
        "    file_paths = [os.path.join(folder_path, f) for f in os.listdir(folder_path) if f.endswith('.csv')]\n",
        "\n",
        "    with Pool(num_workers) as p:\n",
        "        results = p.map(process_and_slice, file_paths)\n",
        "\n",
        "    # Unpacking the processed slices\n",
        "    for X_list, y_list in results:\n",
        "        all_X.extend(X_list)\n",
        "        all_y.extend(y_list)\n",
        "\n",
        "    return all_X, all_y\n",
        "X_original = []\n",
        "y_original = []\n",
        "# Main processing logic\n",
        "def main(base_folder_path):\n",
        "\n",
        "    X_augmented = []\n",
        "    y_augmented = []\n",
        "\n",
        "    for i in range(7):\n",
        "        if i == 5 or i==6 :\n",
        "            folder_path = os.path.join(base_folder_path, f'data_aug(3_slices_with_repeated)_cluster_{i}')\n",
        "            X_aug, y_aug = process_folder_parallel(folder_path, num_workers=4)\n",
        "            X_augmented.extend(X_aug)\n",
        "            y_augmented.extend(y_aug)\n",
        "\n",
        "    return X_augmented, y_augmented\n",
        "\n",
        "# Example call to main\n",
        "base_folder_path = '/content/'\n",
        "X_augmented, y_augmented = main(base_folder_path)\n"
      ]
    },
    {
      "cell_type": "code",
      "execution_count": 6,
      "metadata": {
        "id": "btJOSO6edHGt"
      },
      "outputs": [],
      "source": [
        "\n",
        "# Function to pad or truncate sequences\n",
        "def pad_or_truncate(sequence, length):\n",
        "    if len(sequence) > length:\n",
        "        return sequence[:length]\n",
        "    elif len(sequence) < length:\n",
        "        return np.pad(sequence, ((0, length - len(sequence)), (0, 0)), mode='constant')\n",
        "    else:\n",
        "        return sequence\n",
        "\n"
      ]
    },
    {
      "cell_type": "code",
      "execution_count": 7,
      "metadata": {
        "id": "nOGD-6Ibekzm"
      },
      "outputs": [],
      "source": [
        "X_original = []\n",
        "y_original = []\n",
        "# Apply padding/truncating to ensure consistent sequence length\n",
        "X_original = [pad_or_truncate(x, SEQUENCE_LENGTH) for x in X_original]\n",
        "y_original = [pad_or_truncate(y.reshape(-1, 1), SEQUENCE_LENGTH) for y in y_original]\n",
        "X_augmented = [pad_or_truncate(x, SEQUENCE_LENGTH) for x in X_augmented]\n",
        "y_augmented = [pad_or_truncate(y.reshape(-1, 1), SEQUENCE_LENGTH) for y in y_augmented]\n"
      ]
    },
    {
      "cell_type": "code",
      "execution_count": 8,
      "metadata": {
        "colab": {
          "base_uri": "https://localhost:8080/"
        },
        "id": "FiXsLZnKJ7zm",
        "outputId": "d3a14eb2-7c16-4dfa-ac3a-708bf0ba8674"
      },
      "outputs": [
        {
          "output_type": "execute_result",
          "data": {
            "text/plain": [
              "(41575, 600, 5)"
            ]
          },
          "metadata": {},
          "execution_count": 8
        }
      ],
      "source": [
        "np.array(X_augmented).shape"
      ]
    },
    {
      "cell_type": "markdown",
      "metadata": {
        "id": "Je-wuXPMJSGA"
      },
      "source": [
        "#Save file"
      ]
    },
    {
      "cell_type": "code",
      "execution_count": 9,
      "metadata": {
        "id": "x1fvCNb5JQ9B"
      },
      "outputs": [],
      "source": [
        "import numpy as np\n",
        "\n",
        "# Convert lists to numpy arrays if they aren't already\n",
        "X_original = np.array(X_original)\n",
        "y_original = np.array(y_original)\n",
        "X_augmented = np.array(X_augmented)\n",
        "y_augmented = np.array(y_augmented)\n",
        "\n",
        "# Saving to npz file\n",
        "np.savez(f'data{SEQUENCE_LENGTH}_coolant.npz', X_original=X_original, y_original=y_original, X_augmented=X_augmented, y_augmented=y_augmented)\n"
      ]
    },
    {
      "cell_type": "markdown",
      "metadata": {
        "id": "T2VsgPt5JVSs"
      },
      "source": [
        "#Load file"
      ]
    },
    {
      "cell_type": "code",
      "execution_count": null,
      "metadata": {
        "id": "HzRBHKopJXR7"
      },
      "outputs": [],
      "source": [
        "# Loading from npz file\n",
        "data = np.load('data.npz')\n",
        "\n",
        "X_original = data['X_original']\n",
        "y_original = data['y_original']\n",
        "X_augmented = data['X_augmented']\n",
        "y_augmented = data['y_augmented']\n"
      ]
    },
    {
      "cell_type": "code",
      "execution_count": null,
      "metadata": {
        "colab": {
          "base_uri": "https://localhost:8080/"
        },
        "id": "yzKjRaONKW7i",
        "outputId": "8a9d8827-b0ed-4c14-ba89-fd85c524ca5a"
      },
      "outputs": [
        {
          "data": {
            "text/plain": [
              "array([[[ 0.        ,  0.        ,  0.        ,  0.        ],\n",
              "        [ 0.        ,  0.        ,  0.        ,  0.        ],\n",
              "        [ 0.        ,  0.        ,  0.        ,  0.        ],\n",
              "        ...,\n",
              "        [ 3.        , 48.        ,  0.25740026,  1.        ],\n",
              "        [ 3.        , 49.        , -0.70175439,  1.        ],\n",
              "        [ 3.        , 49.        , -0.70175439,  0.        ]],\n",
              "\n",
              "       [[ 2.        , 16.        ,  0.19083969,  0.        ],\n",
              "        [ 2.        , 16.        ,  0.19083969,  0.        ],\n",
              "        [ 2.        , 15.        ,  0.19083969, -1.        ],\n",
              "        ...,\n",
              "        [ 2.        , 13.        ,  0.        , -1.        ],\n",
              "        [ 2.        , 12.        ,  0.        , -1.        ],\n",
              "        [ 2.        , 11.        ,  0.        , -1.        ]],\n",
              "\n",
              "       [[ 4.        , 96.        ,  2.67206478,  0.        ],\n",
              "        [ 4.        , 95.        ,  2.67206478, -1.        ],\n",
              "        [ 4.        , 94.        ,  2.67206478, -1.        ],\n",
              "        ...,\n",
              "        [ 0.        ,  0.        ,  0.        ,  0.        ],\n",
              "        [ 0.        ,  0.        ,  0.        ,  0.        ],\n",
              "        [ 0.        ,  0.        ,  0.        ,  0.        ]],\n",
              "\n",
              "       ...,\n",
              "\n",
              "       [[ 4.        , 71.        , -3.06748466,  0.        ],\n",
              "        [ 4.        , 69.        , -3.06748466, -2.        ],\n",
              "        [ 4.        , 69.        , -3.06748466,  0.        ],\n",
              "        ...,\n",
              "        [ 0.        ,  0.        ,  0.        ,  0.        ],\n",
              "        [ 0.        ,  0.        ,  0.        ,  0.        ],\n",
              "        [ 0.        ,  0.        ,  0.        ,  0.        ]],\n",
              "\n",
              "       [[ 0.        ,  0.        ,  0.        ,  0.        ],\n",
              "        [ 0.        ,  0.        ,  0.        ,  0.        ],\n",
              "        [ 0.        ,  0.        ,  0.        ,  0.        ],\n",
              "        ...,\n",
              "        [ 5.        , 83.        ,  0.17346054,  0.        ],\n",
              "        [ 5.        , 82.        ,  0.17346054, -1.        ],\n",
              "        [ 5.        , 81.        ,  0.17346054, -1.        ]],\n",
              "\n",
              "       [[ 2.        , 36.        ,  0.17667845,  0.        ],\n",
              "        [ 2.        , 36.        ,  0.17667845,  0.        ],\n",
              "        [ 2.        , 37.        ,  0.17667845,  1.        ],\n",
              "        ...,\n",
              "        [ 0.        ,  0.        ,  0.        ,  0.        ],\n",
              "        [ 0.        ,  0.        ,  0.        ,  0.        ],\n",
              "        [ 0.        ,  0.        ,  0.        ,  0.        ]]])"
            ]
          },
          "execution_count": 18,
          "metadata": {},
          "output_type": "execute_result"
        }
      ],
      "source": [
        "dddd =np.load('/content/gdrive/MyDrive/data600.npz')\n",
        "dddd['X_augmented']"
      ]
    },
    {
      "cell_type": "code",
      "execution_count": 10,
      "metadata": {
        "id": "eTGExYs0enuV"
      },
      "outputs": [],
      "source": [
        "\n",
        "# Convert data to PyTorch tensors\n",
        "try:\n",
        "    X_original = torch.tensor(np.array(X_original), dtype=torch.float32).to(DEVICE)\n",
        "    y_original = torch.tensor(np.array(y_original), dtype=torch.float32).to(DEVICE)\n",
        "    X_augmented = torch.tensor(np.array(X_augmented), dtype=torch.float32).to(DEVICE)\n",
        "    y_augmented = torch.tensor(np.array(y_augmented), dtype=torch.float32).to(DEVICE)\n",
        "except Exception as e:\n",
        "    print(f\"Error during tensor conversion: {e}\")\n",
        "    print(f\"Shapes: X_original - {np.array(X_original).shape}, y_original - {np.array(y_original).shape}\")\n",
        "    print(f\"Shapes: X_augmented - {np.array(X_augmented).shape}, y_augmented - {np.array(y_augmented).shape}\")\n",
        "    raise\n"
      ]
    },
    {
      "cell_type": "code",
      "execution_count": 32,
      "metadata": {
        "id": "DN9TrizAeqPk"
      },
      "outputs": [],
      "source": [
        "\n",
        "# Split into training and test sets\n",
        "# num_test = int(0.2 * len(X_original))\n",
        "# X_test = X_original[:num_test]\n",
        "# y_test = y_original[:num_test]\n",
        "# X_train = torch.cat([X_original[num_test:], X_augmented])\n",
        "# y_train = torch.cat([y_original[num_test:], y_augmented])\n",
        "\n",
        "\n",
        "X_train = torch.cat([X_original, X_augmented])\n",
        "y_train = torch.cat([y_original, y_augmented])\n",
        "# X_train = X_original[num_test:]\n",
        "# y_train = y_original[num_test:]\n"
      ]
    },
    {
      "cell_type": "code",
      "execution_count": 33,
      "metadata": {
        "colab": {
          "base_uri": "https://localhost:8080/"
        },
        "id": "ArXTXgme-ZnO",
        "outputId": "4a042d07-4b82-4671-9516-685f7197fa1a"
      },
      "outputs": [
        {
          "output_type": "execute_result",
          "data": {
            "text/plain": [
              "tensor([[[  0.2000,   0.0000,   0.0000,   0.0000,  95.0000],\n",
              "         [  0.2000,   0.0000,   0.0000,   0.0000,  95.0000],\n",
              "         [  0.2000,   0.0000,   0.0000,   0.0000,  96.0000],\n",
              "         ...,\n",
              "         [  3.0000,  42.0000,   0.6441,   0.0000, 110.0000],\n",
              "         [  3.0000,  42.0000,   0.6441,   0.0000, 110.0000],\n",
              "         [  3.0000,  41.0000,   0.6441,  -1.0000, 110.0000]],\n",
              "\n",
              "        [[  0.2000,   0.0000,   0.0000,   0.0000,  89.0000],\n",
              "         [  0.2000,   0.0000,   0.0000,   0.0000,  88.0000],\n",
              "         [  0.2000,   0.0000,   0.0000,   0.0000,  89.0000],\n",
              "         ...,\n",
              "         [  5.0000,  83.0000,   0.1735,   0.0000,  85.0000],\n",
              "         [  5.0000,  82.0000,   0.1735,  -1.0000,  84.0000],\n",
              "         [  5.0000,  81.0000,   0.1735,  -1.0000,  85.0000]],\n",
              "\n",
              "        [[  4.0000,  86.0000,   1.2976,   0.0000,  85.0000],\n",
              "         [  4.0000,  86.0000,   1.2976,   0.0000,  83.0000],\n",
              "         [  4.0000,  87.0000,   1.2976,   1.0000,  83.0000],\n",
              "         ...,\n",
              "         [  3.0000,  39.0000,   0.0000,   0.0000,  88.0000],\n",
              "         [  3.0000,  39.0000,   0.0000,   0.0000,  88.0000],\n",
              "         [  3.0000,  38.0000,   0.0000,  -1.0000,  88.0000]],\n",
              "\n",
              "        ...,\n",
              "\n",
              "        [[  4.0000,  73.0000,   0.5519,   0.0000,  85.0000],\n",
              "         [  4.0000,  74.0000,   0.5519,   1.0000,  85.0000],\n",
              "         [  4.0000,  75.0000,   0.5519,   1.0000,  85.0000],\n",
              "         ...,\n",
              "         [  4.0000,  75.0000,   1.9547,   0.0000,  85.0000],\n",
              "         [  4.0000,  76.0000,   1.9547,   1.0000,  85.0000],\n",
              "         [  4.0000,  76.0000,   1.9547,   0.0000,  85.0000]],\n",
              "\n",
              "        [[  3.0000,  51.0000,  -0.1650,   0.0000,  81.0000],\n",
              "         [  3.0000,  50.0000,  -0.1650,  -1.0000,  81.0000],\n",
              "         [  3.0000,  50.0000,  -0.1650,   0.0000,  81.0000],\n",
              "         ...,\n",
              "         [  4.0000,  89.0000,  -1.0542,   0.0000,  84.0000],\n",
              "         [  4.0000,  88.0000,  -1.0542,  -1.0000,  84.0000],\n",
              "         [  4.0000,  89.0000,  -1.0542,   1.0000,  84.0000]],\n",
              "\n",
              "        [[  3.0000,  45.0000,  -0.9302,   0.0000,  87.0000],\n",
              "         [  3.0000,  46.0000,  -0.9302,   1.0000,  87.0000],\n",
              "         [  3.0000,  47.0000,  -0.9302,   1.0000,  87.0000],\n",
              "         ...,\n",
              "         [  3.0000,  48.0000,   0.0000,  -1.0000,  89.0000],\n",
              "         [  3.0000,  47.0000,   0.0000,  -1.0000,  89.0000],\n",
              "         [  3.0000,  46.0000,   0.0000,  -1.0000,  89.0000]]], device='cuda:0')"
            ]
          },
          "metadata": {},
          "execution_count": 33
        }
      ],
      "source": [
        "X_train"
      ]
    },
    {
      "cell_type": "code",
      "source": [
        "last_column = X_train[:, :, -1]\n",
        "\n",
        "# Apply the condition: map values greater than 0.5 to 1, others to 0\n",
        "X_train[:, :, -1] = torch.where(last_column > 75, torch.tensor(0, device='cuda:0'), torch.tensor(0, device='cuda:0'))\n",
        "\n",
        "\n",
        "\n",
        "# Print the modified tensor\n",
        "print(X_train)"
      ],
      "metadata": {
        "colab": {
          "base_uri": "https://localhost:8080/"
        },
        "id": "N71NpxkDAhL7",
        "outputId": "b7345807-dde3-4e7a-9443-fc0ef6ff9824"
      },
      "execution_count": 34,
      "outputs": [
        {
          "output_type": "stream",
          "name": "stdout",
          "text": [
            "tensor([[[ 0.2000,  0.0000,  0.0000,  0.0000,  0.0000],\n",
            "         [ 0.2000,  0.0000,  0.0000,  0.0000,  0.0000],\n",
            "         [ 0.2000,  0.0000,  0.0000,  0.0000,  0.0000],\n",
            "         ...,\n",
            "         [ 3.0000, 42.0000,  0.6441,  0.0000,  0.0000],\n",
            "         [ 3.0000, 42.0000,  0.6441,  0.0000,  0.0000],\n",
            "         [ 3.0000, 41.0000,  0.6441, -1.0000,  0.0000]],\n",
            "\n",
            "        [[ 0.2000,  0.0000,  0.0000,  0.0000,  0.0000],\n",
            "         [ 0.2000,  0.0000,  0.0000,  0.0000,  0.0000],\n",
            "         [ 0.2000,  0.0000,  0.0000,  0.0000,  0.0000],\n",
            "         ...,\n",
            "         [ 5.0000, 83.0000,  0.1735,  0.0000,  0.0000],\n",
            "         [ 5.0000, 82.0000,  0.1735, -1.0000,  0.0000],\n",
            "         [ 5.0000, 81.0000,  0.1735, -1.0000,  0.0000]],\n",
            "\n",
            "        [[ 4.0000, 86.0000,  1.2976,  0.0000,  0.0000],\n",
            "         [ 4.0000, 86.0000,  1.2976,  0.0000,  0.0000],\n",
            "         [ 4.0000, 87.0000,  1.2976,  1.0000,  0.0000],\n",
            "         ...,\n",
            "         [ 3.0000, 39.0000,  0.0000,  0.0000,  0.0000],\n",
            "         [ 3.0000, 39.0000,  0.0000,  0.0000,  0.0000],\n",
            "         [ 3.0000, 38.0000,  0.0000, -1.0000,  0.0000]],\n",
            "\n",
            "        ...,\n",
            "\n",
            "        [[ 4.0000, 73.0000,  0.5519,  0.0000,  0.0000],\n",
            "         [ 4.0000, 74.0000,  0.5519,  1.0000,  0.0000],\n",
            "         [ 4.0000, 75.0000,  0.5519,  1.0000,  0.0000],\n",
            "         ...,\n",
            "         [ 4.0000, 75.0000,  1.9547,  0.0000,  0.0000],\n",
            "         [ 4.0000, 76.0000,  1.9547,  1.0000,  0.0000],\n",
            "         [ 4.0000, 76.0000,  1.9547,  0.0000,  0.0000]],\n",
            "\n",
            "        [[ 3.0000, 51.0000, -0.1650,  0.0000,  0.0000],\n",
            "         [ 3.0000, 50.0000, -0.1650, -1.0000,  0.0000],\n",
            "         [ 3.0000, 50.0000, -0.1650,  0.0000,  0.0000],\n",
            "         ...,\n",
            "         [ 4.0000, 89.0000, -1.0542,  0.0000,  0.0000],\n",
            "         [ 4.0000, 88.0000, -1.0542, -1.0000,  0.0000],\n",
            "         [ 4.0000, 89.0000, -1.0542,  1.0000,  0.0000]],\n",
            "\n",
            "        [[ 3.0000, 45.0000, -0.9302,  0.0000,  0.0000],\n",
            "         [ 3.0000, 46.0000, -0.9302,  1.0000,  0.0000],\n",
            "         [ 3.0000, 47.0000, -0.9302,  1.0000,  0.0000],\n",
            "         ...,\n",
            "         [ 3.0000, 48.0000,  0.0000, -1.0000,  0.0000],\n",
            "         [ 3.0000, 47.0000,  0.0000, -1.0000,  0.0000],\n",
            "         [ 3.0000, 46.0000,  0.0000, -1.0000,  0.0000]]], device='cuda:0')\n"
          ]
        }
      ]
    },
    {
      "cell_type": "code",
      "source": [
        "import torch\n",
        "\n",
        "# Your tensor (stored in X_train)\n",
        "\n",
        "# Get the last column of the tensor\n",
        "last_column = X_train[:, :, -1]\n",
        "\n",
        "# Apply the mapping condition\n",
        "mapped_column = torch.where(last_column > 0.5, torch.tensor(1, device='cuda:0'), torch.tensor(0, device='cuda:0'))\n",
        "\n",
        "# Check if there are any 1s in the last column\n",
        "has_one = torch.any(mapped_column == 1).item()\n",
        "# Check if there are any 0s in the last column\n",
        "has_zero = torch.any(mapped_column == 0).item()\n",
        "\n",
        "# Output the result\n",
        "print(f\"Contains 1s: {has_one}\")\n",
        "print(f\"Contains 0s: {has_zero}\")\n"
      ],
      "metadata": {
        "colab": {
          "base_uri": "https://localhost:8080/"
        },
        "id": "eX6Qwr9LI5MZ",
        "outputId": "72046197-3b28-403d-eecb-290cd8bf263d"
      },
      "execution_count": 42,
      "outputs": [
        {
          "output_type": "stream",
          "name": "stdout",
          "text": [
            "Contains 1s: False\n",
            "Contains 0s: True\n"
          ]
        }
      ]
    },
    {
      "cell_type": "code",
      "source": [
        "import torch\n",
        "\n",
        "# Example tensor data\n",
        "\n",
        "# Find the min and max along the first dimension (across all rows)\n",
        "min_values = torch.min(X_train, dim=0).values\n",
        "max_values = torch.max(X_train, dim=0).values\n",
        "\n",
        "print(\"Min values for each column:\")\n",
        "print(min_values)\n",
        "\n",
        "print(\"Max values for each column:\")\n",
        "print(max_values)\n"
      ],
      "metadata": {
        "colab": {
          "base_uri": "https://localhost:8080/"
        },
        "id": "kM8wSEcDLi9h",
        "outputId": "eca8b40a-98bc-4dd1-eb07-d43b74fb32fe"
      },
      "execution_count": 44,
      "outputs": [
        {
          "output_type": "stream",
          "name": "stdout",
          "text": [
            "Min values for each column:\n",
            "tensor([[ 0.0333,  0.0000, -0.2895,  0.3500,  0.0000],\n",
            "        [ 0.0333,  0.0000, -0.2895,  0.0000,  0.0000],\n",
            "        [ 0.0333,  0.0000, -0.2895,  0.2000,  0.0000],\n",
            "        ...,\n",
            "        [ 0.0333,  0.0000, -0.7500, -0.8500,  0.0000],\n",
            "        [ 0.0333,  0.0000, -0.7500, -0.4000,  0.0000],\n",
            "        [ 0.0333,  0.0000, -0.7500, -0.6500,  0.0000]], device='cuda:0')\n",
            "Max values for each column:\n",
            "tensor([[1.0000, 0.7933, 0.8780, 0.5500, 0.0000],\n",
            "        [1.0000, 0.7933, 0.8780, 5.3000, 0.0000],\n",
            "        [1.0000, 0.7933, 0.8780, 0.7000, 0.0000],\n",
            "        ...,\n",
            "        [1.0000, 0.8733, 1.0814, 5.5500, 0.0000],\n",
            "        [1.0000, 0.8667, 1.0814, 1.1500, 0.0000],\n",
            "        [1.0000, 0.8667, 1.0814, 1.1500, 0.0000]], device='cuda:0')\n"
          ]
        }
      ]
    },
    {
      "cell_type": "code",
      "execution_count": 35,
      "metadata": {
        "id": "YSaA3VdOes7k"
      },
      "outputs": [],
      "source": [
        "\n",
        "# Convert the min and max values to tensors\n",
        "min_val_x = torch.tensor([0, 0, -10, -10,0], dtype=torch.float32).to(DEVICE)\n",
        "max_val_x = torch.tensor([6, 150, 10, 10,1], dtype=torch.float32).to(DEVICE)\n",
        "\n",
        "min_val_y = torch.tensor([0], dtype=torch.float32).to(DEVICE)\n",
        "max_val_y = torch.tensor([10000], dtype=torch.float32).to(DEVICE)\n",
        "\n",
        "# Custom normalization function for X\n",
        "def custom_normalize_X(data, min_vals, max_vals):\n",
        "    for i in range(data.shape[-1]):\n",
        "        data[:, :, i] = (data[:, :, i] - min_vals[i]) / (max_vals[i] - min_vals[i])\n",
        "    return data\n",
        "\n",
        "# Custom normalization function for y\n",
        "def custom_normalize_y(data, min_val, max_val):\n",
        "    return (data - min_val) / (max_val - min_val)\n",
        "\n",
        "# Normalize X_train and X_test\n",
        "X_train_normalized = custom_normalize_X(X_train, min_val_x, max_val_x)\n",
        "# X_test_normalized = custom_normalize_X(X_test, min_val_x, max_val_x)\n",
        "\n",
        "# Normalize y_train and y_test\n",
        "y_train_normalized = custom_normalize_y(y_train, min_val_y, max_val_y)\n",
        "# y_test_normalized = custom_normalize_y(y_test, min_val_y, max_val_y)\n"
      ]
    },
    {
      "cell_type": "code",
      "execution_count": 36,
      "metadata": {
        "colab": {
          "base_uri": "https://localhost:8080/"
        },
        "id": "eN4p04pb-jHV",
        "outputId": "2c3d2524-b775-490d-a12f-77eac7add088"
      },
      "outputs": [
        {
          "output_type": "execute_result",
          "data": {
            "text/plain": [
              "tensor([[[0.0333, 0.0000, 0.5000, 0.5000, 0.0000],\n",
              "         [0.0333, 0.0000, 0.5000, 0.5000, 0.0000],\n",
              "         [0.0333, 0.0000, 0.5000, 0.5000, 0.0000],\n",
              "         ...,\n",
              "         [0.5000, 0.2800, 0.5322, 0.5000, 0.0000],\n",
              "         [0.5000, 0.2800, 0.5322, 0.5000, 0.0000],\n",
              "         [0.5000, 0.2733, 0.5322, 0.4500, 0.0000]],\n",
              "\n",
              "        [[0.0333, 0.0000, 0.5000, 0.5000, 0.0000],\n",
              "         [0.0333, 0.0000, 0.5000, 0.5000, 0.0000],\n",
              "         [0.0333, 0.0000, 0.5000, 0.5000, 0.0000],\n",
              "         ...,\n",
              "         [0.8333, 0.5533, 0.5087, 0.5000, 0.0000],\n",
              "         [0.8333, 0.5467, 0.5087, 0.4500, 0.0000],\n",
              "         [0.8333, 0.5400, 0.5087, 0.4500, 0.0000]],\n",
              "\n",
              "        [[0.6667, 0.5733, 0.5649, 0.5000, 0.0000],\n",
              "         [0.6667, 0.5733, 0.5649, 0.5000, 0.0000],\n",
              "         [0.6667, 0.5800, 0.5649, 0.5500, 0.0000],\n",
              "         ...,\n",
              "         [0.5000, 0.2600, 0.5000, 0.5000, 0.0000],\n",
              "         [0.5000, 0.2600, 0.5000, 0.5000, 0.0000],\n",
              "         [0.5000, 0.2533, 0.5000, 0.4500, 0.0000]],\n",
              "\n",
              "        ...,\n",
              "\n",
              "        [[0.6667, 0.4867, 0.5276, 0.5000, 0.0000],\n",
              "         [0.6667, 0.4933, 0.5276, 0.5500, 0.0000],\n",
              "         [0.6667, 0.5000, 0.5276, 0.5500, 0.0000],\n",
              "         ...,\n",
              "         [0.6667, 0.5000, 0.5977, 0.5000, 0.0000],\n",
              "         [0.6667, 0.5067, 0.5977, 0.5500, 0.0000],\n",
              "         [0.6667, 0.5067, 0.5977, 0.5000, 0.0000]],\n",
              "\n",
              "        [[0.5000, 0.3400, 0.4917, 0.5000, 0.0000],\n",
              "         [0.5000, 0.3333, 0.4917, 0.4500, 0.0000],\n",
              "         [0.5000, 0.3333, 0.4917, 0.5000, 0.0000],\n",
              "         ...,\n",
              "         [0.6667, 0.5933, 0.4473, 0.5000, 0.0000],\n",
              "         [0.6667, 0.5867, 0.4473, 0.4500, 0.0000],\n",
              "         [0.6667, 0.5933, 0.4473, 0.5500, 0.0000]],\n",
              "\n",
              "        [[0.5000, 0.3000, 0.4535, 0.5000, 0.0000],\n",
              "         [0.5000, 0.3067, 0.4535, 0.5500, 0.0000],\n",
              "         [0.5000, 0.3133, 0.4535, 0.5500, 0.0000],\n",
              "         ...,\n",
              "         [0.5000, 0.3200, 0.5000, 0.4500, 0.0000],\n",
              "         [0.5000, 0.3133, 0.5000, 0.4500, 0.0000],\n",
              "         [0.5000, 0.3067, 0.5000, 0.4500, 0.0000]]], device='cuda:0')"
            ]
          },
          "metadata": {},
          "execution_count": 36
        }
      ],
      "source": [
        "X_train_normalized"
      ]
    },
    {
      "cell_type": "code",
      "execution_count": 37,
      "metadata": {
        "id": "MwYKbOq_Zcr7"
      },
      "outputs": [],
      "source": [
        "import torch.nn as nn\n",
        "import torch\n",
        "\n",
        "class FuelConsumptionModel(nn.Module):\n",
        "    def __init__(self, input_size):\n",
        "        super(FuelConsumptionModel, self).__init__()\n",
        "        # LSTM layers\n",
        "        self.lstm1 = nn.LSTM(input_size, 32, batch_first=True, bidirectional=True)\n",
        "        self.lstm2 = nn.LSTM(64, 32, batch_first=True, bidirectional=True)\n",
        "\n",
        "        # Layer Normalization after each LSTM\n",
        "        self.layer_norm1 = nn.LayerNorm(64)\n",
        "        self.layer_norm2 = nn.LayerNorm(64)\n",
        "\n",
        "        # Dropout layers\n",
        "        self.dropout1 = nn.Dropout(0.2)\n",
        "        self.dropout2 = nn.Dropout(0.2)\n",
        "\n",
        "        # Dense output layer\n",
        "        self.dense = nn.Linear(64, 1)\n",
        "\n",
        "    def forward(self, x):\n",
        "        # LSTM 1 + Layer Normalization + Dropout\n",
        "        x, _ = self.lstm1(x)\n",
        "        x = self.layer_norm1(x)  # Apply layer normalization after LSTM1\n",
        "        x = self.dropout1(x)\n",
        "\n",
        "        # LSTM 2 + Layer Normalization + Dropout\n",
        "        x, _ = self.lstm2(x)\n",
        "        x = self.layer_norm2(x)  # Apply layer normalization after LSTM2\n",
        "        x = self.dropout2(x)\n",
        "\n",
        "        # Dense layer for final output\n",
        "        x = self.dense(x)\n",
        "\n",
        "        return x\n"
      ]
    },
    {
      "cell_type": "code",
      "source": [
        "X_train_normalized.shape[-1]"
      ],
      "metadata": {
        "colab": {
          "base_uri": "https://localhost:8080/"
        },
        "id": "n336lgQd2IIg",
        "outputId": "a9fd1931-22cb-44a5-fe9d-f08e7f8c6e12"
      },
      "execution_count": 15,
      "outputs": [
        {
          "output_type": "execute_result",
          "data": {
            "text/plain": [
              "5"
            ]
          },
          "metadata": {},
          "execution_count": 15
        }
      ]
    },
    {
      "cell_type": "code",
      "execution_count": 38,
      "metadata": {
        "id": "mRtldQG5e4-a"
      },
      "outputs": [],
      "source": [
        "\n",
        "# Instantiate the model, define the loss function and the optimizer\n",
        "model = FuelConsumptionModel(input_size=X_train_normalized.shape[-1]).to(DEVICE)\n",
        "criterion = nn.L1Loss()\n",
        "weight_decay = 1e-6  # L2 regularization factor\n",
        "optimizer = optim.Adam(model.parameters(), lr=LEARNING_RATE, weight_decay=weight_decay)"
      ]
    },
    {
      "cell_type": "code",
      "execution_count": 39,
      "metadata": {
        "id": "NrURTgcFgyYL"
      },
      "outputs": [],
      "source": [
        "# Assume 80% of the data is used for training and 20% for validation\n",
        "train_size = int(0.8 * len(X_train_normalized))\n",
        "val_size = len(X_train_normalized) - train_size\n",
        "\n",
        "# Split the data while preserving the order\n",
        "X_train_split = X_train_normalized[:train_size]\n",
        "y_train_split = y_train_normalized[:train_size]\n",
        "\n",
        "X_val_split = X_train_normalized[train_size:]\n",
        "y_val_split = y_train_normalized[train_size:]\n",
        "\n",
        "\n",
        "\n",
        "# BATCH_SIZE = 96\n",
        "# # Create DataLoader for training and validation sets\n",
        "# train_loader = DataLoader(TensorDataset(X_train_split, y_train_split), batch_size=BATCH_SIZE, shuffle=True)\n",
        "# val_loader = DataLoader(TensorDataset(X_val_split, y_val_split), batch_size=BATCH_SIZE, shuffle=False)\n",
        "\n",
        "\n"
      ]
    },
    {
      "cell_type": "code",
      "execution_count": 40,
      "metadata": {
        "colab": {
          "base_uri": "https://localhost:8080/"
        },
        "id": "_z0wpMf9gK-h",
        "outputId": "b9e6d99d-3a49-4d70-c12b-60932f0146ad"
      },
      "outputs": [
        {
          "output_type": "stream",
          "name": "stderr",
          "text": [
            "/usr/local/lib/python3.10/dist-packages/torch/optim/lr_scheduler.py:60: UserWarning: The verbose parameter is deprecated. Please use get_last_lr() to access the learning rate.\n",
            "  warnings.warn(\n"
          ]
        },
        {
          "output_type": "stream",
          "name": "stdout",
          "text": [
            "Epoch [1/500] ---- Training Loss: 0.0769 ---- Validation Loss: 0.033093 ------0.0001\n",
            "Epoch [2/500] ---- Training Loss: 0.0316 ---- Validation Loss: 0.030690 ------0.0001\n",
            "Epoch [3/500] ---- Training Loss: 0.0286 ---- Validation Loss: 0.028393 ------0.0001\n",
            "Epoch [4/500] ---- Training Loss: 0.0258 ---- Validation Loss: 0.024971 ------0.0001\n",
            "Epoch [5/500] ---- Training Loss: 0.0228 ---- Validation Loss: 0.022051 ------0.0001\n",
            "Epoch [6/500] ---- Training Loss: 0.0206 ---- Validation Loss: 0.020192 ------0.0001\n",
            "Epoch [7/500] ---- Training Loss: 0.0191 ---- Validation Loss: 0.018765 ------0.0001\n",
            "Epoch [8/500] ---- Training Loss: 0.0182 ---- Validation Loss: 0.018073 ------0.0001\n",
            "Epoch [9/500] ---- Training Loss: 0.0177 ---- Validation Loss: 0.018083 ------0.0001\n",
            "Epoch [10/500] ---- Training Loss: 0.0173 ---- Validation Loss: 0.017786 ------0.0001\n",
            "Epoch [11/500] ---- Training Loss: 0.0170 ---- Validation Loss: 0.017164 ------0.0001\n",
            "Epoch [12/500] ---- Training Loss: 0.0167 ---- Validation Loss: 0.016996 ------0.0001\n",
            "Epoch [13/500] ---- Training Loss: 0.0165 ---- Validation Loss: 0.016857 ------0.0001\n",
            "Epoch [14/500] ---- Training Loss: 0.0163 ---- Validation Loss: 0.016655 ------0.0001\n",
            "Epoch [15/500] ---- Training Loss: 0.0161 ---- Validation Loss: 0.016605 ------0.0001\n",
            "Epoch [16/500] ---- Training Loss: 0.0159 ---- Validation Loss: 0.016457 ------0.0001\n",
            "Epoch [17/500] ---- Training Loss: 0.0158 ---- Validation Loss: 0.016338 ------0.0001\n",
            "Epoch [18/500] ---- Training Loss: 0.0157 ---- Validation Loss: 0.016236 ------0.0001\n",
            "Epoch [19/500] ---- Training Loss: 0.0156 ---- Validation Loss: 0.016156 ------0.0001\n",
            "Epoch [20/500] ---- Training Loss: 0.0154 ---- Validation Loss: 0.016128 ------0.0001\n",
            "Epoch [21/500] ---- Training Loss: 0.0154 ---- Validation Loss: 0.016143 ------0.0001\n",
            "Epoch [22/500] ---- Training Loss: 0.0153 ---- Validation Loss: 0.015988 ------0.0001\n",
            "Epoch [23/500] ---- Training Loss: 0.0152 ---- Validation Loss: 0.015932 ------0.0001\n",
            "Epoch [24/500] ---- Training Loss: 0.0151 ---- Validation Loss: 0.015808 ------0.0001\n",
            "Epoch [25/500] ---- Training Loss: 0.0150 ---- Validation Loss: 0.015932 ------0.0001\n",
            "Epoch [26/500] ---- Training Loss: 0.0149 ---- Validation Loss: 0.015733 ------0.0001\n",
            "Epoch [27/500] ---- Training Loss: 0.0148 ---- Validation Loss: 0.015781 ------0.0001\n",
            "Epoch [28/500] ---- Training Loss: 0.0148 ---- Validation Loss: 0.015717 ------0.0001\n",
            "Epoch [29/500] ---- Training Loss: 0.0147 ---- Validation Loss: 0.015594 ------0.0001\n",
            "Epoch [30/500] ---- Training Loss: 0.0146 ---- Validation Loss: 0.015561 ------0.0001\n",
            "Epoch [31/500] ---- Training Loss: 0.0146 ---- Validation Loss: 0.015553 ------0.0001\n",
            "Epoch [32/500] ---- Training Loss: 0.0145 ---- Validation Loss: 0.015384 ------0.0001\n",
            "Epoch [33/500] ---- Training Loss: 0.0145 ---- Validation Loss: 0.015495 ------0.0001\n",
            "Epoch [34/500] ---- Training Loss: 0.0144 ---- Validation Loss: 0.015306 ------0.0001\n",
            "Epoch [35/500] ---- Training Loss: 0.0144 ---- Validation Loss: 0.015294 ------0.0001\n",
            "Epoch [36/500] ---- Training Loss: 0.0143 ---- Validation Loss: 0.015344 ------0.0001\n",
            "Epoch [37/500] ---- Training Loss: 0.0143 ---- Validation Loss: 0.015187 ------0.0001\n",
            "Epoch [38/500] ---- Training Loss: 0.0142 ---- Validation Loss: 0.015161 ------0.0001\n",
            "Epoch [39/500] ---- Training Loss: 0.0142 ---- Validation Loss: 0.015192 ------0.0001\n",
            "Epoch [40/500] ---- Training Loss: 0.0142 ---- Validation Loss: 0.015173 ------0.0001\n",
            "Epoch [41/500] ---- Training Loss: 0.0141 ---- Validation Loss: 0.015185 ------0.0001\n",
            "Epoch [42/500] ---- Training Loss: 0.0141 ---- Validation Loss: 0.014991 ------0.0001\n",
            "Epoch [43/500] ---- Training Loss: 0.0140 ---- Validation Loss: 0.015001 ------0.0001\n",
            "Epoch [44/500] ---- Training Loss: 0.0140 ---- Validation Loss: 0.015008 ------0.0001\n",
            "Epoch [45/500] ---- Training Loss: 0.0139 ---- Validation Loss: 0.014948 ------0.0001\n",
            "Epoch [46/500] ---- Training Loss: 0.0139 ---- Validation Loss: 0.014932 ------0.0001\n",
            "Epoch [47/500] ---- Training Loss: 0.0138 ---- Validation Loss: 0.014876 ------0.0001\n",
            "Epoch [48/500] ---- Training Loss: 0.0138 ---- Validation Loss: 0.014822 ------0.0001\n",
            "Epoch [49/500] ---- Training Loss: 0.0138 ---- Validation Loss: 0.014803 ------0.0001\n",
            "Epoch [50/500] ---- Training Loss: 0.0137 ---- Validation Loss: 0.014762 ------0.0001\n",
            "Epoch [51/500] ---- Training Loss: 0.0137 ---- Validation Loss: 0.014714 ------0.0001\n",
            "Epoch [52/500] ---- Training Loss: 0.0137 ---- Validation Loss: 0.014812 ------0.0001\n",
            "Epoch [53/500] ---- Training Loss: 0.0136 ---- Validation Loss: 0.014641 ------0.0001\n",
            "Epoch [54/500] ---- Training Loss: 0.0136 ---- Validation Loss: 0.014668 ------0.0001\n",
            "Epoch [55/500] ---- Training Loss: 0.0136 ---- Validation Loss: 0.014601 ------0.0001\n",
            "Epoch [56/500] ---- Training Loss: 0.0135 ---- Validation Loss: 0.014554 ------0.0001\n",
            "Epoch [57/500] ---- Training Loss: 0.0135 ---- Validation Loss: 0.014515 ------0.0001\n",
            "Epoch [58/500] ---- Training Loss: 0.0135 ---- Validation Loss: 0.014480 ------0.0001\n",
            "Epoch [59/500] ---- Training Loss: 0.0134 ---- Validation Loss: 0.014451 ------0.0001\n",
            "Epoch [60/500] ---- Training Loss: 0.0134 ---- Validation Loss: 0.014440 ------0.0001\n",
            "Epoch [61/500] ---- Training Loss: 0.0134 ---- Validation Loss: 0.014379 ------0.0001\n",
            "Epoch [62/500] ---- Training Loss: 0.0133 ---- Validation Loss: 0.014370 ------0.0001\n",
            "Epoch [63/500] ---- Training Loss: 0.0133 ---- Validation Loss: 0.014355 ------0.0001\n",
            "Epoch [64/500] ---- Training Loss: 0.0133 ---- Validation Loss: 0.014341 ------0.0001\n",
            "Epoch [65/500] ---- Training Loss: 0.0132 ---- Validation Loss: 0.014302 ------0.0001\n",
            "Epoch [66/500] ---- Training Loss: 0.0132 ---- Validation Loss: 0.014242 ------0.0001\n",
            "Epoch [67/500] ---- Training Loss: 0.0132 ---- Validation Loss: 0.014227 ------0.0001\n",
            "Epoch [68/500] ---- Training Loss: 0.0131 ---- Validation Loss: 0.014286 ------0.0001\n",
            "Epoch [69/500] ---- Training Loss: 0.0131 ---- Validation Loss: 0.014169 ------0.0001\n",
            "Epoch [70/500] ---- Training Loss: 0.0131 ---- Validation Loss: 0.014196 ------0.0001\n",
            "Epoch [71/500] ---- Training Loss: 0.0131 ---- Validation Loss: 0.014100 ------0.0001\n",
            "Epoch [72/500] ---- Training Loss: 0.0130 ---- Validation Loss: 0.014102 ------0.0001\n",
            "Epoch [73/500] ---- Training Loss: 0.0130 ---- Validation Loss: 0.014022 ------0.0001\n",
            "Epoch [74/500] ---- Training Loss: 0.0130 ---- Validation Loss: 0.014011 ------0.0001\n",
            "Epoch [75/500] ---- Training Loss: 0.0129 ---- Validation Loss: 0.014046 ------0.0001\n",
            "Epoch [76/500] ---- Training Loss: 0.0129 ---- Validation Loss: 0.014070 ------0.0001\n",
            "Epoch [77/500] ---- Training Loss: 0.0129 ---- Validation Loss: 0.013928 ------0.0001\n",
            "Epoch [78/500] ---- Training Loss: 0.0129 ---- Validation Loss: 0.013946 ------0.0001\n",
            "Epoch [79/500] ---- Training Loss: 0.0128 ---- Validation Loss: 0.013936 ------0.0001\n",
            "Epoch [80/500] ---- Training Loss: 0.0128 ---- Validation Loss: 0.013913 ------0.0001\n",
            "Epoch [81/500] ---- Training Loss: 0.0128 ---- Validation Loss: 0.013911 ------0.0001\n",
            "Epoch [82/500] ---- Training Loss: 0.0128 ---- Validation Loss: 0.013823 ------0.0001\n",
            "Epoch [83/500] ---- Training Loss: 0.0127 ---- Validation Loss: 0.013792 ------0.0001\n",
            "Epoch [84/500] ---- Training Loss: 0.0127 ---- Validation Loss: 0.013780 ------0.0001\n",
            "Epoch [85/500] ---- Training Loss: 0.0127 ---- Validation Loss: 0.013753 ------0.0001\n",
            "Epoch [86/500] ---- Training Loss: 0.0127 ---- Validation Loss: 0.013728 ------0.0001\n",
            "Epoch [87/500] ---- Training Loss: 0.0127 ---- Validation Loss: 0.013707 ------0.0001\n",
            "Epoch [88/500] ---- Training Loss: 0.0126 ---- Validation Loss: 0.013689 ------0.0001\n",
            "Epoch [89/500] ---- Training Loss: 0.0126 ---- Validation Loss: 0.013673 ------0.0001\n",
            "Epoch [90/500] ---- Training Loss: 0.0126 ---- Validation Loss: 0.013684 ------0.0001\n",
            "Epoch [91/500] ---- Training Loss: 0.0126 ---- Validation Loss: 0.013688 ------0.0001\n",
            "Epoch [92/500] ---- Training Loss: 0.0126 ---- Validation Loss: 0.013594 ------0.0001\n",
            "Epoch [93/500] ---- Training Loss: 0.0126 ---- Validation Loss: 0.013614 ------0.0001\n",
            "Epoch [94/500] ---- Training Loss: 0.0125 ---- Validation Loss: 0.013576 ------0.0001\n",
            "Epoch [95/500] ---- Training Loss: 0.0125 ---- Validation Loss: 0.013555 ------0.0001\n",
            "Epoch [96/500] ---- Training Loss: 0.0125 ---- Validation Loss: 0.013591 ------0.0001\n",
            "Epoch [97/500] ---- Training Loss: 0.0125 ---- Validation Loss: 0.013562 ------0.0001\n",
            "Epoch [98/500] ---- Training Loss: 0.0125 ---- Validation Loss: 0.013501 ------0.0001\n",
            "Epoch [99/500] ---- Training Loss: 0.0125 ---- Validation Loss: 0.013516 ------0.0001\n",
            "Epoch [100/500] ---- Training Loss: 0.0125 ---- Validation Loss: 0.013470 ------0.0001\n",
            "Epoch [101/500] ---- Training Loss: 0.0124 ---- Validation Loss: 0.013454 ------0.0001\n",
            "Epoch [102/500] ---- Training Loss: 0.0124 ---- Validation Loss: 0.013441 ------0.0001\n",
            "Epoch [103/500] ---- Training Loss: 0.0124 ---- Validation Loss: 0.013440 ------0.0001\n",
            "Epoch [104/500] ---- Training Loss: 0.0124 ---- Validation Loss: 0.013421 ------0.0001\n",
            "Epoch [105/500] ---- Training Loss: 0.0124 ---- Validation Loss: 0.013419 ------0.0001\n",
            "Epoch [106/500] ---- Training Loss: 0.0124 ---- Validation Loss: 0.013403 ------0.0001\n",
            "Epoch [107/500] ---- Training Loss: 0.0123 ---- Validation Loss: 0.013359 ------0.0001\n",
            "Epoch [108/500] ---- Training Loss: 0.0123 ---- Validation Loss: 0.013350 ------0.0001\n",
            "Epoch [109/500] ---- Training Loss: 0.0123 ---- Validation Loss: 0.013350 ------0.0001\n",
            "Epoch [110/500] ---- Training Loss: 0.0123 ---- Validation Loss: 0.013307 ------0.0001\n",
            "Epoch [111/500] ---- Training Loss: 0.0123 ---- Validation Loss: 0.013314 ------0.0001\n",
            "Epoch [112/500] ---- Training Loss: 0.0123 ---- Validation Loss: 0.013273 ------0.0001\n",
            "Epoch [113/500] ---- Training Loss: 0.0123 ---- Validation Loss: 0.013270 ------0.0001\n",
            "Epoch [114/500] ---- Training Loss: 0.0123 ---- Validation Loss: 0.013284 ------0.0001\n",
            "Epoch [115/500] ---- Training Loss: 0.0122 ---- Validation Loss: 0.013257 ------0.0001\n",
            "Epoch [116/500] ---- Training Loss: 0.0122 ---- Validation Loss: 0.013231 ------0.0001\n",
            "Epoch [117/500] ---- Training Loss: 0.0122 ---- Validation Loss: 0.013222 ------0.0001\n",
            "Epoch [118/500] ---- Training Loss: 0.0122 ---- Validation Loss: 0.013204 ------0.0001\n",
            "Epoch [119/500] ---- Training Loss: 0.0122 ---- Validation Loss: 0.013220 ------0.0001\n",
            "Epoch [120/500] ---- Training Loss: 0.0122 ---- Validation Loss: 0.013194 ------0.0001\n",
            "Epoch [121/500] ---- Training Loss: 0.0122 ---- Validation Loss: 0.013192 ------0.0001\n",
            "Epoch [122/500] ---- Training Loss: 0.0121 ---- Validation Loss: 0.013173 ------0.0001\n",
            "Epoch [123/500] ---- Training Loss: 0.0121 ---- Validation Loss: 0.013163 ------0.0001\n",
            "Epoch [124/500] ---- Training Loss: 0.0121 ---- Validation Loss: 0.013151 ------0.0001\n",
            "Epoch [125/500] ---- Training Loss: 0.0121 ---- Validation Loss: 0.013133 ------0.0001\n",
            "Epoch [126/500] ---- Training Loss: 0.0121 ---- Validation Loss: 0.013137 ------0.0001\n",
            "Epoch [127/500] ---- Training Loss: 0.0121 ---- Validation Loss: 0.013134 ------0.0001\n",
            "Epoch [128/500] ---- Training Loss: 0.0121 ---- Validation Loss: 0.013099 ------0.0001\n",
            "Epoch [129/500] ---- Training Loss: 0.0121 ---- Validation Loss: 0.013127 ------0.0001\n",
            "Epoch [130/500] ---- Training Loss: 0.0121 ---- Validation Loss: 0.013081 ------0.0001\n",
            "Epoch [131/500] ---- Training Loss: 0.0121 ---- Validation Loss: 0.013135 ------0.0001\n",
            "Epoch [132/500] ---- Training Loss: 0.0120 ---- Validation Loss: 0.013054 ------0.0001\n",
            "Epoch [133/500] ---- Training Loss: 0.0120 ---- Validation Loss: 0.013090 ------0.0001\n",
            "Epoch [134/500] ---- Training Loss: 0.0120 ---- Validation Loss: 0.013047 ------0.0001\n",
            "Epoch [135/500] ---- Training Loss: 0.0120 ---- Validation Loss: 0.013043 ------0.0001\n",
            "Epoch [136/500] ---- Training Loss: 0.0120 ---- Validation Loss: 0.013048 ------0.0001\n",
            "Epoch [137/500] ---- Training Loss: 0.0127 ---- Validation Loss: 0.013282 ------0.0001\n",
            "Epoch [138/500] ---- Training Loss: 0.0121 ---- Validation Loss: 0.013041 ------0.0001\n",
            "Epoch [139/500] ---- Training Loss: 0.0120 ---- Validation Loss: 0.013005 ------0.0001\n",
            "Epoch [140/500] ---- Training Loss: 0.0120 ---- Validation Loss: 0.012984 ------0.0001\n",
            "Epoch [141/500] ---- Training Loss: 0.0120 ---- Validation Loss: 0.013000 ------0.0001\n",
            "Epoch [142/500] ---- Training Loss: 0.0119 ---- Validation Loss: 0.012951 ------0.0001\n",
            "Epoch [143/500] ---- Training Loss: 0.0119 ---- Validation Loss: 0.012962 ------0.0001\n",
            "Epoch [144/500] ---- Training Loss: 0.0119 ---- Validation Loss: 0.012951 ------0.0001\n",
            "Epoch [145/500] ---- Training Loss: 0.0119 ---- Validation Loss: 0.012959 ------0.0001\n",
            "Epoch [146/500] ---- Training Loss: 0.0119 ---- Validation Loss: 0.012973 ------0.0001\n",
            "Epoch [147/500] ---- Training Loss: 0.0119 ---- Validation Loss: 0.012901 ------0.0001\n",
            "Epoch [148/500] ---- Training Loss: 0.0119 ---- Validation Loss: 0.012951 ------0.0001\n",
            "Epoch [149/500] ---- Training Loss: 0.0119 ---- Validation Loss: 0.012959 ------0.0001\n",
            "Epoch [150/500] ---- Training Loss: 0.0119 ---- Validation Loss: 0.012888 ------0.0001\n",
            "Epoch [151/500] ---- Training Loss: 0.0119 ---- Validation Loss: 0.012873 ------0.0001\n",
            "Epoch [152/500] ---- Training Loss: 0.0119 ---- Validation Loss: 0.012849 ------0.0001\n",
            "Epoch [153/500] ---- Training Loss: 0.0118 ---- Validation Loss: 0.012856 ------0.0001\n",
            "Epoch [154/500] ---- Training Loss: 0.0118 ---- Validation Loss: 0.012834 ------0.0001\n",
            "Epoch [155/500] ---- Training Loss: 0.0118 ---- Validation Loss: 0.012874 ------0.0001\n",
            "Epoch [156/500] ---- Training Loss: 0.0118 ---- Validation Loss: 0.012819 ------0.0001\n",
            "Epoch [157/500] ---- Training Loss: 0.0118 ---- Validation Loss: 0.012830 ------0.0001\n",
            "Epoch [158/500] ---- Training Loss: 0.0118 ---- Validation Loss: 0.012837 ------0.0001\n",
            "Epoch [159/500] ---- Training Loss: 0.0118 ---- Validation Loss: 0.012820 ------0.0001\n",
            "Epoch [160/500] ---- Training Loss: 0.0118 ---- Validation Loss: 0.012797 ------0.0001\n",
            "Epoch [161/500] ---- Training Loss: 0.0119 ---- Validation Loss: 0.012765 ------0.0001\n",
            "Epoch [162/500] ---- Training Loss: 0.0118 ---- Validation Loss: 0.012786 ------0.0001\n",
            "Epoch [163/500] ---- Training Loss: 0.0118 ---- Validation Loss: 0.012768 ------0.0001\n",
            "Epoch [164/500] ---- Training Loss: 0.0117 ---- Validation Loss: 0.012761 ------0.0001\n",
            "Epoch [165/500] ---- Training Loss: 0.0117 ---- Validation Loss: 0.012779 ------0.0001\n",
            "Epoch [166/500] ---- Training Loss: 0.0117 ---- Validation Loss: 0.012765 ------0.0001\n",
            "Epoch [167/500] ---- Training Loss: 0.0117 ---- Validation Loss: 0.012734 ------0.0001\n",
            "Epoch [168/500] ---- Training Loss: 0.0117 ---- Validation Loss: 0.012766 ------0.0001\n",
            "Epoch [169/500] ---- Training Loss: 0.0117 ---- Validation Loss: 0.012721 ------0.0001\n",
            "Epoch [170/500] ---- Training Loss: 0.0117 ---- Validation Loss: 0.012699 ------0.0001\n",
            "Epoch [171/500] ---- Training Loss: 0.0117 ---- Validation Loss: 0.012698 ------0.0001\n",
            "Epoch [173/500] ---- Training Loss: 0.0117 ---- Validation Loss: 0.012697 ------0.0001\n",
            "Epoch [174/500] ---- Training Loss: 0.0117 ---- Validation Loss: 0.012660 ------0.0001\n",
            "Epoch [175/500] ---- Training Loss: 0.0117 ---- Validation Loss: 0.012687 ------0.0001\n",
            "Epoch [176/500] ---- Training Loss: 0.0117 ---- Validation Loss: 0.012670 ------0.0001\n",
            "Epoch [177/500] ---- Training Loss: 0.0116 ---- Validation Loss: 0.012658 ------0.0001\n",
            "Epoch [178/500] ---- Training Loss: 0.0116 ---- Validation Loss: 0.012661 ------0.0001\n",
            "Epoch [179/500] ---- Training Loss: 0.0116 ---- Validation Loss: 0.012653 ------0.0001\n",
            "Epoch [180/500] ---- Training Loss: 0.0116 ---- Validation Loss: 0.012606 ------0.0001\n",
            "Epoch [181/500] ---- Training Loss: 0.0116 ---- Validation Loss: 0.012654 ------0.0001\n",
            "Epoch [182/500] ---- Training Loss: 0.0116 ---- Validation Loss: 0.012614 ------0.0001\n",
            "Epoch [183/500] ---- Training Loss: 0.0116 ---- Validation Loss: 0.012649 ------0.0001\n",
            "Epoch [184/500] ---- Training Loss: 0.0116 ---- Validation Loss: 0.012600 ------0.0001\n",
            "Epoch [185/500] ---- Training Loss: 0.0116 ---- Validation Loss: 0.012628 ------0.0001\n",
            "Epoch [186/500] ---- Training Loss: 0.0116 ---- Validation Loss: 0.012571 ------0.0001\n",
            "Epoch [187/500] ---- Training Loss: 0.0116 ---- Validation Loss: 0.012602 ------0.0001\n",
            "Epoch [188/500] ---- Training Loss: 0.0116 ---- Validation Loss: 0.012584 ------0.0001\n",
            "Epoch [189/500] ---- Training Loss: 0.0116 ---- Validation Loss: 0.012580 ------0.0001\n",
            "Epoch [190/500] ---- Training Loss: 0.0115 ---- Validation Loss: 0.012570 ------0.0001\n",
            "Epoch [191/500] ---- Training Loss: 0.0115 ---- Validation Loss: 0.012564 ------0.0001\n",
            "Epoch [192/500] ---- Training Loss: 0.0115 ---- Validation Loss: 0.012597 ------0.0001\n",
            "Epoch [193/500] ---- Training Loss: 0.0115 ---- Validation Loss: 0.012527 ------0.0001\n",
            "Epoch [194/500] ---- Training Loss: 0.0115 ---- Validation Loss: 0.012537 ------0.0001\n",
            "Epoch [195/500] ---- Training Loss: 0.0115 ---- Validation Loss: 0.012510 ------0.0001\n",
            "Epoch [196/500] ---- Training Loss: 0.0115 ---- Validation Loss: 0.012531 ------0.0001\n",
            "Epoch [197/500] ---- Training Loss: 0.0115 ---- Validation Loss: 0.012541 ------0.0001\n",
            "Epoch [198/500] ---- Training Loss: 0.0115 ---- Validation Loss: 0.012505 ------0.0001\n",
            "Epoch [199/500] ---- Training Loss: 0.0115 ---- Validation Loss: 0.012483 ------0.0001\n",
            "Epoch [200/500] ---- Training Loss: 0.0115 ---- Validation Loss: 0.012542 ------0.0001\n",
            "Epoch [201/500] ---- Training Loss: 0.0115 ---- Validation Loss: 0.012472 ------0.0001\n",
            "Epoch [202/500] ---- Training Loss: 0.0115 ---- Validation Loss: 0.012514 ------0.0001\n",
            "Epoch [203/500] ---- Training Loss: 0.0115 ---- Validation Loss: 0.012458 ------0.0001\n",
            "Epoch [204/500] ---- Training Loss: 0.0115 ---- Validation Loss: 0.012501 ------0.0001\n",
            "Epoch [205/500] ---- Training Loss: 0.0114 ---- Validation Loss: 0.012453 ------0.0001\n",
            "Epoch [206/500] ---- Training Loss: 0.0114 ---- Validation Loss: 0.012464 ------0.0001\n",
            "Epoch [207/500] ---- Training Loss: 0.0114 ---- Validation Loss: 0.012463 ------0.0001\n",
            "Epoch [208/500] ---- Training Loss: 0.0114 ---- Validation Loss: 0.012433 ------0.0001\n",
            "Epoch [209/500] ---- Training Loss: 0.0114 ---- Validation Loss: 0.012454 ------0.0001\n",
            "Epoch [210/500] ---- Training Loss: 0.0114 ---- Validation Loss: 0.012442 ------0.0001\n",
            "Epoch [211/500] ---- Training Loss: 0.0114 ---- Validation Loss: 0.012442 ------0.0001\n",
            "Epoch [212/500] ---- Training Loss: 0.0114 ---- Validation Loss: 0.012480 ------0.0001\n",
            "Epoch [213/500] ---- Training Loss: 0.0114 ---- Validation Loss: 0.012402 ------0.0001\n",
            "Epoch [214/500] ---- Training Loss: 0.0114 ---- Validation Loss: 0.012399 ------0.0001\n",
            "Epoch [215/500] ---- Training Loss: 0.0114 ---- Validation Loss: 0.012408 ------0.0001\n",
            "Epoch [216/500] ---- Training Loss: 0.0114 ---- Validation Loss: 0.012462 ------0.0001\n",
            "Epoch [217/500] ---- Training Loss: 0.0114 ---- Validation Loss: 0.012378 ------0.0001\n",
            "Epoch [218/500] ---- Training Loss: 0.0114 ---- Validation Loss: 0.012377 ------0.0001\n",
            "Epoch [219/500] ---- Training Loss: 0.0114 ---- Validation Loss: 0.012370 ------0.0001\n",
            "Epoch [220/500] ---- Training Loss: 0.0114 ---- Validation Loss: 0.012350 ------0.0001\n",
            "Epoch [221/500] ---- Training Loss: 0.0114 ---- Validation Loss: 0.012365 ------0.0001\n",
            "Epoch [222/500] ---- Training Loss: 0.0114 ---- Validation Loss: 0.012384 ------0.0001\n",
            "Epoch [223/500] ---- Training Loss: 0.0113 ---- Validation Loss: 0.012355 ------0.0001\n",
            "Epoch [224/500] ---- Training Loss: 0.0113 ---- Validation Loss: 0.012361 ------0.0001\n",
            "Epoch [225/500] ---- Training Loss: 0.0113 ---- Validation Loss: 0.012381 ------0.0001\n",
            "Epoch [226/500] ---- Training Loss: 0.0113 ---- Validation Loss: 0.012325 ------0.0001\n",
            "Epoch [227/500] ---- Training Loss: 0.0113 ---- Validation Loss: 0.012358 ------0.0001\n",
            "Epoch [228/500] ---- Training Loss: 0.0113 ---- Validation Loss: 0.012336 ------0.0001\n",
            "Epoch [229/500] ---- Training Loss: 0.0113 ---- Validation Loss: 0.012320 ------0.0001\n",
            "Epoch [230/500] ---- Training Loss: 0.0113 ---- Validation Loss: 0.012359 ------0.0001\n",
            "Epoch [231/500] ---- Training Loss: 0.0113 ---- Validation Loss: 0.012318 ------0.0001\n",
            "Epoch [232/500] ---- Training Loss: 0.0113 ---- Validation Loss: 0.012294 ------0.0001\n",
            "Epoch [233/500] ---- Training Loss: 0.0113 ---- Validation Loss: 0.012302 ------0.0001\n",
            "Epoch [234/500] ---- Training Loss: 0.0113 ---- Validation Loss: 0.012331 ------0.0001\n",
            "Epoch [235/500] ---- Training Loss: 0.0113 ---- Validation Loss: 0.012320 ------0.0001\n",
            "Epoch [236/500] ---- Training Loss: 0.0113 ---- Validation Loss: 0.012296 ------0.0001\n",
            "Epoch [237/500] ---- Training Loss: 0.0113 ---- Validation Loss: 0.012268 ------0.0001\n",
            "Epoch [238/500] ---- Training Loss: 0.0113 ---- Validation Loss: 0.012260 ------0.0001\n",
            "Epoch [239/500] ---- Training Loss: 0.0113 ---- Validation Loss: 0.012252 ------0.0001\n",
            "Epoch [240/500] ---- Training Loss: 0.0113 ---- Validation Loss: 0.012254 ------0.0001\n",
            "Epoch [241/500] ---- Training Loss: 0.0112 ---- Validation Loss: 0.012268 ------0.0001\n",
            "Epoch [242/500] ---- Training Loss: 0.0113 ---- Validation Loss: 0.012257 ------0.0001\n",
            "Epoch [243/500] ---- Training Loss: 0.0112 ---- Validation Loss: 0.012255 ------0.0001\n",
            "Epoch [244/500] ---- Training Loss: 0.0112 ---- Validation Loss: 0.012210 ------0.0001\n",
            "Epoch [245/500] ---- Training Loss: 0.0112 ---- Validation Loss: 0.012244 ------0.0001\n",
            "Epoch [246/500] ---- Training Loss: 0.0112 ---- Validation Loss: 0.012237 ------0.0001\n",
            "Epoch [247/500] ---- Training Loss: 0.0112 ---- Validation Loss: 0.012232 ------0.0001\n",
            "Epoch [248/500] ---- Training Loss: 0.0112 ---- Validation Loss: 0.012227 ------0.0001\n",
            "Epoch [249/500] ---- Training Loss: 0.0112 ---- Validation Loss: 0.012230 ------0.0001\n",
            "Epoch [250/500] ---- Training Loss: 0.0112 ---- Validation Loss: 0.012236 ------0.0001\n",
            "Epoch [251/500] ---- Training Loss: 0.0112 ---- Validation Loss: 0.012185 ------5e-05\n",
            "Epoch [252/500] ---- Training Loss: 0.0112 ---- Validation Loss: 0.012204 ------5e-05\n",
            "Epoch [253/500] ---- Training Loss: 0.0112 ---- Validation Loss: 0.012171 ------5e-05\n",
            "Epoch [254/500] ---- Training Loss: 0.0112 ---- Validation Loss: 0.012161 ------5e-05\n",
            "Epoch [255/500] ---- Training Loss: 0.0112 ---- Validation Loss: 0.012211 ------5e-05\n",
            "Epoch [256/500] ---- Training Loss: 0.0112 ---- Validation Loss: 0.012173 ------5e-05\n",
            "Epoch [257/500] ---- Training Loss: 0.0112 ---- Validation Loss: 0.012172 ------5e-05\n",
            "Epoch [258/500] ---- Training Loss: 0.0112 ---- Validation Loss: 0.012155 ------5e-05\n",
            "Epoch [259/500] ---- Training Loss: 0.0112 ---- Validation Loss: 0.012166 ------5e-05\n",
            "Epoch [260/500] ---- Training Loss: 0.0112 ---- Validation Loss: 0.012175 ------5e-05\n",
            "Epoch [261/500] ---- Training Loss: 0.0112 ---- Validation Loss: 0.012170 ------5e-05\n",
            "Epoch [262/500] ---- Training Loss: 0.0112 ---- Validation Loss: 0.012164 ------5e-05\n",
            "Epoch [263/500] ---- Training Loss: 0.0112 ---- Validation Loss: 0.012155 ------5e-05\n",
            "Epoch [264/500] ---- Training Loss: 0.0112 ---- Validation Loss: 0.012160 ------5e-05\n",
            "Epoch [265/500] ---- Training Loss: 0.0111 ---- Validation Loss: 0.012145 ------2.5e-05\n",
            "Epoch [266/500] ---- Training Loss: 0.0111 ---- Validation Loss: 0.012139 ------2.5e-05\n",
            "Epoch [267/500] ---- Training Loss: 0.0111 ---- Validation Loss: 0.012149 ------2.5e-05\n",
            "Epoch [268/500] ---- Training Loss: 0.0111 ---- Validation Loss: 0.012137 ------2.5e-05\n",
            "Epoch [269/500] ---- Training Loss: 0.0112 ---- Validation Loss: 0.012161 ------2.5e-05\n",
            "Epoch [270/500] ---- Training Loss: 0.0111 ---- Validation Loss: 0.012132 ------2.5e-05\n",
            "Epoch [271/500] ---- Training Loss: 0.0111 ---- Validation Loss: 0.012121 ------2.5e-05\n",
            "Epoch [272/500] ---- Training Loss: 0.0111 ---- Validation Loss: 0.012130 ------2.5e-05\n",
            "Epoch [273/500] ---- Training Loss: 0.0111 ---- Validation Loss: 0.012116 ------2.5e-05\n",
            "Epoch [274/500] ---- Training Loss: 0.0111 ---- Validation Loss: 0.012122 ------2.5e-05\n",
            "Epoch [275/500] ---- Training Loss: 0.0111 ---- Validation Loss: 0.012131 ------2.5e-05\n",
            "Epoch [276/500] ---- Training Loss: 0.0111 ---- Validation Loss: 0.012134 ------2.5e-05\n",
            "Epoch [277/500] ---- Training Loss: 0.0111 ---- Validation Loss: 0.012121 ------2.5e-05\n",
            "Epoch [278/500] ---- Training Loss: 0.0111 ---- Validation Loss: 0.012108 ------2.5e-05\n",
            "Epoch [279/500] ---- Training Loss: 0.0112 ---- Validation Loss: 0.012114 ------2.5e-05\n",
            "Epoch [280/500] ---- Training Loss: 0.0111 ---- Validation Loss: 0.012123 ------2.5e-05\n",
            "Epoch [281/500] ---- Training Loss: 0.0112 ---- Validation Loss: 0.012117 ------2.5e-05\n",
            "Epoch [282/500] ---- Training Loss: 0.0111 ---- Validation Loss: 0.012109 ------2.5e-05\n",
            "Epoch [283/500] ---- Training Loss: 0.0111 ---- Validation Loss: 0.012113 ------2.5e-05\n",
            "Epoch [284/500] ---- Training Loss: 0.0111 ---- Validation Loss: 0.012106 ------2.5e-05\n",
            "Epoch [285/500] ---- Training Loss: 0.0111 ---- Validation Loss: 0.012115 ------2.5e-05\n",
            "Epoch [286/500] ---- Training Loss: 0.0111 ---- Validation Loss: 0.012124 ------2.5e-05\n",
            "Epoch [287/500] ---- Training Loss: 0.0111 ---- Validation Loss: 0.012095 ------2.5e-05\n",
            "Epoch [288/500] ---- Training Loss: 0.0111 ---- Validation Loss: 0.012110 ------2.5e-05\n",
            "Epoch [289/500] ---- Training Loss: 0.0111 ---- Validation Loss: 0.012111 ------2.5e-05\n",
            "Epoch [290/500] ---- Training Loss: 0.0111 ---- Validation Loss: 0.012103 ------2.5e-05\n",
            "Epoch [291/500] ---- Training Loss: 0.0111 ---- Validation Loss: 0.012119 ------2.5e-05\n",
            "Epoch [292/500] ---- Training Loss: 0.0111 ---- Validation Loss: 0.012106 ------2.5e-05\n",
            "Epoch [293/500] ---- Training Loss: 0.0111 ---- Validation Loss: 0.012124 ------2.5e-05\n",
            "Epoch [294/500] ---- Training Loss: 0.0111 ---- Validation Loss: 0.012085 ------1.25e-05\n",
            "Epoch [295/500] ---- Training Loss: 0.0111 ---- Validation Loss: 0.012099 ------1.25e-05\n",
            "Epoch [296/500] ---- Training Loss: 0.0111 ---- Validation Loss: 0.012089 ------1.25e-05\n",
            "Epoch [297/500] ---- Training Loss: 0.0111 ---- Validation Loss: 0.012080 ------1.25e-05\n",
            "Epoch [298/500] ---- Training Loss: 0.0111 ---- Validation Loss: 0.012092 ------1.25e-05\n",
            "Epoch [299/500] ---- Training Loss: 0.0111 ---- Validation Loss: 0.012086 ------1.25e-05\n",
            "Epoch [300/500] ---- Training Loss: 0.0111 ---- Validation Loss: 0.012074 ------1.25e-05\n",
            "Epoch [301/500] ---- Training Loss: 0.0111 ---- Validation Loss: 0.012079 ------1.25e-05\n",
            "Epoch [302/500] ---- Training Loss: 0.0111 ---- Validation Loss: 0.012084 ------1.25e-05\n",
            "Epoch [303/500] ---- Training Loss: 0.0111 ---- Validation Loss: 0.012077 ------1.25e-05\n",
            "Epoch [304/500] ---- Training Loss: 0.0111 ---- Validation Loss: 0.012093 ------1.25e-05\n",
            "Epoch [305/500] ---- Training Loss: 0.0111 ---- Validation Loss: 0.012079 ------1.25e-05\n",
            "Epoch [306/500] ---- Training Loss: 0.0111 ---- Validation Loss: 0.012109 ------1.25e-05\n",
            "Epoch [307/500] ---- Training Loss: 0.0111 ---- Validation Loss: 0.012073 ------6.25e-06\n",
            "Epoch [308/500] ---- Training Loss: 0.0111 ---- Validation Loss: 0.012071 ------6.25e-06\n",
            "Epoch [309/500] ---- Training Loss: 0.0111 ---- Validation Loss: 0.012071 ------6.25e-06\n",
            "Epoch [310/500] ---- Training Loss: 0.0111 ---- Validation Loss: 0.012090 ------6.25e-06\n",
            "Epoch [311/500] ---- Training Loss: 0.0111 ---- Validation Loss: 0.012076 ------6.25e-06\n",
            "Epoch [312/500] ---- Training Loss: 0.0111 ---- Validation Loss: 0.012076 ------6.25e-06\n",
            "Epoch [313/500] ---- Training Loss: 0.0111 ---- Validation Loss: 0.012068 ------6.25e-06\n",
            "Epoch [314/500] ---- Training Loss: 0.0111 ---- Validation Loss: 0.012081 ------6.25e-06\n",
            "Epoch [315/500] ---- Training Loss: 0.0111 ---- Validation Loss: 0.012072 ------6.25e-06\n",
            "Epoch [316/500] ---- Training Loss: 0.0111 ---- Validation Loss: 0.012079 ------6.25e-06\n",
            "Epoch [317/500] ---- Training Loss: 0.0111 ---- Validation Loss: 0.012068 ------6.25e-06\n",
            "Epoch [318/500] ---- Training Loss: 0.0111 ---- Validation Loss: 0.012064 ------6.25e-06\n",
            "Epoch [319/500] ---- Training Loss: 0.0111 ---- Validation Loss: 0.012069 ------6.25e-06\n",
            "Epoch [320/500] ---- Training Loss: 0.0111 ---- Validation Loss: 0.012071 ------6.25e-06\n",
            "Epoch [321/500] ---- Training Loss: 0.0111 ---- Validation Loss: 0.012071 ------6.25e-06\n",
            "Epoch [322/500] ---- Training Loss: 0.0111 ---- Validation Loss: 0.012069 ------6.25e-06\n",
            "Epoch [323/500] ---- Training Loss: 0.0111 ---- Validation Loss: 0.012065 ------6.25e-06\n",
            "Epoch [324/500] ---- Training Loss: 0.0111 ---- Validation Loss: 0.012072 ------6.25e-06\n",
            "Epoch [325/500] ---- Training Loss: 0.0111 ---- Validation Loss: 0.012070 ------3.125e-06\n",
            "Epoch [326/500] ---- Training Loss: 0.0111 ---- Validation Loss: 0.012064 ------3.125e-06\n",
            "Epoch [327/500] ---- Training Loss: 0.0111 ---- Validation Loss: 0.012071 ------3.125e-06\n",
            "Epoch [328/500] ---- Training Loss: 0.0111 ---- Validation Loss: 0.012071 ------3.125e-06\n",
            "Epoch [329/500] ---- Training Loss: 0.0111 ---- Validation Loss: 0.012066 ------3.125e-06\n",
            "Epoch [330/500] ---- Training Loss: 0.0111 ---- Validation Loss: 0.012066 ------3.125e-06\n",
            "Epoch [331/500] ---- Training Loss: 0.0111 ---- Validation Loss: 0.012063 ------1.5625e-06\n",
            "Epoch [332/500] ---- Training Loss: 0.0111 ---- Validation Loss: 0.012071 ------1.5625e-06\n",
            "Epoch [333/500] ---- Training Loss: 0.0111 ---- Validation Loss: 0.012065 ------1.5625e-06\n",
            "Epoch [334/500] ---- Training Loss: 0.0111 ---- Validation Loss: 0.012063 ------1.5625e-06\n",
            "Epoch [335/500] ---- Training Loss: 0.0111 ---- Validation Loss: 0.012066 ------1.5625e-06\n",
            "Epoch [336/500] ---- Training Loss: 0.0111 ---- Validation Loss: 0.012065 ------1.5625e-06\n",
            "Epoch [337/500] ---- Training Loss: 0.0111 ---- Validation Loss: 0.012065 ------1.5625e-06\n",
            "Epoch [338/500] ---- Training Loss: 0.0111 ---- Validation Loss: 0.012062 ------7.8125e-07\n",
            "Epoch [339/500] ---- Training Loss: 0.0111 ---- Validation Loss: 0.012064 ------7.8125e-07\n",
            "Epoch [340/500] ---- Training Loss: 0.0111 ---- Validation Loss: 0.012065 ------7.8125e-07\n",
            "Epoch [341/500] ---- Training Loss: 0.0111 ---- Validation Loss: 0.012067 ------7.8125e-07\n",
            "Epoch [342/500] ---- Training Loss: 0.0111 ---- Validation Loss: 0.012063 ------7.8125e-07\n",
            "Epoch [343/500] ---- Training Loss: 0.0111 ---- Validation Loss: 0.012065 ------7.8125e-07\n",
            "Epoch [344/500] ---- Training Loss: 0.0111 ---- Validation Loss: 0.012064 ------3.90625e-07\n",
            "Epoch [345/500] ---- Training Loss: 0.0111 ---- Validation Loss: 0.012064 ------3.90625e-07\n",
            "Epoch [346/500] ---- Training Loss: 0.0111 ---- Validation Loss: 0.012064 ------3.90625e-07\n",
            "Epoch [347/500] ---- Training Loss: 0.0111 ---- Validation Loss: 0.012065 ------3.90625e-07\n",
            "Epoch [348/500] ---- Training Loss: 0.0111 ---- Validation Loss: 0.012063 ------3.90625e-07\n",
            "Epoch [349/500] ---- Training Loss: 0.0111 ---- Validation Loss: 0.012062 ------3.90625e-07\n",
            "Epoch [350/500] ---- Training Loss: 0.0111 ---- Validation Loss: 0.012064 ------1.953125e-07\n",
            "Epoch [351/500] ---- Training Loss: 0.0111 ---- Validation Loss: 0.012063 ------1.953125e-07\n",
            "Epoch [352/500] ---- Training Loss: 0.0111 ---- Validation Loss: 0.012064 ------1.953125e-07\n",
            "Epoch [353/500] ---- Training Loss: 0.0111 ---- Validation Loss: 0.012064 ------1.953125e-07\n",
            "Epoch [354/500] ---- Training Loss: 0.0111 ---- Validation Loss: 0.012063 ------1.953125e-07\n",
            "Epoch [355/500] ---- Training Loss: 0.0111 ---- Validation Loss: 0.012064 ------1.953125e-07\n",
            "Epoch [356/500] ---- Training Loss: 0.0111 ---- Validation Loss: 0.012064 ------9.765625e-08\n",
            "Epoch [357/500] ---- Training Loss: 0.0111 ---- Validation Loss: 0.012064 ------9.765625e-08\n",
            "Epoch [358/500] ---- Training Loss: 0.0111 ---- Validation Loss: 0.012063 ------9.765625e-08\n",
            "Early stopping at epoch 358\n",
            "Saved model: best_fuel_consumption_model.pth\n"
          ]
        }
      ],
      "source": [
        "import torch\n",
        "import torch.nn as nn\n",
        "import torch.optim as optim\n",
        "from torch.optim.lr_scheduler import StepLR  # Importing StepLR for learning rate decay\n",
        "from torch.optim.lr_scheduler import ReduceLROnPlateau\n",
        "# Assuming `FuelConsumptionModel`, `X_train_normalized`, `train_loader`, `val_loader`, `DEVICE`, and `EPOCHS` are defined\n",
        "\n",
        "# Choose a single loss function to use for all experiments\n",
        "criterion = nn.L1Loss()  # You can change this to your preferred loss function\n",
        "\n",
        "EPOCHS = 500\n",
        "# Define weight decay values and initial learning rates for decay schedules\n",
        "weight_decay_values = 1e-6\n",
        "initial_learning_rates = [1e-4]  # Two starting learning rates\n",
        "\n",
        "# Initialize variables to track the best parameters\n",
        "best_weight_decay = None\n",
        "best_initial_lr = None\n",
        "best_model_weights = None\n",
        "best_val_loss = float('inf')\n",
        "\n",
        "ini_batches = [64]\n",
        "# Loop over all combinations of initial learning rates and weight decay values\n",
        "\n",
        "BATCH_SIZE = 64\n",
        "# Create DataLoader for training and validation sets\n",
        "train_loader = DataLoader(TensorDataset(X_train_split, y_train_split), batch_size=BATCH_SIZE, shuffle=True)\n",
        "val_loader = DataLoader(TensorDataset(X_val_split, y_val_split), batch_size=BATCH_SIZE, shuffle=False)\n",
        "\n",
        "for init_lr in initial_learning_rates:\n",
        "    # Initialize model, criterion, and optimizer for each combination\n",
        "    model = FuelConsumptionModel(input_size=X_train_normalized.shape[-1]).to(DEVICE)\n",
        "    optimizer = optim.Adam(model.parameters(), lr=init_lr, weight_decay=weight_decay_values)\n",
        "    scheduler = ReduceLROnPlateau(optimizer, mode='min', factor=0.5, patience=5, verbose=True)\n",
        "    # Early stopping parameters\n",
        "    patience = 20  # Number of epochs to wait before stopping if no improvement\n",
        "    best_loss = float('inf')  # Initialize best loss to infinity\n",
        "    epochs_without_improvement = 0  # Counter for epochs without improvement\n",
        "\n",
        "    # Training loop with early stopping\n",
        "    model.train()\n",
        "    for epoch in range(EPOCHS):\n",
        "        running_loss = 0.0\n",
        "        model.train()  # Ensure model is in training mode\n",
        "\n",
        "        # Training phase\n",
        "        for inputs, targets in train_loader:\n",
        "            inputs, targets = inputs.to(DEVICE), targets.to(DEVICE)  # Ensure data is on the correct device\n",
        "            optimizer.zero_grad()\n",
        "            outputs = model(inputs)\n",
        "            loss = criterion(outputs, targets)\n",
        "            loss.backward()\n",
        "            optimizer.step()\n",
        "            running_loss += loss.item()\n",
        "\n",
        "        # Calculate average loss for the epoch\n",
        "        avg_training_loss = running_loss / len(train_loader)\n",
        "\n",
        "        # Validation phase\n",
        "        model.eval()  # Switch to evaluation mode\n",
        "        val_running_loss = 0.0\n",
        "        with torch.no_grad():\n",
        "            for inputs, targets in val_loader:  # Assume you have a validation DataLoader `val_loader`\n",
        "                inputs, targets = inputs.to(DEVICE), targets.to(DEVICE)  # Ensure data is on the correct device\n",
        "                outputs = model(inputs)\n",
        "                val_loss = criterion(outputs, targets)\n",
        "                val_running_loss += val_loss.item()\n",
        "\n",
        "        avg_val_loss = val_running_loss / len(val_loader)\n",
        "\n",
        "        current_lr = optimizer.param_groups[0]['lr']\n",
        "        print(f\"Epoch [{epoch+1}/{EPOCHS}] ---- Training Loss: {avg_training_loss:.4f} ---- Validation Loss: {avg_val_loss:.6f} ------{current_lr}\")\n",
        "\n",
        "        # print(f\"Epoch [{epoch+1}/{EPOCHS}] ---- Training Loss: {avg_training_loss:.4f} ---- Validation Loss: {avg_val_loss:.4f}    Init LR: {init_lr:.0e}  WD: {wd:.0e}\")\n",
        "\n",
        "        # Adjust the learning rate\n",
        "        scheduler.step(avg_val_loss)\n",
        "\n",
        "        # Early stopping check\n",
        "        if avg_val_loss < best_loss:\n",
        "            best_loss = avg_val_loss\n",
        "            epochs_without_improvement = 0\n",
        "        else:\n",
        "            epochs_without_improvement += 1\n",
        "            if epochs_without_improvement >= patience:\n",
        "                print(f\"Early stopping at epoch {epoch+1}\")\n",
        "                break\n",
        "\n",
        "        # Save the model for the current combination\n",
        "        model_filename = f'best_fuel_consumption_model.pth'\n",
        "        torch.save(model.state_dict(), model_filename)\n",
        "\n",
        "\n",
        "print(f\"Saved model: {model_filename}\")"
      ]
    },
    {
      "cell_type": "markdown",
      "metadata": {
        "id": "QgiHLL31mUEE"
      },
      "source": []
    },
    {
      "cell_type": "markdown",
      "metadata": {
        "id": "yg9vSugumUBg"
      },
      "source": []
    },
    {
      "cell_type": "markdown",
      "metadata": {
        "id": "7o2xWWKvmT67"
      },
      "source": []
    },
    {
      "cell_type": "markdown",
      "metadata": {
        "id": "X7RXfsU_mNR8"
      },
      "source": [
        "#test"
      ]
    },
    {
      "cell_type": "code",
      "execution_count": null,
      "metadata": {
        "id": "bL109hS0blFn"
      },
      "outputs": [],
      "source": []
    },
    {
      "cell_type": "code",
      "execution_count": null,
      "metadata": {
        "id": "KWKVbu6QblCQ"
      },
      "outputs": [],
      "source": []
    },
    {
      "cell_type": "markdown",
      "metadata": {
        "id": "PT91Xk2ibldP"
      },
      "source": [
        "#Test with all saved model\n"
      ]
    },
    {
      "cell_type": "code",
      "execution_count": null,
      "metadata": {
        "colab": {
          "base_uri": "https://localhost:8080/"
        },
        "id": "VdLwyQHFWwxA",
        "outputId": "d2d3521a-7cb7-4846-d2a6-2a4cf46ed543"
      },
      "outputs": [
        {
          "name": "stdout",
          "output_type": "stream",
          "text": [
            "Testing model: best_fuel_consumption_model_batch32_l200_without_acc\n",
            "Plot saved as: /content/NEDC_1000_slope_added_predicted_vs_real_best_fuel_consumption_model_batch32_l200_without_acc.png\n",
            "CSV saved as: /content/NEDC_1000_slope_added_predicted_vs_real_best_fuel_consumption_model_batch32_l200_without_acc.csv\n",
            "Testing model: best_fuel_consumption_model_batch45_l200_without_acc\n",
            "Plot saved as: /content/NEDC_1000_slope_added_predicted_vs_real_best_fuel_consumption_model_batch45_l200_without_acc.png\n",
            "CSV saved as: /content/NEDC_1000_slope_added_predicted_vs_real_best_fuel_consumption_model_batch45_l200_without_acc.csv\n"
          ]
        }
      ],
      "source": []
    },
    {
      "cell_type": "code",
      "execution_count": null,
      "metadata": {
        "colab": {
          "base_uri": "https://localhost:8080/"
        },
        "id": "amafpYP1Wy6n",
        "outputId": "2172b3a3-deab-4c66-abc7-1843c8481e91"
      },
      "outputs": [
        {
          "name": "stdout",
          "output_type": "stream",
          "text": [
            "Testing model: best_fuel_consumption_model\n"
          ]
        },
        {
          "name": "stderr",
          "output_type": "stream",
          "text": [
            "<ipython-input-38-142e525be52e>:36: FutureWarning: You are using `torch.load` with `weights_only=False` (the current default value), which uses the default pickle module implicitly. It is possible to construct malicious pickle data which will execute arbitrary code during unpickling (See https://github.com/pytorch/pytorch/blob/main/SECURITY.md#untrusted-models for more details). In a future release, the default value for `weights_only` will be flipped to `True`. This limits the functions that could be executed during unpickling. Arbitrary objects will no longer be allowed to be loaded via this mode unless they are explicitly allowlisted by the user via `torch.serialization.add_safe_globals`. We recommend you start setting `weights_only=True` for any use case where you don't have full control of the loaded file. Please open an issue on GitHub for any issues related to this experimental feature.\n",
            "  model.load_state_dict(torch.load(model_path, map_location=DEVICE))\n"
          ]
        },
        {
          "name": "stdout",
          "output_type": "stream",
          "text": [
            "Plot saved as: NEDC_1000_slope_added_with_gear_best_fuel_consumption_model.png\n",
            "CSV saved as: /content/NEDC_1000_slope_added_with_gear_ne.csv\n"
          ]
        }
      ],
      "source": [
        "import os\n",
        "import numpy as np\n",
        "import pandas as pd\n",
        "import matplotlib.pyplot as plt\n",
        "import torch\n",
        "from torch import nn\n",
        "from sklearn.metrics import mean_absolute_error, mean_squared_error\n",
        "# Constants\n",
        "SEQUENCE_LENGTH = 600  # Updated sequence length\n",
        "PLOT_SAVE_DIR = 'predicted_vs_actual_plots'\n",
        "DEVICE = torch.device('cuda' if torch.cuda.is_available() else 'cpu')\n",
        "\n",
        "# Define the PyTorch model structure (same as the one used for training)\n",
        "class FuelConsumptionModel(nn.Module):\n",
        "    def __init__(self, input_size):\n",
        "        super(FuelConsumptionModel, self).__init__()\n",
        "        self.lstm1 = nn.LSTM(input_size,64, batch_first=True, bidirectional=True)\n",
        "        self.dropout1 = nn.Dropout(0.2)\n",
        "        self.lstm2 = nn.LSTM(128, 64, batch_first=True, bidirectional=True)\n",
        "        self.dropout2 = nn.Dropout(0.2)\n",
        "\n",
        "        self.dense = nn.Linear(128, 1)\n",
        "\n",
        "    def forward(self, x):\n",
        "        x, _ = self.lstm1(x)\n",
        "        x = self.dropout1(x)\n",
        "        x, _ = self.lstm2(x)\n",
        "        x = self.dropout2(x)\n",
        "\n",
        "        x = self.dense(x)\n",
        "        return x\n",
        "\n",
        "# Load the trained model\n",
        "def load_trained_model(model_path, input_size):\n",
        "    model = FuelConsumptionModel(input_size=input_size)\n",
        "    model.load_state_dict(torch.load(model_path, map_location=DEVICE))\n",
        "    model.to(DEVICE)\n",
        "    model.eval()\n",
        "    return model\n",
        "\n",
        "# Process the file and prepare segments\n",
        "def process_file(file_path):\n",
        "    df = pd.read_csv(file_path)\n",
        "    df['Time'] = df['Time'] - df['Time'].iloc[0]\n",
        "    df['Trip fuel consumption'] = df['Trip fuel consumption'] - df['Trip fuel consumption'].iloc[0]\n",
        "    df['Acceleration'] = df['Speed'].diff().fillna(0)\n",
        "    features = df[['Engine speed', 'Speed', 'slope', 'Acceleration']]\n",
        "    df['Momentary fuel consumption'] = df['Trip fuel consumption'].diff().fillna(0)\n",
        "\n",
        "    df['Adjusted_gear_position'] = df['gear'].replace({13: 0, 14: 1})\n",
        "\n",
        "    # Selecting features and target\n",
        "    features = df[['Adjusted_gear_position', 'Speed', 'slope', 'Acceleration','Coolant_temperature']]\n",
        "    target = df['Momentary fuel consumption']\n",
        "    return features, target\n",
        "\n",
        "# Pad and normalize the data\n",
        "def pad_and_normalize(data, sequence_length=SEQUENCE_LENGTH):\n",
        "    padded_data = np.zeros((len(data), sequence_length, data[0].shape[1]))\n",
        "    for i, seq in enumerate(data):\n",
        "        length = min(len(seq), sequence_length)\n",
        "        padded_data[i, :length] = seq[:length]\n",
        "\n",
        "    # Normalization (same as in your script)\n",
        "    min_val_x = [0, 0, -10, -10]\n",
        "    max_val_x = [6, 150, 10, 10]\n",
        "    for i in range(padded_data.shape[-1]):\n",
        "        padded_data[:, :, i] = (padded_data[:, :, i] - min_val_x[i]) / (max_val_x[i] - min_val_x[i])\n",
        "\n",
        "    return torch.tensor(padded_data, dtype=torch.float32).to(DEVICE)\n",
        "\n",
        "# Predict and plot the results\n",
        "def plot_predicted_vs_real(input_file, model, model_name):\n",
        "    features, actual_values = process_file(input_file)\n",
        "    num_segments = len(features) // SEQUENCE_LENGTH\n",
        "    predictions = []\n",
        "\n",
        "    for i in range(num_segments):\n",
        "        segment = features.iloc[i * SEQUENCE_LENGTH:(i + 1) * SEQUENCE_LENGTH]\n",
        "        segment_normalized = pad_and_normalize([segment.values])\n",
        "        with torch.no_grad():\n",
        "            segment_predictions = model(segment_normalized).cpu().numpy()\n",
        "        predictions.extend(segment_predictions.flatten() * 20000)\n",
        "\n",
        "    # Handle any remaining data\n",
        "    remainder = len(features) % SEQUENCE_LENGTH\n",
        "    if remainder != 0:\n",
        "        last_segment = features.iloc[-remainder:]\n",
        "        last_segment_normalized = pad_and_normalize([last_segment.values], sequence_length=remainder)\n",
        "        with torch.no_grad():\n",
        "            last_segment_predictions = model(last_segment_normalized).cpu().numpy()\n",
        "        predictions.extend(last_segment_predictions.flatten() * 20000)\n",
        "\n",
        "    predictions = np.array(predictions)\n",
        "\n",
        "    plt.figure(figsize=(10, 6))\n",
        "    plt.plot(np.cumsum(actual_values.values[:len(predictions)], axis=0), label='Real', color='blue')\n",
        "    plt.plot(np.cumsum(predictions[:len(actual_values)], axis=0), label='Predicted', color='red')\n",
        "    plt.xlabel('Index')\n",
        "    plt.ylabel('Fuel Consumption')\n",
        "    plt.title(f'Predicted vs Real Fuel Consumption ({model_name})')\n",
        "    plt.legend()\n",
        "\n",
        "    # Save plot using model name\n",
        "    directory, filename = os.path.split(input_file)\n",
        "    plot_filename = os.path.join(f'{os.path.splitext(filename)[0]}_{model_name}.png')\n",
        "    plt.savefig(plot_filename)\n",
        "    plt.close()\n",
        "\n",
        "    print(f\"Plot saved as: {plot_filename}\")\n",
        "\n",
        "    # Save predictions and actual values to CSV using model name\n",
        "    results_df = pd.DataFrame({\n",
        "        'Speed': features[\"Speed\"].iloc[:len(predictions)],\n",
        "        'Actual': np.cumsum(actual_values.values[:len(predictions)], axis=0),\n",
        "        'Predicted': np.cumsum(predictions[:len(actual_values)], axis=0)\n",
        "    })\n",
        "\n",
        "    csv_filename = os.path.join(directory, f'{os.path.splitext(filename)[0]}_ne.csv')\n",
        "    results_df.to_csv(csv_filename, index=False)\n",
        "    print(f\"CSV saved as: {csv_filename}\")\n",
        "\n",
        "# Paths to input file and directory with models\n",
        "input_file_path = '/content/NEDC_1000_slope_added_with_gear.csv'\n",
        "model_dir = '/content/'  # Directory containing all saved models\n",
        "\n",
        "# List all model files in the directory\n",
        "model_files = [f for f in os.listdir(model_dir) if f.endswith('.pth')]\n",
        "\n",
        "# Load and test each model\n",
        "input_size = 4  # Number of features in the input data\n",
        "\n",
        "for model_file in model_files:\n",
        "    model_path = os.path.join(model_dir, model_file)\n",
        "    model_name = os.path.splitext(model_file)[0]  # Get the base name of the model file\n",
        "    print(f\"Testing model: {model_name}\")\n",
        "\n",
        "    model = load_trained_model(model_path, input_size)\n",
        "    plot_predicted_vs_real(input_file_path, model, model_name)\n"
      ]
    },
    {
      "cell_type": "code",
      "execution_count": null,
      "metadata": {
        "id": "S3U3lS9fYF3L"
      },
      "outputs": [],
      "source": [
        "import torch.nn as nn\n",
        "import torch\n",
        "\n",
        "class FuelConsumptionModel(nn.Module):\n",
        "    def __init__(self, input_size):\n",
        "        super(FuelConsumptionModel, self).__init__()\n",
        "        # LSTM layers\n",
        "        self.lstm1 = nn.LSTM(input_size, 32, batch_first=True, bidirectional=True)\n",
        "        self.lstm2 = nn.LSTM(64, 32, batch_first=True, bidirectional=True)\n",
        "\n",
        "        # Layer Normalization after each LSTM\n",
        "        self.layer_norm1 = nn.LayerNorm(64)\n",
        "        self.layer_norm2 = nn.LayerNorm(64)\n",
        "\n",
        "        # Dropout layers\n",
        "        self.dropout1 = nn.Dropout(0.2)\n",
        "        self.dropout2 = nn.Dropout(0.2)\n",
        "\n",
        "        # Dense output layer\n",
        "        self.dense = nn.Linear(64, 1)\n",
        "\n",
        "    def forward(self, x):\n",
        "        # LSTM 1 + Layer Normalization + Dropout\n",
        "        x, _ = self.lstm1(x)\n",
        "        x = self.layer_norm1(x)  # Apply layer normalization after LSTM1\n",
        "        x = self.dropout1(x)\n",
        "\n",
        "        # LSTM 2 + Layer Normalization + Dropout\n",
        "        x, _ = self.lstm2(x)\n",
        "        x = self.layer_norm2(x)  # Apply layer normalization after LSTM2\n",
        "        x = self.dropout2(x)\n",
        "\n",
        "        # Dense layer for final output\n",
        "        x = self.dense(x)\n",
        "\n",
        "        return x\n"
      ]
    },
    {
      "cell_type": "code",
      "execution_count": null,
      "metadata": {
        "id": "nUu4AHLWYPRs"
      },
      "outputs": [],
      "source": [
        "class FuelConsumptionModel(nn.Module):\n",
        "    def __init__(self, input_size):\n",
        "        super(FuelConsumptionModel, self).__init__()\n",
        "        self.lstm1 = nn.LSTM(input_size,32, batch_first=True, bidirectional=True)\n",
        "        self.dropout1 = nn.Dropout(0.2)\n",
        "        self.lstm2 = nn.LSTM(64, 32, batch_first=True, bidirectional=True)\n",
        "        self.dropout2 = nn.Dropout(0.2)\n",
        "\n",
        "        self.dense = nn.Linear(64, 1)\n",
        "\n",
        "    def forward(self, x):\n",
        "        x, _ = self.lstm1(x)\n",
        "        x = self.dropout1(x)\n",
        "        x, _ = self.lstm2(x)\n",
        "        x = self.dropout2(x)\n",
        "\n",
        "        x = self.dense(x)\n",
        "        return x"
      ]
    },
    {
      "cell_type": "code",
      "execution_count": 45,
      "metadata": {
        "colab": {
          "base_uri": "https://localhost:8080/"
        },
        "id": "9vfRAe8DYqq9",
        "outputId": "5748fcf1-0b03-440e-d591-b1f1b45a95ed"
      },
      "outputs": [
        {
          "output_type": "stream",
          "name": "stderr",
          "text": [
            "<ipython-input-45-a2f63ed0cbae>:26: FutureWarning: You are using `torch.load` with `weights_only=False` (the current default value), which uses the default pickle module implicitly. It is possible to construct malicious pickle data which will execute arbitrary code during unpickling (See https://github.com/pytorch/pytorch/blob/main/SECURITY.md#untrusted-models for more details). In a future release, the default value for `weights_only` will be flipped to `True`. This limits the functions that could be executed during unpickling. Arbitrary objects will no longer be allowed to be loaded via this mode unless they are explicitly allowlisted by the user via `torch.serialization.add_safe_globals`. We recommend you start setting `weights_only=True` for any use case where you don't have full control of the loaded file. Please open an issue on GitHub for any issues related to this experimental feature.\n",
            "  model.load_state_dict(torch.load(model_path, map_location=DEVICE))\n",
            "<ipython-input-45-a2f63ed0cbae>:92: RuntimeWarning: divide by zero encountered in divide\n",
            "  mape = np.mean(np.abs((actual_valuess - predictions) / actual_valuess)) * 100\n"
          ]
        },
        {
          "output_type": "stream",
          "name": "stdout",
          "text": [
            "MAE: 142.3845---------------/content/18sh_Sheet2_slope_added.csv\n",
            "MSE: 53696.8119\n",
            "MAPE: inf% ---------------------\n",
            "CSV saved as: predicted_vs_actual_plots/coolant_2labeld/18sh_Sheet2_slope_added.csv\n"
          ]
        },
        {
          "output_type": "stream",
          "name": "stderr",
          "text": [
            "<ipython-input-45-a2f63ed0cbae>:26: FutureWarning: You are using `torch.load` with `weights_only=False` (the current default value), which uses the default pickle module implicitly. It is possible to construct malicious pickle data which will execute arbitrary code during unpickling (See https://github.com/pytorch/pytorch/blob/main/SECURITY.md#untrusted-models for more details). In a future release, the default value for `weights_only` will be flipped to `True`. This limits the functions that could be executed during unpickling. Arbitrary objects will no longer be allowed to be loaded via this mode unless they are explicitly allowlisted by the user via `torch.serialization.add_safe_globals`. We recommend you start setting `weights_only=True` for any use case where you don't have full control of the loaded file. Please open an issue on GitHub for any issues related to this experimental feature.\n",
            "  model.load_state_dict(torch.load(model_path, map_location=DEVICE))\n",
            "<ipython-input-45-a2f63ed0cbae>:92: RuntimeWarning: divide by zero encountered in divide\n",
            "  mape = np.mean(np.abs((actual_valuess - predictions) / actual_valuess)) * 100\n"
          ]
        },
        {
          "output_type": "stream",
          "name": "stdout",
          "text": [
            "MAE: 140.2884---------------/content/18sh_Sheet4_slope_added.csv\n",
            "MSE: 45930.1980\n",
            "MAPE: inf% ---------------------\n",
            "CSV saved as: predicted_vs_actual_plots/coolant_2labeld/18sh_Sheet4_slope_added.csv\n"
          ]
        },
        {
          "output_type": "stream",
          "name": "stderr",
          "text": [
            "<ipython-input-45-a2f63ed0cbae>:26: FutureWarning: You are using `torch.load` with `weights_only=False` (the current default value), which uses the default pickle module implicitly. It is possible to construct malicious pickle data which will execute arbitrary code during unpickling (See https://github.com/pytorch/pytorch/blob/main/SECURITY.md#untrusted-models for more details). In a future release, the default value for `weights_only` will be flipped to `True`. This limits the functions that could be executed during unpickling. Arbitrary objects will no longer be allowed to be loaded via this mode unless they are explicitly allowlisted by the user via `torch.serialization.add_safe_globals`. We recommend you start setting `weights_only=True` for any use case where you don't have full control of the loaded file. Please open an issue on GitHub for any issues related to this experimental feature.\n",
            "  model.load_state_dict(torch.load(model_path, map_location=DEVICE))\n",
            "<ipython-input-45-a2f63ed0cbae>:92: RuntimeWarning: divide by zero encountered in divide\n",
            "  mape = np.mean(np.abs((actual_valuess - predictions) / actual_valuess)) * 100\n"
          ]
        },
        {
          "output_type": "stream",
          "name": "stdout",
          "text": [
            "MAE: 163.1322---------------/content/21sh_Sheet1_slope_added.csv\n",
            "MSE: 60501.3479\n",
            "MAPE: inf% ---------------------\n",
            "CSV saved as: predicted_vs_actual_plots/coolant_2labeld/21sh_Sheet1_slope_added.csv\n"
          ]
        },
        {
          "output_type": "stream",
          "name": "stderr",
          "text": [
            "<ipython-input-45-a2f63ed0cbae>:26: FutureWarning: You are using `torch.load` with `weights_only=False` (the current default value), which uses the default pickle module implicitly. It is possible to construct malicious pickle data which will execute arbitrary code during unpickling (See https://github.com/pytorch/pytorch/blob/main/SECURITY.md#untrusted-models for more details). In a future release, the default value for `weights_only` will be flipped to `True`. This limits the functions that could be executed during unpickling. Arbitrary objects will no longer be allowed to be loaded via this mode unless they are explicitly allowlisted by the user via `torch.serialization.add_safe_globals`. We recommend you start setting `weights_only=True` for any use case where you don't have full control of the loaded file. Please open an issue on GitHub for any issues related to this experimental feature.\n",
            "  model.load_state_dict(torch.load(model_path, map_location=DEVICE))\n",
            "<ipython-input-45-a2f63ed0cbae>:92: RuntimeWarning: divide by zero encountered in divide\n",
            "  mape = np.mean(np.abs((actual_valuess - predictions) / actual_valuess)) * 100\n"
          ]
        },
        {
          "output_type": "stream",
          "name": "stdout",
          "text": [
            "MAE: 98.2878---------------/content/18sh_Sheet5_slope_added.csv\n",
            "MSE: 26829.3821\n",
            "MAPE: inf% ---------------------\n",
            "CSV saved as: predicted_vs_actual_plots/coolant_2labeld/18sh_Sheet5_slope_added.csv\n"
          ]
        },
        {
          "output_type": "stream",
          "name": "stderr",
          "text": [
            "<ipython-input-45-a2f63ed0cbae>:26: FutureWarning: You are using `torch.load` with `weights_only=False` (the current default value), which uses the default pickle module implicitly. It is possible to construct malicious pickle data which will execute arbitrary code during unpickling (See https://github.com/pytorch/pytorch/blob/main/SECURITY.md#untrusted-models for more details). In a future release, the default value for `weights_only` will be flipped to `True`. This limits the functions that could be executed during unpickling. Arbitrary objects will no longer be allowed to be loaded via this mode unless they are explicitly allowlisted by the user via `torch.serialization.add_safe_globals`. We recommend you start setting `weights_only=True` for any use case where you don't have full control of the loaded file. Please open an issue on GitHub for any issues related to this experimental feature.\n",
            "  model.load_state_dict(torch.load(model_path, map_location=DEVICE))\n",
            "<ipython-input-45-a2f63ed0cbae>:92: RuntimeWarning: divide by zero encountered in divide\n",
            "  mape = np.mean(np.abs((actual_valuess - predictions) / actual_valuess)) * 100\n"
          ]
        },
        {
          "output_type": "stream",
          "name": "stdout",
          "text": [
            "MAE: 163.0376---------------/content/21sh_Sheet2_slope_added.csv\n",
            "MSE: 71711.7085\n",
            "MAPE: inf% ---------------------\n",
            "CSV saved as: predicted_vs_actual_plots/coolant_2labeld/21sh_Sheet2_slope_added.csv\n"
          ]
        },
        {
          "output_type": "stream",
          "name": "stderr",
          "text": [
            "<ipython-input-45-a2f63ed0cbae>:26: FutureWarning: You are using `torch.load` with `weights_only=False` (the current default value), which uses the default pickle module implicitly. It is possible to construct malicious pickle data which will execute arbitrary code during unpickling (See https://github.com/pytorch/pytorch/blob/main/SECURITY.md#untrusted-models for more details). In a future release, the default value for `weights_only` will be flipped to `True`. This limits the functions that could be executed during unpickling. Arbitrary objects will no longer be allowed to be loaded via this mode unless they are explicitly allowlisted by the user via `torch.serialization.add_safe_globals`. We recommend you start setting `weights_only=True` for any use case where you don't have full control of the loaded file. Please open an issue on GitHub for any issues related to this experimental feature.\n",
            "  model.load_state_dict(torch.load(model_path, map_location=DEVICE))\n",
            "<ipython-input-45-a2f63ed0cbae>:92: RuntimeWarning: divide by zero encountered in divide\n",
            "  mape = np.mean(np.abs((actual_valuess - predictions) / actual_valuess)) * 100\n"
          ]
        },
        {
          "output_type": "stream",
          "name": "stdout",
          "text": [
            "MAE: 138.7189---------------/content/2_slope_added.csv\n",
            "MSE: 61290.4187\n",
            "MAPE: inf% ---------------------\n",
            "CSV saved as: predicted_vs_actual_plots/coolant_2labeld/2_slope_added.csv\n",
            "MAE: 150.0474---------------/content/1-20.csv\n",
            "MSE: 55331.2898\n",
            "MAPE: inf% ---------------------\n"
          ]
        },
        {
          "output_type": "stream",
          "name": "stderr",
          "text": [
            "<ipython-input-45-a2f63ed0cbae>:26: FutureWarning: You are using `torch.load` with `weights_only=False` (the current default value), which uses the default pickle module implicitly. It is possible to construct malicious pickle data which will execute arbitrary code during unpickling (See https://github.com/pytorch/pytorch/blob/main/SECURITY.md#untrusted-models for more details). In a future release, the default value for `weights_only` will be flipped to `True`. This limits the functions that could be executed during unpickling. Arbitrary objects will no longer be allowed to be loaded via this mode unless they are explicitly allowlisted by the user via `torch.serialization.add_safe_globals`. We recommend you start setting `weights_only=True` for any use case where you don't have full control of the loaded file. Please open an issue on GitHub for any issues related to this experimental feature.\n",
            "  model.load_state_dict(torch.load(model_path, map_location=DEVICE))\n",
            "<ipython-input-45-a2f63ed0cbae>:92: RuntimeWarning: divide by zero encountered in divide\n",
            "  mape = np.mean(np.abs((actual_valuess - predictions) / actual_valuess)) * 100\n"
          ]
        },
        {
          "output_type": "stream",
          "name": "stdout",
          "text": [
            "CSV saved as: predicted_vs_actual_plots/coolant_2labeld/1-20.csv\n",
            "MAE: 139.3927---------------/content/18sh_Sheet1_slope_added.csv\n",
            "MSE: 55179.1304\n",
            "MAPE: inf% ---------------------\n"
          ]
        },
        {
          "output_type": "stream",
          "name": "stderr",
          "text": [
            "<ipython-input-45-a2f63ed0cbae>:26: FutureWarning: You are using `torch.load` with `weights_only=False` (the current default value), which uses the default pickle module implicitly. It is possible to construct malicious pickle data which will execute arbitrary code during unpickling (See https://github.com/pytorch/pytorch/blob/main/SECURITY.md#untrusted-models for more details). In a future release, the default value for `weights_only` will be flipped to `True`. This limits the functions that could be executed during unpickling. Arbitrary objects will no longer be allowed to be loaded via this mode unless they are explicitly allowlisted by the user via `torch.serialization.add_safe_globals`. We recommend you start setting `weights_only=True` for any use case where you don't have full control of the loaded file. Please open an issue on GitHub for any issues related to this experimental feature.\n",
            "  model.load_state_dict(torch.load(model_path, map_location=DEVICE))\n",
            "<ipython-input-45-a2f63ed0cbae>:92: RuntimeWarning: divide by zero encountered in divide\n",
            "  mape = np.mean(np.abs((actual_valuess - predictions) / actual_valuess)) * 100\n"
          ]
        },
        {
          "output_type": "stream",
          "name": "stdout",
          "text": [
            "CSV saved as: predicted_vs_actual_plots/coolant_2labeld/18sh_Sheet1_slope_added.csv\n",
            "MAE: 150.3940---------------/content/1_slope_added.csv\n",
            "MSE: 52009.3318\n",
            "MAPE: inf% ---------------------\n"
          ]
        },
        {
          "output_type": "stream",
          "name": "stderr",
          "text": [
            "<ipython-input-45-a2f63ed0cbae>:26: FutureWarning: You are using `torch.load` with `weights_only=False` (the current default value), which uses the default pickle module implicitly. It is possible to construct malicious pickle data which will execute arbitrary code during unpickling (See https://github.com/pytorch/pytorch/blob/main/SECURITY.md#untrusted-models for more details). In a future release, the default value for `weights_only` will be flipped to `True`. This limits the functions that could be executed during unpickling. Arbitrary objects will no longer be allowed to be loaded via this mode unless they are explicitly allowlisted by the user via `torch.serialization.add_safe_globals`. We recommend you start setting `weights_only=True` for any use case where you don't have full control of the loaded file. Please open an issue on GitHub for any issues related to this experimental feature.\n",
            "  model.load_state_dict(torch.load(model_path, map_location=DEVICE))\n",
            "<ipython-input-45-a2f63ed0cbae>:92: RuntimeWarning: divide by zero encountered in divide\n",
            "  mape = np.mean(np.abs((actual_valuess - predictions) / actual_valuess)) * 100\n"
          ]
        },
        {
          "output_type": "stream",
          "name": "stdout",
          "text": [
            "CSV saved as: predicted_vs_actual_plots/coolant_2labeld/1_slope_added.csv\n",
            "MAE: 142.4409---------------/content/18sh_Sheet7_slope_added.csv\n",
            "MSE: 48624.3823\n",
            "MAPE: inf% ---------------------\n"
          ]
        },
        {
          "output_type": "stream",
          "name": "stderr",
          "text": [
            "<ipython-input-45-a2f63ed0cbae>:26: FutureWarning: You are using `torch.load` with `weights_only=False` (the current default value), which uses the default pickle module implicitly. It is possible to construct malicious pickle data which will execute arbitrary code during unpickling (See https://github.com/pytorch/pytorch/blob/main/SECURITY.md#untrusted-models for more details). In a future release, the default value for `weights_only` will be flipped to `True`. This limits the functions that could be executed during unpickling. Arbitrary objects will no longer be allowed to be loaded via this mode unless they are explicitly allowlisted by the user via `torch.serialization.add_safe_globals`. We recommend you start setting `weights_only=True` for any use case where you don't have full control of the loaded file. Please open an issue on GitHub for any issues related to this experimental feature.\n",
            "  model.load_state_dict(torch.load(model_path, map_location=DEVICE))\n",
            "<ipython-input-45-a2f63ed0cbae>:92: RuntimeWarning: divide by zero encountered in divide\n",
            "  mape = np.mean(np.abs((actual_valuess - predictions) / actual_valuess)) * 100\n"
          ]
        },
        {
          "output_type": "stream",
          "name": "stdout",
          "text": [
            "CSV saved as: predicted_vs_actual_plots/coolant_2labeld/18sh_Sheet7_slope_added.csv\n",
            "MAE: 112.0554---------------/content/18sh_Sheet8_slope_added.csv\n",
            "MSE: 32566.2489\n",
            "MAPE: inf% ---------------------\n"
          ]
        },
        {
          "output_type": "stream",
          "name": "stderr",
          "text": [
            "<ipython-input-45-a2f63ed0cbae>:26: FutureWarning: You are using `torch.load` with `weights_only=False` (the current default value), which uses the default pickle module implicitly. It is possible to construct malicious pickle data which will execute arbitrary code during unpickling (See https://github.com/pytorch/pytorch/blob/main/SECURITY.md#untrusted-models for more details). In a future release, the default value for `weights_only` will be flipped to `True`. This limits the functions that could be executed during unpickling. Arbitrary objects will no longer be allowed to be loaded via this mode unless they are explicitly allowlisted by the user via `torch.serialization.add_safe_globals`. We recommend you start setting `weights_only=True` for any use case where you don't have full control of the loaded file. Please open an issue on GitHub for any issues related to this experimental feature.\n",
            "  model.load_state_dict(torch.load(model_path, map_location=DEVICE))\n",
            "<ipython-input-45-a2f63ed0cbae>:92: RuntimeWarning: divide by zero encountered in divide\n",
            "  mape = np.mean(np.abs((actual_valuess - predictions) / actual_valuess)) * 100\n"
          ]
        },
        {
          "output_type": "stream",
          "name": "stdout",
          "text": [
            "CSV saved as: predicted_vs_actual_plots/coolant_2labeld/18sh_Sheet8_slope_added.csv\n"
          ]
        }
      ],
      "source": [
        "import os\n",
        "from sklearn.metrics import mean_absolute_error, mean_squared_error\n",
        "\n",
        "import numpy as np\n",
        "import pandas as pd\n",
        "import matplotlib.pyplot as plt\n",
        "import torch\n",
        "from torch import nn\n",
        "import torch.nn as nn\n",
        "import torch\n",
        "\n",
        "# Constants\n",
        "SEQUENCE_LENGTH = 600  # Updated sequence length\n",
        "PLOT_SAVE_DIR = 'predicted_vs_actual_plots'  # Base directory to save plots and CSVs\n",
        "DEVICE = torch.device('cuda' if torch.cuda.is_available() else 'cpu')\n",
        "\n",
        "# Ensure the base save directory exists\n",
        "os.makedirs(PLOT_SAVE_DIR, exist_ok=True)\n",
        "\n",
        "# Define the PyTorch model structure (same as the one used for training)\n",
        "\n",
        "\n",
        "# Load the trained model\n",
        "def load_trained_model(model_path, input_size):\n",
        "    model = FuelConsumptionModel(input_size=input_size)\n",
        "    model.load_state_dict(torch.load(model_path, map_location=DEVICE))\n",
        "    model.to(DEVICE)\n",
        "    model.eval()\n",
        "    return model\n",
        "\n",
        "# Process the file and prepare segments\n",
        "def process_file(file_path):\n",
        "    df = pd.read_csv(file_path)\n",
        "    # df = df.iloc[::2].reset_index(drop=True)\n",
        "    df['Time'] = df['time'] - df['time'].iloc[0]\n",
        "    df['Trip fuel consumption'] = df['Trip_fuel_consumption'] - df['Trip_fuel_consumption'].iloc[0]\n",
        "    df['Acceleration'] = df['Vehicle_Speed'].diff().fillna(0)\n",
        "    df['Momentary fuel consumption'] = df['Trip fuel consumption'].diff().fillna(0)\n",
        "\n",
        "    df['Adjusted_gear_position'] = df['Current_gear_shift_position_(Current_gear)'].replace({13: 0.2, 14: 1})\n",
        "\n",
        "    # Selecting features and target\n",
        "    features = df[['Adjusted_gear_position', 'Vehicle_Speed', 'slope', 'Acceleration','Coolant_temperature']]\n",
        "    target = df['Momentary fuel consumption']\n",
        "    target = df['Momentary fuel consumption']\n",
        "    return features, target\n",
        "\n",
        "# Pad and normalize the data\n",
        "def pad_and_normalize(data, sequence_length=SEQUENCE_LENGTH):\n",
        "    padded_data = np.zeros((len(data), sequence_length, data[0].shape[1]))\n",
        "    for i, seq in enumerate(data):\n",
        "        length = min(len(seq), sequence_length)\n",
        "        padded_data[i, :length] = seq[:length]\n",
        "\n",
        "    # Normalization (same as in your script)\n",
        "    min_val_x = [0, 0, -10, -10,0]\n",
        "    max_val_x = [6, 150, 10, 10,1]\n",
        "    for i in range(padded_data.shape[-1]):\n",
        "        padded_data[:, :, i] = (padded_data[:, :, i] - min_val_x[i]) / (max_val_x[i] - min_val_x[i])\n",
        "\n",
        "    return torch.tensor(padded_data, dtype=torch.float32).to(DEVICE)\n",
        "\n",
        "\n",
        "# Predict and plot the results\n",
        "def plot_predicted_vs_real(input_file, model, model_name):\n",
        "    features, actual_values = process_file(input_file)\n",
        "    num_segments = len(features) // SEQUENCE_LENGTH\n",
        "    predictions = []\n",
        "\n",
        "    for i in range(num_segments):\n",
        "        segment = features.iloc[i * SEQUENCE_LENGTH:(i + 1) * SEQUENCE_LENGTH]\n",
        "        segment_normalized = pad_and_normalize([segment.values])\n",
        "        with torch.no_grad():\n",
        "            segment_predictions = model(segment_normalized).cpu().numpy()\n",
        "        predictions.extend(segment_predictions.flatten() * 10000)\n",
        "\n",
        "    # Handle any remaining data\n",
        "    remainder = len(features) % SEQUENCE_LENGTH\n",
        "    if remainder != 0:\n",
        "        last_segment = features.iloc[-remainder:]\n",
        "        last_segment_normalized = pad_and_normalize([last_segment.values], sequence_length=remainder)\n",
        "        with torch.no_grad():\n",
        "            last_segment_predictions = model(last_segment_normalized).cpu().numpy()\n",
        "        predictions.extend(last_segment_predictions.flatten() * 10000)\n",
        "\n",
        "    predictions = np.array(predictions)\n",
        "    actual_valuess = actual_values.values[:len(predictions)]  # Ensure lengths match\n",
        "\n",
        "    # Calculate error metrics\n",
        "    mae = mean_absolute_error(actual_valuess, predictions)\n",
        "    mse = mean_squared_error(actual_valuess, predictions)\n",
        "    mape = np.mean(np.abs((actual_valuess - predictions) / actual_valuess)) * 100\n",
        "\n",
        "    print(f'MAE: {mae:.4f}---------------{input_file}')\n",
        "    print(f'MSE: {mse:.4f}')\n",
        "    print(f'MAPE: {mape:.4f}% ---------------------')\n",
        "\n",
        "    plt.figure(figsize=(10, 6))\n",
        "    plt.plot(np.cumsum(actual_values.values[:len(predictions)], axis=0), label='Real', color='blue')\n",
        "    plt.plot(np.cumsum(predictions[:len(actual_values)], axis=0), label='Predicted', color='red')\n",
        "    plt.xlabel('Index')\n",
        "    plt.ylabel('Fuel Consumption')\n",
        "    plt.title(f'Predicted vs Real Fuel Consumption ({model_name})')\n",
        "    plt.legend()\n",
        "\n",
        "    # Create model-specific directory\n",
        "    model_save_dir = os.path.join(PLOT_SAVE_DIR, model_name)\n",
        "    os.makedirs(model_save_dir, exist_ok=True)\n",
        "\n",
        "    # Save plot using model name in the designated directory\n",
        "    plot_filename = os.path.join(model_save_dir, f'{os.path.splitext(os.path.basename(input_file))[0]}_all.png')\n",
        "    plt.savefig(plot_filename)\n",
        "    plt.close()\n",
        "\n",
        "    # print(f\"Plot saved as: {plot_filename}\")\n",
        "\n",
        "    # Save predictions and actual values to CSV using model name in the designated directory\n",
        "    results_df = pd.DataFrame({\n",
        "        'Speed': features[\"Vehicle_Speed\"].iloc[:len(predictions)],\n",
        "        'Actual': np.cumsum(actual_values.values[:len(predictions)], axis=0),\n",
        "        'Predicted': np.cumsum(predictions[:len(actual_values)], axis=0)\n",
        "    })\n",
        "\n",
        "    csv_filename = os.path.join(model_save_dir, f'{os.path.splitext(os.path.basename(input_file))[0]}.csv')\n",
        "    results_df.to_csv(csv_filename, index=False)\n",
        "    print(f\"CSV saved as: {csv_filename}\")\n",
        "# Directory containing all saved models and CSV files\n",
        "csv_dir = '/content/'  # Directory containing CSV files\n",
        "model_dir = '/content/'  # Directory containing model files\n",
        "\n",
        "# List all model files in the directory\n",
        "model_files = [f for f in os.listdir(model_dir) if f.endswith('.pth')]\n",
        "\n",
        "# List all CSV files in the directory\n",
        "csv_files = [f for f in os.listdir(csv_dir) if f.endswith('.csv')]\n",
        "\n",
        "# Load and test each model on each CSV file\n",
        "input_size = 5  # Number of features in the input data\n",
        "\n",
        "for csv_file in csv_files:\n",
        "    csv_file_path = os.path.join(csv_dir, csv_file)\n",
        "    # print(f\"Processing CSV file: {csv_file}\")\n",
        "\n",
        "    for model_file in model_files:\n",
        "        model_path = os.path.join(model_dir, model_file)\n",
        "        model_name = os.path.splitext(model_file)[0]  # Get the base name of the model file\n",
        "        # print(f\"Testing model: {model_name} on {csv_file}\")\n",
        "\n",
        "        model = load_trained_model(model_path, input_size)\n",
        "        plot_predicted_vs_real(csv_file_path, model, model_name)\n"
      ]
    },
    {
      "cell_type": "code",
      "execution_count": 41,
      "metadata": {
        "id": "ypRXnIRHZK15"
      },
      "outputs": [],
      "source": [
        "!rm -r '/content/predicted_vs_actual_plots'"
      ]
    },
    {
      "cell_type": "code",
      "execution_count": 46,
      "metadata": {
        "colab": {
          "base_uri": "https://localhost:8080/"
        },
        "id": "ld0z9cg9-Fth",
        "outputId": "85761b4f-f301-43e3-bf7f-d06d24a5067e"
      },
      "outputs": [
        {
          "output_type": "stream",
          "name": "stdout",
          "text": [
            "  adding: predicted_vs_actual_plots/ (stored 0%)\n",
            "  adding: predicted_vs_actual_plots/coolant_2labeld/ (stored 0%)\n",
            "  adding: predicted_vs_actual_plots/coolant_2labeld/18sh_Sheet8_slope_added_all.png (deflated 8%)\n",
            "  adding: predicted_vs_actual_plots/coolant_2labeld/18sh_Sheet2_slope_added.csv (deflated 59%)\n",
            "  adding: predicted_vs_actual_plots/coolant_2labeld/18sh_Sheet4_slope_added_all.png (deflated 9%)\n",
            "  adding: predicted_vs_actual_plots/coolant_2labeld/21sh_Sheet1_slope_added_all.png (deflated 9%)\n",
            "  adding: predicted_vs_actual_plots/coolant_2labeld/21sh_Sheet2_slope_added_all.png (deflated 9%)\n",
            "  adding: predicted_vs_actual_plots/coolant_2labeld/2_slope_added_all.png (deflated 9%)\n",
            "  adding: predicted_vs_actual_plots/coolant_2labeld/18sh_Sheet4_slope_added.csv (deflated 60%)\n",
            "  adding: predicted_vs_actual_plots/coolant_2labeld/18sh_Sheet2_slope_added_all.png (deflated 9%)\n",
            "  adding: predicted_vs_actual_plots/coolant_2labeld/21sh_Sheet1_slope_added.csv (deflated 60%)\n",
            "  adding: predicted_vs_actual_plots/coolant_2labeld/18sh_Sheet5_slope_added.csv (deflated 60%)\n",
            "  adding: predicted_vs_actual_plots/coolant_2labeld/18sh_Sheet5_slope_added_all.png (deflated 9%)\n",
            "  adding: predicted_vs_actual_plots/coolant_2labeld/21sh_Sheet2_slope_added.csv (deflated 61%)\n",
            "  adding: predicted_vs_actual_plots/coolant_2labeld/2_slope_added.csv (deflated 60%)\n",
            "  adding: predicted_vs_actual_plots/coolant_2labeld/1-20.csv (deflated 61%)\n",
            "  adding: predicted_vs_actual_plots/coolant_2labeld/18sh_Sheet1_slope_added.csv (deflated 60%)\n",
            "  adding: predicted_vs_actual_plots/coolant_2labeld/18sh_Sheet7_slope_added_all.png (deflated 9%)\n",
            "  adding: predicted_vs_actual_plots/coolant_2labeld/18sh_Sheet1_slope_added_all.png (deflated 9%)\n",
            "  adding: predicted_vs_actual_plots/coolant_2labeld/1_slope_added_all.png (deflated 9%)\n",
            "  adding: predicted_vs_actual_plots/coolant_2labeld/1_slope_added.csv (deflated 59%)\n",
            "  adding: predicted_vs_actual_plots/coolant_2labeld/1-20_all.png (deflated 9%)\n",
            "  adding: predicted_vs_actual_plots/coolant_2labeld/18sh_Sheet7_slope_added.csv (deflated 59%)\n",
            "  adding: predicted_vs_actual_plots/coolant_2labeld/18sh_Sheet8_slope_added.csv (deflated 60%)\n"
          ]
        }
      ],
      "source": [
        "!zip -r predicted_vs_actual_plots.zip predicted_vs_actual_plots"
      ]
    }
  ],
  "metadata": {
    "accelerator": "GPU",
    "colab": {
      "gpuType": "T4",
      "provenance": []
    },
    "kernelspec": {
      "display_name": "Python 3",
      "name": "python3"
    },
    "language_info": {
      "name": "python"
    }
  },
  "nbformat": 4,
  "nbformat_minor": 0
}
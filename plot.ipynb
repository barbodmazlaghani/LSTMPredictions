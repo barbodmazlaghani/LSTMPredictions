{
 "cells": [
  {
   "cell_type": "code",
   "execution_count": 24,
   "metadata": {},
   "outputs": [],
   "source": [
    "import pandas as pd\n"
   ]
  },
  {
   "cell_type": "code",
   "execution_count": 22,
   "metadata": {},
   "outputs": [],
   "source": [
    "import os\n",
    "import pandas as pd\n",
    "import matplotlib.pyplot as plt\n",
    "\n",
    "def plot_and_save_speed_vs_actual_predicted_dual_y(root_folder):\n",
    "    # Walk through the directory tree to find all CSV files\n",
    "    for dirpath, _, filenames in os.walk(root_folder):\n",
    "        for file_name in filenames:\n",
    "            if file_name.endswith(\".csv\"):\n",
    "                file_path = os.path.join(dirpath, file_name)\n",
    "\n",
    "                # Read the CSV file\n",
    "                data = pd.read_csv(file_path)\n",
    "\n",
    "                # Check if the file contains the required columns\n",
    "                if all(col in data.columns for col in ['Predicted', 'Actual']):\n",
    "                    \n",
    "                        fig, ax1 = plt.subplots(figsize=(10, 6))\n",
    "                        data['Actualm'] = data['Actual'].diff().shift(-1)\n",
    "                        # data['Actualm'] = data['Acc']\n",
    "\n",
    "                        \n",
    "                        data['Predictedm'] = data['Predicted']\n",
    "                        # data['Predictedm'] = data['Predicted_sum']\n",
    "                        \n",
    "\n",
    "                        # Plot Actual and Predicted on the left y-axis\n",
    "                        ax1.set_xlabel('Index')\n",
    "                        ax1.set_ylabel('Actual and Predicted', color='black')\n",
    "                        ax1.plot(data.index, data['Actualm'], label='Actual', color='blue', linestyle='-')\n",
    "                        ax1.plot(data.index, data['Predictedm'], label='Predicted', color='red', linestyle='-')\n",
    "                        ax1.tick_params(axis='y', labelcolor='black')\n",
    "                        ax1.legend(loc='upper left')\n",
    "\n",
    "                        # Add a title\n",
    "                        plt.title(f'Speed vs Actual and Predicted - {file_name}')\n",
    "\n",
    "                        # Save the plot next to the CSV file\n",
    "                        output_file = os.path.join(dirpath, f\"{os.path.splitext(file_name)[0]}_plot.png\")\n",
    "                        plt.savefig(output_file)\n",
    "                        plt.close()  # Close the plot to free memory\n",
    "                        print(f\"Plot saved to {output_file}\")\n",
    "                else:\n",
    "                    print(f\"File {file_name} does not contain the required columns.\")\n",
    "\n",
    "\n",
    "\n"
   ]
  },
  {
   "cell_type": "code",
   "execution_count": 23,
   "metadata": {},
   "outputs": [
    {
     "name": "stdout",
     "output_type": "stream",
     "text": [
      "File tc+at(k125)_1000ms.csv does not contain the required columns.\n",
      "Plot saved to C:\\Users\\s_alizadehnia\\Desktop\\LSTMPredictions\\Extended\\Reera_rajab_11\\tc+at(k125)_1000ms_600_plot.png\n"
     ]
    }
   ],
   "source": [
    "# Specify the root folder path where your CSV files are stored\n",
    "root_folder = r'C:\\Users\\s_alizadehnia\\Desktop\\LSTMPredictions\\Extended\\Reera_rajab_11'\n",
    "\n",
    "# Call the function to generate and save plots for all CSV files\n",
    "plot_and_save_speed_vs_actual_predicted_dual_y(root_folder)\n",
    "\n"
   ]
  },
  {
   "cell_type": "code",
   "execution_count": 3,
   "metadata": {},
   "outputs": [],
   "source": [
    "import os\n",
    "import pandas as pd\n",
    "import matplotlib.pyplot as plt\n",
    "\n",
    "def plot_and_save_speed_vs_actual_predicted_dual_y(root_folder):\n",
    "    # Walk through the directory tree to find all CSV files\n",
    "    for dirpath, _, filenames in os.walk(root_folder):\n",
    "        for file_name in filenames:\n",
    "            if file_name.endswith(\".csv\"):\n",
    "                file_path = os.path.join(dirpath, file_name)\n",
    "\n",
    "                # Read the CSV file\n",
    "                data = pd.read_csv(file_path)\n",
    "\n",
    "                # Check if the file contains the required columns\n",
    "                if all(col in data.columns for col in ['slope']):\n",
    "                    fig, ax1 = plt.subplots(figsize=(10, 6))\n",
    "                    # data['Actualm'] = data['rate']\n",
    "                    # data['Predictedm'] = data['Predicted']\n",
    "\n",
    "                    # Plot Actual and Predicted on the left y-axis\n",
    "                    ax1.set_xlabel('Index')\n",
    "                    ax1.set_ylabel('Actual and Predicted', color='black')\n",
    "                    ax1.plot(data.index, data['slope'], label='slope', color='blue', linestyle='-')\n",
    "                    # ax1.plot(data.index, data['Predictedm'], label='Predicted', color='red', linestyle='-')\n",
    "                    ax1.tick_params(axis='y', labelcolor='black')\n",
    "                    ax1.legend(loc='upper left')\n",
    "\n",
    "                    # Add a title\n",
    "                    plt.title(f'Speed vs Actual and Predicted - {file_name}')\n",
    "\n",
    "                    # Save the plot next to the CSV file\n",
    "                    output_file = os.path.join(dirpath, f\"{os.path.splitext(file_name)[0]}_plot_slope.png\")\n",
    "                    plt.savefig(output_file)\n",
    "                    plt.close()  # Close the plot to free memory\n",
    "                    print(f\"Plot saved to {output_file}\")\n",
    "                \n",
    "                else:\n",
    "                    print(f\"File {file_name} does not contain the required columns.\")\n",
    "\n",
    "\n",
    "\n"
   ]
  }
 ],
 "metadata": {
  "kernelspec": {
   "display_name": "base",
   "language": "python",
   "name": "python3"
  },
  "language_info": {
   "codemirror_mode": {
    "name": "ipython",
    "version": 3
   },
   "file_extension": ".py",
   "mimetype": "text/x-python",
   "name": "python",
   "nbconvert_exporter": "python",
   "pygments_lexer": "ipython3",
   "version": "3.11.3"
  }
 },
 "nbformat": 4,
 "nbformat_minor": 2
}
